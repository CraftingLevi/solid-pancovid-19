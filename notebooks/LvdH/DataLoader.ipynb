{
 "cells": [
  {
   "cell_type": "markdown",
   "metadata": {},
   "source": [
    "# TASK FOCUS \n",
    "\n",
    "Task Details\n",
    "\n",
    "What has been published about medical care? What has been published concerning surge capacity and nursing homes? What has been published concerning efforts to inform allocation of scarce resources? What do we know about personal protective equipment? What has been published concerning alternative methods to advise on disease management? What has been published concerning processes of care? What do we know about the clinical characterization and management of the virus?\n",
    "\n",
    "Specifically, we want to know what the literature reports about:\n",
    "\n",
    "   - Resources to support skilled nursing facilities and long term care facilities.\n",
    "   - Mobilization of surge medical staff to address shortages in overwhelmed communities\n",
    "   - Age-adjusted mortality data for Acute Respiratory Distress Syndrome (ARDS) with/without other organ failure – particularly for viral etiologies\n",
    "   - Extracorporeal membrane oxygenation (ECMO) outcomes data of COVID-19 patients\n",
    "   - Outcomes data for COVID-19 after mechanical ventilation adjusted for age.\n",
    "   - Knowledge of the frequency, manifestations, and course of extrapulmonary manifestations of COVID-19, including, but not limited to, possible cardiomyopathy and cardiac arrest.\n",
    "   - Application of regulatory standards (e.g., EUA, CLIA) and ability to adapt care to crisis standards of care level.\n",
    "   - Approaches for encouraging and facilitating the production of elastomeric respirators, which can save thousands of N95 masks.\n",
    "   - Best telemedicine practices, barriers and faciitators, and specific actions to remove/expand them within and across state boundaries.\n",
    "   - Guidance on the simple things people can do at home to take care of sick people and manage disease.\n",
    "   - Oral medications that might potentially work.\n",
    "   - Use of AI in real-time health care delivery to evaluate interventions, risk factors, and outcomes in a way that could not be done manually.\n",
    "   - Best practices and critical challenges and innovative solutions and technologies in hospital flow and organization, workforce protection, workforce allocation, community-based support resources, payment, and supply chain management to enhance capacity, efficiency, and outcomes.\n",
    "   - Efforts to define the natural history of disease to inform clinical care, public health interventions, infection prevention control, transmission, and clinical trials\n",
    "   - Efforts to develop a core clinical outcome set to maximize usability of data across a range of trials\n",
    "   - Efforts to determine adjunctive and supportive interventions that can improve the clinical outcomes of infected patients (e.g. steroids, high flow oxygen)\n",
    "\n",
    "# OUR APPROACH\n",
    "\n",
    "1. Find common section across BIOarticles\n",
    "2. Discover language patterns within these sections, e.g. common words, tokens, sentences\n",
    "    - We can already start doing this with the abstract since it is already filtered out\n",
    "    - Can we find sentences similar to the topics described above? e.g. word2vec, universalsentenceencoders etc. \n",
    "3. Generate questions from articles\n",
    "4. Generate answers from articles\n",
    "5. Test these against the above research areas"
   ]
  },
  {
   "cell_type": "code",
   "execution_count": 8,
   "metadata": {},
   "outputs": [
    {
     "data": {
      "text/html": [
       "<div>\n",
       "<style scoped>\n",
       "    .dataframe tbody tr th:only-of-type {\n",
       "        vertical-align: middle;\n",
       "    }\n",
       "\n",
       "    .dataframe tbody tr th {\n",
       "        vertical-align: top;\n",
       "    }\n",
       "\n",
       "    .dataframe thead th {\n",
       "        text-align: right;\n",
       "    }\n",
       "</style>\n",
       "<table border=\"1\" class=\"dataframe\">\n",
       "  <thead>\n",
       "    <tr style=\"text-align: right;\">\n",
       "      <th></th>\n",
       "      <th>source_x</th>\n",
       "      <th>title</th>\n",
       "      <th>doi</th>\n",
       "      <th>pmcid</th>\n",
       "      <th>pubmed_id</th>\n",
       "      <th>license</th>\n",
       "      <th>abstract</th>\n",
       "      <th>publish_time</th>\n",
       "      <th>authors</th>\n",
       "      <th>journal</th>\n",
       "      <th>Microsoft Academic Paper ID</th>\n",
       "      <th>WHO #Covidence</th>\n",
       "      <th>has_full_text</th>\n",
       "      <th>full_text_file</th>\n",
       "    </tr>\n",
       "    <tr>\n",
       "      <th>sha</th>\n",
       "      <th></th>\n",
       "      <th></th>\n",
       "      <th></th>\n",
       "      <th></th>\n",
       "      <th></th>\n",
       "      <th></th>\n",
       "      <th></th>\n",
       "      <th></th>\n",
       "      <th></th>\n",
       "      <th></th>\n",
       "      <th></th>\n",
       "      <th></th>\n",
       "      <th></th>\n",
       "      <th></th>\n",
       "    </tr>\n",
       "  </thead>\n",
       "  <tbody>\n",
       "    <tr>\n",
       "      <th>aecbc613ebdab36753235197ffb4f35734b5ca63</th>\n",
       "      <td>Elsevier</td>\n",
       "      <td>Clinical and immunologic studies in identical ...</td>\n",
       "      <td>10.1016/0002-9343(73)90176-9</td>\n",
       "      <td>NaN</td>\n",
       "      <td>4579077.0</td>\n",
       "      <td>els-covid</td>\n",
       "      <td>Abstract Middle-aged female identical twins, o...</td>\n",
       "      <td>1973-08-31</td>\n",
       "      <td>Brunner, Carolyn M.; Horwitz, David A.; Shann,...</td>\n",
       "      <td>The American Journal of Medicine</td>\n",
       "      <td>NaN</td>\n",
       "      <td>NaN</td>\n",
       "      <td>True</td>\n",
       "      <td>custom_license</td>\n",
       "    </tr>\n",
       "    <tr>\n",
       "      <th>212e990b378e8d267042753d5f9d4a64ea5e9869</th>\n",
       "      <td>Elsevier</td>\n",
       "      <td>Infectious diarrhea: Pathogenesis and risk fac...</td>\n",
       "      <td>10.1016/0002-9343(85)90367-5</td>\n",
       "      <td>NaN</td>\n",
       "      <td>2861742.0</td>\n",
       "      <td>els-covid</td>\n",
       "      <td>Abstract Our understanding of the pathogenesis...</td>\n",
       "      <td>1985-06-28</td>\n",
       "      <td>Cantey, J.Robert</td>\n",
       "      <td>The American Journal of Medicine</td>\n",
       "      <td>NaN</td>\n",
       "      <td>NaN</td>\n",
       "      <td>True</td>\n",
       "      <td>custom_license</td>\n",
       "    </tr>\n",
       "    <tr>\n",
       "      <th>bf5d344243153d58be692ceb26f52c08e2bd2d2f</th>\n",
       "      <td>Elsevier</td>\n",
       "      <td>New perspectives on the pathogenesis of rheuma...</td>\n",
       "      <td>10.1016/0002-9343(88)90356-7</td>\n",
       "      <td>NaN</td>\n",
       "      <td>3052052.0</td>\n",
       "      <td>els-covid</td>\n",
       "      <td>Abstract In the pathogenesis of rheumatoid art...</td>\n",
       "      <td>1988-10-14</td>\n",
       "      <td>Zvaifler, Nathan J.</td>\n",
       "      <td>The American Journal of Medicine</td>\n",
       "      <td>NaN</td>\n",
       "      <td>NaN</td>\n",
       "      <td>True</td>\n",
       "      <td>custom_license</td>\n",
       "    </tr>\n",
       "    <tr>\n",
       "      <th>ddd2ecf42ec86ad66072962081e1ce4594431f9c</th>\n",
       "      <td>Elsevier</td>\n",
       "      <td>Management of acute and chronic respiratory tr...</td>\n",
       "      <td>10.1016/0002-9343(88)90456-1</td>\n",
       "      <td>NaN</td>\n",
       "      <td>3048091.0</td>\n",
       "      <td>els-covid</td>\n",
       "      <td>Abstract Pharyngitis, bronchitis, and pneumoni...</td>\n",
       "      <td>1988-09-16</td>\n",
       "      <td>Ellner, Jerrold J.</td>\n",
       "      <td>The American Journal of Medicine</td>\n",
       "      <td>NaN</td>\n",
       "      <td>NaN</td>\n",
       "      <td>True</td>\n",
       "      <td>custom_license</td>\n",
       "    </tr>\n",
       "    <tr>\n",
       "      <th>a55cb4e724091ced46b5e55b982a14525eea1c7e</th>\n",
       "      <td>Elsevier</td>\n",
       "      <td>Acute bronchitis: Results of U.S. and European...</td>\n",
       "      <td>10.1016/0002-9343(92)90608-E</td>\n",
       "      <td>NaN</td>\n",
       "      <td>1621745.0</td>\n",
       "      <td>els-covid</td>\n",
       "      <td>Abstract Acute bronchitis, an illness frequent...</td>\n",
       "      <td>1992-06-22</td>\n",
       "      <td>Dere, Willard H.</td>\n",
       "      <td>The American Journal of Medicine</td>\n",
       "      <td>NaN</td>\n",
       "      <td>NaN</td>\n",
       "      <td>True</td>\n",
       "      <td>custom_license</td>\n",
       "    </tr>\n",
       "    <tr>\n",
       "      <th>...</th>\n",
       "      <td>...</td>\n",
       "      <td>...</td>\n",
       "      <td>...</td>\n",
       "      <td>...</td>\n",
       "      <td>...</td>\n",
       "      <td>...</td>\n",
       "      <td>...</td>\n",
       "      <td>...</td>\n",
       "      <td>...</td>\n",
       "      <td>...</td>\n",
       "      <td>...</td>\n",
       "      <td>...</td>\n",
       "      <td>...</td>\n",
       "      <td>...</td>\n",
       "    </tr>\n",
       "    <tr>\n",
       "      <th>d4f00f66c732c292fcfc28b19f44daa2fa620901</th>\n",
       "      <td>PMC</td>\n",
       "      <td>Epidemiology and clinical profile of pathogens...</td>\n",
       "      <td>10.1371/journal.pone.0188325</td>\n",
       "      <td>PMC5693464</td>\n",
       "      <td>29149199.0</td>\n",
       "      <td>cc-by</td>\n",
       "      <td>This study aimed to identify a broad spectrum ...</td>\n",
       "      <td>2017 Nov 17</td>\n",
       "      <td>Brini, Ines; Guerrero, Aida; Hannachi, Naila; ...</td>\n",
       "      <td>PLoS One</td>\n",
       "      <td>NaN</td>\n",
       "      <td>NaN</td>\n",
       "      <td>True</td>\n",
       "      <td>comm_use_subset</td>\n",
       "    </tr>\n",
       "    <tr>\n",
       "      <th>ec575d33c0d3b34af7644fcfed64af045a75ab63</th>\n",
       "      <td>Elsevier</td>\n",
       "      <td>Functional Analysis of the Transmembrane Domai...</td>\n",
       "      <td>10.1016/j.jmb.2008.12.029</td>\n",
       "      <td>PMC2750892</td>\n",
       "      <td>19121325.0</td>\n",
       "      <td>els-covid</td>\n",
       "      <td>Abstract To enter cells, enveloped viruses use...</td>\n",
       "      <td>2009-02-13</td>\n",
       "      <td>Bissonnette, Mei Lin Z.; Donald, Jason E.; DeG...</td>\n",
       "      <td>Journal of Molecular Biology</td>\n",
       "      <td>NaN</td>\n",
       "      <td>NaN</td>\n",
       "      <td>True</td>\n",
       "      <td>custom_license</td>\n",
       "    </tr>\n",
       "    <tr>\n",
       "      <th>7f8715a818bfd325bf4413d3c07003d7ce7b6f7e</th>\n",
       "      <td>PMC</td>\n",
       "      <td>Viral Entry Properties Required for Fitness in...</td>\n",
       "      <td>10.1128/mBio.00898-18</td>\n",
       "      <td>PMC6030562</td>\n",
       "      <td>29970463.0</td>\n",
       "      <td>cc-by</td>\n",
       "      <td>Human parainfluenza viruses cause a large burd...</td>\n",
       "      <td>2018 Jul 3</td>\n",
       "      <td>Iketani, Sho; Shean, Ryan C.; Ferren, Marion; ...</td>\n",
       "      <td>mBio</td>\n",
       "      <td>NaN</td>\n",
       "      <td>NaN</td>\n",
       "      <td>True</td>\n",
       "      <td>comm_use_subset</td>\n",
       "    </tr>\n",
       "    <tr>\n",
       "      <th>07e78e218a159c35e9599e3751a99551a271597b</th>\n",
       "      <td>Elsevier</td>\n",
       "      <td>Arenavirus reverse genetics: New approaches fo...</td>\n",
       "      <td>10.1016/j.virol.2011.01.013</td>\n",
       "      <td>PMC3057228</td>\n",
       "      <td>21324503.0</td>\n",
       "      <td>els-covid</td>\n",
       "      <td>Abstract Several arenaviruses, chiefly Lassa v...</td>\n",
       "      <td>2011-03-15</td>\n",
       "      <td>Emonet, Sebastien E.; Urata, Shuzo; de la Torr...</td>\n",
       "      <td>Virology</td>\n",
       "      <td>NaN</td>\n",
       "      <td>NaN</td>\n",
       "      <td>True</td>\n",
       "      <td>custom_license</td>\n",
       "    </tr>\n",
       "    <tr>\n",
       "      <th>04bc03c90437934a75fc6fdc228817234ef84c3a</th>\n",
       "      <td>PMC</td>\n",
       "      <td>A New Immunosuppressive Molecule Emodin Induce...</td>\n",
       "      <td>10.3389/fimmu.2017.01519</td>\n",
       "      <td>PMC5682309</td>\n",
       "      <td>29167674.0</td>\n",
       "      <td>cc-by</td>\n",
       "      <td>Due to vigorous alloimmunity, an allograft is ...</td>\n",
       "      <td>2017 Nov 8</td>\n",
       "      <td>Qiu, Feifei; Liu, Huazhen; Liang, Chun-Ling; N...</td>\n",
       "      <td>Front Immunol</td>\n",
       "      <td>NaN</td>\n",
       "      <td>NaN</td>\n",
       "      <td>True</td>\n",
       "      <td>comm_use_subset</td>\n",
       "    </tr>\n",
       "  </tbody>\n",
       "</table>\n",
       "<p>28462 rows × 14 columns</p>\n",
       "</div>"
      ],
      "text/plain": [
       "                                          source_x  \\\n",
       "sha                                                  \n",
       "aecbc613ebdab36753235197ffb4f35734b5ca63  Elsevier   \n",
       "212e990b378e8d267042753d5f9d4a64ea5e9869  Elsevier   \n",
       "bf5d344243153d58be692ceb26f52c08e2bd2d2f  Elsevier   \n",
       "ddd2ecf42ec86ad66072962081e1ce4594431f9c  Elsevier   \n",
       "a55cb4e724091ced46b5e55b982a14525eea1c7e  Elsevier   \n",
       "...                                            ...   \n",
       "d4f00f66c732c292fcfc28b19f44daa2fa620901       PMC   \n",
       "ec575d33c0d3b34af7644fcfed64af045a75ab63  Elsevier   \n",
       "7f8715a818bfd325bf4413d3c07003d7ce7b6f7e       PMC   \n",
       "07e78e218a159c35e9599e3751a99551a271597b  Elsevier   \n",
       "04bc03c90437934a75fc6fdc228817234ef84c3a       PMC   \n",
       "\n",
       "                                                                                      title  \\\n",
       "sha                                                                                           \n",
       "aecbc613ebdab36753235197ffb4f35734b5ca63  Clinical and immunologic studies in identical ...   \n",
       "212e990b378e8d267042753d5f9d4a64ea5e9869  Infectious diarrhea: Pathogenesis and risk fac...   \n",
       "bf5d344243153d58be692ceb26f52c08e2bd2d2f  New perspectives on the pathogenesis of rheuma...   \n",
       "ddd2ecf42ec86ad66072962081e1ce4594431f9c  Management of acute and chronic respiratory tr...   \n",
       "a55cb4e724091ced46b5e55b982a14525eea1c7e  Acute bronchitis: Results of U.S. and European...   \n",
       "...                                                                                     ...   \n",
       "d4f00f66c732c292fcfc28b19f44daa2fa620901  Epidemiology and clinical profile of pathogens...   \n",
       "ec575d33c0d3b34af7644fcfed64af045a75ab63  Functional Analysis of the Transmembrane Domai...   \n",
       "7f8715a818bfd325bf4413d3c07003d7ce7b6f7e  Viral Entry Properties Required for Fitness in...   \n",
       "07e78e218a159c35e9599e3751a99551a271597b  Arenavirus reverse genetics: New approaches fo...   \n",
       "04bc03c90437934a75fc6fdc228817234ef84c3a  A New Immunosuppressive Molecule Emodin Induce...   \n",
       "\n",
       "                                                                   doi  \\\n",
       "sha                                                                      \n",
       "aecbc613ebdab36753235197ffb4f35734b5ca63  10.1016/0002-9343(73)90176-9   \n",
       "212e990b378e8d267042753d5f9d4a64ea5e9869  10.1016/0002-9343(85)90367-5   \n",
       "bf5d344243153d58be692ceb26f52c08e2bd2d2f  10.1016/0002-9343(88)90356-7   \n",
       "ddd2ecf42ec86ad66072962081e1ce4594431f9c  10.1016/0002-9343(88)90456-1   \n",
       "a55cb4e724091ced46b5e55b982a14525eea1c7e  10.1016/0002-9343(92)90608-E   \n",
       "...                                                                ...   \n",
       "d4f00f66c732c292fcfc28b19f44daa2fa620901  10.1371/journal.pone.0188325   \n",
       "ec575d33c0d3b34af7644fcfed64af045a75ab63     10.1016/j.jmb.2008.12.029   \n",
       "7f8715a818bfd325bf4413d3c07003d7ce7b6f7e         10.1128/mBio.00898-18   \n",
       "07e78e218a159c35e9599e3751a99551a271597b   10.1016/j.virol.2011.01.013   \n",
       "04bc03c90437934a75fc6fdc228817234ef84c3a      10.3389/fimmu.2017.01519   \n",
       "\n",
       "                                               pmcid   pubmed_id    license  \\\n",
       "sha                                                                           \n",
       "aecbc613ebdab36753235197ffb4f35734b5ca63         NaN   4579077.0  els-covid   \n",
       "212e990b378e8d267042753d5f9d4a64ea5e9869         NaN   2861742.0  els-covid   \n",
       "bf5d344243153d58be692ceb26f52c08e2bd2d2f         NaN   3052052.0  els-covid   \n",
       "ddd2ecf42ec86ad66072962081e1ce4594431f9c         NaN   3048091.0  els-covid   \n",
       "a55cb4e724091ced46b5e55b982a14525eea1c7e         NaN   1621745.0  els-covid   \n",
       "...                                              ...         ...        ...   \n",
       "d4f00f66c732c292fcfc28b19f44daa2fa620901  PMC5693464  29149199.0      cc-by   \n",
       "ec575d33c0d3b34af7644fcfed64af045a75ab63  PMC2750892  19121325.0  els-covid   \n",
       "7f8715a818bfd325bf4413d3c07003d7ce7b6f7e  PMC6030562  29970463.0      cc-by   \n",
       "07e78e218a159c35e9599e3751a99551a271597b  PMC3057228  21324503.0  els-covid   \n",
       "04bc03c90437934a75fc6fdc228817234ef84c3a  PMC5682309  29167674.0      cc-by   \n",
       "\n",
       "                                                                                   abstract  \\\n",
       "sha                                                                                           \n",
       "aecbc613ebdab36753235197ffb4f35734b5ca63  Abstract Middle-aged female identical twins, o...   \n",
       "212e990b378e8d267042753d5f9d4a64ea5e9869  Abstract Our understanding of the pathogenesis...   \n",
       "bf5d344243153d58be692ceb26f52c08e2bd2d2f  Abstract In the pathogenesis of rheumatoid art...   \n",
       "ddd2ecf42ec86ad66072962081e1ce4594431f9c  Abstract Pharyngitis, bronchitis, and pneumoni...   \n",
       "a55cb4e724091ced46b5e55b982a14525eea1c7e  Abstract Acute bronchitis, an illness frequent...   \n",
       "...                                                                                     ...   \n",
       "d4f00f66c732c292fcfc28b19f44daa2fa620901  This study aimed to identify a broad spectrum ...   \n",
       "ec575d33c0d3b34af7644fcfed64af045a75ab63  Abstract To enter cells, enveloped viruses use...   \n",
       "7f8715a818bfd325bf4413d3c07003d7ce7b6f7e  Human parainfluenza viruses cause a large burd...   \n",
       "07e78e218a159c35e9599e3751a99551a271597b  Abstract Several arenaviruses, chiefly Lassa v...   \n",
       "04bc03c90437934a75fc6fdc228817234ef84c3a  Due to vigorous alloimmunity, an allograft is ...   \n",
       "\n",
       "                                         publish_time  \\\n",
       "sha                                                     \n",
       "aecbc613ebdab36753235197ffb4f35734b5ca63   1973-08-31   \n",
       "212e990b378e8d267042753d5f9d4a64ea5e9869   1985-06-28   \n",
       "bf5d344243153d58be692ceb26f52c08e2bd2d2f   1988-10-14   \n",
       "ddd2ecf42ec86ad66072962081e1ce4594431f9c   1988-09-16   \n",
       "a55cb4e724091ced46b5e55b982a14525eea1c7e   1992-06-22   \n",
       "...                                               ...   \n",
       "d4f00f66c732c292fcfc28b19f44daa2fa620901  2017 Nov 17   \n",
       "ec575d33c0d3b34af7644fcfed64af045a75ab63   2009-02-13   \n",
       "7f8715a818bfd325bf4413d3c07003d7ce7b6f7e   2018 Jul 3   \n",
       "07e78e218a159c35e9599e3751a99551a271597b   2011-03-15   \n",
       "04bc03c90437934a75fc6fdc228817234ef84c3a   2017 Nov 8   \n",
       "\n",
       "                                                                                    authors  \\\n",
       "sha                                                                                           \n",
       "aecbc613ebdab36753235197ffb4f35734b5ca63  Brunner, Carolyn M.; Horwitz, David A.; Shann,...   \n",
       "212e990b378e8d267042753d5f9d4a64ea5e9869                                   Cantey, J.Robert   \n",
       "bf5d344243153d58be692ceb26f52c08e2bd2d2f                                Zvaifler, Nathan J.   \n",
       "ddd2ecf42ec86ad66072962081e1ce4594431f9c                                 Ellner, Jerrold J.   \n",
       "a55cb4e724091ced46b5e55b982a14525eea1c7e                                   Dere, Willard H.   \n",
       "...                                                                                     ...   \n",
       "d4f00f66c732c292fcfc28b19f44daa2fa620901  Brini, Ines; Guerrero, Aida; Hannachi, Naila; ...   \n",
       "ec575d33c0d3b34af7644fcfed64af045a75ab63  Bissonnette, Mei Lin Z.; Donald, Jason E.; DeG...   \n",
       "7f8715a818bfd325bf4413d3c07003d7ce7b6f7e  Iketani, Sho; Shean, Ryan C.; Ferren, Marion; ...   \n",
       "07e78e218a159c35e9599e3751a99551a271597b  Emonet, Sebastien E.; Urata, Shuzo; de la Torr...   \n",
       "04bc03c90437934a75fc6fdc228817234ef84c3a  Qiu, Feifei; Liu, Huazhen; Liang, Chun-Ling; N...   \n",
       "\n",
       "                                                                   journal  \\\n",
       "sha                                                                          \n",
       "aecbc613ebdab36753235197ffb4f35734b5ca63  The American Journal of Medicine   \n",
       "212e990b378e8d267042753d5f9d4a64ea5e9869  The American Journal of Medicine   \n",
       "bf5d344243153d58be692ceb26f52c08e2bd2d2f  The American Journal of Medicine   \n",
       "ddd2ecf42ec86ad66072962081e1ce4594431f9c  The American Journal of Medicine   \n",
       "a55cb4e724091ced46b5e55b982a14525eea1c7e  The American Journal of Medicine   \n",
       "...                                                                    ...   \n",
       "d4f00f66c732c292fcfc28b19f44daa2fa620901                          PLoS One   \n",
       "ec575d33c0d3b34af7644fcfed64af045a75ab63      Journal of Molecular Biology   \n",
       "7f8715a818bfd325bf4413d3c07003d7ce7b6f7e                              mBio   \n",
       "07e78e218a159c35e9599e3751a99551a271597b                          Virology   \n",
       "04bc03c90437934a75fc6fdc228817234ef84c3a                     Front Immunol   \n",
       "\n",
       "                                          Microsoft Academic Paper ID  \\\n",
       "sha                                                                     \n",
       "aecbc613ebdab36753235197ffb4f35734b5ca63                          NaN   \n",
       "212e990b378e8d267042753d5f9d4a64ea5e9869                          NaN   \n",
       "bf5d344243153d58be692ceb26f52c08e2bd2d2f                          NaN   \n",
       "ddd2ecf42ec86ad66072962081e1ce4594431f9c                          NaN   \n",
       "a55cb4e724091ced46b5e55b982a14525eea1c7e                          NaN   \n",
       "...                                                               ...   \n",
       "d4f00f66c732c292fcfc28b19f44daa2fa620901                          NaN   \n",
       "ec575d33c0d3b34af7644fcfed64af045a75ab63                          NaN   \n",
       "7f8715a818bfd325bf4413d3c07003d7ce7b6f7e                          NaN   \n",
       "07e78e218a159c35e9599e3751a99551a271597b                          NaN   \n",
       "04bc03c90437934a75fc6fdc228817234ef84c3a                          NaN   \n",
       "\n",
       "                                         WHO #Covidence  has_full_text  \\\n",
       "sha                                                                      \n",
       "aecbc613ebdab36753235197ffb4f35734b5ca63            NaN           True   \n",
       "212e990b378e8d267042753d5f9d4a64ea5e9869            NaN           True   \n",
       "bf5d344243153d58be692ceb26f52c08e2bd2d2f            NaN           True   \n",
       "ddd2ecf42ec86ad66072962081e1ce4594431f9c            NaN           True   \n",
       "a55cb4e724091ced46b5e55b982a14525eea1c7e            NaN           True   \n",
       "...                                                 ...            ...   \n",
       "d4f00f66c732c292fcfc28b19f44daa2fa620901            NaN           True   \n",
       "ec575d33c0d3b34af7644fcfed64af045a75ab63            NaN           True   \n",
       "7f8715a818bfd325bf4413d3c07003d7ce7b6f7e            NaN           True   \n",
       "07e78e218a159c35e9599e3751a99551a271597b            NaN           True   \n",
       "04bc03c90437934a75fc6fdc228817234ef84c3a            NaN           True   \n",
       "\n",
       "                                           full_text_file  \n",
       "sha                                                        \n",
       "aecbc613ebdab36753235197ffb4f35734b5ca63   custom_license  \n",
       "212e990b378e8d267042753d5f9d4a64ea5e9869   custom_license  \n",
       "bf5d344243153d58be692ceb26f52c08e2bd2d2f   custom_license  \n",
       "ddd2ecf42ec86ad66072962081e1ce4594431f9c   custom_license  \n",
       "a55cb4e724091ced46b5e55b982a14525eea1c7e   custom_license  \n",
       "...                                                   ...  \n",
       "d4f00f66c732c292fcfc28b19f44daa2fa620901  comm_use_subset  \n",
       "ec575d33c0d3b34af7644fcfed64af045a75ab63   custom_license  \n",
       "7f8715a818bfd325bf4413d3c07003d7ce7b6f7e  comm_use_subset  \n",
       "07e78e218a159c35e9599e3751a99551a271597b   custom_license  \n",
       "04bc03c90437934a75fc6fdc228817234ef84c3a  comm_use_subset  \n",
       "\n",
       "[28462 rows x 14 columns]"
      ]
     },
     "execution_count": 8,
     "metadata": {},
     "output_type": "execute_result"
    }
   ],
   "source": [
    "import pandas as pd\n",
    "import os\n",
    "src_fldr = os.path.join('..','..','src')\n",
    "df = pd.read_csv(os.path.join(src_fldr, 'metadata.csv'))\n",
    "df = df.dropna(subset=['sha']).set_index('sha')\n",
    "df"
   ]
  },
  {
   "cell_type": "code",
   "execution_count": null,
   "metadata": {},
   "outputs": [],
   "source": []
  },
  {
   "cell_type": "code",
   "execution_count": 10,
   "metadata": {},
   "outputs": [
    {
     "data": {
      "text/plain": [
       "True    28462\n",
       "Name: has_full_text, dtype: int64"
      ]
     },
     "execution_count": 10,
     "metadata": {},
     "output_type": "execute_result"
    }
   ],
   "source": [
    "df.has_full_text.value_counts()"
   ]
  },
  {
   "cell_type": "code",
   "execution_count": 11,
   "metadata": {},
   "outputs": [
    {
     "name": "stderr",
     "output_type": "stream",
     "text": [
      "100%|█████████████████████████████████████████████████████████████████████████████████████████████████████████████████████████████████████████████████████████████████████████████████████████████████████████████████████████████████| 29315/29315 [00:26<00:00, 1090.34it/s]\n"
     ]
    }
   ],
   "source": [
    "import glob\n",
    "import os\n",
    "import json\n",
    "from tqdm import tqdm\n",
    "import numpy as np\n",
    "#adding filepaths to our dataframe\n",
    "file_paths = {json.load(open(file, 'r'))['paper_id']:file for file in tqdm(glob.glob(os.path.join('..','..', 'src')+'*/*/*/*.JSON'))}\n",
    "df['file_path'] = df.sha.apply(lambda x: file_paths.get(x, np.nan))"
   ]
  },
  {
   "cell_type": "code",
   "execution_count": 12,
   "metadata": {},
   "outputs": [
    {
     "name": "stderr",
     "output_type": "stream",
     "text": [
      "100%|█████████████████████████████████████████████████████████████████████████████████████████████████████████████████████████████████████████████████████████████████████████████████████████████████████████████████████████████████| 29315/29315 [00:27<00:00, 1083.84it/s]\n"
     ]
    }
   ],
   "source": [
    "sections = [text['section'] \\\n",
    "            for file in tqdm(glob.glob(os.path.join('..','..', 'src')+'*/*/*/*.JSON'))\\\n",
    "            for text in json.load(open(file, 'r'))['body_text']]"
   ]
  },
  {
   "cell_type": "code",
   "execution_count": 13,
   "metadata": {},
   "outputs": [],
   "source": [
    "from collections import Counter\n",
    "sorted_sections = {k: v for k, v in sorted(Counter(sections).items(), key=lambda item: item[1], reverse=True)} "
   ]
  },
  {
   "cell_type": "code",
   "execution_count": 15,
   "metadata": {},
   "outputs": [
    {
     "data": {
      "text/plain": [
       "<matplotlib.axes._subplots.AxesSubplot at 0x27548eae4c0>"
      ]
     },
     "execution_count": 15,
     "metadata": {},
     "output_type": "execute_result"
    },
    {
     "data": {
      "image/png": "[encoded data removed]",
      "text/plain": [
       "<Figure size 1440x720 with 1 Axes>"
      ]
     },
     "metadata": {
      "needs_background": "light"
     },
     "output_type": "display_data"
    }
   ],
   "source": [
    "import matplotlib.pyplot as plt\n",
    "import seaborn as sns\n",
    "fig = plt.gcf()\n",
    "ax = plt.gca()\n",
    "fig.set_size_inches(20, 10)\n",
    "plt.xticks(rotation=25)\n",
    "sns.barplot(x=list(sorted_sections.keys())[:20], y=list(sorted_sections.values())[:20])"
   ]
  },
  {
   "cell_type": "code",
   "execution_count": 16,
   "metadata": {},
   "outputs": [],
   "source": [
    "from stop_words import get_stop_words\n",
    "\n",
    "stop_words = get_stop_words('en')\n",
    "dff = df.dropna(subset=['abstract'])\n",
    "bow = [word for words in tqdm(dff.abstract.values) for word in words.lower().replace('abstract', '').split(' ') if word not in stop_words]"
   ]
  },
  {
   "cell_type": "code",
   "execution_count": 17,
   "metadata": {},
   "outputs": [
    {
     "data": {
      "text/plain": [
       "<matplotlib.axes._subplots.AxesSubplot at 0x27549b860d0>"
      ]
     },
     "execution_count": 17,
     "metadata": {},
     "output_type": "execute_result"
    },
    {
     "data": {
      "image/png": "[encoded data removed]",
      "text/plain": [
       "<Figure size 1440x720 with 1 Axes>"
      ]
     },
     "metadata": {
      "needs_background": "light"
     },
     "output_type": "display_data"
    }
   ],
   "source": [
    "sorted_sections = {k: v for k, v in sorted(Counter(bow).items(), key=lambda item: item[1], reverse=True)} \n",
    "fig = plt.gcf()\n",
    "ax = plt.gca()\n",
    "fig.set_size_inches(20, 10)\n",
    "plt.xticks(rotation=25)\n",
    "sns.barplot(x=list(sorted_sections.keys())[:20], y=list(sorted_sections.values())[:20])"
   ]
  },
  {
   "cell_type": "code",
   "execution_count": 61,
   "metadata": {},
   "outputs": [
    {
     "data": {
      "text/html": [
       "<div>\n",
       "<style scoped>\n",
       "    .dataframe tbody tr th:only-of-type {\n",
       "        vertical-align: middle;\n",
       "    }\n",
       "\n",
       "    .dataframe tbody tr th {\n",
       "        vertical-align: top;\n",
       "    }\n",
       "\n",
       "    .dataframe thead th {\n",
       "        text-align: right;\n",
       "    }\n",
       "</style>\n",
       "<table border=\"1\" class=\"dataframe\">\n",
       "  <thead>\n",
       "    <tr style=\"text-align: right;\">\n",
       "      <th></th>\n",
       "      <th>sha</th>\n",
       "      <th>source_x</th>\n",
       "      <th>title</th>\n",
       "      <th>doi</th>\n",
       "      <th>pmcid</th>\n",
       "      <th>pubmed_id</th>\n",
       "      <th>license</th>\n",
       "      <th>abstract</th>\n",
       "      <th>publish_time</th>\n",
       "      <th>authors</th>\n",
       "      <th>...</th>\n",
       "      <th>Microsoft Academic Paper ID</th>\n",
       "      <th>WHO #Covidence</th>\n",
       "      <th>has_full_text</th>\n",
       "      <th>full_text_file</th>\n",
       "      <th>mortality rate</th>\n",
       "      <th>extracorporeal membrane oxygenation (ECMO)</th>\n",
       "      <th>vaccine</th>\n",
       "      <th>interventions</th>\n",
       "      <th>clinical outcome</th>\n",
       "      <th>phase</th>\n",
       "    </tr>\n",
       "  </thead>\n",
       "  <tbody>\n",
       "    <tr>\n",
       "      <th>0</th>\n",
       "      <td>aecbc613ebdab36753235197ffb4f35734b5ca63</td>\n",
       "      <td>Elsevier</td>\n",
       "      <td>Clinical and immunologic studies in identical ...</td>\n",
       "      <td>10.1016/0002-9343(73)90176-9</td>\n",
       "      <td>NaN</td>\n",
       "      <td>4579077.0</td>\n",
       "      <td>els-covid</td>\n",
       "      <td>Abstract Middle-aged female identical twins, o...</td>\n",
       "      <td>1973-08-31</td>\n",
       "      <td>Brunner, Carolyn M.; Horwitz, David A.; Shann,...</td>\n",
       "      <td>...</td>\n",
       "      <td>NaN</td>\n",
       "      <td>NaN</td>\n",
       "      <td>True</td>\n",
       "      <td>custom_license</td>\n",
       "      <td>False</td>\n",
       "      <td>False</td>\n",
       "      <td>False</td>\n",
       "      <td>False</td>\n",
       "      <td>False</td>\n",
       "      <td>4</td>\n",
       "    </tr>\n",
       "    <tr>\n",
       "      <th>1</th>\n",
       "      <td>212e990b378e8d267042753d5f9d4a64ea5e9869</td>\n",
       "      <td>Elsevier</td>\n",
       "      <td>Infectious diarrhea: Pathogenesis and risk fac...</td>\n",
       "      <td>10.1016/0002-9343(85)90367-5</td>\n",
       "      <td>NaN</td>\n",
       "      <td>2861742.0</td>\n",
       "      <td>els-covid</td>\n",
       "      <td>Abstract Our understanding of the pathogenesis...</td>\n",
       "      <td>1985-06-28</td>\n",
       "      <td>Cantey, J.Robert</td>\n",
       "      <td>...</td>\n",
       "      <td>NaN</td>\n",
       "      <td>NaN</td>\n",
       "      <td>True</td>\n",
       "      <td>custom_license</td>\n",
       "      <td>False</td>\n",
       "      <td>False</td>\n",
       "      <td>False</td>\n",
       "      <td>False</td>\n",
       "      <td>False</td>\n",
       "      <td>2</td>\n",
       "    </tr>\n",
       "    <tr>\n",
       "      <th>2</th>\n",
       "      <td>bf5d344243153d58be692ceb26f52c08e2bd2d2f</td>\n",
       "      <td>Elsevier</td>\n",
       "      <td>New perspectives on the pathogenesis of rheuma...</td>\n",
       "      <td>10.1016/0002-9343(88)90356-7</td>\n",
       "      <td>NaN</td>\n",
       "      <td>3052052.0</td>\n",
       "      <td>els-covid</td>\n",
       "      <td>Abstract In the pathogenesis of rheumatoid art...</td>\n",
       "      <td>1988-10-14</td>\n",
       "      <td>Zvaifler, Nathan J.</td>\n",
       "      <td>...</td>\n",
       "      <td>NaN</td>\n",
       "      <td>NaN</td>\n",
       "      <td>True</td>\n",
       "      <td>custom_license</td>\n",
       "      <td>False</td>\n",
       "      <td>False</td>\n",
       "      <td>False</td>\n",
       "      <td>False</td>\n",
       "      <td>False</td>\n",
       "      <td>2</td>\n",
       "    </tr>\n",
       "    <tr>\n",
       "      <th>3</th>\n",
       "      <td>ddd2ecf42ec86ad66072962081e1ce4594431f9c</td>\n",
       "      <td>Elsevier</td>\n",
       "      <td>Management of acute and chronic respiratory tr...</td>\n",
       "      <td>10.1016/0002-9343(88)90456-1</td>\n",
       "      <td>NaN</td>\n",
       "      <td>3048091.0</td>\n",
       "      <td>els-covid</td>\n",
       "      <td>Abstract Pharyngitis, bronchitis, and pneumoni...</td>\n",
       "      <td>1988-09-16</td>\n",
       "      <td>Ellner, Jerrold J.</td>\n",
       "      <td>...</td>\n",
       "      <td>NaN</td>\n",
       "      <td>NaN</td>\n",
       "      <td>True</td>\n",
       "      <td>custom_license</td>\n",
       "      <td>False</td>\n",
       "      <td>False</td>\n",
       "      <td>False</td>\n",
       "      <td>False</td>\n",
       "      <td>False</td>\n",
       "      <td>2</td>\n",
       "    </tr>\n",
       "    <tr>\n",
       "      <th>4</th>\n",
       "      <td>a55cb4e724091ced46b5e55b982a14525eea1c7e</td>\n",
       "      <td>Elsevier</td>\n",
       "      <td>Acute bronchitis: Results of U.S. and European...</td>\n",
       "      <td>10.1016/0002-9343(92)90608-E</td>\n",
       "      <td>NaN</td>\n",
       "      <td>1621745.0</td>\n",
       "      <td>els-covid</td>\n",
       "      <td>Abstract Acute bronchitis, an illness frequent...</td>\n",
       "      <td>1992-06-22</td>\n",
       "      <td>Dere, Willard H.</td>\n",
       "      <td>...</td>\n",
       "      <td>NaN</td>\n",
       "      <td>NaN</td>\n",
       "      <td>True</td>\n",
       "      <td>custom_license</td>\n",
       "      <td>False</td>\n",
       "      <td>False</td>\n",
       "      <td>False</td>\n",
       "      <td>False</td>\n",
       "      <td>False</td>\n",
       "      <td>1</td>\n",
       "    </tr>\n",
       "    <tr>\n",
       "      <th>...</th>\n",
       "      <td>...</td>\n",
       "      <td>...</td>\n",
       "      <td>...</td>\n",
       "      <td>...</td>\n",
       "      <td>...</td>\n",
       "      <td>...</td>\n",
       "      <td>...</td>\n",
       "      <td>...</td>\n",
       "      <td>...</td>\n",
       "      <td>...</td>\n",
       "      <td>...</td>\n",
       "      <td>...</td>\n",
       "      <td>...</td>\n",
       "      <td>...</td>\n",
       "      <td>...</td>\n",
       "      <td>...</td>\n",
       "      <td>...</td>\n",
       "      <td>...</td>\n",
       "      <td>...</td>\n",
       "      <td>...</td>\n",
       "      <td>...</td>\n",
       "    </tr>\n",
       "    <tr>\n",
       "      <th>28457</th>\n",
       "      <td>d4f00f66c732c292fcfc28b19f44daa2fa620901</td>\n",
       "      <td>PMC</td>\n",
       "      <td>Epidemiology and clinical profile of pathogens...</td>\n",
       "      <td>10.1371/journal.pone.0188325</td>\n",
       "      <td>PMC5693464</td>\n",
       "      <td>29149199.0</td>\n",
       "      <td>cc-by</td>\n",
       "      <td>This study aimed to identify a broad spectrum ...</td>\n",
       "      <td>2017-11-17</td>\n",
       "      <td>Brini, Ines; Guerrero, Aida; Hannachi, Naila; ...</td>\n",
       "      <td>...</td>\n",
       "      <td>NaN</td>\n",
       "      <td>NaN</td>\n",
       "      <td>True</td>\n",
       "      <td>comm_use_subset</td>\n",
       "      <td>False</td>\n",
       "      <td>False</td>\n",
       "      <td>False</td>\n",
       "      <td>False</td>\n",
       "      <td>False</td>\n",
       "      <td>1</td>\n",
       "    </tr>\n",
       "    <tr>\n",
       "      <th>28458</th>\n",
       "      <td>ec575d33c0d3b34af7644fcfed64af045a75ab63</td>\n",
       "      <td>Elsevier</td>\n",
       "      <td>Functional Analysis of the Transmembrane Domai...</td>\n",
       "      <td>10.1016/j.jmb.2008.12.029</td>\n",
       "      <td>PMC2750892</td>\n",
       "      <td>19121325.0</td>\n",
       "      <td>els-covid</td>\n",
       "      <td>Abstract To enter cells, enveloped viruses use...</td>\n",
       "      <td>2009-02-13</td>\n",
       "      <td>Bissonnette, Mei Lin Z.; Donald, Jason E.; DeG...</td>\n",
       "      <td>...</td>\n",
       "      <td>NaN</td>\n",
       "      <td>NaN</td>\n",
       "      <td>True</td>\n",
       "      <td>custom_license</td>\n",
       "      <td>False</td>\n",
       "      <td>False</td>\n",
       "      <td>False</td>\n",
       "      <td>False</td>\n",
       "      <td>False</td>\n",
       "      <td>1</td>\n",
       "    </tr>\n",
       "    <tr>\n",
       "      <th>28459</th>\n",
       "      <td>7f8715a818bfd325bf4413d3c07003d7ce7b6f7e</td>\n",
       "      <td>PMC</td>\n",
       "      <td>Viral Entry Properties Required for Fitness in...</td>\n",
       "      <td>10.1128/mBio.00898-18</td>\n",
       "      <td>PMC6030562</td>\n",
       "      <td>29970463.0</td>\n",
       "      <td>cc-by</td>\n",
       "      <td>Human parainfluenza viruses cause a large burd...</td>\n",
       "      <td>2018-07-03</td>\n",
       "      <td>Iketani, Sho; Shean, Ryan C.; Ferren, Marion; ...</td>\n",
       "      <td>...</td>\n",
       "      <td>NaN</td>\n",
       "      <td>NaN</td>\n",
       "      <td>True</td>\n",
       "      <td>comm_use_subset</td>\n",
       "      <td>False</td>\n",
       "      <td>False</td>\n",
       "      <td>False</td>\n",
       "      <td>False</td>\n",
       "      <td>False</td>\n",
       "      <td>1</td>\n",
       "    </tr>\n",
       "    <tr>\n",
       "      <th>28460</th>\n",
       "      <td>07e78e218a159c35e9599e3751a99551a271597b</td>\n",
       "      <td>Elsevier</td>\n",
       "      <td>Arenavirus reverse genetics: New approaches fo...</td>\n",
       "      <td>10.1016/j.virol.2011.01.013</td>\n",
       "      <td>PMC3057228</td>\n",
       "      <td>21324503.0</td>\n",
       "      <td>els-covid</td>\n",
       "      <td>Abstract Several arenaviruses, chiefly Lassa v...</td>\n",
       "      <td>2011-03-15</td>\n",
       "      <td>Emonet, Sebastien E.; Urata, Shuzo; de la Torr...</td>\n",
       "      <td>...</td>\n",
       "      <td>NaN</td>\n",
       "      <td>NaN</td>\n",
       "      <td>True</td>\n",
       "      <td>custom_license</td>\n",
       "      <td>False</td>\n",
       "      <td>False</td>\n",
       "      <td>False</td>\n",
       "      <td>False</td>\n",
       "      <td>False</td>\n",
       "      <td>1</td>\n",
       "    </tr>\n",
       "    <tr>\n",
       "      <th>28461</th>\n",
       "      <td>04bc03c90437934a75fc6fdc228817234ef84c3a</td>\n",
       "      <td>PMC</td>\n",
       "      <td>A New Immunosuppressive Molecule Emodin Induce...</td>\n",
       "      <td>10.3389/fimmu.2017.01519</td>\n",
       "      <td>PMC5682309</td>\n",
       "      <td>29167674.0</td>\n",
       "      <td>cc-by</td>\n",
       "      <td>Due to vigorous alloimmunity, an allograft is ...</td>\n",
       "      <td>2017-11-08</td>\n",
       "      <td>Qiu, Feifei; Liu, Huazhen; Liang, Chun-Ling; N...</td>\n",
       "      <td>...</td>\n",
       "      <td>NaN</td>\n",
       "      <td>NaN</td>\n",
       "      <td>True</td>\n",
       "      <td>comm_use_subset</td>\n",
       "      <td>False</td>\n",
       "      <td>False</td>\n",
       "      <td>False</td>\n",
       "      <td>False</td>\n",
       "      <td>False</td>\n",
       "      <td>1</td>\n",
       "    </tr>\n",
       "  </tbody>\n",
       "</table>\n",
       "<p>28462 rows × 21 columns</p>\n",
       "</div>"
      ],
      "text/plain": [
       "                                            sha  source_x  \\\n",
       "0      aecbc613ebdab36753235197ffb4f35734b5ca63  Elsevier   \n",
       "1      212e990b378e8d267042753d5f9d4a64ea5e9869  Elsevier   \n",
       "2      bf5d344243153d58be692ceb26f52c08e2bd2d2f  Elsevier   \n",
       "3      ddd2ecf42ec86ad66072962081e1ce4594431f9c  Elsevier   \n",
       "4      a55cb4e724091ced46b5e55b982a14525eea1c7e  Elsevier   \n",
       "...                                         ...       ...   \n",
       "28457  d4f00f66c732c292fcfc28b19f44daa2fa620901       PMC   \n",
       "28458  ec575d33c0d3b34af7644fcfed64af045a75ab63  Elsevier   \n",
       "28459  7f8715a818bfd325bf4413d3c07003d7ce7b6f7e       PMC   \n",
       "28460  07e78e218a159c35e9599e3751a99551a271597b  Elsevier   \n",
       "28461  04bc03c90437934a75fc6fdc228817234ef84c3a       PMC   \n",
       "\n",
       "                                                   title  \\\n",
       "0      Clinical and immunologic studies in identical ...   \n",
       "1      Infectious diarrhea: Pathogenesis and risk fac...   \n",
       "2      New perspectives on the pathogenesis of rheuma...   \n",
       "3      Management of acute and chronic respiratory tr...   \n",
       "4      Acute bronchitis: Results of U.S. and European...   \n",
       "...                                                  ...   \n",
       "28457  Epidemiology and clinical profile of pathogens...   \n",
       "28458  Functional Analysis of the Transmembrane Domai...   \n",
       "28459  Viral Entry Properties Required for Fitness in...   \n",
       "28460  Arenavirus reverse genetics: New approaches fo...   \n",
       "28461  A New Immunosuppressive Molecule Emodin Induce...   \n",
       "\n",
       "                                doi       pmcid   pubmed_id    license  \\\n",
       "0      10.1016/0002-9343(73)90176-9         NaN   4579077.0  els-covid   \n",
       "1      10.1016/0002-9343(85)90367-5         NaN   2861742.0  els-covid   \n",
       "2      10.1016/0002-9343(88)90356-7         NaN   3052052.0  els-covid   \n",
       "3      10.1016/0002-9343(88)90456-1         NaN   3048091.0  els-covid   \n",
       "4      10.1016/0002-9343(92)90608-E         NaN   1621745.0  els-covid   \n",
       "...                             ...         ...         ...        ...   \n",
       "28457  10.1371/journal.pone.0188325  PMC5693464  29149199.0      cc-by   \n",
       "28458     10.1016/j.jmb.2008.12.029  PMC2750892  19121325.0  els-covid   \n",
       "28459         10.1128/mBio.00898-18  PMC6030562  29970463.0      cc-by   \n",
       "28460   10.1016/j.virol.2011.01.013  PMC3057228  21324503.0  els-covid   \n",
       "28461      10.3389/fimmu.2017.01519  PMC5682309  29167674.0      cc-by   \n",
       "\n",
       "                                                abstract publish_time  \\\n",
       "0      Abstract Middle-aged female identical twins, o...   1973-08-31   \n",
       "1      Abstract Our understanding of the pathogenesis...   1985-06-28   \n",
       "2      Abstract In the pathogenesis of rheumatoid art...   1988-10-14   \n",
       "3      Abstract Pharyngitis, bronchitis, and pneumoni...   1988-09-16   \n",
       "4      Abstract Acute bronchitis, an illness frequent...   1992-06-22   \n",
       "...                                                  ...          ...   \n",
       "28457  This study aimed to identify a broad spectrum ...   2017-11-17   \n",
       "28458  Abstract To enter cells, enveloped viruses use...   2009-02-13   \n",
       "28459  Human parainfluenza viruses cause a large burd...   2018-07-03   \n",
       "28460  Abstract Several arenaviruses, chiefly Lassa v...   2011-03-15   \n",
       "28461  Due to vigorous alloimmunity, an allograft is ...   2017-11-08   \n",
       "\n",
       "                                                 authors  ...  \\\n",
       "0      Brunner, Carolyn M.; Horwitz, David A.; Shann,...  ...   \n",
       "1                                       Cantey, J.Robert  ...   \n",
       "2                                    Zvaifler, Nathan J.  ...   \n",
       "3                                     Ellner, Jerrold J.  ...   \n",
       "4                                       Dere, Willard H.  ...   \n",
       "...                                                  ...  ...   \n",
       "28457  Brini, Ines; Guerrero, Aida; Hannachi, Naila; ...  ...   \n",
       "28458  Bissonnette, Mei Lin Z.; Donald, Jason E.; DeG...  ...   \n",
       "28459  Iketani, Sho; Shean, Ryan C.; Ferren, Marion; ...  ...   \n",
       "28460  Emonet, Sebastien E.; Urata, Shuzo; de la Torr...  ...   \n",
       "28461  Qiu, Feifei; Liu, Huazhen; Liang, Chun-Ling; N...  ...   \n",
       "\n",
       "      Microsoft Academic Paper ID  WHO #Covidence has_full_text  \\\n",
       "0                             NaN             NaN          True   \n",
       "1                             NaN             NaN          True   \n",
       "2                             NaN             NaN          True   \n",
       "3                             NaN             NaN          True   \n",
       "4                             NaN             NaN          True   \n",
       "...                           ...             ...           ...   \n",
       "28457                         NaN             NaN          True   \n",
       "28458                         NaN             NaN          True   \n",
       "28459                         NaN             NaN          True   \n",
       "28460                         NaN             NaN          True   \n",
       "28461                         NaN             NaN          True   \n",
       "\n",
       "        full_text_file mortality rate  \\\n",
       "0       custom_license          False   \n",
       "1       custom_license          False   \n",
       "2       custom_license          False   \n",
       "3       custom_license          False   \n",
       "4       custom_license          False   \n",
       "...                ...            ...   \n",
       "28457  comm_use_subset          False   \n",
       "28458   custom_license          False   \n",
       "28459  comm_use_subset          False   \n",
       "28460   custom_license          False   \n",
       "28461  comm_use_subset          False   \n",
       "\n",
       "       extracorporeal membrane oxygenation (ECMO)  vaccine  interventions  \\\n",
       "0                                           False    False          False   \n",
       "1                                           False    False          False   \n",
       "2                                           False    False          False   \n",
       "3                                           False    False          False   \n",
       "4                                           False    False          False   \n",
       "...                                           ...      ...            ...   \n",
       "28457                                       False    False          False   \n",
       "28458                                       False    False          False   \n",
       "28459                                       False    False          False   \n",
       "28460                                       False    False          False   \n",
       "28461                                       False    False          False   \n",
       "\n",
       "       clinical outcome  phase  \n",
       "0                 False      4  \n",
       "1                 False      2  \n",
       "2                 False      2  \n",
       "3                 False      2  \n",
       "4                 False      1  \n",
       "...                 ...    ...  \n",
       "28457             False      1  \n",
       "28458             False      1  \n",
       "28459             False      1  \n",
       "28460             False      1  \n",
       "28461             False      1  \n",
       "\n",
       "[28462 rows x 21 columns]"
      ]
     },
     "execution_count": 61,
     "metadata": {},
     "output_type": "execute_result"
    }
   ],
   "source": [
    "dff.reset_index()"
   ]
  },
  {
   "cell_type": "code",
   "execution_count": 30,
   "metadata": {},
   "outputs": [
    {
     "name": "stdout",
     "output_type": "stream",
     "text": [
      "0\n"
     ]
    },
    {
     "data": {
      "text/plain": [
       "(28462, 14)"
      ]
     },
     "execution_count": 30,
     "metadata": {},
     "output_type": "execute_result"
    }
   ],
   "source": [
    "from datetime import datetime\n",
    "l=[]\n",
    "def clean_time(val):\n",
    "    try:\n",
    "        return datetime.strptime(val, '%Y-%m-%d')\n",
    "    except:\n",
    "        try:\n",
    "            return datetime.strptime(val, '%Y %b %d')\n",
    "        except:\n",
    "            try:\n",
    "                return datetime.strptime(val, '%Y %b')\n",
    "            except:\n",
    "                try:\n",
    "                    return datetime.strptime(val, '%Y')\n",
    "                except:\n",
    "                    try:\n",
    "                        return datetime.strptime('-'.join(val.split(' ')[:3]), '%Y-%b-%d')\n",
    "                    except Exception as e:\n",
    "                        return None\n",
    "dff = df.copy(deep=True)\n",
    "dff.publish_time = df.publish_time.apply(clean_time)\n"
   ]
  },
  {
   "cell_type": "code",
   "execution_count": 31,
   "metadata": {},
   "outputs": [
    {
     "data": {
      "text/plain": [
       "sha\n",
       "aecbc613ebdab36753235197ffb4f35734b5ca63   1973-08-31\n",
       "212e990b378e8d267042753d5f9d4a64ea5e9869   1985-06-28\n",
       "bf5d344243153d58be692ceb26f52c08e2bd2d2f   1988-10-14\n",
       "ddd2ecf42ec86ad66072962081e1ce4594431f9c   1988-09-16\n",
       "a55cb4e724091ced46b5e55b982a14525eea1c7e   1992-06-22\n",
       "                                              ...    \n",
       "d4f00f66c732c292fcfc28b19f44daa2fa620901   2017-11-17\n",
       "ec575d33c0d3b34af7644fcfed64af045a75ab63   2009-02-13\n",
       "7f8715a818bfd325bf4413d3c07003d7ce7b6f7e   2018-07-03\n",
       "07e78e218a159c35e9599e3751a99551a271597b   2011-03-15\n",
       "04bc03c90437934a75fc6fdc228817234ef84c3a   2017-11-08\n",
       "Name: publish_time, Length: 28462, dtype: datetime64[ns]"
      ]
     },
     "execution_count": 31,
     "metadata": {},
     "output_type": "execute_result"
    }
   ],
   "source": [
    "dff.publish_time"
   ]
  },
  {
   "cell_type": "code",
   "execution_count": 64,
   "metadata": {},
   "outputs": [],
   "source": [
    "dummy_keywords = ['mortality rate', 'extracorporeal membrane oxygenation (ECMO)', 'vaccine', 'interventions', 'clinical outcome', None]\n",
    "len(dummy_keywords)\n",
    "\n",
    "\n",
    "\n",
    "dff['tag'] = [dummy_keywords[np.random.choice(np.arange(0,6), p=[0.02, 0.02, 0.02, 0.02,0.02, 0.9])] for i in range(dff.shape[0])]\n"
   ]
  },
  {
   "cell_type": "code",
   "execution_count": 66,
   "metadata": {},
   "outputs": [
    {
     "data": {
      "text/plain": [
       "array(['clinical outcome', None, 'interventions', 'mortality rate',\n",
       "       'vaccine', 'extracorporeal membrane oxygenation (ECMO)'],\n",
       "      dtype=object)"
      ]
     },
     "execution_count": 66,
     "metadata": {},
     "output_type": "execute_result"
    }
   ],
   "source": [
    "dff.tag.unique()"
   ]
  },
  {
   "cell_type": "code",
   "execution_count": 48,
   "metadata": {},
   "outputs": [
    {
     "data": {
      "text/plain": [
       "count     28462\n",
       "unique        2\n",
       "top       False\n",
       "freq      27987\n",
       "Name: vaccine, dtype: object"
      ]
     },
     "execution_count": 48,
     "metadata": {},
     "output_type": "execute_result"
    }
   ],
   "source": [
    "dff.vaccine.describe()"
   ]
  },
  {
   "cell_type": "code",
   "execution_count": 81,
   "metadata": {},
   "outputs": [],
   "source": [
    "dff['phase'] = [f'Phase {np.random.choice(np.arange(1,6), p=[0.5, 0.3, 0.1, 0.075, 0.025])}' for i in range(dff.shape[0])]\n"
   ]
  },
  {
   "cell_type": "code",
   "execution_count": 86,
   "metadata": {},
   "outputs": [],
   "source": [
    "pv = pd.pivot_table(dff.reset_index(), values=['sha'], index=['tag', 'phase', 'publish_time'], aggfunc=np.count_nonzero).reset_index().rename(columns={'sha':'count'})\n",
    "pd.pivot_table(dh.data.reset_index(), values=['sha'], index=['tag', 'phase', 'publish_time'], aggfunc=np.count_nonzero).reset_index().rename(columns={'sha':'count'})"
   ]
  },
  {
   "cell_type": "code",
   "execution_count": 89,
   "metadata": {},
   "outputs": [
    {
     "data": {
      "application/vnd.plotly.v1+json": {
       "config": {
        "plotlyServerURL": "https://plot.ly"
       },
       "data": [
        {
         "customdata": [
          [
           1
          ],
          [
           1
          ],
          [
           1
          ],
          [
           1
          ],
          [
           1
          ],
          [
           1
          ],
          [
           1
          ],
          [
           2
          ],
          [
           1
          ],
          [
           1
          ],
          [
           1
          ],
          [
           1
          ],
          [
           1
          ],
          [
           2
          ],
          [
           1
          ],
          [
           1
          ],
          [
           1
          ],
          [
           1
          ],
          [
           3
          ],
          [
           1
          ],
          [
           1
          ],
          [
           1
          ],
          [
           1
          ],
          [
           1
          ],
          [
           1
          ],
          [
           1
          ],
          [
           3
          ],
          [
           1
          ],
          [
           1
          ],
          [
           2
          ],
          [
           4
          ],
          [
           2
          ],
          [
           1
          ],
          [
           2
          ],
          [
           2
          ],
          [
           1
          ],
          [
           3
          ],
          [
           1
          ],
          [
           4
          ],
          [
           2
          ],
          [
           4
          ],
          [
           2
          ],
          [
           2
          ],
          [
           1
          ],
          [
           2
          ],
          [
           2
          ],
          [
           2
          ],
          [
           1
          ],
          [
           2
          ],
          [
           1
          ],
          [
           1
          ],
          [
           2
          ],
          [
           1
          ],
          [
           2
          ],
          [
           2
          ],
          [
           2
          ],
          [
           2
          ],
          [
           2
          ],
          [
           4
          ],
          [
           1
          ],
          [
           1
          ],
          [
           1
          ],
          [
           3
          ],
          [
           1
          ],
          [
           1
          ],
          [
           2
          ],
          [
           2
          ],
          [
           1
          ],
          [
           1
          ],
          [
           2
          ],
          [
           2
          ],
          [
           1
          ],
          [
           1
          ],
          [
           2
          ],
          [
           2
          ],
          [
           1
          ],
          [
           4
          ],
          [
           1
          ],
          [
           2
          ],
          [
           1
          ],
          [
           1
          ],
          [
           2
          ],
          [
           1
          ],
          [
           1
          ],
          [
           3
          ],
          [
           1
          ],
          [
           2
          ],
          [
           3
          ],
          [
           2
          ],
          [
           2
          ],
          [
           2
          ],
          [
           1
          ],
          [
           1
          ],
          [
           1
          ],
          [
           1
          ],
          [
           1
          ],
          [
           1
          ],
          [
           2
          ],
          [
           1
          ],
          [
           1
          ],
          [
           1
          ],
          [
           4
          ],
          [
           2
          ],
          [
           2
          ],
          [
           9
          ],
          [
           1
          ],
          [
           4
          ],
          [
           2
          ],
          [
           2
          ],
          [
           1
          ],
          [
           1
          ],
          [
           4
          ],
          [
           4
          ],
          [
           4
          ],
          [
           2
          ],
          [
           2
          ],
          [
           3
          ],
          [
           2
          ],
          [
           3
          ],
          [
           1
          ],
          [
           2
          ],
          [
           1
          ],
          [
           1
          ],
          [
           1
          ],
          [
           2
          ],
          [
           1
          ],
          [
           4
          ],
          [
           1
          ],
          [
           1
          ],
          [
           1
          ],
          [
           1
          ],
          [
           1
          ],
          [
           1
          ],
          [
           1
          ],
          [
           3
          ],
          [
           1
          ],
          [
           1
          ],
          [
           4
          ],
          [
           2
          ],
          [
           3
          ],
          [
           3
          ],
          [
           5
          ],
          [
           7
          ],
          [
           4
          ],
          [
           3
          ],
          [
           1
          ],
          [
           3
          ],
          [
           1
          ],
          [
           5
          ],
          [
           5
          ],
          [
           5
          ],
          [
           4
          ],
          [
           1
          ],
          [
           1
          ],
          [
           1
          ],
          [
           1
          ],
          [
           1
          ],
          [
           1
          ],
          [
           1
          ],
          [
           1
          ],
          [
           1
          ],
          [
           1
          ],
          [
           1
          ],
          [
           1
          ],
          [
           1
          ],
          [
           1
          ],
          [
           1
          ],
          [
           1
          ],
          [
           1
          ],
          [
           2
          ],
          [
           1
          ],
          [
           2
          ],
          [
           1
          ],
          [
           1
          ],
          [
           3
          ],
          [
           1
          ],
          [
           1
          ],
          [
           1
          ],
          [
           1
          ],
          [
           5
          ],
          [
           1
          ],
          [
           1
          ],
          [
           1
          ],
          [
           1
          ],
          [
           1
          ],
          [
           1
          ],
          [
           1
          ],
          [
           2
          ],
          [
           1
          ],
          [
           1
          ],
          [
           2
          ],
          [
           1
          ],
          [
           1
          ],
          [
           1
          ],
          [
           1
          ],
          [
           2
          ],
          [
           2
          ],
          [
           1
          ],
          [
           1
          ],
          [
           3
          ],
          [
           4
          ],
          [
           2
          ],
          [
           1
          ],
          [
           2
          ],
          [
           1
          ],
          [
           3
          ],
          [
           1
          ],
          [
           1
          ],
          [
           3
          ],
          [
           3
          ],
          [
           1
          ],
          [
           3
          ],
          [
           2
          ],
          [
           2
          ],
          [
           1
          ],
          [
           1
          ],
          [
           1
          ],
          [
           3
          ],
          [
           1
          ],
          [
           1
          ],
          [
           3
          ],
          [
           1
          ],
          [
           2
          ],
          [
           4
          ],
          [
           1
          ],
          [
           1
          ],
          [
           3
          ],
          [
           2
          ],
          [
           1
          ],
          [
           3
          ],
          [
           1
          ],
          [
           1
          ],
          [
           1
          ],
          [
           1
          ],
          [
           1
          ],
          [
           1
          ],
          [
           1
          ],
          [
           4
          ],
          [
           1
          ],
          [
           3
          ],
          [
           1
          ],
          [
           2
          ],
          [
           3
          ],
          [
           3
          ],
          [
           2
          ],
          [
           2
          ],
          [
           2
          ],
          [
           1
          ],
          [
           4
          ],
          [
           1
          ],
          [
           1
          ],
          [
           1
          ],
          [
           1
          ],
          [
           1
          ],
          [
           1
          ],
          [
           2
          ],
          [
           5
          ],
          [
           5
          ],
          [
           2
          ],
          [
           1
          ],
          [
           1
          ],
          [
           1
          ],
          [
           1
          ],
          [
           1
          ],
          [
           1
          ],
          [
           1
          ],
          [
           1
          ],
          [
           1
          ],
          [
           1
          ],
          [
           1
          ],
          [
           1
          ],
          [
           1
          ],
          [
           1
          ],
          [
           2
          ],
          [
           1
          ],
          [
           1
          ],
          [
           1
          ],
          [
           1
          ],
          [
           1
          ],
          [
           1
          ],
          [
           1
          ],
          [
           1
          ],
          [
           1
          ],
          [
           2
          ],
          [
           2
          ],
          [
           1
          ],
          [
           1
          ],
          [
           1
          ],
          [
           1
          ],
          [
           1
          ],
          [
           1
          ],
          [
           1
          ],
          [
           2
          ],
          [
           1
          ],
          [
           1
          ],
          [
           1
          ],
          [
           1
          ],
          [
           1
          ],
          [
           1
          ],
          [
           1
          ],
          [
           1
          ],
          [
           1
          ],
          [
           1
          ],
          [
           2
          ],
          [
           1
          ],
          [
           1
          ],
          [
           1
          ],
          [
           2
          ],
          [
           1
          ],
          [
           1
          ],
          [
           1
          ],
          [
           1
          ],
          [
           2
          ],
          [
           1
          ],
          [
           1
          ],
          [
           1
          ],
          [
           1
          ],
          [
           1
          ],
          [
           1
          ],
          [
           1
          ],
          [
           1
          ],
          [
           1
          ],
          [
           1
          ],
          [
           1
          ],
          [
           1
          ],
          [
           1
          ],
          [
           1
          ],
          [
           1
          ],
          [
           1
          ],
          [
           1
          ],
          [
           1
          ],
          [
           1
          ],
          [
           1
          ],
          [
           1
          ],
          [
           1
          ],
          [
           1
          ],
          [
           1
          ],
          [
           1
          ],
          [
           1
          ],
          [
           1
          ],
          [
           1
          ],
          [
           2
          ],
          [
           1
          ],
          [
           2
          ],
          [
           3
          ],
          [
           1
          ],
          [
           1
          ],
          [
           1
          ],
          [
           2
          ],
          [
           1
          ],
          [
           1
          ],
          [
           1
          ],
          [
           1
          ],
          [
           1
          ],
          [
           1
          ],
          [
           1
          ],
          [
           1
          ],
          [
           1
          ],
          [
           1
          ],
          [
           1
          ],
          [
           1
          ],
          [
           1
          ],
          [
           1
          ],
          [
           1
          ],
          [
           1
          ],
          [
           2
          ],
          [
           1
          ],
          [
           1
          ],
          [
           1
          ],
          [
           1
          ],
          [
           1
          ],
          [
           1
          ],
          [
           1
          ],
          [
           1
          ],
          [
           1
          ],
          [
           1
          ],
          [
           2
          ],
          [
           1
          ],
          [
           1
          ],
          [
           1
          ],
          [
           2
          ]
         ],
         "hoverlabel": {
          "namelength": 0
         },
         "hovertemplate": "<b>%{hovertext}</b><br><br>tag=clinical outcome<br>publish_time=%{x}<br>phase=%{y}<br>count=%{customdata[0]}",
         "hovertext": [
          "clinical outcome",
          "clinical outcome",
          "clinical outcome",
          "clinical outcome",
          "clinical outcome",
          "clinical outcome",
          "clinical outcome",
          "clinical outcome",
          "clinical outcome",
          "clinical outcome",
          "clinical outcome",
          "clinical outcome",
          "clinical outcome",
          "clinical outcome",
          "clinical outcome",
          "clinical outcome",
          "clinical outcome",
          "clinical outcome",
          "clinical outcome",
          "clinical outcome",
          "clinical outcome",
          "clinical outcome",
          "clinical outcome",
          "clinical outcome",
          "clinical outcome",
          "clinical outcome",
          "clinical outcome",
          "clinical outcome",
          "clinical outcome",
          "clinical outcome",
          "clinical outcome",
          "clinical outcome",
          "clinical outcome",
          "clinical outcome",
          "clinical outcome",
          "clinical outcome",
          "clinical outcome",
          "clinical outcome",
          "clinical outcome",
          "clinical outcome",
          "clinical outcome",
          "clinical outcome",
          "clinical outcome",
          "clinical outcome",
          "clinical outcome",
          "clinical outcome",
          "clinical outcome",
          "clinical outcome",
          "clinical outcome",
          "clinical outcome",
          "clinical outcome",
          "clinical outcome",
          "clinical outcome",
          "clinical outcome",
          "clinical outcome",
          "clinical outcome",
          "clinical outcome",
          "clinical outcome",
          "clinical outcome",
          "clinical outcome",
          "clinical outcome",
          "clinical outcome",
          "clinical outcome",
          "clinical outcome",
          "clinical outcome",
          "clinical outcome",
          "clinical outcome",
          "clinical outcome",
          "clinical outcome",
          "clinical outcome",
          "clinical outcome",
          "clinical outcome",
          "clinical outcome",
          "clinical outcome",
          "clinical outcome",
          "clinical outcome",
          "clinical outcome",
          "clinical outcome",
          "clinical outcome",
          "clinical outcome",
          "clinical outcome",
          "clinical outcome",
          "clinical outcome",
          "clinical outcome",
          "clinical outcome",
          "clinical outcome",
          "clinical outcome",
          "clinical outcome",
          "clinical outcome",
          "clinical outcome",
          "clinical outcome",
          "clinical outcome",
          "clinical outcome",
          "clinical outcome",
          "clinical outcome",
          "clinical outcome",
          "clinical outcome",
          "clinical outcome",
          "clinical outcome",
          "clinical outcome",
          "clinical outcome",
          "clinical outcome",
          "clinical outcome",
          "clinical outcome",
          "clinical outcome",
          "clinical outcome",
          "clinical outcome",
          "clinical outcome",
          "clinical outcome",
          "clinical outcome",
          "clinical outcome",
          "clinical outcome",
          "clinical outcome",
          "clinical outcome",
          "clinical outcome",
          "clinical outcome",
          "clinical outcome",
          "clinical outcome",
          "clinical outcome",
          "clinical outcome",
          "clinical outcome",
          "clinical outcome",
          "clinical outcome",
          "clinical outcome",
          "clinical outcome",
          "clinical outcome",
          "clinical outcome",
          "clinical outcome",
          "clinical outcome",
          "clinical outcome",
          "clinical outcome",
          "clinical outcome",
          "clinical outcome",
          "clinical outcome",
          "clinical outcome",
          "clinical outcome",
          "clinical outcome",
          "clinical outcome",
          "clinical outcome",
          "clinical outcome",
          "clinical outcome",
          "clinical outcome",
          "clinical outcome",
          "clinical outcome",
          "clinical outcome",
          "clinical outcome",
          "clinical outcome",
          "clinical outcome",
          "clinical outcome",
          "clinical outcome",
          "clinical outcome",
          "clinical outcome",
          "clinical outcome",
          "clinical outcome",
          "clinical outcome",
          "clinical outcome",
          "clinical outcome",
          "clinical outcome",
          "clinical outcome",
          "clinical outcome",
          "clinical outcome",
          "clinical outcome",
          "clinical outcome",
          "clinical outcome",
          "clinical outcome",
          "clinical outcome",
          "clinical outcome",
          "clinical outcome",
          "clinical outcome",
          "clinical outcome",
          "clinical outcome",
          "clinical outcome",
          "clinical outcome",
          "clinical outcome",
          "clinical outcome",
          "clinical outcome",
          "clinical outcome",
          "clinical outcome",
          "clinical outcome",
          "clinical outcome",
          "clinical outcome",
          "clinical outcome",
          "clinical outcome",
          "clinical outcome",
          "clinical outcome",
          "clinical outcome",
          "clinical outcome",
          "clinical outcome",
          "clinical outcome",
          "clinical outcome",
          "clinical outcome",
          "clinical outcome",
          "clinical outcome",
          "clinical outcome",
          "clinical outcome",
          "clinical outcome",
          "clinical outcome",
          "clinical outcome",
          "clinical outcome",
          "clinical outcome",
          "clinical outcome",
          "clinical outcome",
          "clinical outcome",
          "clinical outcome",
          "clinical outcome",
          "clinical outcome",
          "clinical outcome",
          "clinical outcome",
          "clinical outcome",
          "clinical outcome",
          "clinical outcome",
          "clinical outcome",
          "clinical outcome",
          "clinical outcome",
          "clinical outcome",
          "clinical outcome",
          "clinical outcome",
          "clinical outcome",
          "clinical outcome",
          "clinical outcome",
          "clinical outcome",
          "clinical outcome",
          "clinical outcome",
          "clinical outcome",
          "clinical outcome",
          "clinical outcome",
          "clinical outcome",
          "clinical outcome",
          "clinical outcome",
          "clinical outcome",
          "clinical outcome",
          "clinical outcome",
          "clinical outcome",
          "clinical outcome",
          "clinical outcome",
          "clinical outcome",
          "clinical outcome",
          "clinical outcome",
          "clinical outcome",
          "clinical outcome",
          "clinical outcome",
          "clinical outcome",
          "clinical outcome",
          "clinical outcome",
          "clinical outcome",
          "clinical outcome",
          "clinical outcome",
          "clinical outcome",
          "clinical outcome",
          "clinical outcome",
          "clinical outcome",
          "clinical outcome",
          "clinical outcome",
          "clinical outcome",
          "clinical outcome",
          "clinical outcome",
          "clinical outcome",
          "clinical outcome",
          "clinical outcome",
          "clinical outcome",
          "clinical outcome",
          "clinical outcome",
          "clinical outcome",
          "clinical outcome",
          "clinical outcome",
          "clinical outcome",
          "clinical outcome",
          "clinical outcome",
          "clinical outcome",
          "clinical outcome",
          "clinical outcome",
          "clinical outcome",
          "clinical outcome",
          "clinical outcome",
          "clinical outcome",
          "clinical outcome",
          "clinical outcome",
          "clinical outcome",
          "clinical outcome",
          "clinical outcome",
          "clinical outcome",
          "clinical outcome",
          "clinical outcome",
          "clinical outcome",
          "clinical outcome",
          "clinical outcome",
          "clinical outcome",
          "clinical outcome",
          "clinical outcome",
          "clinical outcome",
          "clinical outcome",
          "clinical outcome",
          "clinical outcome",
          "clinical outcome",
          "clinical outcome",
          "clinical outcome",
          "clinical outcome",
          "clinical outcome",
          "clinical outcome",
          "clinical outcome",
          "clinical outcome",
          "clinical outcome",
          "clinical outcome",
          "clinical outcome",
          "clinical outcome",
          "clinical outcome",
          "clinical outcome",
          "clinical outcome",
          "clinical outcome",
          "clinical outcome",
          "clinical outcome",
          "clinical outcome",
          "clinical outcome",
          "clinical outcome",
          "clinical outcome",
          "clinical outcome",
          "clinical outcome",
          "clinical outcome",
          "clinical outcome",
          "clinical outcome",
          "clinical outcome",
          "clinical outcome",
          "clinical outcome",
          "clinical outcome",
          "clinical outcome",
          "clinical outcome",
          "clinical outcome",
          "clinical outcome",
          "clinical outcome",
          "clinical outcome",
          "clinical outcome",
          "clinical outcome",
          "clinical outcome",
          "clinical outcome",
          "clinical outcome",
          "clinical outcome",
          "clinical outcome",
          "clinical outcome",
          "clinical outcome",
          "clinical outcome",
          "clinical outcome",
          "clinical outcome",
          "clinical outcome",
          "clinical outcome",
          "clinical outcome",
          "clinical outcome",
          "clinical outcome",
          "clinical outcome",
          "clinical outcome",
          "clinical outcome",
          "clinical outcome",
          "clinical outcome",
          "clinical outcome",
          "clinical outcome",
          "clinical outcome",
          "clinical outcome",
          "clinical outcome",
          "clinical outcome",
          "clinical outcome",
          "clinical outcome",
          "clinical outcome",
          "clinical outcome",
          "clinical outcome",
          "clinical outcome",
          "clinical outcome",
          "clinical outcome",
          "clinical outcome",
          "clinical outcome",
          "clinical outcome",
          "clinical outcome",
          "clinical outcome",
          "clinical outcome",
          "clinical outcome",
          "clinical outcome",
          "clinical outcome",
          "clinical outcome",
          "clinical outcome",
          "clinical outcome",
          "clinical outcome",
          "clinical outcome",
          "clinical outcome"
         ],
         "legendgroup": "clinical outcome",
         "marker": {
          "color": "#636efa",
          "size": [
           1,
           1,
           1,
           1,
           1,
           1,
           1,
           2,
           1,
           1,
           1,
           1,
           1,
           2,
           1,
           1,
           1,
           1,
           3,
           1,
           1,
           1,
           1,
           1,
           1,
           1,
           3,
           1,
           1,
           2,
           4,
           2,
           1,
           2,
           2,
           1,
           3,
           1,
           4,
           2,
           4,
           2,
           2,
           1,
           2,
           2,
           2,
           1,
           2,
           1,
           1,
           2,
           1,
           2,
           2,
           2,
           2,
           2,
           4,
           1,
           1,
           1,
           3,
           1,
           1,
           2,
           2,
           1,
           1,
           2,
           2,
           1,
           1,
           2,
           2,
           1,
           4,
           1,
           2,
           1,
           1,
           2,
           1,
           1,
           3,
           1,
           2,
           3,
           2,
           2,
           2,
           1,
           1,
           1,
           1,
           1,
           1,
           2,
           1,
           1,
           1,
           4,
           2,
           2,
           9,
           1,
           4,
           2,
           2,
           1,
           1,
           4,
           4,
           4,
           2,
           2,
           3,
           2,
           3,
           1,
           2,
           1,
           1,
           1,
           2,
           1,
           4,
           1,
           1,
           1,
           1,
           1,
           1,
           1,
           3,
           1,
           1,
           4,
           2,
           3,
           3,
           5,
           7,
           4,
           3,
           1,
           3,
           1,
           5,
           5,
           5,
           4,
           1,
           1,
           1,
           1,
           1,
           1,
           1,
           1,
           1,
           1,
           1,
           1,
           1,
           1,
           1,
           1,
           1,
           2,
           1,
           2,
           1,
           1,
           3,
           1,
           1,
           1,
           1,
           5,
           1,
           1,
           1,
           1,
           1,
           1,
           1,
           2,
           1,
           1,
           2,
           1,
           1,
           1,
           1,
           2,
           2,
           1,
           1,
           3,
           4,
           2,
           1,
           2,
           1,
           3,
           1,
           1,
           3,
           3,
           1,
           3,
           2,
           2,
           1,
           1,
           1,
           3,
           1,
           1,
           3,
           1,
           2,
           4,
           1,
           1,
           3,
           2,
           1,
           3,
           1,
           1,
           1,
           1,
           1,
           1,
           1,
           4,
           1,
           3,
           1,
           2,
           3,
           3,
           2,
           2,
           2,
           1,
           4,
           1,
           1,
           1,
           1,
           1,
           1,
           2,
           5,
           5,
           2,
           1,
           1,
           1,
           1,
           1,
           1,
           1,
           1,
           1,
           1,
           1,
           1,
           1,
           1,
           2,
           1,
           1,
           1,
           1,
           1,
           1,
           1,
           1,
           1,
           2,
           2,
           1,
           1,
           1,
           1,
           1,
           1,
           1,
           2,
           1,
           1,
           1,
           1,
           1,
           1,
           1,
           1,
           1,
           1,
           2,
           1,
           1,
           1,
           2,
           1,
           1,
           1,
           1,
           2,
           1,
           1,
           1,
           1,
           1,
           1,
           1,
           1,
           1,
           1,
           1,
           1,
           1,
           1,
           1,
           1,
           1,
           1,
           1,
           1,
           1,
           1,
           1,
           1,
           1,
           1,
           1,
           1,
           2,
           1,
           2,
           3,
           1,
           1,
           1,
           2,
           1,
           1,
           1,
           1,
           1,
           1,
           1,
           1,
           1,
           1,
           1,
           1,
           1,
           1,
           1,
           1,
           2,
           1,
           1,
           1,
           1,
           1,
           1,
           1,
           1,
           1,
           1,
           2,
           1,
           1,
           1,
           2
          ],
          "sizemode": "area",
          "sizeref": 0.0275,
          "symbol": "circle"
         },
         "mode": "markers",
         "name": "clinical outcome",
         "showlegend": true,
         "type": "scattergl",
         "x": [
          "1963-05",
          "1975-07",
          "1981-10",
          "1982-09",
          "1984-10",
          "1986-12",
          "1990-06",
          "1991-01",
          "1991-08",
          "1992-06",
          "1992-12",
          "1993-04",
          "1994-01",
          "1994-12",
          "1997-02",
          "1997-12",
          "1998-11",
          "2000-02",
          "2002-12",
          "2003-05",
          "2003-06",
          "2004-02",
          "2004-06",
          "2004-07",
          "2004-08",
          "2004-10",
          "2004-12",
          "2005-06",
          "2005-07",
          "2005-09",
          "2005-12",
          "2006-02",
          "2006-05",
          "2006-06",
          "2006-09",
          "2006-10",
          "2006-12",
          "2007-01",
          "2007-06",
          "2007-08",
          "2007-09",
          "2007-12",
          "2008-02",
          "2008-03",
          "2008-04",
          "2008-05",
          "2008-07",
          "2008-08",
          "2008-09",
          "2008-10",
          "2008-11",
          "2008-12",
          "2009-01",
          "2009-04",
          "2009-05",
          "2009-07",
          "2009-08",
          "2009-11",
          "2009-12",
          "2010-01",
          "2010-02",
          "2010-03",
          "2010-06",
          "2010-08",
          "2010-10",
          "2010-11",
          "2010-12",
          "2011-01",
          "2011-03",
          "2011-07",
          "2011-08",
          "2011-10",
          "2012-01",
          "2012-03",
          "2012-05",
          "2012-09",
          "2012-10",
          "2012-11",
          "2012-12",
          "2013-01",
          "2013-02",
          "2013-03",
          "2013-05",
          "2013-07",
          "2013-08",
          "2013-11",
          "2013-12",
          "2014-01",
          "2014-02",
          "2014-03",
          "2014-04",
          "2014-05",
          "2014-06",
          "2014-08",
          "2014-10",
          "2014-11",
          "2014-12",
          "2015-01",
          "2015-02",
          "2015-05",
          "2015-06",
          "2015-07",
          "2015-08",
          "2015-09",
          "2015-12",
          "2016-01",
          "2016-02",
          "2016-03",
          "2016-04",
          "2016-05",
          "2016-08",
          "2016-09",
          "2016-10",
          "2016-11",
          "2016-12",
          "2017-01",
          "2017-03",
          "2017-05",
          "2017-06",
          "2017-07",
          "2017-08",
          "2017-09",
          "2017-10",
          "2017-11",
          "2017-12",
          "2018-01",
          "2018-02",
          "2018-03",
          "2018-04",
          "2018-05",
          "2018-06",
          "2018-07",
          "2018-08",
          "2018-09",
          "2018-10",
          "2018-11",
          "2018-12",
          "2019-01",
          "2019-02",
          "2019-03",
          "2019-04",
          "2019-05",
          "2019-06",
          "2019-07",
          "2019-08",
          "2019-09",
          "2019-10",
          "2019-11",
          "2019-12",
          "2020-01",
          "2020-02",
          "2020-03",
          "2020-04",
          "2020-12",
          "1985-01",
          "1989-09",
          "1989-12",
          "1991-01",
          "1991-05",
          "1992-07",
          "1992-12",
          "1994-04",
          "1995-04",
          "1998-08",
          "1999-02",
          "1999-07",
          "1999-12",
          "2000-03",
          "2000-09",
          "2002-12",
          "2003-12",
          "2004-01",
          "2004-02",
          "2004-09",
          "2004-12",
          "2005-06",
          "2006-09",
          "2006-10",
          "2006-11",
          "2006-12",
          "2007-06",
          "2008-02",
          "2008-03",
          "2008-04",
          "2008-05",
          "2008-12",
          "2009-03",
          "2009-04",
          "2009-05",
          "2009-11",
          "2009-12",
          "2010-02",
          "2010-04",
          "2010-06",
          "2010-10",
          "2010-11",
          "2010-12",
          "2011-06",
          "2011-08",
          "2011-12",
          "2012-03",
          "2012-04",
          "2012-06",
          "2012-12",
          "2013-04",
          "2013-05",
          "2013-06",
          "2013-08",
          "2013-09",
          "2013-10",
          "2013-12",
          "2014-02",
          "2014-03",
          "2014-07",
          "2014-08",
          "2014-09",
          "2014-11",
          "2014-12",
          "2015-01",
          "2015-08",
          "2015-09",
          "2015-10",
          "2015-12",
          "2016-01",
          "2016-04",
          "2016-05",
          "2016-06",
          "2016-07",
          "2016-08",
          "2016-10",
          "2016-12",
          "2017-01",
          "2017-02",
          "2017-03",
          "2017-04",
          "2017-05",
          "2017-06",
          "2017-08",
          "2017-10",
          "2017-12",
          "2018-01",
          "2018-02",
          "2018-03",
          "2018-04",
          "2018-10",
          "2018-11",
          "2019-01",
          "2019-02",
          "2019-04",
          "2019-05",
          "2019-06",
          "2019-07",
          "2019-09",
          "2019-11",
          "2019-12",
          "2020-01",
          "2020-02",
          "2020-03",
          "2020-12",
          "1973-08",
          "1986-12",
          "1988-02",
          "1988-05",
          "1988-06",
          "1989-03",
          "1990-09",
          "1991-06",
          "1993-12",
          "2003-11",
          "2004-04",
          "2005-03",
          "2006-02",
          "2006-08",
          "2006-12",
          "2007-06",
          "2007-07",
          "2008-01",
          "2008-12",
          "2009-05",
          "2009-06",
          "2009-12",
          "2010-08",
          "2010-09",
          "2011-03",
          "2011-06",
          "2011-12",
          "2012-01",
          "2012-03",
          "2012-08",
          "2013-10",
          "2013-12",
          "2014-08",
          "2014-12",
          "2015-10",
          "2016-02",
          "2016-07",
          "2016-10",
          "2016-11",
          "2016-12",
          "2017-04",
          "2017-07",
          "2017-10",
          "2017-11",
          "2017-12",
          "2018-07",
          "2018-10",
          "2018-12",
          "2019-03",
          "2019-05",
          "2019-07",
          "2019-08",
          "2019-10",
          "2019-12",
          "2020-01",
          "2020-03",
          "1985-06",
          "1988-12",
          "1991-04",
          "1993-01",
          "1995-09",
          "1998-01",
          "2000-12",
          "2001-05",
          "2003-06",
          "2005-06",
          "2005-08",
          "2005-12",
          "2006-03",
          "2006-07",
          "2007-09",
          "2007-12",
          "2008-09",
          "2008-12",
          "2009-05",
          "2010-03",
          "2010-10",
          "2010-12",
          "2011-02",
          "2011-06",
          "2011-12",
          "2012-10",
          "2012-12",
          "2013-02",
          "2013-03",
          "2013-04",
          "2013-06",
          "2013-10",
          "2014-05",
          "2014-09",
          "2014-12",
          "2015-04",
          "2015-09",
          "2016-04",
          "2016-12",
          "2017-05",
          "2017-06",
          "2018-04",
          "2018-05",
          "2018-08",
          "2018-10",
          "2018-11",
          "2019-02",
          "2019-05",
          "2019-11",
          "2019-12",
          "2020-02",
          "2020-03",
          "1982-03",
          "1998-09",
          "2005-12",
          "2007-07",
          "2010-06",
          "2012-12",
          "2014-10",
          "2015-06",
          "2016-06",
          "2017-07",
          "2017-12",
          "2018-11",
          "2019-09",
          "2019-12"
         ],
         "xaxis": "x",
         "y": [
          "Phase 1",
          "Phase 1",
          "Phase 1",
          "Phase 1",
          "Phase 1",
          "Phase 1",
          "Phase 1",
          "Phase 1",
          "Phase 1",
          "Phase 1",
          "Phase 1",
          "Phase 1",
          "Phase 1",
          "Phase 1",
          "Phase 1",
          "Phase 1",
          "Phase 1",
          "Phase 1",
          "Phase 1",
          "Phase 1",
          "Phase 1",
          "Phase 1",
          "Phase 1",
          "Phase 1",
          "Phase 1",
          "Phase 1",
          "Phase 1",
          "Phase 1",
          "Phase 1",
          "Phase 1",
          "Phase 1",
          "Phase 1",
          "Phase 1",
          "Phase 1",
          "Phase 1",
          "Phase 1",
          "Phase 1",
          "Phase 1",
          "Phase 1",
          "Phase 1",
          "Phase 1",
          "Phase 1",
          "Phase 1",
          "Phase 1",
          "Phase 1",
          "Phase 1",
          "Phase 1",
          "Phase 1",
          "Phase 1",
          "Phase 1",
          "Phase 1",
          "Phase 1",
          "Phase 1",
          "Phase 1",
          "Phase 1",
          "Phase 1",
          "Phase 1",
          "Phase 1",
          "Phase 1",
          "Phase 1",
          "Phase 1",
          "Phase 1",
          "Phase 1",
          "Phase 1",
          "Phase 1",
          "Phase 1",
          "Phase 1",
          "Phase 1",
          "Phase 1",
          "Phase 1",
          "Phase 1",
          "Phase 1",
          "Phase 1",
          "Phase 1",
          "Phase 1",
          "Phase 1",
          "Phase 1",
          "Phase 1",
          "Phase 1",
          "Phase 1",
          "Phase 1",
          "Phase 1",
          "Phase 1",
          "Phase 1",
          "Phase 1",
          "Phase 1",
          "Phase 1",
          "Phase 1",
          "Phase 1",
          "Phase 1",
          "Phase 1",
          "Phase 1",
          "Phase 1",
          "Phase 1",
          "Phase 1",
          "Phase 1",
          "Phase 1",
          "Phase 1",
          "Phase 1",
          "Phase 1",
          "Phase 1",
          "Phase 1",
          "Phase 1",
          "Phase 1",
          "Phase 1",
          "Phase 1",
          "Phase 1",
          "Phase 1",
          "Phase 1",
          "Phase 1",
          "Phase 1",
          "Phase 1",
          "Phase 1",
          "Phase 1",
          "Phase 1",
          "Phase 1",
          "Phase 1",
          "Phase 1",
          "Phase 1",
          "Phase 1",
          "Phase 1",
          "Phase 1",
          "Phase 1",
          "Phase 1",
          "Phase 1",
          "Phase 1",
          "Phase 1",
          "Phase 1",
          "Phase 1",
          "Phase 1",
          "Phase 1",
          "Phase 1",
          "Phase 1",
          "Phase 1",
          "Phase 1",
          "Phase 1",
          "Phase 1",
          "Phase 1",
          "Phase 1",
          "Phase 1",
          "Phase 1",
          "Phase 1",
          "Phase 1",
          "Phase 1",
          "Phase 1",
          "Phase 1",
          "Phase 1",
          "Phase 1",
          "Phase 1",
          "Phase 1",
          "Phase 1",
          "Phase 1",
          "Phase 1",
          "Phase 1",
          "Phase 2",
          "Phase 2",
          "Phase 2",
          "Phase 2",
          "Phase 2",
          "Phase 2",
          "Phase 2",
          "Phase 2",
          "Phase 2",
          "Phase 2",
          "Phase 2",
          "Phase 2",
          "Phase 2",
          "Phase 2",
          "Phase 2",
          "Phase 2",
          "Phase 2",
          "Phase 2",
          "Phase 2",
          "Phase 2",
          "Phase 2",
          "Phase 2",
          "Phase 2",
          "Phase 2",
          "Phase 2",
          "Phase 2",
          "Phase 2",
          "Phase 2",
          "Phase 2",
          "Phase 2",
          "Phase 2",
          "Phase 2",
          "Phase 2",
          "Phase 2",
          "Phase 2",
          "Phase 2",
          "Phase 2",
          "Phase 2",
          "Phase 2",
          "Phase 2",
          "Phase 2",
          "Phase 2",
          "Phase 2",
          "Phase 2",
          "Phase 2",
          "Phase 2",
          "Phase 2",
          "Phase 2",
          "Phase 2",
          "Phase 2",
          "Phase 2",
          "Phase 2",
          "Phase 2",
          "Phase 2",
          "Phase 2",
          "Phase 2",
          "Phase 2",
          "Phase 2",
          "Phase 2",
          "Phase 2",
          "Phase 2",
          "Phase 2",
          "Phase 2",
          "Phase 2",
          "Phase 2",
          "Phase 2",
          "Phase 2",
          "Phase 2",
          "Phase 2",
          "Phase 2",
          "Phase 2",
          "Phase 2",
          "Phase 2",
          "Phase 2",
          "Phase 2",
          "Phase 2",
          "Phase 2",
          "Phase 2",
          "Phase 2",
          "Phase 2",
          "Phase 2",
          "Phase 2",
          "Phase 2",
          "Phase 2",
          "Phase 2",
          "Phase 2",
          "Phase 2",
          "Phase 2",
          "Phase 2",
          "Phase 2",
          "Phase 2",
          "Phase 2",
          "Phase 2",
          "Phase 2",
          "Phase 2",
          "Phase 2",
          "Phase 2",
          "Phase 2",
          "Phase 2",
          "Phase 2",
          "Phase 2",
          "Phase 2",
          "Phase 2",
          "Phase 2",
          "Phase 2",
          "Phase 3",
          "Phase 3",
          "Phase 3",
          "Phase 3",
          "Phase 3",
          "Phase 3",
          "Phase 3",
          "Phase 3",
          "Phase 3",
          "Phase 3",
          "Phase 3",
          "Phase 3",
          "Phase 3",
          "Phase 3",
          "Phase 3",
          "Phase 3",
          "Phase 3",
          "Phase 3",
          "Phase 3",
          "Phase 3",
          "Phase 3",
          "Phase 3",
          "Phase 3",
          "Phase 3",
          "Phase 3",
          "Phase 3",
          "Phase 3",
          "Phase 3",
          "Phase 3",
          "Phase 3",
          "Phase 3",
          "Phase 3",
          "Phase 3",
          "Phase 3",
          "Phase 3",
          "Phase 3",
          "Phase 3",
          "Phase 3",
          "Phase 3",
          "Phase 3",
          "Phase 3",
          "Phase 3",
          "Phase 3",
          "Phase 3",
          "Phase 3",
          "Phase 3",
          "Phase 3",
          "Phase 3",
          "Phase 3",
          "Phase 3",
          "Phase 3",
          "Phase 3",
          "Phase 3",
          "Phase 3",
          "Phase 3",
          "Phase 3",
          "Phase 4",
          "Phase 4",
          "Phase 4",
          "Phase 4",
          "Phase 4",
          "Phase 4",
          "Phase 4",
          "Phase 4",
          "Phase 4",
          "Phase 4",
          "Phase 4",
          "Phase 4",
          "Phase 4",
          "Phase 4",
          "Phase 4",
          "Phase 4",
          "Phase 4",
          "Phase 4",
          "Phase 4",
          "Phase 4",
          "Phase 4",
          "Phase 4",
          "Phase 4",
          "Phase 4",
          "Phase 4",
          "Phase 4",
          "Phase 4",
          "Phase 4",
          "Phase 4",
          "Phase 4",
          "Phase 4",
          "Phase 4",
          "Phase 4",
          "Phase 4",
          "Phase 4",
          "Phase 4",
          "Phase 4",
          "Phase 4",
          "Phase 4",
          "Phase 4",
          "Phase 4",
          "Phase 4",
          "Phase 4",
          "Phase 4",
          "Phase 4",
          "Phase 4",
          "Phase 4",
          "Phase 4",
          "Phase 4",
          "Phase 4",
          "Phase 4",
          "Phase 4",
          "Phase 5",
          "Phase 5",
          "Phase 5",
          "Phase 5",
          "Phase 5",
          "Phase 5",
          "Phase 5",
          "Phase 5",
          "Phase 5",
          "Phase 5",
          "Phase 5",
          "Phase 5",
          "Phase 5",
          "Phase 5"
         ],
         "yaxis": "y"
        },
        {
         "customdata": [
          [
           1
          ],
          [
           1
          ],
          [
           1
          ],
          [
           1
          ],
          [
           1
          ],
          [
           1
          ],
          [
           2
          ],
          [
           1
          ],
          [
           1
          ],
          [
           1
          ],
          [
           1
          ],
          [
           1
          ],
          [
           1
          ],
          [
           1
          ],
          [
           1
          ],
          [
           1
          ],
          [
           1
          ],
          [
           1
          ],
          [
           1
          ],
          [
           1
          ],
          [
           1
          ],
          [
           1
          ],
          [
           1
          ],
          [
           1
          ],
          [
           1
          ],
          [
           1
          ],
          [
           1
          ],
          [
           1
          ],
          [
           1
          ],
          [
           2
          ],
          [
           1
          ],
          [
           2
          ],
          [
           1
          ],
          [
           1
          ],
          [
           1
          ],
          [
           3
          ],
          [
           1
          ],
          [
           1
          ],
          [
           1
          ],
          [
           1
          ],
          [
           2
          ],
          [
           1
          ],
          [
           1
          ],
          [
           1
          ],
          [
           1
          ],
          [
           1
          ],
          [
           11
          ],
          [
           1
          ],
          [
           1
          ],
          [
           1
          ],
          [
           1
          ],
          [
           2
          ],
          [
           1
          ],
          [
           2
          ],
          [
           2
          ],
          [
           4
          ],
          [
           1
          ],
          [
           1
          ],
          [
           1
          ],
          [
           4
          ],
          [
           1
          ],
          [
           3
          ],
          [
           1
          ],
          [
           1
          ],
          [
           1
          ],
          [
           2
          ],
          [
           1
          ],
          [
           1
          ],
          [
           2
          ],
          [
           1
          ],
          [
           3
          ],
          [
           1
          ],
          [
           1
          ],
          [
           3
          ],
          [
           1
          ],
          [
           3
          ],
          [
           2
          ],
          [
           1
          ],
          [
           1
          ],
          [
           1
          ],
          [
           2
          ],
          [
           2
          ],
          [
           2
          ],
          [
           1
          ],
          [
           3
          ],
          [
           1
          ],
          [
           3
          ],
          [
           1
          ],
          [
           1
          ],
          [
           2
          ],
          [
           2
          ],
          [
           2
          ],
          [
           3
          ],
          [
           3
          ],
          [
           2
          ],
          [
           1
          ],
          [
           1
          ],
          [
           2
          ],
          [
           1
          ],
          [
           2
          ],
          [
           3
          ],
          [
           2
          ],
          [
           1
          ],
          [
           1
          ],
          [
           3
          ],
          [
           1
          ],
          [
           1
          ],
          [
           2
          ],
          [
           3
          ],
          [
           1
          ],
          [
           6
          ],
          [
           1
          ],
          [
           3
          ],
          [
           3
          ],
          [
           2
          ],
          [
           1
          ],
          [
           1
          ],
          [
           3
          ],
          [
           2
          ],
          [
           3
          ],
          [
           2
          ],
          [
           6
          ],
          [
           1
          ],
          [
           1
          ],
          [
           2
          ],
          [
           1
          ],
          [
           4
          ],
          [
           2
          ],
          [
           1
          ],
          [
           3
          ],
          [
           8
          ],
          [
           3
          ],
          [
           3
          ],
          [
           1
          ],
          [
           1
          ],
          [
           1
          ],
          [
           4
          ],
          [
           2
          ],
          [
           8
          ],
          [
           1
          ],
          [
           1
          ],
          [
           2
          ],
          [
           3
          ],
          [
           3
          ],
          [
           2
          ],
          [
           1
          ],
          [
           3
          ],
          [
           1
          ],
          [
           3
          ],
          [
           1
          ],
          [
           2
          ],
          [
           3
          ],
          [
           1
          ],
          [
           4
          ],
          [
           2
          ],
          [
           2
          ],
          [
           5
          ],
          [
           3
          ],
          [
           8
          ],
          [
           6
          ],
          [
           2
          ],
          [
           1
          ],
          [
           1
          ],
          [
           1
          ],
          [
           1
          ],
          [
           1
          ],
          [
           1
          ],
          [
           1
          ],
          [
           1
          ],
          [
           1
          ],
          [
           1
          ],
          [
           1
          ],
          [
           1
          ],
          [
           1
          ],
          [
           2
          ],
          [
           1
          ],
          [
           1
          ],
          [
           1
          ],
          [
           1
          ],
          [
           2
          ],
          [
           2
          ],
          [
           1
          ],
          [
           1
          ],
          [
           1
          ],
          [
           1
          ],
          [
           1
          ],
          [
           1
          ],
          [
           1
          ],
          [
           2
          ],
          [
           1
          ],
          [
           1
          ],
          [
           1
          ],
          [
           1
          ],
          [
           1
          ],
          [
           2
          ],
          [
           1
          ],
          [
           1
          ],
          [
           2
          ],
          [
           1
          ],
          [
           1
          ],
          [
           1
          ],
          [
           1
          ],
          [
           2
          ],
          [
           3
          ],
          [
           1
          ],
          [
           3
          ],
          [
           1
          ],
          [
           1
          ],
          [
           1
          ],
          [
           1
          ],
          [
           2
          ],
          [
           1
          ],
          [
           1
          ],
          [
           3
          ],
          [
           1
          ],
          [
           1
          ],
          [
           1
          ],
          [
           2
          ],
          [
           1
          ],
          [
           1
          ],
          [
           2
          ],
          [
           1
          ],
          [
           1
          ],
          [
           1
          ],
          [
           1
          ],
          [
           2
          ],
          [
           1
          ],
          [
           1
          ],
          [
           1
          ],
          [
           1
          ],
          [
           1
          ],
          [
           4
          ],
          [
           1
          ],
          [
           1
          ],
          [
           2
          ],
          [
           1
          ],
          [
           1
          ],
          [
           1
          ],
          [
           1
          ],
          [
           3
          ],
          [
           1
          ],
          [
           1
          ],
          [
           1
          ],
          [
           3
          ],
          [
           1
          ],
          [
           3
          ],
          [
           1
          ],
          [
           1
          ],
          [
           1
          ],
          [
           2
          ],
          [
           1
          ],
          [
           1
          ],
          [
           4
          ],
          [
           1
          ],
          [
           2
          ],
          [
           4
          ],
          [
           1
          ],
          [
           1
          ],
          [
           1
          ],
          [
           1
          ],
          [
           2
          ],
          [
           2
          ],
          [
           3
          ],
          [
           2
          ],
          [
           2
          ],
          [
           2
          ],
          [
           4
          ],
          [
           2
          ],
          [
           1
          ],
          [
           1
          ],
          [
           1
          ],
          [
           1
          ],
          [
           1
          ],
          [
           2
          ],
          [
           3
          ],
          [
           2
          ],
          [
           2
          ],
          [
           2
          ],
          [
           1
          ],
          [
           1
          ],
          [
           1
          ],
          [
           1
          ],
          [
           1
          ],
          [
           1
          ],
          [
           2
          ],
          [
           1
          ],
          [
           1
          ],
          [
           1
          ],
          [
           1
          ],
          [
           1
          ],
          [
           1
          ],
          [
           1
          ],
          [
           1
          ],
          [
           1
          ],
          [
           1
          ],
          [
           1
          ],
          [
           1
          ],
          [
           1
          ],
          [
           1
          ],
          [
           1
          ],
          [
           2
          ],
          [
           1
          ],
          [
           2
          ],
          [
           1
          ],
          [
           1
          ],
          [
           1
          ],
          [
           1
          ],
          [
           1
          ],
          [
           2
          ],
          [
           1
          ],
          [
           2
          ],
          [
           2
          ],
          [
           2
          ],
          [
           1
          ],
          [
           1
          ],
          [
           1
          ],
          [
           3
          ],
          [
           3
          ],
          [
           2
          ],
          [
           1
          ],
          [
           1
          ],
          [
           1
          ],
          [
           2
          ],
          [
           1
          ],
          [
           1
          ],
          [
           1
          ],
          [
           1
          ],
          [
           1
          ],
          [
           1
          ],
          [
           1
          ],
          [
           1
          ],
          [
           1
          ],
          [
           1
          ],
          [
           1
          ],
          [
           1
          ],
          [
           1
          ],
          [
           1
          ],
          [
           1
          ],
          [
           1
          ],
          [
           1
          ],
          [
           1
          ],
          [
           1
          ],
          [
           1
          ],
          [
           1
          ],
          [
           1
          ],
          [
           1
          ],
          [
           1
          ],
          [
           1
          ],
          [
           1
          ],
          [
           1
          ],
          [
           1
          ],
          [
           1
          ],
          [
           1
          ],
          [
           1
          ],
          [
           1
          ],
          [
           2
          ],
          [
           1
          ],
          [
           1
          ],
          [
           2
          ],
          [
           1
          ],
          [
           2
          ],
          [
           1
          ],
          [
           1
          ],
          [
           1
          ],
          [
           2
          ],
          [
           1
          ],
          [
           1
          ],
          [
           1
          ],
          [
           1
          ]
         ],
         "hoverlabel": {
          "namelength": 0
         },
         "hovertemplate": "<b>%{hovertext}</b><br><br>tag=extracorporeal membrane oxygenation (ECMO)<br>publish_time=%{x}<br>phase=%{y}<br>count=%{customdata[0]}",
         "hovertext": [
          "extracorporeal membrane oxygenation (ECMO)",
          "extracorporeal membrane oxygenation (ECMO)",
          "extracorporeal membrane oxygenation (ECMO)",
          "extracorporeal membrane oxygenation (ECMO)",
          "extracorporeal membrane oxygenation (ECMO)",
          "extracorporeal membrane oxygenation (ECMO)",
          "extracorporeal membrane oxygenation (ECMO)",
          "extracorporeal membrane oxygenation (ECMO)",
          "extracorporeal membrane oxygenation (ECMO)",
          "extracorporeal membrane oxygenation (ECMO)",
          "extracorporeal membrane oxygenation (ECMO)",
          "extracorporeal membrane oxygenation (ECMO)",
          "extracorporeal membrane oxygenation (ECMO)",
          "extracorporeal membrane oxygenation (ECMO)",
          "extracorporeal membrane oxygenation (ECMO)",
          "extracorporeal membrane oxygenation (ECMO)",
          "extracorporeal membrane oxygenation (ECMO)",
          "extracorporeal membrane oxygenation (ECMO)",
          "extracorporeal membrane oxygenation (ECMO)",
          "extracorporeal membrane oxygenation (ECMO)",
          "extracorporeal membrane oxygenation (ECMO)",
          "extracorporeal membrane oxygenation (ECMO)",
          "extracorporeal membrane oxygenation (ECMO)",
          "extracorporeal membrane oxygenation (ECMO)",
          "extracorporeal membrane oxygenation (ECMO)",
          "extracorporeal membrane oxygenation (ECMO)",
          "extracorporeal membrane oxygenation (ECMO)",
          "extracorporeal membrane oxygenation (ECMO)",
          "extracorporeal membrane oxygenation (ECMO)",
          "extracorporeal membrane oxygenation (ECMO)",
          "extracorporeal membrane oxygenation (ECMO)",
          "extracorporeal membrane oxygenation (ECMO)",
          "extracorporeal membrane oxygenation (ECMO)",
          "extracorporeal membrane oxygenation (ECMO)",
          "extracorporeal membrane oxygenation (ECMO)",
          "extracorporeal membrane oxygenation (ECMO)",
          "extracorporeal membrane oxygenation (ECMO)",
          "extracorporeal membrane oxygenation (ECMO)",
          "extracorporeal membrane oxygenation (ECMO)",
          "extracorporeal membrane oxygenation (ECMO)",
          "extracorporeal membrane oxygenation (ECMO)",
          "extracorporeal membrane oxygenation (ECMO)",
          "extracorporeal membrane oxygenation (ECMO)",
          "extracorporeal membrane oxygenation (ECMO)",
          "extracorporeal membrane oxygenation (ECMO)",
          "extracorporeal membrane oxygenation (ECMO)",
          "extracorporeal membrane oxygenation (ECMO)",
          "extracorporeal membrane oxygenation (ECMO)",
          "extracorporeal membrane oxygenation (ECMO)",
          "extracorporeal membrane oxygenation (ECMO)",
          "extracorporeal membrane oxygenation (ECMO)",
          "extracorporeal membrane oxygenation (ECMO)",
          "extracorporeal membrane oxygenation (ECMO)",
          "extracorporeal membrane oxygenation (ECMO)",
          "extracorporeal membrane oxygenation (ECMO)",
          "extracorporeal membrane oxygenation (ECMO)",
          "extracorporeal membrane oxygenation (ECMO)",
          "extracorporeal membrane oxygenation (ECMO)",
          "extracorporeal membrane oxygenation (ECMO)",
          "extracorporeal membrane oxygenation (ECMO)",
          "extracorporeal membrane oxygenation (ECMO)",
          "extracorporeal membrane oxygenation (ECMO)",
          "extracorporeal membrane oxygenation (ECMO)",
          "extracorporeal membrane oxygenation (ECMO)",
          "extracorporeal membrane oxygenation (ECMO)",
          "extracorporeal membrane oxygenation (ECMO)",
          "extracorporeal membrane oxygenation (ECMO)",
          "extracorporeal membrane oxygenation (ECMO)",
          "extracorporeal membrane oxygenation (ECMO)",
          "extracorporeal membrane oxygenation (ECMO)",
          "extracorporeal membrane oxygenation (ECMO)",
          "extracorporeal membrane oxygenation (ECMO)",
          "extracorporeal membrane oxygenation (ECMO)",
          "extracorporeal membrane oxygenation (ECMO)",
          "extracorporeal membrane oxygenation (ECMO)",
          "extracorporeal membrane oxygenation (ECMO)",
          "extracorporeal membrane oxygenation (ECMO)",
          "extracorporeal membrane oxygenation (ECMO)",
          "extracorporeal membrane oxygenation (ECMO)",
          "extracorporeal membrane oxygenation (ECMO)",
          "extracorporeal membrane oxygenation (ECMO)",
          "extracorporeal membrane oxygenation (ECMO)",
          "extracorporeal membrane oxygenation (ECMO)",
          "extracorporeal membrane oxygenation (ECMO)",
          "extracorporeal membrane oxygenation (ECMO)",
          "extracorporeal membrane oxygenation (ECMO)",
          "extracorporeal membrane oxygenation (ECMO)",
          "extracorporeal membrane oxygenation (ECMO)",
          "extracorporeal membrane oxygenation (ECMO)",
          "extracorporeal membrane oxygenation (ECMO)",
          "extracorporeal membrane oxygenation (ECMO)",
          "extracorporeal membrane oxygenation (ECMO)",
          "extracorporeal membrane oxygenation (ECMO)",
          "extracorporeal membrane oxygenation (ECMO)",
          "extracorporeal membrane oxygenation (ECMO)",
          "extracorporeal membrane oxygenation (ECMO)",
          "extracorporeal membrane oxygenation (ECMO)",
          "extracorporeal membrane oxygenation (ECMO)",
          "extracorporeal membrane oxygenation (ECMO)",
          "extracorporeal membrane oxygenation (ECMO)",
          "extracorporeal membrane oxygenation (ECMO)",
          "extracorporeal membrane oxygenation (ECMO)",
          "extracorporeal membrane oxygenation (ECMO)",
          "extracorporeal membrane oxygenation (ECMO)",
          "extracorporeal membrane oxygenation (ECMO)",
          "extracorporeal membrane oxygenation (ECMO)",
          "extracorporeal membrane oxygenation (ECMO)",
          "extracorporeal membrane oxygenation (ECMO)",
          "extracorporeal membrane oxygenation (ECMO)",
          "extracorporeal membrane oxygenation (ECMO)",
          "extracorporeal membrane oxygenation (ECMO)",
          "extracorporeal membrane oxygenation (ECMO)",
          "extracorporeal membrane oxygenation (ECMO)",
          "extracorporeal membrane oxygenation (ECMO)",
          "extracorporeal membrane oxygenation (ECMO)",
          "extracorporeal membrane oxygenation (ECMO)",
          "extracorporeal membrane oxygenation (ECMO)",
          "extracorporeal membrane oxygenation (ECMO)",
          "extracorporeal membrane oxygenation (ECMO)",
          "extracorporeal membrane oxygenation (ECMO)",
          "extracorporeal membrane oxygenation (ECMO)",
          "extracorporeal membrane oxygenation (ECMO)",
          "extracorporeal membrane oxygenation (ECMO)",
          "extracorporeal membrane oxygenation (ECMO)",
          "extracorporeal membrane oxygenation (ECMO)",
          "extracorporeal membrane oxygenation (ECMO)",
          "extracorporeal membrane oxygenation (ECMO)",
          "extracorporeal membrane oxygenation (ECMO)",
          "extracorporeal membrane oxygenation (ECMO)",
          "extracorporeal membrane oxygenation (ECMO)",
          "extracorporeal membrane oxygenation (ECMO)",
          "extracorporeal membrane oxygenation (ECMO)",
          "extracorporeal membrane oxygenation (ECMO)",
          "extracorporeal membrane oxygenation (ECMO)",
          "extracorporeal membrane oxygenation (ECMO)",
          "extracorporeal membrane oxygenation (ECMO)",
          "extracorporeal membrane oxygenation (ECMO)",
          "extracorporeal membrane oxygenation (ECMO)",
          "extracorporeal membrane oxygenation (ECMO)",
          "extracorporeal membrane oxygenation (ECMO)",
          "extracorporeal membrane oxygenation (ECMO)",
          "extracorporeal membrane oxygenation (ECMO)",
          "extracorporeal membrane oxygenation (ECMO)",
          "extracorporeal membrane oxygenation (ECMO)",
          "extracorporeal membrane oxygenation (ECMO)",
          "extracorporeal membrane oxygenation (ECMO)",
          "extracorporeal membrane oxygenation (ECMO)",
          "extracorporeal membrane oxygenation (ECMO)",
          "extracorporeal membrane oxygenation (ECMO)",
          "extracorporeal membrane oxygenation (ECMO)",
          "extracorporeal membrane oxygenation (ECMO)",
          "extracorporeal membrane oxygenation (ECMO)",
          "extracorporeal membrane oxygenation (ECMO)",
          "extracorporeal membrane oxygenation (ECMO)",
          "extracorporeal membrane oxygenation (ECMO)",
          "extracorporeal membrane oxygenation (ECMO)",
          "extracorporeal membrane oxygenation (ECMO)",
          "extracorporeal membrane oxygenation (ECMO)",
          "extracorporeal membrane oxygenation (ECMO)",
          "extracorporeal membrane oxygenation (ECMO)",
          "extracorporeal membrane oxygenation (ECMO)",
          "extracorporeal membrane oxygenation (ECMO)",
          "extracorporeal membrane oxygenation (ECMO)",
          "extracorporeal membrane oxygenation (ECMO)",
          "extracorporeal membrane oxygenation (ECMO)",
          "extracorporeal membrane oxygenation (ECMO)",
          "extracorporeal membrane oxygenation (ECMO)",
          "extracorporeal membrane oxygenation (ECMO)",
          "extracorporeal membrane oxygenation (ECMO)",
          "extracorporeal membrane oxygenation (ECMO)",
          "extracorporeal membrane oxygenation (ECMO)",
          "extracorporeal membrane oxygenation (ECMO)",
          "extracorporeal membrane oxygenation (ECMO)",
          "extracorporeal membrane oxygenation (ECMO)",
          "extracorporeal membrane oxygenation (ECMO)",
          "extracorporeal membrane oxygenation (ECMO)",
          "extracorporeal membrane oxygenation (ECMO)",
          "extracorporeal membrane oxygenation (ECMO)",
          "extracorporeal membrane oxygenation (ECMO)",
          "extracorporeal membrane oxygenation (ECMO)",
          "extracorporeal membrane oxygenation (ECMO)",
          "extracorporeal membrane oxygenation (ECMO)",
          "extracorporeal membrane oxygenation (ECMO)",
          "extracorporeal membrane oxygenation (ECMO)",
          "extracorporeal membrane oxygenation (ECMO)",
          "extracorporeal membrane oxygenation (ECMO)",
          "extracorporeal membrane oxygenation (ECMO)",
          "extracorporeal membrane oxygenation (ECMO)",
          "extracorporeal membrane oxygenation (ECMO)",
          "extracorporeal membrane oxygenation (ECMO)",
          "extracorporeal membrane oxygenation (ECMO)",
          "extracorporeal membrane oxygenation (ECMO)",
          "extracorporeal membrane oxygenation (ECMO)",
          "extracorporeal membrane oxygenation (ECMO)",
          "extracorporeal membrane oxygenation (ECMO)",
          "extracorporeal membrane oxygenation (ECMO)",
          "extracorporeal membrane oxygenation (ECMO)",
          "extracorporeal membrane oxygenation (ECMO)",
          "extracorporeal membrane oxygenation (ECMO)",
          "extracorporeal membrane oxygenation (ECMO)",
          "extracorporeal membrane oxygenation (ECMO)",
          "extracorporeal membrane oxygenation (ECMO)",
          "extracorporeal membrane oxygenation (ECMO)",
          "extracorporeal membrane oxygenation (ECMO)",
          "extracorporeal membrane oxygenation (ECMO)",
          "extracorporeal membrane oxygenation (ECMO)",
          "extracorporeal membrane oxygenation (ECMO)",
          "extracorporeal membrane oxygenation (ECMO)",
          "extracorporeal membrane oxygenation (ECMO)",
          "extracorporeal membrane oxygenation (ECMO)",
          "extracorporeal membrane oxygenation (ECMO)",
          "extracorporeal membrane oxygenation (ECMO)",
          "extracorporeal membrane oxygenation (ECMO)",
          "extracorporeal membrane oxygenation (ECMO)",
          "extracorporeal membrane oxygenation (ECMO)",
          "extracorporeal membrane oxygenation (ECMO)",
          "extracorporeal membrane oxygenation (ECMO)",
          "extracorporeal membrane oxygenation (ECMO)",
          "extracorporeal membrane oxygenation (ECMO)",
          "extracorporeal membrane oxygenation (ECMO)",
          "extracorporeal membrane oxygenation (ECMO)",
          "extracorporeal membrane oxygenation (ECMO)",
          "extracorporeal membrane oxygenation (ECMO)",
          "extracorporeal membrane oxygenation (ECMO)",
          "extracorporeal membrane oxygenation (ECMO)",
          "extracorporeal membrane oxygenation (ECMO)",
          "extracorporeal membrane oxygenation (ECMO)",
          "extracorporeal membrane oxygenation (ECMO)",
          "extracorporeal membrane oxygenation (ECMO)",
          "extracorporeal membrane oxygenation (ECMO)",
          "extracorporeal membrane oxygenation (ECMO)",
          "extracorporeal membrane oxygenation (ECMO)",
          "extracorporeal membrane oxygenation (ECMO)",
          "extracorporeal membrane oxygenation (ECMO)",
          "extracorporeal membrane oxygenation (ECMO)",
          "extracorporeal membrane oxygenation (ECMO)",
          "extracorporeal membrane oxygenation (ECMO)",
          "extracorporeal membrane oxygenation (ECMO)",
          "extracorporeal membrane oxygenation (ECMO)",
          "extracorporeal membrane oxygenation (ECMO)",
          "extracorporeal membrane oxygenation (ECMO)",
          "extracorporeal membrane oxygenation (ECMO)",
          "extracorporeal membrane oxygenation (ECMO)",
          "extracorporeal membrane oxygenation (ECMO)",
          "extracorporeal membrane oxygenation (ECMO)",
          "extracorporeal membrane oxygenation (ECMO)",
          "extracorporeal membrane oxygenation (ECMO)",
          "extracorporeal membrane oxygenation (ECMO)",
          "extracorporeal membrane oxygenation (ECMO)",
          "extracorporeal membrane oxygenation (ECMO)",
          "extracorporeal membrane oxygenation (ECMO)",
          "extracorporeal membrane oxygenation (ECMO)",
          "extracorporeal membrane oxygenation (ECMO)",
          "extracorporeal membrane oxygenation (ECMO)",
          "extracorporeal membrane oxygenation (ECMO)",
          "extracorporeal membrane oxygenation (ECMO)",
          "extracorporeal membrane oxygenation (ECMO)",
          "extracorporeal membrane oxygenation (ECMO)",
          "extracorporeal membrane oxygenation (ECMO)",
          "extracorporeal membrane oxygenation (ECMO)",
          "extracorporeal membrane oxygenation (ECMO)",
          "extracorporeal membrane oxygenation (ECMO)",
          "extracorporeal membrane oxygenation (ECMO)",
          "extracorporeal membrane oxygenation (ECMO)",
          "extracorporeal membrane oxygenation (ECMO)",
          "extracorporeal membrane oxygenation (ECMO)",
          "extracorporeal membrane oxygenation (ECMO)",
          "extracorporeal membrane oxygenation (ECMO)",
          "extracorporeal membrane oxygenation (ECMO)",
          "extracorporeal membrane oxygenation (ECMO)",
          "extracorporeal membrane oxygenation (ECMO)",
          "extracorporeal membrane oxygenation (ECMO)",
          "extracorporeal membrane oxygenation (ECMO)",
          "extracorporeal membrane oxygenation (ECMO)",
          "extracorporeal membrane oxygenation (ECMO)",
          "extracorporeal membrane oxygenation (ECMO)",
          "extracorporeal membrane oxygenation (ECMO)",
          "extracorporeal membrane oxygenation (ECMO)",
          "extracorporeal membrane oxygenation (ECMO)",
          "extracorporeal membrane oxygenation (ECMO)",
          "extracorporeal membrane oxygenation (ECMO)",
          "extracorporeal membrane oxygenation (ECMO)",
          "extracorporeal membrane oxygenation (ECMO)",
          "extracorporeal membrane oxygenation (ECMO)",
          "extracorporeal membrane oxygenation (ECMO)",
          "extracorporeal membrane oxygenation (ECMO)",
          "extracorporeal membrane oxygenation (ECMO)",
          "extracorporeal membrane oxygenation (ECMO)",
          "extracorporeal membrane oxygenation (ECMO)",
          "extracorporeal membrane oxygenation (ECMO)",
          "extracorporeal membrane oxygenation (ECMO)",
          "extracorporeal membrane oxygenation (ECMO)",
          "extracorporeal membrane oxygenation (ECMO)",
          "extracorporeal membrane oxygenation (ECMO)",
          "extracorporeal membrane oxygenation (ECMO)",
          "extracorporeal membrane oxygenation (ECMO)",
          "extracorporeal membrane oxygenation (ECMO)",
          "extracorporeal membrane oxygenation (ECMO)",
          "extracorporeal membrane oxygenation (ECMO)",
          "extracorporeal membrane oxygenation (ECMO)",
          "extracorporeal membrane oxygenation (ECMO)",
          "extracorporeal membrane oxygenation (ECMO)",
          "extracorporeal membrane oxygenation (ECMO)",
          "extracorporeal membrane oxygenation (ECMO)",
          "extracorporeal membrane oxygenation (ECMO)",
          "extracorporeal membrane oxygenation (ECMO)",
          "extracorporeal membrane oxygenation (ECMO)",
          "extracorporeal membrane oxygenation (ECMO)",
          "extracorporeal membrane oxygenation (ECMO)",
          "extracorporeal membrane oxygenation (ECMO)",
          "extracorporeal membrane oxygenation (ECMO)",
          "extracorporeal membrane oxygenation (ECMO)",
          "extracorporeal membrane oxygenation (ECMO)",
          "extracorporeal membrane oxygenation (ECMO)",
          "extracorporeal membrane oxygenation (ECMO)",
          "extracorporeal membrane oxygenation (ECMO)",
          "extracorporeal membrane oxygenation (ECMO)",
          "extracorporeal membrane oxygenation (ECMO)",
          "extracorporeal membrane oxygenation (ECMO)",
          "extracorporeal membrane oxygenation (ECMO)",
          "extracorporeal membrane oxygenation (ECMO)",
          "extracorporeal membrane oxygenation (ECMO)",
          "extracorporeal membrane oxygenation (ECMO)",
          "extracorporeal membrane oxygenation (ECMO)",
          "extracorporeal membrane oxygenation (ECMO)",
          "extracorporeal membrane oxygenation (ECMO)",
          "extracorporeal membrane oxygenation (ECMO)",
          "extracorporeal membrane oxygenation (ECMO)",
          "extracorporeal membrane oxygenation (ECMO)",
          "extracorporeal membrane oxygenation (ECMO)",
          "extracorporeal membrane oxygenation (ECMO)",
          "extracorporeal membrane oxygenation (ECMO)",
          "extracorporeal membrane oxygenation (ECMO)",
          "extracorporeal membrane oxygenation (ECMO)",
          "extracorporeal membrane oxygenation (ECMO)",
          "extracorporeal membrane oxygenation (ECMO)",
          "extracorporeal membrane oxygenation (ECMO)",
          "extracorporeal membrane oxygenation (ECMO)",
          "extracorporeal membrane oxygenation (ECMO)",
          "extracorporeal membrane oxygenation (ECMO)",
          "extracorporeal membrane oxygenation (ECMO)",
          "extracorporeal membrane oxygenation (ECMO)",
          "extracorporeal membrane oxygenation (ECMO)",
          "extracorporeal membrane oxygenation (ECMO)",
          "extracorporeal membrane oxygenation (ECMO)",
          "extracorporeal membrane oxygenation (ECMO)",
          "extracorporeal membrane oxygenation (ECMO)",
          "extracorporeal membrane oxygenation (ECMO)",
          "extracorporeal membrane oxygenation (ECMO)",
          "extracorporeal membrane oxygenation (ECMO)",
          "extracorporeal membrane oxygenation (ECMO)",
          "extracorporeal membrane oxygenation (ECMO)",
          "extracorporeal membrane oxygenation (ECMO)",
          "extracorporeal membrane oxygenation (ECMO)",
          "extracorporeal membrane oxygenation (ECMO)",
          "extracorporeal membrane oxygenation (ECMO)",
          "extracorporeal membrane oxygenation (ECMO)",
          "extracorporeal membrane oxygenation (ECMO)",
          "extracorporeal membrane oxygenation (ECMO)",
          "extracorporeal membrane oxygenation (ECMO)",
          "extracorporeal membrane oxygenation (ECMO)",
          "extracorporeal membrane oxygenation (ECMO)",
          "extracorporeal membrane oxygenation (ECMO)",
          "extracorporeal membrane oxygenation (ECMO)",
          "extracorporeal membrane oxygenation (ECMO)",
          "extracorporeal membrane oxygenation (ECMO)",
          "extracorporeal membrane oxygenation (ECMO)",
          "extracorporeal membrane oxygenation (ECMO)",
          "extracorporeal membrane oxygenation (ECMO)"
         ],
         "legendgroup": "extracorporeal membrane oxygenation (ECMO)",
         "marker": {
          "color": "#EF553B",
          "size": [
           1,
           1,
           1,
           1,
           1,
           1,
           2,
           1,
           1,
           1,
           1,
           1,
           1,
           1,
           1,
           1,
           1,
           1,
           1,
           1,
           1,
           1,
           1,
           1,
           1,
           1,
           1,
           1,
           1,
           2,
           1,
           2,
           1,
           1,
           1,
           3,
           1,
           1,
           1,
           1,
           2,
           1,
           1,
           1,
           1,
           1,
           11,
           1,
           1,
           1,
           1,
           2,
           1,
           2,
           2,
           4,
           1,
           1,
           1,
           4,
           1,
           3,
           1,
           1,
           1,
           2,
           1,
           1,
           2,
           1,
           3,
           1,
           1,
           3,
           1,
           3,
           2,
           1,
           1,
           1,
           2,
           2,
           2,
           1,
           3,
           1,
           3,
           1,
           1,
           2,
           2,
           2,
           3,
           3,
           2,
           1,
           1,
           2,
           1,
           2,
           3,
           2,
           1,
           1,
           3,
           1,
           1,
           2,
           3,
           1,
           6,
           1,
           3,
           3,
           2,
           1,
           1,
           3,
           2,
           3,
           2,
           6,
           1,
           1,
           2,
           1,
           4,
           2,
           1,
           3,
           8,
           3,
           3,
           1,
           1,
           1,
           4,
           2,
           8,
           1,
           1,
           2,
           3,
           3,
           2,
           1,
           3,
           1,
           3,
           1,
           2,
           3,
           1,
           4,
           2,
           2,
           5,
           3,
           8,
           6,
           2,
           1,
           1,
           1,
           1,
           1,
           1,
           1,
           1,
           1,
           1,
           1,
           1,
           1,
           2,
           1,
           1,
           1,
           1,
           2,
           2,
           1,
           1,
           1,
           1,
           1,
           1,
           1,
           2,
           1,
           1,
           1,
           1,
           1,
           2,
           1,
           1,
           2,
           1,
           1,
           1,
           1,
           2,
           3,
           1,
           3,
           1,
           1,
           1,
           1,
           2,
           1,
           1,
           3,
           1,
           1,
           1,
           2,
           1,
           1,
           2,
           1,
           1,
           1,
           1,
           2,
           1,
           1,
           1,
           1,
           1,
           4,
           1,
           1,
           2,
           1,
           1,
           1,
           1,
           3,
           1,
           1,
           1,
           3,
           1,
           3,
           1,
           1,
           1,
           2,
           1,
           1,
           4,
           1,
           2,
           4,
           1,
           1,
           1,
           1,
           2,
           2,
           3,
           2,
           2,
           2,
           4,
           2,
           1,
           1,
           1,
           1,
           1,
           2,
           3,
           2,
           2,
           2,
           1,
           1,
           1,
           1,
           1,
           1,
           2,
           1,
           1,
           1,
           1,
           1,
           1,
           1,
           1,
           1,
           1,
           1,
           1,
           1,
           1,
           1,
           2,
           1,
           2,
           1,
           1,
           1,
           1,
           1,
           2,
           1,
           2,
           2,
           2,
           1,
           1,
           1,
           3,
           3,
           2,
           1,
           1,
           1,
           2,
           1,
           1,
           1,
           1,
           1,
           1,
           1,
           1,
           1,
           1,
           1,
           1,
           1,
           1,
           1,
           1,
           1,
           1,
           1,
           1,
           1,
           1,
           1,
           1,
           1,
           1,
           1,
           1,
           1,
           1,
           1,
           1,
           2,
           1,
           1,
           2,
           1,
           2,
           1,
           1,
           1,
           2,
           1,
           1,
           1,
           1
          ],
          "sizemode": "area",
          "sizeref": 0.0275,
          "symbol": "circle"
         },
         "mode": "markers",
         "name": "extracorporeal membrane oxygenation (ECMO)",
         "showlegend": true,
         "type": "scattergl",
         "x": [
          "1977-12",
          "1980-04",
          "1980-11",
          "1982-04",
          "1983-06",
          "1984-09",
          "1984-12",
          "1986-08",
          "1987-01",
          "1987-02",
          "1987-12",
          "1988-08",
          "1988-10",
          "1989-08",
          "1990-05",
          "1990-10",
          "1991-07",
          "1994-03",
          "1995-04",
          "1995-11",
          "1997-07",
          "2000-06",
          "2001-12",
          "2002-06",
          "2002-07",
          "2003-07",
          "2003-11",
          "2003-12",
          "2004-01",
          "2004-04",
          "2004-05",
          "2004-07",
          "2004-08",
          "2004-10",
          "2004-11",
          "2005-02",
          "2005-03",
          "2005-05",
          "2005-06",
          "2005-07",
          "2005-11",
          "2006-01",
          "2006-06",
          "2006-07",
          "2006-08",
          "2006-11",
          "2006-12",
          "2007-01",
          "2007-02",
          "2007-05",
          "2007-08",
          "2007-10",
          "2007-11",
          "2007-12",
          "2008-03",
          "2008-04",
          "2008-06",
          "2008-09",
          "2008-11",
          "2008-12",
          "2009-05",
          "2009-06",
          "2009-07",
          "2009-08",
          "2009-10",
          "2009-12",
          "2010-01",
          "2010-03",
          "2010-04",
          "2010-06",
          "2010-07",
          "2010-08",
          "2010-11",
          "2010-12",
          "2011-02",
          "2011-03",
          "2011-04",
          "2011-06",
          "2011-07",
          "2011-08",
          "2011-10",
          "2011-11",
          "2011-12",
          "2012-01",
          "2012-04",
          "2012-05",
          "2012-06",
          "2012-07",
          "2012-08",
          "2012-09",
          "2012-10",
          "2012-11",
          "2012-12",
          "2013-01",
          "2013-03",
          "2013-05",
          "2013-08",
          "2013-09",
          "2013-10",
          "2013-11",
          "2013-12",
          "2014-01",
          "2014-02",
          "2014-03",
          "2014-04",
          "2014-05",
          "2014-06",
          "2014-07",
          "2014-08",
          "2014-11",
          "2014-12",
          "2015-01",
          "2015-02",
          "2015-03",
          "2015-04",
          "2015-05",
          "2015-07",
          "2015-08",
          "2015-09",
          "2015-10",
          "2015-11",
          "2015-12",
          "2016-01",
          "2016-02",
          "2016-03",
          "2016-06",
          "2016-07",
          "2016-08",
          "2016-10",
          "2016-11",
          "2016-12",
          "2017-01",
          "2017-03",
          "2017-05",
          "2017-06",
          "2017-09",
          "2017-10",
          "2017-11",
          "2017-12",
          "2018-01",
          "2018-02",
          "2018-03",
          "2018-05",
          "2018-06",
          "2018-07",
          "2018-08",
          "2018-09",
          "2018-10",
          "2018-11",
          "2018-12",
          "2019-01",
          "2019-04",
          "2019-05",
          "2019-06",
          "2019-07",
          "2019-09",
          "2019-12",
          "2020-01",
          "2020-02",
          "2020-03",
          "1980-12",
          "1981-12",
          "1983-06",
          "1986-05",
          "1988-06",
          "1990-07",
          "1992-01",
          "1993-12",
          "1994-06",
          "1995-07",
          "1997-12",
          "2000-09",
          "2003-06",
          "2003-07",
          "2003-08",
          "2003-10",
          "2004-03",
          "2004-04",
          "2004-09",
          "2004-11",
          "2004-12",
          "2005-02",
          "2005-03",
          "2005-11",
          "2005-12",
          "2006-01",
          "2006-05",
          "2006-12",
          "2007-02",
          "2007-05",
          "2007-11",
          "2007-12",
          "2008-01",
          "2008-11",
          "2008-12",
          "2009-01",
          "2009-02",
          "2009-03",
          "2009-04",
          "2009-05",
          "2009-06",
          "2009-08",
          "2009-10",
          "2009-12",
          "2010-01",
          "2010-02",
          "2010-04",
          "2010-06",
          "2010-09",
          "2010-12",
          "2011-01",
          "2011-04",
          "2011-09",
          "2011-12",
          "2012-03",
          "2012-04",
          "2012-06",
          "2012-08",
          "2012-09",
          "2012-10",
          "2012-12",
          "2013-04",
          "2013-05",
          "2013-07",
          "2013-11",
          "2013-12",
          "2014-01",
          "2014-03",
          "2014-07",
          "2014-09",
          "2014-11",
          "2014-12",
          "2015-03",
          "2015-04",
          "2015-06",
          "2015-08",
          "2015-09",
          "2015-10",
          "2015-12",
          "2016-01",
          "2016-02",
          "2016-03",
          "2016-04",
          "2016-05",
          "2016-11",
          "2016-12",
          "2017-01",
          "2017-02",
          "2017-04",
          "2017-05",
          "2017-06",
          "2017-07",
          "2017-08",
          "2017-09",
          "2017-10",
          "2017-12",
          "2018-01",
          "2018-02",
          "2018-03",
          "2018-04",
          "2018-06",
          "2018-07",
          "2018-08",
          "2018-09",
          "2018-10",
          "2018-11",
          "2018-12",
          "2019-01",
          "2019-04",
          "2019-05",
          "2019-06",
          "2019-08",
          "2019-09",
          "2019-10",
          "2019-11",
          "2019-12",
          "2020-02",
          "2020-03",
          "2020-12",
          "1983-08",
          "1988-10",
          "1999-07",
          "2003-08",
          "2004-03",
          "2005-06",
          "2005-12",
          "2006-04",
          "2006-08",
          "2007-01",
          "2007-07",
          "2008-12",
          "2009-12",
          "2010-05",
          "2010-09",
          "2012-09",
          "2013-01",
          "2013-02",
          "2013-08",
          "2013-10",
          "2014-03",
          "2014-04",
          "2014-09",
          "2015-03",
          "2015-06",
          "2015-09",
          "2016-01",
          "2016-05",
          "2016-06",
          "2017-02",
          "2017-05",
          "2017-06",
          "2018-01",
          "2018-10",
          "2018-11",
          "2018-12",
          "2019-06",
          "2019-08",
          "2019-12",
          "2020-02",
          "1989-10",
          "1989-12",
          "1991-04",
          "2001-12",
          "2003-11",
          "2003-12",
          "2005-05",
          "2006-02",
          "2006-08",
          "2006-09",
          "2009-09",
          "2010-12",
          "2011-11",
          "2011-12",
          "2012-03",
          "2012-10",
          "2012-12",
          "2013-05",
          "2013-08",
          "2015-07",
          "2015-09",
          "2016-06",
          "2017-08",
          "2017-10",
          "2018-04",
          "2018-05",
          "2019-01",
          "2019-12",
          "2020-01",
          "2020-02",
          "2020-12",
          "1992-06",
          "1994-07",
          "2007-03",
          "2008-05",
          "2009-01",
          "2010-04",
          "2012-10",
          "2013-01",
          "2014-12",
          "2015-05",
          "2015-06",
          "2016-05",
          "2016-12",
          "2017-02",
          "2017-06",
          "2018-06",
          "2018-09",
          "2019-01",
          "2020-03"
         ],
         "xaxis": "x",
         "y": [
          "Phase 1",
          "Phase 1",
          "Phase 1",
          "Phase 1",
          "Phase 1",
          "Phase 1",
          "Phase 1",
          "Phase 1",
          "Phase 1",
          "Phase 1",
          "Phase 1",
          "Phase 1",
          "Phase 1",
          "Phase 1",
          "Phase 1",
          "Phase 1",
          "Phase 1",
          "Phase 1",
          "Phase 1",
          "Phase 1",
          "Phase 1",
          "Phase 1",
          "Phase 1",
          "Phase 1",
          "Phase 1",
          "Phase 1",
          "Phase 1",
          "Phase 1",
          "Phase 1",
          "Phase 1",
          "Phase 1",
          "Phase 1",
          "Phase 1",
          "Phase 1",
          "Phase 1",
          "Phase 1",
          "Phase 1",
          "Phase 1",
          "Phase 1",
          "Phase 1",
          "Phase 1",
          "Phase 1",
          "Phase 1",
          "Phase 1",
          "Phase 1",
          "Phase 1",
          "Phase 1",
          "Phase 1",
          "Phase 1",
          "Phase 1",
          "Phase 1",
          "Phase 1",
          "Phase 1",
          "Phase 1",
          "Phase 1",
          "Phase 1",
          "Phase 1",
          "Phase 1",
          "Phase 1",
          "Phase 1",
          "Phase 1",
          "Phase 1",
          "Phase 1",
          "Phase 1",
          "Phase 1",
          "Phase 1",
          "Phase 1",
          "Phase 1",
          "Phase 1",
          "Phase 1",
          "Phase 1",
          "Phase 1",
          "Phase 1",
          "Phase 1",
          "Phase 1",
          "Phase 1",
          "Phase 1",
          "Phase 1",
          "Phase 1",
          "Phase 1",
          "Phase 1",
          "Phase 1",
          "Phase 1",
          "Phase 1",
          "Phase 1",
          "Phase 1",
          "Phase 1",
          "Phase 1",
          "Phase 1",
          "Phase 1",
          "Phase 1",
          "Phase 1",
          "Phase 1",
          "Phase 1",
          "Phase 1",
          "Phase 1",
          "Phase 1",
          "Phase 1",
          "Phase 1",
          "Phase 1",
          "Phase 1",
          "Phase 1",
          "Phase 1",
          "Phase 1",
          "Phase 1",
          "Phase 1",
          "Phase 1",
          "Phase 1",
          "Phase 1",
          "Phase 1",
          "Phase 1",
          "Phase 1",
          "Phase 1",
          "Phase 1",
          "Phase 1",
          "Phase 1",
          "Phase 1",
          "Phase 1",
          "Phase 1",
          "Phase 1",
          "Phase 1",
          "Phase 1",
          "Phase 1",
          "Phase 1",
          "Phase 1",
          "Phase 1",
          "Phase 1",
          "Phase 1",
          "Phase 1",
          "Phase 1",
          "Phase 1",
          "Phase 1",
          "Phase 1",
          "Phase 1",
          "Phase 1",
          "Phase 1",
          "Phase 1",
          "Phase 1",
          "Phase 1",
          "Phase 1",
          "Phase 1",
          "Phase 1",
          "Phase 1",
          "Phase 1",
          "Phase 1",
          "Phase 1",
          "Phase 1",
          "Phase 1",
          "Phase 1",
          "Phase 1",
          "Phase 1",
          "Phase 1",
          "Phase 1",
          "Phase 1",
          "Phase 1",
          "Phase 1",
          "Phase 1",
          "Phase 1",
          "Phase 1",
          "Phase 1",
          "Phase 2",
          "Phase 2",
          "Phase 2",
          "Phase 2",
          "Phase 2",
          "Phase 2",
          "Phase 2",
          "Phase 2",
          "Phase 2",
          "Phase 2",
          "Phase 2",
          "Phase 2",
          "Phase 2",
          "Phase 2",
          "Phase 2",
          "Phase 2",
          "Phase 2",
          "Phase 2",
          "Phase 2",
          "Phase 2",
          "Phase 2",
          "Phase 2",
          "Phase 2",
          "Phase 2",
          "Phase 2",
          "Phase 2",
          "Phase 2",
          "Phase 2",
          "Phase 2",
          "Phase 2",
          "Phase 2",
          "Phase 2",
          "Phase 2",
          "Phase 2",
          "Phase 2",
          "Phase 2",
          "Phase 2",
          "Phase 2",
          "Phase 2",
          "Phase 2",
          "Phase 2",
          "Phase 2",
          "Phase 2",
          "Phase 2",
          "Phase 2",
          "Phase 2",
          "Phase 2",
          "Phase 2",
          "Phase 2",
          "Phase 2",
          "Phase 2",
          "Phase 2",
          "Phase 2",
          "Phase 2",
          "Phase 2",
          "Phase 2",
          "Phase 2",
          "Phase 2",
          "Phase 2",
          "Phase 2",
          "Phase 2",
          "Phase 2",
          "Phase 2",
          "Phase 2",
          "Phase 2",
          "Phase 2",
          "Phase 2",
          "Phase 2",
          "Phase 2",
          "Phase 2",
          "Phase 2",
          "Phase 2",
          "Phase 2",
          "Phase 2",
          "Phase 2",
          "Phase 2",
          "Phase 2",
          "Phase 2",
          "Phase 2",
          "Phase 2",
          "Phase 2",
          "Phase 2",
          "Phase 2",
          "Phase 2",
          "Phase 2",
          "Phase 2",
          "Phase 2",
          "Phase 2",
          "Phase 2",
          "Phase 2",
          "Phase 2",
          "Phase 2",
          "Phase 2",
          "Phase 2",
          "Phase 2",
          "Phase 2",
          "Phase 2",
          "Phase 2",
          "Phase 2",
          "Phase 2",
          "Phase 2",
          "Phase 2",
          "Phase 2",
          "Phase 2",
          "Phase 2",
          "Phase 2",
          "Phase 2",
          "Phase 2",
          "Phase 2",
          "Phase 2",
          "Phase 2",
          "Phase 2",
          "Phase 2",
          "Phase 2",
          "Phase 2",
          "Phase 2",
          "Phase 2",
          "Phase 2",
          "Phase 2",
          "Phase 3",
          "Phase 3",
          "Phase 3",
          "Phase 3",
          "Phase 3",
          "Phase 3",
          "Phase 3",
          "Phase 3",
          "Phase 3",
          "Phase 3",
          "Phase 3",
          "Phase 3",
          "Phase 3",
          "Phase 3",
          "Phase 3",
          "Phase 3",
          "Phase 3",
          "Phase 3",
          "Phase 3",
          "Phase 3",
          "Phase 3",
          "Phase 3",
          "Phase 3",
          "Phase 3",
          "Phase 3",
          "Phase 3",
          "Phase 3",
          "Phase 3",
          "Phase 3",
          "Phase 3",
          "Phase 3",
          "Phase 3",
          "Phase 3",
          "Phase 3",
          "Phase 3",
          "Phase 3",
          "Phase 3",
          "Phase 3",
          "Phase 3",
          "Phase 3",
          "Phase 4",
          "Phase 4",
          "Phase 4",
          "Phase 4",
          "Phase 4",
          "Phase 4",
          "Phase 4",
          "Phase 4",
          "Phase 4",
          "Phase 4",
          "Phase 4",
          "Phase 4",
          "Phase 4",
          "Phase 4",
          "Phase 4",
          "Phase 4",
          "Phase 4",
          "Phase 4",
          "Phase 4",
          "Phase 4",
          "Phase 4",
          "Phase 4",
          "Phase 4",
          "Phase 4",
          "Phase 4",
          "Phase 4",
          "Phase 4",
          "Phase 4",
          "Phase 4",
          "Phase 4",
          "Phase 4",
          "Phase 5",
          "Phase 5",
          "Phase 5",
          "Phase 5",
          "Phase 5",
          "Phase 5",
          "Phase 5",
          "Phase 5",
          "Phase 5",
          "Phase 5",
          "Phase 5",
          "Phase 5",
          "Phase 5",
          "Phase 5",
          "Phase 5",
          "Phase 5",
          "Phase 5",
          "Phase 5",
          "Phase 5"
         ],
         "yaxis": "y"
        },
        {
         "customdata": [
          [
           1
          ],
          [
           1
          ],
          [
           1
          ],
          [
           1
          ],
          [
           2
          ],
          [
           1
          ],
          [
           1
          ],
          [
           1
          ],
          [
           1
          ],
          [
           1
          ],
          [
           1
          ],
          [
           1
          ],
          [
           1
          ],
          [
           1
          ],
          [
           1
          ],
          [
           1
          ],
          [
           1
          ],
          [
           2
          ],
          [
           1
          ],
          [
           1
          ],
          [
           1
          ],
          [
           1
          ],
          [
           1
          ],
          [
           1
          ],
          [
           1
          ],
          [
           2
          ],
          [
           1
          ],
          [
           1
          ],
          [
           1
          ],
          [
           2
          ],
          [
           1
          ],
          [
           3
          ],
          [
           1
          ],
          [
           1
          ],
          [
           1
          ],
          [
           2
          ],
          [
           1
          ],
          [
           3
          ],
          [
           1
          ],
          [
           3
          ],
          [
           1
          ],
          [
           1
          ],
          [
           2
          ],
          [
           2
          ],
          [
           2
          ],
          [
           1
          ],
          [
           3
          ],
          [
           1
          ],
          [
           1
          ],
          [
           1
          ],
          [
           2
          ],
          [
           1
          ],
          [
           1
          ],
          [
           1
          ],
          [
           1
          ],
          [
           1
          ],
          [
           3
          ],
          [
           1
          ],
          [
           2
          ],
          [
           1
          ],
          [
           2
          ],
          [
           1
          ],
          [
           1
          ],
          [
           1
          ],
          [
           1
          ],
          [
           1
          ],
          [
           1
          ],
          [
           1
          ],
          [
           1
          ],
          [
           1
          ],
          [
           2
          ],
          [
           2
          ],
          [
           1
          ],
          [
           2
          ],
          [
           2
          ],
          [
           2
          ],
          [
           1
          ],
          [
           3
          ],
          [
           4
          ],
          [
           1
          ],
          [
           3
          ],
          [
           1
          ],
          [
           3
          ],
          [
           2
          ],
          [
           2
          ],
          [
           1
          ],
          [
           1
          ],
          [
           3
          ],
          [
           2
          ],
          [
           1
          ],
          [
           2
          ],
          [
           2
          ],
          [
           3
          ],
          [
           1
          ],
          [
           1
          ],
          [
           2
          ],
          [
           3
          ],
          [
           3
          ],
          [
           2
          ],
          [
           1
          ],
          [
           1
          ],
          [
           3
          ],
          [
           1
          ],
          [
           2
          ],
          [
           3
          ],
          [
           1
          ],
          [
           1
          ],
          [
           5
          ],
          [
           2
          ],
          [
           1
          ],
          [
           2
          ],
          [
           1
          ],
          [
           2
          ],
          [
           4
          ],
          [
           2
          ],
          [
           4
          ],
          [
           2
          ],
          [
           1
          ],
          [
           2
          ],
          [
           4
          ],
          [
           2
          ],
          [
           1
          ],
          [
           3
          ],
          [
           5
          ],
          [
           2
          ],
          [
           3
          ],
          [
           7
          ],
          [
           2
          ],
          [
           3
          ],
          [
           1
          ],
          [
           3
          ],
          [
           2
          ],
          [
           4
          ],
          [
           2
          ],
          [
           1
          ],
          [
           3
          ],
          [
           1
          ],
          [
           5
          ],
          [
           6
          ],
          [
           6
          ],
          [
           6
          ],
          [
           1
          ],
          [
           4
          ],
          [
           2
          ],
          [
           3
          ],
          [
           1
          ],
          [
           1
          ],
          [
           3
          ],
          [
           6
          ],
          [
           1
          ],
          [
           8
          ],
          [
           2
          ],
          [
           1
          ],
          [
           3
          ],
          [
           1
          ],
          [
           1
          ],
          [
           1
          ],
          [
           2
          ],
          [
           1
          ],
          [
           1
          ],
          [
           1
          ],
          [
           1
          ],
          [
           2
          ],
          [
           1
          ],
          [
           1
          ],
          [
           1
          ],
          [
           1
          ],
          [
           1
          ],
          [
           1
          ],
          [
           1
          ],
          [
           1
          ],
          [
           1
          ],
          [
           1
          ],
          [
           1
          ],
          [
           1
          ],
          [
           1
          ],
          [
           2
          ],
          [
           1
          ],
          [
           1
          ],
          [
           1
          ],
          [
           2
          ],
          [
           1
          ],
          [
           1
          ],
          [
           1
          ],
          [
           1
          ],
          [
           1
          ],
          [
           2
          ],
          [
           2
          ],
          [
           1
          ],
          [
           2
          ],
          [
           1
          ],
          [
           1
          ],
          [
           1
          ],
          [
           2
          ],
          [
           2
          ],
          [
           1
          ],
          [
           1
          ],
          [
           2
          ],
          [
           1
          ],
          [
           1
          ],
          [
           1
          ],
          [
           2
          ],
          [
           2
          ],
          [
           1
          ],
          [
           1
          ],
          [
           1
          ],
          [
           1
          ],
          [
           1
          ],
          [
           1
          ],
          [
           3
          ],
          [
           3
          ],
          [
           2
          ],
          [
           1
          ],
          [
           3
          ],
          [
           1
          ],
          [
           1
          ],
          [
           2
          ],
          [
           1
          ],
          [
           1
          ],
          [
           1
          ],
          [
           1
          ],
          [
           1
          ],
          [
           3
          ],
          [
           1
          ],
          [
           1
          ],
          [
           1
          ],
          [
           2
          ],
          [
           1
          ],
          [
           1
          ],
          [
           2
          ],
          [
           1
          ],
          [
           3
          ],
          [
           1
          ],
          [
           3
          ],
          [
           1
          ],
          [
           2
          ],
          [
           1
          ],
          [
           2
          ],
          [
           1
          ],
          [
           2
          ],
          [
           3
          ],
          [
           3
          ],
          [
           2
          ],
          [
           2
          ],
          [
           1
          ],
          [
           1
          ],
          [
           2
          ],
          [
           3
          ],
          [
           1
          ],
          [
           1
          ],
          [
           2
          ],
          [
           2
          ],
          [
           5
          ],
          [
           4
          ],
          [
           1
          ],
          [
           1
          ],
          [
           1
          ],
          [
           1
          ],
          [
           1
          ],
          [
           2
          ],
          [
           1
          ],
          [
           2
          ],
          [
           1
          ],
          [
           2
          ],
          [
           3
          ],
          [
           3
          ],
          [
           1
          ],
          [
           1
          ],
          [
           1
          ],
          [
           1
          ],
          [
           1
          ],
          [
           1
          ],
          [
           1
          ],
          [
           1
          ],
          [
           2
          ],
          [
           1
          ],
          [
           1
          ],
          [
           1
          ],
          [
           1
          ],
          [
           1
          ],
          [
           1
          ],
          [
           1
          ],
          [
           1
          ],
          [
           1
          ],
          [
           1
          ],
          [
           1
          ],
          [
           1
          ],
          [
           1
          ],
          [
           1
          ],
          [
           1
          ],
          [
           2
          ],
          [
           1
          ],
          [
           1
          ],
          [
           1
          ],
          [
           1
          ],
          [
           1
          ],
          [
           1
          ],
          [
           1
          ],
          [
           1
          ],
          [
           1
          ],
          [
           1
          ],
          [
           1
          ],
          [
           1
          ],
          [
           1
          ],
          [
           2
          ],
          [
           2
          ],
          [
           1
          ],
          [
           1
          ],
          [
           2
          ],
          [
           1
          ],
          [
           1
          ],
          [
           1
          ],
          [
           1
          ],
          [
           1
          ],
          [
           1
          ],
          [
           2
          ],
          [
           1
          ],
          [
           1
          ],
          [
           1
          ],
          [
           2
          ],
          [
           1
          ],
          [
           1
          ],
          [
           1
          ],
          [
           1
          ],
          [
           1
          ],
          [
           1
          ],
          [
           1
          ],
          [
           1
          ],
          [
           1
          ],
          [
           1
          ],
          [
           1
          ],
          [
           2
          ],
          [
           1
          ],
          [
           1
          ],
          [
           1
          ],
          [
           1
          ],
          [
           1
          ],
          [
           1
          ],
          [
           1
          ],
          [
           2
          ],
          [
           2
          ],
          [
           1
          ],
          [
           1
          ],
          [
           2
          ],
          [
           1
          ],
          [
           1
          ],
          [
           1
          ],
          [
           3
          ],
          [
           2
          ],
          [
           3
          ],
          [
           1
          ],
          [
           1
          ],
          [
           1
          ],
          [
           1
          ],
          [
           1
          ],
          [
           1
          ],
          [
           1
          ],
          [
           1
          ],
          [
           1
          ],
          [
           1
          ]
         ],
         "hoverlabel": {
          "namelength": 0
         },
         "hovertemplate": "<b>%{hovertext}</b><br><br>tag=interventions<br>publish_time=%{x}<br>phase=%{y}<br>count=%{customdata[0]}",
         "hovertext": [
          "interventions",
          "interventions",
          "interventions",
          "interventions",
          "interventions",
          "interventions",
          "interventions",
          "interventions",
          "interventions",
          "interventions",
          "interventions",
          "interventions",
          "interventions",
          "interventions",
          "interventions",
          "interventions",
          "interventions",
          "interventions",
          "interventions",
          "interventions",
          "interventions",
          "interventions",
          "interventions",
          "interventions",
          "interventions",
          "interventions",
          "interventions",
          "interventions",
          "interventions",
          "interventions",
          "interventions",
          "interventions",
          "interventions",
          "interventions",
          "interventions",
          "interventions",
          "interventions",
          "interventions",
          "interventions",
          "interventions",
          "interventions",
          "interventions",
          "interventions",
          "interventions",
          "interventions",
          "interventions",
          "interventions",
          "interventions",
          "interventions",
          "interventions",
          "interventions",
          "interventions",
          "interventions",
          "interventions",
          "interventions",
          "interventions",
          "interventions",
          "interventions",
          "interventions",
          "interventions",
          "interventions",
          "interventions",
          "interventions",
          "interventions",
          "interventions",
          "interventions",
          "interventions",
          "interventions",
          "interventions",
          "interventions",
          "interventions",
          "interventions",
          "interventions",
          "interventions",
          "interventions",
          "interventions",
          "interventions",
          "interventions",
          "interventions",
          "interventions",
          "interventions",
          "interventions",
          "interventions",
          "interventions",
          "interventions",
          "interventions",
          "interventions",
          "interventions",
          "interventions",
          "interventions",
          "interventions",
          "interventions",
          "interventions",
          "interventions",
          "interventions",
          "interventions",
          "interventions",
          "interventions",
          "interventions",
          "interventions",
          "interventions",
          "interventions",
          "interventions",
          "interventions",
          "interventions",
          "interventions",
          "interventions",
          "interventions",
          "interventions",
          "interventions",
          "interventions",
          "interventions",
          "interventions",
          "interventions",
          "interventions",
          "interventions",
          "interventions",
          "interventions",
          "interventions",
          "interventions",
          "interventions",
          "interventions",
          "interventions",
          "interventions",
          "interventions",
          "interventions",
          "interventions",
          "interventions",
          "interventions",
          "interventions",
          "interventions",
          "interventions",
          "interventions",
          "interventions",
          "interventions",
          "interventions",
          "interventions",
          "interventions",
          "interventions",
          "interventions",
          "interventions",
          "interventions",
          "interventions",
          "interventions",
          "interventions",
          "interventions",
          "interventions",
          "interventions",
          "interventions",
          "interventions",
          "interventions",
          "interventions",
          "interventions",
          "interventions",
          "interventions",
          "interventions",
          "interventions",
          "interventions",
          "interventions",
          "interventions",
          "interventions",
          "interventions",
          "interventions",
          "interventions",
          "interventions",
          "interventions",
          "interventions",
          "interventions",
          "interventions",
          "interventions",
          "interventions",
          "interventions",
          "interventions",
          "interventions",
          "interventions",
          "interventions",
          "interventions",
          "interventions",
          "interventions",
          "interventions",
          "interventions",
          "interventions",
          "interventions",
          "interventions",
          "interventions",
          "interventions",
          "interventions",
          "interventions",
          "interventions",
          "interventions",
          "interventions",
          "interventions",
          "interventions",
          "interventions",
          "interventions",
          "interventions",
          "interventions",
          "interventions",
          "interventions",
          "interventions",
          "interventions",
          "interventions",
          "interventions",
          "interventions",
          "interventions",
          "interventions",
          "interventions",
          "interventions",
          "interventions",
          "interventions",
          "interventions",
          "interventions",
          "interventions",
          "interventions",
          "interventions",
          "interventions",
          "interventions",
          "interventions",
          "interventions",
          "interventions",
          "interventions",
          "interventions",
          "interventions",
          "interventions",
          "interventions",
          "interventions",
          "interventions",
          "interventions",
          "interventions",
          "interventions",
          "interventions",
          "interventions",
          "interventions",
          "interventions",
          "interventions",
          "interventions",
          "interventions",
          "interventions",
          "interventions",
          "interventions",
          "interventions",
          "interventions",
          "interventions",
          "interventions",
          "interventions",
          "interventions",
          "interventions",
          "interventions",
          "interventions",
          "interventions",
          "interventions",
          "interventions",
          "interventions",
          "interventions",
          "interventions",
          "interventions",
          "interventions",
          "interventions",
          "interventions",
          "interventions",
          "interventions",
          "interventions",
          "interventions",
          "interventions",
          "interventions",
          "interventions",
          "interventions",
          "interventions",
          "interventions",
          "interventions",
          "interventions",
          "interventions",
          "interventions",
          "interventions",
          "interventions",
          "interventions",
          "interventions",
          "interventions",
          "interventions",
          "interventions",
          "interventions",
          "interventions",
          "interventions",
          "interventions",
          "interventions",
          "interventions",
          "interventions",
          "interventions",
          "interventions",
          "interventions",
          "interventions",
          "interventions",
          "interventions",
          "interventions",
          "interventions",
          "interventions",
          "interventions",
          "interventions",
          "interventions",
          "interventions",
          "interventions",
          "interventions",
          "interventions",
          "interventions",
          "interventions",
          "interventions",
          "interventions",
          "interventions",
          "interventions",
          "interventions",
          "interventions",
          "interventions",
          "interventions",
          "interventions",
          "interventions",
          "interventions",
          "interventions",
          "interventions",
          "interventions",
          "interventions",
          "interventions",
          "interventions",
          "interventions",
          "interventions",
          "interventions",
          "interventions",
          "interventions",
          "interventions",
          "interventions",
          "interventions",
          "interventions",
          "interventions",
          "interventions",
          "interventions",
          "interventions",
          "interventions",
          "interventions",
          "interventions",
          "interventions",
          "interventions",
          "interventions",
          "interventions",
          "interventions",
          "interventions",
          "interventions",
          "interventions",
          "interventions",
          "interventions",
          "interventions",
          "interventions",
          "interventions",
          "interventions",
          "interventions",
          "interventions",
          "interventions",
          "interventions",
          "interventions",
          "interventions",
          "interventions",
          "interventions"
         ],
         "legendgroup": "interventions",
         "marker": {
          "color": "#00cc96",
          "size": [
           1,
           1,
           1,
           1,
           2,
           1,
           1,
           1,
           1,
           1,
           1,
           1,
           1,
           1,
           1,
           1,
           1,
           2,
           1,
           1,
           1,
           1,
           1,
           1,
           1,
           2,
           1,
           1,
           1,
           2,
           1,
           3,
           1,
           1,
           1,
           2,
           1,
           3,
           1,
           3,
           1,
           1,
           2,
           2,
           2,
           1,
           3,
           1,
           1,
           1,
           2,
           1,
           1,
           1,
           1,
           1,
           3,
           1,
           2,
           1,
           2,
           1,
           1,
           1,
           1,
           1,
           1,
           1,
           1,
           1,
           2,
           2,
           1,
           2,
           2,
           2,
           1,
           3,
           4,
           1,
           3,
           1,
           3,
           2,
           2,
           1,
           1,
           3,
           2,
           1,
           2,
           2,
           3,
           1,
           1,
           2,
           3,
           3,
           2,
           1,
           1,
           3,
           1,
           2,
           3,
           1,
           1,
           5,
           2,
           1,
           2,
           1,
           2,
           4,
           2,
           4,
           2,
           1,
           2,
           4,
           2,
           1,
           3,
           5,
           2,
           3,
           7,
           2,
           3,
           1,
           3,
           2,
           4,
           2,
           1,
           3,
           1,
           5,
           6,
           6,
           6,
           1,
           4,
           2,
           3,
           1,
           1,
           3,
           6,
           1,
           8,
           2,
           1,
           3,
           1,
           1,
           1,
           2,
           1,
           1,
           1,
           1,
           2,
           1,
           1,
           1,
           1,
           1,
           1,
           1,
           1,
           1,
           1,
           1,
           1,
           1,
           2,
           1,
           1,
           1,
           2,
           1,
           1,
           1,
           1,
           1,
           2,
           2,
           1,
           2,
           1,
           1,
           1,
           2,
           2,
           1,
           1,
           2,
           1,
           1,
           1,
           2,
           2,
           1,
           1,
           1,
           1,
           1,
           1,
           3,
           3,
           2,
           1,
           3,
           1,
           1,
           2,
           1,
           1,
           1,
           1,
           1,
           3,
           1,
           1,
           1,
           2,
           1,
           1,
           2,
           1,
           3,
           1,
           3,
           1,
           2,
           1,
           2,
           1,
           2,
           3,
           3,
           2,
           2,
           1,
           1,
           2,
           3,
           1,
           1,
           2,
           2,
           5,
           4,
           1,
           1,
           1,
           1,
           1,
           2,
           1,
           2,
           1,
           2,
           3,
           3,
           1,
           1,
           1,
           1,
           1,
           1,
           1,
           1,
           2,
           1,
           1,
           1,
           1,
           1,
           1,
           1,
           1,
           1,
           1,
           1,
           1,
           1,
           1,
           1,
           2,
           1,
           1,
           1,
           1,
           1,
           1,
           1,
           1,
           1,
           1,
           1,
           1,
           1,
           2,
           2,
           1,
           1,
           2,
           1,
           1,
           1,
           1,
           1,
           1,
           2,
           1,
           1,
           1,
           2,
           1,
           1,
           1,
           1,
           1,
           1,
           1,
           1,
           1,
           1,
           1,
           2,
           1,
           1,
           1,
           1,
           1,
           1,
           1,
           2,
           2,
           1,
           1,
           2,
           1,
           1,
           1,
           3,
           2,
           3,
           1,
           1,
           1,
           1,
           1,
           1,
           1,
           1,
           1,
           1
          ],
          "sizemode": "area",
          "sizeref": 0.0275,
          "symbol": "circle"
         },
         "mode": "markers",
         "name": "interventions",
         "showlegend": true,
         "type": "scattergl",
         "x": [
          "1970-04",
          "1977-12",
          "1984-01",
          "1985-04",
          "1985-07",
          "1985-08",
          "1985-12",
          "1986-02",
          "1986-12",
          "1989-12",
          "1990-01",
          "1991-12",
          "1992-11",
          "1993-01",
          "1995-08",
          "1996-01",
          "1996-07",
          "1996-08",
          "1998-10",
          "2000-09",
          "2000-10",
          "2001-12",
          "2002-04",
          "2003-08",
          "2004-06",
          "2004-10",
          "2004-12",
          "2005-01",
          "2005-02",
          "2005-05",
          "2005-09",
          "2005-12",
          "2006-01",
          "2006-02",
          "2006-08",
          "2006-09",
          "2006-11",
          "2006-12",
          "2007-01",
          "2007-03",
          "2007-04",
          "2007-05",
          "2007-07",
          "2007-08",
          "2007-10",
          "2007-11",
          "2007-12",
          "2008-01",
          "2008-04",
          "2008-06",
          "2008-07",
          "2008-08",
          "2008-10",
          "2008-12",
          "2009-01",
          "2009-04",
          "2009-08",
          "2009-09",
          "2009-10",
          "2009-11",
          "2009-12",
          "2010-01",
          "2010-03",
          "2010-07",
          "2010-08",
          "2010-09",
          "2010-10",
          "2010-11",
          "2010-12",
          "2011-03",
          "2011-07",
          "2011-12",
          "2012-02",
          "2012-04",
          "2012-06",
          "2012-07",
          "2012-08",
          "2012-11",
          "2012-12",
          "2013-01",
          "2013-02",
          "2013-03",
          "2013-04",
          "2013-06",
          "2013-08",
          "2013-09",
          "2013-10",
          "2013-11",
          "2013-12",
          "2014-03",
          "2014-05",
          "2014-06",
          "2014-07",
          "2014-08",
          "2014-09",
          "2014-10",
          "2014-12",
          "2015-01",
          "2015-02",
          "2015-04",
          "2015-05",
          "2015-07",
          "2015-09",
          "2015-10",
          "2015-11",
          "2015-12",
          "2016-01",
          "2016-02",
          "2016-03",
          "2016-05",
          "2016-06",
          "2016-08",
          "2016-09",
          "2016-10",
          "2016-11",
          "2016-12",
          "2017-01",
          "2017-02",
          "2017-03",
          "2017-04",
          "2017-05",
          "2017-06",
          "2017-07",
          "2017-08",
          "2017-09",
          "2017-10",
          "2017-12",
          "2018-01",
          "2018-02",
          "2018-03",
          "2018-04",
          "2018-05",
          "2018-06",
          "2018-07",
          "2018-08",
          "2018-10",
          "2018-11",
          "2018-12",
          "2019-01",
          "2019-02",
          "2019-03",
          "2019-05",
          "2019-06",
          "2019-07",
          "2019-08",
          "2019-09",
          "2019-10",
          "2019-11",
          "2019-12",
          "2020-01",
          "2020-02",
          "2020-03",
          "2020-05",
          "2020-12",
          "1979-08",
          "1979-12",
          "1980-12",
          "1986-08",
          "1987-08",
          "1988-12",
          "1991-11",
          "1992-04",
          "1993-12",
          "1994-12",
          "1996-03",
          "1997-12",
          "2002-09",
          "2003-04",
          "2004-02",
          "2004-08",
          "2004-09",
          "2004-10",
          "2004-11",
          "2006-06",
          "2006-10",
          "2007-02",
          "2007-03",
          "2007-06",
          "2007-07",
          "2007-09",
          "2007-11",
          "2007-12",
          "2008-02",
          "2008-05",
          "2008-07",
          "2008-08",
          "2008-10",
          "2008-12",
          "2009-01",
          "2009-12",
          "2010-01",
          "2010-04",
          "2010-05",
          "2010-06",
          "2010-07",
          "2010-08",
          "2010-09",
          "2010-11",
          "2010-12",
          "2011-03",
          "2011-04",
          "2011-12",
          "2012-01",
          "2012-02",
          "2012-04",
          "2012-05",
          "2012-12",
          "2013-01",
          "2013-06",
          "2013-07",
          "2013-08",
          "2013-11",
          "2013-12",
          "2014-01",
          "2014-02",
          "2014-03",
          "2014-04",
          "2014-05",
          "2014-06",
          "2014-07",
          "2014-09",
          "2014-10",
          "2014-12",
          "2015-02",
          "2015-03",
          "2015-04",
          "2015-07",
          "2015-09",
          "2015-10",
          "2015-11",
          "2015-12",
          "2016-01",
          "2016-02",
          "2016-03",
          "2016-04",
          "2016-06",
          "2016-08",
          "2016-09",
          "2016-10",
          "2016-11",
          "2016-12",
          "2017-02",
          "2017-03",
          "2017-06",
          "2017-07",
          "2017-10",
          "2017-12",
          "2018-02",
          "2018-03",
          "2018-04",
          "2018-09",
          "2018-10",
          "2018-11",
          "2018-12",
          "2019-01",
          "2019-02",
          "2019-03",
          "2019-04",
          "2019-05",
          "2019-06",
          "2019-07",
          "2019-08",
          "2019-11",
          "2019-12",
          "2020-02",
          "2020-03",
          "1994-12",
          "2001-10",
          "2004-01",
          "2004-07",
          "2004-10",
          "2004-11",
          "2005-03",
          "2005-06",
          "2005-12",
          "2006-10",
          "2006-12",
          "2007-02",
          "2007-03",
          "2007-04",
          "2007-07",
          "2007-08",
          "2008-10",
          "2008-12",
          "2009-12",
          "2011-10",
          "2011-12",
          "2012-01",
          "2012-07",
          "2012-10",
          "2012-12",
          "2013-01",
          "2013-02",
          "2013-04",
          "2013-05",
          "2014-05",
          "2014-07",
          "2014-09",
          "2015-03",
          "2015-04",
          "2015-08",
          "2015-09",
          "2015-10",
          "2015-11",
          "2017-01",
          "2017-02",
          "2017-04",
          "2017-12",
          "2018-02",
          "2018-06",
          "2018-08",
          "2018-11",
          "2019-01",
          "2019-02",
          "2019-11",
          "2019-12",
          "2020-02",
          "1987-05",
          "1993-03",
          "2003-06",
          "2004-08",
          "2004-12",
          "2005-05",
          "2005-06",
          "2005-11",
          "2008-04",
          "2008-07",
          "2008-12",
          "2011-08",
          "2011-12",
          "2012-10",
          "2012-12",
          "2013-01",
          "2013-04",
          "2013-12",
          "2014-03",
          "2014-11",
          "2014-12",
          "2015-06",
          "2016-06",
          "2016-08",
          "2016-09",
          "2016-12",
          "2017-04",
          "2017-07",
          "2017-12",
          "2019-06",
          "2019-12",
          "2020-01",
          "2020-02",
          "2007-09",
          "2011-10",
          "2011-11",
          "2012-06",
          "2012-10",
          "2014-11",
          "2015-04",
          "2015-09",
          "2016-02",
          "2019-05"
         ],
         "xaxis": "x",
         "y": [
          "Phase 1",
          "Phase 1",
          "Phase 1",
          "Phase 1",
          "Phase 1",
          "Phase 1",
          "Phase 1",
          "Phase 1",
          "Phase 1",
          "Phase 1",
          "Phase 1",
          "Phase 1",
          "Phase 1",
          "Phase 1",
          "Phase 1",
          "Phase 1",
          "Phase 1",
          "Phase 1",
          "Phase 1",
          "Phase 1",
          "Phase 1",
          "Phase 1",
          "Phase 1",
          "Phase 1",
          "Phase 1",
          "Phase 1",
          "Phase 1",
          "Phase 1",
          "Phase 1",
          "Phase 1",
          "Phase 1",
          "Phase 1",
          "Phase 1",
          "Phase 1",
          "Phase 1",
          "Phase 1",
          "Phase 1",
          "Phase 1",
          "Phase 1",
          "Phase 1",
          "Phase 1",
          "Phase 1",
          "Phase 1",
          "Phase 1",
          "Phase 1",
          "Phase 1",
          "Phase 1",
          "Phase 1",
          "Phase 1",
          "Phase 1",
          "Phase 1",
          "Phase 1",
          "Phase 1",
          "Phase 1",
          "Phase 1",
          "Phase 1",
          "Phase 1",
          "Phase 1",
          "Phase 1",
          "Phase 1",
          "Phase 1",
          "Phase 1",
          "Phase 1",
          "Phase 1",
          "Phase 1",
          "Phase 1",
          "Phase 1",
          "Phase 1",
          "Phase 1",
          "Phase 1",
          "Phase 1",
          "Phase 1",
          "Phase 1",
          "Phase 1",
          "Phase 1",
          "Phase 1",
          "Phase 1",
          "Phase 1",
          "Phase 1",
          "Phase 1",
          "Phase 1",
          "Phase 1",
          "Phase 1",
          "Phase 1",
          "Phase 1",
          "Phase 1",
          "Phase 1",
          "Phase 1",
          "Phase 1",
          "Phase 1",
          "Phase 1",
          "Phase 1",
          "Phase 1",
          "Phase 1",
          "Phase 1",
          "Phase 1",
          "Phase 1",
          "Phase 1",
          "Phase 1",
          "Phase 1",
          "Phase 1",
          "Phase 1",
          "Phase 1",
          "Phase 1",
          "Phase 1",
          "Phase 1",
          "Phase 1",
          "Phase 1",
          "Phase 1",
          "Phase 1",
          "Phase 1",
          "Phase 1",
          "Phase 1",
          "Phase 1",
          "Phase 1",
          "Phase 1",
          "Phase 1",
          "Phase 1",
          "Phase 1",
          "Phase 1",
          "Phase 1",
          "Phase 1",
          "Phase 1",
          "Phase 1",
          "Phase 1",
          "Phase 1",
          "Phase 1",
          "Phase 1",
          "Phase 1",
          "Phase 1",
          "Phase 1",
          "Phase 1",
          "Phase 1",
          "Phase 1",
          "Phase 1",
          "Phase 1",
          "Phase 1",
          "Phase 1",
          "Phase 1",
          "Phase 1",
          "Phase 1",
          "Phase 1",
          "Phase 1",
          "Phase 1",
          "Phase 1",
          "Phase 1",
          "Phase 1",
          "Phase 1",
          "Phase 1",
          "Phase 1",
          "Phase 1",
          "Phase 1",
          "Phase 1",
          "Phase 1",
          "Phase 2",
          "Phase 2",
          "Phase 2",
          "Phase 2",
          "Phase 2",
          "Phase 2",
          "Phase 2",
          "Phase 2",
          "Phase 2",
          "Phase 2",
          "Phase 2",
          "Phase 2",
          "Phase 2",
          "Phase 2",
          "Phase 2",
          "Phase 2",
          "Phase 2",
          "Phase 2",
          "Phase 2",
          "Phase 2",
          "Phase 2",
          "Phase 2",
          "Phase 2",
          "Phase 2",
          "Phase 2",
          "Phase 2",
          "Phase 2",
          "Phase 2",
          "Phase 2",
          "Phase 2",
          "Phase 2",
          "Phase 2",
          "Phase 2",
          "Phase 2",
          "Phase 2",
          "Phase 2",
          "Phase 2",
          "Phase 2",
          "Phase 2",
          "Phase 2",
          "Phase 2",
          "Phase 2",
          "Phase 2",
          "Phase 2",
          "Phase 2",
          "Phase 2",
          "Phase 2",
          "Phase 2",
          "Phase 2",
          "Phase 2",
          "Phase 2",
          "Phase 2",
          "Phase 2",
          "Phase 2",
          "Phase 2",
          "Phase 2",
          "Phase 2",
          "Phase 2",
          "Phase 2",
          "Phase 2",
          "Phase 2",
          "Phase 2",
          "Phase 2",
          "Phase 2",
          "Phase 2",
          "Phase 2",
          "Phase 2",
          "Phase 2",
          "Phase 2",
          "Phase 2",
          "Phase 2",
          "Phase 2",
          "Phase 2",
          "Phase 2",
          "Phase 2",
          "Phase 2",
          "Phase 2",
          "Phase 2",
          "Phase 2",
          "Phase 2",
          "Phase 2",
          "Phase 2",
          "Phase 2",
          "Phase 2",
          "Phase 2",
          "Phase 2",
          "Phase 2",
          "Phase 2",
          "Phase 2",
          "Phase 2",
          "Phase 2",
          "Phase 2",
          "Phase 2",
          "Phase 2",
          "Phase 2",
          "Phase 2",
          "Phase 2",
          "Phase 2",
          "Phase 2",
          "Phase 2",
          "Phase 2",
          "Phase 2",
          "Phase 2",
          "Phase 2",
          "Phase 2",
          "Phase 2",
          "Phase 2",
          "Phase 2",
          "Phase 2",
          "Phase 2",
          "Phase 2",
          "Phase 2",
          "Phase 3",
          "Phase 3",
          "Phase 3",
          "Phase 3",
          "Phase 3",
          "Phase 3",
          "Phase 3",
          "Phase 3",
          "Phase 3",
          "Phase 3",
          "Phase 3",
          "Phase 3",
          "Phase 3",
          "Phase 3",
          "Phase 3",
          "Phase 3",
          "Phase 3",
          "Phase 3",
          "Phase 3",
          "Phase 3",
          "Phase 3",
          "Phase 3",
          "Phase 3",
          "Phase 3",
          "Phase 3",
          "Phase 3",
          "Phase 3",
          "Phase 3",
          "Phase 3",
          "Phase 3",
          "Phase 3",
          "Phase 3",
          "Phase 3",
          "Phase 3",
          "Phase 3",
          "Phase 3",
          "Phase 3",
          "Phase 3",
          "Phase 3",
          "Phase 3",
          "Phase 3",
          "Phase 3",
          "Phase 3",
          "Phase 3",
          "Phase 3",
          "Phase 3",
          "Phase 3",
          "Phase 3",
          "Phase 3",
          "Phase 3",
          "Phase 3",
          "Phase 4",
          "Phase 4",
          "Phase 4",
          "Phase 4",
          "Phase 4",
          "Phase 4",
          "Phase 4",
          "Phase 4",
          "Phase 4",
          "Phase 4",
          "Phase 4",
          "Phase 4",
          "Phase 4",
          "Phase 4",
          "Phase 4",
          "Phase 4",
          "Phase 4",
          "Phase 4",
          "Phase 4",
          "Phase 4",
          "Phase 4",
          "Phase 4",
          "Phase 4",
          "Phase 4",
          "Phase 4",
          "Phase 4",
          "Phase 4",
          "Phase 4",
          "Phase 4",
          "Phase 4",
          "Phase 4",
          "Phase 4",
          "Phase 4",
          "Phase 5",
          "Phase 5",
          "Phase 5",
          "Phase 5",
          "Phase 5",
          "Phase 5",
          "Phase 5",
          "Phase 5",
          "Phase 5",
          "Phase 5"
         ],
         "yaxis": "y"
        },
        {
         "customdata": [
          [
           1
          ],
          [
           1
          ],
          [
           1
          ],
          [
           1
          ],
          [
           1
          ],
          [
           1
          ],
          [
           1
          ],
          [
           1
          ],
          [
           1
          ],
          [
           1
          ],
          [
           2
          ],
          [
           1
          ],
          [
           1
          ],
          [
           1
          ],
          [
           1
          ],
          [
           2
          ],
          [
           2
          ],
          [
           1
          ],
          [
           1
          ],
          [
           2
          ],
          [
           1
          ],
          [
           1
          ],
          [
           1
          ],
          [
           1
          ],
          [
           1
          ],
          [
           1
          ],
          [
           2
          ],
          [
           2
          ],
          [
           1
          ],
          [
           1
          ],
          [
           2
          ],
          [
           3
          ],
          [
           1
          ],
          [
           1
          ],
          [
           2
          ],
          [
           1
          ],
          [
           1
          ],
          [
           2
          ],
          [
           1
          ],
          [
           1
          ],
          [
           1
          ],
          [
           1
          ],
          [
           1
          ],
          [
           3
          ],
          [
           1
          ],
          [
           1
          ],
          [
           1
          ],
          [
           1
          ],
          [
           1
          ],
          [
           1
          ],
          [
           2
          ],
          [
           1
          ],
          [
           1
          ],
          [
           2
          ],
          [
           1
          ],
          [
           1
          ],
          [
           2
          ],
          [
           3
          ],
          [
           2
          ],
          [
           1
          ],
          [
           1
          ],
          [
           1
          ],
          [
           2
          ],
          [
           1
          ],
          [
           4
          ],
          [
           1
          ],
          [
           1
          ],
          [
           1
          ],
          [
           2
          ],
          [
           1
          ],
          [
           2
          ],
          [
           2
          ],
          [
           1
          ],
          [
           2
          ],
          [
           2
          ],
          [
           1
          ],
          [
           2
          ],
          [
           2
          ],
          [
           1
          ],
          [
           1
          ],
          [
           2
          ],
          [
           1
          ],
          [
           3
          ],
          [
           3
          ],
          [
           2
          ],
          [
           1
          ],
          [
           1
          ],
          [
           2
          ],
          [
           1
          ],
          [
           2
          ],
          [
           1
          ],
          [
           4
          ],
          [
           2
          ],
          [
           1
          ],
          [
           1
          ],
          [
           2
          ],
          [
           2
          ],
          [
           3
          ],
          [
           2
          ],
          [
           1
          ],
          [
           2
          ],
          [
           2
          ],
          [
           2
          ],
          [
           1
          ],
          [
           1
          ],
          [
           2
          ],
          [
           1
          ],
          [
           3
          ],
          [
           1
          ],
          [
           1
          ],
          [
           5
          ],
          [
           1
          ],
          [
           2
          ],
          [
           3
          ],
          [
           1
          ],
          [
           3
          ],
          [
           2
          ],
          [
           1
          ],
          [
           1
          ],
          [
           1
          ],
          [
           5
          ],
          [
           1
          ],
          [
           1
          ],
          [
           2
          ],
          [
           4
          ],
          [
           1
          ],
          [
           3
          ],
          [
           1
          ],
          [
           3
          ],
          [
           2
          ],
          [
           1
          ],
          [
           2
          ],
          [
           3
          ],
          [
           1
          ],
          [
           2
          ],
          [
           2
          ],
          [
           1
          ],
          [
           3
          ],
          [
           2
          ],
          [
           2
          ],
          [
           1
          ],
          [
           1
          ],
          [
           2
          ],
          [
           1
          ],
          [
           2
          ],
          [
           1
          ],
          [
           1
          ],
          [
           3
          ],
          [
           1
          ],
          [
           2
          ],
          [
           3
          ],
          [
           2
          ],
          [
           1
          ],
          [
           5
          ],
          [
           3
          ],
          [
           8
          ],
          [
           3
          ],
          [
           1
          ],
          [
           1
          ],
          [
           1
          ],
          [
           1
          ],
          [
           1
          ],
          [
           1
          ],
          [
           1
          ],
          [
           1
          ],
          [
           1
          ],
          [
           1
          ],
          [
           1
          ],
          [
           1
          ],
          [
           1
          ],
          [
           1
          ],
          [
           1
          ],
          [
           1
          ],
          [
           1
          ],
          [
           1
          ],
          [
           1
          ],
          [
           1
          ],
          [
           1
          ],
          [
           1
          ],
          [
           1
          ],
          [
           1
          ],
          [
           1
          ],
          [
           1
          ],
          [
           1
          ],
          [
           1
          ],
          [
           1
          ],
          [
           1
          ],
          [
           1
          ],
          [
           1
          ],
          [
           2
          ],
          [
           1
          ],
          [
           1
          ],
          [
           2
          ],
          [
           4
          ],
          [
           1
          ],
          [
           1
          ],
          [
           1
          ],
          [
           2
          ],
          [
           1
          ],
          [
           2
          ],
          [
           1
          ],
          [
           1
          ],
          [
           1
          ],
          [
           3
          ],
          [
           1
          ],
          [
           1
          ],
          [
           2
          ],
          [
           1
          ],
          [
           2
          ],
          [
           1
          ],
          [
           2
          ],
          [
           1
          ],
          [
           1
          ],
          [
           2
          ],
          [
           3
          ],
          [
           1
          ],
          [
           2
          ],
          [
           1
          ],
          [
           3
          ],
          [
           3
          ],
          [
           2
          ],
          [
           2
          ],
          [
           1
          ],
          [
           1
          ],
          [
           1
          ],
          [
           2
          ],
          [
           1
          ],
          [
           1
          ],
          [
           3
          ],
          [
           1
          ],
          [
           1
          ],
          [
           4
          ],
          [
           2
          ],
          [
           1
          ],
          [
           1
          ],
          [
           1
          ],
          [
           3
          ],
          [
           3
          ],
          [
           2
          ],
          [
           2
          ],
          [
           1
          ],
          [
           1
          ],
          [
           3
          ],
          [
           2
          ],
          [
           1
          ],
          [
           2
          ],
          [
           1
          ],
          [
           1
          ],
          [
           2
          ],
          [
           1
          ],
          [
           5
          ],
          [
           1
          ],
          [
           2
          ],
          [
           1
          ],
          [
           1
          ],
          [
           1
          ],
          [
           1
          ],
          [
           2
          ],
          [
           4
          ],
          [
           1
          ],
          [
           2
          ],
          [
           4
          ],
          [
           1
          ],
          [
           1
          ],
          [
           2
          ],
          [
           1
          ],
          [
           1
          ],
          [
           2
          ],
          [
           1
          ],
          [
           4
          ],
          [
           4
          ],
          [
           4
          ],
          [
           1
          ],
          [
           1
          ],
          [
           1
          ],
          [
           1
          ],
          [
           1
          ],
          [
           1
          ],
          [
           1
          ],
          [
           1
          ],
          [
           1
          ],
          [
           1
          ],
          [
           1
          ],
          [
           2
          ],
          [
           1
          ],
          [
           1
          ],
          [
           1
          ],
          [
           1
          ],
          [
           1
          ],
          [
           1
          ],
          [
           1
          ],
          [
           1
          ],
          [
           1
          ],
          [
           1
          ],
          [
           1
          ],
          [
           1
          ],
          [
           1
          ],
          [
           1
          ],
          [
           1
          ],
          [
           1
          ],
          [
           1
          ],
          [
           1
          ],
          [
           1
          ],
          [
           1
          ],
          [
           2
          ],
          [
           1
          ],
          [
           1
          ],
          [
           2
          ],
          [
           2
          ],
          [
           2
          ],
          [
           1
          ],
          [
           3
          ],
          [
           1
          ],
          [
           2
          ],
          [
           1
          ],
          [
           2
          ],
          [
           1
          ],
          [
           1
          ],
          [
           1
          ],
          [
           1
          ],
          [
           1
          ],
          [
           1
          ],
          [
           1
          ],
          [
           1
          ],
          [
           1
          ],
          [
           1
          ],
          [
           1
          ],
          [
           2
          ],
          [
           1
          ],
          [
           1
          ],
          [
           1
          ],
          [
           1
          ],
          [
           1
          ],
          [
           1
          ],
          [
           1
          ],
          [
           1
          ],
          [
           1
          ],
          [
           1
          ],
          [
           1
          ],
          [
           1
          ],
          [
           1
          ],
          [
           2
          ],
          [
           1
          ],
          [
           1
          ],
          [
           1
          ],
          [
           1
          ],
          [
           1
          ],
          [
           1
          ],
          [
           2
          ],
          [
           1
          ],
          [
           1
          ],
          [
           1
          ],
          [
           1
          ],
          [
           1
          ],
          [
           1
          ],
          [
           1
          ],
          [
           1
          ],
          [
           1
          ],
          [
           1
          ],
          [
           1
          ],
          [
           1
          ],
          [
           1
          ],
          [
           1
          ],
          [
           1
          ]
         ],
         "hoverlabel": {
          "namelength": 0
         },
         "hovertemplate": "<b>%{hovertext}</b><br><br>tag=mortality rate<br>publish_time=%{x}<br>phase=%{y}<br>count=%{customdata[0]}",
         "hovertext": [
          "mortality rate",
          "mortality rate",
          "mortality rate",
          "mortality rate",
          "mortality rate",
          "mortality rate",
          "mortality rate",
          "mortality rate",
          "mortality rate",
          "mortality rate",
          "mortality rate",
          "mortality rate",
          "mortality rate",
          "mortality rate",
          "mortality rate",
          "mortality rate",
          "mortality rate",
          "mortality rate",
          "mortality rate",
          "mortality rate",
          "mortality rate",
          "mortality rate",
          "mortality rate",
          "mortality rate",
          "mortality rate",
          "mortality rate",
          "mortality rate",
          "mortality rate",
          "mortality rate",
          "mortality rate",
          "mortality rate",
          "mortality rate",
          "mortality rate",
          "mortality rate",
          "mortality rate",
          "mortality rate",
          "mortality rate",
          "mortality rate",
          "mortality rate",
          "mortality rate",
          "mortality rate",
          "mortality rate",
          "mortality rate",
          "mortality rate",
          "mortality rate",
          "mortality rate",
          "mortality rate",
          "mortality rate",
          "mortality rate",
          "mortality rate",
          "mortality rate",
          "mortality rate",
          "mortality rate",
          "mortality rate",
          "mortality rate",
          "mortality rate",
          "mortality rate",
          "mortality rate",
          "mortality rate",
          "mortality rate",
          "mortality rate",
          "mortality rate",
          "mortality rate",
          "mortality rate",
          "mortality rate",
          "mortality rate",
          "mortality rate",
          "mortality rate",
          "mortality rate",
          "mortality rate",
          "mortality rate",
          "mortality rate",
          "mortality rate",
          "mortality rate",
          "mortality rate",
          "mortality rate",
          "mortality rate",
          "mortality rate",
          "mortality rate",
          "mortality rate",
          "mortality rate",
          "mortality rate",
          "mortality rate",
          "mortality rate",
          "mortality rate",
          "mortality rate",
          "mortality rate",
          "mortality rate",
          "mortality rate",
          "mortality rate",
          "mortality rate",
          "mortality rate",
          "mortality rate",
          "mortality rate",
          "mortality rate",
          "mortality rate",
          "mortality rate",
          "mortality rate",
          "mortality rate",
          "mortality rate",
          "mortality rate",
          "mortality rate",
          "mortality rate",
          "mortality rate",
          "mortality rate",
          "mortality rate",
          "mortality rate",
          "mortality rate",
          "mortality rate",
          "mortality rate",
          "mortality rate",
          "mortality rate",
          "mortality rate",
          "mortality rate",
          "mortality rate",
          "mortality rate",
          "mortality rate",
          "mortality rate",
          "mortality rate",
          "mortality rate",
          "mortality rate",
          "mortality rate",
          "mortality rate",
          "mortality rate",
          "mortality rate",
          "mortality rate",
          "mortality rate",
          "mortality rate",
          "mortality rate",
          "mortality rate",
          "mortality rate",
          "mortality rate",
          "mortality rate",
          "mortality rate",
          "mortality rate",
          "mortality rate",
          "mortality rate",
          "mortality rate",
          "mortality rate",
          "mortality rate",
          "mortality rate",
          "mortality rate",
          "mortality rate",
          "mortality rate",
          "mortality rate",
          "mortality rate",
          "mortality rate",
          "mortality rate",
          "mortality rate",
          "mortality rate",
          "mortality rate",
          "mortality rate",
          "mortality rate",
          "mortality rate",
          "mortality rate",
          "mortality rate",
          "mortality rate",
          "mortality rate",
          "mortality rate",
          "mortality rate",
          "mortality rate",
          "mortality rate",
          "mortality rate",
          "mortality rate",
          "mortality rate",
          "mortality rate",
          "mortality rate",
          "mortality rate",
          "mortality rate",
          "mortality rate",
          "mortality rate",
          "mortality rate",
          "mortality rate",
          "mortality rate",
          "mortality rate",
          "mortality rate",
          "mortality rate",
          "mortality rate",
          "mortality rate",
          "mortality rate",
          "mortality rate",
          "mortality rate",
          "mortality rate",
          "mortality rate",
          "mortality rate",
          "mortality rate",
          "mortality rate",
          "mortality rate",
          "mortality rate",
          "mortality rate",
          "mortality rate",
          "mortality rate",
          "mortality rate",
          "mortality rate",
          "mortality rate",
          "mortality rate",
          "mortality rate",
          "mortality rate",
          "mortality rate",
          "mortality rate",
          "mortality rate",
          "mortality rate",
          "mortality rate",
          "mortality rate",
          "mortality rate",
          "mortality rate",
          "mortality rate",
          "mortality rate",
          "mortality rate",
          "mortality rate",
          "mortality rate",
          "mortality rate",
          "mortality rate",
          "mortality rate",
          "mortality rate",
          "mortality rate",
          "mortality rate",
          "mortality rate",
          "mortality rate",
          "mortality rate",
          "mortality rate",
          "mortality rate",
          "mortality rate",
          "mortality rate",
          "mortality rate",
          "mortality rate",
          "mortality rate",
          "mortality rate",
          "mortality rate",
          "mortality rate",
          "mortality rate",
          "mortality rate",
          "mortality rate",
          "mortality rate",
          "mortality rate",
          "mortality rate",
          "mortality rate",
          "mortality rate",
          "mortality rate",
          "mortality rate",
          "mortality rate",
          "mortality rate",
          "mortality rate",
          "mortality rate",
          "mortality rate",
          "mortality rate",
          "mortality rate",
          "mortality rate",
          "mortality rate",
          "mortality rate",
          "mortality rate",
          "mortality rate",
          "mortality rate",
          "mortality rate",
          "mortality rate",
          "mortality rate",
          "mortality rate",
          "mortality rate",
          "mortality rate",
          "mortality rate",
          "mortality rate",
          "mortality rate",
          "mortality rate",
          "mortality rate",
          "mortality rate",
          "mortality rate",
          "mortality rate",
          "mortality rate",
          "mortality rate",
          "mortality rate",
          "mortality rate",
          "mortality rate",
          "mortality rate",
          "mortality rate",
          "mortality rate",
          "mortality rate",
          "mortality rate",
          "mortality rate",
          "mortality rate",
          "mortality rate",
          "mortality rate",
          "mortality rate",
          "mortality rate",
          "mortality rate",
          "mortality rate",
          "mortality rate",
          "mortality rate",
          "mortality rate",
          "mortality rate",
          "mortality rate",
          "mortality rate",
          "mortality rate",
          "mortality rate",
          "mortality rate",
          "mortality rate",
          "mortality rate",
          "mortality rate",
          "mortality rate",
          "mortality rate",
          "mortality rate",
          "mortality rate",
          "mortality rate",
          "mortality rate",
          "mortality rate",
          "mortality rate",
          "mortality rate",
          "mortality rate",
          "mortality rate",
          "mortality rate",
          "mortality rate",
          "mortality rate",
          "mortality rate",
          "mortality rate",
          "mortality rate",
          "mortality rate",
          "mortality rate",
          "mortality rate",
          "mortality rate",
          "mortality rate",
          "mortality rate",
          "mortality rate",
          "mortality rate",
          "mortality rate",
          "mortality rate",
          "mortality rate",
          "mortality rate",
          "mortality rate",
          "mortality rate",
          "mortality rate",
          "mortality rate",
          "mortality rate",
          "mortality rate",
          "mortality rate",
          "mortality rate",
          "mortality rate",
          "mortality rate",
          "mortality rate",
          "mortality rate",
          "mortality rate",
          "mortality rate",
          "mortality rate",
          "mortality rate",
          "mortality rate",
          "mortality rate",
          "mortality rate",
          "mortality rate",
          "mortality rate",
          "mortality rate",
          "mortality rate",
          "mortality rate",
          "mortality rate",
          "mortality rate",
          "mortality rate",
          "mortality rate",
          "mortality rate",
          "mortality rate",
          "mortality rate",
          "mortality rate",
          "mortality rate",
          "mortality rate",
          "mortality rate",
          "mortality rate",
          "mortality rate",
          "mortality rate"
         ],
         "legendgroup": "mortality rate",
         "marker": {
          "color": "#ab63fa",
          "size": [
           1,
           1,
           1,
           1,
           1,
           1,
           1,
           1,
           1,
           1,
           2,
           1,
           1,
           1,
           1,
           2,
           2,
           1,
           1,
           2,
           1,
           1,
           1,
           1,
           1,
           1,
           2,
           2,
           1,
           1,
           2,
           3,
           1,
           1,
           2,
           1,
           1,
           2,
           1,
           1,
           1,
           1,
           1,
           3,
           1,
           1,
           1,
           1,
           1,
           1,
           2,
           1,
           1,
           2,
           1,
           1,
           2,
           3,
           2,
           1,
           1,
           1,
           2,
           1,
           4,
           1,
           1,
           1,
           2,
           1,
           2,
           2,
           1,
           2,
           2,
           1,
           2,
           2,
           1,
           1,
           2,
           1,
           3,
           3,
           2,
           1,
           1,
           2,
           1,
           2,
           1,
           4,
           2,
           1,
           1,
           2,
           2,
           3,
           2,
           1,
           2,
           2,
           2,
           1,
           1,
           2,
           1,
           3,
           1,
           1,
           5,
           1,
           2,
           3,
           1,
           3,
           2,
           1,
           1,
           1,
           5,
           1,
           1,
           2,
           4,
           1,
           3,
           1,
           3,
           2,
           1,
           2,
           3,
           1,
           2,
           2,
           1,
           3,
           2,
           2,
           1,
           1,
           2,
           1,
           2,
           1,
           1,
           3,
           1,
           2,
           3,
           2,
           1,
           5,
           3,
           8,
           3,
           1,
           1,
           1,
           1,
           1,
           1,
           1,
           1,
           1,
           1,
           1,
           1,
           1,
           1,
           1,
           1,
           1,
           1,
           1,
           1,
           1,
           1,
           1,
           1,
           1,
           1,
           1,
           1,
           1,
           1,
           1,
           1,
           2,
           1,
           1,
           2,
           4,
           1,
           1,
           1,
           2,
           1,
           2,
           1,
           1,
           1,
           3,
           1,
           1,
           2,
           1,
           2,
           1,
           2,
           1,
           1,
           2,
           3,
           1,
           2,
           1,
           3,
           3,
           2,
           2,
           1,
           1,
           1,
           2,
           1,
           1,
           3,
           1,
           1,
           4,
           2,
           1,
           1,
           1,
           3,
           3,
           2,
           2,
           1,
           1,
           3,
           2,
           1,
           2,
           1,
           1,
           2,
           1,
           5,
           1,
           2,
           1,
           1,
           1,
           1,
           2,
           4,
           1,
           2,
           4,
           1,
           1,
           2,
           1,
           1,
           2,
           1,
           4,
           4,
           4,
           1,
           1,
           1,
           1,
           1,
           1,
           1,
           1,
           1,
           1,
           1,
           2,
           1,
           1,
           1,
           1,
           1,
           1,
           1,
           1,
           1,
           1,
           1,
           1,
           1,
           1,
           1,
           1,
           1,
           1,
           1,
           1,
           2,
           1,
           1,
           2,
           2,
           2,
           1,
           3,
           1,
           2,
           1,
           2,
           1,
           1,
           1,
           1,
           1,
           1,
           1,
           1,
           1,
           1,
           1,
           2,
           1,
           1,
           1,
           1,
           1,
           1,
           1,
           1,
           1,
           1,
           1,
           1,
           1,
           2,
           1,
           1,
           1,
           1,
           1,
           1,
           2,
           1,
           1,
           1,
           1,
           1,
           1,
           1,
           1,
           1,
           1,
           1,
           1,
           1,
           1,
           1
          ],
          "sizemode": "area",
          "sizeref": 0.0275,
          "symbol": "circle"
         },
         "mode": "markers",
         "name": "mortality rate",
         "showlegend": true,
         "type": "scattergl",
         "x": [
          "1977-12",
          "1982-10",
          "1983-03",
          "1986-02",
          "1989-12",
          "1990-01",
          "1990-03",
          "1990-09",
          "1991-01",
          "1991-09",
          "1991-10",
          "1992-06",
          "1992-12",
          "1994-12",
          "1995-10",
          "1996-06",
          "1997-02",
          "1998-03",
          "1999-12",
          "2001-12",
          "2002-05",
          "2002-10",
          "2003-02",
          "2003-06",
          "2003-08",
          "2004-01",
          "2004-03",
          "2004-04",
          "2004-05",
          "2004-12",
          "2005-01",
          "2005-03",
          "2005-04",
          "2005-06",
          "2005-08",
          "2005-10",
          "2005-12",
          "2006-01",
          "2006-02",
          "2006-03",
          "2006-05",
          "2006-08",
          "2006-09",
          "2006-12",
          "2007-01",
          "2007-09",
          "2007-10",
          "2008-01",
          "2008-03",
          "2008-05",
          "2008-06",
          "2008-07",
          "2008-09",
          "2008-12",
          "2009-01",
          "2009-04",
          "2009-06",
          "2009-10",
          "2009-11",
          "2009-12",
          "2010-02",
          "2010-03",
          "2010-04",
          "2010-05",
          "2010-06",
          "2010-07",
          "2010-10",
          "2010-12",
          "2011-01",
          "2011-04",
          "2011-05",
          "2011-07",
          "2011-08",
          "2011-09",
          "2011-10",
          "2011-11",
          "2012-01",
          "2012-04",
          "2012-05",
          "2012-06",
          "2012-08",
          "2012-09",
          "2012-10",
          "2012-11",
          "2012-12",
          "2013-04",
          "2013-06",
          "2013-08",
          "2013-09",
          "2013-11",
          "2013-12",
          "2014-01",
          "2014-03",
          "2014-04",
          "2014-05",
          "2014-06",
          "2014-07",
          "2014-08",
          "2014-09",
          "2014-10",
          "2014-11",
          "2014-12",
          "2015-02",
          "2015-03",
          "2015-04",
          "2015-05",
          "2015-06",
          "2015-07",
          "2015-09",
          "2015-10",
          "2015-12",
          "2016-02",
          "2016-03",
          "2016-04",
          "2016-05",
          "2016-06",
          "2016-07",
          "2016-09",
          "2016-10",
          "2016-11",
          "2016-12",
          "2017-01",
          "2017-02",
          "2017-03",
          "2017-04",
          "2017-05",
          "2017-06",
          "2017-08",
          "2017-09",
          "2017-10",
          "2017-11",
          "2017-12",
          "2018-01",
          "2018-04",
          "2018-05",
          "2018-06",
          "2018-07",
          "2018-08",
          "2018-09",
          "2018-10",
          "2018-11",
          "2018-12",
          "2019-01",
          "2019-02",
          "2019-03",
          "2019-04",
          "2019-05",
          "2019-06",
          "2019-07",
          "2019-08",
          "2019-09",
          "2019-10",
          "2019-11",
          "2019-12",
          "2020-01",
          "2020-02",
          "2020-03",
          "1986-02",
          "1987-06",
          "1990-06",
          "1991-06",
          "1992-10",
          "1992-11",
          "1992-12",
          "1993-06",
          "1995-01",
          "1997-03",
          "1997-05",
          "1998-04",
          "1998-12",
          "2000-05",
          "2001-12",
          "2002-12",
          "2003-06",
          "2003-11",
          "2004-06",
          "2004-08",
          "2004-09",
          "2004-11",
          "2005-04",
          "2005-09",
          "2005-10",
          "2006-01",
          "2006-05",
          "2006-07",
          "2007-09",
          "2007-10",
          "2007-12",
          "2008-01",
          "2008-05",
          "2008-08",
          "2008-09",
          "2008-10",
          "2008-12",
          "2009-04",
          "2009-06",
          "2009-08",
          "2009-09",
          "2009-12",
          "2010-02",
          "2010-03",
          "2010-06",
          "2010-08",
          "2010-10",
          "2011-06",
          "2011-08",
          "2011-09",
          "2011-10",
          "2011-11",
          "2011-12",
          "2012-03",
          "2012-04",
          "2012-10",
          "2012-12",
          "2013-01",
          "2013-02",
          "2013-05",
          "2013-07",
          "2013-08",
          "2013-09",
          "2013-10",
          "2013-11",
          "2014-01",
          "2014-03",
          "2014-04",
          "2014-08",
          "2014-10",
          "2014-11",
          "2014-12",
          "2015-01",
          "2015-03",
          "2015-04",
          "2015-05",
          "2015-06",
          "2015-07",
          "2015-08",
          "2015-10",
          "2015-11",
          "2015-12",
          "2016-01",
          "2016-03",
          "2016-04",
          "2016-07",
          "2016-09",
          "2016-10",
          "2016-11",
          "2016-12",
          "2017-05",
          "2017-07",
          "2017-11",
          "2017-12",
          "2018-01",
          "2018-02",
          "2018-04",
          "2018-05",
          "2018-07",
          "2018-09",
          "2018-11",
          "2018-12",
          "2019-01",
          "2019-02",
          "2019-03",
          "2019-04",
          "2019-05",
          "2019-06",
          "2019-07",
          "2019-08",
          "2019-10",
          "2019-11",
          "2019-12",
          "2020-02",
          "2020-03",
          "2020-12",
          "1987-05",
          "1989-06",
          "1989-07",
          "1993-12",
          "1995-05",
          "2002-12",
          "2004-06",
          "2004-09",
          "2005-06",
          "2006-01",
          "2006-12",
          "2007-06",
          "2009-04",
          "2010-12",
          "2011-06",
          "2011-08",
          "2012-01",
          "2012-02",
          "2012-06",
          "2013-01",
          "2013-03",
          "2013-04",
          "2013-05",
          "2014-10",
          "2014-12",
          "2015-08",
          "2015-09",
          "2015-11",
          "2015-12",
          "2017-04",
          "2017-06",
          "2017-08",
          "2017-11",
          "2017-12",
          "2018-04",
          "2018-05",
          "2018-06",
          "2018-08",
          "2018-11",
          "2019-06",
          "2020-01",
          "2020-02",
          "2020-03",
          "1987-09",
          "1990-06",
          "1999-01",
          "2003-11",
          "2005-04",
          "2006-09",
          "2007-01",
          "2007-03",
          "2007-12",
          "2008-12",
          "2009-05",
          "2009-12",
          "2011-01",
          "2011-03",
          "2011-05",
          "2011-09",
          "2011-12",
          "2012-02",
          "2013-06",
          "2013-12",
          "2014-01",
          "2014-12",
          "2015-06",
          "2016-02",
          "2016-04",
          "2016-12",
          "2017-03",
          "2018-04",
          "2018-10",
          "2018-11",
          "2019-05",
          "2019-06",
          "2019-08",
          "2019-10",
          "2019-11",
          "2020-01",
          "1985-12",
          "2007-09",
          "2010-03",
          "2010-09",
          "2012-11",
          "2014-08",
          "2016-07",
          "2019-01",
          "2019-03",
          "2019-05",
          "2019-10",
          "2020-02"
         ],
         "xaxis": "x",
         "y": [
          "Phase 1",
          "Phase 1",
          "Phase 1",
          "Phase 1",
          "Phase 1",
          "Phase 1",
          "Phase 1",
          "Phase 1",
          "Phase 1",
          "Phase 1",
          "Phase 1",
          "Phase 1",
          "Phase 1",
          "Phase 1",
          "Phase 1",
          "Phase 1",
          "Phase 1",
          "Phase 1",
          "Phase 1",
          "Phase 1",
          "Phase 1",
          "Phase 1",
          "Phase 1",
          "Phase 1",
          "Phase 1",
          "Phase 1",
          "Phase 1",
          "Phase 1",
          "Phase 1",
          "Phase 1",
          "Phase 1",
          "Phase 1",
          "Phase 1",
          "Phase 1",
          "Phase 1",
          "Phase 1",
          "Phase 1",
          "Phase 1",
          "Phase 1",
          "Phase 1",
          "Phase 1",
          "Phase 1",
          "Phase 1",
          "Phase 1",
          "Phase 1",
          "Phase 1",
          "Phase 1",
          "Phase 1",
          "Phase 1",
          "Phase 1",
          "Phase 1",
          "Phase 1",
          "Phase 1",
          "Phase 1",
          "Phase 1",
          "Phase 1",
          "Phase 1",
          "Phase 1",
          "Phase 1",
          "Phase 1",
          "Phase 1",
          "Phase 1",
          "Phase 1",
          "Phase 1",
          "Phase 1",
          "Phase 1",
          "Phase 1",
          "Phase 1",
          "Phase 1",
          "Phase 1",
          "Phase 1",
          "Phase 1",
          "Phase 1",
          "Phase 1",
          "Phase 1",
          "Phase 1",
          "Phase 1",
          "Phase 1",
          "Phase 1",
          "Phase 1",
          "Phase 1",
          "Phase 1",
          "Phase 1",
          "Phase 1",
          "Phase 1",
          "Phase 1",
          "Phase 1",
          "Phase 1",
          "Phase 1",
          "Phase 1",
          "Phase 1",
          "Phase 1",
          "Phase 1",
          "Phase 1",
          "Phase 1",
          "Phase 1",
          "Phase 1",
          "Phase 1",
          "Phase 1",
          "Phase 1",
          "Phase 1",
          "Phase 1",
          "Phase 1",
          "Phase 1",
          "Phase 1",
          "Phase 1",
          "Phase 1",
          "Phase 1",
          "Phase 1",
          "Phase 1",
          "Phase 1",
          "Phase 1",
          "Phase 1",
          "Phase 1",
          "Phase 1",
          "Phase 1",
          "Phase 1",
          "Phase 1",
          "Phase 1",
          "Phase 1",
          "Phase 1",
          "Phase 1",
          "Phase 1",
          "Phase 1",
          "Phase 1",
          "Phase 1",
          "Phase 1",
          "Phase 1",
          "Phase 1",
          "Phase 1",
          "Phase 1",
          "Phase 1",
          "Phase 1",
          "Phase 1",
          "Phase 1",
          "Phase 1",
          "Phase 1",
          "Phase 1",
          "Phase 1",
          "Phase 1",
          "Phase 1",
          "Phase 1",
          "Phase 1",
          "Phase 1",
          "Phase 1",
          "Phase 1",
          "Phase 1",
          "Phase 1",
          "Phase 1",
          "Phase 1",
          "Phase 1",
          "Phase 1",
          "Phase 1",
          "Phase 1",
          "Phase 1",
          "Phase 1",
          "Phase 1",
          "Phase 2",
          "Phase 2",
          "Phase 2",
          "Phase 2",
          "Phase 2",
          "Phase 2",
          "Phase 2",
          "Phase 2",
          "Phase 2",
          "Phase 2",
          "Phase 2",
          "Phase 2",
          "Phase 2",
          "Phase 2",
          "Phase 2",
          "Phase 2",
          "Phase 2",
          "Phase 2",
          "Phase 2",
          "Phase 2",
          "Phase 2",
          "Phase 2",
          "Phase 2",
          "Phase 2",
          "Phase 2",
          "Phase 2",
          "Phase 2",
          "Phase 2",
          "Phase 2",
          "Phase 2",
          "Phase 2",
          "Phase 2",
          "Phase 2",
          "Phase 2",
          "Phase 2",
          "Phase 2",
          "Phase 2",
          "Phase 2",
          "Phase 2",
          "Phase 2",
          "Phase 2",
          "Phase 2",
          "Phase 2",
          "Phase 2",
          "Phase 2",
          "Phase 2",
          "Phase 2",
          "Phase 2",
          "Phase 2",
          "Phase 2",
          "Phase 2",
          "Phase 2",
          "Phase 2",
          "Phase 2",
          "Phase 2",
          "Phase 2",
          "Phase 2",
          "Phase 2",
          "Phase 2",
          "Phase 2",
          "Phase 2",
          "Phase 2",
          "Phase 2",
          "Phase 2",
          "Phase 2",
          "Phase 2",
          "Phase 2",
          "Phase 2",
          "Phase 2",
          "Phase 2",
          "Phase 2",
          "Phase 2",
          "Phase 2",
          "Phase 2",
          "Phase 2",
          "Phase 2",
          "Phase 2",
          "Phase 2",
          "Phase 2",
          "Phase 2",
          "Phase 2",
          "Phase 2",
          "Phase 2",
          "Phase 2",
          "Phase 2",
          "Phase 2",
          "Phase 2",
          "Phase 2",
          "Phase 2",
          "Phase 2",
          "Phase 2",
          "Phase 2",
          "Phase 2",
          "Phase 2",
          "Phase 2",
          "Phase 2",
          "Phase 2",
          "Phase 2",
          "Phase 2",
          "Phase 2",
          "Phase 2",
          "Phase 2",
          "Phase 2",
          "Phase 2",
          "Phase 2",
          "Phase 2",
          "Phase 2",
          "Phase 2",
          "Phase 2",
          "Phase 2",
          "Phase 2",
          "Phase 2",
          "Phase 2",
          "Phase 2",
          "Phase 2",
          "Phase 2",
          "Phase 3",
          "Phase 3",
          "Phase 3",
          "Phase 3",
          "Phase 3",
          "Phase 3",
          "Phase 3",
          "Phase 3",
          "Phase 3",
          "Phase 3",
          "Phase 3",
          "Phase 3",
          "Phase 3",
          "Phase 3",
          "Phase 3",
          "Phase 3",
          "Phase 3",
          "Phase 3",
          "Phase 3",
          "Phase 3",
          "Phase 3",
          "Phase 3",
          "Phase 3",
          "Phase 3",
          "Phase 3",
          "Phase 3",
          "Phase 3",
          "Phase 3",
          "Phase 3",
          "Phase 3",
          "Phase 3",
          "Phase 3",
          "Phase 3",
          "Phase 3",
          "Phase 3",
          "Phase 3",
          "Phase 3",
          "Phase 3",
          "Phase 3",
          "Phase 3",
          "Phase 3",
          "Phase 3",
          "Phase 3",
          "Phase 4",
          "Phase 4",
          "Phase 4",
          "Phase 4",
          "Phase 4",
          "Phase 4",
          "Phase 4",
          "Phase 4",
          "Phase 4",
          "Phase 4",
          "Phase 4",
          "Phase 4",
          "Phase 4",
          "Phase 4",
          "Phase 4",
          "Phase 4",
          "Phase 4",
          "Phase 4",
          "Phase 4",
          "Phase 4",
          "Phase 4",
          "Phase 4",
          "Phase 4",
          "Phase 4",
          "Phase 4",
          "Phase 4",
          "Phase 4",
          "Phase 4",
          "Phase 4",
          "Phase 4",
          "Phase 4",
          "Phase 4",
          "Phase 4",
          "Phase 4",
          "Phase 4",
          "Phase 4",
          "Phase 5",
          "Phase 5",
          "Phase 5",
          "Phase 5",
          "Phase 5",
          "Phase 5",
          "Phase 5",
          "Phase 5",
          "Phase 5",
          "Phase 5",
          "Phase 5",
          "Phase 5"
         ],
         "yaxis": "y"
        },
        {
         "customdata": [
          [
           1
          ],
          [
           1
          ],
          [
           1
          ],
          [
           1
          ],
          [
           1
          ],
          [
           1
          ],
          [
           1
          ],
          [
           1
          ],
          [
           1
          ],
          [
           1
          ],
          [
           1
          ],
          [
           1
          ],
          [
           1
          ],
          [
           1
          ],
          [
           1
          ],
          [
           1
          ],
          [
           1
          ],
          [
           1
          ],
          [
           1
          ],
          [
           1
          ],
          [
           2
          ],
          [
           1
          ],
          [
           1
          ],
          [
           1
          ],
          [
           1
          ],
          [
           1
          ],
          [
           1
          ],
          [
           1
          ],
          [
           1
          ],
          [
           1
          ],
          [
           1
          ],
          [
           1
          ],
          [
           1
          ],
          [
           1
          ],
          [
           1
          ],
          [
           2
          ],
          [
           1
          ],
          [
           1
          ],
          [
           1
          ],
          [
           1
          ],
          [
           2
          ],
          [
           1
          ],
          [
           1
          ],
          [
           1
          ],
          [
           1
          ],
          [
           1
          ],
          [
           4
          ],
          [
           1
          ],
          [
           1
          ],
          [
           4
          ],
          [
           1
          ],
          [
           1
          ],
          [
           1
          ],
          [
           1
          ],
          [
           1
          ],
          [
           2
          ],
          [
           1
          ],
          [
           6
          ],
          [
           4
          ],
          [
           1
          ],
          [
           2
          ],
          [
           1
          ],
          [
           1
          ],
          [
           2
          ],
          [
           1
          ],
          [
           2
          ],
          [
           1
          ],
          [
           1
          ],
          [
           3
          ],
          [
           1
          ],
          [
           1
          ],
          [
           3
          ],
          [
           2
          ],
          [
           1
          ],
          [
           3
          ],
          [
           2
          ],
          [
           1
          ],
          [
           2
          ],
          [
           1
          ],
          [
           1
          ],
          [
           1
          ],
          [
           4
          ],
          [
           2
          ],
          [
           1
          ],
          [
           1
          ],
          [
           4
          ],
          [
           1
          ],
          [
           2
          ],
          [
           3
          ],
          [
           3
          ],
          [
           2
          ],
          [
           1
          ],
          [
           3
          ],
          [
           3
          ],
          [
           1
          ],
          [
           2
          ],
          [
           3
          ],
          [
           1
          ],
          [
           1
          ],
          [
           1
          ],
          [
           1
          ],
          [
           2
          ],
          [
           4
          ],
          [
           1
          ],
          [
           4
          ],
          [
           1
          ],
          [
           1
          ],
          [
           4
          ],
          [
           6
          ],
          [
           2
          ],
          [
           2
          ],
          [
           3
          ],
          [
           2
          ],
          [
           2
          ],
          [
           1
          ],
          [
           3
          ],
          [
           5
          ],
          [
           6
          ],
          [
           2
          ],
          [
           3
          ],
          [
           2
          ],
          [
           2
          ],
          [
           1
          ],
          [
           1
          ],
          [
           3
          ],
          [
           1
          ],
          [
           1
          ],
          [
           2
          ],
          [
           2
          ],
          [
           3
          ],
          [
           3
          ],
          [
           1
          ],
          [
           2
          ],
          [
           3
          ],
          [
           3
          ],
          [
           5
          ],
          [
           3
          ],
          [
           1
          ],
          [
           1
          ],
          [
           5
          ],
          [
           1
          ],
          [
           2
          ],
          [
           2
          ],
          [
           2
          ],
          [
           2
          ],
          [
           1
          ],
          [
           4
          ],
          [
           3
          ],
          [
           2
          ],
          [
           2
          ],
          [
           5
          ],
          [
           2
          ],
          [
           5
          ],
          [
           7
          ],
          [
           2
          ],
          [
           1
          ],
          [
           1
          ],
          [
           1
          ],
          [
           1
          ],
          [
           1
          ],
          [
           1
          ],
          [
           1
          ],
          [
           1
          ],
          [
           1
          ],
          [
           1
          ],
          [
           1
          ],
          [
           1
          ],
          [
           1
          ],
          [
           1
          ],
          [
           1
          ],
          [
           1
          ],
          [
           1
          ],
          [
           1
          ],
          [
           1
          ],
          [
           2
          ],
          [
           1
          ],
          [
           1
          ],
          [
           1
          ],
          [
           1
          ],
          [
           1
          ],
          [
           1
          ],
          [
           1
          ],
          [
           1
          ],
          [
           1
          ],
          [
           1
          ],
          [
           2
          ],
          [
           1
          ],
          [
           1
          ],
          [
           1
          ],
          [
           1
          ],
          [
           1
          ],
          [
           2
          ],
          [
           1
          ],
          [
           1
          ],
          [
           2
          ],
          [
           1
          ],
          [
           2
          ],
          [
           1
          ],
          [
           2
          ],
          [
           1
          ],
          [
           1
          ],
          [
           2
          ],
          [
           1
          ],
          [
           2
          ],
          [
           1
          ],
          [
           1
          ],
          [
           1
          ],
          [
           1
          ],
          [
           2
          ],
          [
           1
          ],
          [
           1
          ],
          [
           1
          ],
          [
           2
          ],
          [
           2
          ],
          [
           1
          ],
          [
           1
          ],
          [
           2
          ],
          [
           1
          ],
          [
           1
          ],
          [
           1
          ],
          [
           1
          ],
          [
           2
          ],
          [
           1
          ],
          [
           1
          ],
          [
           1
          ],
          [
           2
          ],
          [
           1
          ],
          [
           2
          ],
          [
           2
          ],
          [
           1
          ],
          [
           1
          ],
          [
           1
          ],
          [
           1
          ],
          [
           2
          ],
          [
           2
          ],
          [
           3
          ],
          [
           2
          ],
          [
           1
          ],
          [
           1
          ],
          [
           2
          ],
          [
           2
          ],
          [
           3
          ],
          [
           1
          ],
          [
           1
          ],
          [
           3
          ],
          [
           1
          ],
          [
           1
          ],
          [
           1
          ],
          [
           3
          ],
          [
           2
          ],
          [
           3
          ],
          [
           2
          ],
          [
           1
          ],
          [
           1
          ],
          [
           1
          ],
          [
           1
          ],
          [
           2
          ],
          [
           4
          ],
          [
           1
          ],
          [
           2
          ],
          [
           1
          ],
          [
           2
          ],
          [
           2
          ],
          [
           3
          ],
          [
           1
          ],
          [
           2
          ],
          [
           1
          ],
          [
           1
          ],
          [
           2
          ],
          [
           3
          ],
          [
           4
          ],
          [
           2
          ],
          [
           2
          ],
          [
           1
          ],
          [
           1
          ],
          [
           1
          ],
          [
           1
          ],
          [
           1
          ],
          [
           1
          ],
          [
           1
          ],
          [
           1
          ],
          [
           1
          ],
          [
           1
          ],
          [
           1
          ],
          [
           3
          ],
          [
           1
          ],
          [
           1
          ],
          [
           1
          ],
          [
           1
          ],
          [
           1
          ],
          [
           1
          ],
          [
           1
          ],
          [
           1
          ],
          [
           1
          ],
          [
           1
          ],
          [
           1
          ],
          [
           1
          ],
          [
           1
          ],
          [
           1
          ],
          [
           2
          ],
          [
           1
          ],
          [
           1
          ],
          [
           1
          ],
          [
           1
          ],
          [
           1
          ],
          [
           1
          ],
          [
           1
          ],
          [
           2
          ],
          [
           1
          ],
          [
           1
          ],
          [
           1
          ],
          [
           1
          ],
          [
           1
          ],
          [
           1
          ],
          [
           1
          ],
          [
           1
          ],
          [
           1
          ],
          [
           1
          ],
          [
           1
          ],
          [
           1
          ],
          [
           1
          ],
          [
           1
          ],
          [
           2
          ],
          [
           2
          ],
          [
           1
          ],
          [
           1
          ],
          [
           1
          ],
          [
           1
          ],
          [
           1
          ],
          [
           1
          ],
          [
           1
          ],
          [
           1
          ],
          [
           1
          ],
          [
           1
          ],
          [
           1
          ],
          [
           1
          ],
          [
           1
          ],
          [
           1
          ],
          [
           1
          ],
          [
           1
          ],
          [
           1
          ],
          [
           1
          ],
          [
           1
          ],
          [
           1
          ],
          [
           1
          ],
          [
           1
          ],
          [
           1
          ],
          [
           1
          ],
          [
           1
          ],
          [
           1
          ],
          [
           1
          ],
          [
           1
          ],
          [
           1
          ],
          [
           1
          ],
          [
           1
          ],
          [
           1
          ],
          [
           1
          ],
          [
           1
          ],
          [
           1
          ],
          [
           1
          ],
          [
           1
          ],
          [
           1
          ],
          [
           1
          ],
          [
           1
          ],
          [
           1
          ],
          [
           1
          ],
          [
           1
          ]
         ],
         "hoverlabel": {
          "namelength": 0
         },
         "hovertemplate": "<b>%{hovertext}</b><br><br>tag=vaccine<br>publish_time=%{x}<br>phase=%{y}<br>count=%{customdata[0]}",
         "hovertext": [
          "vaccine",
          "vaccine",
          "vaccine",
          "vaccine",
          "vaccine",
          "vaccine",
          "vaccine",
          "vaccine",
          "vaccine",
          "vaccine",
          "vaccine",
          "vaccine",
          "vaccine",
          "vaccine",
          "vaccine",
          "vaccine",
          "vaccine",
          "vaccine",
          "vaccine",
          "vaccine",
          "vaccine",
          "vaccine",
          "vaccine",
          "vaccine",
          "vaccine",
          "vaccine",
          "vaccine",
          "vaccine",
          "vaccine",
          "vaccine",
          "vaccine",
          "vaccine",
          "vaccine",
          "vaccine",
          "vaccine",
          "vaccine",
          "vaccine",
          "vaccine",
          "vaccine",
          "vaccine",
          "vaccine",
          "vaccine",
          "vaccine",
          "vaccine",
          "vaccine",
          "vaccine",
          "vaccine",
          "vaccine",
          "vaccine",
          "vaccine",
          "vaccine",
          "vaccine",
          "vaccine",
          "vaccine",
          "vaccine",
          "vaccine",
          "vaccine",
          "vaccine",
          "vaccine",
          "vaccine",
          "vaccine",
          "vaccine",
          "vaccine",
          "vaccine",
          "vaccine",
          "vaccine",
          "vaccine",
          "vaccine",
          "vaccine",
          "vaccine",
          "vaccine",
          "vaccine",
          "vaccine",
          "vaccine",
          "vaccine",
          "vaccine",
          "vaccine",
          "vaccine",
          "vaccine",
          "vaccine",
          "vaccine",
          "vaccine",
          "vaccine",
          "vaccine",
          "vaccine",
          "vaccine",
          "vaccine",
          "vaccine",
          "vaccine",
          "vaccine",
          "vaccine",
          "vaccine",
          "vaccine",
          "vaccine",
          "vaccine",
          "vaccine",
          "vaccine",
          "vaccine",
          "vaccine",
          "vaccine",
          "vaccine",
          "vaccine",
          "vaccine",
          "vaccine",
          "vaccine",
          "vaccine",
          "vaccine",
          "vaccine",
          "vaccine",
          "vaccine",
          "vaccine",
          "vaccine",
          "vaccine",
          "vaccine",
          "vaccine",
          "vaccine",
          "vaccine",
          "vaccine",
          "vaccine",
          "vaccine",
          "vaccine",
          "vaccine",
          "vaccine",
          "vaccine",
          "vaccine",
          "vaccine",
          "vaccine",
          "vaccine",
          "vaccine",
          "vaccine",
          "vaccine",
          "vaccine",
          "vaccine",
          "vaccine",
          "vaccine",
          "vaccine",
          "vaccine",
          "vaccine",
          "vaccine",
          "vaccine",
          "vaccine",
          "vaccine",
          "vaccine",
          "vaccine",
          "vaccine",
          "vaccine",
          "vaccine",
          "vaccine",
          "vaccine",
          "vaccine",
          "vaccine",
          "vaccine",
          "vaccine",
          "vaccine",
          "vaccine",
          "vaccine",
          "vaccine",
          "vaccine",
          "vaccine",
          "vaccine",
          "vaccine",
          "vaccine",
          "vaccine",
          "vaccine",
          "vaccine",
          "vaccine",
          "vaccine",
          "vaccine",
          "vaccine",
          "vaccine",
          "vaccine",
          "vaccine",
          "vaccine",
          "vaccine",
          "vaccine",
          "vaccine",
          "vaccine",
          "vaccine",
          "vaccine",
          "vaccine",
          "vaccine",
          "vaccine",
          "vaccine",
          "vaccine",
          "vaccine",
          "vaccine",
          "vaccine",
          "vaccine",
          "vaccine",
          "vaccine",
          "vaccine",
          "vaccine",
          "vaccine",
          "vaccine",
          "vaccine",
          "vaccine",
          "vaccine",
          "vaccine",
          "vaccine",
          "vaccine",
          "vaccine",
          "vaccine",
          "vaccine",
          "vaccine",
          "vaccine",
          "vaccine",
          "vaccine",
          "vaccine",
          "vaccine",
          "vaccine",
          "vaccine",
          "vaccine",
          "vaccine",
          "vaccine",
          "vaccine",
          "vaccine",
          "vaccine",
          "vaccine",
          "vaccine",
          "vaccine",
          "vaccine",
          "vaccine",
          "vaccine",
          "vaccine",
          "vaccine",
          "vaccine",
          "vaccine",
          "vaccine",
          "vaccine",
          "vaccine",
          "vaccine",
          "vaccine",
          "vaccine",
          "vaccine",
          "vaccine",
          "vaccine",
          "vaccine",
          "vaccine",
          "vaccine",
          "vaccine",
          "vaccine",
          "vaccine",
          "vaccine",
          "vaccine",
          "vaccine",
          "vaccine",
          "vaccine",
          "vaccine",
          "vaccine",
          "vaccine",
          "vaccine",
          "vaccine",
          "vaccine",
          "vaccine",
          "vaccine",
          "vaccine",
          "vaccine",
          "vaccine",
          "vaccine",
          "vaccine",
          "vaccine",
          "vaccine",
          "vaccine",
          "vaccine",
          "vaccine",
          "vaccine",
          "vaccine",
          "vaccine",
          "vaccine",
          "vaccine",
          "vaccine",
          "vaccine",
          "vaccine",
          "vaccine",
          "vaccine",
          "vaccine",
          "vaccine",
          "vaccine",
          "vaccine",
          "vaccine",
          "vaccine",
          "vaccine",
          "vaccine",
          "vaccine",
          "vaccine",
          "vaccine",
          "vaccine",
          "vaccine",
          "vaccine",
          "vaccine",
          "vaccine",
          "vaccine",
          "vaccine",
          "vaccine",
          "vaccine",
          "vaccine",
          "vaccine",
          "vaccine",
          "vaccine",
          "vaccine",
          "vaccine",
          "vaccine",
          "vaccine",
          "vaccine",
          "vaccine",
          "vaccine",
          "vaccine",
          "vaccine",
          "vaccine",
          "vaccine",
          "vaccine",
          "vaccine",
          "vaccine",
          "vaccine",
          "vaccine",
          "vaccine",
          "vaccine",
          "vaccine",
          "vaccine",
          "vaccine",
          "vaccine",
          "vaccine",
          "vaccine",
          "vaccine",
          "vaccine",
          "vaccine",
          "vaccine",
          "vaccine",
          "vaccine",
          "vaccine",
          "vaccine",
          "vaccine",
          "vaccine",
          "vaccine",
          "vaccine",
          "vaccine",
          "vaccine",
          "vaccine",
          "vaccine",
          "vaccine",
          "vaccine",
          "vaccine",
          "vaccine",
          "vaccine",
          "vaccine",
          "vaccine",
          "vaccine",
          "vaccine",
          "vaccine",
          "vaccine",
          "vaccine",
          "vaccine",
          "vaccine",
          "vaccine",
          "vaccine",
          "vaccine",
          "vaccine",
          "vaccine",
          "vaccine",
          "vaccine",
          "vaccine",
          "vaccine",
          "vaccine",
          "vaccine",
          "vaccine",
          "vaccine",
          "vaccine"
         ],
         "legendgroup": "vaccine",
         "marker": {
          "color": "#FFA15A",
          "size": [
           1,
           1,
           1,
           1,
           1,
           1,
           1,
           1,
           1,
           1,
           1,
           1,
           1,
           1,
           1,
           1,
           1,
           1,
           1,
           1,
           2,
           1,
           1,
           1,
           1,
           1,
           1,
           1,
           1,
           1,
           1,
           1,
           1,
           1,
           1,
           2,
           1,
           1,
           1,
           1,
           2,
           1,
           1,
           1,
           1,
           1,
           4,
           1,
           1,
           4,
           1,
           1,
           1,
           1,
           1,
           2,
           1,
           6,
           4,
           1,
           2,
           1,
           1,
           2,
           1,
           2,
           1,
           1,
           3,
           1,
           1,
           3,
           2,
           1,
           3,
           2,
           1,
           2,
           1,
           1,
           1,
           4,
           2,
           1,
           1,
           4,
           1,
           2,
           3,
           3,
           2,
           1,
           3,
           3,
           1,
           2,
           3,
           1,
           1,
           1,
           1,
           2,
           4,
           1,
           4,
           1,
           1,
           4,
           6,
           2,
           2,
           3,
           2,
           2,
           1,
           3,
           5,
           6,
           2,
           3,
           2,
           2,
           1,
           1,
           3,
           1,
           1,
           2,
           2,
           3,
           3,
           1,
           2,
           3,
           3,
           5,
           3,
           1,
           1,
           5,
           1,
           2,
           2,
           2,
           2,
           1,
           4,
           3,
           2,
           2,
           5,
           2,
           5,
           7,
           2,
           1,
           1,
           1,
           1,
           1,
           1,
           1,
           1,
           1,
           1,
           1,
           1,
           1,
           1,
           1,
           1,
           1,
           1,
           1,
           2,
           1,
           1,
           1,
           1,
           1,
           1,
           1,
           1,
           1,
           1,
           2,
           1,
           1,
           1,
           1,
           1,
           2,
           1,
           1,
           2,
           1,
           2,
           1,
           2,
           1,
           1,
           2,
           1,
           2,
           1,
           1,
           1,
           1,
           2,
           1,
           1,
           1,
           2,
           2,
           1,
           1,
           2,
           1,
           1,
           1,
           1,
           2,
           1,
           1,
           1,
           2,
           1,
           2,
           2,
           1,
           1,
           1,
           1,
           2,
           2,
           3,
           2,
           1,
           1,
           2,
           2,
           3,
           1,
           1,
           3,
           1,
           1,
           1,
           3,
           2,
           3,
           2,
           1,
           1,
           1,
           1,
           2,
           4,
           1,
           2,
           1,
           2,
           2,
           3,
           1,
           2,
           1,
           1,
           2,
           3,
           4,
           2,
           2,
           1,
           1,
           1,
           1,
           1,
           1,
           1,
           1,
           1,
           1,
           1,
           3,
           1,
           1,
           1,
           1,
           1,
           1,
           1,
           1,
           1,
           1,
           1,
           1,
           1,
           1,
           2,
           1,
           1,
           1,
           1,
           1,
           1,
           1,
           2,
           1,
           1,
           1,
           1,
           1,
           1,
           1,
           1,
           1,
           1,
           1,
           1,
           1,
           1,
           2,
           2,
           1,
           1,
           1,
           1,
           1,
           1,
           1,
           1,
           1,
           1,
           1,
           1,
           1,
           1,
           1,
           1,
           1,
           1,
           1,
           1,
           1,
           1,
           1,
           1,
           1,
           1,
           1,
           1,
           1,
           1,
           1,
           1,
           1,
           1,
           1,
           1,
           1,
           1,
           1,
           1,
           1,
           1,
           1
          ],
          "sizemode": "area",
          "sizeref": 0.0275,
          "symbol": "circle"
         },
         "mode": "markers",
         "name": "vaccine",
         "showlegend": true,
         "type": "scattergl",
         "x": [
          "1977-07",
          "1983-12",
          "1984-12",
          "1985-12",
          "1986-08",
          "1987-09",
          "1988-05",
          "1988-12",
          "1989-09",
          "1990-07",
          "1991-01",
          "1993-06",
          "1993-07",
          "1993-10",
          "1995-11",
          "1995-12",
          "1996-08",
          "1997-04",
          "1997-11",
          "1997-12",
          "1998-12",
          "2000-07",
          "2001-07",
          "2002-05",
          "2003-04",
          "2003-06",
          "2003-08",
          "2003-11",
          "2004-01",
          "2004-02",
          "2004-06",
          "2004-07",
          "2004-09",
          "2005-01",
          "2005-03",
          "2005-06",
          "2005-07",
          "2005-08",
          "2005-09",
          "2005-10",
          "2005-11",
          "2005-12",
          "2006-07",
          "2006-08",
          "2006-10",
          "2006-11",
          "2006-12",
          "2007-01",
          "2007-02",
          "2007-05",
          "2007-07",
          "2007-10",
          "2007-12",
          "2008-03",
          "2008-04",
          "2008-05",
          "2008-08",
          "2008-12",
          "2009-01",
          "2009-02",
          "2009-03",
          "2009-05",
          "2009-06",
          "2009-12",
          "2010-01",
          "2010-03",
          "2010-05",
          "2010-06",
          "2010-09",
          "2010-10",
          "2010-12",
          "2011-01",
          "2011-02",
          "2011-03",
          "2011-04",
          "2011-05",
          "2011-06",
          "2011-07",
          "2011-08",
          "2011-10",
          "2011-11",
          "2011-12",
          "2012-01",
          "2012-04",
          "2012-08",
          "2012-12",
          "2013-01",
          "2013-03",
          "2013-04",
          "2013-06",
          "2013-07",
          "2013-08",
          "2013-09",
          "2013-10",
          "2013-11",
          "2013-12",
          "2014-01",
          "2014-02",
          "2014-04",
          "2014-05",
          "2014-06",
          "2014-07",
          "2014-12",
          "2015-01",
          "2015-02",
          "2015-03",
          "2015-04",
          "2015-05",
          "2015-09",
          "2015-10",
          "2015-11",
          "2015-12",
          "2016-02",
          "2016-03",
          "2016-05",
          "2016-06",
          "2016-07",
          "2016-08",
          "2016-12",
          "2017-01",
          "2017-02",
          "2017-03",
          "2017-06",
          "2017-08",
          "2017-09",
          "2017-10",
          "2017-11",
          "2017-12",
          "2018-01",
          "2018-02",
          "2018-03",
          "2018-04",
          "2018-05",
          "2018-06",
          "2018-07",
          "2018-08",
          "2018-09",
          "2018-10",
          "2018-11",
          "2018-12",
          "2019-01",
          "2019-02",
          "2019-03",
          "2019-04",
          "2019-05",
          "2019-06",
          "2019-07",
          "2019-08",
          "2019-09",
          "2019-11",
          "2019-12",
          "2020-01",
          "2020-02",
          "2020-03",
          "2020-05",
          "2020-11",
          "1979-12",
          "1980-12",
          "1981-12",
          "1986-09",
          "1987-12",
          "1988-08",
          "1989-12",
          "1996-04",
          "1998-10",
          "1999-06",
          "2003-09",
          "2003-12",
          "2004-01",
          "2004-06",
          "2004-10",
          "2005-01",
          "2005-04",
          "2005-05",
          "2005-08",
          "2005-12",
          "2006-03",
          "2006-07",
          "2007-04",
          "2007-07",
          "2007-08",
          "2007-11",
          "2007-12",
          "2008-02",
          "2008-04",
          "2008-05",
          "2008-07",
          "2008-08",
          "2008-11",
          "2008-12",
          "2009-01",
          "2009-03",
          "2009-07",
          "2009-08",
          "2009-09",
          "2009-12",
          "2010-03",
          "2010-05",
          "2010-06",
          "2010-07",
          "2010-10",
          "2010-11",
          "2010-12",
          "2011-01",
          "2011-02",
          "2011-04",
          "2011-07",
          "2011-11",
          "2011-12",
          "2012-02",
          "2012-03",
          "2012-05",
          "2012-07",
          "2012-12",
          "2013-02",
          "2013-05",
          "2013-06",
          "2013-08",
          "2013-10",
          "2013-12",
          "2014-01",
          "2014-03",
          "2014-05",
          "2014-06",
          "2014-08",
          "2014-10",
          "2014-11",
          "2014-12",
          "2015-01",
          "2015-03",
          "2015-04",
          "2015-05",
          "2015-07",
          "2015-10",
          "2015-11",
          "2015-12",
          "2016-02",
          "2016-05",
          "2016-07",
          "2016-08",
          "2016-11",
          "2016-12",
          "2017-01",
          "2017-02",
          "2017-03",
          "2017-04",
          "2017-07",
          "2017-08",
          "2017-09",
          "2017-10",
          "2017-12",
          "2018-01",
          "2018-03",
          "2018-05",
          "2018-07",
          "2018-09",
          "2018-11",
          "2018-12",
          "2019-01",
          "2019-02",
          "2019-03",
          "2019-04",
          "2019-06",
          "2019-07",
          "2019-08",
          "2019-09",
          "2019-11",
          "2019-12",
          "2020-01",
          "2020-02",
          "2020-03",
          "2020-04",
          "2020-12",
          "1982-12",
          "1985-12",
          "1989-06",
          "1992-06",
          "1998-10",
          "2004-03",
          "2005-12",
          "2006-08",
          "2006-12",
          "2008-03",
          "2008-10",
          "2008-12",
          "2009-09",
          "2009-12",
          "2010-01",
          "2010-06",
          "2011-05",
          "2011-06",
          "2011-12",
          "2012-01",
          "2012-03",
          "2012-07",
          "2014-05",
          "2014-07",
          "2015-01",
          "2015-04",
          "2015-12",
          "2016-02",
          "2016-04",
          "2016-12",
          "2017-04",
          "2017-05",
          "2017-11",
          "2017-12",
          "2018-06",
          "2018-09",
          "2018-11",
          "2019-02",
          "2019-07",
          "2019-09",
          "2020-01",
          "1989-02",
          "1994-06",
          "2001-07",
          "2001-12",
          "2003-09",
          "2004-01",
          "2004-11",
          "2006-05",
          "2006-08",
          "2006-12",
          "2007-09",
          "2007-12",
          "2009-01",
          "2009-12",
          "2011-05",
          "2012-02",
          "2012-05",
          "2012-12",
          "2013-08",
          "2013-10",
          "2014-07",
          "2014-12",
          "2015-01",
          "2015-07",
          "2016-07",
          "2017-01",
          "2017-08",
          "2017-10",
          "2017-12",
          "2018-01",
          "2018-03",
          "2018-12",
          "2019-12",
          "2020-01",
          "1992-04",
          "1992-05",
          "2005-03",
          "2006-06",
          "2006-09",
          "2008-11",
          "2012-02",
          "2012-12",
          "2013-06",
          "2015-05",
          "2015-08",
          "2016-09",
          "2017-03",
          "2017-11",
          "2017-12",
          "2018-02",
          "2018-05",
          "2019-12",
          "2020-02"
         ],
         "xaxis": "x",
         "y": [
          "Phase 1",
          "Phase 1",
          "Phase 1",
          "Phase 1",
          "Phase 1",
          "Phase 1",
          "Phase 1",
          "Phase 1",
          "Phase 1",
          "Phase 1",
          "Phase 1",
          "Phase 1",
          "Phase 1",
          "Phase 1",
          "Phase 1",
          "Phase 1",
          "Phase 1",
          "Phase 1",
          "Phase 1",
          "Phase 1",
          "Phase 1",
          "Phase 1",
          "Phase 1",
          "Phase 1",
          "Phase 1",
          "Phase 1",
          "Phase 1",
          "Phase 1",
          "Phase 1",
          "Phase 1",
          "Phase 1",
          "Phase 1",
          "Phase 1",
          "Phase 1",
          "Phase 1",
          "Phase 1",
          "Phase 1",
          "Phase 1",
          "Phase 1",
          "Phase 1",
          "Phase 1",
          "Phase 1",
          "Phase 1",
          "Phase 1",
          "Phase 1",
          "Phase 1",
          "Phase 1",
          "Phase 1",
          "Phase 1",
          "Phase 1",
          "Phase 1",
          "Phase 1",
          "Phase 1",
          "Phase 1",
          "Phase 1",
          "Phase 1",
          "Phase 1",
          "Phase 1",
          "Phase 1",
          "Phase 1",
          "Phase 1",
          "Phase 1",
          "Phase 1",
          "Phase 1",
          "Phase 1",
          "Phase 1",
          "Phase 1",
          "Phase 1",
          "Phase 1",
          "Phase 1",
          "Phase 1",
          "Phase 1",
          "Phase 1",
          "Phase 1",
          "Phase 1",
          "Phase 1",
          "Phase 1",
          "Phase 1",
          "Phase 1",
          "Phase 1",
          "Phase 1",
          "Phase 1",
          "Phase 1",
          "Phase 1",
          "Phase 1",
          "Phase 1",
          "Phase 1",
          "Phase 1",
          "Phase 1",
          "Phase 1",
          "Phase 1",
          "Phase 1",
          "Phase 1",
          "Phase 1",
          "Phase 1",
          "Phase 1",
          "Phase 1",
          "Phase 1",
          "Phase 1",
          "Phase 1",
          "Phase 1",
          "Phase 1",
          "Phase 1",
          "Phase 1",
          "Phase 1",
          "Phase 1",
          "Phase 1",
          "Phase 1",
          "Phase 1",
          "Phase 1",
          "Phase 1",
          "Phase 1",
          "Phase 1",
          "Phase 1",
          "Phase 1",
          "Phase 1",
          "Phase 1",
          "Phase 1",
          "Phase 1",
          "Phase 1",
          "Phase 1",
          "Phase 1",
          "Phase 1",
          "Phase 1",
          "Phase 1",
          "Phase 1",
          "Phase 1",
          "Phase 1",
          "Phase 1",
          "Phase 1",
          "Phase 1",
          "Phase 1",
          "Phase 1",
          "Phase 1",
          "Phase 1",
          "Phase 1",
          "Phase 1",
          "Phase 1",
          "Phase 1",
          "Phase 1",
          "Phase 1",
          "Phase 1",
          "Phase 1",
          "Phase 1",
          "Phase 1",
          "Phase 1",
          "Phase 1",
          "Phase 1",
          "Phase 1",
          "Phase 1",
          "Phase 1",
          "Phase 1",
          "Phase 1",
          "Phase 1",
          "Phase 1",
          "Phase 1",
          "Phase 2",
          "Phase 2",
          "Phase 2",
          "Phase 2",
          "Phase 2",
          "Phase 2",
          "Phase 2",
          "Phase 2",
          "Phase 2",
          "Phase 2",
          "Phase 2",
          "Phase 2",
          "Phase 2",
          "Phase 2",
          "Phase 2",
          "Phase 2",
          "Phase 2",
          "Phase 2",
          "Phase 2",
          "Phase 2",
          "Phase 2",
          "Phase 2",
          "Phase 2",
          "Phase 2",
          "Phase 2",
          "Phase 2",
          "Phase 2",
          "Phase 2",
          "Phase 2",
          "Phase 2",
          "Phase 2",
          "Phase 2",
          "Phase 2",
          "Phase 2",
          "Phase 2",
          "Phase 2",
          "Phase 2",
          "Phase 2",
          "Phase 2",
          "Phase 2",
          "Phase 2",
          "Phase 2",
          "Phase 2",
          "Phase 2",
          "Phase 2",
          "Phase 2",
          "Phase 2",
          "Phase 2",
          "Phase 2",
          "Phase 2",
          "Phase 2",
          "Phase 2",
          "Phase 2",
          "Phase 2",
          "Phase 2",
          "Phase 2",
          "Phase 2",
          "Phase 2",
          "Phase 2",
          "Phase 2",
          "Phase 2",
          "Phase 2",
          "Phase 2",
          "Phase 2",
          "Phase 2",
          "Phase 2",
          "Phase 2",
          "Phase 2",
          "Phase 2",
          "Phase 2",
          "Phase 2",
          "Phase 2",
          "Phase 2",
          "Phase 2",
          "Phase 2",
          "Phase 2",
          "Phase 2",
          "Phase 2",
          "Phase 2",
          "Phase 2",
          "Phase 2",
          "Phase 2",
          "Phase 2",
          "Phase 2",
          "Phase 2",
          "Phase 2",
          "Phase 2",
          "Phase 2",
          "Phase 2",
          "Phase 2",
          "Phase 2",
          "Phase 2",
          "Phase 2",
          "Phase 2",
          "Phase 2",
          "Phase 2",
          "Phase 2",
          "Phase 2",
          "Phase 2",
          "Phase 2",
          "Phase 2",
          "Phase 2",
          "Phase 2",
          "Phase 2",
          "Phase 2",
          "Phase 2",
          "Phase 2",
          "Phase 2",
          "Phase 2",
          "Phase 2",
          "Phase 2",
          "Phase 2",
          "Phase 2",
          "Phase 2",
          "Phase 2",
          "Phase 2",
          "Phase 2",
          "Phase 3",
          "Phase 3",
          "Phase 3",
          "Phase 3",
          "Phase 3",
          "Phase 3",
          "Phase 3",
          "Phase 3",
          "Phase 3",
          "Phase 3",
          "Phase 3",
          "Phase 3",
          "Phase 3",
          "Phase 3",
          "Phase 3",
          "Phase 3",
          "Phase 3",
          "Phase 3",
          "Phase 3",
          "Phase 3",
          "Phase 3",
          "Phase 3",
          "Phase 3",
          "Phase 3",
          "Phase 3",
          "Phase 3",
          "Phase 3",
          "Phase 3",
          "Phase 3",
          "Phase 3",
          "Phase 3",
          "Phase 3",
          "Phase 3",
          "Phase 3",
          "Phase 3",
          "Phase 3",
          "Phase 3",
          "Phase 3",
          "Phase 3",
          "Phase 3",
          "Phase 3",
          "Phase 4",
          "Phase 4",
          "Phase 4",
          "Phase 4",
          "Phase 4",
          "Phase 4",
          "Phase 4",
          "Phase 4",
          "Phase 4",
          "Phase 4",
          "Phase 4",
          "Phase 4",
          "Phase 4",
          "Phase 4",
          "Phase 4",
          "Phase 4",
          "Phase 4",
          "Phase 4",
          "Phase 4",
          "Phase 4",
          "Phase 4",
          "Phase 4",
          "Phase 4",
          "Phase 4",
          "Phase 4",
          "Phase 4",
          "Phase 4",
          "Phase 4",
          "Phase 4",
          "Phase 4",
          "Phase 4",
          "Phase 4",
          "Phase 4",
          "Phase 4",
          "Phase 5",
          "Phase 5",
          "Phase 5",
          "Phase 5",
          "Phase 5",
          "Phase 5",
          "Phase 5",
          "Phase 5",
          "Phase 5",
          "Phase 5",
          "Phase 5",
          "Phase 5",
          "Phase 5",
          "Phase 5",
          "Phase 5",
          "Phase 5",
          "Phase 5",
          "Phase 5",
          "Phase 5"
         ],
         "yaxis": "y"
        }
       ],
       "layout": {
        "legend": {
         "itemsizing": "constant",
         "title": {
          "text": "tag"
         },
         "tracegroupgap": 0
        },
        "template": {
         "data": {
          "bar": [
           {
            "error_x": {
             "color": "#2a3f5f"
            },
            "error_y": {
             "color": "#2a3f5f"
            },
            "marker": {
             "line": {
              "color": "#E5ECF6",
              "width": 0.5
             }
            },
            "type": "bar"
           }
          ],
          "barpolar": [
           {
            "marker": {
             "line": {
              "color": "#E5ECF6",
              "width": 0.5
             }
            },
            "type": "barpolar"
           }
          ],
          "carpet": [
           {
            "aaxis": {
             "endlinecolor": "#2a3f5f",
             "gridcolor": "white",
             "linecolor": "white",
             "minorgridcolor": "white",
             "startlinecolor": "#2a3f5f"
            },
            "baxis": {
             "endlinecolor": "#2a3f5f",
             "gridcolor": "white",
             "linecolor": "white",
             "minorgridcolor": "white",
             "startlinecolor": "#2a3f5f"
            },
            "type": "carpet"
           }
          ],
          "choropleth": [
           {
            "colorbar": {
             "outlinewidth": 0,
             "ticks": ""
            },
            "type": "choropleth"
           }
          ],
          "contour": [
           {
            "colorbar": {
             "outlinewidth": 0,
             "ticks": ""
            },
            "colorscale": [
             [
              0,
              "#0d0887"
             ],
             [
              0.1111111111111111,
              "#46039f"
             ],
             [
              0.2222222222222222,
              "#7201a8"
             ],
             [
              0.3333333333333333,
              "#9c179e"
             ],
             [
              0.4444444444444444,
              "#bd3786"
             ],
             [
              0.5555555555555556,
              "#d8576b"
             ],
             [
              0.6666666666666666,
              "#ed7953"
             ],
             [
              0.7777777777777778,
              "#fb9f3a"
             ],
             [
              0.8888888888888888,
              "#fdca26"
             ],
             [
              1,
              "#f0f921"
             ]
            ],
            "type": "contour"
           }
          ],
          "contourcarpet": [
           {
            "colorbar": {
             "outlinewidth": 0,
             "ticks": ""
            },
            "type": "contourcarpet"
           }
          ],
          "heatmap": [
           {
            "colorbar": {
             "outlinewidth": 0,
             "ticks": ""
            },
            "colorscale": [
             [
              0,
              "#0d0887"
             ],
             [
              0.1111111111111111,
              "#46039f"
             ],
             [
              0.2222222222222222,
              "#7201a8"
             ],
             [
              0.3333333333333333,
              "#9c179e"
             ],
             [
              0.4444444444444444,
              "#bd3786"
             ],
             [
              0.5555555555555556,
              "#d8576b"
             ],
             [
              0.6666666666666666,
              "#ed7953"
             ],
             [
              0.7777777777777778,
              "#fb9f3a"
             ],
             [
              0.8888888888888888,
              "#fdca26"
             ],
             [
              1,
              "#f0f921"
             ]
            ],
            "type": "heatmap"
           }
          ],
          "heatmapgl": [
           {
            "colorbar": {
             "outlinewidth": 0,
             "ticks": ""
            },
            "colorscale": [
             [
              0,
              "#0d0887"
             ],
             [
              0.1111111111111111,
              "#46039f"
             ],
             [
              0.2222222222222222,
              "#7201a8"
             ],
             [
              0.3333333333333333,
              "#9c179e"
             ],
             [
              0.4444444444444444,
              "#bd3786"
             ],
             [
              0.5555555555555556,
              "#d8576b"
             ],
             [
              0.6666666666666666,
              "#ed7953"
             ],
             [
              0.7777777777777778,
              "#fb9f3a"
             ],
             [
              0.8888888888888888,
              "#fdca26"
             ],
             [
              1,
              "#f0f921"
             ]
            ],
            "type": "heatmapgl"
           }
          ],
          "histogram": [
           {
            "marker": {
             "colorbar": {
              "outlinewidth": 0,
              "ticks": ""
             }
            },
            "type": "histogram"
           }
          ],
          "histogram2d": [
           {
            "colorbar": {
             "outlinewidth": 0,
             "ticks": ""
            },
            "colorscale": [
             [
              0,
              "#0d0887"
             ],
             [
              0.1111111111111111,
              "#46039f"
             ],
             [
              0.2222222222222222,
              "#7201a8"
             ],
             [
              0.3333333333333333,
              "#9c179e"
             ],
             [
              0.4444444444444444,
              "#bd3786"
             ],
             [
              0.5555555555555556,
              "#d8576b"
             ],
             [
              0.6666666666666666,
              "#ed7953"
             ],
             [
              0.7777777777777778,
              "#fb9f3a"
             ],
             [
              0.8888888888888888,
              "#fdca26"
             ],
             [
              1,
              "#f0f921"
             ]
            ],
            "type": "histogram2d"
           }
          ],
          "histogram2dcontour": [
           {
            "colorbar": {
             "outlinewidth": 0,
             "ticks": ""
            },
            "colorscale": [
             [
              0,
              "#0d0887"
             ],
             [
              0.1111111111111111,
              "#46039f"
             ],
             [
              0.2222222222222222,
              "#7201a8"
             ],
             [
              0.3333333333333333,
              "#9c179e"
             ],
             [
              0.4444444444444444,
              "#bd3786"
             ],
             [
              0.5555555555555556,
              "#d8576b"
             ],
             [
              0.6666666666666666,
              "#ed7953"
             ],
             [
              0.7777777777777778,
              "#fb9f3a"
             ],
             [
              0.8888888888888888,
              "#fdca26"
             ],
             [
              1,
              "#f0f921"
             ]
            ],
            "type": "histogram2dcontour"
           }
          ],
          "mesh3d": [
           {
            "colorbar": {
             "outlinewidth": 0,
             "ticks": ""
            },
            "type": "mesh3d"
           }
          ],
          "parcoords": [
           {
            "line": {
             "colorbar": {
              "outlinewidth": 0,
              "ticks": ""
             }
            },
            "type": "parcoords"
           }
          ],
          "pie": [
           {
            "automargin": true,
            "type": "pie"
           }
          ],
          "scatter": [
           {
            "marker": {
             "colorbar": {
              "outlinewidth": 0,
              "ticks": ""
             }
            },
            "type": "scatter"
           }
          ],
          "scatter3d": [
           {
            "line": {
             "colorbar": {
              "outlinewidth": 0,
              "ticks": ""
             }
            },
            "marker": {
             "colorbar": {
              "outlinewidth": 0,
              "ticks": ""
             }
            },
            "type": "scatter3d"
           }
          ],
          "scattercarpet": [
           {
            "marker": {
             "colorbar": {
              "outlinewidth": 0,
              "ticks": ""
             }
            },
            "type": "scattercarpet"
           }
          ],
          "scattergeo": [
           {
            "marker": {
             "colorbar": {
              "outlinewidth": 0,
              "ticks": ""
             }
            },
            "type": "scattergeo"
           }
          ],
          "scattergl": [
           {
            "marker": {
             "colorbar": {
              "outlinewidth": 0,
              "ticks": ""
             }
            },
            "type": "scattergl"
           }
          ],
          "scattermapbox": [
           {
            "marker": {
             "colorbar": {
              "outlinewidth": 0,
              "ticks": ""
             }
            },
            "type": "scattermapbox"
           }
          ],
          "scatterpolar": [
           {
            "marker": {
             "colorbar": {
              "outlinewidth": 0,
              "ticks": ""
             }
            },
            "type": "scatterpolar"
           }
          ],
          "scatterpolargl": [
           {
            "marker": {
             "colorbar": {
              "outlinewidth": 0,
              "ticks": ""
             }
            },
            "type": "scatterpolargl"
           }
          ],
          "scatterternary": [
           {
            "marker": {
             "colorbar": {
              "outlinewidth": 0,
              "ticks": ""
             }
            },
            "type": "scatterternary"
           }
          ],
          "surface": [
           {
            "colorbar": {
             "outlinewidth": 0,
             "ticks": ""
            },
            "colorscale": [
             [
              0,
              "#0d0887"
             ],
             [
              0.1111111111111111,
              "#46039f"
             ],
             [
              0.2222222222222222,
              "#7201a8"
             ],
             [
              0.3333333333333333,
              "#9c179e"
             ],
             [
              0.4444444444444444,
              "#bd3786"
             ],
             [
              0.5555555555555556,
              "#d8576b"
             ],
             [
              0.6666666666666666,
              "#ed7953"
             ],
             [
              0.7777777777777778,
              "#fb9f3a"
             ],
             [
              0.8888888888888888,
              "#fdca26"
             ],
             [
              1,
              "#f0f921"
             ]
            ],
            "type": "surface"
           }
          ],
          "table": [
           {
            "cells": {
             "fill": {
              "color": "#EBF0F8"
             },
             "line": {
              "color": "white"
             }
            },
            "header": {
             "fill": {
              "color": "#C8D4E3"
             },
             "line": {
              "color": "white"
             }
            },
            "type": "table"
           }
          ]
         },
         "layout": {
          "annotationdefaults": {
           "arrowcolor": "#2a3f5f",
           "arrowhead": 0,
           "arrowwidth": 1
          },
          "coloraxis": {
           "colorbar": {
            "outlinewidth": 0,
            "ticks": ""
           }
          },
          "colorscale": {
           "diverging": [
            [
             0,
             "#8e0152"
            ],
            [
             0.1,
             "#c51b7d"
            ],
            [
             0.2,
             "#de77ae"
            ],
            [
             0.3,
             "#f1b6da"
            ],
            [
             0.4,
             "#fde0ef"
            ],
            [
             0.5,
             "#f7f7f7"
            ],
            [
             0.6,
             "#e6f5d0"
            ],
            [
             0.7,
             "#b8e186"
            ],
            [
             0.8,
             "#7fbc41"
            ],
            [
             0.9,
             "#4d9221"
            ],
            [
             1,
             "#276419"
            ]
           ],
           "sequential": [
            [
             0,
             "#0d0887"
            ],
            [
             0.1111111111111111,
             "#46039f"
            ],
            [
             0.2222222222222222,
             "#7201a8"
            ],
            [
             0.3333333333333333,
             "#9c179e"
            ],
            [
             0.4444444444444444,
             "#bd3786"
            ],
            [
             0.5555555555555556,
             "#d8576b"
            ],
            [
             0.6666666666666666,
             "#ed7953"
            ],
            [
             0.7777777777777778,
             "#fb9f3a"
            ],
            [
             0.8888888888888888,
             "#fdca26"
            ],
            [
             1,
             "#f0f921"
            ]
           ],
           "sequentialminus": [
            [
             0,
             "#0d0887"
            ],
            [
             0.1111111111111111,
             "#46039f"
            ],
            [
             0.2222222222222222,
             "#7201a8"
            ],
            [
             0.3333333333333333,
             "#9c179e"
            ],
            [
             0.4444444444444444,
             "#bd3786"
            ],
            [
             0.5555555555555556,
             "#d8576b"
            ],
            [
             0.6666666666666666,
             "#ed7953"
            ],
            [
             0.7777777777777778,
             "#fb9f3a"
            ],
            [
             0.8888888888888888,
             "#fdca26"
            ],
            [
             1,
             "#f0f921"
            ]
           ]
          },
          "colorway": [
           "#636efa",
           "#EF553B",
           "#00cc96",
           "#ab63fa",
           "#FFA15A",
           "#19d3f3",
           "#FF6692",
           "#B6E880",
           "#FF97FF",
           "#FECB52"
          ],
          "font": {
           "color": "#2a3f5f"
          },
          "geo": {
           "bgcolor": "white",
           "lakecolor": "white",
           "landcolor": "#E5ECF6",
           "showlakes": true,
           "showland": true,
           "subunitcolor": "white"
          },
          "hoverlabel": {
           "align": "left"
          },
          "hovermode": "closest",
          "mapbox": {
           "style": "light"
          },
          "paper_bgcolor": "white",
          "plot_bgcolor": "#E5ECF6",
          "polar": {
           "angularaxis": {
            "gridcolor": "white",
            "linecolor": "white",
            "ticks": ""
           },
           "bgcolor": "#E5ECF6",
           "radialaxis": {
            "gridcolor": "white",
            "linecolor": "white",
            "ticks": ""
           }
          },
          "scene": {
           "xaxis": {
            "backgroundcolor": "#E5ECF6",
            "gridcolor": "white",
            "gridwidth": 2,
            "linecolor": "white",
            "showbackground": true,
            "ticks": "",
            "zerolinecolor": "white"
           },
           "yaxis": {
            "backgroundcolor": "#E5ECF6",
            "gridcolor": "white",
            "gridwidth": 2,
            "linecolor": "white",
            "showbackground": true,
            "ticks": "",
            "zerolinecolor": "white"
           },
           "zaxis": {
            "backgroundcolor": "#E5ECF6",
            "gridcolor": "white",
            "gridwidth": 2,
            "linecolor": "white",
            "showbackground": true,
            "ticks": "",
            "zerolinecolor": "white"
           }
          },
          "shapedefaults": {
           "line": {
            "color": "#2a3f5f"
           }
          },
          "ternary": {
           "aaxis": {
            "gridcolor": "white",
            "linecolor": "white",
            "ticks": ""
           },
           "baxis": {
            "gridcolor": "white",
            "linecolor": "white",
            "ticks": ""
           },
           "bgcolor": "#E5ECF6",
           "caxis": {
            "gridcolor": "white",
            "linecolor": "white",
            "ticks": ""
           }
          },
          "title": {
           "x": 0.05
          },
          "xaxis": {
           "automargin": true,
           "gridcolor": "white",
           "linecolor": "white",
           "ticks": "",
           "title": {
            "standoff": 15
           },
           "zerolinecolor": "white",
           "zerolinewidth": 2
          },
          "yaxis": {
           "automargin": true,
           "gridcolor": "white",
           "linecolor": "white",
           "ticks": "",
           "title": {
            "standoff": 15
           },
           "zerolinecolor": "white",
           "zerolinewidth": 2
          }
         }
        },
        "title": {
         "text": "Occurance of research tag per month per phase sized by number"
        },
        "xaxis": {
         "anchor": "y",
         "domain": [
          0,
          1
         ],
         "title": {
          "text": "publish_time"
         }
        },
        "yaxis": {
         "anchor": "x",
         "domain": [
          0,
          1
         ],
         "title": {
          "text": "phase"
         }
        }
       }
      },
      "text/html": [
       "<div>\n",
       "        \n",
       "        \n",
       "            <div id=\"9d90568c-5823-4b5e-9260-53a097052406\" class=\"plotly-graph-div\" style=\"height:525px; width:100%;\"></div>\n",
       "            <script type=\"text/javascript\">\n",
       "                require([\"plotly\"], function(Plotly) {\n",
       "                    window.PLOTLYENV=window.PLOTLYENV || {};\n",
       "                    \n",
       "                if (document.getElementById(\"9d90568c-5823-4b5e-9260-53a097052406\")) {\n",
       "                    Plotly.newPlot(\n",
       "                        '9d90568c-5823-4b5e-9260-53a097052406',\n",
       "                        [{\"customdata\": [[1], [1], [1], [1], [1], [1], [1], [2], [1], [1], [1], [1], [1], [2], [1], [1], [1], [1], [3], [1], [1], [1], [1], [1], [1], [1], [3], [1], [1], [2], [4], [2], [1], [2], [2], [1], [3], [1], [4], [2], [4], [2], [2], [1], [2], [2], [2], [1], [2], [1], [1], [2], [1], [2], [2], [2], [2], [2], [4], [1], [1], [1], [3], [1], [1], [2], [2], [1], [1], [2], [2], [1], [1], [2], [2], [1], [4], [1], [2], [1], [1], [2], [1], [1], [3], [1], [2], [3], [2], [2], [2], [1], [1], [1], [1], [1], [1], [2], [1], [1], [1], [4], [2], [2], [9], [1], [4], [2], [2], [1], [1], [4], [4], [4], [2], [2], [3], [2], [3], [1], [2], [1], [1], [1], [2], [1], [4], [1], [1], [1], [1], [1], [1], [1], [3], [1], [1], [4], [2], [3], [3], [5], [7], [4], [3], [1], [3], [1], [5], [5], [5], [4], [1], [1], [1], [1], [1], [1], [1], [1], [1], [1], [1], [1], [1], [1], [1], [1], [1], [2], [1], [2], [1], [1], [3], [1], [1], [1], [1], [5], [1], [1], [1], [1], [1], [1], [1], [2], [1], [1], [2], [1], [1], [1], [1], [2], [2], [1], [1], [3], [4], [2], [1], [2], [1], [3], [1], [1], [3], [3], [1], [3], [2], [2], [1], [1], [1], [3], [1], [1], [3], [1], [2], [4], [1], [1], [3], [2], [1], [3], [1], [1], [1], [1], [1], [1], [1], [4], [1], [3], [1], [2], [3], [3], [2], [2], [2], [1], [4], [1], [1], [1], [1], [1], [1], [2], [5], [5], [2], [1], [1], [1], [1], [1], [1], [1], [1], [1], [1], [1], [1], [1], [1], [2], [1], [1], [1], [1], [1], [1], [1], [1], [1], [2], [2], [1], [1], [1], [1], [1], [1], [1], [2], [1], [1], [1], [1], [1], [1], [1], [1], [1], [1], [2], [1], [1], [1], [2], [1], [1], [1], [1], [2], [1], [1], [1], [1], [1], [1], [1], [1], [1], [1], [1], [1], [1], [1], [1], [1], [1], [1], [1], [1], [1], [1], [1], [1], [1], [1], [1], [1], [2], [1], [2], [3], [1], [1], [1], [2], [1], [1], [1], [1], [1], [1], [1], [1], [1], [1], [1], [1], [1], [1], [1], [1], [2], [1], [1], [1], [1], [1], [1], [1], [1], [1], [1], [2], [1], [1], [1], [2]], \"hoverlabel\": {\"namelength\": 0}, \"hovertemplate\": \"<b>%{hovertext}</b><br><br>tag=clinical outcome<br>publish_time=%{x}<br>phase=%{y}<br>count=%{customdata[0]}\", \"hovertext\": [\"clinical outcome\", \"clinical outcome\", \"clinical outcome\", \"clinical outcome\", \"clinical outcome\", \"clinical outcome\", \"clinical outcome\", \"clinical outcome\", \"clinical outcome\", \"clinical outcome\", \"clinical outcome\", \"clinical outcome\", \"clinical outcome\", \"clinical outcome\", \"clinical outcome\", \"clinical outcome\", \"clinical outcome\", \"clinical outcome\", \"clinical outcome\", \"clinical outcome\", \"clinical outcome\", \"clinical outcome\", \"clinical outcome\", \"clinical outcome\", \"clinical outcome\", \"clinical outcome\", \"clinical outcome\", \"clinical outcome\", \"clinical outcome\", \"clinical outcome\", \"clinical outcome\", \"clinical outcome\", \"clinical outcome\", \"clinical outcome\", \"clinical outcome\", \"clinical outcome\", \"clinical outcome\", \"clinical outcome\", \"clinical outcome\", \"clinical outcome\", \"clinical outcome\", \"clinical outcome\", \"clinical outcome\", \"clinical outcome\", \"clinical outcome\", \"clinical outcome\", \"clinical outcome\", \"clinical outcome\", \"clinical outcome\", \"clinical outcome\", \"clinical outcome\", \"clinical outcome\", \"clinical outcome\", \"clinical outcome\", \"clinical outcome\", \"clinical outcome\", \"clinical outcome\", \"clinical outcome\", \"clinical outcome\", \"clinical outcome\", \"clinical outcome\", \"clinical outcome\", \"clinical outcome\", \"clinical outcome\", \"clinical outcome\", \"clinical outcome\", \"clinical outcome\", \"clinical outcome\", \"clinical outcome\", \"clinical outcome\", \"clinical outcome\", \"clinical outcome\", \"clinical outcome\", \"clinical outcome\", \"clinical outcome\", \"clinical outcome\", \"clinical outcome\", \"clinical outcome\", \"clinical outcome\", \"clinical outcome\", \"clinical outcome\", \"clinical outcome\", \"clinical outcome\", \"clinical outcome\", \"clinical outcome\", \"clinical outcome\", \"clinical outcome\", \"clinical outcome\", \"clinical outcome\", \"clinical outcome\", \"clinical outcome\", \"clinical outcome\", \"clinical outcome\", \"clinical outcome\", \"clinical outcome\", \"clinical outcome\", \"clinical outcome\", \"clinical outcome\", \"clinical outcome\", \"clinical outcome\", \"clinical outcome\", \"clinical outcome\", \"clinical outcome\", \"clinical outcome\", \"clinical outcome\", \"clinical outcome\", \"clinical outcome\", \"clinical outcome\", \"clinical outcome\", \"clinical outcome\", \"clinical outcome\", \"clinical outcome\", \"clinical outcome\", \"clinical outcome\", \"clinical outcome\", \"clinical outcome\", \"clinical outcome\", \"clinical outcome\", \"clinical outcome\", \"clinical outcome\", \"clinical outcome\", \"clinical outcome\", \"clinical outcome\", \"clinical outcome\", \"clinical outcome\", \"clinical outcome\", \"clinical outcome\", \"clinical outcome\", \"clinical outcome\", \"clinical outcome\", \"clinical outcome\", \"clinical outcome\", \"clinical outcome\", \"clinical outcome\", \"clinical outcome\", \"clinical outcome\", \"clinical outcome\", \"clinical outcome\", \"clinical outcome\", \"clinical outcome\", \"clinical outcome\", \"clinical outcome\", \"clinical outcome\", \"clinical outcome\", \"clinical outcome\", \"clinical outcome\", \"clinical outcome\", \"clinical outcome\", \"clinical outcome\", \"clinical outcome\", \"clinical outcome\", \"clinical outcome\", \"clinical outcome\", \"clinical outcome\", \"clinical outcome\", \"clinical outcome\", \"clinical outcome\", \"clinical outcome\", \"clinical outcome\", \"clinical outcome\", \"clinical outcome\", \"clinical outcome\", \"clinical outcome\", \"clinical outcome\", \"clinical outcome\", \"clinical outcome\", \"clinical outcome\", \"clinical outcome\", \"clinical outcome\", \"clinical outcome\", \"clinical outcome\", \"clinical outcome\", \"clinical outcome\", \"clinical outcome\", \"clinical outcome\", \"clinical outcome\", \"clinical outcome\", \"clinical outcome\", \"clinical outcome\", \"clinical outcome\", \"clinical outcome\", \"clinical outcome\", \"clinical outcome\", \"clinical outcome\", \"clinical outcome\", \"clinical outcome\", \"clinical outcome\", \"clinical outcome\", \"clinical outcome\", \"clinical outcome\", \"clinical outcome\", \"clinical outcome\", \"clinical outcome\", \"clinical outcome\", \"clinical outcome\", \"clinical outcome\", \"clinical outcome\", \"clinical outcome\", \"clinical outcome\", \"clinical outcome\", \"clinical outcome\", \"clinical outcome\", \"clinical outcome\", \"clinical outcome\", \"clinical outcome\", \"clinical outcome\", \"clinical outcome\", \"clinical outcome\", \"clinical outcome\", \"clinical outcome\", \"clinical outcome\", \"clinical outcome\", \"clinical outcome\", \"clinical outcome\", \"clinical outcome\", \"clinical outcome\", \"clinical outcome\", \"clinical outcome\", \"clinical outcome\", \"clinical outcome\", \"clinical outcome\", \"clinical outcome\", \"clinical outcome\", \"clinical outcome\", \"clinical outcome\", \"clinical outcome\", \"clinical outcome\", \"clinical outcome\", \"clinical outcome\", \"clinical outcome\", \"clinical outcome\", \"clinical outcome\", \"clinical outcome\", \"clinical outcome\", \"clinical outcome\", \"clinical outcome\", \"clinical outcome\", \"clinical outcome\", \"clinical outcome\", \"clinical outcome\", \"clinical outcome\", \"clinical outcome\", \"clinical outcome\", \"clinical outcome\", \"clinical outcome\", \"clinical outcome\", \"clinical outcome\", \"clinical outcome\", \"clinical outcome\", \"clinical outcome\", \"clinical outcome\", \"clinical outcome\", \"clinical outcome\", \"clinical outcome\", \"clinical outcome\", \"clinical outcome\", \"clinical outcome\", \"clinical outcome\", \"clinical outcome\", \"clinical outcome\", \"clinical outcome\", \"clinical outcome\", \"clinical outcome\", \"clinical outcome\", \"clinical outcome\", \"clinical outcome\", \"clinical outcome\", \"clinical outcome\", \"clinical outcome\", \"clinical outcome\", \"clinical outcome\", \"clinical outcome\", \"clinical outcome\", \"clinical outcome\", \"clinical outcome\", \"clinical outcome\", \"clinical outcome\", \"clinical outcome\", \"clinical outcome\", \"clinical outcome\", \"clinical outcome\", \"clinical outcome\", \"clinical outcome\", \"clinical outcome\", \"clinical outcome\", \"clinical outcome\", \"clinical outcome\", \"clinical outcome\", \"clinical outcome\", \"clinical outcome\", \"clinical outcome\", \"clinical outcome\", \"clinical outcome\", \"clinical outcome\", \"clinical outcome\", \"clinical outcome\", \"clinical outcome\", \"clinical outcome\", \"clinical outcome\", \"clinical outcome\", \"clinical outcome\", \"clinical outcome\", \"clinical outcome\", \"clinical outcome\", \"clinical outcome\", \"clinical outcome\", \"clinical outcome\", \"clinical outcome\", \"clinical outcome\", \"clinical outcome\", \"clinical outcome\", \"clinical outcome\", \"clinical outcome\", \"clinical outcome\", \"clinical outcome\", \"clinical outcome\", \"clinical outcome\", \"clinical outcome\", \"clinical outcome\", \"clinical outcome\", \"clinical outcome\", \"clinical outcome\", \"clinical outcome\", \"clinical outcome\", \"clinical outcome\", \"clinical outcome\", \"clinical outcome\", \"clinical outcome\", \"clinical outcome\", \"clinical outcome\", \"clinical outcome\", \"clinical outcome\", \"clinical outcome\", \"clinical outcome\", \"clinical outcome\", \"clinical outcome\", \"clinical outcome\", \"clinical outcome\", \"clinical outcome\", \"clinical outcome\", \"clinical outcome\", \"clinical outcome\", \"clinical outcome\", \"clinical outcome\", \"clinical outcome\", \"clinical outcome\", \"clinical outcome\", \"clinical outcome\", \"clinical outcome\", \"clinical outcome\", \"clinical outcome\", \"clinical outcome\", \"clinical outcome\", \"clinical outcome\", \"clinical outcome\", \"clinical outcome\", \"clinical outcome\", \"clinical outcome\", \"clinical outcome\", \"clinical outcome\", \"clinical outcome\", \"clinical outcome\", \"clinical outcome\", \"clinical outcome\", \"clinical outcome\", \"clinical outcome\", \"clinical outcome\", \"clinical outcome\", \"clinical outcome\", \"clinical outcome\", \"clinical outcome\", \"clinical outcome\", \"clinical outcome\", \"clinical outcome\", \"clinical outcome\", \"clinical outcome\", \"clinical outcome\", \"clinical outcome\", \"clinical outcome\", \"clinical outcome\", \"clinical outcome\"], \"legendgroup\": \"clinical outcome\", \"marker\": {\"color\": \"#636efa\", \"size\": [1, 1, 1, 1, 1, 1, 1, 2, 1, 1, 1, 1, 1, 2, 1, 1, 1, 1, 3, 1, 1, 1, 1, 1, 1, 1, 3, 1, 1, 2, 4, 2, 1, 2, 2, 1, 3, 1, 4, 2, 4, 2, 2, 1, 2, 2, 2, 1, 2, 1, 1, 2, 1, 2, 2, 2, 2, 2, 4, 1, 1, 1, 3, 1, 1, 2, 2, 1, 1, 2, 2, 1, 1, 2, 2, 1, 4, 1, 2, 1, 1, 2, 1, 1, 3, 1, 2, 3, 2, 2, 2, 1, 1, 1, 1, 1, 1, 2, 1, 1, 1, 4, 2, 2, 9, 1, 4, 2, 2, 1, 1, 4, 4, 4, 2, 2, 3, 2, 3, 1, 2, 1, 1, 1, 2, 1, 4, 1, 1, 1, 1, 1, 1, 1, 3, 1, 1, 4, 2, 3, 3, 5, 7, 4, 3, 1, 3, 1, 5, 5, 5, 4, 1, 1, 1, 1, 1, 1, 1, 1, 1, 1, 1, 1, 1, 1, 1, 1, 1, 2, 1, 2, 1, 1, 3, 1, 1, 1, 1, 5, 1, 1, 1, 1, 1, 1, 1, 2, 1, 1, 2, 1, 1, 1, 1, 2, 2, 1, 1, 3, 4, 2, 1, 2, 1, 3, 1, 1, 3, 3, 1, 3, 2, 2, 1, 1, 1, 3, 1, 1, 3, 1, 2, 4, 1, 1, 3, 2, 1, 3, 1, 1, 1, 1, 1, 1, 1, 4, 1, 3, 1, 2, 3, 3, 2, 2, 2, 1, 4, 1, 1, 1, 1, 1, 1, 2, 5, 5, 2, 1, 1, 1, 1, 1, 1, 1, 1, 1, 1, 1, 1, 1, 1, 2, 1, 1, 1, 1, 1, 1, 1, 1, 1, 2, 2, 1, 1, 1, 1, 1, 1, 1, 2, 1, 1, 1, 1, 1, 1, 1, 1, 1, 1, 2, 1, 1, 1, 2, 1, 1, 1, 1, 2, 1, 1, 1, 1, 1, 1, 1, 1, 1, 1, 1, 1, 1, 1, 1, 1, 1, 1, 1, 1, 1, 1, 1, 1, 1, 1, 1, 1, 2, 1, 2, 3, 1, 1, 1, 2, 1, 1, 1, 1, 1, 1, 1, 1, 1, 1, 1, 1, 1, 1, 1, 1, 2, 1, 1, 1, 1, 1, 1, 1, 1, 1, 1, 2, 1, 1, 1, 2], \"sizemode\": \"area\", \"sizeref\": 0.0275, \"symbol\": \"circle\"}, \"mode\": \"markers\", \"name\": \"clinical outcome\", \"showlegend\": true, \"type\": \"scattergl\", \"x\": [\"1963-05\", \"1975-07\", \"1981-10\", \"1982-09\", \"1984-10\", \"1986-12\", \"1990-06\", \"1991-01\", \"1991-08\", \"1992-06\", \"1992-12\", \"1993-04\", \"1994-01\", \"1994-12\", \"1997-02\", \"1997-12\", \"1998-11\", \"2000-02\", \"2002-12\", \"2003-05\", \"2003-06\", \"2004-02\", \"2004-06\", \"2004-07\", \"2004-08\", \"2004-10\", \"2004-12\", \"2005-06\", \"2005-07\", \"2005-09\", \"2005-12\", \"2006-02\", \"2006-05\", \"2006-06\", \"2006-09\", \"2006-10\", \"2006-12\", \"2007-01\", \"2007-06\", \"2007-08\", \"2007-09\", \"2007-12\", \"2008-02\", \"2008-03\", \"2008-04\", \"2008-05\", \"2008-07\", \"2008-08\", \"2008-09\", \"2008-10\", \"2008-11\", \"2008-12\", \"2009-01\", \"2009-04\", \"2009-05\", \"2009-07\", \"2009-08\", \"2009-11\", \"2009-12\", \"2010-01\", \"2010-02\", \"2010-03\", \"2010-06\", \"2010-08\", \"2010-10\", \"2010-11\", \"2010-12\", \"2011-01\", \"2011-03\", \"2011-07\", \"2011-08\", \"2011-10\", \"2012-01\", \"2012-03\", \"2012-05\", \"2012-09\", \"2012-10\", \"2012-11\", \"2012-12\", \"2013-01\", \"2013-02\", \"2013-03\", \"2013-05\", \"2013-07\", \"2013-08\", \"2013-11\", \"2013-12\", \"2014-01\", \"2014-02\", \"2014-03\", \"2014-04\", \"2014-05\", \"2014-06\", \"2014-08\", \"2014-10\", \"2014-11\", \"2014-12\", \"2015-01\", \"2015-02\", \"2015-05\", \"2015-06\", \"2015-07\", \"2015-08\", \"2015-09\", \"2015-12\", \"2016-01\", \"2016-02\", \"2016-03\", \"2016-04\", \"2016-05\", \"2016-08\", \"2016-09\", \"2016-10\", \"2016-11\", \"2016-12\", \"2017-01\", \"2017-03\", \"2017-05\", \"2017-06\", \"2017-07\", \"2017-08\", \"2017-09\", \"2017-10\", \"2017-11\", \"2017-12\", \"2018-01\", \"2018-02\", \"2018-03\", \"2018-04\", \"2018-05\", \"2018-06\", \"2018-07\", \"2018-08\", \"2018-09\", \"2018-10\", \"2018-11\", \"2018-12\", \"2019-01\", \"2019-02\", \"2019-03\", \"2019-04\", \"2019-05\", \"2019-06\", \"2019-07\", \"2019-08\", \"2019-09\", \"2019-10\", \"2019-11\", \"2019-12\", \"2020-01\", \"2020-02\", \"2020-03\", \"2020-04\", \"2020-12\", \"1985-01\", \"1989-09\", \"1989-12\", \"1991-01\", \"1991-05\", \"1992-07\", \"1992-12\", \"1994-04\", \"1995-04\", \"1998-08\", \"1999-02\", \"1999-07\", \"1999-12\", \"2000-03\", \"2000-09\", \"2002-12\", \"2003-12\", \"2004-01\", \"2004-02\", \"2004-09\", \"2004-12\", \"2005-06\", \"2006-09\", \"2006-10\", \"2006-11\", \"2006-12\", \"2007-06\", \"2008-02\", \"2008-03\", \"2008-04\", \"2008-05\", \"2008-12\", \"2009-03\", \"2009-04\", \"2009-05\", \"2009-11\", \"2009-12\", \"2010-02\", \"2010-04\", \"2010-06\", \"2010-10\", \"2010-11\", \"2010-12\", \"2011-06\", \"2011-08\", \"2011-12\", \"2012-03\", \"2012-04\", \"2012-06\", \"2012-12\", \"2013-04\", \"2013-05\", \"2013-06\", \"2013-08\", \"2013-09\", \"2013-10\", \"2013-12\", \"2014-02\", \"2014-03\", \"2014-07\", \"2014-08\", \"2014-09\", \"2014-11\", \"2014-12\", \"2015-01\", \"2015-08\", \"2015-09\", \"2015-10\", \"2015-12\", \"2016-01\", \"2016-04\", \"2016-05\", \"2016-06\", \"2016-07\", \"2016-08\", \"2016-10\", \"2016-12\", \"2017-01\", \"2017-02\", \"2017-03\", \"2017-04\", \"2017-05\", \"2017-06\", \"2017-08\", \"2017-10\", \"2017-12\", \"2018-01\", \"2018-02\", \"2018-03\", \"2018-04\", \"2018-10\", \"2018-11\", \"2019-01\", \"2019-02\", \"2019-04\", \"2019-05\", \"2019-06\", \"2019-07\", \"2019-09\", \"2019-11\", \"2019-12\", \"2020-01\", \"2020-02\", \"2020-03\", \"2020-12\", \"1973-08\", \"1986-12\", \"1988-02\", \"1988-05\", \"1988-06\", \"1989-03\", \"1990-09\", \"1991-06\", \"1993-12\", \"2003-11\", \"2004-04\", \"2005-03\", \"2006-02\", \"2006-08\", \"2006-12\", \"2007-06\", \"2007-07\", \"2008-01\", \"2008-12\", \"2009-05\", \"2009-06\", \"2009-12\", \"2010-08\", \"2010-09\", \"2011-03\", \"2011-06\", \"2011-12\", \"2012-01\", \"2012-03\", \"2012-08\", \"2013-10\", \"2013-12\", \"2014-08\", \"2014-12\", \"2015-10\", \"2016-02\", \"2016-07\", \"2016-10\", \"2016-11\", \"2016-12\", \"2017-04\", \"2017-07\", \"2017-10\", \"2017-11\", \"2017-12\", \"2018-07\", \"2018-10\", \"2018-12\", \"2019-03\", \"2019-05\", \"2019-07\", \"2019-08\", \"2019-10\", \"2019-12\", \"2020-01\", \"2020-03\", \"1985-06\", \"1988-12\", \"1991-04\", \"1993-01\", \"1995-09\", \"1998-01\", \"2000-12\", \"2001-05\", \"2003-06\", \"2005-06\", \"2005-08\", \"2005-12\", \"2006-03\", \"2006-07\", \"2007-09\", \"2007-12\", \"2008-09\", \"2008-12\", \"2009-05\", \"2010-03\", \"2010-10\", \"2010-12\", \"2011-02\", \"2011-06\", \"2011-12\", \"2012-10\", \"2012-12\", \"2013-02\", \"2013-03\", \"2013-04\", \"2013-06\", \"2013-10\", \"2014-05\", \"2014-09\", \"2014-12\", \"2015-04\", \"2015-09\", \"2016-04\", \"2016-12\", \"2017-05\", \"2017-06\", \"2018-04\", \"2018-05\", \"2018-08\", \"2018-10\", \"2018-11\", \"2019-02\", \"2019-05\", \"2019-11\", \"2019-12\", \"2020-02\", \"2020-03\", \"1982-03\", \"1998-09\", \"2005-12\", \"2007-07\", \"2010-06\", \"2012-12\", \"2014-10\", \"2015-06\", \"2016-06\", \"2017-07\", \"2017-12\", \"2018-11\", \"2019-09\", \"2019-12\"], \"xaxis\": \"x\", \"y\": [\"Phase 1\", \"Phase 1\", \"Phase 1\", \"Phase 1\", \"Phase 1\", \"Phase 1\", \"Phase 1\", \"Phase 1\", \"Phase 1\", \"Phase 1\", \"Phase 1\", \"Phase 1\", \"Phase 1\", \"Phase 1\", \"Phase 1\", \"Phase 1\", \"Phase 1\", \"Phase 1\", \"Phase 1\", \"Phase 1\", \"Phase 1\", \"Phase 1\", \"Phase 1\", \"Phase 1\", \"Phase 1\", \"Phase 1\", \"Phase 1\", \"Phase 1\", \"Phase 1\", \"Phase 1\", \"Phase 1\", \"Phase 1\", \"Phase 1\", \"Phase 1\", \"Phase 1\", \"Phase 1\", \"Phase 1\", \"Phase 1\", \"Phase 1\", \"Phase 1\", \"Phase 1\", \"Phase 1\", \"Phase 1\", \"Phase 1\", \"Phase 1\", \"Phase 1\", \"Phase 1\", \"Phase 1\", \"Phase 1\", \"Phase 1\", \"Phase 1\", \"Phase 1\", \"Phase 1\", \"Phase 1\", \"Phase 1\", \"Phase 1\", \"Phase 1\", \"Phase 1\", \"Phase 1\", \"Phase 1\", \"Phase 1\", \"Phase 1\", \"Phase 1\", \"Phase 1\", \"Phase 1\", \"Phase 1\", \"Phase 1\", \"Phase 1\", \"Phase 1\", \"Phase 1\", \"Phase 1\", \"Phase 1\", \"Phase 1\", \"Phase 1\", \"Phase 1\", \"Phase 1\", \"Phase 1\", \"Phase 1\", \"Phase 1\", \"Phase 1\", \"Phase 1\", \"Phase 1\", \"Phase 1\", \"Phase 1\", \"Phase 1\", \"Phase 1\", \"Phase 1\", \"Phase 1\", \"Phase 1\", \"Phase 1\", \"Phase 1\", \"Phase 1\", \"Phase 1\", \"Phase 1\", \"Phase 1\", \"Phase 1\", \"Phase 1\", \"Phase 1\", \"Phase 1\", \"Phase 1\", \"Phase 1\", \"Phase 1\", \"Phase 1\", \"Phase 1\", \"Phase 1\", \"Phase 1\", \"Phase 1\", \"Phase 1\", \"Phase 1\", \"Phase 1\", \"Phase 1\", \"Phase 1\", \"Phase 1\", \"Phase 1\", \"Phase 1\", \"Phase 1\", \"Phase 1\", \"Phase 1\", \"Phase 1\", \"Phase 1\", \"Phase 1\", \"Phase 1\", \"Phase 1\", \"Phase 1\", \"Phase 1\", \"Phase 1\", \"Phase 1\", \"Phase 1\", \"Phase 1\", \"Phase 1\", \"Phase 1\", \"Phase 1\", \"Phase 1\", \"Phase 1\", \"Phase 1\", \"Phase 1\", \"Phase 1\", \"Phase 1\", \"Phase 1\", \"Phase 1\", \"Phase 1\", \"Phase 1\", \"Phase 1\", \"Phase 1\", \"Phase 1\", \"Phase 1\", \"Phase 1\", \"Phase 1\", \"Phase 1\", \"Phase 1\", \"Phase 1\", \"Phase 1\", \"Phase 1\", \"Phase 1\", \"Phase 2\", \"Phase 2\", \"Phase 2\", \"Phase 2\", \"Phase 2\", \"Phase 2\", \"Phase 2\", \"Phase 2\", \"Phase 2\", \"Phase 2\", \"Phase 2\", \"Phase 2\", \"Phase 2\", \"Phase 2\", \"Phase 2\", \"Phase 2\", \"Phase 2\", \"Phase 2\", \"Phase 2\", \"Phase 2\", \"Phase 2\", \"Phase 2\", \"Phase 2\", \"Phase 2\", \"Phase 2\", \"Phase 2\", \"Phase 2\", \"Phase 2\", \"Phase 2\", \"Phase 2\", \"Phase 2\", \"Phase 2\", \"Phase 2\", \"Phase 2\", \"Phase 2\", \"Phase 2\", \"Phase 2\", \"Phase 2\", \"Phase 2\", \"Phase 2\", \"Phase 2\", \"Phase 2\", \"Phase 2\", \"Phase 2\", \"Phase 2\", \"Phase 2\", \"Phase 2\", \"Phase 2\", \"Phase 2\", \"Phase 2\", \"Phase 2\", \"Phase 2\", \"Phase 2\", \"Phase 2\", \"Phase 2\", \"Phase 2\", \"Phase 2\", \"Phase 2\", \"Phase 2\", \"Phase 2\", \"Phase 2\", \"Phase 2\", \"Phase 2\", \"Phase 2\", \"Phase 2\", \"Phase 2\", \"Phase 2\", \"Phase 2\", \"Phase 2\", \"Phase 2\", \"Phase 2\", \"Phase 2\", \"Phase 2\", \"Phase 2\", \"Phase 2\", \"Phase 2\", \"Phase 2\", \"Phase 2\", \"Phase 2\", \"Phase 2\", \"Phase 2\", \"Phase 2\", \"Phase 2\", \"Phase 2\", \"Phase 2\", \"Phase 2\", \"Phase 2\", \"Phase 2\", \"Phase 2\", \"Phase 2\", \"Phase 2\", \"Phase 2\", \"Phase 2\", \"Phase 2\", \"Phase 2\", \"Phase 2\", \"Phase 2\", \"Phase 2\", \"Phase 2\", \"Phase 2\", \"Phase 2\", \"Phase 2\", \"Phase 2\", \"Phase 2\", \"Phase 2\", \"Phase 3\", \"Phase 3\", \"Phase 3\", \"Phase 3\", \"Phase 3\", \"Phase 3\", \"Phase 3\", \"Phase 3\", \"Phase 3\", \"Phase 3\", \"Phase 3\", \"Phase 3\", \"Phase 3\", \"Phase 3\", \"Phase 3\", \"Phase 3\", \"Phase 3\", \"Phase 3\", \"Phase 3\", \"Phase 3\", \"Phase 3\", \"Phase 3\", \"Phase 3\", \"Phase 3\", \"Phase 3\", \"Phase 3\", \"Phase 3\", \"Phase 3\", \"Phase 3\", \"Phase 3\", \"Phase 3\", \"Phase 3\", \"Phase 3\", \"Phase 3\", \"Phase 3\", \"Phase 3\", \"Phase 3\", \"Phase 3\", \"Phase 3\", \"Phase 3\", \"Phase 3\", \"Phase 3\", \"Phase 3\", \"Phase 3\", \"Phase 3\", \"Phase 3\", \"Phase 3\", \"Phase 3\", \"Phase 3\", \"Phase 3\", \"Phase 3\", \"Phase 3\", \"Phase 3\", \"Phase 3\", \"Phase 3\", \"Phase 3\", \"Phase 4\", \"Phase 4\", \"Phase 4\", \"Phase 4\", \"Phase 4\", \"Phase 4\", \"Phase 4\", \"Phase 4\", \"Phase 4\", \"Phase 4\", \"Phase 4\", \"Phase 4\", \"Phase 4\", \"Phase 4\", \"Phase 4\", \"Phase 4\", \"Phase 4\", \"Phase 4\", \"Phase 4\", \"Phase 4\", \"Phase 4\", \"Phase 4\", \"Phase 4\", \"Phase 4\", \"Phase 4\", \"Phase 4\", \"Phase 4\", \"Phase 4\", \"Phase 4\", \"Phase 4\", \"Phase 4\", \"Phase 4\", \"Phase 4\", \"Phase 4\", \"Phase 4\", \"Phase 4\", \"Phase 4\", \"Phase 4\", \"Phase 4\", \"Phase 4\", \"Phase 4\", \"Phase 4\", \"Phase 4\", \"Phase 4\", \"Phase 4\", \"Phase 4\", \"Phase 4\", \"Phase 4\", \"Phase 4\", \"Phase 4\", \"Phase 4\", \"Phase 4\", \"Phase 5\", \"Phase 5\", \"Phase 5\", \"Phase 5\", \"Phase 5\", \"Phase 5\", \"Phase 5\", \"Phase 5\", \"Phase 5\", \"Phase 5\", \"Phase 5\", \"Phase 5\", \"Phase 5\", \"Phase 5\"], \"yaxis\": \"y\"}, {\"customdata\": [[1], [1], [1], [1], [1], [1], [2], [1], [1], [1], [1], [1], [1], [1], [1], [1], [1], [1], [1], [1], [1], [1], [1], [1], [1], [1], [1], [1], [1], [2], [1], [2], [1], [1], [1], [3], [1], [1], [1], [1], [2], [1], [1], [1], [1], [1], [11], [1], [1], [1], [1], [2], [1], [2], [2], [4], [1], [1], [1], [4], [1], [3], [1], [1], [1], [2], [1], [1], [2], [1], [3], [1], [1], [3], [1], [3], [2], [1], [1], [1], [2], [2], [2], [1], [3], [1], [3], [1], [1], [2], [2], [2], [3], [3], [2], [1], [1], [2], [1], [2], [3], [2], [1], [1], [3], [1], [1], [2], [3], [1], [6], [1], [3], [3], [2], [1], [1], [3], [2], [3], [2], [6], [1], [1], [2], [1], [4], [2], [1], [3], [8], [3], [3], [1], [1], [1], [4], [2], [8], [1], [1], [2], [3], [3], [2], [1], [3], [1], [3], [1], [2], [3], [1], [4], [2], [2], [5], [3], [8], [6], [2], [1], [1], [1], [1], [1], [1], [1], [1], [1], [1], [1], [1], [1], [2], [1], [1], [1], [1], [2], [2], [1], [1], [1], [1], [1], [1], [1], [2], [1], [1], [1], [1], [1], [2], [1], [1], [2], [1], [1], [1], [1], [2], [3], [1], [3], [1], [1], [1], [1], [2], [1], [1], [3], [1], [1], [1], [2], [1], [1], [2], [1], [1], [1], [1], [2], [1], [1], [1], [1], [1], [4], [1], [1], [2], [1], [1], [1], [1], [3], [1], [1], [1], [3], [1], [3], [1], [1], [1], [2], [1], [1], [4], [1], [2], [4], [1], [1], [1], [1], [2], [2], [3], [2], [2], [2], [4], [2], [1], [1], [1], [1], [1], [2], [3], [2], [2], [2], [1], [1], [1], [1], [1], [1], [2], [1], [1], [1], [1], [1], [1], [1], [1], [1], [1], [1], [1], [1], [1], [1], [2], [1], [2], [1], [1], [1], [1], [1], [2], [1], [2], [2], [2], [1], [1], [1], [3], [3], [2], [1], [1], [1], [2], [1], [1], [1], [1], [1], [1], [1], [1], [1], [1], [1], [1], [1], [1], [1], [1], [1], [1], [1], [1], [1], [1], [1], [1], [1], [1], [1], [1], [1], [1], [1], [1], [2], [1], [1], [2], [1], [2], [1], [1], [1], [2], [1], [1], [1], [1]], \"hoverlabel\": {\"namelength\": 0}, \"hovertemplate\": \"<b>%{hovertext}</b><br><br>tag=extracorporeal membrane oxygenation (ECMO)<br>publish_time=%{x}<br>phase=%{y}<br>count=%{customdata[0]}\", \"hovertext\": [\"extracorporeal membrane oxygenation (ECMO)\", \"extracorporeal membrane oxygenation (ECMO)\", \"extracorporeal membrane oxygenation (ECMO)\", \"extracorporeal membrane oxygenation (ECMO)\", \"extracorporeal membrane oxygenation (ECMO)\", \"extracorporeal membrane oxygenation (ECMO)\", \"extracorporeal membrane oxygenation (ECMO)\", \"extracorporeal membrane oxygenation (ECMO)\", \"extracorporeal membrane oxygenation (ECMO)\", \"extracorporeal membrane oxygenation (ECMO)\", \"extracorporeal membrane oxygenation (ECMO)\", \"extracorporeal membrane oxygenation (ECMO)\", \"extracorporeal membrane oxygenation (ECMO)\", \"extracorporeal membrane oxygenation (ECMO)\", \"extracorporeal membrane oxygenation (ECMO)\", \"extracorporeal membrane oxygenation (ECMO)\", \"extracorporeal membrane oxygenation (ECMO)\", \"extracorporeal membrane oxygenation (ECMO)\", \"extracorporeal membrane oxygenation (ECMO)\", \"extracorporeal membrane oxygenation (ECMO)\", \"extracorporeal membrane oxygenation (ECMO)\", \"extracorporeal membrane oxygenation (ECMO)\", \"extracorporeal membrane oxygenation (ECMO)\", \"extracorporeal membrane oxygenation (ECMO)\", \"extracorporeal membrane oxygenation (ECMO)\", \"extracorporeal membrane oxygenation (ECMO)\", \"extracorporeal membrane oxygenation (ECMO)\", \"extracorporeal membrane oxygenation (ECMO)\", \"extracorporeal membrane oxygenation (ECMO)\", \"extracorporeal membrane oxygenation (ECMO)\", \"extracorporeal membrane oxygenation (ECMO)\", \"extracorporeal membrane oxygenation (ECMO)\", \"extracorporeal membrane oxygenation (ECMO)\", \"extracorporeal membrane oxygenation (ECMO)\", \"extracorporeal membrane oxygenation (ECMO)\", \"extracorporeal membrane oxygenation (ECMO)\", \"extracorporeal membrane oxygenation (ECMO)\", \"extracorporeal membrane oxygenation (ECMO)\", \"extracorporeal membrane oxygenation (ECMO)\", \"extracorporeal membrane oxygenation (ECMO)\", \"extracorporeal membrane oxygenation (ECMO)\", \"extracorporeal membrane oxygenation (ECMO)\", \"extracorporeal membrane oxygenation (ECMO)\", \"extracorporeal membrane oxygenation (ECMO)\", \"extracorporeal membrane oxygenation (ECMO)\", \"extracorporeal membrane oxygenation (ECMO)\", \"extracorporeal membrane oxygenation (ECMO)\", \"extracorporeal membrane oxygenation (ECMO)\", \"extracorporeal membrane oxygenation (ECMO)\", \"extracorporeal membrane oxygenation (ECMO)\", \"extracorporeal membrane oxygenation (ECMO)\", \"extracorporeal membrane oxygenation (ECMO)\", \"extracorporeal membrane oxygenation (ECMO)\", \"extracorporeal membrane oxygenation (ECMO)\", \"extracorporeal membrane oxygenation (ECMO)\", \"extracorporeal membrane oxygenation (ECMO)\", \"extracorporeal membrane oxygenation (ECMO)\", \"extracorporeal membrane oxygenation (ECMO)\", \"extracorporeal membrane oxygenation (ECMO)\", \"extracorporeal membrane oxygenation (ECMO)\", \"extracorporeal membrane oxygenation (ECMO)\", \"extracorporeal membrane oxygenation (ECMO)\", \"extracorporeal membrane oxygenation (ECMO)\", \"extracorporeal membrane oxygenation (ECMO)\", \"extracorporeal membrane oxygenation (ECMO)\", \"extracorporeal membrane oxygenation (ECMO)\", \"extracorporeal membrane oxygenation (ECMO)\", \"extracorporeal membrane oxygenation (ECMO)\", \"extracorporeal membrane oxygenation (ECMO)\", \"extracorporeal membrane oxygenation (ECMO)\", \"extracorporeal membrane oxygenation (ECMO)\", \"extracorporeal membrane oxygenation (ECMO)\", \"extracorporeal membrane oxygenation (ECMO)\", \"extracorporeal membrane oxygenation (ECMO)\", \"extracorporeal membrane oxygenation (ECMO)\", \"extracorporeal membrane oxygenation (ECMO)\", \"extracorporeal membrane oxygenation (ECMO)\", \"extracorporeal membrane oxygenation (ECMO)\", \"extracorporeal membrane oxygenation (ECMO)\", \"extracorporeal membrane oxygenation (ECMO)\", \"extracorporeal membrane oxygenation (ECMO)\", \"extracorporeal membrane oxygenation (ECMO)\", \"extracorporeal membrane oxygenation (ECMO)\", \"extracorporeal membrane oxygenation (ECMO)\", \"extracorporeal membrane oxygenation (ECMO)\", \"extracorporeal membrane oxygenation (ECMO)\", \"extracorporeal membrane oxygenation (ECMO)\", \"extracorporeal membrane oxygenation (ECMO)\", \"extracorporeal membrane oxygenation (ECMO)\", \"extracorporeal membrane oxygenation (ECMO)\", \"extracorporeal membrane oxygenation (ECMO)\", \"extracorporeal membrane oxygenation (ECMO)\", \"extracorporeal membrane oxygenation (ECMO)\", \"extracorporeal membrane oxygenation (ECMO)\", \"extracorporeal membrane oxygenation (ECMO)\", \"extracorporeal membrane oxygenation (ECMO)\", \"extracorporeal membrane oxygenation (ECMO)\", \"extracorporeal membrane oxygenation (ECMO)\", \"extracorporeal membrane oxygenation (ECMO)\", \"extracorporeal membrane oxygenation (ECMO)\", \"extracorporeal membrane oxygenation (ECMO)\", \"extracorporeal membrane oxygenation (ECMO)\", \"extracorporeal membrane oxygenation (ECMO)\", \"extracorporeal membrane oxygenation (ECMO)\", \"extracorporeal membrane oxygenation (ECMO)\", \"extracorporeal membrane oxygenation (ECMO)\", \"extracorporeal membrane oxygenation (ECMO)\", \"extracorporeal membrane oxygenation (ECMO)\", \"extracorporeal membrane oxygenation (ECMO)\", \"extracorporeal membrane oxygenation (ECMO)\", \"extracorporeal membrane oxygenation (ECMO)\", \"extracorporeal membrane oxygenation (ECMO)\", \"extracorporeal membrane oxygenation (ECMO)\", \"extracorporeal membrane oxygenation (ECMO)\", \"extracorporeal membrane oxygenation (ECMO)\", \"extracorporeal membrane oxygenation (ECMO)\", \"extracorporeal membrane oxygenation (ECMO)\", \"extracorporeal membrane oxygenation (ECMO)\", \"extracorporeal membrane oxygenation (ECMO)\", \"extracorporeal membrane oxygenation (ECMO)\", \"extracorporeal membrane oxygenation (ECMO)\", \"extracorporeal membrane oxygenation (ECMO)\", \"extracorporeal membrane oxygenation (ECMO)\", \"extracorporeal membrane oxygenation (ECMO)\", \"extracorporeal membrane oxygenation (ECMO)\", \"extracorporeal membrane oxygenation (ECMO)\", \"extracorporeal membrane oxygenation (ECMO)\", \"extracorporeal membrane oxygenation (ECMO)\", \"extracorporeal membrane oxygenation (ECMO)\", \"extracorporeal membrane oxygenation (ECMO)\", \"extracorporeal membrane oxygenation (ECMO)\", \"extracorporeal membrane oxygenation (ECMO)\", \"extracorporeal membrane oxygenation (ECMO)\", \"extracorporeal membrane oxygenation (ECMO)\", \"extracorporeal membrane oxygenation (ECMO)\", \"extracorporeal membrane oxygenation (ECMO)\", \"extracorporeal membrane oxygenation (ECMO)\", \"extracorporeal membrane oxygenation (ECMO)\", \"extracorporeal membrane oxygenation (ECMO)\", \"extracorporeal membrane oxygenation (ECMO)\", \"extracorporeal membrane oxygenation (ECMO)\", \"extracorporeal membrane oxygenation (ECMO)\", \"extracorporeal membrane oxygenation (ECMO)\", \"extracorporeal membrane oxygenation (ECMO)\", \"extracorporeal membrane oxygenation (ECMO)\", \"extracorporeal membrane oxygenation (ECMO)\", \"extracorporeal membrane oxygenation (ECMO)\", \"extracorporeal membrane oxygenation (ECMO)\", \"extracorporeal membrane oxygenation (ECMO)\", \"extracorporeal membrane oxygenation (ECMO)\", \"extracorporeal membrane oxygenation (ECMO)\", \"extracorporeal membrane oxygenation (ECMO)\", \"extracorporeal membrane oxygenation (ECMO)\", \"extracorporeal membrane oxygenation (ECMO)\", \"extracorporeal membrane oxygenation (ECMO)\", \"extracorporeal membrane oxygenation (ECMO)\", \"extracorporeal membrane oxygenation (ECMO)\", \"extracorporeal membrane oxygenation (ECMO)\", \"extracorporeal membrane oxygenation (ECMO)\", \"extracorporeal membrane oxygenation (ECMO)\", \"extracorporeal membrane oxygenation (ECMO)\", \"extracorporeal membrane oxygenation (ECMO)\", \"extracorporeal membrane oxygenation (ECMO)\", \"extracorporeal membrane oxygenation (ECMO)\", \"extracorporeal membrane oxygenation (ECMO)\", \"extracorporeal membrane oxygenation (ECMO)\", \"extracorporeal membrane oxygenation (ECMO)\", \"extracorporeal membrane oxygenation (ECMO)\", \"extracorporeal membrane oxygenation (ECMO)\", \"extracorporeal membrane oxygenation (ECMO)\", \"extracorporeal membrane oxygenation (ECMO)\", \"extracorporeal membrane oxygenation (ECMO)\", \"extracorporeal membrane oxygenation (ECMO)\", \"extracorporeal membrane oxygenation (ECMO)\", \"extracorporeal membrane oxygenation (ECMO)\", \"extracorporeal membrane oxygenation (ECMO)\", \"extracorporeal membrane oxygenation (ECMO)\", \"extracorporeal membrane oxygenation (ECMO)\", \"extracorporeal membrane oxygenation (ECMO)\", \"extracorporeal membrane oxygenation (ECMO)\", \"extracorporeal membrane oxygenation (ECMO)\", \"extracorporeal membrane oxygenation (ECMO)\", \"extracorporeal membrane oxygenation (ECMO)\", \"extracorporeal membrane oxygenation (ECMO)\", \"extracorporeal membrane oxygenation (ECMO)\", \"extracorporeal membrane oxygenation (ECMO)\", \"extracorporeal membrane oxygenation (ECMO)\", \"extracorporeal membrane oxygenation (ECMO)\", \"extracorporeal membrane oxygenation (ECMO)\", \"extracorporeal membrane oxygenation (ECMO)\", \"extracorporeal membrane oxygenation (ECMO)\", \"extracorporeal membrane oxygenation (ECMO)\", \"extracorporeal membrane oxygenation (ECMO)\", \"extracorporeal membrane oxygenation (ECMO)\", \"extracorporeal membrane oxygenation (ECMO)\", \"extracorporeal membrane oxygenation (ECMO)\", \"extracorporeal membrane oxygenation (ECMO)\", \"extracorporeal membrane oxygenation (ECMO)\", \"extracorporeal membrane oxygenation (ECMO)\", \"extracorporeal membrane oxygenation (ECMO)\", \"extracorporeal membrane oxygenation (ECMO)\", \"extracorporeal membrane oxygenation (ECMO)\", \"extracorporeal membrane oxygenation (ECMO)\", \"extracorporeal membrane oxygenation (ECMO)\", \"extracorporeal membrane oxygenation (ECMO)\", \"extracorporeal membrane oxygenation (ECMO)\", \"extracorporeal membrane oxygenation (ECMO)\", \"extracorporeal membrane oxygenation (ECMO)\", \"extracorporeal membrane oxygenation (ECMO)\", \"extracorporeal membrane oxygenation (ECMO)\", \"extracorporeal membrane oxygenation (ECMO)\", \"extracorporeal membrane oxygenation (ECMO)\", \"extracorporeal membrane oxygenation (ECMO)\", \"extracorporeal membrane oxygenation (ECMO)\", \"extracorporeal membrane oxygenation (ECMO)\", \"extracorporeal membrane oxygenation (ECMO)\", \"extracorporeal membrane oxygenation (ECMO)\", \"extracorporeal membrane oxygenation (ECMO)\", \"extracorporeal membrane oxygenation (ECMO)\", \"extracorporeal membrane oxygenation (ECMO)\", \"extracorporeal membrane oxygenation (ECMO)\", \"extracorporeal membrane oxygenation (ECMO)\", \"extracorporeal membrane oxygenation (ECMO)\", \"extracorporeal membrane oxygenation (ECMO)\", \"extracorporeal membrane oxygenation (ECMO)\", \"extracorporeal membrane oxygenation (ECMO)\", \"extracorporeal membrane oxygenation (ECMO)\", \"extracorporeal membrane oxygenation (ECMO)\", \"extracorporeal membrane oxygenation (ECMO)\", \"extracorporeal membrane oxygenation (ECMO)\", \"extracorporeal membrane oxygenation (ECMO)\", \"extracorporeal membrane oxygenation (ECMO)\", \"extracorporeal membrane oxygenation (ECMO)\", \"extracorporeal membrane oxygenation (ECMO)\", \"extracorporeal membrane oxygenation (ECMO)\", \"extracorporeal membrane oxygenation (ECMO)\", \"extracorporeal membrane oxygenation (ECMO)\", \"extracorporeal membrane oxygenation (ECMO)\", \"extracorporeal membrane oxygenation (ECMO)\", \"extracorporeal membrane oxygenation (ECMO)\", \"extracorporeal membrane oxygenation (ECMO)\", \"extracorporeal membrane oxygenation (ECMO)\", \"extracorporeal membrane oxygenation (ECMO)\", \"extracorporeal membrane oxygenation (ECMO)\", \"extracorporeal membrane oxygenation (ECMO)\", \"extracorporeal membrane oxygenation (ECMO)\", \"extracorporeal membrane oxygenation (ECMO)\", \"extracorporeal membrane oxygenation (ECMO)\", \"extracorporeal membrane oxygenation (ECMO)\", \"extracorporeal membrane oxygenation (ECMO)\", \"extracorporeal membrane oxygenation (ECMO)\", \"extracorporeal membrane oxygenation (ECMO)\", \"extracorporeal membrane oxygenation (ECMO)\", \"extracorporeal membrane oxygenation (ECMO)\", \"extracorporeal membrane oxygenation (ECMO)\", \"extracorporeal membrane oxygenation (ECMO)\", \"extracorporeal membrane oxygenation (ECMO)\", \"extracorporeal membrane oxygenation (ECMO)\", \"extracorporeal membrane oxygenation (ECMO)\", \"extracorporeal membrane oxygenation (ECMO)\", \"extracorporeal membrane oxygenation (ECMO)\", \"extracorporeal membrane oxygenation (ECMO)\", \"extracorporeal membrane oxygenation (ECMO)\", \"extracorporeal membrane oxygenation (ECMO)\", \"extracorporeal membrane oxygenation (ECMO)\", \"extracorporeal membrane oxygenation (ECMO)\", \"extracorporeal membrane oxygenation (ECMO)\", \"extracorporeal membrane oxygenation (ECMO)\", \"extracorporeal membrane oxygenation (ECMO)\", \"extracorporeal membrane oxygenation (ECMO)\", \"extracorporeal membrane oxygenation (ECMO)\", \"extracorporeal membrane oxygenation (ECMO)\", \"extracorporeal membrane oxygenation (ECMO)\", \"extracorporeal membrane oxygenation (ECMO)\", \"extracorporeal membrane oxygenation (ECMO)\", \"extracorporeal membrane oxygenation (ECMO)\", \"extracorporeal membrane oxygenation (ECMO)\", \"extracorporeal membrane oxygenation (ECMO)\", \"extracorporeal membrane oxygenation (ECMO)\", \"extracorporeal membrane oxygenation (ECMO)\", \"extracorporeal membrane oxygenation (ECMO)\", \"extracorporeal membrane oxygenation (ECMO)\", \"extracorporeal membrane oxygenation (ECMO)\", \"extracorporeal membrane oxygenation (ECMO)\", \"extracorporeal membrane oxygenation (ECMO)\", \"extracorporeal membrane oxygenation (ECMO)\", \"extracorporeal membrane oxygenation (ECMO)\", \"extracorporeal membrane oxygenation (ECMO)\", \"extracorporeal membrane oxygenation (ECMO)\", \"extracorporeal membrane oxygenation (ECMO)\", \"extracorporeal membrane oxygenation (ECMO)\", \"extracorporeal membrane oxygenation (ECMO)\", \"extracorporeal membrane oxygenation (ECMO)\", \"extracorporeal membrane oxygenation (ECMO)\", \"extracorporeal membrane oxygenation (ECMO)\", \"extracorporeal membrane oxygenation (ECMO)\", \"extracorporeal membrane oxygenation (ECMO)\", \"extracorporeal membrane oxygenation (ECMO)\", \"extracorporeal membrane oxygenation (ECMO)\", \"extracorporeal membrane oxygenation (ECMO)\", \"extracorporeal membrane oxygenation (ECMO)\", \"extracorporeal membrane oxygenation (ECMO)\", \"extracorporeal membrane oxygenation (ECMO)\", \"extracorporeal membrane oxygenation (ECMO)\", \"extracorporeal membrane oxygenation (ECMO)\", \"extracorporeal membrane oxygenation (ECMO)\", \"extracorporeal membrane oxygenation (ECMO)\", \"extracorporeal membrane oxygenation (ECMO)\", \"extracorporeal membrane oxygenation (ECMO)\", \"extracorporeal membrane oxygenation (ECMO)\", \"extracorporeal membrane oxygenation (ECMO)\", \"extracorporeal membrane oxygenation (ECMO)\", \"extracorporeal membrane oxygenation (ECMO)\", \"extracorporeal membrane oxygenation (ECMO)\", \"extracorporeal membrane oxygenation (ECMO)\", \"extracorporeal membrane oxygenation (ECMO)\", \"extracorporeal membrane oxygenation (ECMO)\", \"extracorporeal membrane oxygenation (ECMO)\", \"extracorporeal membrane oxygenation (ECMO)\", \"extracorporeal membrane oxygenation (ECMO)\", \"extracorporeal membrane oxygenation (ECMO)\", \"extracorporeal membrane oxygenation (ECMO)\", \"extracorporeal membrane oxygenation (ECMO)\", \"extracorporeal membrane oxygenation (ECMO)\", \"extracorporeal membrane oxygenation (ECMO)\", \"extracorporeal membrane oxygenation (ECMO)\", \"extracorporeal membrane oxygenation (ECMO)\", \"extracorporeal membrane oxygenation (ECMO)\", \"extracorporeal membrane oxygenation (ECMO)\", \"extracorporeal membrane oxygenation (ECMO)\", \"extracorporeal membrane oxygenation (ECMO)\", \"extracorporeal membrane oxygenation (ECMO)\", \"extracorporeal membrane oxygenation (ECMO)\", \"extracorporeal membrane oxygenation (ECMO)\", \"extracorporeal membrane oxygenation (ECMO)\", \"extracorporeal membrane oxygenation (ECMO)\", \"extracorporeal membrane oxygenation (ECMO)\", \"extracorporeal membrane oxygenation (ECMO)\", \"extracorporeal membrane oxygenation (ECMO)\", \"extracorporeal membrane oxygenation (ECMO)\", \"extracorporeal membrane oxygenation (ECMO)\", \"extracorporeal membrane oxygenation (ECMO)\", \"extracorporeal membrane oxygenation (ECMO)\", \"extracorporeal membrane oxygenation (ECMO)\", \"extracorporeal membrane oxygenation (ECMO)\", \"extracorporeal membrane oxygenation (ECMO)\", \"extracorporeal membrane oxygenation (ECMO)\", \"extracorporeal membrane oxygenation (ECMO)\", \"extracorporeal membrane oxygenation (ECMO)\", \"extracorporeal membrane oxygenation (ECMO)\", \"extracorporeal membrane oxygenation (ECMO)\", \"extracorporeal membrane oxygenation (ECMO)\", \"extracorporeal membrane oxygenation (ECMO)\", \"extracorporeal membrane oxygenation (ECMO)\", \"extracorporeal membrane oxygenation (ECMO)\", \"extracorporeal membrane oxygenation (ECMO)\", \"extracorporeal membrane oxygenation (ECMO)\", \"extracorporeal membrane oxygenation (ECMO)\", \"extracorporeal membrane oxygenation (ECMO)\", \"extracorporeal membrane oxygenation (ECMO)\", \"extracorporeal membrane oxygenation (ECMO)\", \"extracorporeal membrane oxygenation (ECMO)\", \"extracorporeal membrane oxygenation (ECMO)\", \"extracorporeal membrane oxygenation (ECMO)\", \"extracorporeal membrane oxygenation (ECMO)\", \"extracorporeal membrane oxygenation (ECMO)\", \"extracorporeal membrane oxygenation (ECMO)\", \"extracorporeal membrane oxygenation (ECMO)\", \"extracorporeal membrane oxygenation (ECMO)\"], \"legendgroup\": \"extracorporeal membrane oxygenation (ECMO)\", \"marker\": {\"color\": \"#EF553B\", \"size\": [1, 1, 1, 1, 1, 1, 2, 1, 1, 1, 1, 1, 1, 1, 1, 1, 1, 1, 1, 1, 1, 1, 1, 1, 1, 1, 1, 1, 1, 2, 1, 2, 1, 1, 1, 3, 1, 1, 1, 1, 2, 1, 1, 1, 1, 1, 11, 1, 1, 1, 1, 2, 1, 2, 2, 4, 1, 1, 1, 4, 1, 3, 1, 1, 1, 2, 1, 1, 2, 1, 3, 1, 1, 3, 1, 3, 2, 1, 1, 1, 2, 2, 2, 1, 3, 1, 3, 1, 1, 2, 2, 2, 3, 3, 2, 1, 1, 2, 1, 2, 3, 2, 1, 1, 3, 1, 1, 2, 3, 1, 6, 1, 3, 3, 2, 1, 1, 3, 2, 3, 2, 6, 1, 1, 2, 1, 4, 2, 1, 3, 8, 3, 3, 1, 1, 1, 4, 2, 8, 1, 1, 2, 3, 3, 2, 1, 3, 1, 3, 1, 2, 3, 1, 4, 2, 2, 5, 3, 8, 6, 2, 1, 1, 1, 1, 1, 1, 1, 1, 1, 1, 1, 1, 1, 2, 1, 1, 1, 1, 2, 2, 1, 1, 1, 1, 1, 1, 1, 2, 1, 1, 1, 1, 1, 2, 1, 1, 2, 1, 1, 1, 1, 2, 3, 1, 3, 1, 1, 1, 1, 2, 1, 1, 3, 1, 1, 1, 2, 1, 1, 2, 1, 1, 1, 1, 2, 1, 1, 1, 1, 1, 4, 1, 1, 2, 1, 1, 1, 1, 3, 1, 1, 1, 3, 1, 3, 1, 1, 1, 2, 1, 1, 4, 1, 2, 4, 1, 1, 1, 1, 2, 2, 3, 2, 2, 2, 4, 2, 1, 1, 1, 1, 1, 2, 3, 2, 2, 2, 1, 1, 1, 1, 1, 1, 2, 1, 1, 1, 1, 1, 1, 1, 1, 1, 1, 1, 1, 1, 1, 1, 2, 1, 2, 1, 1, 1, 1, 1, 2, 1, 2, 2, 2, 1, 1, 1, 3, 3, 2, 1, 1, 1, 2, 1, 1, 1, 1, 1, 1, 1, 1, 1, 1, 1, 1, 1, 1, 1, 1, 1, 1, 1, 1, 1, 1, 1, 1, 1, 1, 1, 1, 1, 1, 1, 1, 2, 1, 1, 2, 1, 2, 1, 1, 1, 2, 1, 1, 1, 1], \"sizemode\": \"area\", \"sizeref\": 0.0275, \"symbol\": \"circle\"}, \"mode\": \"markers\", \"name\": \"extracorporeal membrane oxygenation (ECMO)\", \"showlegend\": true, \"type\": \"scattergl\", \"x\": [\"1977-12\", \"1980-04\", \"1980-11\", \"1982-04\", \"1983-06\", \"1984-09\", \"1984-12\", \"1986-08\", \"1987-01\", \"1987-02\", \"1987-12\", \"1988-08\", \"1988-10\", \"1989-08\", \"1990-05\", \"1990-10\", \"1991-07\", \"1994-03\", \"1995-04\", \"1995-11\", \"1997-07\", \"2000-06\", \"2001-12\", \"2002-06\", \"2002-07\", \"2003-07\", \"2003-11\", \"2003-12\", \"2004-01\", \"2004-04\", \"2004-05\", \"2004-07\", \"2004-08\", \"2004-10\", \"2004-11\", \"2005-02\", \"2005-03\", \"2005-05\", \"2005-06\", \"2005-07\", \"2005-11\", \"2006-01\", \"2006-06\", \"2006-07\", \"2006-08\", \"2006-11\", \"2006-12\", \"2007-01\", \"2007-02\", \"2007-05\", \"2007-08\", \"2007-10\", \"2007-11\", \"2007-12\", \"2008-03\", \"2008-04\", \"2008-06\", \"2008-09\", \"2008-11\", \"2008-12\", \"2009-05\", \"2009-06\", \"2009-07\", \"2009-08\", \"2009-10\", \"2009-12\", \"2010-01\", \"2010-03\", \"2010-04\", \"2010-06\", \"2010-07\", \"2010-08\", \"2010-11\", \"2010-12\", \"2011-02\", \"2011-03\", \"2011-04\", \"2011-06\", \"2011-07\", \"2011-08\", \"2011-10\", \"2011-11\", \"2011-12\", \"2012-01\", \"2012-04\", \"2012-05\", \"2012-06\", \"2012-07\", \"2012-08\", \"2012-09\", \"2012-10\", \"2012-11\", \"2012-12\", \"2013-01\", \"2013-03\", \"2013-05\", \"2013-08\", \"2013-09\", \"2013-10\", \"2013-11\", \"2013-12\", \"2014-01\", \"2014-02\", \"2014-03\", \"2014-04\", \"2014-05\", \"2014-06\", \"2014-07\", \"2014-08\", \"2014-11\", \"2014-12\", \"2015-01\", \"2015-02\", \"2015-03\", \"2015-04\", \"2015-05\", \"2015-07\", \"2015-08\", \"2015-09\", \"2015-10\", \"2015-11\", \"2015-12\", \"2016-01\", \"2016-02\", \"2016-03\", \"2016-06\", \"2016-07\", \"2016-08\", \"2016-10\", \"2016-11\", \"2016-12\", \"2017-01\", \"2017-03\", \"2017-05\", \"2017-06\", \"2017-09\", \"2017-10\", \"2017-11\", \"2017-12\", \"2018-01\", \"2018-02\", \"2018-03\", \"2018-05\", \"2018-06\", \"2018-07\", \"2018-08\", \"2018-09\", \"2018-10\", \"2018-11\", \"2018-12\", \"2019-01\", \"2019-04\", \"2019-05\", \"2019-06\", \"2019-07\", \"2019-09\", \"2019-12\", \"2020-01\", \"2020-02\", \"2020-03\", \"1980-12\", \"1981-12\", \"1983-06\", \"1986-05\", \"1988-06\", \"1990-07\", \"1992-01\", \"1993-12\", \"1994-06\", \"1995-07\", \"1997-12\", \"2000-09\", \"2003-06\", \"2003-07\", \"2003-08\", \"2003-10\", \"2004-03\", \"2004-04\", \"2004-09\", \"2004-11\", \"2004-12\", \"2005-02\", \"2005-03\", \"2005-11\", \"2005-12\", \"2006-01\", \"2006-05\", \"2006-12\", \"2007-02\", \"2007-05\", \"2007-11\", \"2007-12\", \"2008-01\", \"2008-11\", \"2008-12\", \"2009-01\", \"2009-02\", \"2009-03\", \"2009-04\", \"2009-05\", \"2009-06\", \"2009-08\", \"2009-10\", \"2009-12\", \"2010-01\", \"2010-02\", \"2010-04\", \"2010-06\", \"2010-09\", \"2010-12\", \"2011-01\", \"2011-04\", \"2011-09\", \"2011-12\", \"2012-03\", \"2012-04\", \"2012-06\", \"2012-08\", \"2012-09\", \"2012-10\", \"2012-12\", \"2013-04\", \"2013-05\", \"2013-07\", \"2013-11\", \"2013-12\", \"2014-01\", \"2014-03\", \"2014-07\", \"2014-09\", \"2014-11\", \"2014-12\", \"2015-03\", \"2015-04\", \"2015-06\", \"2015-08\", \"2015-09\", \"2015-10\", \"2015-12\", \"2016-01\", \"2016-02\", \"2016-03\", \"2016-04\", \"2016-05\", \"2016-11\", \"2016-12\", \"2017-01\", \"2017-02\", \"2017-04\", \"2017-05\", \"2017-06\", \"2017-07\", \"2017-08\", \"2017-09\", \"2017-10\", \"2017-12\", \"2018-01\", \"2018-02\", \"2018-03\", \"2018-04\", \"2018-06\", \"2018-07\", \"2018-08\", \"2018-09\", \"2018-10\", \"2018-11\", \"2018-12\", \"2019-01\", \"2019-04\", \"2019-05\", \"2019-06\", \"2019-08\", \"2019-09\", \"2019-10\", \"2019-11\", \"2019-12\", \"2020-02\", \"2020-03\", \"2020-12\", \"1983-08\", \"1988-10\", \"1999-07\", \"2003-08\", \"2004-03\", \"2005-06\", \"2005-12\", \"2006-04\", \"2006-08\", \"2007-01\", \"2007-07\", \"2008-12\", \"2009-12\", \"2010-05\", \"2010-09\", \"2012-09\", \"2013-01\", \"2013-02\", \"2013-08\", \"2013-10\", \"2014-03\", \"2014-04\", \"2014-09\", \"2015-03\", \"2015-06\", \"2015-09\", \"2016-01\", \"2016-05\", \"2016-06\", \"2017-02\", \"2017-05\", \"2017-06\", \"2018-01\", \"2018-10\", \"2018-11\", \"2018-12\", \"2019-06\", \"2019-08\", \"2019-12\", \"2020-02\", \"1989-10\", \"1989-12\", \"1991-04\", \"2001-12\", \"2003-11\", \"2003-12\", \"2005-05\", \"2006-02\", \"2006-08\", \"2006-09\", \"2009-09\", \"2010-12\", \"2011-11\", \"2011-12\", \"2012-03\", \"2012-10\", \"2012-12\", \"2013-05\", \"2013-08\", \"2015-07\", \"2015-09\", \"2016-06\", \"2017-08\", \"2017-10\", \"2018-04\", \"2018-05\", \"2019-01\", \"2019-12\", \"2020-01\", \"2020-02\", \"2020-12\", \"1992-06\", \"1994-07\", \"2007-03\", \"2008-05\", \"2009-01\", \"2010-04\", \"2012-10\", \"2013-01\", \"2014-12\", \"2015-05\", \"2015-06\", \"2016-05\", \"2016-12\", \"2017-02\", \"2017-06\", \"2018-06\", \"2018-09\", \"2019-01\", \"2020-03\"], \"xaxis\": \"x\", \"y\": [\"Phase 1\", \"Phase 1\", \"Phase 1\", \"Phase 1\", \"Phase 1\", \"Phase 1\", \"Phase 1\", \"Phase 1\", \"Phase 1\", \"Phase 1\", \"Phase 1\", \"Phase 1\", \"Phase 1\", \"Phase 1\", \"Phase 1\", \"Phase 1\", \"Phase 1\", \"Phase 1\", \"Phase 1\", \"Phase 1\", \"Phase 1\", \"Phase 1\", \"Phase 1\", \"Phase 1\", \"Phase 1\", \"Phase 1\", \"Phase 1\", \"Phase 1\", \"Phase 1\", \"Phase 1\", \"Phase 1\", \"Phase 1\", \"Phase 1\", \"Phase 1\", \"Phase 1\", \"Phase 1\", \"Phase 1\", \"Phase 1\", \"Phase 1\", \"Phase 1\", \"Phase 1\", \"Phase 1\", \"Phase 1\", \"Phase 1\", \"Phase 1\", \"Phase 1\", \"Phase 1\", \"Phase 1\", \"Phase 1\", \"Phase 1\", \"Phase 1\", \"Phase 1\", \"Phase 1\", \"Phase 1\", \"Phase 1\", \"Phase 1\", \"Phase 1\", \"Phase 1\", \"Phase 1\", \"Phase 1\", \"Phase 1\", \"Phase 1\", \"Phase 1\", \"Phase 1\", \"Phase 1\", \"Phase 1\", \"Phase 1\", \"Phase 1\", \"Phase 1\", \"Phase 1\", \"Phase 1\", \"Phase 1\", \"Phase 1\", \"Phase 1\", \"Phase 1\", \"Phase 1\", \"Phase 1\", \"Phase 1\", \"Phase 1\", \"Phase 1\", \"Phase 1\", \"Phase 1\", \"Phase 1\", \"Phase 1\", \"Phase 1\", \"Phase 1\", \"Phase 1\", \"Phase 1\", \"Phase 1\", \"Phase 1\", \"Phase 1\", \"Phase 1\", \"Phase 1\", \"Phase 1\", \"Phase 1\", \"Phase 1\", \"Phase 1\", \"Phase 1\", \"Phase 1\", \"Phase 1\", \"Phase 1\", \"Phase 1\", \"Phase 1\", \"Phase 1\", \"Phase 1\", \"Phase 1\", \"Phase 1\", \"Phase 1\", \"Phase 1\", \"Phase 1\", \"Phase 1\", \"Phase 1\", \"Phase 1\", \"Phase 1\", \"Phase 1\", \"Phase 1\", \"Phase 1\", \"Phase 1\", \"Phase 1\", \"Phase 1\", \"Phase 1\", \"Phase 1\", \"Phase 1\", \"Phase 1\", \"Phase 1\", \"Phase 1\", \"Phase 1\", \"Phase 1\", \"Phase 1\", \"Phase 1\", \"Phase 1\", \"Phase 1\", \"Phase 1\", \"Phase 1\", \"Phase 1\", \"Phase 1\", \"Phase 1\", \"Phase 1\", \"Phase 1\", \"Phase 1\", \"Phase 1\", \"Phase 1\", \"Phase 1\", \"Phase 1\", \"Phase 1\", \"Phase 1\", \"Phase 1\", \"Phase 1\", \"Phase 1\", \"Phase 1\", \"Phase 1\", \"Phase 1\", \"Phase 1\", \"Phase 1\", \"Phase 1\", \"Phase 1\", \"Phase 1\", \"Phase 1\", \"Phase 1\", \"Phase 1\", \"Phase 2\", \"Phase 2\", \"Phase 2\", \"Phase 2\", \"Phase 2\", \"Phase 2\", \"Phase 2\", \"Phase 2\", \"Phase 2\", \"Phase 2\", \"Phase 2\", \"Phase 2\", \"Phase 2\", \"Phase 2\", \"Phase 2\", \"Phase 2\", \"Phase 2\", \"Phase 2\", \"Phase 2\", \"Phase 2\", \"Phase 2\", \"Phase 2\", \"Phase 2\", \"Phase 2\", \"Phase 2\", \"Phase 2\", \"Phase 2\", \"Phase 2\", \"Phase 2\", \"Phase 2\", \"Phase 2\", \"Phase 2\", \"Phase 2\", \"Phase 2\", \"Phase 2\", \"Phase 2\", \"Phase 2\", \"Phase 2\", \"Phase 2\", \"Phase 2\", \"Phase 2\", \"Phase 2\", \"Phase 2\", \"Phase 2\", \"Phase 2\", \"Phase 2\", \"Phase 2\", \"Phase 2\", \"Phase 2\", \"Phase 2\", \"Phase 2\", \"Phase 2\", \"Phase 2\", \"Phase 2\", \"Phase 2\", \"Phase 2\", \"Phase 2\", \"Phase 2\", \"Phase 2\", \"Phase 2\", \"Phase 2\", \"Phase 2\", \"Phase 2\", \"Phase 2\", \"Phase 2\", \"Phase 2\", \"Phase 2\", \"Phase 2\", \"Phase 2\", \"Phase 2\", \"Phase 2\", \"Phase 2\", \"Phase 2\", \"Phase 2\", \"Phase 2\", \"Phase 2\", \"Phase 2\", \"Phase 2\", \"Phase 2\", \"Phase 2\", \"Phase 2\", \"Phase 2\", \"Phase 2\", \"Phase 2\", \"Phase 2\", \"Phase 2\", \"Phase 2\", \"Phase 2\", \"Phase 2\", \"Phase 2\", \"Phase 2\", \"Phase 2\", \"Phase 2\", \"Phase 2\", \"Phase 2\", \"Phase 2\", \"Phase 2\", \"Phase 2\", \"Phase 2\", \"Phase 2\", \"Phase 2\", \"Phase 2\", \"Phase 2\", \"Phase 2\", \"Phase 2\", \"Phase 2\", \"Phase 2\", \"Phase 2\", \"Phase 2\", \"Phase 2\", \"Phase 2\", \"Phase 2\", \"Phase 2\", \"Phase 2\", \"Phase 2\", \"Phase 2\", \"Phase 2\", \"Phase 2\", \"Phase 2\", \"Phase 3\", \"Phase 3\", \"Phase 3\", \"Phase 3\", \"Phase 3\", \"Phase 3\", \"Phase 3\", \"Phase 3\", \"Phase 3\", \"Phase 3\", \"Phase 3\", \"Phase 3\", \"Phase 3\", \"Phase 3\", \"Phase 3\", \"Phase 3\", \"Phase 3\", \"Phase 3\", \"Phase 3\", \"Phase 3\", \"Phase 3\", \"Phase 3\", \"Phase 3\", \"Phase 3\", \"Phase 3\", \"Phase 3\", \"Phase 3\", \"Phase 3\", \"Phase 3\", \"Phase 3\", \"Phase 3\", \"Phase 3\", \"Phase 3\", \"Phase 3\", \"Phase 3\", \"Phase 3\", \"Phase 3\", \"Phase 3\", \"Phase 3\", \"Phase 3\", \"Phase 4\", \"Phase 4\", \"Phase 4\", \"Phase 4\", \"Phase 4\", \"Phase 4\", \"Phase 4\", \"Phase 4\", \"Phase 4\", \"Phase 4\", \"Phase 4\", \"Phase 4\", \"Phase 4\", \"Phase 4\", \"Phase 4\", \"Phase 4\", \"Phase 4\", \"Phase 4\", \"Phase 4\", \"Phase 4\", \"Phase 4\", \"Phase 4\", \"Phase 4\", \"Phase 4\", \"Phase 4\", \"Phase 4\", \"Phase 4\", \"Phase 4\", \"Phase 4\", \"Phase 4\", \"Phase 4\", \"Phase 5\", \"Phase 5\", \"Phase 5\", \"Phase 5\", \"Phase 5\", \"Phase 5\", \"Phase 5\", \"Phase 5\", \"Phase 5\", \"Phase 5\", \"Phase 5\", \"Phase 5\", \"Phase 5\", \"Phase 5\", \"Phase 5\", \"Phase 5\", \"Phase 5\", \"Phase 5\", \"Phase 5\"], \"yaxis\": \"y\"}, {\"customdata\": [[1], [1], [1], [1], [2], [1], [1], [1], [1], [1], [1], [1], [1], [1], [1], [1], [1], [2], [1], [1], [1], [1], [1], [1], [1], [2], [1], [1], [1], [2], [1], [3], [1], [1], [1], [2], [1], [3], [1], [3], [1], [1], [2], [2], [2], [1], [3], [1], [1], [1], [2], [1], [1], [1], [1], [1], [3], [1], [2], [1], [2], [1], [1], [1], [1], [1], [1], [1], [1], [1], [2], [2], [1], [2], [2], [2], [1], [3], [4], [1], [3], [1], [3], [2], [2], [1], [1], [3], [2], [1], [2], [2], [3], [1], [1], [2], [3], [3], [2], [1], [1], [3], [1], [2], [3], [1], [1], [5], [2], [1], [2], [1], [2], [4], [2], [4], [2], [1], [2], [4], [2], [1], [3], [5], [2], [3], [7], [2], [3], [1], [3], [2], [4], [2], [1], [3], [1], [5], [6], [6], [6], [1], [4], [2], [3], [1], [1], [3], [6], [1], [8], [2], [1], [3], [1], [1], [1], [2], [1], [1], [1], [1], [2], [1], [1], [1], [1], [1], [1], [1], [1], [1], [1], [1], [1], [1], [2], [1], [1], [1], [2], [1], [1], [1], [1], [1], [2], [2], [1], [2], [1], [1], [1], [2], [2], [1], [1], [2], [1], [1], [1], [2], [2], [1], [1], [1], [1], [1], [1], [3], [3], [2], [1], [3], [1], [1], [2], [1], [1], [1], [1], [1], [3], [1], [1], [1], [2], [1], [1], [2], [1], [3], [1], [3], [1], [2], [1], [2], [1], [2], [3], [3], [2], [2], [1], [1], [2], [3], [1], [1], [2], [2], [5], [4], [1], [1], [1], [1], [1], [2], [1], [2], [1], [2], [3], [3], [1], [1], [1], [1], [1], [1], [1], [1], [2], [1], [1], [1], [1], [1], [1], [1], [1], [1], [1], [1], [1], [1], [1], [1], [2], [1], [1], [1], [1], [1], [1], [1], [1], [1], [1], [1], [1], [1], [2], [2], [1], [1], [2], [1], [1], [1], [1], [1], [1], [2], [1], [1], [1], [2], [1], [1], [1], [1], [1], [1], [1], [1], [1], [1], [1], [2], [1], [1], [1], [1], [1], [1], [1], [2], [2], [1], [1], [2], [1], [1], [1], [3], [2], [3], [1], [1], [1], [1], [1], [1], [1], [1], [1], [1]], \"hoverlabel\": {\"namelength\": 0}, \"hovertemplate\": \"<b>%{hovertext}</b><br><br>tag=interventions<br>publish_time=%{x}<br>phase=%{y}<br>count=%{customdata[0]}\", \"hovertext\": [\"interventions\", \"interventions\", \"interventions\", \"interventions\", \"interventions\", \"interventions\", \"interventions\", \"interventions\", \"interventions\", \"interventions\", \"interventions\", \"interventions\", \"interventions\", \"interventions\", \"interventions\", \"interventions\", \"interventions\", \"interventions\", \"interventions\", \"interventions\", \"interventions\", \"interventions\", \"interventions\", \"interventions\", \"interventions\", \"interventions\", \"interventions\", \"interventions\", \"interventions\", \"interventions\", \"interventions\", \"interventions\", \"interventions\", \"interventions\", \"interventions\", \"interventions\", \"interventions\", \"interventions\", \"interventions\", \"interventions\", \"interventions\", \"interventions\", \"interventions\", \"interventions\", \"interventions\", \"interventions\", \"interventions\", \"interventions\", \"interventions\", \"interventions\", \"interventions\", \"interventions\", \"interventions\", \"interventions\", \"interventions\", \"interventions\", \"interventions\", \"interventions\", \"interventions\", \"interventions\", \"interventions\", \"interventions\", \"interventions\", \"interventions\", \"interventions\", \"interventions\", \"interventions\", \"interventions\", \"interventions\", \"interventions\", \"interventions\", \"interventions\", \"interventions\", \"interventions\", \"interventions\", \"interventions\", \"interventions\", \"interventions\", \"interventions\", \"interventions\", \"interventions\", \"interventions\", \"interventions\", \"interventions\", \"interventions\", \"interventions\", \"interventions\", \"interventions\", \"interventions\", \"interventions\", \"interventions\", \"interventions\", \"interventions\", \"interventions\", \"interventions\", \"interventions\", \"interventions\", \"interventions\", \"interventions\", \"interventions\", \"interventions\", \"interventions\", \"interventions\", \"interventions\", \"interventions\", \"interventions\", \"interventions\", \"interventions\", \"interventions\", \"interventions\", \"interventions\", \"interventions\", \"interventions\", \"interventions\", \"interventions\", \"interventions\", \"interventions\", \"interventions\", \"interventions\", \"interventions\", \"interventions\", \"interventions\", \"interventions\", \"interventions\", \"interventions\", \"interventions\", \"interventions\", \"interventions\", \"interventions\", \"interventions\", \"interventions\", \"interventions\", \"interventions\", \"interventions\", \"interventions\", \"interventions\", \"interventions\", \"interventions\", \"interventions\", \"interventions\", \"interventions\", \"interventions\", \"interventions\", \"interventions\", \"interventions\", \"interventions\", \"interventions\", \"interventions\", \"interventions\", \"interventions\", \"interventions\", \"interventions\", \"interventions\", \"interventions\", \"interventions\", \"interventions\", \"interventions\", \"interventions\", \"interventions\", \"interventions\", \"interventions\", \"interventions\", \"interventions\", \"interventions\", \"interventions\", \"interventions\", \"interventions\", \"interventions\", \"interventions\", \"interventions\", \"interventions\", \"interventions\", \"interventions\", \"interventions\", \"interventions\", \"interventions\", \"interventions\", \"interventions\", \"interventions\", \"interventions\", \"interventions\", \"interventions\", \"interventions\", \"interventions\", \"interventions\", \"interventions\", \"interventions\", \"interventions\", \"interventions\", \"interventions\", \"interventions\", \"interventions\", \"interventions\", \"interventions\", \"interventions\", \"interventions\", \"interventions\", \"interventions\", \"interventions\", \"interventions\", \"interventions\", \"interventions\", \"interventions\", \"interventions\", \"interventions\", \"interventions\", \"interventions\", \"interventions\", \"interventions\", \"interventions\", \"interventions\", \"interventions\", \"interventions\", \"interventions\", \"interventions\", \"interventions\", \"interventions\", \"interventions\", \"interventions\", \"interventions\", \"interventions\", \"interventions\", \"interventions\", \"interventions\", \"interventions\", \"interventions\", \"interventions\", \"interventions\", \"interventions\", \"interventions\", \"interventions\", \"interventions\", \"interventions\", \"interventions\", \"interventions\", \"interventions\", \"interventions\", \"interventions\", \"interventions\", \"interventions\", \"interventions\", \"interventions\", \"interventions\", \"interventions\", \"interventions\", \"interventions\", \"interventions\", \"interventions\", \"interventions\", \"interventions\", \"interventions\", \"interventions\", \"interventions\", \"interventions\", \"interventions\", \"interventions\", \"interventions\", \"interventions\", \"interventions\", \"interventions\", \"interventions\", \"interventions\", \"interventions\", \"interventions\", \"interventions\", \"interventions\", \"interventions\", \"interventions\", \"interventions\", \"interventions\", \"interventions\", \"interventions\", \"interventions\", \"interventions\", \"interventions\", \"interventions\", \"interventions\", \"interventions\", \"interventions\", \"interventions\", \"interventions\", \"interventions\", \"interventions\", \"interventions\", \"interventions\", \"interventions\", \"interventions\", \"interventions\", \"interventions\", \"interventions\", \"interventions\", \"interventions\", \"interventions\", \"interventions\", \"interventions\", \"interventions\", \"interventions\", \"interventions\", \"interventions\", \"interventions\", \"interventions\", \"interventions\", \"interventions\", \"interventions\", \"interventions\", \"interventions\", \"interventions\", \"interventions\", \"interventions\", \"interventions\", \"interventions\", \"interventions\", \"interventions\", \"interventions\", \"interventions\", \"interventions\", \"interventions\", \"interventions\", \"interventions\", \"interventions\", \"interventions\", \"interventions\", \"interventions\", \"interventions\", \"interventions\", \"interventions\", \"interventions\", \"interventions\", \"interventions\", \"interventions\", \"interventions\", \"interventions\", \"interventions\", \"interventions\", \"interventions\", \"interventions\", \"interventions\", \"interventions\", \"interventions\", \"interventions\", \"interventions\", \"interventions\", \"interventions\", \"interventions\", \"interventions\", \"interventions\", \"interventions\", \"interventions\", \"interventions\", \"interventions\", \"interventions\", \"interventions\", \"interventions\", \"interventions\", \"interventions\", \"interventions\", \"interventions\", \"interventions\", \"interventions\", \"interventions\"], \"legendgroup\": \"interventions\", \"marker\": {\"color\": \"#00cc96\", \"size\": [1, 1, 1, 1, 2, 1, 1, 1, 1, 1, 1, 1, 1, 1, 1, 1, 1, 2, 1, 1, 1, 1, 1, 1, 1, 2, 1, 1, 1, 2, 1, 3, 1, 1, 1, 2, 1, 3, 1, 3, 1, 1, 2, 2, 2, 1, 3, 1, 1, 1, 2, 1, 1, 1, 1, 1, 3, 1, 2, 1, 2, 1, 1, 1, 1, 1, 1, 1, 1, 1, 2, 2, 1, 2, 2, 2, 1, 3, 4, 1, 3, 1, 3, 2, 2, 1, 1, 3, 2, 1, 2, 2, 3, 1, 1, 2, 3, 3, 2, 1, 1, 3, 1, 2, 3, 1, 1, 5, 2, 1, 2, 1, 2, 4, 2, 4, 2, 1, 2, 4, 2, 1, 3, 5, 2, 3, 7, 2, 3, 1, 3, 2, 4, 2, 1, 3, 1, 5, 6, 6, 6, 1, 4, 2, 3, 1, 1, 3, 6, 1, 8, 2, 1, 3, 1, 1, 1, 2, 1, 1, 1, 1, 2, 1, 1, 1, 1, 1, 1, 1, 1, 1, 1, 1, 1, 1, 2, 1, 1, 1, 2, 1, 1, 1, 1, 1, 2, 2, 1, 2, 1, 1, 1, 2, 2, 1, 1, 2, 1, 1, 1, 2, 2, 1, 1, 1, 1, 1, 1, 3, 3, 2, 1, 3, 1, 1, 2, 1, 1, 1, 1, 1, 3, 1, 1, 1, 2, 1, 1, 2, 1, 3, 1, 3, 1, 2, 1, 2, 1, 2, 3, 3, 2, 2, 1, 1, 2, 3, 1, 1, 2, 2, 5, 4, 1, 1, 1, 1, 1, 2, 1, 2, 1, 2, 3, 3, 1, 1, 1, 1, 1, 1, 1, 1, 2, 1, 1, 1, 1, 1, 1, 1, 1, 1, 1, 1, 1, 1, 1, 1, 2, 1, 1, 1, 1, 1, 1, 1, 1, 1, 1, 1, 1, 1, 2, 2, 1, 1, 2, 1, 1, 1, 1, 1, 1, 2, 1, 1, 1, 2, 1, 1, 1, 1, 1, 1, 1, 1, 1, 1, 1, 2, 1, 1, 1, 1, 1, 1, 1, 2, 2, 1, 1, 2, 1, 1, 1, 3, 2, 3, 1, 1, 1, 1, 1, 1, 1, 1, 1, 1], \"sizemode\": \"area\", \"sizeref\": 0.0275, \"symbol\": \"circle\"}, \"mode\": \"markers\", \"name\": \"interventions\", \"showlegend\": true, \"type\": \"scattergl\", \"x\": [\"1970-04\", \"1977-12\", \"1984-01\", \"1985-04\", \"1985-07\", \"1985-08\", \"1985-12\", \"1986-02\", \"1986-12\", \"1989-12\", \"1990-01\", \"1991-12\", \"1992-11\", \"1993-01\", \"1995-08\", \"1996-01\", \"1996-07\", \"1996-08\", \"1998-10\", \"2000-09\", \"2000-10\", \"2001-12\", \"2002-04\", \"2003-08\", \"2004-06\", \"2004-10\", \"2004-12\", \"2005-01\", \"2005-02\", \"2005-05\", \"2005-09\", \"2005-12\", \"2006-01\", \"2006-02\", \"2006-08\", \"2006-09\", \"2006-11\", \"2006-12\", \"2007-01\", \"2007-03\", \"2007-04\", \"2007-05\", \"2007-07\", \"2007-08\", \"2007-10\", \"2007-11\", \"2007-12\", \"2008-01\", \"2008-04\", \"2008-06\", \"2008-07\", \"2008-08\", \"2008-10\", \"2008-12\", \"2009-01\", \"2009-04\", \"2009-08\", \"2009-09\", \"2009-10\", \"2009-11\", \"2009-12\", \"2010-01\", \"2010-03\", \"2010-07\", \"2010-08\", \"2010-09\", \"2010-10\", \"2010-11\", \"2010-12\", \"2011-03\", \"2011-07\", \"2011-12\", \"2012-02\", \"2012-04\", \"2012-06\", \"2012-07\", \"2012-08\", \"2012-11\", \"2012-12\", \"2013-01\", \"2013-02\", \"2013-03\", \"2013-04\", \"2013-06\", \"2013-08\", \"2013-09\", \"2013-10\", \"2013-11\", \"2013-12\", \"2014-03\", \"2014-05\", \"2014-06\", \"2014-07\", \"2014-08\", \"2014-09\", \"2014-10\", \"2014-12\", \"2015-01\", \"2015-02\", \"2015-04\", \"2015-05\", \"2015-07\", \"2015-09\", \"2015-10\", \"2015-11\", \"2015-12\", \"2016-01\", \"2016-02\", \"2016-03\", \"2016-05\", \"2016-06\", \"2016-08\", \"2016-09\", \"2016-10\", \"2016-11\", \"2016-12\", \"2017-01\", \"2017-02\", \"2017-03\", \"2017-04\", \"2017-05\", \"2017-06\", \"2017-07\", \"2017-08\", \"2017-09\", \"2017-10\", \"2017-12\", \"2018-01\", \"2018-02\", \"2018-03\", \"2018-04\", \"2018-05\", \"2018-06\", \"2018-07\", \"2018-08\", \"2018-10\", \"2018-11\", \"2018-12\", \"2019-01\", \"2019-02\", \"2019-03\", \"2019-05\", \"2019-06\", \"2019-07\", \"2019-08\", \"2019-09\", \"2019-10\", \"2019-11\", \"2019-12\", \"2020-01\", \"2020-02\", \"2020-03\", \"2020-05\", \"2020-12\", \"1979-08\", \"1979-12\", \"1980-12\", \"1986-08\", \"1987-08\", \"1988-12\", \"1991-11\", \"1992-04\", \"1993-12\", \"1994-12\", \"1996-03\", \"1997-12\", \"2002-09\", \"2003-04\", \"2004-02\", \"2004-08\", \"2004-09\", \"2004-10\", \"2004-11\", \"2006-06\", \"2006-10\", \"2007-02\", \"2007-03\", \"2007-06\", \"2007-07\", \"2007-09\", \"2007-11\", \"2007-12\", \"2008-02\", \"2008-05\", \"2008-07\", \"2008-08\", \"2008-10\", \"2008-12\", \"2009-01\", \"2009-12\", \"2010-01\", \"2010-04\", \"2010-05\", \"2010-06\", \"2010-07\", \"2010-08\", \"2010-09\", \"2010-11\", \"2010-12\", \"2011-03\", \"2011-04\", \"2011-12\", \"2012-01\", \"2012-02\", \"2012-04\", \"2012-05\", \"2012-12\", \"2013-01\", \"2013-06\", \"2013-07\", \"2013-08\", \"2013-11\", \"2013-12\", \"2014-01\", \"2014-02\", \"2014-03\", \"2014-04\", \"2014-05\", \"2014-06\", \"2014-07\", \"2014-09\", \"2014-10\", \"2014-12\", \"2015-02\", \"2015-03\", \"2015-04\", \"2015-07\", \"2015-09\", \"2015-10\", \"2015-11\", \"2015-12\", \"2016-01\", \"2016-02\", \"2016-03\", \"2016-04\", \"2016-06\", \"2016-08\", \"2016-09\", \"2016-10\", \"2016-11\", \"2016-12\", \"2017-02\", \"2017-03\", \"2017-06\", \"2017-07\", \"2017-10\", \"2017-12\", \"2018-02\", \"2018-03\", \"2018-04\", \"2018-09\", \"2018-10\", \"2018-11\", \"2018-12\", \"2019-01\", \"2019-02\", \"2019-03\", \"2019-04\", \"2019-05\", \"2019-06\", \"2019-07\", \"2019-08\", \"2019-11\", \"2019-12\", \"2020-02\", \"2020-03\", \"1994-12\", \"2001-10\", \"2004-01\", \"2004-07\", \"2004-10\", \"2004-11\", \"2005-03\", \"2005-06\", \"2005-12\", \"2006-10\", \"2006-12\", \"2007-02\", \"2007-03\", \"2007-04\", \"2007-07\", \"2007-08\", \"2008-10\", \"2008-12\", \"2009-12\", \"2011-10\", \"2011-12\", \"2012-01\", \"2012-07\", \"2012-10\", \"2012-12\", \"2013-01\", \"2013-02\", \"2013-04\", \"2013-05\", \"2014-05\", \"2014-07\", \"2014-09\", \"2015-03\", \"2015-04\", \"2015-08\", \"2015-09\", \"2015-10\", \"2015-11\", \"2017-01\", \"2017-02\", \"2017-04\", \"2017-12\", \"2018-02\", \"2018-06\", \"2018-08\", \"2018-11\", \"2019-01\", \"2019-02\", \"2019-11\", \"2019-12\", \"2020-02\", \"1987-05\", \"1993-03\", \"2003-06\", \"2004-08\", \"2004-12\", \"2005-05\", \"2005-06\", \"2005-11\", \"2008-04\", \"2008-07\", \"2008-12\", \"2011-08\", \"2011-12\", \"2012-10\", \"2012-12\", \"2013-01\", \"2013-04\", \"2013-12\", \"2014-03\", \"2014-11\", \"2014-12\", \"2015-06\", \"2016-06\", \"2016-08\", \"2016-09\", \"2016-12\", \"2017-04\", \"2017-07\", \"2017-12\", \"2019-06\", \"2019-12\", \"2020-01\", \"2020-02\", \"2007-09\", \"2011-10\", \"2011-11\", \"2012-06\", \"2012-10\", \"2014-11\", \"2015-04\", \"2015-09\", \"2016-02\", \"2019-05\"], \"xaxis\": \"x\", \"y\": [\"Phase 1\", \"Phase 1\", \"Phase 1\", \"Phase 1\", \"Phase 1\", \"Phase 1\", \"Phase 1\", \"Phase 1\", \"Phase 1\", \"Phase 1\", \"Phase 1\", \"Phase 1\", \"Phase 1\", \"Phase 1\", \"Phase 1\", \"Phase 1\", \"Phase 1\", \"Phase 1\", \"Phase 1\", \"Phase 1\", \"Phase 1\", \"Phase 1\", \"Phase 1\", \"Phase 1\", \"Phase 1\", \"Phase 1\", \"Phase 1\", \"Phase 1\", \"Phase 1\", \"Phase 1\", \"Phase 1\", \"Phase 1\", \"Phase 1\", \"Phase 1\", \"Phase 1\", \"Phase 1\", \"Phase 1\", \"Phase 1\", \"Phase 1\", \"Phase 1\", \"Phase 1\", \"Phase 1\", \"Phase 1\", \"Phase 1\", \"Phase 1\", \"Phase 1\", \"Phase 1\", \"Phase 1\", \"Phase 1\", \"Phase 1\", \"Phase 1\", \"Phase 1\", \"Phase 1\", \"Phase 1\", \"Phase 1\", \"Phase 1\", \"Phase 1\", \"Phase 1\", \"Phase 1\", \"Phase 1\", \"Phase 1\", \"Phase 1\", \"Phase 1\", \"Phase 1\", \"Phase 1\", \"Phase 1\", \"Phase 1\", \"Phase 1\", \"Phase 1\", \"Phase 1\", \"Phase 1\", \"Phase 1\", \"Phase 1\", \"Phase 1\", \"Phase 1\", \"Phase 1\", \"Phase 1\", \"Phase 1\", \"Phase 1\", \"Phase 1\", \"Phase 1\", \"Phase 1\", \"Phase 1\", \"Phase 1\", \"Phase 1\", \"Phase 1\", \"Phase 1\", \"Phase 1\", \"Phase 1\", \"Phase 1\", \"Phase 1\", \"Phase 1\", \"Phase 1\", \"Phase 1\", \"Phase 1\", \"Phase 1\", \"Phase 1\", \"Phase 1\", \"Phase 1\", \"Phase 1\", \"Phase 1\", \"Phase 1\", \"Phase 1\", \"Phase 1\", \"Phase 1\", \"Phase 1\", \"Phase 1\", \"Phase 1\", \"Phase 1\", \"Phase 1\", \"Phase 1\", \"Phase 1\", \"Phase 1\", \"Phase 1\", \"Phase 1\", \"Phase 1\", \"Phase 1\", \"Phase 1\", \"Phase 1\", \"Phase 1\", \"Phase 1\", \"Phase 1\", \"Phase 1\", \"Phase 1\", \"Phase 1\", \"Phase 1\", \"Phase 1\", \"Phase 1\", \"Phase 1\", \"Phase 1\", \"Phase 1\", \"Phase 1\", \"Phase 1\", \"Phase 1\", \"Phase 1\", \"Phase 1\", \"Phase 1\", \"Phase 1\", \"Phase 1\", \"Phase 1\", \"Phase 1\", \"Phase 1\", \"Phase 1\", \"Phase 1\", \"Phase 1\", \"Phase 1\", \"Phase 1\", \"Phase 1\", \"Phase 1\", \"Phase 1\", \"Phase 1\", \"Phase 1\", \"Phase 1\", \"Phase 1\", \"Phase 2\", \"Phase 2\", \"Phase 2\", \"Phase 2\", \"Phase 2\", \"Phase 2\", \"Phase 2\", \"Phase 2\", \"Phase 2\", \"Phase 2\", \"Phase 2\", \"Phase 2\", \"Phase 2\", \"Phase 2\", \"Phase 2\", \"Phase 2\", \"Phase 2\", \"Phase 2\", \"Phase 2\", \"Phase 2\", \"Phase 2\", \"Phase 2\", \"Phase 2\", \"Phase 2\", \"Phase 2\", \"Phase 2\", \"Phase 2\", \"Phase 2\", \"Phase 2\", \"Phase 2\", \"Phase 2\", \"Phase 2\", \"Phase 2\", \"Phase 2\", \"Phase 2\", \"Phase 2\", \"Phase 2\", \"Phase 2\", \"Phase 2\", \"Phase 2\", \"Phase 2\", \"Phase 2\", \"Phase 2\", \"Phase 2\", \"Phase 2\", \"Phase 2\", \"Phase 2\", \"Phase 2\", \"Phase 2\", \"Phase 2\", \"Phase 2\", \"Phase 2\", \"Phase 2\", \"Phase 2\", \"Phase 2\", \"Phase 2\", \"Phase 2\", \"Phase 2\", \"Phase 2\", \"Phase 2\", \"Phase 2\", \"Phase 2\", \"Phase 2\", \"Phase 2\", \"Phase 2\", \"Phase 2\", \"Phase 2\", \"Phase 2\", \"Phase 2\", \"Phase 2\", \"Phase 2\", \"Phase 2\", \"Phase 2\", \"Phase 2\", \"Phase 2\", \"Phase 2\", \"Phase 2\", \"Phase 2\", \"Phase 2\", \"Phase 2\", \"Phase 2\", \"Phase 2\", \"Phase 2\", \"Phase 2\", \"Phase 2\", \"Phase 2\", \"Phase 2\", \"Phase 2\", \"Phase 2\", \"Phase 2\", \"Phase 2\", \"Phase 2\", \"Phase 2\", \"Phase 2\", \"Phase 2\", \"Phase 2\", \"Phase 2\", \"Phase 2\", \"Phase 2\", \"Phase 2\", \"Phase 2\", \"Phase 2\", \"Phase 2\", \"Phase 2\", \"Phase 2\", \"Phase 2\", \"Phase 2\", \"Phase 2\", \"Phase 2\", \"Phase 2\", \"Phase 2\", \"Phase 2\", \"Phase 3\", \"Phase 3\", \"Phase 3\", \"Phase 3\", \"Phase 3\", \"Phase 3\", \"Phase 3\", \"Phase 3\", \"Phase 3\", \"Phase 3\", \"Phase 3\", \"Phase 3\", \"Phase 3\", \"Phase 3\", \"Phase 3\", \"Phase 3\", \"Phase 3\", \"Phase 3\", \"Phase 3\", \"Phase 3\", \"Phase 3\", \"Phase 3\", \"Phase 3\", \"Phase 3\", \"Phase 3\", \"Phase 3\", \"Phase 3\", \"Phase 3\", \"Phase 3\", \"Phase 3\", \"Phase 3\", \"Phase 3\", \"Phase 3\", \"Phase 3\", \"Phase 3\", \"Phase 3\", \"Phase 3\", \"Phase 3\", \"Phase 3\", \"Phase 3\", \"Phase 3\", \"Phase 3\", \"Phase 3\", \"Phase 3\", \"Phase 3\", \"Phase 3\", \"Phase 3\", \"Phase 3\", \"Phase 3\", \"Phase 3\", \"Phase 3\", \"Phase 4\", \"Phase 4\", \"Phase 4\", \"Phase 4\", \"Phase 4\", \"Phase 4\", \"Phase 4\", \"Phase 4\", \"Phase 4\", \"Phase 4\", \"Phase 4\", \"Phase 4\", \"Phase 4\", \"Phase 4\", \"Phase 4\", \"Phase 4\", \"Phase 4\", \"Phase 4\", \"Phase 4\", \"Phase 4\", \"Phase 4\", \"Phase 4\", \"Phase 4\", \"Phase 4\", \"Phase 4\", \"Phase 4\", \"Phase 4\", \"Phase 4\", \"Phase 4\", \"Phase 4\", \"Phase 4\", \"Phase 4\", \"Phase 4\", \"Phase 5\", \"Phase 5\", \"Phase 5\", \"Phase 5\", \"Phase 5\", \"Phase 5\", \"Phase 5\", \"Phase 5\", \"Phase 5\", \"Phase 5\"], \"yaxis\": \"y\"}, {\"customdata\": [[1], [1], [1], [1], [1], [1], [1], [1], [1], [1], [2], [1], [1], [1], [1], [2], [2], [1], [1], [2], [1], [1], [1], [1], [1], [1], [2], [2], [1], [1], [2], [3], [1], [1], [2], [1], [1], [2], [1], [1], [1], [1], [1], [3], [1], [1], [1], [1], [1], [1], [2], [1], [1], [2], [1], [1], [2], [3], [2], [1], [1], [1], [2], [1], [4], [1], [1], [1], [2], [1], [2], [2], [1], [2], [2], [1], [2], [2], [1], [1], [2], [1], [3], [3], [2], [1], [1], [2], [1], [2], [1], [4], [2], [1], [1], [2], [2], [3], [2], [1], [2], [2], [2], [1], [1], [2], [1], [3], [1], [1], [5], [1], [2], [3], [1], [3], [2], [1], [1], [1], [5], [1], [1], [2], [4], [1], [3], [1], [3], [2], [1], [2], [3], [1], [2], [2], [1], [3], [2], [2], [1], [1], [2], [1], [2], [1], [1], [3], [1], [2], [3], [2], [1], [5], [3], [8], [3], [1], [1], [1], [1], [1], [1], [1], [1], [1], [1], [1], [1], [1], [1], [1], [1], [1], [1], [1], [1], [1], [1], [1], [1], [1], [1], [1], [1], [1], [1], [1], [1], [2], [1], [1], [2], [4], [1], [1], [1], [2], [1], [2], [1], [1], [1], [3], [1], [1], [2], [1], [2], [1], [2], [1], [1], [2], [3], [1], [2], [1], [3], [3], [2], [2], [1], [1], [1], [2], [1], [1], [3], [1], [1], [4], [2], [1], [1], [1], [3], [3], [2], [2], [1], [1], [3], [2], [1], [2], [1], [1], [2], [1], [5], [1], [2], [1], [1], [1], [1], [2], [4], [1], [2], [4], [1], [1], [2], [1], [1], [2], [1], [4], [4], [4], [1], [1], [1], [1], [1], [1], [1], [1], [1], [1], [1], [2], [1], [1], [1], [1], [1], [1], [1], [1], [1], [1], [1], [1], [1], [1], [1], [1], [1], [1], [1], [1], [2], [1], [1], [2], [2], [2], [1], [3], [1], [2], [1], [2], [1], [1], [1], [1], [1], [1], [1], [1], [1], [1], [1], [2], [1], [1], [1], [1], [1], [1], [1], [1], [1], [1], [1], [1], [1], [2], [1], [1], [1], [1], [1], [1], [2], [1], [1], [1], [1], [1], [1], [1], [1], [1], [1], [1], [1], [1], [1], [1]], \"hoverlabel\": {\"namelength\": 0}, \"hovertemplate\": \"<b>%{hovertext}</b><br><br>tag=mortality rate<br>publish_time=%{x}<br>phase=%{y}<br>count=%{customdata[0]}\", \"hovertext\": [\"mortality rate\", \"mortality rate\", \"mortality rate\", \"mortality rate\", \"mortality rate\", \"mortality rate\", \"mortality rate\", \"mortality rate\", \"mortality rate\", \"mortality rate\", \"mortality rate\", \"mortality rate\", \"mortality rate\", \"mortality rate\", \"mortality rate\", \"mortality rate\", \"mortality rate\", \"mortality rate\", \"mortality rate\", \"mortality rate\", \"mortality rate\", \"mortality rate\", \"mortality rate\", \"mortality rate\", \"mortality rate\", \"mortality rate\", \"mortality rate\", \"mortality rate\", \"mortality rate\", \"mortality rate\", \"mortality rate\", \"mortality rate\", \"mortality rate\", \"mortality rate\", \"mortality rate\", \"mortality rate\", \"mortality rate\", \"mortality rate\", \"mortality rate\", \"mortality rate\", \"mortality rate\", \"mortality rate\", \"mortality rate\", \"mortality rate\", \"mortality rate\", \"mortality rate\", \"mortality rate\", \"mortality rate\", \"mortality rate\", \"mortality rate\", \"mortality rate\", \"mortality rate\", \"mortality rate\", \"mortality rate\", \"mortality rate\", \"mortality rate\", \"mortality rate\", \"mortality rate\", \"mortality rate\", \"mortality rate\", \"mortality rate\", \"mortality rate\", \"mortality rate\", \"mortality rate\", \"mortality rate\", \"mortality rate\", \"mortality rate\", \"mortality rate\", \"mortality rate\", \"mortality rate\", \"mortality rate\", \"mortality rate\", \"mortality rate\", \"mortality rate\", \"mortality rate\", \"mortality rate\", \"mortality rate\", \"mortality rate\", \"mortality rate\", \"mortality rate\", \"mortality rate\", \"mortality rate\", \"mortality rate\", \"mortality rate\", \"mortality rate\", \"mortality rate\", \"mortality rate\", \"mortality rate\", \"mortality rate\", \"mortality rate\", \"mortality rate\", \"mortality rate\", \"mortality rate\", \"mortality rate\", \"mortality rate\", \"mortality rate\", \"mortality rate\", \"mortality rate\", \"mortality rate\", \"mortality rate\", \"mortality rate\", \"mortality rate\", \"mortality rate\", \"mortality rate\", \"mortality rate\", \"mortality rate\", \"mortality rate\", \"mortality rate\", \"mortality rate\", \"mortality rate\", \"mortality rate\", \"mortality rate\", \"mortality rate\", \"mortality rate\", \"mortality rate\", \"mortality rate\", \"mortality rate\", \"mortality rate\", \"mortality rate\", \"mortality rate\", \"mortality rate\", \"mortality rate\", \"mortality rate\", \"mortality rate\", \"mortality rate\", \"mortality rate\", \"mortality rate\", \"mortality rate\", \"mortality rate\", \"mortality rate\", \"mortality rate\", \"mortality rate\", \"mortality rate\", \"mortality rate\", \"mortality rate\", \"mortality rate\", \"mortality rate\", \"mortality rate\", \"mortality rate\", \"mortality rate\", \"mortality rate\", \"mortality rate\", \"mortality rate\", \"mortality rate\", \"mortality rate\", \"mortality rate\", \"mortality rate\", \"mortality rate\", \"mortality rate\", \"mortality rate\", \"mortality rate\", \"mortality rate\", \"mortality rate\", \"mortality rate\", \"mortality rate\", \"mortality rate\", \"mortality rate\", \"mortality rate\", \"mortality rate\", \"mortality rate\", \"mortality rate\", \"mortality rate\", \"mortality rate\", \"mortality rate\", \"mortality rate\", \"mortality rate\", \"mortality rate\", \"mortality rate\", \"mortality rate\", \"mortality rate\", \"mortality rate\", \"mortality rate\", \"mortality rate\", \"mortality rate\", \"mortality rate\", \"mortality rate\", \"mortality rate\", \"mortality rate\", \"mortality rate\", \"mortality rate\", \"mortality rate\", \"mortality rate\", \"mortality rate\", \"mortality rate\", \"mortality rate\", \"mortality rate\", \"mortality rate\", \"mortality rate\", \"mortality rate\", \"mortality rate\", \"mortality rate\", \"mortality rate\", \"mortality rate\", \"mortality rate\", \"mortality rate\", \"mortality rate\", \"mortality rate\", \"mortality rate\", \"mortality rate\", \"mortality rate\", \"mortality rate\", \"mortality rate\", \"mortality rate\", \"mortality rate\", \"mortality rate\", \"mortality rate\", \"mortality rate\", \"mortality rate\", \"mortality rate\", \"mortality rate\", \"mortality rate\", \"mortality rate\", \"mortality rate\", \"mortality rate\", \"mortality rate\", \"mortality rate\", \"mortality rate\", \"mortality rate\", \"mortality rate\", \"mortality rate\", \"mortality rate\", \"mortality rate\", \"mortality rate\", \"mortality rate\", \"mortality rate\", \"mortality rate\", \"mortality rate\", \"mortality rate\", \"mortality rate\", \"mortality rate\", \"mortality rate\", \"mortality rate\", \"mortality rate\", \"mortality rate\", \"mortality rate\", \"mortality rate\", \"mortality rate\", \"mortality rate\", \"mortality rate\", \"mortality rate\", \"mortality rate\", \"mortality rate\", \"mortality rate\", \"mortality rate\", \"mortality rate\", \"mortality rate\", \"mortality rate\", \"mortality rate\", \"mortality rate\", \"mortality rate\", \"mortality rate\", \"mortality rate\", \"mortality rate\", \"mortality rate\", \"mortality rate\", \"mortality rate\", \"mortality rate\", \"mortality rate\", \"mortality rate\", \"mortality rate\", \"mortality rate\", \"mortality rate\", \"mortality rate\", \"mortality rate\", \"mortality rate\", \"mortality rate\", \"mortality rate\", \"mortality rate\", \"mortality rate\", \"mortality rate\", \"mortality rate\", \"mortality rate\", \"mortality rate\", \"mortality rate\", \"mortality rate\", \"mortality rate\", \"mortality rate\", \"mortality rate\", \"mortality rate\", \"mortality rate\", \"mortality rate\", \"mortality rate\", \"mortality rate\", \"mortality rate\", \"mortality rate\", \"mortality rate\", \"mortality rate\", \"mortality rate\", \"mortality rate\", \"mortality rate\", \"mortality rate\", \"mortality rate\", \"mortality rate\", \"mortality rate\", \"mortality rate\", \"mortality rate\", \"mortality rate\", \"mortality rate\", \"mortality rate\", \"mortality rate\", \"mortality rate\", \"mortality rate\", \"mortality rate\", \"mortality rate\", \"mortality rate\", \"mortality rate\", \"mortality rate\", \"mortality rate\", \"mortality rate\", \"mortality rate\", \"mortality rate\", \"mortality rate\", \"mortality rate\", \"mortality rate\", \"mortality rate\", \"mortality rate\", \"mortality rate\", \"mortality rate\", \"mortality rate\", \"mortality rate\", \"mortality rate\", \"mortality rate\", \"mortality rate\", \"mortality rate\", \"mortality rate\", \"mortality rate\", \"mortality rate\", \"mortality rate\", \"mortality rate\", \"mortality rate\", \"mortality rate\", \"mortality rate\", \"mortality rate\", \"mortality rate\", \"mortality rate\", \"mortality rate\", \"mortality rate\", \"mortality rate\", \"mortality rate\", \"mortality rate\", \"mortality rate\", \"mortality rate\", \"mortality rate\", \"mortality rate\", \"mortality rate\", \"mortality rate\", \"mortality rate\", \"mortality rate\", \"mortality rate\", \"mortality rate\", \"mortality rate\", \"mortality rate\", \"mortality rate\", \"mortality rate\", \"mortality rate\", \"mortality rate\", \"mortality rate\", \"mortality rate\", \"mortality rate\", \"mortality rate\", \"mortality rate\", \"mortality rate\", \"mortality rate\", \"mortality rate\"], \"legendgroup\": \"mortality rate\", \"marker\": {\"color\": \"#ab63fa\", \"size\": [1, 1, 1, 1, 1, 1, 1, 1, 1, 1, 2, 1, 1, 1, 1, 2, 2, 1, 1, 2, 1, 1, 1, 1, 1, 1, 2, 2, 1, 1, 2, 3, 1, 1, 2, 1, 1, 2, 1, 1, 1, 1, 1, 3, 1, 1, 1, 1, 1, 1, 2, 1, 1, 2, 1, 1, 2, 3, 2, 1, 1, 1, 2, 1, 4, 1, 1, 1, 2, 1, 2, 2, 1, 2, 2, 1, 2, 2, 1, 1, 2, 1, 3, 3, 2, 1, 1, 2, 1, 2, 1, 4, 2, 1, 1, 2, 2, 3, 2, 1, 2, 2, 2, 1, 1, 2, 1, 3, 1, 1, 5, 1, 2, 3, 1, 3, 2, 1, 1, 1, 5, 1, 1, 2, 4, 1, 3, 1, 3, 2, 1, 2, 3, 1, 2, 2, 1, 3, 2, 2, 1, 1, 2, 1, 2, 1, 1, 3, 1, 2, 3, 2, 1, 5, 3, 8, 3, 1, 1, 1, 1, 1, 1, 1, 1, 1, 1, 1, 1, 1, 1, 1, 1, 1, 1, 1, 1, 1, 1, 1, 1, 1, 1, 1, 1, 1, 1, 1, 1, 2, 1, 1, 2, 4, 1, 1, 1, 2, 1, 2, 1, 1, 1, 3, 1, 1, 2, 1, 2, 1, 2, 1, 1, 2, 3, 1, 2, 1, 3, 3, 2, 2, 1, 1, 1, 2, 1, 1, 3, 1, 1, 4, 2, 1, 1, 1, 3, 3, 2, 2, 1, 1, 3, 2, 1, 2, 1, 1, 2, 1, 5, 1, 2, 1, 1, 1, 1, 2, 4, 1, 2, 4, 1, 1, 2, 1, 1, 2, 1, 4, 4, 4, 1, 1, 1, 1, 1, 1, 1, 1, 1, 1, 1, 2, 1, 1, 1, 1, 1, 1, 1, 1, 1, 1, 1, 1, 1, 1, 1, 1, 1, 1, 1, 1, 2, 1, 1, 2, 2, 2, 1, 3, 1, 2, 1, 2, 1, 1, 1, 1, 1, 1, 1, 1, 1, 1, 1, 2, 1, 1, 1, 1, 1, 1, 1, 1, 1, 1, 1, 1, 1, 2, 1, 1, 1, 1, 1, 1, 2, 1, 1, 1, 1, 1, 1, 1, 1, 1, 1, 1, 1, 1, 1, 1], \"sizemode\": \"area\", \"sizeref\": 0.0275, \"symbol\": \"circle\"}, \"mode\": \"markers\", \"name\": \"mortality rate\", \"showlegend\": true, \"type\": \"scattergl\", \"x\": [\"1977-12\", \"1982-10\", \"1983-03\", \"1986-02\", \"1989-12\", \"1990-01\", \"1990-03\", \"1990-09\", \"1991-01\", \"1991-09\", \"1991-10\", \"1992-06\", \"1992-12\", \"1994-12\", \"1995-10\", \"1996-06\", \"1997-02\", \"1998-03\", \"1999-12\", \"2001-12\", \"2002-05\", \"2002-10\", \"2003-02\", \"2003-06\", \"2003-08\", \"2004-01\", \"2004-03\", \"2004-04\", \"2004-05\", \"2004-12\", \"2005-01\", \"2005-03\", \"2005-04\", \"2005-06\", \"2005-08\", \"2005-10\", \"2005-12\", \"2006-01\", \"2006-02\", \"2006-03\", \"2006-05\", \"2006-08\", \"2006-09\", \"2006-12\", \"2007-01\", \"2007-09\", \"2007-10\", \"2008-01\", \"2008-03\", \"2008-05\", \"2008-06\", \"2008-07\", \"2008-09\", \"2008-12\", \"2009-01\", \"2009-04\", \"2009-06\", \"2009-10\", \"2009-11\", \"2009-12\", \"2010-02\", \"2010-03\", \"2010-04\", \"2010-05\", \"2010-06\", \"2010-07\", \"2010-10\", \"2010-12\", \"2011-01\", \"2011-04\", \"2011-05\", \"2011-07\", \"2011-08\", \"2011-09\", \"2011-10\", \"2011-11\", \"2012-01\", \"2012-04\", \"2012-05\", \"2012-06\", \"2012-08\", \"2012-09\", \"2012-10\", \"2012-11\", \"2012-12\", \"2013-04\", \"2013-06\", \"2013-08\", \"2013-09\", \"2013-11\", \"2013-12\", \"2014-01\", \"2014-03\", \"2014-04\", \"2014-05\", \"2014-06\", \"2014-07\", \"2014-08\", \"2014-09\", \"2014-10\", \"2014-11\", \"2014-12\", \"2015-02\", \"2015-03\", \"2015-04\", \"2015-05\", \"2015-06\", \"2015-07\", \"2015-09\", \"2015-10\", \"2015-12\", \"2016-02\", \"2016-03\", \"2016-04\", \"2016-05\", \"2016-06\", \"2016-07\", \"2016-09\", \"2016-10\", \"2016-11\", \"2016-12\", \"2017-01\", \"2017-02\", \"2017-03\", \"2017-04\", \"2017-05\", \"2017-06\", \"2017-08\", \"2017-09\", \"2017-10\", \"2017-11\", \"2017-12\", \"2018-01\", \"2018-04\", \"2018-05\", \"2018-06\", \"2018-07\", \"2018-08\", \"2018-09\", \"2018-10\", \"2018-11\", \"2018-12\", \"2019-01\", \"2019-02\", \"2019-03\", \"2019-04\", \"2019-05\", \"2019-06\", \"2019-07\", \"2019-08\", \"2019-09\", \"2019-10\", \"2019-11\", \"2019-12\", \"2020-01\", \"2020-02\", \"2020-03\", \"1986-02\", \"1987-06\", \"1990-06\", \"1991-06\", \"1992-10\", \"1992-11\", \"1992-12\", \"1993-06\", \"1995-01\", \"1997-03\", \"1997-05\", \"1998-04\", \"1998-12\", \"2000-05\", \"2001-12\", \"2002-12\", \"2003-06\", \"2003-11\", \"2004-06\", \"2004-08\", \"2004-09\", \"2004-11\", \"2005-04\", \"2005-09\", \"2005-10\", \"2006-01\", \"2006-05\", \"2006-07\", \"2007-09\", \"2007-10\", \"2007-12\", \"2008-01\", \"2008-05\", \"2008-08\", \"2008-09\", \"2008-10\", \"2008-12\", \"2009-04\", \"2009-06\", \"2009-08\", \"2009-09\", \"2009-12\", \"2010-02\", \"2010-03\", \"2010-06\", \"2010-08\", \"2010-10\", \"2011-06\", \"2011-08\", \"2011-09\", \"2011-10\", \"2011-11\", \"2011-12\", \"2012-03\", \"2012-04\", \"2012-10\", \"2012-12\", \"2013-01\", \"2013-02\", \"2013-05\", \"2013-07\", \"2013-08\", \"2013-09\", \"2013-10\", \"2013-11\", \"2014-01\", \"2014-03\", \"2014-04\", \"2014-08\", \"2014-10\", \"2014-11\", \"2014-12\", \"2015-01\", \"2015-03\", \"2015-04\", \"2015-05\", \"2015-06\", \"2015-07\", \"2015-08\", \"2015-10\", \"2015-11\", \"2015-12\", \"2016-01\", \"2016-03\", \"2016-04\", \"2016-07\", \"2016-09\", \"2016-10\", \"2016-11\", \"2016-12\", \"2017-05\", \"2017-07\", \"2017-11\", \"2017-12\", \"2018-01\", \"2018-02\", \"2018-04\", \"2018-05\", \"2018-07\", \"2018-09\", \"2018-11\", \"2018-12\", \"2019-01\", \"2019-02\", \"2019-03\", \"2019-04\", \"2019-05\", \"2019-06\", \"2019-07\", \"2019-08\", \"2019-10\", \"2019-11\", \"2019-12\", \"2020-02\", \"2020-03\", \"2020-12\", \"1987-05\", \"1989-06\", \"1989-07\", \"1993-12\", \"1995-05\", \"2002-12\", \"2004-06\", \"2004-09\", \"2005-06\", \"2006-01\", \"2006-12\", \"2007-06\", \"2009-04\", \"2010-12\", \"2011-06\", \"2011-08\", \"2012-01\", \"2012-02\", \"2012-06\", \"2013-01\", \"2013-03\", \"2013-04\", \"2013-05\", \"2014-10\", \"2014-12\", \"2015-08\", \"2015-09\", \"2015-11\", \"2015-12\", \"2017-04\", \"2017-06\", \"2017-08\", \"2017-11\", \"2017-12\", \"2018-04\", \"2018-05\", \"2018-06\", \"2018-08\", \"2018-11\", \"2019-06\", \"2020-01\", \"2020-02\", \"2020-03\", \"1987-09\", \"1990-06\", \"1999-01\", \"2003-11\", \"2005-04\", \"2006-09\", \"2007-01\", \"2007-03\", \"2007-12\", \"2008-12\", \"2009-05\", \"2009-12\", \"2011-01\", \"2011-03\", \"2011-05\", \"2011-09\", \"2011-12\", \"2012-02\", \"2013-06\", \"2013-12\", \"2014-01\", \"2014-12\", \"2015-06\", \"2016-02\", \"2016-04\", \"2016-12\", \"2017-03\", \"2018-04\", \"2018-10\", \"2018-11\", \"2019-05\", \"2019-06\", \"2019-08\", \"2019-10\", \"2019-11\", \"2020-01\", \"1985-12\", \"2007-09\", \"2010-03\", \"2010-09\", \"2012-11\", \"2014-08\", \"2016-07\", \"2019-01\", \"2019-03\", \"2019-05\", \"2019-10\", \"2020-02\"], \"xaxis\": \"x\", \"y\": [\"Phase 1\", \"Phase 1\", \"Phase 1\", \"Phase 1\", \"Phase 1\", \"Phase 1\", \"Phase 1\", \"Phase 1\", \"Phase 1\", \"Phase 1\", \"Phase 1\", \"Phase 1\", \"Phase 1\", \"Phase 1\", \"Phase 1\", \"Phase 1\", \"Phase 1\", \"Phase 1\", \"Phase 1\", \"Phase 1\", \"Phase 1\", \"Phase 1\", \"Phase 1\", \"Phase 1\", \"Phase 1\", \"Phase 1\", \"Phase 1\", \"Phase 1\", \"Phase 1\", \"Phase 1\", \"Phase 1\", \"Phase 1\", \"Phase 1\", \"Phase 1\", \"Phase 1\", \"Phase 1\", \"Phase 1\", \"Phase 1\", \"Phase 1\", \"Phase 1\", \"Phase 1\", \"Phase 1\", \"Phase 1\", \"Phase 1\", \"Phase 1\", \"Phase 1\", \"Phase 1\", \"Phase 1\", \"Phase 1\", \"Phase 1\", \"Phase 1\", \"Phase 1\", \"Phase 1\", \"Phase 1\", \"Phase 1\", \"Phase 1\", \"Phase 1\", \"Phase 1\", \"Phase 1\", \"Phase 1\", \"Phase 1\", \"Phase 1\", \"Phase 1\", \"Phase 1\", \"Phase 1\", \"Phase 1\", \"Phase 1\", \"Phase 1\", \"Phase 1\", \"Phase 1\", \"Phase 1\", \"Phase 1\", \"Phase 1\", \"Phase 1\", \"Phase 1\", \"Phase 1\", \"Phase 1\", \"Phase 1\", \"Phase 1\", \"Phase 1\", \"Phase 1\", \"Phase 1\", \"Phase 1\", \"Phase 1\", \"Phase 1\", \"Phase 1\", \"Phase 1\", \"Phase 1\", \"Phase 1\", \"Phase 1\", \"Phase 1\", \"Phase 1\", \"Phase 1\", \"Phase 1\", \"Phase 1\", \"Phase 1\", \"Phase 1\", \"Phase 1\", \"Phase 1\", \"Phase 1\", \"Phase 1\", \"Phase 1\", \"Phase 1\", \"Phase 1\", \"Phase 1\", \"Phase 1\", \"Phase 1\", \"Phase 1\", \"Phase 1\", \"Phase 1\", \"Phase 1\", \"Phase 1\", \"Phase 1\", \"Phase 1\", \"Phase 1\", \"Phase 1\", \"Phase 1\", \"Phase 1\", \"Phase 1\", \"Phase 1\", \"Phase 1\", \"Phase 1\", \"Phase 1\", \"Phase 1\", \"Phase 1\", \"Phase 1\", \"Phase 1\", \"Phase 1\", \"Phase 1\", \"Phase 1\", \"Phase 1\", \"Phase 1\", \"Phase 1\", \"Phase 1\", \"Phase 1\", \"Phase 1\", \"Phase 1\", \"Phase 1\", \"Phase 1\", \"Phase 1\", \"Phase 1\", \"Phase 1\", \"Phase 1\", \"Phase 1\", \"Phase 1\", \"Phase 1\", \"Phase 1\", \"Phase 1\", \"Phase 1\", \"Phase 1\", \"Phase 1\", \"Phase 1\", \"Phase 1\", \"Phase 1\", \"Phase 1\", \"Phase 1\", \"Phase 1\", \"Phase 2\", \"Phase 2\", \"Phase 2\", \"Phase 2\", \"Phase 2\", \"Phase 2\", \"Phase 2\", \"Phase 2\", \"Phase 2\", \"Phase 2\", \"Phase 2\", \"Phase 2\", \"Phase 2\", \"Phase 2\", \"Phase 2\", \"Phase 2\", \"Phase 2\", \"Phase 2\", \"Phase 2\", \"Phase 2\", \"Phase 2\", \"Phase 2\", \"Phase 2\", \"Phase 2\", \"Phase 2\", \"Phase 2\", \"Phase 2\", \"Phase 2\", \"Phase 2\", \"Phase 2\", \"Phase 2\", \"Phase 2\", \"Phase 2\", \"Phase 2\", \"Phase 2\", \"Phase 2\", \"Phase 2\", \"Phase 2\", \"Phase 2\", \"Phase 2\", \"Phase 2\", \"Phase 2\", \"Phase 2\", \"Phase 2\", \"Phase 2\", \"Phase 2\", \"Phase 2\", \"Phase 2\", \"Phase 2\", \"Phase 2\", \"Phase 2\", \"Phase 2\", \"Phase 2\", \"Phase 2\", \"Phase 2\", \"Phase 2\", \"Phase 2\", \"Phase 2\", \"Phase 2\", \"Phase 2\", \"Phase 2\", \"Phase 2\", \"Phase 2\", \"Phase 2\", \"Phase 2\", \"Phase 2\", \"Phase 2\", \"Phase 2\", \"Phase 2\", \"Phase 2\", \"Phase 2\", \"Phase 2\", \"Phase 2\", \"Phase 2\", \"Phase 2\", \"Phase 2\", \"Phase 2\", \"Phase 2\", \"Phase 2\", \"Phase 2\", \"Phase 2\", \"Phase 2\", \"Phase 2\", \"Phase 2\", \"Phase 2\", \"Phase 2\", \"Phase 2\", \"Phase 2\", \"Phase 2\", \"Phase 2\", \"Phase 2\", \"Phase 2\", \"Phase 2\", \"Phase 2\", \"Phase 2\", \"Phase 2\", \"Phase 2\", \"Phase 2\", \"Phase 2\", \"Phase 2\", \"Phase 2\", \"Phase 2\", \"Phase 2\", \"Phase 2\", \"Phase 2\", \"Phase 2\", \"Phase 2\", \"Phase 2\", \"Phase 2\", \"Phase 2\", \"Phase 2\", \"Phase 2\", \"Phase 2\", \"Phase 2\", \"Phase 2\", \"Phase 2\", \"Phase 3\", \"Phase 3\", \"Phase 3\", \"Phase 3\", \"Phase 3\", \"Phase 3\", \"Phase 3\", \"Phase 3\", \"Phase 3\", \"Phase 3\", \"Phase 3\", \"Phase 3\", \"Phase 3\", \"Phase 3\", \"Phase 3\", \"Phase 3\", \"Phase 3\", \"Phase 3\", \"Phase 3\", \"Phase 3\", \"Phase 3\", \"Phase 3\", \"Phase 3\", \"Phase 3\", \"Phase 3\", \"Phase 3\", \"Phase 3\", \"Phase 3\", \"Phase 3\", \"Phase 3\", \"Phase 3\", \"Phase 3\", \"Phase 3\", \"Phase 3\", \"Phase 3\", \"Phase 3\", \"Phase 3\", \"Phase 3\", \"Phase 3\", \"Phase 3\", \"Phase 3\", \"Phase 3\", \"Phase 3\", \"Phase 4\", \"Phase 4\", \"Phase 4\", \"Phase 4\", \"Phase 4\", \"Phase 4\", \"Phase 4\", \"Phase 4\", \"Phase 4\", \"Phase 4\", \"Phase 4\", \"Phase 4\", \"Phase 4\", \"Phase 4\", \"Phase 4\", \"Phase 4\", \"Phase 4\", \"Phase 4\", \"Phase 4\", \"Phase 4\", \"Phase 4\", \"Phase 4\", \"Phase 4\", \"Phase 4\", \"Phase 4\", \"Phase 4\", \"Phase 4\", \"Phase 4\", \"Phase 4\", \"Phase 4\", \"Phase 4\", \"Phase 4\", \"Phase 4\", \"Phase 4\", \"Phase 4\", \"Phase 4\", \"Phase 5\", \"Phase 5\", \"Phase 5\", \"Phase 5\", \"Phase 5\", \"Phase 5\", \"Phase 5\", \"Phase 5\", \"Phase 5\", \"Phase 5\", \"Phase 5\", \"Phase 5\"], \"yaxis\": \"y\"}, {\"customdata\": [[1], [1], [1], [1], [1], [1], [1], [1], [1], [1], [1], [1], [1], [1], [1], [1], [1], [1], [1], [1], [2], [1], [1], [1], [1], [1], [1], [1], [1], [1], [1], [1], [1], [1], [1], [2], [1], [1], [1], [1], [2], [1], [1], [1], [1], [1], [4], [1], [1], [4], [1], [1], [1], [1], [1], [2], [1], [6], [4], [1], [2], [1], [1], [2], [1], [2], [1], [1], [3], [1], [1], [3], [2], [1], [3], [2], [1], [2], [1], [1], [1], [4], [2], [1], [1], [4], [1], [2], [3], [3], [2], [1], [3], [3], [1], [2], [3], [1], [1], [1], [1], [2], [4], [1], [4], [1], [1], [4], [6], [2], [2], [3], [2], [2], [1], [3], [5], [6], [2], [3], [2], [2], [1], [1], [3], [1], [1], [2], [2], [3], [3], [1], [2], [3], [3], [5], [3], [1], [1], [5], [1], [2], [2], [2], [2], [1], [4], [3], [2], [2], [5], [2], [5], [7], [2], [1], [1], [1], [1], [1], [1], [1], [1], [1], [1], [1], [1], [1], [1], [1], [1], [1], [1], [1], [2], [1], [1], [1], [1], [1], [1], [1], [1], [1], [1], [2], [1], [1], [1], [1], [1], [2], [1], [1], [2], [1], [2], [1], [2], [1], [1], [2], [1], [2], [1], [1], [1], [1], [2], [1], [1], [1], [2], [2], [1], [1], [2], [1], [1], [1], [1], [2], [1], [1], [1], [2], [1], [2], [2], [1], [1], [1], [1], [2], [2], [3], [2], [1], [1], [2], [2], [3], [1], [1], [3], [1], [1], [1], [3], [2], [3], [2], [1], [1], [1], [1], [2], [4], [1], [2], [1], [2], [2], [3], [1], [2], [1], [1], [2], [3], [4], [2], [2], [1], [1], [1], [1], [1], [1], [1], [1], [1], [1], [1], [3], [1], [1], [1], [1], [1], [1], [1], [1], [1], [1], [1], [1], [1], [1], [2], [1], [1], [1], [1], [1], [1], [1], [2], [1], [1], [1], [1], [1], [1], [1], [1], [1], [1], [1], [1], [1], [1], [2], [2], [1], [1], [1], [1], [1], [1], [1], [1], [1], [1], [1], [1], [1], [1], [1], [1], [1], [1], [1], [1], [1], [1], [1], [1], [1], [1], [1], [1], [1], [1], [1], [1], [1], [1], [1], [1], [1], [1], [1], [1], [1], [1], [1]], \"hoverlabel\": {\"namelength\": 0}, \"hovertemplate\": \"<b>%{hovertext}</b><br><br>tag=vaccine<br>publish_time=%{x}<br>phase=%{y}<br>count=%{customdata[0]}\", \"hovertext\": [\"vaccine\", \"vaccine\", \"vaccine\", \"vaccine\", \"vaccine\", \"vaccine\", \"vaccine\", \"vaccine\", \"vaccine\", \"vaccine\", \"vaccine\", \"vaccine\", \"vaccine\", \"vaccine\", \"vaccine\", \"vaccine\", \"vaccine\", \"vaccine\", \"vaccine\", \"vaccine\", \"vaccine\", \"vaccine\", \"vaccine\", \"vaccine\", \"vaccine\", \"vaccine\", \"vaccine\", \"vaccine\", \"vaccine\", \"vaccine\", \"vaccine\", \"vaccine\", \"vaccine\", \"vaccine\", \"vaccine\", \"vaccine\", \"vaccine\", \"vaccine\", \"vaccine\", \"vaccine\", \"vaccine\", \"vaccine\", \"vaccine\", \"vaccine\", \"vaccine\", \"vaccine\", \"vaccine\", \"vaccine\", \"vaccine\", \"vaccine\", \"vaccine\", \"vaccine\", \"vaccine\", \"vaccine\", \"vaccine\", \"vaccine\", \"vaccine\", \"vaccine\", \"vaccine\", \"vaccine\", \"vaccine\", \"vaccine\", \"vaccine\", \"vaccine\", \"vaccine\", \"vaccine\", \"vaccine\", \"vaccine\", \"vaccine\", \"vaccine\", \"vaccine\", \"vaccine\", \"vaccine\", \"vaccine\", \"vaccine\", \"vaccine\", \"vaccine\", \"vaccine\", \"vaccine\", \"vaccine\", \"vaccine\", \"vaccine\", \"vaccine\", \"vaccine\", \"vaccine\", \"vaccine\", \"vaccine\", \"vaccine\", \"vaccine\", \"vaccine\", \"vaccine\", \"vaccine\", \"vaccine\", \"vaccine\", \"vaccine\", \"vaccine\", \"vaccine\", \"vaccine\", \"vaccine\", \"vaccine\", \"vaccine\", \"vaccine\", \"vaccine\", \"vaccine\", \"vaccine\", \"vaccine\", \"vaccine\", \"vaccine\", \"vaccine\", \"vaccine\", \"vaccine\", \"vaccine\", \"vaccine\", \"vaccine\", \"vaccine\", \"vaccine\", \"vaccine\", \"vaccine\", \"vaccine\", \"vaccine\", \"vaccine\", \"vaccine\", \"vaccine\", \"vaccine\", \"vaccine\", \"vaccine\", \"vaccine\", \"vaccine\", \"vaccine\", \"vaccine\", \"vaccine\", \"vaccine\", \"vaccine\", \"vaccine\", \"vaccine\", \"vaccine\", \"vaccine\", \"vaccine\", \"vaccine\", \"vaccine\", \"vaccine\", \"vaccine\", \"vaccine\", \"vaccine\", \"vaccine\", \"vaccine\", \"vaccine\", \"vaccine\", \"vaccine\", \"vaccine\", \"vaccine\", \"vaccine\", \"vaccine\", \"vaccine\", \"vaccine\", \"vaccine\", \"vaccine\", \"vaccine\", \"vaccine\", \"vaccine\", \"vaccine\", \"vaccine\", \"vaccine\", \"vaccine\", \"vaccine\", \"vaccine\", \"vaccine\", \"vaccine\", \"vaccine\", \"vaccine\", \"vaccine\", \"vaccine\", \"vaccine\", \"vaccine\", \"vaccine\", \"vaccine\", \"vaccine\", \"vaccine\", \"vaccine\", \"vaccine\", \"vaccine\", \"vaccine\", \"vaccine\", \"vaccine\", \"vaccine\", \"vaccine\", \"vaccine\", \"vaccine\", \"vaccine\", \"vaccine\", \"vaccine\", \"vaccine\", \"vaccine\", \"vaccine\", \"vaccine\", \"vaccine\", \"vaccine\", \"vaccine\", \"vaccine\", \"vaccine\", \"vaccine\", \"vaccine\", \"vaccine\", \"vaccine\", \"vaccine\", \"vaccine\", \"vaccine\", \"vaccine\", \"vaccine\", \"vaccine\", \"vaccine\", \"vaccine\", \"vaccine\", \"vaccine\", \"vaccine\", \"vaccine\", \"vaccine\", \"vaccine\", \"vaccine\", \"vaccine\", \"vaccine\", \"vaccine\", \"vaccine\", \"vaccine\", \"vaccine\", \"vaccine\", \"vaccine\", \"vaccine\", \"vaccine\", \"vaccine\", \"vaccine\", \"vaccine\", \"vaccine\", \"vaccine\", \"vaccine\", \"vaccine\", \"vaccine\", \"vaccine\", \"vaccine\", \"vaccine\", \"vaccine\", \"vaccine\", \"vaccine\", \"vaccine\", \"vaccine\", \"vaccine\", \"vaccine\", \"vaccine\", \"vaccine\", \"vaccine\", \"vaccine\", \"vaccine\", \"vaccine\", \"vaccine\", \"vaccine\", \"vaccine\", \"vaccine\", \"vaccine\", \"vaccine\", \"vaccine\", \"vaccine\", \"vaccine\", \"vaccine\", \"vaccine\", \"vaccine\", \"vaccine\", \"vaccine\", \"vaccine\", \"vaccine\", \"vaccine\", \"vaccine\", \"vaccine\", \"vaccine\", \"vaccine\", \"vaccine\", \"vaccine\", \"vaccine\", \"vaccine\", \"vaccine\", \"vaccine\", \"vaccine\", \"vaccine\", \"vaccine\", \"vaccine\", \"vaccine\", \"vaccine\", \"vaccine\", \"vaccine\", \"vaccine\", \"vaccine\", \"vaccine\", \"vaccine\", \"vaccine\", \"vaccine\", \"vaccine\", \"vaccine\", \"vaccine\", \"vaccine\", \"vaccine\", \"vaccine\", \"vaccine\", \"vaccine\", \"vaccine\", \"vaccine\", \"vaccine\", \"vaccine\", \"vaccine\", \"vaccine\", \"vaccine\", \"vaccine\", \"vaccine\", \"vaccine\", \"vaccine\", \"vaccine\", \"vaccine\", \"vaccine\", \"vaccine\", \"vaccine\", \"vaccine\", \"vaccine\", \"vaccine\", \"vaccine\", \"vaccine\", \"vaccine\", \"vaccine\", \"vaccine\", \"vaccine\", \"vaccine\", \"vaccine\", \"vaccine\", \"vaccine\", \"vaccine\", \"vaccine\", \"vaccine\", \"vaccine\", \"vaccine\", \"vaccine\", \"vaccine\", \"vaccine\", \"vaccine\", \"vaccine\", \"vaccine\", \"vaccine\", \"vaccine\", \"vaccine\", \"vaccine\", \"vaccine\", \"vaccine\", \"vaccine\", \"vaccine\", \"vaccine\", \"vaccine\", \"vaccine\", \"vaccine\", \"vaccine\", \"vaccine\", \"vaccine\", \"vaccine\", \"vaccine\", \"vaccine\", \"vaccine\", \"vaccine\", \"vaccine\", \"vaccine\", \"vaccine\", \"vaccine\", \"vaccine\"], \"legendgroup\": \"vaccine\", \"marker\": {\"color\": \"#FFA15A\", \"size\": [1, 1, 1, 1, 1, 1, 1, 1, 1, 1, 1, 1, 1, 1, 1, 1, 1, 1, 1, 1, 2, 1, 1, 1, 1, 1, 1, 1, 1, 1, 1, 1, 1, 1, 1, 2, 1, 1, 1, 1, 2, 1, 1, 1, 1, 1, 4, 1, 1, 4, 1, 1, 1, 1, 1, 2, 1, 6, 4, 1, 2, 1, 1, 2, 1, 2, 1, 1, 3, 1, 1, 3, 2, 1, 3, 2, 1, 2, 1, 1, 1, 4, 2, 1, 1, 4, 1, 2, 3, 3, 2, 1, 3, 3, 1, 2, 3, 1, 1, 1, 1, 2, 4, 1, 4, 1, 1, 4, 6, 2, 2, 3, 2, 2, 1, 3, 5, 6, 2, 3, 2, 2, 1, 1, 3, 1, 1, 2, 2, 3, 3, 1, 2, 3, 3, 5, 3, 1, 1, 5, 1, 2, 2, 2, 2, 1, 4, 3, 2, 2, 5, 2, 5, 7, 2, 1, 1, 1, 1, 1, 1, 1, 1, 1, 1, 1, 1, 1, 1, 1, 1, 1, 1, 1, 2, 1, 1, 1, 1, 1, 1, 1, 1, 1, 1, 2, 1, 1, 1, 1, 1, 2, 1, 1, 2, 1, 2, 1, 2, 1, 1, 2, 1, 2, 1, 1, 1, 1, 2, 1, 1, 1, 2, 2, 1, 1, 2, 1, 1, 1, 1, 2, 1, 1, 1, 2, 1, 2, 2, 1, 1, 1, 1, 2, 2, 3, 2, 1, 1, 2, 2, 3, 1, 1, 3, 1, 1, 1, 3, 2, 3, 2, 1, 1, 1, 1, 2, 4, 1, 2, 1, 2, 2, 3, 1, 2, 1, 1, 2, 3, 4, 2, 2, 1, 1, 1, 1, 1, 1, 1, 1, 1, 1, 1, 3, 1, 1, 1, 1, 1, 1, 1, 1, 1, 1, 1, 1, 1, 1, 2, 1, 1, 1, 1, 1, 1, 1, 2, 1, 1, 1, 1, 1, 1, 1, 1, 1, 1, 1, 1, 1, 1, 2, 2, 1, 1, 1, 1, 1, 1, 1, 1, 1, 1, 1, 1, 1, 1, 1, 1, 1, 1, 1, 1, 1, 1, 1, 1, 1, 1, 1, 1, 1, 1, 1, 1, 1, 1, 1, 1, 1, 1, 1, 1, 1, 1, 1], \"sizemode\": \"area\", \"sizeref\": 0.0275, \"symbol\": \"circle\"}, \"mode\": \"markers\", \"name\": \"vaccine\", \"showlegend\": true, \"type\": \"scattergl\", \"x\": [\"1977-07\", \"1983-12\", \"1984-12\", \"1985-12\", \"1986-08\", \"1987-09\", \"1988-05\", \"1988-12\", \"1989-09\", \"1990-07\", \"1991-01\", \"1993-06\", \"1993-07\", \"1993-10\", \"1995-11\", \"1995-12\", \"1996-08\", \"1997-04\", \"1997-11\", \"1997-12\", \"1998-12\", \"2000-07\", \"2001-07\", \"2002-05\", \"2003-04\", \"2003-06\", \"2003-08\", \"2003-11\", \"2004-01\", \"2004-02\", \"2004-06\", \"2004-07\", \"2004-09\", \"2005-01\", \"2005-03\", \"2005-06\", \"2005-07\", \"2005-08\", \"2005-09\", \"2005-10\", \"2005-11\", \"2005-12\", \"2006-07\", \"2006-08\", \"2006-10\", \"2006-11\", \"2006-12\", \"2007-01\", \"2007-02\", \"2007-05\", \"2007-07\", \"2007-10\", \"2007-12\", \"2008-03\", \"2008-04\", \"2008-05\", \"2008-08\", \"2008-12\", \"2009-01\", \"2009-02\", \"2009-03\", \"2009-05\", \"2009-06\", \"2009-12\", \"2010-01\", \"2010-03\", \"2010-05\", \"2010-06\", \"2010-09\", \"2010-10\", \"2010-12\", \"2011-01\", \"2011-02\", \"2011-03\", \"2011-04\", \"2011-05\", \"2011-06\", \"2011-07\", \"2011-08\", \"2011-10\", \"2011-11\", \"2011-12\", \"2012-01\", \"2012-04\", \"2012-08\", \"2012-12\", \"2013-01\", \"2013-03\", \"2013-04\", \"2013-06\", \"2013-07\", \"2013-08\", \"2013-09\", \"2013-10\", \"2013-11\", \"2013-12\", \"2014-01\", \"2014-02\", \"2014-04\", \"2014-05\", \"2014-06\", \"2014-07\", \"2014-12\", \"2015-01\", \"2015-02\", \"2015-03\", \"2015-04\", \"2015-05\", \"2015-09\", \"2015-10\", \"2015-11\", \"2015-12\", \"2016-02\", \"2016-03\", \"2016-05\", \"2016-06\", \"2016-07\", \"2016-08\", \"2016-12\", \"2017-01\", \"2017-02\", \"2017-03\", \"2017-06\", \"2017-08\", \"2017-09\", \"2017-10\", \"2017-11\", \"2017-12\", \"2018-01\", \"2018-02\", \"2018-03\", \"2018-04\", \"2018-05\", \"2018-06\", \"2018-07\", \"2018-08\", \"2018-09\", \"2018-10\", \"2018-11\", \"2018-12\", \"2019-01\", \"2019-02\", \"2019-03\", \"2019-04\", \"2019-05\", \"2019-06\", \"2019-07\", \"2019-08\", \"2019-09\", \"2019-11\", \"2019-12\", \"2020-01\", \"2020-02\", \"2020-03\", \"2020-05\", \"2020-11\", \"1979-12\", \"1980-12\", \"1981-12\", \"1986-09\", \"1987-12\", \"1988-08\", \"1989-12\", \"1996-04\", \"1998-10\", \"1999-06\", \"2003-09\", \"2003-12\", \"2004-01\", \"2004-06\", \"2004-10\", \"2005-01\", \"2005-04\", \"2005-05\", \"2005-08\", \"2005-12\", \"2006-03\", \"2006-07\", \"2007-04\", \"2007-07\", \"2007-08\", \"2007-11\", \"2007-12\", \"2008-02\", \"2008-04\", \"2008-05\", \"2008-07\", \"2008-08\", \"2008-11\", \"2008-12\", \"2009-01\", \"2009-03\", \"2009-07\", \"2009-08\", \"2009-09\", \"2009-12\", \"2010-03\", \"2010-05\", \"2010-06\", \"2010-07\", \"2010-10\", \"2010-11\", \"2010-12\", \"2011-01\", \"2011-02\", \"2011-04\", \"2011-07\", \"2011-11\", \"2011-12\", \"2012-02\", \"2012-03\", \"2012-05\", \"2012-07\", \"2012-12\", \"2013-02\", \"2013-05\", \"2013-06\", \"2013-08\", \"2013-10\", \"2013-12\", \"2014-01\", \"2014-03\", \"2014-05\", \"2014-06\", \"2014-08\", \"2014-10\", \"2014-11\", \"2014-12\", \"2015-01\", \"2015-03\", \"2015-04\", \"2015-05\", \"2015-07\", \"2015-10\", \"2015-11\", \"2015-12\", \"2016-02\", \"2016-05\", \"2016-07\", \"2016-08\", \"2016-11\", \"2016-12\", \"2017-01\", \"2017-02\", \"2017-03\", \"2017-04\", \"2017-07\", \"2017-08\", \"2017-09\", \"2017-10\", \"2017-12\", \"2018-01\", \"2018-03\", \"2018-05\", \"2018-07\", \"2018-09\", \"2018-11\", \"2018-12\", \"2019-01\", \"2019-02\", \"2019-03\", \"2019-04\", \"2019-06\", \"2019-07\", \"2019-08\", \"2019-09\", \"2019-11\", \"2019-12\", \"2020-01\", \"2020-02\", \"2020-03\", \"2020-04\", \"2020-12\", \"1982-12\", \"1985-12\", \"1989-06\", \"1992-06\", \"1998-10\", \"2004-03\", \"2005-12\", \"2006-08\", \"2006-12\", \"2008-03\", \"2008-10\", \"2008-12\", \"2009-09\", \"2009-12\", \"2010-01\", \"2010-06\", \"2011-05\", \"2011-06\", \"2011-12\", \"2012-01\", \"2012-03\", \"2012-07\", \"2014-05\", \"2014-07\", \"2015-01\", \"2015-04\", \"2015-12\", \"2016-02\", \"2016-04\", \"2016-12\", \"2017-04\", \"2017-05\", \"2017-11\", \"2017-12\", \"2018-06\", \"2018-09\", \"2018-11\", \"2019-02\", \"2019-07\", \"2019-09\", \"2020-01\", \"1989-02\", \"1994-06\", \"2001-07\", \"2001-12\", \"2003-09\", \"2004-01\", \"2004-11\", \"2006-05\", \"2006-08\", \"2006-12\", \"2007-09\", \"2007-12\", \"2009-01\", \"2009-12\", \"2011-05\", \"2012-02\", \"2012-05\", \"2012-12\", \"2013-08\", \"2013-10\", \"2014-07\", \"2014-12\", \"2015-01\", \"2015-07\", \"2016-07\", \"2017-01\", \"2017-08\", \"2017-10\", \"2017-12\", \"2018-01\", \"2018-03\", \"2018-12\", \"2019-12\", \"2020-01\", \"1992-04\", \"1992-05\", \"2005-03\", \"2006-06\", \"2006-09\", \"2008-11\", \"2012-02\", \"2012-12\", \"2013-06\", \"2015-05\", \"2015-08\", \"2016-09\", \"2017-03\", \"2017-11\", \"2017-12\", \"2018-02\", \"2018-05\", \"2019-12\", \"2020-02\"], \"xaxis\": \"x\", \"y\": [\"Phase 1\", \"Phase 1\", \"Phase 1\", \"Phase 1\", \"Phase 1\", \"Phase 1\", \"Phase 1\", \"Phase 1\", \"Phase 1\", \"Phase 1\", \"Phase 1\", \"Phase 1\", \"Phase 1\", \"Phase 1\", \"Phase 1\", \"Phase 1\", \"Phase 1\", \"Phase 1\", \"Phase 1\", \"Phase 1\", \"Phase 1\", \"Phase 1\", \"Phase 1\", \"Phase 1\", \"Phase 1\", \"Phase 1\", \"Phase 1\", \"Phase 1\", \"Phase 1\", \"Phase 1\", \"Phase 1\", \"Phase 1\", \"Phase 1\", \"Phase 1\", \"Phase 1\", \"Phase 1\", \"Phase 1\", \"Phase 1\", \"Phase 1\", \"Phase 1\", \"Phase 1\", \"Phase 1\", \"Phase 1\", \"Phase 1\", \"Phase 1\", \"Phase 1\", \"Phase 1\", \"Phase 1\", \"Phase 1\", \"Phase 1\", \"Phase 1\", \"Phase 1\", \"Phase 1\", \"Phase 1\", \"Phase 1\", \"Phase 1\", \"Phase 1\", \"Phase 1\", \"Phase 1\", \"Phase 1\", \"Phase 1\", \"Phase 1\", \"Phase 1\", \"Phase 1\", \"Phase 1\", \"Phase 1\", \"Phase 1\", \"Phase 1\", \"Phase 1\", \"Phase 1\", \"Phase 1\", \"Phase 1\", \"Phase 1\", \"Phase 1\", \"Phase 1\", \"Phase 1\", \"Phase 1\", \"Phase 1\", \"Phase 1\", \"Phase 1\", \"Phase 1\", \"Phase 1\", \"Phase 1\", \"Phase 1\", \"Phase 1\", \"Phase 1\", \"Phase 1\", \"Phase 1\", \"Phase 1\", \"Phase 1\", \"Phase 1\", \"Phase 1\", \"Phase 1\", \"Phase 1\", \"Phase 1\", \"Phase 1\", \"Phase 1\", \"Phase 1\", \"Phase 1\", \"Phase 1\", \"Phase 1\", \"Phase 1\", \"Phase 1\", \"Phase 1\", \"Phase 1\", \"Phase 1\", \"Phase 1\", \"Phase 1\", \"Phase 1\", \"Phase 1\", \"Phase 1\", \"Phase 1\", \"Phase 1\", \"Phase 1\", \"Phase 1\", \"Phase 1\", \"Phase 1\", \"Phase 1\", \"Phase 1\", \"Phase 1\", \"Phase 1\", \"Phase 1\", \"Phase 1\", \"Phase 1\", \"Phase 1\", \"Phase 1\", \"Phase 1\", \"Phase 1\", \"Phase 1\", \"Phase 1\", \"Phase 1\", \"Phase 1\", \"Phase 1\", \"Phase 1\", \"Phase 1\", \"Phase 1\", \"Phase 1\", \"Phase 1\", \"Phase 1\", \"Phase 1\", \"Phase 1\", \"Phase 1\", \"Phase 1\", \"Phase 1\", \"Phase 1\", \"Phase 1\", \"Phase 1\", \"Phase 1\", \"Phase 1\", \"Phase 1\", \"Phase 1\", \"Phase 1\", \"Phase 1\", \"Phase 1\", \"Phase 1\", \"Phase 1\", \"Phase 2\", \"Phase 2\", \"Phase 2\", \"Phase 2\", \"Phase 2\", \"Phase 2\", \"Phase 2\", \"Phase 2\", \"Phase 2\", \"Phase 2\", \"Phase 2\", \"Phase 2\", \"Phase 2\", \"Phase 2\", \"Phase 2\", \"Phase 2\", \"Phase 2\", \"Phase 2\", \"Phase 2\", \"Phase 2\", \"Phase 2\", \"Phase 2\", \"Phase 2\", \"Phase 2\", \"Phase 2\", \"Phase 2\", \"Phase 2\", \"Phase 2\", \"Phase 2\", \"Phase 2\", \"Phase 2\", \"Phase 2\", \"Phase 2\", \"Phase 2\", \"Phase 2\", \"Phase 2\", \"Phase 2\", \"Phase 2\", \"Phase 2\", \"Phase 2\", \"Phase 2\", \"Phase 2\", \"Phase 2\", \"Phase 2\", \"Phase 2\", \"Phase 2\", \"Phase 2\", \"Phase 2\", \"Phase 2\", \"Phase 2\", \"Phase 2\", \"Phase 2\", \"Phase 2\", \"Phase 2\", \"Phase 2\", \"Phase 2\", \"Phase 2\", \"Phase 2\", \"Phase 2\", \"Phase 2\", \"Phase 2\", \"Phase 2\", \"Phase 2\", \"Phase 2\", \"Phase 2\", \"Phase 2\", \"Phase 2\", \"Phase 2\", \"Phase 2\", \"Phase 2\", \"Phase 2\", \"Phase 2\", \"Phase 2\", \"Phase 2\", \"Phase 2\", \"Phase 2\", \"Phase 2\", \"Phase 2\", \"Phase 2\", \"Phase 2\", \"Phase 2\", \"Phase 2\", \"Phase 2\", \"Phase 2\", \"Phase 2\", \"Phase 2\", \"Phase 2\", \"Phase 2\", \"Phase 2\", \"Phase 2\", \"Phase 2\", \"Phase 2\", \"Phase 2\", \"Phase 2\", \"Phase 2\", \"Phase 2\", \"Phase 2\", \"Phase 2\", \"Phase 2\", \"Phase 2\", \"Phase 2\", \"Phase 2\", \"Phase 2\", \"Phase 2\", \"Phase 2\", \"Phase 2\", \"Phase 2\", \"Phase 2\", \"Phase 2\", \"Phase 2\", \"Phase 2\", \"Phase 2\", \"Phase 2\", \"Phase 2\", \"Phase 2\", \"Phase 2\", \"Phase 2\", \"Phase 3\", \"Phase 3\", \"Phase 3\", \"Phase 3\", \"Phase 3\", \"Phase 3\", \"Phase 3\", \"Phase 3\", \"Phase 3\", \"Phase 3\", \"Phase 3\", \"Phase 3\", \"Phase 3\", \"Phase 3\", \"Phase 3\", \"Phase 3\", \"Phase 3\", \"Phase 3\", \"Phase 3\", \"Phase 3\", \"Phase 3\", \"Phase 3\", \"Phase 3\", \"Phase 3\", \"Phase 3\", \"Phase 3\", \"Phase 3\", \"Phase 3\", \"Phase 3\", \"Phase 3\", \"Phase 3\", \"Phase 3\", \"Phase 3\", \"Phase 3\", \"Phase 3\", \"Phase 3\", \"Phase 3\", \"Phase 3\", \"Phase 3\", \"Phase 3\", \"Phase 3\", \"Phase 4\", \"Phase 4\", \"Phase 4\", \"Phase 4\", \"Phase 4\", \"Phase 4\", \"Phase 4\", \"Phase 4\", \"Phase 4\", \"Phase 4\", \"Phase 4\", \"Phase 4\", \"Phase 4\", \"Phase 4\", \"Phase 4\", \"Phase 4\", \"Phase 4\", \"Phase 4\", \"Phase 4\", \"Phase 4\", \"Phase 4\", \"Phase 4\", \"Phase 4\", \"Phase 4\", \"Phase 4\", \"Phase 4\", \"Phase 4\", \"Phase 4\", \"Phase 4\", \"Phase 4\", \"Phase 4\", \"Phase 4\", \"Phase 4\", \"Phase 4\", \"Phase 5\", \"Phase 5\", \"Phase 5\", \"Phase 5\", \"Phase 5\", \"Phase 5\", \"Phase 5\", \"Phase 5\", \"Phase 5\", \"Phase 5\", \"Phase 5\", \"Phase 5\", \"Phase 5\", \"Phase 5\", \"Phase 5\", \"Phase 5\", \"Phase 5\", \"Phase 5\", \"Phase 5\"], \"yaxis\": \"y\"}],\n",
       "                        {\"legend\": {\"itemsizing\": \"constant\", \"title\": {\"text\": \"tag\"}, \"tracegroupgap\": 0}, \"template\": {\"data\": {\"bar\": [{\"error_x\": {\"color\": \"#2a3f5f\"}, \"error_y\": {\"color\": \"#2a3f5f\"}, \"marker\": {\"line\": {\"color\": \"#E5ECF6\", \"width\": 0.5}}, \"type\": \"bar\"}], \"barpolar\": [{\"marker\": {\"line\": {\"color\": \"#E5ECF6\", \"width\": 0.5}}, \"type\": \"barpolar\"}], \"carpet\": [{\"aaxis\": {\"endlinecolor\": \"#2a3f5f\", \"gridcolor\": \"white\", \"linecolor\": \"white\", \"minorgridcolor\": \"white\", \"startlinecolor\": \"#2a3f5f\"}, \"baxis\": {\"endlinecolor\": \"#2a3f5f\", \"gridcolor\": \"white\", \"linecolor\": \"white\", \"minorgridcolor\": \"white\", \"startlinecolor\": \"#2a3f5f\"}, \"type\": \"carpet\"}], \"choropleth\": [{\"colorbar\": {\"outlinewidth\": 0, \"ticks\": \"\"}, \"type\": \"choropleth\"}], \"contour\": [{\"colorbar\": {\"outlinewidth\": 0, \"ticks\": \"\"}, \"colorscale\": [[0.0, \"#0d0887\"], [0.1111111111111111, \"#46039f\"], [0.2222222222222222, \"#7201a8\"], [0.3333333333333333, \"#9c179e\"], [0.4444444444444444, \"#bd3786\"], [0.5555555555555556, \"#d8576b\"], [0.6666666666666666, \"#ed7953\"], [0.7777777777777778, \"#fb9f3a\"], [0.8888888888888888, \"#fdca26\"], [1.0, \"#f0f921\"]], \"type\": \"contour\"}], \"contourcarpet\": [{\"colorbar\": {\"outlinewidth\": 0, \"ticks\": \"\"}, \"type\": \"contourcarpet\"}], \"heatmap\": [{\"colorbar\": {\"outlinewidth\": 0, \"ticks\": \"\"}, \"colorscale\": [[0.0, \"#0d0887\"], [0.1111111111111111, \"#46039f\"], [0.2222222222222222, \"#7201a8\"], [0.3333333333333333, \"#9c179e\"], [0.4444444444444444, \"#bd3786\"], [0.5555555555555556, \"#d8576b\"], [0.6666666666666666, \"#ed7953\"], [0.7777777777777778, \"#fb9f3a\"], [0.8888888888888888, \"#fdca26\"], [1.0, \"#f0f921\"]], \"type\": \"heatmap\"}], \"heatmapgl\": [{\"colorbar\": {\"outlinewidth\": 0, \"ticks\": \"\"}, \"colorscale\": [[0.0, \"#0d0887\"], [0.1111111111111111, \"#46039f\"], [0.2222222222222222, \"#7201a8\"], [0.3333333333333333, \"#9c179e\"], [0.4444444444444444, \"#bd3786\"], [0.5555555555555556, \"#d8576b\"], [0.6666666666666666, \"#ed7953\"], [0.7777777777777778, \"#fb9f3a\"], [0.8888888888888888, \"#fdca26\"], [1.0, \"#f0f921\"]], \"type\": \"heatmapgl\"}], \"histogram\": [{\"marker\": {\"colorbar\": {\"outlinewidth\": 0, \"ticks\": \"\"}}, \"type\": \"histogram\"}], \"histogram2d\": [{\"colorbar\": {\"outlinewidth\": 0, \"ticks\": \"\"}, \"colorscale\": [[0.0, \"#0d0887\"], [0.1111111111111111, \"#46039f\"], [0.2222222222222222, \"#7201a8\"], [0.3333333333333333, \"#9c179e\"], [0.4444444444444444, \"#bd3786\"], [0.5555555555555556, \"#d8576b\"], [0.6666666666666666, \"#ed7953\"], [0.7777777777777778, \"#fb9f3a\"], [0.8888888888888888, \"#fdca26\"], [1.0, \"#f0f921\"]], \"type\": \"histogram2d\"}], \"histogram2dcontour\": [{\"colorbar\": {\"outlinewidth\": 0, \"ticks\": \"\"}, \"colorscale\": [[0.0, \"#0d0887\"], [0.1111111111111111, \"#46039f\"], [0.2222222222222222, \"#7201a8\"], [0.3333333333333333, \"#9c179e\"], [0.4444444444444444, \"#bd3786\"], [0.5555555555555556, \"#d8576b\"], [0.6666666666666666, \"#ed7953\"], [0.7777777777777778, \"#fb9f3a\"], [0.8888888888888888, \"#fdca26\"], [1.0, \"#f0f921\"]], \"type\": \"histogram2dcontour\"}], \"mesh3d\": [{\"colorbar\": {\"outlinewidth\": 0, \"ticks\": \"\"}, \"type\": \"mesh3d\"}], \"parcoords\": [{\"line\": {\"colorbar\": {\"outlinewidth\": 0, \"ticks\": \"\"}}, \"type\": \"parcoords\"}], \"pie\": [{\"automargin\": true, \"type\": \"pie\"}], \"scatter\": [{\"marker\": {\"colorbar\": {\"outlinewidth\": 0, \"ticks\": \"\"}}, \"type\": \"scatter\"}], \"scatter3d\": [{\"line\": {\"colorbar\": {\"outlinewidth\": 0, \"ticks\": \"\"}}, \"marker\": {\"colorbar\": {\"outlinewidth\": 0, \"ticks\": \"\"}}, \"type\": \"scatter3d\"}], \"scattercarpet\": [{\"marker\": {\"colorbar\": {\"outlinewidth\": 0, \"ticks\": \"\"}}, \"type\": \"scattercarpet\"}], \"scattergeo\": [{\"marker\": {\"colorbar\": {\"outlinewidth\": 0, \"ticks\": \"\"}}, \"type\": \"scattergeo\"}], \"scattergl\": [{\"marker\": {\"colorbar\": {\"outlinewidth\": 0, \"ticks\": \"\"}}, \"type\": \"scattergl\"}], \"scattermapbox\": [{\"marker\": {\"colorbar\": {\"outlinewidth\": 0, \"ticks\": \"\"}}, \"type\": \"scattermapbox\"}], \"scatterpolar\": [{\"marker\": {\"colorbar\": {\"outlinewidth\": 0, \"ticks\": \"\"}}, \"type\": \"scatterpolar\"}], \"scatterpolargl\": [{\"marker\": {\"colorbar\": {\"outlinewidth\": 0, \"ticks\": \"\"}}, \"type\": \"scatterpolargl\"}], \"scatterternary\": [{\"marker\": {\"colorbar\": {\"outlinewidth\": 0, \"ticks\": \"\"}}, \"type\": \"scatterternary\"}], \"surface\": [{\"colorbar\": {\"outlinewidth\": 0, \"ticks\": \"\"}, \"colorscale\": [[0.0, \"#0d0887\"], [0.1111111111111111, \"#46039f\"], [0.2222222222222222, \"#7201a8\"], [0.3333333333333333, \"#9c179e\"], [0.4444444444444444, \"#bd3786\"], [0.5555555555555556, \"#d8576b\"], [0.6666666666666666, \"#ed7953\"], [0.7777777777777778, \"#fb9f3a\"], [0.8888888888888888, \"#fdca26\"], [1.0, \"#f0f921\"]], \"type\": \"surface\"}], \"table\": [{\"cells\": {\"fill\": {\"color\": \"#EBF0F8\"}, \"line\": {\"color\": \"white\"}}, \"header\": {\"fill\": {\"color\": \"#C8D4E3\"}, \"line\": {\"color\": \"white\"}}, \"type\": \"table\"}]}, \"layout\": {\"annotationdefaults\": {\"arrowcolor\": \"#2a3f5f\", \"arrowhead\": 0, \"arrowwidth\": 1}, \"coloraxis\": {\"colorbar\": {\"outlinewidth\": 0, \"ticks\": \"\"}}, \"colorscale\": {\"diverging\": [[0, \"#8e0152\"], [0.1, \"#c51b7d\"], [0.2, \"#de77ae\"], [0.3, \"#f1b6da\"], [0.4, \"#fde0ef\"], [0.5, \"#f7f7f7\"], [0.6, \"#e6f5d0\"], [0.7, \"#b8e186\"], [0.8, \"#7fbc41\"], [0.9, \"#4d9221\"], [1, \"#276419\"]], \"sequential\": [[0.0, \"#0d0887\"], [0.1111111111111111, \"#46039f\"], [0.2222222222222222, \"#7201a8\"], [0.3333333333333333, \"#9c179e\"], [0.4444444444444444, \"#bd3786\"], [0.5555555555555556, \"#d8576b\"], [0.6666666666666666, \"#ed7953\"], [0.7777777777777778, \"#fb9f3a\"], [0.8888888888888888, \"#fdca26\"], [1.0, \"#f0f921\"]], \"sequentialminus\": [[0.0, \"#0d0887\"], [0.1111111111111111, \"#46039f\"], [0.2222222222222222, \"#7201a8\"], [0.3333333333333333, \"#9c179e\"], [0.4444444444444444, \"#bd3786\"], [0.5555555555555556, \"#d8576b\"], [0.6666666666666666, \"#ed7953\"], [0.7777777777777778, \"#fb9f3a\"], [0.8888888888888888, \"#fdca26\"], [1.0, \"#f0f921\"]]}, \"colorway\": [\"#636efa\", \"#EF553B\", \"#00cc96\", \"#ab63fa\", \"#FFA15A\", \"#19d3f3\", \"#FF6692\", \"#B6E880\", \"#FF97FF\", \"#FECB52\"], \"font\": {\"color\": \"#2a3f5f\"}, \"geo\": {\"bgcolor\": \"white\", \"lakecolor\": \"white\", \"landcolor\": \"#E5ECF6\", \"showlakes\": true, \"showland\": true, \"subunitcolor\": \"white\"}, \"hoverlabel\": {\"align\": \"left\"}, \"hovermode\": \"closest\", \"mapbox\": {\"style\": \"light\"}, \"paper_bgcolor\": \"white\", \"plot_bgcolor\": \"#E5ECF6\", \"polar\": {\"angularaxis\": {\"gridcolor\": \"white\", \"linecolor\": \"white\", \"ticks\": \"\"}, \"bgcolor\": \"#E5ECF6\", \"radialaxis\": {\"gridcolor\": \"white\", \"linecolor\": \"white\", \"ticks\": \"\"}}, \"scene\": {\"xaxis\": {\"backgroundcolor\": \"#E5ECF6\", \"gridcolor\": \"white\", \"gridwidth\": 2, \"linecolor\": \"white\", \"showbackground\": true, \"ticks\": \"\", \"zerolinecolor\": \"white\"}, \"yaxis\": {\"backgroundcolor\": \"#E5ECF6\", \"gridcolor\": \"white\", \"gridwidth\": 2, \"linecolor\": \"white\", \"showbackground\": true, \"ticks\": \"\", \"zerolinecolor\": \"white\"}, \"zaxis\": {\"backgroundcolor\": \"#E5ECF6\", \"gridcolor\": \"white\", \"gridwidth\": 2, \"linecolor\": \"white\", \"showbackground\": true, \"ticks\": \"\", \"zerolinecolor\": \"white\"}}, \"shapedefaults\": {\"line\": {\"color\": \"#2a3f5f\"}}, \"ternary\": {\"aaxis\": {\"gridcolor\": \"white\", \"linecolor\": \"white\", \"ticks\": \"\"}, \"baxis\": {\"gridcolor\": \"white\", \"linecolor\": \"white\", \"ticks\": \"\"}, \"bgcolor\": \"#E5ECF6\", \"caxis\": {\"gridcolor\": \"white\", \"linecolor\": \"white\", \"ticks\": \"\"}}, \"title\": {\"x\": 0.05}, \"xaxis\": {\"automargin\": true, \"gridcolor\": \"white\", \"linecolor\": \"white\", \"ticks\": \"\", \"title\": {\"standoff\": 15}, \"zerolinecolor\": \"white\", \"zerolinewidth\": 2}, \"yaxis\": {\"automargin\": true, \"gridcolor\": \"white\", \"linecolor\": \"white\", \"ticks\": \"\", \"title\": {\"standoff\": 15}, \"zerolinecolor\": \"white\", \"zerolinewidth\": 2}}}, \"title\": {\"text\": \"Occurance of research tag per month per phase sized by number\"}, \"xaxis\": {\"anchor\": \"y\", \"domain\": [0.0, 1.0], \"title\": {\"text\": \"publish_time\"}}, \"yaxis\": {\"anchor\": \"x\", \"domain\": [0.0, 1.0], \"title\": {\"text\": \"phase\"}}},\n",
       "                        {\"responsive\": true}\n",
       "                    ).then(function(){\n",
       "                            \n",
       "var gd = document.getElementById('9d90568c-5823-4b5e-9260-53a097052406');\n",
       "var x = new MutationObserver(function (mutations, observer) {{\n",
       "        var display = window.getComputedStyle(gd).display;\n",
       "        if (!display || display === 'none') {{\n",
       "            console.log([gd, 'removed!']);\n",
       "            Plotly.purge(gd);\n",
       "            observer.disconnect();\n",
       "        }}\n",
       "}});\n",
       "\n",
       "// Listen for the removal of the full notebook cells\n",
       "var notebookContainer = gd.closest('#notebook-container');\n",
       "if (notebookContainer) {{\n",
       "    x.observe(notebookContainer, {childList: true});\n",
       "}}\n",
       "\n",
       "// Listen for the clearing of the current output cell\n",
       "var outputEl = gd.closest('.output');\n",
       "if (outputEl) {{\n",
       "    x.observe(outputEl, {childList: true});\n",
       "}}\n",
       "\n",
       "                        })\n",
       "                };\n",
       "                });\n",
       "            </script>\n",
       "        </div>"
      ]
     },
     "metadata": {},
     "output_type": "display_data"
    }
   ],
   "source": [
    "import plotly.express as px\n",
    "fig = px.scatter(pv, x=\"publish_time\", y=\"phase\",\n",
    "         size=\"count\", color=\"tag\",\n",
    "                 hover_name=\"tag\", hover_data=['count'], title='Occurance of research tag per month per phase sized by number')\n",
    "fig.show()\n"
   ]
  },
  {
   "cell_type": "code",
   "execution_count": 73,
   "metadata": {},
   "outputs": [],
   "source": [
    "dff.publish_time = dff.publish_time.apply(lambda x: x.strftime('%Y-%m') if not pd.isna(x) else np.nan)"
   ]
  },
  {
   "cell_type": "code",
   "execution_count": 98,
   "metadata": {},
   "outputs": [],
   "source": [
    "import pandas as pd\n",
    "import os\n",
    "import numpy as np\n",
    "\n",
    "class dummyDataHandler():\n",
    "\tdef __init__(self):\n",
    "\t\tsrc_fldr = os.path.join('..', '..','src')\n",
    "\t\tdf = pd.read_csv(os.path.join(src_fldr, 'metadata.csv'))\n",
    "\t\tdf = df.dropna(subset=['sha']).set_index('sha')\n",
    "\t\tself.data = df\n",
    "\t\tself.data.publish_time = self.data.publish_time.apply(clean_time)\n",
    "\t\tself.data.publish_time = self.data.publish_time.apply(lambda x: x.strftime('%Y-%m') if not pd.isna(x) else np.nan)\n",
    "\t\tself.dummy_keywords = ['mortality rate', 'extracorporeal membrane oxygenation (ECMO)', 'vaccine', 'interventions', 'clinical outcome', np.nan]\n",
    "\t\tself.setUp()\n",
    "\n",
    "\tdef setUp(self):\n",
    "\t\tself.data['tag'] = [self.dummy_keywords[np.random.choice(np.arange(0,6), p=[0.02, 0.02, 0.02, 0.02,0.02, 0.9])] for i in range(self.data.shape[0])]\n",
    "\t\tself.data['phase'] = [np.random.choice(np.arange(1,6), p=[0.5, 0.3, 0.1, 0.075, 0.025]) for i in range(self.data.shape[0])]\n",
    "\n",
    "\tdef get_pivot(self):\n",
    "\t\tpv = pd.pivot_table(self.data.reset_index(), values=['sha'], index=['tag', 'phase', 'publish_time'], aggfunc=np.count_nonzero).reset_index().rename(columns={'sha':'count'})\n",
    "\t\tprint(pv)\n",
    "\t\treturn pv\n",
    "\n",
    "\n",
    "def clean_time(val):\n",
    "    try:\n",
    "        return datetime.strptime(val, '%Y-%m-%d')\n",
    "    except:\n",
    "        try:\n",
    "            return datetime.strptime(val, '%Y %b %d')\n",
    "        except:\n",
    "            try:\n",
    "                return datetime.strptime(val, '%Y %b')\n",
    "            except:\n",
    "                try:\n",
    "                    return datetime.strptime(val, '%Y')\n",
    "                except:\n",
    "                    try:\n",
    "                        return datetime.strptime('-'.join(val.split(' ')[:3]), '%Y-%b-%d')\n",
    "                    except Exception as e:\n",
    "                        return None"
   ]
  },
  {
   "cell_type": "code",
   "execution_count": 100,
   "metadata": {
    "scrolled": true
   },
   "outputs": [
    {
     "name": "stdout",
     "output_type": "stream",
     "text": [
      "                   tag  phase publish_time  count\n",
      "0     clinical outcome      1      1986-12      2\n",
      "1     clinical outcome      1      1988-12      1\n",
      "2     clinical outcome      1      1989-05      1\n",
      "3     clinical outcome      1      1990-07      1\n",
      "4     clinical outcome      1      1990-09      1\n",
      "...                ...    ...          ...    ...\n",
      "1827           vaccine      5      2016-02      1\n",
      "1828           vaccine      5      2016-03      1\n",
      "1829           vaccine      5      2016-06      1\n",
      "1830           vaccine      5      2016-08      1\n",
      "1831           vaccine      5      2020-02      1\n",
      "\n",
      "[1832 rows x 4 columns]\n"
     ]
    },
    {
     "data": {
      "application/vnd.plotly.v1+json": {
       "config": {
        "plotlyServerURL": "https://plot.ly"
       },
       "data": [
        {
         "customdata": [
          [
           2
          ],
          [
           1
          ],
          [
           1
          ],
          [
           1
          ],
          [
           1
          ],
          [
           2
          ],
          [
           1
          ],
          [
           1
          ],
          [
           1
          ],
          [
           1
          ],
          [
           1
          ],
          [
           1
          ],
          [
           1
          ],
          [
           1
          ],
          [
           1
          ],
          [
           1
          ],
          [
           1
          ],
          [
           1
          ],
          [
           1
          ],
          [
           1
          ],
          [
           1
          ],
          [
           1
          ],
          [
           1
          ],
          [
           1
          ],
          [
           1
          ],
          [
           1
          ],
          [
           1
          ],
          [
           1
          ],
          [
           1
          ],
          [
           1
          ],
          [
           1
          ],
          [
           1
          ],
          [
           2
          ],
          [
           1
          ],
          [
           1
          ],
          [
           2
          ],
          [
           1
          ],
          [
           2
          ],
          [
           1
          ],
          [
           1
          ],
          [
           1
          ],
          [
           5
          ],
          [
           1
          ],
          [
           1
          ],
          [
           1
          ],
          [
           1
          ],
          [
           2
          ],
          [
           1
          ],
          [
           1
          ],
          [
           1
          ],
          [
           1
          ],
          [
           1
          ],
          [
           2
          ],
          [
           1
          ],
          [
           2
          ],
          [
           3
          ],
          [
           1
          ],
          [
           1
          ],
          [
           1
          ],
          [
           3
          ],
          [
           2
          ],
          [
           3
          ],
          [
           2
          ],
          [
           1
          ],
          [
           2
          ],
          [
           1
          ],
          [
           2
          ],
          [
           2
          ],
          [
           3
          ],
          [
           1
          ],
          [
           1
          ],
          [
           1
          ],
          [
           2
          ],
          [
           1
          ],
          [
           1
          ],
          [
           2
          ],
          [
           1
          ],
          [
           1
          ],
          [
           1
          ],
          [
           2
          ],
          [
           1
          ],
          [
           2
          ],
          [
           1
          ],
          [
           1
          ],
          [
           1
          ],
          [
           2
          ],
          [
           2
          ],
          [
           2
          ],
          [
           3
          ],
          [
           2
          ],
          [
           3
          ],
          [
           1
          ],
          [
           1
          ],
          [
           3
          ],
          [
           3
          ],
          [
           1
          ],
          [
           1
          ],
          [
           1
          ],
          [
           1
          ],
          [
           1
          ],
          [
           2
          ],
          [
           3
          ],
          [
           2
          ],
          [
           1
          ],
          [
           2
          ],
          [
           2
          ],
          [
           1
          ],
          [
           1
          ],
          [
           2
          ],
          [
           5
          ],
          [
           2
          ],
          [
           1
          ],
          [
           1
          ],
          [
           3
          ],
          [
           3
          ],
          [
           1
          ],
          [
           1
          ],
          [
           1
          ],
          [
           2
          ],
          [
           1
          ],
          [
           2
          ],
          [
           2
          ],
          [
           3
          ],
          [
           2
          ],
          [
           2
          ],
          [
           1
          ],
          [
           3
          ],
          [
           5
          ],
          [
           1
          ],
          [
           4
          ],
          [
           1
          ],
          [
           1
          ],
          [
           2
          ],
          [
           4
          ],
          [
           1
          ],
          [
           2
          ],
          [
           1
          ],
          [
           2
          ],
          [
           2
          ],
          [
           4
          ],
          [
           1
          ],
          [
           3
          ],
          [
           3
          ],
          [
           4
          ],
          [
           3
          ],
          [
           3
          ],
          [
           3
          ],
          [
           1
          ],
          [
           4
          ],
          [
           2
          ],
          [
           2
          ],
          [
           1
          ],
          [
           3
          ],
          [
           1
          ],
          [
           4
          ],
          [
           7
          ],
          [
           8
          ],
          [
           1
          ],
          [
           3
          ],
          [
           1
          ],
          [
           1
          ],
          [
           1
          ],
          [
           1
          ],
          [
           2
          ],
          [
           1
          ],
          [
           1
          ],
          [
           1
          ],
          [
           1
          ],
          [
           1
          ],
          [
           1
          ],
          [
           1
          ],
          [
           1
          ],
          [
           1
          ],
          [
           1
          ],
          [
           2
          ],
          [
           1
          ],
          [
           1
          ],
          [
           2
          ],
          [
           2
          ],
          [
           1
          ],
          [
           1
          ],
          [
           1
          ],
          [
           1
          ],
          [
           1
          ],
          [
           1
          ],
          [
           1
          ],
          [
           1
          ],
          [
           2
          ],
          [
           1
          ],
          [
           1
          ],
          [
           1
          ],
          [
           1
          ],
          [
           1
          ],
          [
           1
          ],
          [
           2
          ],
          [
           1
          ],
          [
           1
          ],
          [
           1
          ],
          [
           3
          ],
          [
           1
          ],
          [
           1
          ],
          [
           1
          ],
          [
           1
          ],
          [
           2
          ],
          [
           1
          ],
          [
           1
          ],
          [
           1
          ],
          [
           1
          ],
          [
           1
          ],
          [
           2
          ],
          [
           1
          ],
          [
           2
          ],
          [
           3
          ],
          [
           1
          ],
          [
           1
          ],
          [
           2
          ],
          [
           2
          ],
          [
           1
          ],
          [
           3
          ],
          [
           1
          ],
          [
           1
          ],
          [
           3
          ],
          [
           1
          ],
          [
           1
          ],
          [
           1
          ],
          [
           1
          ],
          [
           1
          ],
          [
           1
          ],
          [
           1
          ],
          [
           1
          ],
          [
           4
          ],
          [
           1
          ],
          [
           2
          ],
          [
           3
          ],
          [
           2
          ],
          [
           2
          ],
          [
           1
          ],
          [
           1
          ],
          [
           2
          ],
          [
           2
          ],
          [
           1
          ],
          [
           2
          ],
          [
           1
          ],
          [
           1
          ],
          [
           2
          ],
          [
           3
          ],
          [
           2
          ],
          [
           2
          ],
          [
           3
          ],
          [
           2
          ],
          [
           2
          ],
          [
           3
          ],
          [
           1
          ],
          [
           2
          ],
          [
           2
          ],
          [
           4
          ],
          [
           1
          ],
          [
           2
          ],
          [
           2
          ],
          [
           2
          ],
          [
           1
          ],
          [
           2
          ],
          [
           1
          ],
          [
           1
          ],
          [
           3
          ],
          [
           2
          ],
          [
           2
          ],
          [
           1
          ],
          [
           1
          ],
          [
           1
          ],
          [
           1
          ],
          [
           1
          ],
          [
           1
          ],
          [
           1
          ],
          [
           1
          ],
          [
           1
          ],
          [
           1
          ],
          [
           1
          ],
          [
           1
          ],
          [
           1
          ],
          [
           1
          ],
          [
           1
          ],
          [
           1
          ],
          [
           1
          ],
          [
           1
          ],
          [
           1
          ],
          [
           1
          ],
          [
           1
          ],
          [
           3
          ],
          [
           1
          ],
          [
           1
          ],
          [
           1
          ],
          [
           2
          ],
          [
           1
          ],
          [
           1
          ],
          [
           1
          ],
          [
           2
          ],
          [
           2
          ],
          [
           1
          ],
          [
           1
          ],
          [
           1
          ],
          [
           2
          ],
          [
           2
          ],
          [
           1
          ],
          [
           1
          ],
          [
           1
          ],
          [
           1
          ],
          [
           1
          ],
          [
           1
          ],
          [
           1
          ],
          [
           1
          ],
          [
           1
          ],
          [
           1
          ],
          [
           1
          ],
          [
           1
          ],
          [
           1
          ],
          [
           1
          ],
          [
           1
          ],
          [
           1
          ],
          [
           2
          ],
          [
           2
          ],
          [
           1
          ],
          [
           1
          ],
          [
           1
          ],
          [
           1
          ],
          [
           1
          ],
          [
           1
          ],
          [
           1
          ],
          [
           1
          ],
          [
           3
          ],
          [
           1
          ],
          [
           1
          ],
          [
           1
          ],
          [
           1
          ],
          [
           2
          ],
          [
           1
          ],
          [
           1
          ],
          [
           3
          ],
          [
           1
          ],
          [
           1
          ],
          [
           1
          ],
          [
           1
          ],
          [
           1
          ],
          [
           1
          ],
          [
           1
          ],
          [
           1
          ],
          [
           1
          ],
          [
           1
          ],
          [
           1
          ],
          [
           1
          ],
          [
           1
          ],
          [
           1
          ],
          [
           1
          ],
          [
           1
          ],
          [
           1
          ],
          [
           1
          ],
          [
           1
          ],
          [
           1
          ]
         ],
         "hoverlabel": {
          "namelength": 0
         },
         "hovertemplate": "<b>%{hovertext}</b><br><br>tag=clinical outcome<br>publish_time=%{x}<br>phase=%{y}<br>count=%{customdata[0]}",
         "hovertext": [
          "clinical outcome",
          "clinical outcome",
          "clinical outcome",
          "clinical outcome",
          "clinical outcome",
          "clinical outcome",
          "clinical outcome",
          "clinical outcome",
          "clinical outcome",
          "clinical outcome",
          "clinical outcome",
          "clinical outcome",
          "clinical outcome",
          "clinical outcome",
          "clinical outcome",
          "clinical outcome",
          "clinical outcome",
          "clinical outcome",
          "clinical outcome",
          "clinical outcome",
          "clinical outcome",
          "clinical outcome",
          "clinical outcome",
          "clinical outcome",
          "clinical outcome",
          "clinical outcome",
          "clinical outcome",
          "clinical outcome",
          "clinical outcome",
          "clinical outcome",
          "clinical outcome",
          "clinical outcome",
          "clinical outcome",
          "clinical outcome",
          "clinical outcome",
          "clinical outcome",
          "clinical outcome",
          "clinical outcome",
          "clinical outcome",
          "clinical outcome",
          "clinical outcome",
          "clinical outcome",
          "clinical outcome",
          "clinical outcome",
          "clinical outcome",
          "clinical outcome",
          "clinical outcome",
          "clinical outcome",
          "clinical outcome",
          "clinical outcome",
          "clinical outcome",
          "clinical outcome",
          "clinical outcome",
          "clinical outcome",
          "clinical outcome",
          "clinical outcome",
          "clinical outcome",
          "clinical outcome",
          "clinical outcome",
          "clinical outcome",
          "clinical outcome",
          "clinical outcome",
          "clinical outcome",
          "clinical outcome",
          "clinical outcome",
          "clinical outcome",
          "clinical outcome",
          "clinical outcome",
          "clinical outcome",
          "clinical outcome",
          "clinical outcome",
          "clinical outcome",
          "clinical outcome",
          "clinical outcome",
          "clinical outcome",
          "clinical outcome",
          "clinical outcome",
          "clinical outcome",
          "clinical outcome",
          "clinical outcome",
          "clinical outcome",
          "clinical outcome",
          "clinical outcome",
          "clinical outcome",
          "clinical outcome",
          "clinical outcome",
          "clinical outcome",
          "clinical outcome",
          "clinical outcome",
          "clinical outcome",
          "clinical outcome",
          "clinical outcome",
          "clinical outcome",
          "clinical outcome",
          "clinical outcome",
          "clinical outcome",
          "clinical outcome",
          "clinical outcome",
          "clinical outcome",
          "clinical outcome",
          "clinical outcome",
          "clinical outcome",
          "clinical outcome",
          "clinical outcome",
          "clinical outcome",
          "clinical outcome",
          "clinical outcome",
          "clinical outcome",
          "clinical outcome",
          "clinical outcome",
          "clinical outcome",
          "clinical outcome",
          "clinical outcome",
          "clinical outcome",
          "clinical outcome",
          "clinical outcome",
          "clinical outcome",
          "clinical outcome",
          "clinical outcome",
          "clinical outcome",
          "clinical outcome",
          "clinical outcome",
          "clinical outcome",
          "clinical outcome",
          "clinical outcome",
          "clinical outcome",
          "clinical outcome",
          "clinical outcome",
          "clinical outcome",
          "clinical outcome",
          "clinical outcome",
          "clinical outcome",
          "clinical outcome",
          "clinical outcome",
          "clinical outcome",
          "clinical outcome",
          "clinical outcome",
          "clinical outcome",
          "clinical outcome",
          "clinical outcome",
          "clinical outcome",
          "clinical outcome",
          "clinical outcome",
          "clinical outcome",
          "clinical outcome",
          "clinical outcome",
          "clinical outcome",
          "clinical outcome",
          "clinical outcome",
          "clinical outcome",
          "clinical outcome",
          "clinical outcome",
          "clinical outcome",
          "clinical outcome",
          "clinical outcome",
          "clinical outcome",
          "clinical outcome",
          "clinical outcome",
          "clinical outcome",
          "clinical outcome",
          "clinical outcome",
          "clinical outcome",
          "clinical outcome",
          "clinical outcome",
          "clinical outcome",
          "clinical outcome",
          "clinical outcome",
          "clinical outcome",
          "clinical outcome",
          "clinical outcome",
          "clinical outcome",
          "clinical outcome",
          "clinical outcome",
          "clinical outcome",
          "clinical outcome",
          "clinical outcome",
          "clinical outcome",
          "clinical outcome",
          "clinical outcome",
          "clinical outcome",
          "clinical outcome",
          "clinical outcome",
          "clinical outcome",
          "clinical outcome",
          "clinical outcome",
          "clinical outcome",
          "clinical outcome",
          "clinical outcome",
          "clinical outcome",
          "clinical outcome",
          "clinical outcome",
          "clinical outcome",
          "clinical outcome",
          "clinical outcome",
          "clinical outcome",
          "clinical outcome",
          "clinical outcome",
          "clinical outcome",
          "clinical outcome",
          "clinical outcome",
          "clinical outcome",
          "clinical outcome",
          "clinical outcome",
          "clinical outcome",
          "clinical outcome",
          "clinical outcome",
          "clinical outcome",
          "clinical outcome",
          "clinical outcome",
          "clinical outcome",
          "clinical outcome",
          "clinical outcome",
          "clinical outcome",
          "clinical outcome",
          "clinical outcome",
          "clinical outcome",
          "clinical outcome",
          "clinical outcome",
          "clinical outcome",
          "clinical outcome",
          "clinical outcome",
          "clinical outcome",
          "clinical outcome",
          "clinical outcome",
          "clinical outcome",
          "clinical outcome",
          "clinical outcome",
          "clinical outcome",
          "clinical outcome",
          "clinical outcome",
          "clinical outcome",
          "clinical outcome",
          "clinical outcome",
          "clinical outcome",
          "clinical outcome",
          "clinical outcome",
          "clinical outcome",
          "clinical outcome",
          "clinical outcome",
          "clinical outcome",
          "clinical outcome",
          "clinical outcome",
          "clinical outcome",
          "clinical outcome",
          "clinical outcome",
          "clinical outcome",
          "clinical outcome",
          "clinical outcome",
          "clinical outcome",
          "clinical outcome",
          "clinical outcome",
          "clinical outcome",
          "clinical outcome",
          "clinical outcome",
          "clinical outcome",
          "clinical outcome",
          "clinical outcome",
          "clinical outcome",
          "clinical outcome",
          "clinical outcome",
          "clinical outcome",
          "clinical outcome",
          "clinical outcome",
          "clinical outcome",
          "clinical outcome",
          "clinical outcome",
          "clinical outcome",
          "clinical outcome",
          "clinical outcome",
          "clinical outcome",
          "clinical outcome",
          "clinical outcome",
          "clinical outcome",
          "clinical outcome",
          "clinical outcome",
          "clinical outcome",
          "clinical outcome",
          "clinical outcome",
          "clinical outcome",
          "clinical outcome",
          "clinical outcome",
          "clinical outcome",
          "clinical outcome",
          "clinical outcome",
          "clinical outcome",
          "clinical outcome",
          "clinical outcome",
          "clinical outcome",
          "clinical outcome",
          "clinical outcome",
          "clinical outcome",
          "clinical outcome",
          "clinical outcome",
          "clinical outcome",
          "clinical outcome",
          "clinical outcome",
          "clinical outcome",
          "clinical outcome",
          "clinical outcome",
          "clinical outcome",
          "clinical outcome",
          "clinical outcome",
          "clinical outcome",
          "clinical outcome",
          "clinical outcome",
          "clinical outcome",
          "clinical outcome",
          "clinical outcome",
          "clinical outcome",
          "clinical outcome",
          "clinical outcome",
          "clinical outcome",
          "clinical outcome",
          "clinical outcome",
          "clinical outcome",
          "clinical outcome",
          "clinical outcome",
          "clinical outcome",
          "clinical outcome",
          "clinical outcome",
          "clinical outcome",
          "clinical outcome",
          "clinical outcome",
          "clinical outcome",
          "clinical outcome",
          "clinical outcome",
          "clinical outcome",
          "clinical outcome",
          "clinical outcome",
          "clinical outcome",
          "clinical outcome",
          "clinical outcome",
          "clinical outcome",
          "clinical outcome",
          "clinical outcome",
          "clinical outcome",
          "clinical outcome",
          "clinical outcome",
          "clinical outcome",
          "clinical outcome",
          "clinical outcome",
          "clinical outcome",
          "clinical outcome",
          "clinical outcome",
          "clinical outcome",
          "clinical outcome",
          "clinical outcome",
          "clinical outcome",
          "clinical outcome",
          "clinical outcome",
          "clinical outcome",
          "clinical outcome",
          "clinical outcome",
          "clinical outcome",
          "clinical outcome",
          "clinical outcome",
          "clinical outcome",
          "clinical outcome"
         ],
         "legendgroup": "clinical outcome",
         "marker": {
          "color": "#636efa",
          "size": [
           2,
           1,
           1,
           1,
           1,
           2,
           1,
           1,
           1,
           1,
           1,
           1,
           1,
           1,
           1,
           1,
           1,
           1,
           1,
           1,
           1,
           1,
           1,
           1,
           1,
           1,
           1,
           1,
           1,
           1,
           1,
           1,
           2,
           1,
           1,
           2,
           1,
           2,
           1,
           1,
           1,
           5,
           1,
           1,
           1,
           1,
           2,
           1,
           1,
           1,
           1,
           1,
           2,
           1,
           2,
           3,
           1,
           1,
           1,
           3,
           2,
           3,
           2,
           1,
           2,
           1,
           2,
           2,
           3,
           1,
           1,
           1,
           2,
           1,
           1,
           2,
           1,
           1,
           1,
           2,
           1,
           2,
           1,
           1,
           1,
           2,
           2,
           2,
           3,
           2,
           3,
           1,
           1,
           3,
           3,
           1,
           1,
           1,
           1,
           1,
           2,
           3,
           2,
           1,
           2,
           2,
           1,
           1,
           2,
           5,
           2,
           1,
           1,
           3,
           3,
           1,
           1,
           1,
           2,
           1,
           2,
           2,
           3,
           2,
           2,
           1,
           3,
           5,
           1,
           4,
           1,
           1,
           2,
           4,
           1,
           2,
           1,
           2,
           2,
           4,
           1,
           3,
           3,
           4,
           3,
           3,
           3,
           1,
           4,
           2,
           2,
           1,
           3,
           1,
           4,
           7,
           8,
           1,
           3,
           1,
           1,
           1,
           1,
           2,
           1,
           1,
           1,
           1,
           1,
           1,
           1,
           1,
           1,
           1,
           2,
           1,
           1,
           2,
           2,
           1,
           1,
           1,
           1,
           1,
           1,
           1,
           1,
           2,
           1,
           1,
           1,
           1,
           1,
           1,
           2,
           1,
           1,
           1,
           3,
           1,
           1,
           1,
           1,
           2,
           1,
           1,
           1,
           1,
           1,
           2,
           1,
           2,
           3,
           1,
           1,
           2,
           2,
           1,
           3,
           1,
           1,
           3,
           1,
           1,
           1,
           1,
           1,
           1,
           1,
           1,
           4,
           1,
           2,
           3,
           2,
           2,
           1,
           1,
           2,
           2,
           1,
           2,
           1,
           1,
           2,
           3,
           2,
           2,
           3,
           2,
           2,
           3,
           1,
           2,
           2,
           4,
           1,
           2,
           2,
           2,
           1,
           2,
           1,
           1,
           3,
           2,
           2,
           1,
           1,
           1,
           1,
           1,
           1,
           1,
           1,
           1,
           1,
           1,
           1,
           1,
           1,
           1,
           1,
           1,
           1,
           1,
           1,
           1,
           3,
           1,
           1,
           1,
           2,
           1,
           1,
           1,
           2,
           2,
           1,
           1,
           1,
           2,
           2,
           1,
           1,
           1,
           1,
           1,
           1,
           1,
           1,
           1,
           1,
           1,
           1,
           1,
           1,
           1,
           1,
           2,
           2,
           1,
           1,
           1,
           1,
           1,
           1,
           1,
           1,
           3,
           1,
           1,
           1,
           1,
           2,
           1,
           1,
           3,
           1,
           1,
           1,
           1,
           1,
           1,
           1,
           1,
           1,
           1,
           1,
           1,
           1,
           1,
           1,
           1,
           1,
           1,
           1,
           1
          ],
          "sizemode": "area",
          "sizeref": 0.02,
          "symbol": "circle"
         },
         "mode": "markers",
         "name": "clinical outcome",
         "showlegend": true,
         "type": "scattergl",
         "x": [
          "1986-12",
          "1988-12",
          "1989-05",
          "1990-07",
          "1990-09",
          "1990-10",
          "1991-01",
          "1991-04",
          "1992-03",
          "1994-03",
          "1994-12",
          "1996-07",
          "1997-02",
          "1997-06",
          "1997-12",
          "1999-02",
          "2000-06",
          "2000-09",
          "2001-07",
          "2001-11",
          "2003-04",
          "2003-06",
          "2003-10",
          "2003-12",
          "2004-01",
          "2004-02",
          "2004-07",
          "2004-09",
          "2004-12",
          "2005-02",
          "2005-03",
          "2005-04",
          "2005-06",
          "2005-08",
          "2005-09",
          "2006-01",
          "2006-04",
          "2006-05",
          "2006-08",
          "2006-10",
          "2006-11",
          "2006-12",
          "2007-01",
          "2007-03",
          "2007-04",
          "2007-10",
          "2007-12",
          "2008-01",
          "2008-02",
          "2008-04",
          "2008-05",
          "2008-08",
          "2008-09",
          "2008-11",
          "2008-12",
          "2009-01",
          "2009-02",
          "2009-05",
          "2009-06",
          "2009-08",
          "2009-10",
          "2009-12",
          "2010-01",
          "2010-02",
          "2010-03",
          "2010-05",
          "2010-07",
          "2010-12",
          "2011-03",
          "2011-06",
          "2011-07",
          "2011-08",
          "2011-09",
          "2011-10",
          "2011-11",
          "2011-12",
          "2012-01",
          "2012-02",
          "2012-03",
          "2012-05",
          "2012-06",
          "2012-07",
          "2012-08",
          "2012-09",
          "2012-11",
          "2012-12",
          "2013-01",
          "2013-02",
          "2013-04",
          "2013-08",
          "2013-10",
          "2013-11",
          "2013-12",
          "2014-01",
          "2014-03",
          "2014-04",
          "2014-06",
          "2014-08",
          "2014-09",
          "2014-10",
          "2014-11",
          "2014-12",
          "2015-01",
          "2015-02",
          "2015-03",
          "2015-04",
          "2015-05",
          "2015-06",
          "2015-07",
          "2015-08",
          "2015-09",
          "2015-10",
          "2015-11",
          "2015-12",
          "2016-01",
          "2016-02",
          "2016-03",
          "2016-04",
          "2016-07",
          "2016-08",
          "2016-09",
          "2016-10",
          "2016-11",
          "2016-12",
          "2017-01",
          "2017-03",
          "2017-04",
          "2017-05",
          "2017-07",
          "2017-08",
          "2017-09",
          "2017-10",
          "2017-11",
          "2017-12",
          "2018-01",
          "2018-02",
          "2018-03",
          "2018-04",
          "2018-05",
          "2018-08",
          "2018-09",
          "2018-10",
          "2018-11",
          "2018-12",
          "2019-01",
          "2019-02",
          "2019-03",
          "2019-04",
          "2019-05",
          "2019-07",
          "2019-08",
          "2019-09",
          "2019-10",
          "2019-11",
          "2019-12",
          "2020-02",
          "2020-03",
          "2020-04",
          "2020-12",
          "1975-10",
          "1984-12",
          "1985-02",
          "1988-10",
          "1988-12",
          "1989-12",
          "1992-09",
          "1995-11",
          "1995-12",
          "1996-03",
          "2000-05",
          "2001-07",
          "2003-11",
          "2004-06",
          "2004-07",
          "2004-12",
          "2005-09",
          "2005-12",
          "2006-01",
          "2006-02",
          "2006-04",
          "2006-06",
          "2006-09",
          "2006-11",
          "2006-12",
          "2007-04",
          "2007-06",
          "2007-07",
          "2007-08",
          "2007-12",
          "2008-01",
          "2008-04",
          "2008-07",
          "2008-09",
          "2008-10",
          "2009-03",
          "2009-04",
          "2009-05",
          "2009-07",
          "2009-12",
          "2010-02",
          "2010-03",
          "2010-07",
          "2010-10",
          "2010-11",
          "2010-12",
          "2011-07",
          "2011-08",
          "2011-11",
          "2011-12",
          "2012-03",
          "2012-04",
          "2012-07",
          "2012-10",
          "2012-11",
          "2012-12",
          "2013-01",
          "2013-09",
          "2013-10",
          "2013-12",
          "2014-03",
          "2014-04",
          "2014-06",
          "2014-09",
          "2014-11",
          "2015-01",
          "2015-02",
          "2015-05",
          "2015-06",
          "2015-07",
          "2015-08",
          "2015-12",
          "2016-01",
          "2016-03",
          "2016-05",
          "2016-06",
          "2016-08",
          "2016-09",
          "2016-10",
          "2016-11",
          "2016-12",
          "2017-01",
          "2017-02",
          "2017-05",
          "2017-06",
          "2017-07",
          "2017-08",
          "2017-09",
          "2018-01",
          "2018-04",
          "2018-05",
          "2018-06",
          "2018-10",
          "2018-11",
          "2018-12",
          "2019-01",
          "2019-03",
          "2019-04",
          "2019-05",
          "2019-06",
          "2019-07",
          "2019-09",
          "2019-10",
          "2019-11",
          "2019-12",
          "2020-01",
          "2020-02",
          "2020-03",
          "2020-04",
          "1991-06",
          "1992-08",
          "2004-06",
          "2005-12",
          "2006-11",
          "2007-01",
          "2007-09",
          "2007-12",
          "2009-03",
          "2009-11",
          "2010-11",
          "2010-12",
          "2011-02",
          "2011-03",
          "2011-05",
          "2011-12",
          "2013-01",
          "2013-02",
          "2014-07",
          "2014-09",
          "2014-12",
          "2015-01",
          "2015-02",
          "2015-04",
          "2015-07",
          "2015-08",
          "2015-12",
          "2017-04",
          "2017-12",
          "2018-01",
          "2018-03",
          "2019-09",
          "2019-10",
          "2019-12",
          "2020-02",
          "1982-04",
          "1992-09",
          "1996-12",
          "2001-05",
          "2004-02",
          "2005-09",
          "2007-12",
          "2008-04",
          "2008-07",
          "2009-02",
          "2009-03",
          "2009-04",
          "2010-01",
          "2010-03",
          "2011-11",
          "2013-03",
          "2013-05",
          "2013-08",
          "2014-01",
          "2014-03",
          "2014-07",
          "2015-01",
          "2015-09",
          "2016-04",
          "2016-06",
          "2016-07",
          "2016-12",
          "2017-04",
          "2017-05",
          "2017-12",
          "2018-01",
          "2018-04",
          "2018-09",
          "2018-11",
          "2018-12",
          "2019-02",
          "2019-05",
          "2019-10",
          "1989-07",
          "1997-03",
          "2008-07",
          "2012-03",
          "2012-04",
          "2013-06",
          "2014-01",
          "2014-07",
          "2015-06",
          "2015-08",
          "2015-09",
          "2017-03",
          "2017-04",
          "2017-12",
          "2018-08",
          "2019-09",
          "2019-11"
         ],
         "xaxis": "x",
         "y": [
          1,
          1,
          1,
          1,
          1,
          1,
          1,
          1,
          1,
          1,
          1,
          1,
          1,
          1,
          1,
          1,
          1,
          1,
          1,
          1,
          1,
          1,
          1,
          1,
          1,
          1,
          1,
          1,
          1,
          1,
          1,
          1,
          1,
          1,
          1,
          1,
          1,
          1,
          1,
          1,
          1,
          1,
          1,
          1,
          1,
          1,
          1,
          1,
          1,
          1,
          1,
          1,
          1,
          1,
          1,
          1,
          1,
          1,
          1,
          1,
          1,
          1,
          1,
          1,
          1,
          1,
          1,
          1,
          1,
          1,
          1,
          1,
          1,
          1,
          1,
          1,
          1,
          1,
          1,
          1,
          1,
          1,
          1,
          1,
          1,
          1,
          1,
          1,
          1,
          1,
          1,
          1,
          1,
          1,
          1,
          1,
          1,
          1,
          1,
          1,
          1,
          1,
          1,
          1,
          1,
          1,
          1,
          1,
          1,
          1,
          1,
          1,
          1,
          1,
          1,
          1,
          1,
          1,
          1,
          1,
          1,
          1,
          1,
          1,
          1,
          1,
          1,
          1,
          1,
          1,
          1,
          1,
          1,
          1,
          1,
          1,
          1,
          1,
          1,
          1,
          1,
          1,
          1,
          1,
          1,
          1,
          1,
          1,
          1,
          1,
          1,
          1,
          1,
          1,
          1,
          1,
          1,
          1,
          1,
          2,
          2,
          2,
          2,
          2,
          2,
          2,
          2,
          2,
          2,
          2,
          2,
          2,
          2,
          2,
          2,
          2,
          2,
          2,
          2,
          2,
          2,
          2,
          2,
          2,
          2,
          2,
          2,
          2,
          2,
          2,
          2,
          2,
          2,
          2,
          2,
          2,
          2,
          2,
          2,
          2,
          2,
          2,
          2,
          2,
          2,
          2,
          2,
          2,
          2,
          2,
          2,
          2,
          2,
          2,
          2,
          2,
          2,
          2,
          2,
          2,
          2,
          2,
          2,
          2,
          2,
          2,
          2,
          2,
          2,
          2,
          2,
          2,
          2,
          2,
          2,
          2,
          2,
          2,
          2,
          2,
          2,
          2,
          2,
          2,
          2,
          2,
          2,
          2,
          2,
          2,
          2,
          2,
          2,
          2,
          2,
          2,
          2,
          2,
          2,
          2,
          2,
          2,
          2,
          2,
          2,
          2,
          2,
          2,
          3,
          3,
          3,
          3,
          3,
          3,
          3,
          3,
          3,
          3,
          3,
          3,
          3,
          3,
          3,
          3,
          3,
          3,
          3,
          3,
          3,
          3,
          3,
          3,
          3,
          3,
          3,
          3,
          3,
          3,
          3,
          3,
          3,
          3,
          3,
          4,
          4,
          4,
          4,
          4,
          4,
          4,
          4,
          4,
          4,
          4,
          4,
          4,
          4,
          4,
          4,
          4,
          4,
          4,
          4,
          4,
          4,
          4,
          4,
          4,
          4,
          4,
          4,
          4,
          4,
          4,
          4,
          4,
          4,
          4,
          4,
          4,
          4,
          5,
          5,
          5,
          5,
          5,
          5,
          5,
          5,
          5,
          5,
          5,
          5,
          5,
          5,
          5,
          5,
          5
         ],
         "yaxis": "y"
        },
        {
         "customdata": [
          [
           1
          ],
          [
           1
          ],
          [
           1
          ],
          [
           1
          ],
          [
           1
          ],
          [
           1
          ],
          [
           1
          ],
          [
           1
          ],
          [
           1
          ],
          [
           1
          ],
          [
           1
          ],
          [
           3
          ],
          [
           1
          ],
          [
           1
          ],
          [
           1
          ],
          [
           1
          ],
          [
           1
          ],
          [
           1
          ],
          [
           1
          ],
          [
           1
          ],
          [
           1
          ],
          [
           1
          ],
          [
           2
          ],
          [
           2
          ],
          [
           1
          ],
          [
           2
          ],
          [
           1
          ],
          [
           1
          ],
          [
           1
          ],
          [
           2
          ],
          [
           2
          ],
          [
           1
          ],
          [
           1
          ],
          [
           1
          ],
          [
           2
          ],
          [
           1
          ],
          [
           3
          ],
          [
           1
          ],
          [
           1
          ],
          [
           3
          ],
          [
           4
          ],
          [
           1
          ],
          [
           1
          ],
          [
           1
          ],
          [
           1
          ],
          [
           1
          ],
          [
           1
          ],
          [
           2
          ],
          [
           3
          ],
          [
           2
          ],
          [
           8
          ],
          [
           1
          ],
          [
           3
          ],
          [
           1
          ],
          [
           1
          ],
          [
           4
          ],
          [
           2
          ],
          [
           2
          ],
          [
           2
          ],
          [
           1
          ],
          [
           1
          ],
          [
           1
          ],
          [
           1
          ],
          [
           1
          ],
          [
           5
          ],
          [
           2
          ],
          [
           1
          ],
          [
           1
          ],
          [
           3
          ],
          [
           2
          ],
          [
           2
          ],
          [
           1
          ],
          [
           1
          ],
          [
           2
          ],
          [
           1
          ],
          [
           2
          ],
          [
           3
          ],
          [
           1
          ],
          [
           1
          ],
          [
           2
          ],
          [
           1
          ],
          [
           3
          ],
          [
           4
          ],
          [
           1
          ],
          [
           1
          ],
          [
           2
          ],
          [
           2
          ],
          [
           1
          ],
          [
           1
          ],
          [
           1
          ],
          [
           1
          ],
          [
           1
          ],
          [
           1
          ],
          [
           1
          ],
          [
           3
          ],
          [
           1
          ],
          [
           1
          ],
          [
           2
          ],
          [
           1
          ],
          [
           4
          ],
          [
           1
          ],
          [
           3
          ],
          [
           3
          ],
          [
           1
          ],
          [
           4
          ],
          [
           1
          ],
          [
           1
          ],
          [
           3
          ],
          [
           4
          ],
          [
           1
          ],
          [
           1
          ],
          [
           3
          ],
          [
           2
          ],
          [
           5
          ],
          [
           2
          ],
          [
           1
          ],
          [
           2
          ],
          [
           1
          ],
          [
           3
          ],
          [
           1
          ],
          [
           1
          ],
          [
           1
          ],
          [
           3
          ],
          [
           3
          ],
          [
           4
          ],
          [
           4
          ],
          [
           1
          ],
          [
           5
          ],
          [
           3
          ],
          [
           1
          ],
          [
           2
          ],
          [
           1
          ],
          [
           1
          ],
          [
           1
          ],
          [
           1
          ],
          [
           2
          ],
          [
           7
          ],
          [
           2
          ],
          [
           5
          ],
          [
           3
          ],
          [
           5
          ],
          [
           1
          ],
          [
           2
          ],
          [
           1
          ],
          [
           1
          ],
          [
           1
          ],
          [
           1
          ],
          [
           1
          ],
          [
           1
          ],
          [
           1
          ],
          [
           1
          ],
          [
           1
          ],
          [
           1
          ],
          [
           1
          ],
          [
           1
          ],
          [
           1
          ],
          [
           1
          ],
          [
           2
          ],
          [
           1
          ],
          [
           1
          ],
          [
           1
          ],
          [
           1
          ],
          [
           1
          ],
          [
           4
          ],
          [
           1
          ],
          [
           1
          ],
          [
           1
          ],
          [
           1
          ],
          [
           1
          ],
          [
           1
          ],
          [
           2
          ],
          [
           2
          ],
          [
           1
          ],
          [
           2
          ],
          [
           1
          ],
          [
           2
          ],
          [
           1
          ],
          [
           1
          ],
          [
           2
          ],
          [
           1
          ],
          [
           1
          ],
          [
           1
          ],
          [
           2
          ],
          [
           2
          ],
          [
           1
          ],
          [
           1
          ],
          [
           1
          ],
          [
           1
          ],
          [
           1
          ],
          [
           1
          ],
          [
           2
          ],
          [
           1
          ],
          [
           1
          ],
          [
           1
          ],
          [
           1
          ],
          [
           1
          ],
          [
           1
          ],
          [
           1
          ],
          [
           1
          ],
          [
           1
          ],
          [
           1
          ],
          [
           1
          ],
          [
           1
          ],
          [
           1
          ],
          [
           1
          ],
          [
           1
          ],
          [
           1
          ],
          [
           3
          ],
          [
           1
          ],
          [
           2
          ],
          [
           1
          ],
          [
           1
          ],
          [
           2
          ],
          [
           1
          ],
          [
           1
          ],
          [
           2
          ],
          [
           2
          ],
          [
           1
          ],
          [
           3
          ],
          [
           1
          ],
          [
           2
          ],
          [
           3
          ],
          [
           2
          ],
          [
           4
          ],
          [
           1
          ],
          [
           2
          ],
          [
           2
          ],
          [
           2
          ],
          [
           1
          ],
          [
           2
          ],
          [
           2
          ],
          [
           1
          ],
          [
           2
          ],
          [
           1
          ],
          [
           1
          ],
          [
           1
          ],
          [
           1
          ],
          [
           2
          ],
          [
           1
          ],
          [
           3
          ],
          [
           1
          ],
          [
           1
          ],
          [
           1
          ],
          [
           2
          ],
          [
           2
          ],
          [
           2
          ],
          [
           1
          ],
          [
           3
          ],
          [
           1
          ],
          [
           1
          ],
          [
           1
          ],
          [
           3
          ],
          [
           1
          ],
          [
           4
          ],
          [
           2
          ],
          [
           1
          ],
          [
           2
          ],
          [
           3
          ],
          [
           2
          ],
          [
           4
          ],
          [
           2
          ],
          [
           3
          ],
          [
           1
          ],
          [
           1
          ],
          [
           1
          ],
          [
           1
          ],
          [
           1
          ],
          [
           2
          ],
          [
           1
          ],
          [
           1
          ],
          [
           1
          ],
          [
           1
          ],
          [
           1
          ],
          [
           1
          ],
          [
           1
          ],
          [
           1
          ],
          [
           1
          ],
          [
           1
          ],
          [
           1
          ],
          [
           1
          ],
          [
           1
          ],
          [
           1
          ],
          [
           1
          ],
          [
           2
          ],
          [
           1
          ],
          [
           1
          ],
          [
           1
          ],
          [
           2
          ],
          [
           1
          ],
          [
           1
          ],
          [
           2
          ],
          [
           1
          ],
          [
           1
          ],
          [
           1
          ],
          [
           1
          ],
          [
           1
          ],
          [
           2
          ],
          [
           1
          ],
          [
           4
          ],
          [
           1
          ],
          [
           2
          ],
          [
           1
          ],
          [
           1
          ],
          [
           1
          ],
          [
           2
          ],
          [
           2
          ],
          [
           1
          ],
          [
           1
          ],
          [
           1
          ],
          [
           1
          ],
          [
           1
          ],
          [
           1
          ],
          [
           1
          ],
          [
           1
          ],
          [
           1
          ],
          [
           1
          ],
          [
           2
          ],
          [
           1
          ],
          [
           2
          ],
          [
           1
          ],
          [
           1
          ],
          [
           1
          ],
          [
           1
          ],
          [
           1
          ],
          [
           1
          ],
          [
           1
          ],
          [
           1
          ],
          [
           1
          ],
          [
           1
          ],
          [
           1
          ],
          [
           1
          ],
          [
           1
          ],
          [
           1
          ],
          [
           1
          ],
          [
           1
          ],
          [
           1
          ],
          [
           1
          ],
          [
           1
          ],
          [
           1
          ],
          [
           1
          ],
          [
           1
          ],
          [
           1
          ],
          [
           1
          ],
          [
           1
          ],
          [
           1
          ],
          [
           1
          ],
          [
           1
          ],
          [
           1
          ],
          [
           1
          ],
          [
           1
          ],
          [
           1
          ],
          [
           2
          ],
          [
           1
          ],
          [
           1
          ],
          [
           1
          ],
          [
           1
          ],
          [
           1
          ],
          [
           1
          ],
          [
           2
          ],
          [
           1
          ],
          [
           1
          ],
          [
           1
          ],
          [
           1
          ],
          [
           1
          ],
          [
           1
          ],
          [
           1
          ],
          [
           1
          ],
          [
           1
          ],
          [
           1
          ],
          [
           1
          ],
          [
           1
          ],
          [
           1
          ]
         ],
         "hoverlabel": {
          "namelength": 0
         },
         "hovertemplate": "<b>%{hovertext}</b><br><br>tag=extracorporeal membrane oxygenation (ECMO)<br>publish_time=%{x}<br>phase=%{y}<br>count=%{customdata[0]}",
         "hovertext": [
          "extracorporeal membrane oxygenation (ECMO)",
          "extracorporeal membrane oxygenation (ECMO)",
          "extracorporeal membrane oxygenation (ECMO)",
          "extracorporeal membrane oxygenation (ECMO)",
          "extracorporeal membrane oxygenation (ECMO)",
          "extracorporeal membrane oxygenation (ECMO)",
          "extracorporeal membrane oxygenation (ECMO)",
          "extracorporeal membrane oxygenation (ECMO)",
          "extracorporeal membrane oxygenation (ECMO)",
          "extracorporeal membrane oxygenation (ECMO)",
          "extracorporeal membrane oxygenation (ECMO)",
          "extracorporeal membrane oxygenation (ECMO)",
          "extracorporeal membrane oxygenation (ECMO)",
          "extracorporeal membrane oxygenation (ECMO)",
          "extracorporeal membrane oxygenation (ECMO)",
          "extracorporeal membrane oxygenation (ECMO)",
          "extracorporeal membrane oxygenation (ECMO)",
          "extracorporeal membrane oxygenation (ECMO)",
          "extracorporeal membrane oxygenation (ECMO)",
          "extracorporeal membrane oxygenation (ECMO)",
          "extracorporeal membrane oxygenation (ECMO)",
          "extracorporeal membrane oxygenation (ECMO)",
          "extracorporeal membrane oxygenation (ECMO)",
          "extracorporeal membrane oxygenation (ECMO)",
          "extracorporeal membrane oxygenation (ECMO)",
          "extracorporeal membrane oxygenation (ECMO)",
          "extracorporeal membrane oxygenation (ECMO)",
          "extracorporeal membrane oxygenation (ECMO)",
          "extracorporeal membrane oxygenation (ECMO)",
          "extracorporeal membrane oxygenation (ECMO)",
          "extracorporeal membrane oxygenation (ECMO)",
          "extracorporeal membrane oxygenation (ECMO)",
          "extracorporeal membrane oxygenation (ECMO)",
          "extracorporeal membrane oxygenation (ECMO)",
          "extracorporeal membrane oxygenation (ECMO)",
          "extracorporeal membrane oxygenation (ECMO)",
          "extracorporeal membrane oxygenation (ECMO)",
          "extracorporeal membrane oxygenation (ECMO)",
          "extracorporeal membrane oxygenation (ECMO)",
          "extracorporeal membrane oxygenation (ECMO)",
          "extracorporeal membrane oxygenation (ECMO)",
          "extracorporeal membrane oxygenation (ECMO)",
          "extracorporeal membrane oxygenation (ECMO)",
          "extracorporeal membrane oxygenation (ECMO)",
          "extracorporeal membrane oxygenation (ECMO)",
          "extracorporeal membrane oxygenation (ECMO)",
          "extracorporeal membrane oxygenation (ECMO)",
          "extracorporeal membrane oxygenation (ECMO)",
          "extracorporeal membrane oxygenation (ECMO)",
          "extracorporeal membrane oxygenation (ECMO)",
          "extracorporeal membrane oxygenation (ECMO)",
          "extracorporeal membrane oxygenation (ECMO)",
          "extracorporeal membrane oxygenation (ECMO)",
          "extracorporeal membrane oxygenation (ECMO)",
          "extracorporeal membrane oxygenation (ECMO)",
          "extracorporeal membrane oxygenation (ECMO)",
          "extracorporeal membrane oxygenation (ECMO)",
          "extracorporeal membrane oxygenation (ECMO)",
          "extracorporeal membrane oxygenation (ECMO)",
          "extracorporeal membrane oxygenation (ECMO)",
          "extracorporeal membrane oxygenation (ECMO)",
          "extracorporeal membrane oxygenation (ECMO)",
          "extracorporeal membrane oxygenation (ECMO)",
          "extracorporeal membrane oxygenation (ECMO)",
          "extracorporeal membrane oxygenation (ECMO)",
          "extracorporeal membrane oxygenation (ECMO)",
          "extracorporeal membrane oxygenation (ECMO)",
          "extracorporeal membrane oxygenation (ECMO)",
          "extracorporeal membrane oxygenation (ECMO)",
          "extracorporeal membrane oxygenation (ECMO)",
          "extracorporeal membrane oxygenation (ECMO)",
          "extracorporeal membrane oxygenation (ECMO)",
          "extracorporeal membrane oxygenation (ECMO)",
          "extracorporeal membrane oxygenation (ECMO)",
          "extracorporeal membrane oxygenation (ECMO)",
          "extracorporeal membrane oxygenation (ECMO)",
          "extracorporeal membrane oxygenation (ECMO)",
          "extracorporeal membrane oxygenation (ECMO)",
          "extracorporeal membrane oxygenation (ECMO)",
          "extracorporeal membrane oxygenation (ECMO)",
          "extracorporeal membrane oxygenation (ECMO)",
          "extracorporeal membrane oxygenation (ECMO)",
          "extracorporeal membrane oxygenation (ECMO)",
          "extracorporeal membrane oxygenation (ECMO)",
          "extracorporeal membrane oxygenation (ECMO)",
          "extracorporeal membrane oxygenation (ECMO)",
          "extracorporeal membrane oxygenation (ECMO)",
          "extracorporeal membrane oxygenation (ECMO)",
          "extracorporeal membrane oxygenation (ECMO)",
          "extracorporeal membrane oxygenation (ECMO)",
          "extracorporeal membrane oxygenation (ECMO)",
          "extracorporeal membrane oxygenation (ECMO)",
          "extracorporeal membrane oxygenation (ECMO)",
          "extracorporeal membrane oxygenation (ECMO)",
          "extracorporeal membrane oxygenation (ECMO)",
          "extracorporeal membrane oxygenation (ECMO)",
          "extracorporeal membrane oxygenation (ECMO)",
          "extracorporeal membrane oxygenation (ECMO)",
          "extracorporeal membrane oxygenation (ECMO)",
          "extracorporeal membrane oxygenation (ECMO)",
          "extracorporeal membrane oxygenation (ECMO)",
          "extracorporeal membrane oxygenation (ECMO)",
          "extracorporeal membrane oxygenation (ECMO)",
          "extracorporeal membrane oxygenation (ECMO)",
          "extracorporeal membrane oxygenation (ECMO)",
          "extracorporeal membrane oxygenation (ECMO)",
          "extracorporeal membrane oxygenation (ECMO)",
          "extracorporeal membrane oxygenation (ECMO)",
          "extracorporeal membrane oxygenation (ECMO)",
          "extracorporeal membrane oxygenation (ECMO)",
          "extracorporeal membrane oxygenation (ECMO)",
          "extracorporeal membrane oxygenation (ECMO)",
          "extracorporeal membrane oxygenation (ECMO)",
          "extracorporeal membrane oxygenation (ECMO)",
          "extracorporeal membrane oxygenation (ECMO)",
          "extracorporeal membrane oxygenation (ECMO)",
          "extracorporeal membrane oxygenation (ECMO)",
          "extracorporeal membrane oxygenation (ECMO)",
          "extracorporeal membrane oxygenation (ECMO)",
          "extracorporeal membrane oxygenation (ECMO)",
          "extracorporeal membrane oxygenation (ECMO)",
          "extracorporeal membrane oxygenation (ECMO)",
          "extracorporeal membrane oxygenation (ECMO)",
          "extracorporeal membrane oxygenation (ECMO)",
          "extracorporeal membrane oxygenation (ECMO)",
          "extracorporeal membrane oxygenation (ECMO)",
          "extracorporeal membrane oxygenation (ECMO)",
          "extracorporeal membrane oxygenation (ECMO)",
          "extracorporeal membrane oxygenation (ECMO)",
          "extracorporeal membrane oxygenation (ECMO)",
          "extracorporeal membrane oxygenation (ECMO)",
          "extracorporeal membrane oxygenation (ECMO)",
          "extracorporeal membrane oxygenation (ECMO)",
          "extracorporeal membrane oxygenation (ECMO)",
          "extracorporeal membrane oxygenation (ECMO)",
          "extracorporeal membrane oxygenation (ECMO)",
          "extracorporeal membrane oxygenation (ECMO)",
          "extracorporeal membrane oxygenation (ECMO)",
          "extracorporeal membrane oxygenation (ECMO)",
          "extracorporeal membrane oxygenation (ECMO)",
          "extracorporeal membrane oxygenation (ECMO)",
          "extracorporeal membrane oxygenation (ECMO)",
          "extracorporeal membrane oxygenation (ECMO)",
          "extracorporeal membrane oxygenation (ECMO)",
          "extracorporeal membrane oxygenation (ECMO)",
          "extracorporeal membrane oxygenation (ECMO)",
          "extracorporeal membrane oxygenation (ECMO)",
          "extracorporeal membrane oxygenation (ECMO)",
          "extracorporeal membrane oxygenation (ECMO)",
          "extracorporeal membrane oxygenation (ECMO)",
          "extracorporeal membrane oxygenation (ECMO)",
          "extracorporeal membrane oxygenation (ECMO)",
          "extracorporeal membrane oxygenation (ECMO)",
          "extracorporeal membrane oxygenation (ECMO)",
          "extracorporeal membrane oxygenation (ECMO)",
          "extracorporeal membrane oxygenation (ECMO)",
          "extracorporeal membrane oxygenation (ECMO)",
          "extracorporeal membrane oxygenation (ECMO)",
          "extracorporeal membrane oxygenation (ECMO)",
          "extracorporeal membrane oxygenation (ECMO)",
          "extracorporeal membrane oxygenation (ECMO)",
          "extracorporeal membrane oxygenation (ECMO)",
          "extracorporeal membrane oxygenation (ECMO)",
          "extracorporeal membrane oxygenation (ECMO)",
          "extracorporeal membrane oxygenation (ECMO)",
          "extracorporeal membrane oxygenation (ECMO)",
          "extracorporeal membrane oxygenation (ECMO)",
          "extracorporeal membrane oxygenation (ECMO)",
          "extracorporeal membrane oxygenation (ECMO)",
          "extracorporeal membrane oxygenation (ECMO)",
          "extracorporeal membrane oxygenation (ECMO)",
          "extracorporeal membrane oxygenation (ECMO)",
          "extracorporeal membrane oxygenation (ECMO)",
          "extracorporeal membrane oxygenation (ECMO)",
          "extracorporeal membrane oxygenation (ECMO)",
          "extracorporeal membrane oxygenation (ECMO)",
          "extracorporeal membrane oxygenation (ECMO)",
          "extracorporeal membrane oxygenation (ECMO)",
          "extracorporeal membrane oxygenation (ECMO)",
          "extracorporeal membrane oxygenation (ECMO)",
          "extracorporeal membrane oxygenation (ECMO)",
          "extracorporeal membrane oxygenation (ECMO)",
          "extracorporeal membrane oxygenation (ECMO)",
          "extracorporeal membrane oxygenation (ECMO)",
          "extracorporeal membrane oxygenation (ECMO)",
          "extracorporeal membrane oxygenation (ECMO)",
          "extracorporeal membrane oxygenation (ECMO)",
          "extracorporeal membrane oxygenation (ECMO)",
          "extracorporeal membrane oxygenation (ECMO)",
          "extracorporeal membrane oxygenation (ECMO)",
          "extracorporeal membrane oxygenation (ECMO)",
          "extracorporeal membrane oxygenation (ECMO)",
          "extracorporeal membrane oxygenation (ECMO)",
          "extracorporeal membrane oxygenation (ECMO)",
          "extracorporeal membrane oxygenation (ECMO)",
          "extracorporeal membrane oxygenation (ECMO)",
          "extracorporeal membrane oxygenation (ECMO)",
          "extracorporeal membrane oxygenation (ECMO)",
          "extracorporeal membrane oxygenation (ECMO)",
          "extracorporeal membrane oxygenation (ECMO)",
          "extracorporeal membrane oxygenation (ECMO)",
          "extracorporeal membrane oxygenation (ECMO)",
          "extracorporeal membrane oxygenation (ECMO)",
          "extracorporeal membrane oxygenation (ECMO)",
          "extracorporeal membrane oxygenation (ECMO)",
          "extracorporeal membrane oxygenation (ECMO)",
          "extracorporeal membrane oxygenation (ECMO)",
          "extracorporeal membrane oxygenation (ECMO)",
          "extracorporeal membrane oxygenation (ECMO)",
          "extracorporeal membrane oxygenation (ECMO)",
          "extracorporeal membrane oxygenation (ECMO)",
          "extracorporeal membrane oxygenation (ECMO)",
          "extracorporeal membrane oxygenation (ECMO)",
          "extracorporeal membrane oxygenation (ECMO)",
          "extracorporeal membrane oxygenation (ECMO)",
          "extracorporeal membrane oxygenation (ECMO)",
          "extracorporeal membrane oxygenation (ECMO)",
          "extracorporeal membrane oxygenation (ECMO)",
          "extracorporeal membrane oxygenation (ECMO)",
          "extracorporeal membrane oxygenation (ECMO)",
          "extracorporeal membrane oxygenation (ECMO)",
          "extracorporeal membrane oxygenation (ECMO)",
          "extracorporeal membrane oxygenation (ECMO)",
          "extracorporeal membrane oxygenation (ECMO)",
          "extracorporeal membrane oxygenation (ECMO)",
          "extracorporeal membrane oxygenation (ECMO)",
          "extracorporeal membrane oxygenation (ECMO)",
          "extracorporeal membrane oxygenation (ECMO)",
          "extracorporeal membrane oxygenation (ECMO)",
          "extracorporeal membrane oxygenation (ECMO)",
          "extracorporeal membrane oxygenation (ECMO)",
          "extracorporeal membrane oxygenation (ECMO)",
          "extracorporeal membrane oxygenation (ECMO)",
          "extracorporeal membrane oxygenation (ECMO)",
          "extracorporeal membrane oxygenation (ECMO)",
          "extracorporeal membrane oxygenation (ECMO)",
          "extracorporeal membrane oxygenation (ECMO)",
          "extracorporeal membrane oxygenation (ECMO)",
          "extracorporeal membrane oxygenation (ECMO)",
          "extracorporeal membrane oxygenation (ECMO)",
          "extracorporeal membrane oxygenation (ECMO)",
          "extracorporeal membrane oxygenation (ECMO)",
          "extracorporeal membrane oxygenation (ECMO)",
          "extracorporeal membrane oxygenation (ECMO)",
          "extracorporeal membrane oxygenation (ECMO)",
          "extracorporeal membrane oxygenation (ECMO)",
          "extracorporeal membrane oxygenation (ECMO)",
          "extracorporeal membrane oxygenation (ECMO)",
          "extracorporeal membrane oxygenation (ECMO)",
          "extracorporeal membrane oxygenation (ECMO)",
          "extracorporeal membrane oxygenation (ECMO)",
          "extracorporeal membrane oxygenation (ECMO)",
          "extracorporeal membrane oxygenation (ECMO)",
          "extracorporeal membrane oxygenation (ECMO)",
          "extracorporeal membrane oxygenation (ECMO)",
          "extracorporeal membrane oxygenation (ECMO)",
          "extracorporeal membrane oxygenation (ECMO)",
          "extracorporeal membrane oxygenation (ECMO)",
          "extracorporeal membrane oxygenation (ECMO)",
          "extracorporeal membrane oxygenation (ECMO)",
          "extracorporeal membrane oxygenation (ECMO)",
          "extracorporeal membrane oxygenation (ECMO)",
          "extracorporeal membrane oxygenation (ECMO)",
          "extracorporeal membrane oxygenation (ECMO)",
          "extracorporeal membrane oxygenation (ECMO)",
          "extracorporeal membrane oxygenation (ECMO)",
          "extracorporeal membrane oxygenation (ECMO)",
          "extracorporeal membrane oxygenation (ECMO)",
          "extracorporeal membrane oxygenation (ECMO)",
          "extracorporeal membrane oxygenation (ECMO)",
          "extracorporeal membrane oxygenation (ECMO)",
          "extracorporeal membrane oxygenation (ECMO)",
          "extracorporeal membrane oxygenation (ECMO)",
          "extracorporeal membrane oxygenation (ECMO)",
          "extracorporeal membrane oxygenation (ECMO)",
          "extracorporeal membrane oxygenation (ECMO)",
          "extracorporeal membrane oxygenation (ECMO)",
          "extracorporeal membrane oxygenation (ECMO)",
          "extracorporeal membrane oxygenation (ECMO)",
          "extracorporeal membrane oxygenation (ECMO)",
          "extracorporeal membrane oxygenation (ECMO)",
          "extracorporeal membrane oxygenation (ECMO)",
          "extracorporeal membrane oxygenation (ECMO)",
          "extracorporeal membrane oxygenation (ECMO)",
          "extracorporeal membrane oxygenation (ECMO)",
          "extracorporeal membrane oxygenation (ECMO)",
          "extracorporeal membrane oxygenation (ECMO)",
          "extracorporeal membrane oxygenation (ECMO)",
          "extracorporeal membrane oxygenation (ECMO)",
          "extracorporeal membrane oxygenation (ECMO)",
          "extracorporeal membrane oxygenation (ECMO)",
          "extracorporeal membrane oxygenation (ECMO)",
          "extracorporeal membrane oxygenation (ECMO)",
          "extracorporeal membrane oxygenation (ECMO)",
          "extracorporeal membrane oxygenation (ECMO)",
          "extracorporeal membrane oxygenation (ECMO)",
          "extracorporeal membrane oxygenation (ECMO)",
          "extracorporeal membrane oxygenation (ECMO)",
          "extracorporeal membrane oxygenation (ECMO)",
          "extracorporeal membrane oxygenation (ECMO)",
          "extracorporeal membrane oxygenation (ECMO)",
          "extracorporeal membrane oxygenation (ECMO)",
          "extracorporeal membrane oxygenation (ECMO)",
          "extracorporeal membrane oxygenation (ECMO)",
          "extracorporeal membrane oxygenation (ECMO)",
          "extracorporeal membrane oxygenation (ECMO)",
          "extracorporeal membrane oxygenation (ECMO)",
          "extracorporeal membrane oxygenation (ECMO)",
          "extracorporeal membrane oxygenation (ECMO)",
          "extracorporeal membrane oxygenation (ECMO)",
          "extracorporeal membrane oxygenation (ECMO)",
          "extracorporeal membrane oxygenation (ECMO)",
          "extracorporeal membrane oxygenation (ECMO)",
          "extracorporeal membrane oxygenation (ECMO)",
          "extracorporeal membrane oxygenation (ECMO)",
          "extracorporeal membrane oxygenation (ECMO)",
          "extracorporeal membrane oxygenation (ECMO)",
          "extracorporeal membrane oxygenation (ECMO)",
          "extracorporeal membrane oxygenation (ECMO)",
          "extracorporeal membrane oxygenation (ECMO)",
          "extracorporeal membrane oxygenation (ECMO)",
          "extracorporeal membrane oxygenation (ECMO)",
          "extracorporeal membrane oxygenation (ECMO)",
          "extracorporeal membrane oxygenation (ECMO)",
          "extracorporeal membrane oxygenation (ECMO)",
          "extracorporeal membrane oxygenation (ECMO)",
          "extracorporeal membrane oxygenation (ECMO)",
          "extracorporeal membrane oxygenation (ECMO)",
          "extracorporeal membrane oxygenation (ECMO)",
          "extracorporeal membrane oxygenation (ECMO)",
          "extracorporeal membrane oxygenation (ECMO)",
          "extracorporeal membrane oxygenation (ECMO)",
          "extracorporeal membrane oxygenation (ECMO)",
          "extracorporeal membrane oxygenation (ECMO)",
          "extracorporeal membrane oxygenation (ECMO)",
          "extracorporeal membrane oxygenation (ECMO)",
          "extracorporeal membrane oxygenation (ECMO)",
          "extracorporeal membrane oxygenation (ECMO)",
          "extracorporeal membrane oxygenation (ECMO)",
          "extracorporeal membrane oxygenation (ECMO)",
          "extracorporeal membrane oxygenation (ECMO)",
          "extracorporeal membrane oxygenation (ECMO)",
          "extracorporeal membrane oxygenation (ECMO)",
          "extracorporeal membrane oxygenation (ECMO)",
          "extracorporeal membrane oxygenation (ECMO)",
          "extracorporeal membrane oxygenation (ECMO)",
          "extracorporeal membrane oxygenation (ECMO)",
          "extracorporeal membrane oxygenation (ECMO)",
          "extracorporeal membrane oxygenation (ECMO)",
          "extracorporeal membrane oxygenation (ECMO)",
          "extracorporeal membrane oxygenation (ECMO)",
          "extracorporeal membrane oxygenation (ECMO)",
          "extracorporeal membrane oxygenation (ECMO)",
          "extracorporeal membrane oxygenation (ECMO)",
          "extracorporeal membrane oxygenation (ECMO)",
          "extracorporeal membrane oxygenation (ECMO)",
          "extracorporeal membrane oxygenation (ECMO)",
          "extracorporeal membrane oxygenation (ECMO)",
          "extracorporeal membrane oxygenation (ECMO)",
          "extracorporeal membrane oxygenation (ECMO)",
          "extracorporeal membrane oxygenation (ECMO)",
          "extracorporeal membrane oxygenation (ECMO)",
          "extracorporeal membrane oxygenation (ECMO)",
          "extracorporeal membrane oxygenation (ECMO)",
          "extracorporeal membrane oxygenation (ECMO)",
          "extracorporeal membrane oxygenation (ECMO)",
          "extracorporeal membrane oxygenation (ECMO)",
          "extracorporeal membrane oxygenation (ECMO)",
          "extracorporeal membrane oxygenation (ECMO)",
          "extracorporeal membrane oxygenation (ECMO)",
          "extracorporeal membrane oxygenation (ECMO)",
          "extracorporeal membrane oxygenation (ECMO)"
         ],
         "legendgroup": "extracorporeal membrane oxygenation (ECMO)",
         "marker": {
          "color": "#EF553B",
          "size": [
           1,
           1,
           1,
           1,
           1,
           1,
           1,
           1,
           1,
           1,
           1,
           3,
           1,
           1,
           1,
           1,
           1,
           1,
           1,
           1,
           1,
           1,
           2,
           2,
           1,
           2,
           1,
           1,
           1,
           2,
           2,
           1,
           1,
           1,
           2,
           1,
           3,
           1,
           1,
           3,
           4,
           1,
           1,
           1,
           1,
           1,
           1,
           2,
           3,
           2,
           8,
           1,
           3,
           1,
           1,
           4,
           2,
           2,
           2,
           1,
           1,
           1,
           1,
           1,
           5,
           2,
           1,
           1,
           3,
           2,
           2,
           1,
           1,
           2,
           1,
           2,
           3,
           1,
           1,
           2,
           1,
           3,
           4,
           1,
           1,
           2,
           2,
           1,
           1,
           1,
           1,
           1,
           1,
           1,
           3,
           1,
           1,
           2,
           1,
           4,
           1,
           3,
           3,
           1,
           4,
           1,
           1,
           3,
           4,
           1,
           1,
           3,
           2,
           5,
           2,
           1,
           2,
           1,
           3,
           1,
           1,
           1,
           3,
           3,
           4,
           4,
           1,
           5,
           3,
           1,
           2,
           1,
           1,
           1,
           1,
           2,
           7,
           2,
           5,
           3,
           5,
           1,
           2,
           1,
           1,
           1,
           1,
           1,
           1,
           1,
           1,
           1,
           1,
           1,
           1,
           1,
           1,
           2,
           1,
           1,
           1,
           1,
           1,
           4,
           1,
           1,
           1,
           1,
           1,
           1,
           2,
           2,
           1,
           2,
           1,
           2,
           1,
           1,
           2,
           1,
           1,
           1,
           2,
           2,
           1,
           1,
           1,
           1,
           1,
           1,
           2,
           1,
           1,
           1,
           1,
           1,
           1,
           1,
           1,
           1,
           1,
           1,
           1,
           1,
           1,
           1,
           1,
           3,
           1,
           2,
           1,
           1,
           2,
           1,
           1,
           2,
           2,
           1,
           3,
           1,
           2,
           3,
           2,
           4,
           1,
           2,
           2,
           2,
           1,
           2,
           2,
           1,
           2,
           1,
           1,
           1,
           1,
           2,
           1,
           3,
           1,
           1,
           1,
           2,
           2,
           2,
           1,
           3,
           1,
           1,
           1,
           3,
           1,
           4,
           2,
           1,
           2,
           3,
           2,
           4,
           2,
           3,
           1,
           1,
           1,
           1,
           1,
           2,
           1,
           1,
           1,
           1,
           1,
           1,
           1,
           1,
           1,
           1,
           1,
           1,
           1,
           1,
           1,
           2,
           1,
           1,
           1,
           2,
           1,
           1,
           2,
           1,
           1,
           1,
           1,
           1,
           2,
           1,
           4,
           1,
           2,
           1,
           1,
           1,
           2,
           2,
           1,
           1,
           1,
           1,
           1,
           1,
           1,
           1,
           1,
           1,
           2,
           1,
           2,
           1,
           1,
           1,
           1,
           1,
           1,
           1,
           1,
           1,
           1,
           1,
           1,
           1,
           1,
           1,
           1,
           1,
           1,
           1,
           1,
           1,
           1,
           1,
           1,
           1,
           1,
           1,
           1,
           1,
           1,
           1,
           1,
           2,
           1,
           1,
           1,
           1,
           1,
           1,
           2,
           1,
           1,
           1,
           1,
           1,
           1,
           1,
           1,
           1,
           1,
           1,
           1,
           1
          ],
          "sizemode": "area",
          "sizeref": 0.02,
          "symbol": "circle"
         },
         "mode": "markers",
         "name": "extracorporeal membrane oxygenation (ECMO)",
         "showlegend": true,
         "type": "scattergl",
         "x": [
          "1977-02",
          "1980-09",
          "1981-11",
          "1984-02",
          "1987-06",
          "1988-11",
          "1989-11",
          "1989-12",
          "1990-10",
          "1990-12",
          "1991-06",
          "1991-12",
          "1997-04",
          "1997-05",
          "1997-07",
          "2000-06",
          "2001-09",
          "2002-01",
          "2002-03",
          "2002-12",
          "2003-03",
          "2003-06",
          "2003-11",
          "2004-02",
          "2004-03",
          "2004-06",
          "2004-08",
          "2004-09",
          "2004-11",
          "2004-12",
          "2005-01",
          "2005-07",
          "2005-09",
          "2005-11",
          "2005-12",
          "2006-01",
          "2006-02",
          "2006-03",
          "2006-05",
          "2006-08",
          "2006-12",
          "2007-05",
          "2007-07",
          "2007-09",
          "2007-11",
          "2007-12",
          "2008-03",
          "2008-07",
          "2008-09",
          "2008-10",
          "2008-12",
          "2009-05",
          "2009-07",
          "2009-09",
          "2009-10",
          "2009-12",
          "2010-01",
          "2010-03",
          "2010-04",
          "2010-05",
          "2010-06",
          "2010-08",
          "2010-10",
          "2010-11",
          "2010-12",
          "2011-02",
          "2011-03",
          "2011-04",
          "2011-07",
          "2011-10",
          "2011-12",
          "2012-02",
          "2012-04",
          "2012-05",
          "2012-07",
          "2012-10",
          "2012-12",
          "2013-04",
          "2013-06",
          "2013-08",
          "2013-09",
          "2013-10",
          "2013-12",
          "2014-01",
          "2014-02",
          "2014-06",
          "2014-07",
          "2014-08",
          "2014-09",
          "2014-10",
          "2014-11",
          "2014-12",
          "2015-01",
          "2015-02",
          "2015-03",
          "2015-04",
          "2015-07",
          "2015-08",
          "2015-10",
          "2015-11",
          "2015-12",
          "2016-01",
          "2016-03",
          "2016-08",
          "2016-10",
          "2016-11",
          "2016-12",
          "2017-01",
          "2017-03",
          "2017-04",
          "2017-05",
          "2017-06",
          "2017-07",
          "2017-08",
          "2017-10",
          "2017-12",
          "2018-01",
          "2018-02",
          "2018-03",
          "2018-06",
          "2018-07",
          "2018-08",
          "2018-09",
          "2018-10",
          "2018-11",
          "2018-12",
          "2019-01",
          "2019-02",
          "2019-03",
          "2019-04",
          "2019-05",
          "2019-06",
          "2019-07",
          "2019-08",
          "2019-09",
          "2019-10",
          "2019-11",
          "2019-12",
          "2020-01",
          "2020-02",
          "2020-03",
          "2020-05",
          "2020-12",
          "1982-06",
          "1984-12",
          "1985-10",
          "1989-08",
          "1994-04",
          "1999-06",
          "1999-10",
          "2000-11",
          "2002-07",
          "2003-09",
          "2003-12",
          "2004-03",
          "2004-11",
          "2005-05",
          "2005-08",
          "2005-12",
          "2006-02",
          "2006-05",
          "2006-06",
          "2006-10",
          "2006-12",
          "2007-02",
          "2007-03",
          "2007-04",
          "2007-07",
          "2007-08",
          "2007-09",
          "2007-10",
          "2007-12",
          "2008-02",
          "2008-07",
          "2008-10",
          "2008-12",
          "2009-03",
          "2009-05",
          "2009-06",
          "2009-08",
          "2009-09",
          "2009-10",
          "2009-11",
          "2010-03",
          "2010-06",
          "2010-12",
          "2011-01",
          "2011-02",
          "2011-03",
          "2011-06",
          "2011-07",
          "2011-08",
          "2011-10",
          "2011-12",
          "2012-03",
          "2012-04",
          "2012-05",
          "2012-07",
          "2012-08",
          "2012-09",
          "2012-10",
          "2012-11",
          "2013-02",
          "2013-03",
          "2013-04",
          "2013-08",
          "2013-09",
          "2013-11",
          "2013-12",
          "2014-01",
          "2014-04",
          "2014-05",
          "2014-08",
          "2014-09",
          "2014-10",
          "2014-11",
          "2014-12",
          "2015-01",
          "2015-04",
          "2015-05",
          "2015-07",
          "2015-09",
          "2015-11",
          "2015-12",
          "2016-01",
          "2016-02",
          "2016-03",
          "2016-07",
          "2016-08",
          "2016-11",
          "2016-12",
          "2017-01",
          "2017-02",
          "2017-03",
          "2017-04",
          "2017-05",
          "2017-08",
          "2017-09",
          "2017-12",
          "2018-01",
          "2018-02",
          "2018-03",
          "2018-04",
          "2018-06",
          "2018-07",
          "2018-08",
          "2018-11",
          "2018-12",
          "2019-01",
          "2019-02",
          "2019-03",
          "2019-05",
          "2019-06",
          "2019-07",
          "2019-08",
          "2019-09",
          "2019-10",
          "2019-12",
          "2020-01",
          "2020-02",
          "2020-03",
          "2020-04",
          "1995-11",
          "1996-06",
          "1996-11",
          "1997-04",
          "1997-08",
          "2001-12",
          "2002-12",
          "2003-09",
          "2004-06",
          "2004-07",
          "2005-04",
          "2005-12",
          "2006-03",
          "2006-12",
          "2007-01",
          "2007-04",
          "2007-05",
          "2007-12",
          "2008-12",
          "2009-03",
          "2009-09",
          "2010-10",
          "2010-12",
          "2011-08",
          "2011-10",
          "2012-02",
          "2012-06",
          "2012-07",
          "2012-09",
          "2013-02",
          "2013-03",
          "2013-05",
          "2013-09",
          "2013-10",
          "2013-11",
          "2013-12",
          "2014-01",
          "2015-03",
          "2015-04",
          "2015-08",
          "2015-09",
          "2015-10",
          "2016-04",
          "2016-11",
          "2016-12",
          "2017-07",
          "2017-09",
          "2017-12",
          "2018-01",
          "2018-04",
          "2018-07",
          "2018-08",
          "2018-09",
          "2018-11",
          "2019-02",
          "2019-03",
          "2019-04",
          "2020-02",
          "1994-01",
          "1995-04",
          "2004-02",
          "2005-01",
          "2006-12",
          "2007-06",
          "2008-08",
          "2008-12",
          "2009-03",
          "2009-04",
          "2010-08",
          "2010-09",
          "2011-10",
          "2012-08",
          "2012-11",
          "2012-12",
          "2013-10",
          "2013-12",
          "2014-10",
          "2015-01",
          "2016-01",
          "2016-06",
          "2016-08",
          "2016-11",
          "2016-12",
          "2017-02",
          "2017-10",
          "2017-11",
          "2018-01",
          "2018-02",
          "2018-05",
          "2019-03",
          "2019-10",
          "2019-11",
          "2019-12",
          "2020-01",
          "2020-02",
          "2020-04",
          "2020-05",
          "1994-12",
          "2006-12",
          "2007-05",
          "2008-12",
          "2009-12",
          "2010-11",
          "2012-10",
          "2014-05",
          "2014-11",
          "2017-03",
          "2018-09",
          "2019-07",
          "2019-10"
         ],
         "xaxis": "x",
         "y": [
          1,
          1,
          1,
          1,
          1,
          1,
          1,
          1,
          1,
          1,
          1,
          1,
          1,
          1,
          1,
          1,
          1,
          1,
          1,
          1,
          1,
          1,
          1,
          1,
          1,
          1,
          1,
          1,
          1,
          1,
          1,
          1,
          1,
          1,
          1,
          1,
          1,
          1,
          1,
          1,
          1,
          1,
          1,
          1,
          1,
          1,
          1,
          1,
          1,
          1,
          1,
          1,
          1,
          1,
          1,
          1,
          1,
          1,
          1,
          1,
          1,
          1,
          1,
          1,
          1,
          1,
          1,
          1,
          1,
          1,
          1,
          1,
          1,
          1,
          1,
          1,
          1,
          1,
          1,
          1,
          1,
          1,
          1,
          1,
          1,
          1,
          1,
          1,
          1,
          1,
          1,
          1,
          1,
          1,
          1,
          1,
          1,
          1,
          1,
          1,
          1,
          1,
          1,
          1,
          1,
          1,
          1,
          1,
          1,
          1,
          1,
          1,
          1,
          1,
          1,
          1,
          1,
          1,
          1,
          1,
          1,
          1,
          1,
          1,
          1,
          1,
          1,
          1,
          1,
          1,
          1,
          1,
          1,
          1,
          1,
          1,
          1,
          1,
          1,
          1,
          1,
          1,
          1,
          2,
          2,
          2,
          2,
          2,
          2,
          2,
          2,
          2,
          2,
          2,
          2,
          2,
          2,
          2,
          2,
          2,
          2,
          2,
          2,
          2,
          2,
          2,
          2,
          2,
          2,
          2,
          2,
          2,
          2,
          2,
          2,
          2,
          2,
          2,
          2,
          2,
          2,
          2,
          2,
          2,
          2,
          2,
          2,
          2,
          2,
          2,
          2,
          2,
          2,
          2,
          2,
          2,
          2,
          2,
          2,
          2,
          2,
          2,
          2,
          2,
          2,
          2,
          2,
          2,
          2,
          2,
          2,
          2,
          2,
          2,
          2,
          2,
          2,
          2,
          2,
          2,
          2,
          2,
          2,
          2,
          2,
          2,
          2,
          2,
          2,
          2,
          2,
          2,
          2,
          2,
          2,
          2,
          2,
          2,
          2,
          2,
          2,
          2,
          2,
          2,
          2,
          2,
          2,
          2,
          2,
          2,
          2,
          2,
          2,
          2,
          2,
          2,
          2,
          2,
          2,
          2,
          2,
          2,
          3,
          3,
          3,
          3,
          3,
          3,
          3,
          3,
          3,
          3,
          3,
          3,
          3,
          3,
          3,
          3,
          3,
          3,
          3,
          3,
          3,
          3,
          3,
          3,
          3,
          3,
          3,
          3,
          3,
          3,
          3,
          3,
          3,
          3,
          3,
          3,
          3,
          3,
          3,
          3,
          3,
          3,
          3,
          3,
          3,
          3,
          3,
          3,
          3,
          3,
          3,
          3,
          3,
          3,
          3,
          3,
          3,
          3,
          4,
          4,
          4,
          4,
          4,
          4,
          4,
          4,
          4,
          4,
          4,
          4,
          4,
          4,
          4,
          4,
          4,
          4,
          4,
          4,
          4,
          4,
          4,
          4,
          4,
          4,
          4,
          4,
          4,
          4,
          4,
          4,
          4,
          4,
          4,
          4,
          4,
          4,
          4,
          5,
          5,
          5,
          5,
          5,
          5,
          5,
          5,
          5,
          5,
          5,
          5,
          5
         ],
         "yaxis": "y"
        },
        {
         "customdata": [
          [
           1
          ],
          [
           1
          ],
          [
           1
          ],
          [
           1
          ],
          [
           1
          ],
          [
           1
          ],
          [
           1
          ],
          [
           1
          ],
          [
           1
          ],
          [
           1
          ],
          [
           2
          ],
          [
           1
          ],
          [
           1
          ],
          [
           1
          ],
          [
           1
          ],
          [
           1
          ],
          [
           1
          ],
          [
           1
          ],
          [
           1
          ],
          [
           1
          ],
          [
           1
          ],
          [
           1
          ],
          [
           1
          ],
          [
           1
          ],
          [
           1
          ],
          [
           1
          ],
          [
           1
          ],
          [
           1
          ],
          [
           2
          ],
          [
           1
          ],
          [
           1
          ],
          [
           1
          ],
          [
           2
          ],
          [
           1
          ],
          [
           3
          ],
          [
           1
          ],
          [
           1
          ],
          [
           2
          ],
          [
           2
          ],
          [
           1
          ],
          [
           1
          ],
          [
           1
          ],
          [
           1
          ],
          [
           1
          ],
          [
           3
          ],
          [
           1
          ],
          [
           1
          ],
          [
           1
          ],
          [
           1
          ],
          [
           1
          ],
          [
           1
          ],
          [
           1
          ],
          [
           1
          ],
          [
           1
          ],
          [
           1
          ],
          [
           1
          ],
          [
           1
          ],
          [
           1
          ],
          [
           2
          ],
          [
           4
          ],
          [
           1
          ],
          [
           2
          ],
          [
           3
          ],
          [
           1
          ],
          [
           3
          ],
          [
           1
          ],
          [
           1
          ],
          [
           2
          ],
          [
           1
          ],
          [
           1
          ],
          [
           1
          ],
          [
           1
          ],
          [
           2
          ],
          [
           2
          ],
          [
           1
          ],
          [
           1
          ],
          [
           1
          ],
          [
           1
          ],
          [
           1
          ],
          [
           1
          ],
          [
           4
          ],
          [
           2
          ],
          [
           1
          ],
          [
           2
          ],
          [
           1
          ],
          [
           1
          ],
          [
           1
          ],
          [
           1
          ],
          [
           2
          ],
          [
           3
          ],
          [
           2
          ],
          [
           2
          ],
          [
           1
          ],
          [
           3
          ],
          [
           1
          ],
          [
           4
          ],
          [
           1
          ],
          [
           1
          ],
          [
           1
          ],
          [
           1
          ],
          [
           4
          ],
          [
           1
          ],
          [
           2
          ],
          [
           5
          ],
          [
           7
          ],
          [
           1
          ],
          [
           1
          ],
          [
           3
          ],
          [
           1
          ],
          [
           2
          ],
          [
           3
          ],
          [
           2
          ],
          [
           3
          ],
          [
           2
          ],
          [
           1
          ],
          [
           1
          ],
          [
           2
          ],
          [
           1
          ],
          [
           2
          ],
          [
           2
          ],
          [
           2
          ],
          [
           1
          ],
          [
           2
          ],
          [
           1
          ],
          [
           5
          ],
          [
           1
          ],
          [
           2
          ],
          [
           1
          ],
          [
           2
          ],
          [
           3
          ],
          [
           1
          ],
          [
           4
          ],
          [
           1
          ],
          [
           2
          ],
          [
           2
          ],
          [
           2
          ],
          [
           2
          ],
          [
           2
          ],
          [
           1
          ],
          [
           1
          ],
          [
           2
          ],
          [
           3
          ],
          [
           2
          ],
          [
           2
          ],
          [
           3
          ],
          [
           4
          ],
          [
           6
          ],
          [
           7
          ],
          [
           8
          ],
          [
           1
          ],
          [
           1
          ],
          [
           1
          ],
          [
           1
          ],
          [
           1
          ],
          [
           1
          ],
          [
           1
          ],
          [
           2
          ],
          [
           2
          ],
          [
           1
          ],
          [
           2
          ],
          [
           1
          ],
          [
           2
          ],
          [
           1
          ],
          [
           1
          ],
          [
           2
          ],
          [
           1
          ],
          [
           1
          ],
          [
           1
          ],
          [
           2
          ],
          [
           1
          ],
          [
           2
          ],
          [
           2
          ],
          [
           1
          ],
          [
           1
          ],
          [
           1
          ],
          [
           1
          ],
          [
           1
          ],
          [
           1
          ],
          [
           1
          ],
          [
           1
          ],
          [
           1
          ],
          [
           1
          ],
          [
           3
          ],
          [
           1
          ],
          [
           1
          ],
          [
           1
          ],
          [
           1
          ],
          [
           1
          ],
          [
           1
          ],
          [
           1
          ],
          [
           1
          ],
          [
           2
          ],
          [
           1
          ],
          [
           1
          ],
          [
           1
          ],
          [
           1
          ],
          [
           1
          ],
          [
           1
          ],
          [
           1
          ],
          [
           2
          ],
          [
           1
          ],
          [
           1
          ],
          [
           1
          ],
          [
           1
          ],
          [
           1
          ],
          [
           2
          ],
          [
           1
          ],
          [
           1
          ],
          [
           1
          ],
          [
           2
          ],
          [
           1
          ],
          [
           1
          ],
          [
           1
          ],
          [
           2
          ],
          [
           2
          ],
          [
           2
          ],
          [
           2
          ],
          [
           5
          ],
          [
           1
          ],
          [
           1
          ],
          [
           1
          ],
          [
           1
          ],
          [
           1
          ],
          [
           1
          ],
          [
           1
          ],
          [
           1
          ],
          [
           3
          ],
          [
           2
          ],
          [
           1
          ],
          [
           2
          ],
          [
           2
          ],
          [
           1
          ],
          [
           1
          ],
          [
           1
          ],
          [
           1
          ],
          [
           1
          ],
          [
           4
          ],
          [
           1
          ],
          [
           1
          ],
          [
           2
          ],
          [
           2
          ],
          [
           2
          ],
          [
           1
          ],
          [
           1
          ],
          [
           1
          ],
          [
           1
          ],
          [
           1
          ],
          [
           1
          ],
          [
           2
          ],
          [
           1
          ],
          [
           2
          ],
          [
           1
          ],
          [
           1
          ],
          [
           1
          ],
          [
           2
          ],
          [
           4
          ],
          [
           2
          ],
          [
           1
          ],
          [
           2
          ],
          [
           2
          ],
          [
           2
          ],
          [
           4
          ],
          [
           2
          ],
          [
           1
          ],
          [
           1
          ],
          [
           2
          ],
          [
           1
          ],
          [
           2
          ],
          [
           1
          ],
          [
           1
          ],
          [
           1
          ],
          [
           1
          ],
          [
           1
          ],
          [
           2
          ],
          [
           1
          ],
          [
           1
          ],
          [
           1
          ],
          [
           1
          ],
          [
           1
          ],
          [
           1
          ],
          [
           1
          ],
          [
           1
          ],
          [
           2
          ],
          [
           1
          ],
          [
           2
          ],
          [
           1
          ],
          [
           1
          ],
          [
           1
          ],
          [
           1
          ],
          [
           1
          ],
          [
           2
          ],
          [
           1
          ],
          [
           2
          ],
          [
           2
          ],
          [
           1
          ],
          [
           1
          ],
          [
           1
          ],
          [
           1
          ],
          [
           1
          ],
          [
           2
          ],
          [
           1
          ],
          [
           1
          ],
          [
           3
          ],
          [
           1
          ],
          [
           3
          ],
          [
           1
          ],
          [
           1
          ],
          [
           1
          ],
          [
           1
          ],
          [
           1
          ],
          [
           1
          ],
          [
           1
          ],
          [
           1
          ],
          [
           1
          ],
          [
           1
          ],
          [
           1
          ],
          [
           1
          ],
          [
           1
          ],
          [
           1
          ],
          [
           1
          ],
          [
           1
          ],
          [
           1
          ],
          [
           1
          ],
          [
           1
          ],
          [
           1
          ],
          [
           1
          ],
          [
           1
          ],
          [
           1
          ],
          [
           1
          ],
          [
           1
          ],
          [
           1
          ],
          [
           1
          ],
          [
           1
          ],
          [
           1
          ],
          [
           1
          ],
          [
           1
          ],
          [
           1
          ],
          [
           1
          ],
          [
           1
          ],
          [
           1
          ],
          [
           2
          ],
          [
           2
          ],
          [
           1
          ],
          [
           1
          ],
          [
           1
          ],
          [
           1
          ],
          [
           1
          ],
          [
           1
          ],
          [
           1
          ],
          [
           1
          ],
          [
           1
          ],
          [
           1
          ],
          [
           1
          ],
          [
           1
          ],
          [
           1
          ],
          [
           1
          ],
          [
           1
          ],
          [
           1
          ],
          [
           1
          ],
          [
           1
          ],
          [
           1
          ],
          [
           1
          ],
          [
           1
          ],
          [
           1
          ],
          [
           1
          ],
          [
           1
          ],
          [
           1
          ],
          [
           1
          ],
          [
           1
          ],
          [
           1
          ],
          [
           1
          ],
          [
           1
          ]
         ],
         "hoverlabel": {
          "namelength": 0
         },
         "hovertemplate": "<b>%{hovertext}</b><br><br>tag=interventions<br>publish_time=%{x}<br>phase=%{y}<br>count=%{customdata[0]}",
         "hovertext": [
          "interventions",
          "interventions",
          "interventions",
          "interventions",
          "interventions",
          "interventions",
          "interventions",
          "interventions",
          "interventions",
          "interventions",
          "interventions",
          "interventions",
          "interventions",
          "interventions",
          "interventions",
          "interventions",
          "interventions",
          "interventions",
          "interventions",
          "interventions",
          "interventions",
          "interventions",
          "interventions",
          "interventions",
          "interventions",
          "interventions",
          "interventions",
          "interventions",
          "interventions",
          "interventions",
          "interventions",
          "interventions",
          "interventions",
          "interventions",
          "interventions",
          "interventions",
          "interventions",
          "interventions",
          "interventions",
          "interventions",
          "interventions",
          "interventions",
          "interventions",
          "interventions",
          "interventions",
          "interventions",
          "interventions",
          "interventions",
          "interventions",
          "interventions",
          "interventions",
          "interventions",
          "interventions",
          "interventions",
          "interventions",
          "interventions",
          "interventions",
          "interventions",
          "interventions",
          "interventions",
          "interventions",
          "interventions",
          "interventions",
          "interventions",
          "interventions",
          "interventions",
          "interventions",
          "interventions",
          "interventions",
          "interventions",
          "interventions",
          "interventions",
          "interventions",
          "interventions",
          "interventions",
          "interventions",
          "interventions",
          "interventions",
          "interventions",
          "interventions",
          "interventions",
          "interventions",
          "interventions",
          "interventions",
          "interventions",
          "interventions",
          "interventions",
          "interventions",
          "interventions",
          "interventions",
          "interventions",
          "interventions",
          "interventions",
          "interventions",
          "interventions",
          "interventions",
          "interventions",
          "interventions",
          "interventions",
          "interventions",
          "interventions",
          "interventions",
          "interventions",
          "interventions",
          "interventions",
          "interventions",
          "interventions",
          "interventions",
          "interventions",
          "interventions",
          "interventions",
          "interventions",
          "interventions",
          "interventions",
          "interventions",
          "interventions",
          "interventions",
          "interventions",
          "interventions",
          "interventions",
          "interventions",
          "interventions",
          "interventions",
          "interventions",
          "interventions",
          "interventions",
          "interventions",
          "interventions",
          "interventions",
          "interventions",
          "interventions",
          "interventions",
          "interventions",
          "interventions",
          "interventions",
          "interventions",
          "interventions",
          "interventions",
          "interventions",
          "interventions",
          "interventions",
          "interventions",
          "interventions",
          "interventions",
          "interventions",
          "interventions",
          "interventions",
          "interventions",
          "interventions",
          "interventions",
          "interventions",
          "interventions",
          "interventions",
          "interventions",
          "interventions",
          "interventions",
          "interventions",
          "interventions",
          "interventions",
          "interventions",
          "interventions",
          "interventions",
          "interventions",
          "interventions",
          "interventions",
          "interventions",
          "interventions",
          "interventions",
          "interventions",
          "interventions",
          "interventions",
          "interventions",
          "interventions",
          "interventions",
          "interventions",
          "interventions",
          "interventions",
          "interventions",
          "interventions",
          "interventions",
          "interventions",
          "interventions",
          "interventions",
          "interventions",
          "interventions",
          "interventions",
          "interventions",
          "interventions",
          "interventions",
          "interventions",
          "interventions",
          "interventions",
          "interventions",
          "interventions",
          "interventions",
          "interventions",
          "interventions",
          "interventions",
          "interventions",
          "interventions",
          "interventions",
          "interventions",
          "interventions",
          "interventions",
          "interventions",
          "interventions",
          "interventions",
          "interventions",
          "interventions",
          "interventions",
          "interventions",
          "interventions",
          "interventions",
          "interventions",
          "interventions",
          "interventions",
          "interventions",
          "interventions",
          "interventions",
          "interventions",
          "interventions",
          "interventions",
          "interventions",
          "interventions",
          "interventions",
          "interventions",
          "interventions",
          "interventions",
          "interventions",
          "interventions",
          "interventions",
          "interventions",
          "interventions",
          "interventions",
          "interventions",
          "interventions",
          "interventions",
          "interventions",
          "interventions",
          "interventions",
          "interventions",
          "interventions",
          "interventions",
          "interventions",
          "interventions",
          "interventions",
          "interventions",
          "interventions",
          "interventions",
          "interventions",
          "interventions",
          "interventions",
          "interventions",
          "interventions",
          "interventions",
          "interventions",
          "interventions",
          "interventions",
          "interventions",
          "interventions",
          "interventions",
          "interventions",
          "interventions",
          "interventions",
          "interventions",
          "interventions",
          "interventions",
          "interventions",
          "interventions",
          "interventions",
          "interventions",
          "interventions",
          "interventions",
          "interventions",
          "interventions",
          "interventions",
          "interventions",
          "interventions",
          "interventions",
          "interventions",
          "interventions",
          "interventions",
          "interventions",
          "interventions",
          "interventions",
          "interventions",
          "interventions",
          "interventions",
          "interventions",
          "interventions",
          "interventions",
          "interventions",
          "interventions",
          "interventions",
          "interventions",
          "interventions",
          "interventions",
          "interventions",
          "interventions",
          "interventions",
          "interventions",
          "interventions",
          "interventions",
          "interventions",
          "interventions",
          "interventions",
          "interventions",
          "interventions",
          "interventions",
          "interventions",
          "interventions",
          "interventions",
          "interventions",
          "interventions",
          "interventions",
          "interventions",
          "interventions",
          "interventions",
          "interventions",
          "interventions",
          "interventions",
          "interventions",
          "interventions",
          "interventions",
          "interventions",
          "interventions",
          "interventions",
          "interventions",
          "interventions",
          "interventions",
          "interventions",
          "interventions",
          "interventions",
          "interventions",
          "interventions",
          "interventions",
          "interventions",
          "interventions",
          "interventions",
          "interventions",
          "interventions",
          "interventions",
          "interventions",
          "interventions",
          "interventions",
          "interventions",
          "interventions",
          "interventions",
          "interventions",
          "interventions",
          "interventions",
          "interventions",
          "interventions",
          "interventions",
          "interventions",
          "interventions",
          "interventions",
          "interventions",
          "interventions",
          "interventions",
          "interventions",
          "interventions",
          "interventions",
          "interventions",
          "interventions",
          "interventions",
          "interventions",
          "interventions",
          "interventions",
          "interventions",
          "interventions",
          "interventions"
         ],
         "legendgroup": "interventions",
         "marker": {
          "color": "#00cc96",
          "size": [
           1,
           1,
           1,
           1,
           1,
           1,
           1,
           1,
           1,
           1,
           2,
           1,
           1,
           1,
           1,
           1,
           1,
           1,
           1,
           1,
           1,
           1,
           1,
           1,
           1,
           1,
           1,
           1,
           2,
           1,
           1,
           1,
           2,
           1,
           3,
           1,
           1,
           2,
           2,
           1,
           1,
           1,
           1,
           1,
           3,
           1,
           1,
           1,
           1,
           1,
           1,
           1,
           1,
           1,
           1,
           1,
           1,
           1,
           2,
           4,
           1,
           2,
           3,
           1,
           3,
           1,
           1,
           2,
           1,
           1,
           1,
           1,
           2,
           2,
           1,
           1,
           1,
           1,
           1,
           1,
           4,
           2,
           1,
           2,
           1,
           1,
           1,
           1,
           2,
           3,
           2,
           2,
           1,
           3,
           1,
           4,
           1,
           1,
           1,
           1,
           4,
           1,
           2,
           5,
           7,
           1,
           1,
           3,
           1,
           2,
           3,
           2,
           3,
           2,
           1,
           1,
           2,
           1,
           2,
           2,
           2,
           1,
           2,
           1,
           5,
           1,
           2,
           1,
           2,
           3,
           1,
           4,
           1,
           2,
           2,
           2,
           2,
           2,
           1,
           1,
           2,
           3,
           2,
           2,
           3,
           4,
           6,
           7,
           8,
           1,
           1,
           1,
           1,
           1,
           1,
           1,
           2,
           2,
           1,
           2,
           1,
           2,
           1,
           1,
           2,
           1,
           1,
           1,
           2,
           1,
           2,
           2,
           1,
           1,
           1,
           1,
           1,
           1,
           1,
           1,
           1,
           1,
           3,
           1,
           1,
           1,
           1,
           1,
           1,
           1,
           1,
           2,
           1,
           1,
           1,
           1,
           1,
           1,
           1,
           2,
           1,
           1,
           1,
           1,
           1,
           2,
           1,
           1,
           1,
           2,
           1,
           1,
           1,
           2,
           2,
           2,
           2,
           5,
           1,
           1,
           1,
           1,
           1,
           1,
           1,
           1,
           3,
           2,
           1,
           2,
           2,
           1,
           1,
           1,
           1,
           1,
           4,
           1,
           1,
           2,
           2,
           2,
           1,
           1,
           1,
           1,
           1,
           1,
           2,
           1,
           2,
           1,
           1,
           1,
           2,
           4,
           2,
           1,
           2,
           2,
           2,
           4,
           2,
           1,
           1,
           2,
           1,
           2,
           1,
           1,
           1,
           1,
           1,
           2,
           1,
           1,
           1,
           1,
           1,
           1,
           1,
           1,
           2,
           1,
           2,
           1,
           1,
           1,
           1,
           1,
           2,
           1,
           2,
           2,
           1,
           1,
           1,
           1,
           1,
           2,
           1,
           1,
           3,
           1,
           3,
           1,
           1,
           1,
           1,
           1,
           1,
           1,
           1,
           1,
           1,
           1,
           1,
           1,
           1,
           1,
           1,
           1,
           1,
           1,
           1,
           1,
           1,
           1,
           1,
           1,
           1,
           1,
           1,
           1,
           1,
           1,
           1,
           1,
           1,
           1,
           2,
           2,
           1,
           1,
           1,
           1,
           1,
           1,
           1,
           1,
           1,
           1,
           1,
           1,
           1,
           1,
           1,
           1,
           1,
           1,
           1,
           1,
           1,
           1,
           1,
           1,
           1,
           1,
           1,
           1,
           1,
           1
          ],
          "sizemode": "area",
          "sizeref": 0.02,
          "symbol": "circle"
         },
         "mode": "markers",
         "name": "interventions",
         "showlegend": true,
         "type": "scattergl",
         "x": [
          "1979-09",
          "1979-12",
          "1981-09",
          "1982-05",
          "1982-09",
          "1983-12",
          "1985-01",
          "1987-01",
          "1987-02",
          "1987-08",
          "1988-02",
          "1988-05",
          "1989-05",
          "1989-06",
          "1990-12",
          "1991-05",
          "1992-12",
          "1993-07",
          "1993-12",
          "1996-12",
          "1997-12",
          "1999-12",
          "2000-03",
          "2000-09",
          "2001-12",
          "2002-05",
          "2003-04",
          "2003-05",
          "2003-06",
          "2003-08",
          "2004-02",
          "2004-06",
          "2004-07",
          "2004-09",
          "2004-12",
          "2005-01",
          "2005-02",
          "2005-05",
          "2005-06",
          "2005-07",
          "2005-10",
          "2006-04",
          "2006-06",
          "2006-09",
          "2006-12",
          "2007-01",
          "2007-02",
          "2007-03",
          "2007-06",
          "2007-07",
          "2007-09",
          "2007-12",
          "2008-01",
          "2008-02",
          "2008-04",
          "2008-06",
          "2008-09",
          "2008-11",
          "2009-02",
          "2009-03",
          "2009-04",
          "2009-05",
          "2009-07",
          "2009-11",
          "2009-12",
          "2010-02",
          "2010-06",
          "2010-07",
          "2010-09",
          "2010-11",
          "2011-01",
          "2011-06",
          "2011-08",
          "2011-10",
          "2011-12",
          "2012-01",
          "2012-02",
          "2012-08",
          "2012-09",
          "2012-11",
          "2012-12",
          "2013-01",
          "2013-03",
          "2013-05",
          "2013-07",
          "2013-08",
          "2013-09",
          "2013-10",
          "2013-11",
          "2013-12",
          "2014-01",
          "2014-02",
          "2014-03",
          "2014-06",
          "2014-09",
          "2014-12",
          "2015-04",
          "2015-05",
          "2015-06",
          "2015-07",
          "2015-08",
          "2015-09",
          "2015-10",
          "2015-11",
          "2015-12",
          "2016-01",
          "2016-02",
          "2016-05",
          "2016-06",
          "2016-08",
          "2016-09",
          "2016-10",
          "2016-11",
          "2016-12",
          "2017-02",
          "2017-05",
          "2017-07",
          "2017-08",
          "2017-09",
          "2017-10",
          "2017-11",
          "2017-12",
          "2018-01",
          "2018-02",
          "2018-03",
          "2018-04",
          "2018-05",
          "2018-06",
          "2018-07",
          "2018-08",
          "2018-09",
          "2018-10",
          "2018-11",
          "2018-12",
          "2019-01",
          "2019-02",
          "2019-03",
          "2019-04",
          "2019-05",
          "2019-06",
          "2019-07",
          "2019-08",
          "2019-09",
          "2019-10",
          "2019-11",
          "2019-12",
          "2020-01",
          "2020-02",
          "2020-03",
          "1976-03",
          "1982-12",
          "1983-12",
          "1984-06",
          "1988-02",
          "1989-08",
          "1991-06",
          "1995-12",
          "1996-12",
          "1999-12",
          "2000-12",
          "2003-07",
          "2003-10",
          "2004-01",
          "2004-08",
          "2004-10",
          "2004-11",
          "2004-12",
          "2005-02",
          "2005-03",
          "2005-06",
          "2005-07",
          "2006-01",
          "2006-03",
          "2006-04",
          "2006-10",
          "2006-12",
          "2007-03",
          "2007-04",
          "2007-05",
          "2007-06",
          "2007-07",
          "2007-10",
          "2008-02",
          "2008-03",
          "2008-04",
          "2009-03",
          "2009-04",
          "2009-12",
          "2010-01",
          "2010-02",
          "2010-03",
          "2010-06",
          "2010-10",
          "2010-12",
          "2011-02",
          "2011-10",
          "2011-11",
          "2011-12",
          "2012-01",
          "2012-02",
          "2012-04",
          "2012-05",
          "2012-06",
          "2012-11",
          "2012-12",
          "2013-01",
          "2013-02",
          "2013-05",
          "2013-06",
          "2013-10",
          "2013-12",
          "2014-03",
          "2014-04",
          "2014-05",
          "2014-06",
          "2014-08",
          "2014-10",
          "2014-12",
          "2015-01",
          "2015-02",
          "2015-05",
          "2015-06",
          "2015-07",
          "2015-08",
          "2015-09",
          "2015-10",
          "2015-12",
          "2016-02",
          "2016-03",
          "2016-04",
          "2016-05",
          "2016-06",
          "2016-07",
          "2016-09",
          "2016-10",
          "2016-11",
          "2016-12",
          "2017-01",
          "2017-02",
          "2017-03",
          "2017-04",
          "2017-05",
          "2017-07",
          "2017-08",
          "2017-11",
          "2017-12",
          "2018-02",
          "2018-03",
          "2018-04",
          "2018-05",
          "2018-06",
          "2018-07",
          "2018-08",
          "2018-09",
          "2018-10",
          "2018-12",
          "2019-01",
          "2019-03",
          "2019-04",
          "2019-06",
          "2019-07",
          "2019-09",
          "2019-10",
          "2019-11",
          "2019-12",
          "2020-01",
          "2020-02",
          "2020-03",
          "1974-12",
          "1990-05",
          "1994-12",
          "2002-02",
          "2003-09",
          "2004-01",
          "2004-10",
          "2005-12",
          "2006-07",
          "2006-12",
          "2007-03",
          "2007-04",
          "2007-12",
          "2008-04",
          "2008-12",
          "2009-03",
          "2009-06",
          "2009-08",
          "2009-12",
          "2010-05",
          "2010-11",
          "2010-12",
          "2011-03",
          "2011-10",
          "2013-07",
          "2014-03",
          "2014-08",
          "2015-09",
          "2015-12",
          "2016-04",
          "2016-07",
          "2016-08",
          "2017-03",
          "2017-10",
          "2017-12",
          "2018-02",
          "2018-04",
          "2018-09",
          "2018-10",
          "2018-11",
          "2018-12",
          "2019-01",
          "2019-02",
          "2019-04",
          "2019-05",
          "2019-07",
          "2020-01",
          "2020-02",
          "1987-12",
          "1988-09",
          "1991-03",
          "1992-11",
          "1994-04",
          "1999-09",
          "2002-12",
          "2003-12",
          "2004-03",
          "2004-05",
          "2005-08",
          "2006-12",
          "2008-10",
          "2009-03",
          "2009-06",
          "2009-09",
          "2009-10",
          "2009-12",
          "2011-03",
          "2011-12",
          "2012-07",
          "2013-02",
          "2013-04",
          "2013-12",
          "2014-06",
          "2014-09",
          "2014-12",
          "2015-01",
          "2015-06",
          "2015-09",
          "2016-01",
          "2016-06",
          "2016-09",
          "2017-10",
          "2017-12",
          "2018-03",
          "2018-06",
          "2019-02",
          "2019-06",
          "2019-12",
          "2020-01",
          "2020-05",
          "2003-12",
          "2005-09",
          "2007-08",
          "2007-12",
          "2009-01",
          "2014-09",
          "2015-04",
          "2015-12",
          "2016-01",
          "2016-09",
          "2017-05",
          "2017-10",
          "2019-02",
          "2019-11"
         ],
         "xaxis": "x",
         "y": [
          1,
          1,
          1,
          1,
          1,
          1,
          1,
          1,
          1,
          1,
          1,
          1,
          1,
          1,
          1,
          1,
          1,
          1,
          1,
          1,
          1,
          1,
          1,
          1,
          1,
          1,
          1,
          1,
          1,
          1,
          1,
          1,
          1,
          1,
          1,
          1,
          1,
          1,
          1,
          1,
          1,
          1,
          1,
          1,
          1,
          1,
          1,
          1,
          1,
          1,
          1,
          1,
          1,
          1,
          1,
          1,
          1,
          1,
          1,
          1,
          1,
          1,
          1,
          1,
          1,
          1,
          1,
          1,
          1,
          1,
          1,
          1,
          1,
          1,
          1,
          1,
          1,
          1,
          1,
          1,
          1,
          1,
          1,
          1,
          1,
          1,
          1,
          1,
          1,
          1,
          1,
          1,
          1,
          1,
          1,
          1,
          1,
          1,
          1,
          1,
          1,
          1,
          1,
          1,
          1,
          1,
          1,
          1,
          1,
          1,
          1,
          1,
          1,
          1,
          1,
          1,
          1,
          1,
          1,
          1,
          1,
          1,
          1,
          1,
          1,
          1,
          1,
          1,
          1,
          1,
          1,
          1,
          1,
          1,
          1,
          1,
          1,
          1,
          1,
          1,
          1,
          1,
          1,
          1,
          1,
          1,
          1,
          1,
          1,
          2,
          2,
          2,
          2,
          2,
          2,
          2,
          2,
          2,
          2,
          2,
          2,
          2,
          2,
          2,
          2,
          2,
          2,
          2,
          2,
          2,
          2,
          2,
          2,
          2,
          2,
          2,
          2,
          2,
          2,
          2,
          2,
          2,
          2,
          2,
          2,
          2,
          2,
          2,
          2,
          2,
          2,
          2,
          2,
          2,
          2,
          2,
          2,
          2,
          2,
          2,
          2,
          2,
          2,
          2,
          2,
          2,
          2,
          2,
          2,
          2,
          2,
          2,
          2,
          2,
          2,
          2,
          2,
          2,
          2,
          2,
          2,
          2,
          2,
          2,
          2,
          2,
          2,
          2,
          2,
          2,
          2,
          2,
          2,
          2,
          2,
          2,
          2,
          2,
          2,
          2,
          2,
          2,
          2,
          2,
          2,
          2,
          2,
          2,
          2,
          2,
          2,
          2,
          2,
          2,
          2,
          2,
          2,
          2,
          2,
          2,
          2,
          2,
          2,
          2,
          2,
          2,
          2,
          2,
          3,
          3,
          3,
          3,
          3,
          3,
          3,
          3,
          3,
          3,
          3,
          3,
          3,
          3,
          3,
          3,
          3,
          3,
          3,
          3,
          3,
          3,
          3,
          3,
          3,
          3,
          3,
          3,
          3,
          3,
          3,
          3,
          3,
          3,
          3,
          3,
          3,
          3,
          3,
          3,
          3,
          3,
          3,
          3,
          3,
          3,
          3,
          3,
          4,
          4,
          4,
          4,
          4,
          4,
          4,
          4,
          4,
          4,
          4,
          4,
          4,
          4,
          4,
          4,
          4,
          4,
          4,
          4,
          4,
          4,
          4,
          4,
          4,
          4,
          4,
          4,
          4,
          4,
          4,
          4,
          4,
          4,
          4,
          4,
          4,
          4,
          4,
          4,
          4,
          4,
          5,
          5,
          5,
          5,
          5,
          5,
          5,
          5,
          5,
          5,
          5,
          5,
          5,
          5
         ],
         "yaxis": "y"
        },
        {
         "customdata": [
          [
           1
          ],
          [
           1
          ],
          [
           1
          ],
          [
           1
          ],
          [
           1
          ],
          [
           1
          ],
          [
           1
          ],
          [
           1
          ],
          [
           1
          ],
          [
           1
          ],
          [
           1
          ],
          [
           1
          ],
          [
           1
          ],
          [
           1
          ],
          [
           1
          ],
          [
           1
          ],
          [
           1
          ],
          [
           1
          ],
          [
           1
          ],
          [
           1
          ],
          [
           1
          ],
          [
           1
          ],
          [
           2
          ],
          [
           1
          ],
          [
           1
          ],
          [
           1
          ],
          [
           1
          ],
          [
           1
          ],
          [
           1
          ],
          [
           1
          ],
          [
           1
          ],
          [
           2
          ],
          [
           1
          ],
          [
           1
          ],
          [
           1
          ],
          [
           1
          ],
          [
           1
          ],
          [
           1
          ],
          [
           1
          ],
          [
           1
          ],
          [
           1
          ],
          [
           2
          ],
          [
           3
          ],
          [
           1
          ],
          [
           1
          ],
          [
           3
          ],
          [
           1
          ],
          [
           1
          ],
          [
           2
          ],
          [
           2
          ],
          [
           1
          ],
          [
           1
          ],
          [
           1
          ],
          [
           1
          ],
          [
           3
          ],
          [
           1
          ],
          [
           1
          ],
          [
           1
          ],
          [
           2
          ],
          [
           1
          ],
          [
           2
          ],
          [
           1
          ],
          [
           5
          ],
          [
           1
          ],
          [
           1
          ],
          [
           1
          ],
          [
           4
          ],
          [
           1
          ],
          [
           4
          ],
          [
           1
          ],
          [
           1
          ],
          [
           1
          ],
          [
           2
          ],
          [
           1
          ],
          [
           2
          ],
          [
           1
          ],
          [
           2
          ],
          [
           1
          ],
          [
           1
          ],
          [
           1
          ],
          [
           1
          ],
          [
           1
          ],
          [
           2
          ],
          [
           3
          ],
          [
           2
          ],
          [
           1
          ],
          [
           1
          ],
          [
           2
          ],
          [
           1
          ],
          [
           1
          ],
          [
           1
          ],
          [
           1
          ],
          [
           1
          ],
          [
           1
          ],
          [
           1
          ],
          [
           1
          ],
          [
           2
          ],
          [
           3
          ],
          [
           4
          ],
          [
           1
          ],
          [
           1
          ],
          [
           2
          ],
          [
           2
          ],
          [
           1
          ],
          [
           3
          ],
          [
           3
          ],
          [
           1
          ],
          [
           1
          ],
          [
           3
          ],
          [
           1
          ],
          [
           1
          ],
          [
           1
          ],
          [
           3
          ],
          [
           1
          ],
          [
           8
          ],
          [
           2
          ],
          [
           3
          ],
          [
           2
          ],
          [
           1
          ],
          [
           2
          ],
          [
           1
          ],
          [
           1
          ],
          [
           3
          ],
          [
           2
          ],
          [
           4
          ],
          [
           1
          ],
          [
           3
          ],
          [
           2
          ],
          [
           3
          ],
          [
           3
          ],
          [
           3
          ],
          [
           1
          ],
          [
           4
          ],
          [
           4
          ],
          [
           1
          ],
          [
           6
          ],
          [
           3
          ],
          [
           4
          ],
          [
           1
          ],
          [
           2
          ],
          [
           1
          ],
          [
           1
          ],
          [
           3
          ],
          [
           2
          ],
          [
           2
          ],
          [
           1
          ],
          [
           4
          ],
          [
           4
          ],
          [
           2
          ],
          [
           2
          ],
          [
           4
          ],
          [
           6
          ],
          [
           1
          ],
          [
           2
          ],
          [
           2
          ],
          [
           5
          ],
          [
           5
          ],
          [
           6
          ],
          [
           8
          ],
          [
           1
          ],
          [
           1
          ],
          [
           1
          ],
          [
           1
          ],
          [
           3
          ],
          [
           1
          ],
          [
           1
          ],
          [
           1
          ],
          [
           1
          ],
          [
           1
          ],
          [
           1
          ],
          [
           1
          ],
          [
           1
          ],
          [
           1
          ],
          [
           1
          ],
          [
           1
          ],
          [
           3
          ],
          [
           1
          ],
          [
           1
          ],
          [
           1
          ],
          [
           1
          ],
          [
           1
          ],
          [
           3
          ],
          [
           1
          ],
          [
           1
          ],
          [
           4
          ],
          [
           1
          ],
          [
           1
          ],
          [
           2
          ],
          [
           1
          ],
          [
           1
          ],
          [
           1
          ],
          [
           1
          ],
          [
           1
          ],
          [
           1
          ],
          [
           1
          ],
          [
           1
          ],
          [
           1
          ],
          [
           1
          ],
          [
           1
          ],
          [
           2
          ],
          [
           1
          ],
          [
           1
          ],
          [
           1
          ],
          [
           1
          ],
          [
           2
          ],
          [
           1
          ],
          [
           2
          ],
          [
           3
          ],
          [
           1
          ],
          [
           1
          ],
          [
           1
          ],
          [
           4
          ],
          [
           2
          ],
          [
           3
          ],
          [
           2
          ],
          [
           1
          ],
          [
           2
          ],
          [
           1
          ],
          [
           2
          ],
          [
           1
          ],
          [
           1
          ],
          [
           2
          ],
          [
           1
          ],
          [
           1
          ],
          [
           1
          ],
          [
           1
          ],
          [
           2
          ],
          [
           4
          ],
          [
           3
          ],
          [
           1
          ],
          [
           1
          ],
          [
           1
          ],
          [
           1
          ],
          [
           1
          ],
          [
           1
          ],
          [
           3
          ],
          [
           3
          ],
          [
           1
          ],
          [
           2
          ],
          [
           1
          ],
          [
           1
          ],
          [
           1
          ],
          [
           1
          ],
          [
           1
          ],
          [
           1
          ],
          [
           1
          ],
          [
           2
          ],
          [
           2
          ],
          [
           1
          ],
          [
           2
          ],
          [
           1
          ],
          [
           1
          ],
          [
           2
          ],
          [
           5
          ],
          [
           5
          ],
          [
           1
          ],
          [
           3
          ],
          [
           2
          ],
          [
           3
          ],
          [
           4
          ],
          [
           1
          ],
          [
           3
          ],
          [
           2
          ],
          [
           1
          ],
          [
           1
          ],
          [
           1
          ],
          [
           1
          ],
          [
           1
          ],
          [
           1
          ],
          [
           1
          ],
          [
           1
          ],
          [
           1
          ],
          [
           2
          ],
          [
           1
          ],
          [
           1
          ],
          [
           1
          ],
          [
           1
          ],
          [
           2
          ],
          [
           1
          ],
          [
           1
          ],
          [
           1
          ],
          [
           1
          ],
          [
           1
          ],
          [
           1
          ],
          [
           1
          ],
          [
           1
          ],
          [
           1
          ],
          [
           1
          ],
          [
           2
          ],
          [
           2
          ],
          [
           1
          ],
          [
           1
          ],
          [
           1
          ],
          [
           1
          ],
          [
           1
          ],
          [
           1
          ],
          [
           1
          ],
          [
           1
          ],
          [
           1
          ],
          [
           1
          ],
          [
           1
          ],
          [
           1
          ],
          [
           2
          ],
          [
           1
          ],
          [
           2
          ],
          [
           1
          ],
          [
           1
          ],
          [
           1
          ],
          [
           1
          ],
          [
           1
          ],
          [
           1
          ],
          [
           1
          ],
          [
           1
          ],
          [
           1
          ],
          [
           1
          ],
          [
           2
          ],
          [
           1
          ],
          [
           1
          ],
          [
           1
          ],
          [
           1
          ],
          [
           1
          ],
          [
           1
          ],
          [
           1
          ],
          [
           2
          ],
          [
           1
          ],
          [
           2
          ],
          [
           1
          ],
          [
           1
          ],
          [
           1
          ],
          [
           1
          ],
          [
           1
          ],
          [
           1
          ],
          [
           1
          ],
          [
           1
          ],
          [
           1
          ],
          [
           2
          ],
          [
           1
          ],
          [
           1
          ],
          [
           1
          ],
          [
           1
          ],
          [
           1
          ],
          [
           3
          ],
          [
           1
          ],
          [
           1
          ],
          [
           2
          ],
          [
           1
          ],
          [
           1
          ],
          [
           2
          ],
          [
           1
          ],
          [
           1
          ],
          [
           1
          ],
          [
           1
          ],
          [
           1
          ],
          [
           1
          ],
          [
           1
          ],
          [
           1
          ],
          [
           1
          ],
          [
           1
          ]
         ],
         "hoverlabel": {
          "namelength": 0
         },
         "hovertemplate": "<b>%{hovertext}</b><br><br>tag=mortality rate<br>publish_time=%{x}<br>phase=%{y}<br>count=%{customdata[0]}",
         "hovertext": [
          "mortality rate",
          "mortality rate",
          "mortality rate",
          "mortality rate",
          "mortality rate",
          "mortality rate",
          "mortality rate",
          "mortality rate",
          "mortality rate",
          "mortality rate",
          "mortality rate",
          "mortality rate",
          "mortality rate",
          "mortality rate",
          "mortality rate",
          "mortality rate",
          "mortality rate",
          "mortality rate",
          "mortality rate",
          "mortality rate",
          "mortality rate",
          "mortality rate",
          "mortality rate",
          "mortality rate",
          "mortality rate",
          "mortality rate",
          "mortality rate",
          "mortality rate",
          "mortality rate",
          "mortality rate",
          "mortality rate",
          "mortality rate",
          "mortality rate",
          "mortality rate",
          "mortality rate",
          "mortality rate",
          "mortality rate",
          "mortality rate",
          "mortality rate",
          "mortality rate",
          "mortality rate",
          "mortality rate",
          "mortality rate",
          "mortality rate",
          "mortality rate",
          "mortality rate",
          "mortality rate",
          "mortality rate",
          "mortality rate",
          "mortality rate",
          "mortality rate",
          "mortality rate",
          "mortality rate",
          "mortality rate",
          "mortality rate",
          "mortality rate",
          "mortality rate",
          "mortality rate",
          "mortality rate",
          "mortality rate",
          "mortality rate",
          "mortality rate",
          "mortality rate",
          "mortality rate",
          "mortality rate",
          "mortality rate",
          "mortality rate",
          "mortality rate",
          "mortality rate",
          "mortality rate",
          "mortality rate",
          "mortality rate",
          "mortality rate",
          "mortality rate",
          "mortality rate",
          "mortality rate",
          "mortality rate",
          "mortality rate",
          "mortality rate",
          "mortality rate",
          "mortality rate",
          "mortality rate",
          "mortality rate",
          "mortality rate",
          "mortality rate",
          "mortality rate",
          "mortality rate",
          "mortality rate",
          "mortality rate",
          "mortality rate",
          "mortality rate",
          "mortality rate",
          "mortality rate",
          "mortality rate",
          "mortality rate",
          "mortality rate",
          "mortality rate",
          "mortality rate",
          "mortality rate",
          "mortality rate",
          "mortality rate",
          "mortality rate",
          "mortality rate",
          "mortality rate",
          "mortality rate",
          "mortality rate",
          "mortality rate",
          "mortality rate",
          "mortality rate",
          "mortality rate",
          "mortality rate",
          "mortality rate",
          "mortality rate",
          "mortality rate",
          "mortality rate",
          "mortality rate",
          "mortality rate",
          "mortality rate",
          "mortality rate",
          "mortality rate",
          "mortality rate",
          "mortality rate",
          "mortality rate",
          "mortality rate",
          "mortality rate",
          "mortality rate",
          "mortality rate",
          "mortality rate",
          "mortality rate",
          "mortality rate",
          "mortality rate",
          "mortality rate",
          "mortality rate",
          "mortality rate",
          "mortality rate",
          "mortality rate",
          "mortality rate",
          "mortality rate",
          "mortality rate",
          "mortality rate",
          "mortality rate",
          "mortality rate",
          "mortality rate",
          "mortality rate",
          "mortality rate",
          "mortality rate",
          "mortality rate",
          "mortality rate",
          "mortality rate",
          "mortality rate",
          "mortality rate",
          "mortality rate",
          "mortality rate",
          "mortality rate",
          "mortality rate",
          "mortality rate",
          "mortality rate",
          "mortality rate",
          "mortality rate",
          "mortality rate",
          "mortality rate",
          "mortality rate",
          "mortality rate",
          "mortality rate",
          "mortality rate",
          "mortality rate",
          "mortality rate",
          "mortality rate",
          "mortality rate",
          "mortality rate",
          "mortality rate",
          "mortality rate",
          "mortality rate",
          "mortality rate",
          "mortality rate",
          "mortality rate",
          "mortality rate",
          "mortality rate",
          "mortality rate",
          "mortality rate",
          "mortality rate",
          "mortality rate",
          "mortality rate",
          "mortality rate",
          "mortality rate",
          "mortality rate",
          "mortality rate",
          "mortality rate",
          "mortality rate",
          "mortality rate",
          "mortality rate",
          "mortality rate",
          "mortality rate",
          "mortality rate",
          "mortality rate",
          "mortality rate",
          "mortality rate",
          "mortality rate",
          "mortality rate",
          "mortality rate",
          "mortality rate",
          "mortality rate",
          "mortality rate",
          "mortality rate",
          "mortality rate",
          "mortality rate",
          "mortality rate",
          "mortality rate",
          "mortality rate",
          "mortality rate",
          "mortality rate",
          "mortality rate",
          "mortality rate",
          "mortality rate",
          "mortality rate",
          "mortality rate",
          "mortality rate",
          "mortality rate",
          "mortality rate",
          "mortality rate",
          "mortality rate",
          "mortality rate",
          "mortality rate",
          "mortality rate",
          "mortality rate",
          "mortality rate",
          "mortality rate",
          "mortality rate",
          "mortality rate",
          "mortality rate",
          "mortality rate",
          "mortality rate",
          "mortality rate",
          "mortality rate",
          "mortality rate",
          "mortality rate",
          "mortality rate",
          "mortality rate",
          "mortality rate",
          "mortality rate",
          "mortality rate",
          "mortality rate",
          "mortality rate",
          "mortality rate",
          "mortality rate",
          "mortality rate",
          "mortality rate",
          "mortality rate",
          "mortality rate",
          "mortality rate",
          "mortality rate",
          "mortality rate",
          "mortality rate",
          "mortality rate",
          "mortality rate",
          "mortality rate",
          "mortality rate",
          "mortality rate",
          "mortality rate",
          "mortality rate",
          "mortality rate",
          "mortality rate",
          "mortality rate",
          "mortality rate",
          "mortality rate",
          "mortality rate",
          "mortality rate",
          "mortality rate",
          "mortality rate",
          "mortality rate",
          "mortality rate",
          "mortality rate",
          "mortality rate",
          "mortality rate",
          "mortality rate",
          "mortality rate",
          "mortality rate",
          "mortality rate",
          "mortality rate",
          "mortality rate",
          "mortality rate",
          "mortality rate",
          "mortality rate",
          "mortality rate",
          "mortality rate",
          "mortality rate",
          "mortality rate",
          "mortality rate",
          "mortality rate",
          "mortality rate",
          "mortality rate",
          "mortality rate",
          "mortality rate",
          "mortality rate",
          "mortality rate",
          "mortality rate",
          "mortality rate",
          "mortality rate",
          "mortality rate",
          "mortality rate",
          "mortality rate",
          "mortality rate",
          "mortality rate",
          "mortality rate",
          "mortality rate",
          "mortality rate",
          "mortality rate",
          "mortality rate",
          "mortality rate",
          "mortality rate",
          "mortality rate",
          "mortality rate",
          "mortality rate",
          "mortality rate",
          "mortality rate",
          "mortality rate",
          "mortality rate",
          "mortality rate",
          "mortality rate",
          "mortality rate",
          "mortality rate",
          "mortality rate",
          "mortality rate",
          "mortality rate",
          "mortality rate",
          "mortality rate",
          "mortality rate",
          "mortality rate",
          "mortality rate",
          "mortality rate",
          "mortality rate",
          "mortality rate",
          "mortality rate",
          "mortality rate",
          "mortality rate",
          "mortality rate",
          "mortality rate",
          "mortality rate",
          "mortality rate",
          "mortality rate",
          "mortality rate",
          "mortality rate",
          "mortality rate",
          "mortality rate",
          "mortality rate",
          "mortality rate",
          "mortality rate",
          "mortality rate",
          "mortality rate",
          "mortality rate",
          "mortality rate",
          "mortality rate",
          "mortality rate",
          "mortality rate",
          "mortality rate",
          "mortality rate",
          "mortality rate",
          "mortality rate"
         ],
         "legendgroup": "mortality rate",
         "marker": {
          "color": "#ab63fa",
          "size": [
           1,
           1,
           1,
           1,
           1,
           1,
           1,
           1,
           1,
           1,
           1,
           1,
           1,
           1,
           1,
           1,
           1,
           1,
           1,
           1,
           1,
           1,
           2,
           1,
           1,
           1,
           1,
           1,
           1,
           1,
           1,
           2,
           1,
           1,
           1,
           1,
           1,
           1,
           1,
           1,
           1,
           2,
           3,
           1,
           1,
           3,
           1,
           1,
           2,
           2,
           1,
           1,
           1,
           1,
           3,
           1,
           1,
           1,
           2,
           1,
           2,
           1,
           5,
           1,
           1,
           1,
           4,
           1,
           4,
           1,
           1,
           1,
           2,
           1,
           2,
           1,
           2,
           1,
           1,
           1,
           1,
           1,
           2,
           3,
           2,
           1,
           1,
           2,
           1,
           1,
           1,
           1,
           1,
           1,
           1,
           1,
           2,
           3,
           4,
           1,
           1,
           2,
           2,
           1,
           3,
           3,
           1,
           1,
           3,
           1,
           1,
           1,
           3,
           1,
           8,
           2,
           3,
           2,
           1,
           2,
           1,
           1,
           3,
           2,
           4,
           1,
           3,
           2,
           3,
           3,
           3,
           1,
           4,
           4,
           1,
           6,
           3,
           4,
           1,
           2,
           1,
           1,
           3,
           2,
           2,
           1,
           4,
           4,
           2,
           2,
           4,
           6,
           1,
           2,
           2,
           5,
           5,
           6,
           8,
           1,
           1,
           1,
           1,
           3,
           1,
           1,
           1,
           1,
           1,
           1,
           1,
           1,
           1,
           1,
           1,
           3,
           1,
           1,
           1,
           1,
           1,
           3,
           1,
           1,
           4,
           1,
           1,
           2,
           1,
           1,
           1,
           1,
           1,
           1,
           1,
           1,
           1,
           1,
           1,
           2,
           1,
           1,
           1,
           1,
           2,
           1,
           2,
           3,
           1,
           1,
           1,
           4,
           2,
           3,
           2,
           1,
           2,
           1,
           2,
           1,
           1,
           2,
           1,
           1,
           1,
           1,
           2,
           4,
           3,
           1,
           1,
           1,
           1,
           1,
           1,
           3,
           3,
           1,
           2,
           1,
           1,
           1,
           1,
           1,
           1,
           1,
           2,
           2,
           1,
           2,
           1,
           1,
           2,
           5,
           5,
           1,
           3,
           2,
           3,
           4,
           1,
           3,
           2,
           1,
           1,
           1,
           1,
           1,
           1,
           1,
           1,
           1,
           2,
           1,
           1,
           1,
           1,
           2,
           1,
           1,
           1,
           1,
           1,
           1,
           1,
           1,
           1,
           1,
           2,
           2,
           1,
           1,
           1,
           1,
           1,
           1,
           1,
           1,
           1,
           1,
           1,
           1,
           2,
           1,
           2,
           1,
           1,
           1,
           1,
           1,
           1,
           1,
           1,
           1,
           1,
           2,
           1,
           1,
           1,
           1,
           1,
           1,
           1,
           2,
           1,
           2,
           1,
           1,
           1,
           1,
           1,
           1,
           1,
           1,
           1,
           2,
           1,
           1,
           1,
           1,
           1,
           3,
           1,
           1,
           2,
           1,
           1,
           2,
           1,
           1,
           1,
           1,
           1,
           1,
           1,
           1,
           1,
           1
          ],
          "sizemode": "area",
          "sizeref": 0.02,
          "symbol": "circle"
         },
         "mode": "markers",
         "name": "mortality rate",
         "showlegend": true,
         "type": "scattergl",
         "x": [
          "1977-06",
          "1980-01",
          "1982-07",
          "1984-12",
          "1986-06",
          "1986-12",
          "1987-07",
          "1987-12",
          "1988-12",
          "1989-06",
          "1989-08",
          "1991-02",
          "1991-05",
          "1991-12",
          "1993-11",
          "1993-12",
          "1994-01",
          "1994-09",
          "1995-11",
          "1996-08",
          "1999-08",
          "2000-03",
          "2000-12",
          "2001-06",
          "2001-07",
          "2001-10",
          "2001-12",
          "2002-12",
          "2003-09",
          "2003-11",
          "2004-01",
          "2004-02",
          "2004-03",
          "2004-04",
          "2004-09",
          "2004-11",
          "2004-12",
          "2005-01",
          "2005-04",
          "2005-06",
          "2005-07",
          "2005-10",
          "2005-12",
          "2006-01",
          "2006-03",
          "2006-07",
          "2006-08",
          "2006-09",
          "2006-10",
          "2006-12",
          "2007-02",
          "2007-05",
          "2007-09",
          "2007-10",
          "2007-12",
          "2008-02",
          "2008-03",
          "2008-05",
          "2008-07",
          "2008-08",
          "2008-09",
          "2008-11",
          "2008-12",
          "2009-03",
          "2009-04",
          "2009-07",
          "2009-09",
          "2009-10",
          "2009-12",
          "2010-01",
          "2010-02",
          "2010-06",
          "2010-07",
          "2010-08",
          "2010-12",
          "2011-01",
          "2011-03",
          "2011-04",
          "2011-07",
          "2011-08",
          "2011-10",
          "2011-11",
          "2011-12",
          "2012-01",
          "2012-02",
          "2012-05",
          "2012-06",
          "2012-08",
          "2012-09",
          "2012-10",
          "2012-11",
          "2012-12",
          "2013-03",
          "2013-05",
          "2013-06",
          "2013-08",
          "2013-09",
          "2013-10",
          "2014-01",
          "2014-02",
          "2014-04",
          "2014-05",
          "2014-06",
          "2014-08",
          "2014-09",
          "2014-10",
          "2014-11",
          "2014-12",
          "2015-03",
          "2015-05",
          "2015-08",
          "2015-09",
          "2015-10",
          "2015-11",
          "2015-12",
          "2016-01",
          "2016-02",
          "2016-04",
          "2016-05",
          "2016-06",
          "2016-08",
          "2016-09",
          "2016-10",
          "2016-11",
          "2016-12",
          "2017-01",
          "2017-02",
          "2017-03",
          "2017-04",
          "2017-05",
          "2017-06",
          "2017-07",
          "2017-08",
          "2017-10",
          "2017-11",
          "2017-12",
          "2018-01",
          "2018-02",
          "2018-03",
          "2018-04",
          "2018-06",
          "2018-07",
          "2018-09",
          "2018-10",
          "2018-11",
          "2018-12",
          "2019-01",
          "2019-03",
          "2019-04",
          "2019-05",
          "2019-06",
          "2019-07",
          "2019-09",
          "2019-10",
          "2019-11",
          "2019-12",
          "2020-01",
          "2020-02",
          "2020-03",
          "2020-10",
          "2020-12",
          "1989-07",
          "1993-05",
          "1994-12",
          "1995-05",
          "1995-09",
          "1999-11",
          "2000-12",
          "2002-12",
          "2003-03",
          "2003-12",
          "2004-01",
          "2004-06",
          "2004-10",
          "2004-11",
          "2005-01",
          "2005-04",
          "2005-09",
          "2005-11",
          "2005-12",
          "2006-03",
          "2006-07",
          "2006-08",
          "2006-10",
          "2006-12",
          "2007-07",
          "2007-09",
          "2007-12",
          "2008-05",
          "2008-09",
          "2008-12",
          "2009-01",
          "2009-05",
          "2009-06",
          "2009-09",
          "2009-10",
          "2009-12",
          "2010-01",
          "2010-09",
          "2010-10",
          "2010-11",
          "2011-01",
          "2011-04",
          "2011-07",
          "2011-12",
          "2012-01",
          "2012-02",
          "2012-03",
          "2012-04",
          "2012-06",
          "2012-07",
          "2012-08",
          "2012-10",
          "2012-11",
          "2012-12",
          "2013-03",
          "2013-05",
          "2013-06",
          "2013-08",
          "2013-09",
          "2013-11",
          "2013-12",
          "2014-02",
          "2014-04",
          "2014-05",
          "2014-08",
          "2014-10",
          "2014-12",
          "2015-01",
          "2015-02",
          "2015-03",
          "2015-08",
          "2015-12",
          "2016-01",
          "2016-02",
          "2016-05",
          "2016-08",
          "2016-11",
          "2016-12",
          "2017-02",
          "2017-03",
          "2017-05",
          "2017-06",
          "2017-11",
          "2017-12",
          "2018-01",
          "2018-06",
          "2018-07",
          "2018-09",
          "2018-10",
          "2018-11",
          "2018-12",
          "2019-01",
          "2019-02",
          "2019-03",
          "2019-04",
          "2019-06",
          "2019-09",
          "2019-11",
          "2019-12",
          "2020-01",
          "2020-02",
          "2020-03",
          "2020-06",
          "1992-11",
          "1995-06",
          "1998-08",
          "2004-12",
          "2005-03",
          "2005-04",
          "2005-07",
          "2006-12",
          "2007-12",
          "2008-05",
          "2008-07",
          "2008-11",
          "2009-02",
          "2009-09",
          "2009-10",
          "2009-12",
          "2011-06",
          "2012-04",
          "2012-05",
          "2013-04",
          "2014-03",
          "2015-07",
          "2016-02",
          "2016-04",
          "2016-06",
          "2016-08",
          "2016-09",
          "2016-12",
          "2017-08",
          "2018-01",
          "2018-02",
          "2018-03",
          "2018-05",
          "2018-06",
          "2018-10",
          "2018-12",
          "2019-02",
          "2019-07",
          "2019-08",
          "2019-12",
          "2020-01",
          "2020-02",
          "2020-03",
          "1992-09",
          "1993-02",
          "1999-12",
          "2000-03",
          "2004-06",
          "2005-08",
          "2006-02",
          "2006-04",
          "2006-08",
          "2006-09",
          "2008-09",
          "2010-06",
          "2010-09",
          "2011-02",
          "2011-08",
          "2012-05",
          "2013-05",
          "2014-03",
          "2014-11",
          "2015-01",
          "2015-07",
          "2015-12",
          "2016-05",
          "2016-12",
          "2017-01",
          "2017-02",
          "2017-03",
          "2017-05",
          "2017-06",
          "2017-10",
          "2018-02",
          "2018-09",
          "2019-01",
          "2019-02",
          "2019-04",
          "2019-06",
          "2019-07",
          "2019-12",
          "2020-01",
          "2020-02",
          "2020-03",
          "2006-01",
          "2006-11",
          "2011-12",
          "2013-08",
          "2013-09",
          "2014-06",
          "2015-11",
          "2016-05",
          "2016-12",
          "2018-04"
         ],
         "xaxis": "x",
         "y": [
          1,
          1,
          1,
          1,
          1,
          1,
          1,
          1,
          1,
          1,
          1,
          1,
          1,
          1,
          1,
          1,
          1,
          1,
          1,
          1,
          1,
          1,
          1,
          1,
          1,
          1,
          1,
          1,
          1,
          1,
          1,
          1,
          1,
          1,
          1,
          1,
          1,
          1,
          1,
          1,
          1,
          1,
          1,
          1,
          1,
          1,
          1,
          1,
          1,
          1,
          1,
          1,
          1,
          1,
          1,
          1,
          1,
          1,
          1,
          1,
          1,
          1,
          1,
          1,
          1,
          1,
          1,
          1,
          1,
          1,
          1,
          1,
          1,
          1,
          1,
          1,
          1,
          1,
          1,
          1,
          1,
          1,
          1,
          1,
          1,
          1,
          1,
          1,
          1,
          1,
          1,
          1,
          1,
          1,
          1,
          1,
          1,
          1,
          1,
          1,
          1,
          1,
          1,
          1,
          1,
          1,
          1,
          1,
          1,
          1,
          1,
          1,
          1,
          1,
          1,
          1,
          1,
          1,
          1,
          1,
          1,
          1,
          1,
          1,
          1,
          1,
          1,
          1,
          1,
          1,
          1,
          1,
          1,
          1,
          1,
          1,
          1,
          1,
          1,
          1,
          1,
          1,
          1,
          1,
          1,
          1,
          1,
          1,
          1,
          1,
          1,
          1,
          1,
          1,
          1,
          1,
          1,
          1,
          1,
          1,
          1,
          2,
          2,
          2,
          2,
          2,
          2,
          2,
          2,
          2,
          2,
          2,
          2,
          2,
          2,
          2,
          2,
          2,
          2,
          2,
          2,
          2,
          2,
          2,
          2,
          2,
          2,
          2,
          2,
          2,
          2,
          2,
          2,
          2,
          2,
          2,
          2,
          2,
          2,
          2,
          2,
          2,
          2,
          2,
          2,
          2,
          2,
          2,
          2,
          2,
          2,
          2,
          2,
          2,
          2,
          2,
          2,
          2,
          2,
          2,
          2,
          2,
          2,
          2,
          2,
          2,
          2,
          2,
          2,
          2,
          2,
          2,
          2,
          2,
          2,
          2,
          2,
          2,
          2,
          2,
          2,
          2,
          2,
          2,
          2,
          2,
          2,
          2,
          2,
          2,
          2,
          2,
          2,
          2,
          2,
          2,
          2,
          2,
          2,
          2,
          2,
          2,
          2,
          2,
          3,
          3,
          3,
          3,
          3,
          3,
          3,
          3,
          3,
          3,
          3,
          3,
          3,
          3,
          3,
          3,
          3,
          3,
          3,
          3,
          3,
          3,
          3,
          3,
          3,
          3,
          3,
          3,
          3,
          3,
          3,
          3,
          3,
          3,
          3,
          3,
          3,
          3,
          3,
          3,
          3,
          3,
          3,
          4,
          4,
          4,
          4,
          4,
          4,
          4,
          4,
          4,
          4,
          4,
          4,
          4,
          4,
          4,
          4,
          4,
          4,
          4,
          4,
          4,
          4,
          4,
          4,
          4,
          4,
          4,
          4,
          4,
          4,
          4,
          4,
          4,
          4,
          4,
          4,
          4,
          4,
          4,
          4,
          4,
          5,
          5,
          5,
          5,
          5,
          5,
          5,
          5,
          5,
          5
         ],
         "yaxis": "y"
        },
        {
         "customdata": [
          [
           1
          ],
          [
           1
          ],
          [
           1
          ],
          [
           1
          ],
          [
           1
          ],
          [
           1
          ],
          [
           1
          ],
          [
           1
          ],
          [
           1
          ],
          [
           1
          ],
          [
           1
          ],
          [
           1
          ],
          [
           1
          ],
          [
           1
          ],
          [
           1
          ],
          [
           1
          ],
          [
           1
          ],
          [
           1
          ],
          [
           1
          ],
          [
           1
          ],
          [
           2
          ],
          [
           1
          ],
          [
           2
          ],
          [
           1
          ],
          [
           1
          ],
          [
           1
          ],
          [
           1
          ],
          [
           4
          ],
          [
           1
          ],
          [
           1
          ],
          [
           1
          ],
          [
           1
          ],
          [
           1
          ],
          [
           1
          ],
          [
           1
          ],
          [
           2
          ],
          [
           1
          ],
          [
           1
          ],
          [
           1
          ],
          [
           4
          ],
          [
           3
          ],
          [
           1
          ],
          [
           1
          ],
          [
           1
          ],
          [
           3
          ],
          [
           1
          ],
          [
           1
          ],
          [
           1
          ],
          [
           2
          ],
          [
           2
          ],
          [
           4
          ],
          [
           1
          ],
          [
           1
          ],
          [
           1
          ],
          [
           2
          ],
          [
           3
          ],
          [
           1
          ],
          [
           1
          ],
          [
           1
          ],
          [
           1
          ],
          [
           1
          ],
          [
           2
          ],
          [
           1
          ],
          [
           1
          ],
          [
           2
          ],
          [
           3
          ],
          [
           2
          ],
          [
           1
          ],
          [
           1
          ],
          [
           3
          ],
          [
           3
          ],
          [
           2
          ],
          [
           1
          ],
          [
           3
          ],
          [
           2
          ],
          [
           1
          ],
          [
           1
          ],
          [
           2
          ],
          [
           2
          ],
          [
           1
          ],
          [
           6
          ],
          [
           3
          ],
          [
           1
          ],
          [
           1
          ],
          [
           1
          ],
          [
           1
          ],
          [
           1
          ],
          [
           3
          ],
          [
           1
          ],
          [
           2
          ],
          [
           1
          ],
          [
           1
          ],
          [
           3
          ],
          [
           3
          ],
          [
           2
          ],
          [
           2
          ],
          [
           2
          ],
          [
           1
          ],
          [
           1
          ],
          [
           1
          ],
          [
           2
          ],
          [
           3
          ],
          [
           1
          ],
          [
           3
          ],
          [
           2
          ],
          [
           2
          ],
          [
           3
          ],
          [
           2
          ],
          [
           1
          ],
          [
           4
          ],
          [
           3
          ],
          [
           1
          ],
          [
           3
          ],
          [
           2
          ],
          [
           4
          ],
          [
           3
          ],
          [
           1
          ],
          [
           4
          ],
          [
           2
          ],
          [
           3
          ],
          [
           2
          ],
          [
           1
          ],
          [
           5
          ],
          [
           1
          ],
          [
           2
          ],
          [
           3
          ],
          [
           4
          ],
          [
           3
          ],
          [
           1
          ],
          [
           1
          ],
          [
           5
          ],
          [
           2
          ],
          [
           2
          ],
          [
           1
          ],
          [
           1
          ],
          [
           2
          ],
          [
           3
          ],
          [
           3
          ],
          [
           3
          ],
          [
           2
          ],
          [
           1
          ],
          [
           3
          ],
          [
           1
          ],
          [
           3
          ],
          [
           6
          ],
          [
           3
          ],
          [
           2
          ],
          [
           4
          ],
          [
           1
          ],
          [
           2
          ],
          [
           1
          ],
          [
           3
          ],
          [
           3
          ],
          [
           5
          ],
          [
           5
          ],
          [
           3
          ],
          [
           1
          ],
          [
           2
          ],
          [
           1
          ],
          [
           1
          ],
          [
           1
          ],
          [
           1
          ],
          [
           1
          ],
          [
           1
          ],
          [
           1
          ],
          [
           1
          ],
          [
           1
          ],
          [
           1
          ],
          [
           1
          ],
          [
           1
          ],
          [
           1
          ],
          [
           1
          ],
          [
           1
          ],
          [
           1
          ],
          [
           1
          ],
          [
           1
          ],
          [
           1
          ],
          [
           1
          ],
          [
           1
          ],
          [
           2
          ],
          [
           1
          ],
          [
           1
          ],
          [
           1
          ],
          [
           2
          ],
          [
           1
          ],
          [
           1
          ],
          [
           2
          ],
          [
           1
          ],
          [
           1
          ],
          [
           1
          ],
          [
           4
          ],
          [
           1
          ],
          [
           1
          ],
          [
           1
          ],
          [
           1
          ],
          [
           2
          ],
          [
           1
          ],
          [
           1
          ],
          [
           2
          ],
          [
           1
          ],
          [
           1
          ],
          [
           2
          ],
          [
           1
          ],
          [
           1
          ],
          [
           1
          ],
          [
           1
          ],
          [
           2
          ],
          [
           1
          ],
          [
           1
          ],
          [
           5
          ],
          [
           1
          ],
          [
           2
          ],
          [
           1
          ],
          [
           1
          ],
          [
           1
          ],
          [
           1
          ],
          [
           1
          ],
          [
           1
          ],
          [
           1
          ],
          [
           1
          ],
          [
           1
          ],
          [
           2
          ],
          [
           1
          ],
          [
           1
          ],
          [
           2
          ],
          [
           1
          ],
          [
           1
          ],
          [
           1
          ],
          [
           2
          ],
          [
           2
          ],
          [
           1
          ],
          [
           1
          ],
          [
           1
          ],
          [
           2
          ],
          [
           1
          ],
          [
           1
          ],
          [
           2
          ],
          [
           1
          ],
          [
           1
          ],
          [
           1
          ],
          [
           3
          ],
          [
           1
          ],
          [
           4
          ],
          [
           1
          ],
          [
           2
          ],
          [
           1
          ],
          [
           1
          ],
          [
           2
          ],
          [
           1
          ],
          [
           1
          ],
          [
           1
          ],
          [
           1
          ],
          [
           1
          ],
          [
           1
          ],
          [
           1
          ],
          [
           2
          ],
          [
           1
          ],
          [
           1
          ],
          [
           2
          ],
          [
           1
          ],
          [
           2
          ],
          [
           1
          ],
          [
           2
          ],
          [
           2
          ],
          [
           1
          ],
          [
           2
          ],
          [
           1
          ],
          [
           2
          ],
          [
           3
          ],
          [
           3
          ],
          [
           1
          ],
          [
           3
          ],
          [
           1
          ],
          [
           2
          ],
          [
           1
          ],
          [
           1
          ],
          [
           1
          ],
          [
           3
          ],
          [
           5
          ],
          [
           2
          ],
          [
           1
          ],
          [
           1
          ],
          [
           1
          ],
          [
           1
          ],
          [
           1
          ],
          [
           1
          ],
          [
           1
          ],
          [
           1
          ],
          [
           1
          ],
          [
           2
          ],
          [
           1
          ],
          [
           1
          ],
          [
           1
          ],
          [
           1
          ],
          [
           2
          ],
          [
           1
          ],
          [
           2
          ],
          [
           1
          ],
          [
           1
          ],
          [
           1
          ],
          [
           1
          ],
          [
           1
          ],
          [
           1
          ],
          [
           1
          ],
          [
           1
          ],
          [
           1
          ],
          [
           1
          ],
          [
           1
          ],
          [
           1
          ],
          [
           1
          ],
          [
           1
          ],
          [
           1
          ],
          [
           1
          ],
          [
           1
          ],
          [
           1
          ],
          [
           1
          ],
          [
           1
          ],
          [
           1
          ],
          [
           2
          ],
          [
           2
          ],
          [
           1
          ],
          [
           1
          ],
          [
           1
          ],
          [
           1
          ],
          [
           1
          ],
          [
           1
          ],
          [
           1
          ],
          [
           1
          ],
          [
           1
          ],
          [
           1
          ],
          [
           1
          ],
          [
           1
          ],
          [
           1
          ],
          [
           1
          ],
          [
           1
          ],
          [
           1
          ],
          [
           1
          ],
          [
           1
          ],
          [
           1
          ],
          [
           1
          ],
          [
           1
          ],
          [
           1
          ],
          [
           1
          ],
          [
           1
          ],
          [
           1
          ],
          [
           1
          ],
          [
           1
          ],
          [
           1
          ],
          [
           1
          ],
          [
           1
          ],
          [
           2
          ],
          [
           1
          ],
          [
           1
          ],
          [
           2
          ],
          [
           1
          ],
          [
           1
          ],
          [
           1
          ],
          [
           1
          ],
          [
           1
          ],
          [
           1
          ],
          [
           1
          ],
          [
           1
          ],
          [
           1
          ],
          [
           1
          ],
          [
           1
          ],
          [
           1
          ],
          [
           1
          ],
          [
           1
          ],
          [
           1
          ],
          [
           1
          ],
          [
           1
          ],
          [
           1
          ]
         ],
         "hoverlabel": {
          "namelength": 0
         },
         "hovertemplate": "<b>%{hovertext}</b><br><br>tag=vaccine<br>publish_time=%{x}<br>phase=%{y}<br>count=%{customdata[0]}",
         "hovertext": [
          "vaccine",
          "vaccine",
          "vaccine",
          "vaccine",
          "vaccine",
          "vaccine",
          "vaccine",
          "vaccine",
          "vaccine",
          "vaccine",
          "vaccine",
          "vaccine",
          "vaccine",
          "vaccine",
          "vaccine",
          "vaccine",
          "vaccine",
          "vaccine",
          "vaccine",
          "vaccine",
          "vaccine",
          "vaccine",
          "vaccine",
          "vaccine",
          "vaccine",
          "vaccine",
          "vaccine",
          "vaccine",
          "vaccine",
          "vaccine",
          "vaccine",
          "vaccine",
          "vaccine",
          "vaccine",
          "vaccine",
          "vaccine",
          "vaccine",
          "vaccine",
          "vaccine",
          "vaccine",
          "vaccine",
          "vaccine",
          "vaccine",
          "vaccine",
          "vaccine",
          "vaccine",
          "vaccine",
          "vaccine",
          "vaccine",
          "vaccine",
          "vaccine",
          "vaccine",
          "vaccine",
          "vaccine",
          "vaccine",
          "vaccine",
          "vaccine",
          "vaccine",
          "vaccine",
          "vaccine",
          "vaccine",
          "vaccine",
          "vaccine",
          "vaccine",
          "vaccine",
          "vaccine",
          "vaccine",
          "vaccine",
          "vaccine",
          "vaccine",
          "vaccine",
          "vaccine",
          "vaccine",
          "vaccine",
          "vaccine",
          "vaccine",
          "vaccine",
          "vaccine",
          "vaccine",
          "vaccine",
          "vaccine",
          "vaccine",
          "vaccine",
          "vaccine",
          "vaccine",
          "vaccine",
          "vaccine",
          "vaccine",
          "vaccine",
          "vaccine",
          "vaccine",
          "vaccine",
          "vaccine",
          "vaccine",
          "vaccine",
          "vaccine",
          "vaccine",
          "vaccine",
          "vaccine",
          "vaccine",
          "vaccine",
          "vaccine",
          "vaccine",
          "vaccine",
          "vaccine",
          "vaccine",
          "vaccine",
          "vaccine",
          "vaccine",
          "vaccine",
          "vaccine",
          "vaccine",
          "vaccine",
          "vaccine",
          "vaccine",
          "vaccine",
          "vaccine",
          "vaccine",
          "vaccine",
          "vaccine",
          "vaccine",
          "vaccine",
          "vaccine",
          "vaccine",
          "vaccine",
          "vaccine",
          "vaccine",
          "vaccine",
          "vaccine",
          "vaccine",
          "vaccine",
          "vaccine",
          "vaccine",
          "vaccine",
          "vaccine",
          "vaccine",
          "vaccine",
          "vaccine",
          "vaccine",
          "vaccine",
          "vaccine",
          "vaccine",
          "vaccine",
          "vaccine",
          "vaccine",
          "vaccine",
          "vaccine",
          "vaccine",
          "vaccine",
          "vaccine",
          "vaccine",
          "vaccine",
          "vaccine",
          "vaccine",
          "vaccine",
          "vaccine",
          "vaccine",
          "vaccine",
          "vaccine",
          "vaccine",
          "vaccine",
          "vaccine",
          "vaccine",
          "vaccine",
          "vaccine",
          "vaccine",
          "vaccine",
          "vaccine",
          "vaccine",
          "vaccine",
          "vaccine",
          "vaccine",
          "vaccine",
          "vaccine",
          "vaccine",
          "vaccine",
          "vaccine",
          "vaccine",
          "vaccine",
          "vaccine",
          "vaccine",
          "vaccine",
          "vaccine",
          "vaccine",
          "vaccine",
          "vaccine",
          "vaccine",
          "vaccine",
          "vaccine",
          "vaccine",
          "vaccine",
          "vaccine",
          "vaccine",
          "vaccine",
          "vaccine",
          "vaccine",
          "vaccine",
          "vaccine",
          "vaccine",
          "vaccine",
          "vaccine",
          "vaccine",
          "vaccine",
          "vaccine",
          "vaccine",
          "vaccine",
          "vaccine",
          "vaccine",
          "vaccine",
          "vaccine",
          "vaccine",
          "vaccine",
          "vaccine",
          "vaccine",
          "vaccine",
          "vaccine",
          "vaccine",
          "vaccine",
          "vaccine",
          "vaccine",
          "vaccine",
          "vaccine",
          "vaccine",
          "vaccine",
          "vaccine",
          "vaccine",
          "vaccine",
          "vaccine",
          "vaccine",
          "vaccine",
          "vaccine",
          "vaccine",
          "vaccine",
          "vaccine",
          "vaccine",
          "vaccine",
          "vaccine",
          "vaccine",
          "vaccine",
          "vaccine",
          "vaccine",
          "vaccine",
          "vaccine",
          "vaccine",
          "vaccine",
          "vaccine",
          "vaccine",
          "vaccine",
          "vaccine",
          "vaccine",
          "vaccine",
          "vaccine",
          "vaccine",
          "vaccine",
          "vaccine",
          "vaccine",
          "vaccine",
          "vaccine",
          "vaccine",
          "vaccine",
          "vaccine",
          "vaccine",
          "vaccine",
          "vaccine",
          "vaccine",
          "vaccine",
          "vaccine",
          "vaccine",
          "vaccine",
          "vaccine",
          "vaccine",
          "vaccine",
          "vaccine",
          "vaccine",
          "vaccine",
          "vaccine",
          "vaccine",
          "vaccine",
          "vaccine",
          "vaccine",
          "vaccine",
          "vaccine",
          "vaccine",
          "vaccine",
          "vaccine",
          "vaccine",
          "vaccine",
          "vaccine",
          "vaccine",
          "vaccine",
          "vaccine",
          "vaccine",
          "vaccine",
          "vaccine",
          "vaccine",
          "vaccine",
          "vaccine",
          "vaccine",
          "vaccine",
          "vaccine",
          "vaccine",
          "vaccine",
          "vaccine",
          "vaccine",
          "vaccine",
          "vaccine",
          "vaccine",
          "vaccine",
          "vaccine",
          "vaccine",
          "vaccine",
          "vaccine",
          "vaccine",
          "vaccine",
          "vaccine",
          "vaccine",
          "vaccine",
          "vaccine",
          "vaccine",
          "vaccine",
          "vaccine",
          "vaccine",
          "vaccine",
          "vaccine",
          "vaccine",
          "vaccine",
          "vaccine",
          "vaccine",
          "vaccine",
          "vaccine",
          "vaccine",
          "vaccine",
          "vaccine",
          "vaccine",
          "vaccine",
          "vaccine",
          "vaccine",
          "vaccine",
          "vaccine",
          "vaccine",
          "vaccine",
          "vaccine",
          "vaccine",
          "vaccine",
          "vaccine",
          "vaccine",
          "vaccine",
          "vaccine",
          "vaccine",
          "vaccine",
          "vaccine",
          "vaccine",
          "vaccine",
          "vaccine",
          "vaccine",
          "vaccine",
          "vaccine",
          "vaccine",
          "vaccine",
          "vaccine",
          "vaccine",
          "vaccine",
          "vaccine",
          "vaccine",
          "vaccine",
          "vaccine",
          "vaccine",
          "vaccine",
          "vaccine",
          "vaccine",
          "vaccine",
          "vaccine"
         ],
         "legendgroup": "vaccine",
         "marker": {
          "color": "#FFA15A",
          "size": [
           1,
           1,
           1,
           1,
           1,
           1,
           1,
           1,
           1,
           1,
           1,
           1,
           1,
           1,
           1,
           1,
           1,
           1,
           1,
           1,
           2,
           1,
           2,
           1,
           1,
           1,
           1,
           4,
           1,
           1,
           1,
           1,
           1,
           1,
           1,
           2,
           1,
           1,
           1,
           4,
           3,
           1,
           1,
           1,
           3,
           1,
           1,
           1,
           2,
           2,
           4,
           1,
           1,
           1,
           2,
           3,
           1,
           1,
           1,
           1,
           1,
           2,
           1,
           1,
           2,
           3,
           2,
           1,
           1,
           3,
           3,
           2,
           1,
           3,
           2,
           1,
           1,
           2,
           2,
           1,
           6,
           3,
           1,
           1,
           1,
           1,
           1,
           3,
           1,
           2,
           1,
           1,
           3,
           3,
           2,
           2,
           2,
           1,
           1,
           1,
           2,
           3,
           1,
           3,
           2,
           2,
           3,
           2,
           1,
           4,
           3,
           1,
           3,
           2,
           4,
           3,
           1,
           4,
           2,
           3,
           2,
           1,
           5,
           1,
           2,
           3,
           4,
           3,
           1,
           1,
           5,
           2,
           2,
           1,
           1,
           2,
           3,
           3,
           3,
           2,
           1,
           3,
           1,
           3,
           6,
           3,
           2,
           4,
           1,
           2,
           1,
           3,
           3,
           5,
           5,
           3,
           1,
           2,
           1,
           1,
           1,
           1,
           1,
           1,
           1,
           1,
           1,
           1,
           1,
           1,
           1,
           1,
           1,
           1,
           1,
           1,
           1,
           1,
           1,
           2,
           1,
           1,
           1,
           2,
           1,
           1,
           2,
           1,
           1,
           1,
           4,
           1,
           1,
           1,
           1,
           2,
           1,
           1,
           2,
           1,
           1,
           2,
           1,
           1,
           1,
           1,
           2,
           1,
           1,
           5,
           1,
           2,
           1,
           1,
           1,
           1,
           1,
           1,
           1,
           1,
           1,
           2,
           1,
           1,
           2,
           1,
           1,
           1,
           2,
           2,
           1,
           1,
           1,
           2,
           1,
           1,
           2,
           1,
           1,
           1,
           3,
           1,
           4,
           1,
           2,
           1,
           1,
           2,
           1,
           1,
           1,
           1,
           1,
           1,
           1,
           2,
           1,
           1,
           2,
           1,
           2,
           1,
           2,
           2,
           1,
           2,
           1,
           2,
           3,
           3,
           1,
           3,
           1,
           2,
           1,
           1,
           1,
           3,
           5,
           2,
           1,
           1,
           1,
           1,
           1,
           1,
           1,
           1,
           1,
           2,
           1,
           1,
           1,
           1,
           2,
           1,
           2,
           1,
           1,
           1,
           1,
           1,
           1,
           1,
           1,
           1,
           1,
           1,
           1,
           1,
           1,
           1,
           1,
           1,
           1,
           1,
           1,
           1,
           2,
           2,
           1,
           1,
           1,
           1,
           1,
           1,
           1,
           1,
           1,
           1,
           1,
           1,
           1,
           1,
           1,
           1,
           1,
           1,
           1,
           1,
           1,
           1,
           1,
           1,
           1,
           1,
           1,
           1,
           1,
           1,
           2,
           1,
           1,
           2,
           1,
           1,
           1,
           1,
           1,
           1,
           1,
           1,
           1,
           1,
           1,
           1,
           1,
           1,
           1,
           1,
           1,
           1
          ],
          "sizemode": "area",
          "sizeref": 0.02,
          "symbol": "circle"
         },
         "mode": "markers",
         "name": "vaccine",
         "showlegend": true,
         "type": "scattergl",
         "x": [
          "1971-05",
          "1976-05",
          "1980-11",
          "1981-12",
          "1984-01",
          "1984-12",
          "1986-09",
          "1986-12",
          "1988-01",
          "1988-10",
          "1989-07",
          "1991-01",
          "1991-11",
          "1992-02",
          "1992-09",
          "1993-12",
          "1997-05",
          "1999-08",
          "2001-01",
          "2001-04",
          "2001-12",
          "2003-11",
          "2003-12",
          "2004-01",
          "2004-02",
          "2004-03",
          "2004-04",
          "2004-07",
          "2004-09",
          "2004-10",
          "2004-11",
          "2004-12",
          "2005-01",
          "2005-02",
          "2005-03",
          "2005-04",
          "2005-08",
          "2005-09",
          "2005-11",
          "2005-12",
          "2006-02",
          "2006-04",
          "2006-05",
          "2006-08",
          "2006-12",
          "2007-03",
          "2007-05",
          "2007-06",
          "2007-10",
          "2007-11",
          "2007-12",
          "2008-02",
          "2008-03",
          "2008-08",
          "2008-09",
          "2008-12",
          "2009-01",
          "2009-03",
          "2009-04",
          "2009-06",
          "2009-07",
          "2009-08",
          "2009-10",
          "2009-11",
          "2009-12",
          "2010-02",
          "2010-03",
          "2010-05",
          "2010-06",
          "2010-07",
          "2010-08",
          "2010-10",
          "2010-11",
          "2010-12",
          "2011-02",
          "2011-04",
          "2011-05",
          "2011-06",
          "2011-08",
          "2011-09",
          "2011-12",
          "2012-03",
          "2012-05",
          "2012-08",
          "2012-09",
          "2012-10",
          "2012-11",
          "2012-12",
          "2013-01",
          "2013-02",
          "2013-05",
          "2013-06",
          "2013-09",
          "2013-11",
          "2013-12",
          "2014-01",
          "2014-04",
          "2014-06",
          "2014-07",
          "2014-08",
          "2014-09",
          "2014-10",
          "2014-11",
          "2014-12",
          "2015-01",
          "2015-02",
          "2015-03",
          "2015-05",
          "2015-08",
          "2015-09",
          "2015-10",
          "2015-11",
          "2015-12",
          "2016-01",
          "2016-02",
          "2016-03",
          "2016-04",
          "2016-05",
          "2016-06",
          "2016-08",
          "2016-09",
          "2016-11",
          "2016-12",
          "2017-01",
          "2017-02",
          "2017-03",
          "2017-04",
          "2017-06",
          "2017-07",
          "2017-09",
          "2017-11",
          "2017-12",
          "2018-01",
          "2018-02",
          "2018-03",
          "2018-05",
          "2018-08",
          "2018-09",
          "2018-11",
          "2018-12",
          "2019-01",
          "2019-02",
          "2019-03",
          "2019-04",
          "2019-05",
          "2019-06",
          "2019-07",
          "2019-08",
          "2019-09",
          "2019-10",
          "2019-11",
          "2019-12",
          "2020-01",
          "2020-02",
          "2020-03",
          "2020-12",
          "1983-12",
          "1986-02",
          "1986-11",
          "1986-12",
          "1989-03",
          "1989-07",
          "1989-12",
          "1990-04",
          "1990-06",
          "1992-06",
          "1994-10",
          "1995-04",
          "1995-08",
          "1996-12",
          "1997-09",
          "1999-06",
          "1999-07",
          "2000-03",
          "2000-09",
          "2000-12",
          "2003-09",
          "2004-01",
          "2004-04",
          "2004-06",
          "2004-09",
          "2004-11",
          "2004-12",
          "2005-01",
          "2005-03",
          "2005-10",
          "2005-12",
          "2006-04",
          "2006-05",
          "2006-09",
          "2006-12",
          "2007-12",
          "2008-02",
          "2008-05",
          "2008-09",
          "2008-12",
          "2009-02",
          "2009-05",
          "2009-12",
          "2010-04",
          "2010-06",
          "2010-07",
          "2010-11",
          "2010-12",
          "2011-01",
          "2011-03",
          "2011-05",
          "2011-06",
          "2011-10",
          "2011-11",
          "2011-12",
          "2012-02",
          "2012-03",
          "2012-05",
          "2012-10",
          "2012-12",
          "2013-01",
          "2013-03",
          "2013-04",
          "2013-05",
          "2013-06",
          "2013-08",
          "2013-09",
          "2013-11",
          "2013-12",
          "2014-02",
          "2014-04",
          "2014-05",
          "2014-07",
          "2014-08",
          "2014-09",
          "2014-10",
          "2014-11",
          "2014-12",
          "2015-02",
          "2015-03",
          "2015-04",
          "2015-05",
          "2015-06",
          "2015-07",
          "2015-08",
          "2015-09",
          "2015-12",
          "2016-01",
          "2016-02",
          "2016-03",
          "2016-04",
          "2016-06",
          "2016-08",
          "2016-09",
          "2016-10",
          "2016-11",
          "2017-01",
          "2017-02",
          "2017-03",
          "2017-04",
          "2017-05",
          "2017-07",
          "2017-09",
          "2017-10",
          "2017-11",
          "2017-12",
          "2018-01",
          "2018-03",
          "2018-04",
          "2018-07",
          "2018-09",
          "2018-10",
          "2018-11",
          "2018-12",
          "2019-01",
          "2019-02",
          "2019-04",
          "2019-06",
          "2019-08",
          "2019-09",
          "2019-11",
          "2019-12",
          "2020-01",
          "2020-02",
          "2020-03",
          "2005-02",
          "2005-04",
          "2006-09",
          "2007-09",
          "2008-11",
          "2008-12",
          "2009-01",
          "2009-03",
          "2009-06",
          "2009-11",
          "2009-12",
          "2010-07",
          "2010-12",
          "2011-01",
          "2011-07",
          "2011-12",
          "2012-01",
          "2012-06",
          "2012-08",
          "2012-12",
          "2013-06",
          "2014-04",
          "2014-09",
          "2014-11",
          "2015-05",
          "2015-09",
          "2015-12",
          "2016-06",
          "2016-09",
          "2017-10",
          "2018-01",
          "2018-03",
          "2018-04",
          "2018-06",
          "2018-09",
          "2018-10",
          "2019-02",
          "2019-04",
          "2019-09",
          "2003-10",
          "2005-12",
          "2006-06",
          "2006-12",
          "2008-04",
          "2008-11",
          "2010-04",
          "2010-07",
          "2010-12",
          "2011-02",
          "2012-02",
          "2012-11",
          "2013-06",
          "2013-07",
          "2013-12",
          "2014-08",
          "2014-12",
          "2015-08",
          "2015-11",
          "2016-03",
          "2016-06",
          "2016-09",
          "2017-05",
          "2017-07",
          "2018-06",
          "2018-09",
          "2018-10",
          "2019-01",
          "2019-05",
          "2019-06",
          "2019-08",
          "2019-11",
          "2019-12",
          "2020-01",
          "2020-02",
          "2004-06",
          "2006-12",
          "2007-05",
          "2008-03",
          "2009-08",
          "2011-08",
          "2014-06",
          "2014-07",
          "2014-08",
          "2014-11",
          "2015-02",
          "2015-03",
          "2016-02",
          "2016-03",
          "2016-06",
          "2016-08",
          "2020-02"
         ],
         "xaxis": "x",
         "y": [
          1,
          1,
          1,
          1,
          1,
          1,
          1,
          1,
          1,
          1,
          1,
          1,
          1,
          1,
          1,
          1,
          1,
          1,
          1,
          1,
          1,
          1,
          1,
          1,
          1,
          1,
          1,
          1,
          1,
          1,
          1,
          1,
          1,
          1,
          1,
          1,
          1,
          1,
          1,
          1,
          1,
          1,
          1,
          1,
          1,
          1,
          1,
          1,
          1,
          1,
          1,
          1,
          1,
          1,
          1,
          1,
          1,
          1,
          1,
          1,
          1,
          1,
          1,
          1,
          1,
          1,
          1,
          1,
          1,
          1,
          1,
          1,
          1,
          1,
          1,
          1,
          1,
          1,
          1,
          1,
          1,
          1,
          1,
          1,
          1,
          1,
          1,
          1,
          1,
          1,
          1,
          1,
          1,
          1,
          1,
          1,
          1,
          1,
          1,
          1,
          1,
          1,
          1,
          1,
          1,
          1,
          1,
          1,
          1,
          1,
          1,
          1,
          1,
          1,
          1,
          1,
          1,
          1,
          1,
          1,
          1,
          1,
          1,
          1,
          1,
          1,
          1,
          1,
          1,
          1,
          1,
          1,
          1,
          1,
          1,
          1,
          1,
          1,
          1,
          1,
          1,
          1,
          1,
          1,
          1,
          1,
          1,
          1,
          1,
          1,
          1,
          1,
          1,
          1,
          1,
          1,
          2,
          2,
          2,
          2,
          2,
          2,
          2,
          2,
          2,
          2,
          2,
          2,
          2,
          2,
          2,
          2,
          2,
          2,
          2,
          2,
          2,
          2,
          2,
          2,
          2,
          2,
          2,
          2,
          2,
          2,
          2,
          2,
          2,
          2,
          2,
          2,
          2,
          2,
          2,
          2,
          2,
          2,
          2,
          2,
          2,
          2,
          2,
          2,
          2,
          2,
          2,
          2,
          2,
          2,
          2,
          2,
          2,
          2,
          2,
          2,
          2,
          2,
          2,
          2,
          2,
          2,
          2,
          2,
          2,
          2,
          2,
          2,
          2,
          2,
          2,
          2,
          2,
          2,
          2,
          2,
          2,
          2,
          2,
          2,
          2,
          2,
          2,
          2,
          2,
          2,
          2,
          2,
          2,
          2,
          2,
          2,
          2,
          2,
          2,
          2,
          2,
          2,
          2,
          2,
          2,
          2,
          2,
          2,
          2,
          2,
          2,
          2,
          2,
          2,
          2,
          2,
          2,
          2,
          2,
          2,
          2,
          2,
          2,
          2,
          2,
          3,
          3,
          3,
          3,
          3,
          3,
          3,
          3,
          3,
          3,
          3,
          3,
          3,
          3,
          3,
          3,
          3,
          3,
          3,
          3,
          3,
          3,
          3,
          3,
          3,
          3,
          3,
          3,
          3,
          3,
          3,
          3,
          3,
          3,
          3,
          3,
          3,
          3,
          3,
          4,
          4,
          4,
          4,
          4,
          4,
          4,
          4,
          4,
          4,
          4,
          4,
          4,
          4,
          4,
          4,
          4,
          4,
          4,
          4,
          4,
          4,
          4,
          4,
          4,
          4,
          4,
          4,
          4,
          4,
          4,
          4,
          4,
          4,
          4,
          5,
          5,
          5,
          5,
          5,
          5,
          5,
          5,
          5,
          5,
          5,
          5,
          5,
          5,
          5,
          5,
          5
         ],
         "yaxis": "y"
        }
       ],
       "layout": {
        "legend": {
         "itemsizing": "constant",
         "title": {
          "text": "tag"
         },
         "tracegroupgap": 0
        },
        "template": {
         "data": {
          "bar": [
           {
            "error_x": {
             "color": "#2a3f5f"
            },
            "error_y": {
             "color": "#2a3f5f"
            },
            "marker": {
             "line": {
              "color": "#E5ECF6",
              "width": 0.5
             }
            },
            "type": "bar"
           }
          ],
          "barpolar": [
           {
            "marker": {
             "line": {
              "color": "#E5ECF6",
              "width": 0.5
             }
            },
            "type": "barpolar"
           }
          ],
          "carpet": [
           {
            "aaxis": {
             "endlinecolor": "#2a3f5f",
             "gridcolor": "white",
             "linecolor": "white",
             "minorgridcolor": "white",
             "startlinecolor": "#2a3f5f"
            },
            "baxis": {
             "endlinecolor": "#2a3f5f",
             "gridcolor": "white",
             "linecolor": "white",
             "minorgridcolor": "white",
             "startlinecolor": "#2a3f5f"
            },
            "type": "carpet"
           }
          ],
          "choropleth": [
           {
            "colorbar": {
             "outlinewidth": 0,
             "ticks": ""
            },
            "type": "choropleth"
           }
          ],
          "contour": [
           {
            "colorbar": {
             "outlinewidth": 0,
             "ticks": ""
            },
            "colorscale": [
             [
              0,
              "#0d0887"
             ],
             [
              0.1111111111111111,
              "#46039f"
             ],
             [
              0.2222222222222222,
              "#7201a8"
             ],
             [
              0.3333333333333333,
              "#9c179e"
             ],
             [
              0.4444444444444444,
              "#bd3786"
             ],
             [
              0.5555555555555556,
              "#d8576b"
             ],
             [
              0.6666666666666666,
              "#ed7953"
             ],
             [
              0.7777777777777778,
              "#fb9f3a"
             ],
             [
              0.8888888888888888,
              "#fdca26"
             ],
             [
              1,
              "#f0f921"
             ]
            ],
            "type": "contour"
           }
          ],
          "contourcarpet": [
           {
            "colorbar": {
             "outlinewidth": 0,
             "ticks": ""
            },
            "type": "contourcarpet"
           }
          ],
          "heatmap": [
           {
            "colorbar": {
             "outlinewidth": 0,
             "ticks": ""
            },
            "colorscale": [
             [
              0,
              "#0d0887"
             ],
             [
              0.1111111111111111,
              "#46039f"
             ],
             [
              0.2222222222222222,
              "#7201a8"
             ],
             [
              0.3333333333333333,
              "#9c179e"
             ],
             [
              0.4444444444444444,
              "#bd3786"
             ],
             [
              0.5555555555555556,
              "#d8576b"
             ],
             [
              0.6666666666666666,
              "#ed7953"
             ],
             [
              0.7777777777777778,
              "#fb9f3a"
             ],
             [
              0.8888888888888888,
              "#fdca26"
             ],
             [
              1,
              "#f0f921"
             ]
            ],
            "type": "heatmap"
           }
          ],
          "heatmapgl": [
           {
            "colorbar": {
             "outlinewidth": 0,
             "ticks": ""
            },
            "colorscale": [
             [
              0,
              "#0d0887"
             ],
             [
              0.1111111111111111,
              "#46039f"
             ],
             [
              0.2222222222222222,
              "#7201a8"
             ],
             [
              0.3333333333333333,
              "#9c179e"
             ],
             [
              0.4444444444444444,
              "#bd3786"
             ],
             [
              0.5555555555555556,
              "#d8576b"
             ],
             [
              0.6666666666666666,
              "#ed7953"
             ],
             [
              0.7777777777777778,
              "#fb9f3a"
             ],
             [
              0.8888888888888888,
              "#fdca26"
             ],
             [
              1,
              "#f0f921"
             ]
            ],
            "type": "heatmapgl"
           }
          ],
          "histogram": [
           {
            "marker": {
             "colorbar": {
              "outlinewidth": 0,
              "ticks": ""
             }
            },
            "type": "histogram"
           }
          ],
          "histogram2d": [
           {
            "colorbar": {
             "outlinewidth": 0,
             "ticks": ""
            },
            "colorscale": [
             [
              0,
              "#0d0887"
             ],
             [
              0.1111111111111111,
              "#46039f"
             ],
             [
              0.2222222222222222,
              "#7201a8"
             ],
             [
              0.3333333333333333,
              "#9c179e"
             ],
             [
              0.4444444444444444,
              "#bd3786"
             ],
             [
              0.5555555555555556,
              "#d8576b"
             ],
             [
              0.6666666666666666,
              "#ed7953"
             ],
             [
              0.7777777777777778,
              "#fb9f3a"
             ],
             [
              0.8888888888888888,
              "#fdca26"
             ],
             [
              1,
              "#f0f921"
             ]
            ],
            "type": "histogram2d"
           }
          ],
          "histogram2dcontour": [
           {
            "colorbar": {
             "outlinewidth": 0,
             "ticks": ""
            },
            "colorscale": [
             [
              0,
              "#0d0887"
             ],
             [
              0.1111111111111111,
              "#46039f"
             ],
             [
              0.2222222222222222,
              "#7201a8"
             ],
             [
              0.3333333333333333,
              "#9c179e"
             ],
             [
              0.4444444444444444,
              "#bd3786"
             ],
             [
              0.5555555555555556,
              "#d8576b"
             ],
             [
              0.6666666666666666,
              "#ed7953"
             ],
             [
              0.7777777777777778,
              "#fb9f3a"
             ],
             [
              0.8888888888888888,
              "#fdca26"
             ],
             [
              1,
              "#f0f921"
             ]
            ],
            "type": "histogram2dcontour"
           }
          ],
          "mesh3d": [
           {
            "colorbar": {
             "outlinewidth": 0,
             "ticks": ""
            },
            "type": "mesh3d"
           }
          ],
          "parcoords": [
           {
            "line": {
             "colorbar": {
              "outlinewidth": 0,
              "ticks": ""
             }
            },
            "type": "parcoords"
           }
          ],
          "pie": [
           {
            "automargin": true,
            "type": "pie"
           }
          ],
          "scatter": [
           {
            "marker": {
             "colorbar": {
              "outlinewidth": 0,
              "ticks": ""
             }
            },
            "type": "scatter"
           }
          ],
          "scatter3d": [
           {
            "line": {
             "colorbar": {
              "outlinewidth": 0,
              "ticks": ""
             }
            },
            "marker": {
             "colorbar": {
              "outlinewidth": 0,
              "ticks": ""
             }
            },
            "type": "scatter3d"
           }
          ],
          "scattercarpet": [
           {
            "marker": {
             "colorbar": {
              "outlinewidth": 0,
              "ticks": ""
             }
            },
            "type": "scattercarpet"
           }
          ],
          "scattergeo": [
           {
            "marker": {
             "colorbar": {
              "outlinewidth": 0,
              "ticks": ""
             }
            },
            "type": "scattergeo"
           }
          ],
          "scattergl": [
           {
            "marker": {
             "colorbar": {
              "outlinewidth": 0,
              "ticks": ""
             }
            },
            "type": "scattergl"
           }
          ],
          "scattermapbox": [
           {
            "marker": {
             "colorbar": {
              "outlinewidth": 0,
              "ticks": ""
             }
            },
            "type": "scattermapbox"
           }
          ],
          "scatterpolar": [
           {
            "marker": {
             "colorbar": {
              "outlinewidth": 0,
              "ticks": ""
             }
            },
            "type": "scatterpolar"
           }
          ],
          "scatterpolargl": [
           {
            "marker": {
             "colorbar": {
              "outlinewidth": 0,
              "ticks": ""
             }
            },
            "type": "scatterpolargl"
           }
          ],
          "scatterternary": [
           {
            "marker": {
             "colorbar": {
              "outlinewidth": 0,
              "ticks": ""
             }
            },
            "type": "scatterternary"
           }
          ],
          "surface": [
           {
            "colorbar": {
             "outlinewidth": 0,
             "ticks": ""
            },
            "colorscale": [
             [
              0,
              "#0d0887"
             ],
             [
              0.1111111111111111,
              "#46039f"
             ],
             [
              0.2222222222222222,
              "#7201a8"
             ],
             [
              0.3333333333333333,
              "#9c179e"
             ],
             [
              0.4444444444444444,
              "#bd3786"
             ],
             [
              0.5555555555555556,
              "#d8576b"
             ],
             [
              0.6666666666666666,
              "#ed7953"
             ],
             [
              0.7777777777777778,
              "#fb9f3a"
             ],
             [
              0.8888888888888888,
              "#fdca26"
             ],
             [
              1,
              "#f0f921"
             ]
            ],
            "type": "surface"
           }
          ],
          "table": [
           {
            "cells": {
             "fill": {
              "color": "#EBF0F8"
             },
             "line": {
              "color": "white"
             }
            },
            "header": {
             "fill": {
              "color": "#C8D4E3"
             },
             "line": {
              "color": "white"
             }
            },
            "type": "table"
           }
          ]
         },
         "layout": {
          "annotationdefaults": {
           "arrowcolor": "#2a3f5f",
           "arrowhead": 0,
           "arrowwidth": 1
          },
          "coloraxis": {
           "colorbar": {
            "outlinewidth": 0,
            "ticks": ""
           }
          },
          "colorscale": {
           "diverging": [
            [
             0,
             "#8e0152"
            ],
            [
             0.1,
             "#c51b7d"
            ],
            [
             0.2,
             "#de77ae"
            ],
            [
             0.3,
             "#f1b6da"
            ],
            [
             0.4,
             "#fde0ef"
            ],
            [
             0.5,
             "#f7f7f7"
            ],
            [
             0.6,
             "#e6f5d0"
            ],
            [
             0.7,
             "#b8e186"
            ],
            [
             0.8,
             "#7fbc41"
            ],
            [
             0.9,
             "#4d9221"
            ],
            [
             1,
             "#276419"
            ]
           ],
           "sequential": [
            [
             0,
             "#0d0887"
            ],
            [
             0.1111111111111111,
             "#46039f"
            ],
            [
             0.2222222222222222,
             "#7201a8"
            ],
            [
             0.3333333333333333,
             "#9c179e"
            ],
            [
             0.4444444444444444,
             "#bd3786"
            ],
            [
             0.5555555555555556,
             "#d8576b"
            ],
            [
             0.6666666666666666,
             "#ed7953"
            ],
            [
             0.7777777777777778,
             "#fb9f3a"
            ],
            [
             0.8888888888888888,
             "#fdca26"
            ],
            [
             1,
             "#f0f921"
            ]
           ],
           "sequentialminus": [
            [
             0,
             "#0d0887"
            ],
            [
             0.1111111111111111,
             "#46039f"
            ],
            [
             0.2222222222222222,
             "#7201a8"
            ],
            [
             0.3333333333333333,
             "#9c179e"
            ],
            [
             0.4444444444444444,
             "#bd3786"
            ],
            [
             0.5555555555555556,
             "#d8576b"
            ],
            [
             0.6666666666666666,
             "#ed7953"
            ],
            [
             0.7777777777777778,
             "#fb9f3a"
            ],
            [
             0.8888888888888888,
             "#fdca26"
            ],
            [
             1,
             "#f0f921"
            ]
           ]
          },
          "colorway": [
           "#636efa",
           "#EF553B",
           "#00cc96",
           "#ab63fa",
           "#FFA15A",
           "#19d3f3",
           "#FF6692",
           "#B6E880",
           "#FF97FF",
           "#FECB52"
          ],
          "font": {
           "color": "#2a3f5f"
          },
          "geo": {
           "bgcolor": "white",
           "lakecolor": "white",
           "landcolor": "#E5ECF6",
           "showlakes": true,
           "showland": true,
           "subunitcolor": "white"
          },
          "hoverlabel": {
           "align": "left"
          },
          "hovermode": "closest",
          "mapbox": {
           "style": "light"
          },
          "paper_bgcolor": "white",
          "plot_bgcolor": "#E5ECF6",
          "polar": {
           "angularaxis": {
            "gridcolor": "white",
            "linecolor": "white",
            "ticks": ""
           },
           "bgcolor": "#E5ECF6",
           "radialaxis": {
            "gridcolor": "white",
            "linecolor": "white",
            "ticks": ""
           }
          },
          "scene": {
           "xaxis": {
            "backgroundcolor": "#E5ECF6",
            "gridcolor": "white",
            "gridwidth": 2,
            "linecolor": "white",
            "showbackground": true,
            "ticks": "",
            "zerolinecolor": "white"
           },
           "yaxis": {
            "backgroundcolor": "#E5ECF6",
            "gridcolor": "white",
            "gridwidth": 2,
            "linecolor": "white",
            "showbackground": true,
            "ticks": "",
            "zerolinecolor": "white"
           },
           "zaxis": {
            "backgroundcolor": "#E5ECF6",
            "gridcolor": "white",
            "gridwidth": 2,
            "linecolor": "white",
            "showbackground": true,
            "ticks": "",
            "zerolinecolor": "white"
           }
          },
          "shapedefaults": {
           "line": {
            "color": "#2a3f5f"
           }
          },
          "ternary": {
           "aaxis": {
            "gridcolor": "white",
            "linecolor": "white",
            "ticks": ""
           },
           "baxis": {
            "gridcolor": "white",
            "linecolor": "white",
            "ticks": ""
           },
           "bgcolor": "#E5ECF6",
           "caxis": {
            "gridcolor": "white",
            "linecolor": "white",
            "ticks": ""
           }
          },
          "title": {
           "x": 0.05
          },
          "xaxis": {
           "automargin": true,
           "gridcolor": "white",
           "linecolor": "white",
           "ticks": "",
           "title": {
            "standoff": 15
           },
           "zerolinecolor": "white",
           "zerolinewidth": 2
          },
          "yaxis": {
           "automargin": true,
           "gridcolor": "white",
           "linecolor": "white",
           "ticks": "",
           "title": {
            "standoff": 15
           },
           "zerolinecolor": "white",
           "zerolinewidth": 2
          }
         }
        },
        "title": {
         "text": "Occurance of research tag per month per phase sized by #Occurances"
        },
        "xaxis": {
         "anchor": "y",
         "domain": [
          0,
          1
         ],
         "title": {
          "text": "publish_time"
         }
        },
        "yaxis": {
         "anchor": "x",
         "domain": [
          0,
          1
         ],
         "title": {
          "text": "phase"
         }
        }
       }
      },
      "text/html": [
       "<div>\n",
       "        \n",
       "        \n",
       "            <div id=\"5384e677-384b-43b7-ada8-4690a8e615fa\" class=\"plotly-graph-div\" style=\"height:525px; width:100%;\"></div>\n",
       "            <script type=\"text/javascript\">\n",
       "                require([\"plotly\"], function(Plotly) {\n",
       "                    window.PLOTLYENV=window.PLOTLYENV || {};\n",
       "                    \n",
       "                if (document.getElementById(\"5384e677-384b-43b7-ada8-4690a8e615fa\")) {\n",
       "                    Plotly.newPlot(\n",
       "                        '5384e677-384b-43b7-ada8-4690a8e615fa',\n",
       "                        [{\"customdata\": [[2], [1], [1], [1], [1], [2], [1], [1], [1], [1], [1], [1], [1], [1], [1], [1], [1], [1], [1], [1], [1], [1], [1], [1], [1], [1], [1], [1], [1], [1], [1], [1], [2], [1], [1], [2], [1], [2], [1], [1], [1], [5], [1], [1], [1], [1], [2], [1], [1], [1], [1], [1], [2], [1], [2], [3], [1], [1], [1], [3], [2], [3], [2], [1], [2], [1], [2], [2], [3], [1], [1], [1], [2], [1], [1], [2], [1], [1], [1], [2], [1], [2], [1], [1], [1], [2], [2], [2], [3], [2], [3], [1], [1], [3], [3], [1], [1], [1], [1], [1], [2], [3], [2], [1], [2], [2], [1], [1], [2], [5], [2], [1], [1], [3], [3], [1], [1], [1], [2], [1], [2], [2], [3], [2], [2], [1], [3], [5], [1], [4], [1], [1], [2], [4], [1], [2], [1], [2], [2], [4], [1], [3], [3], [4], [3], [3], [3], [1], [4], [2], [2], [1], [3], [1], [4], [7], [8], [1], [3], [1], [1], [1], [1], [2], [1], [1], [1], [1], [1], [1], [1], [1], [1], [1], [2], [1], [1], [2], [2], [1], [1], [1], [1], [1], [1], [1], [1], [2], [1], [1], [1], [1], [1], [1], [2], [1], [1], [1], [3], [1], [1], [1], [1], [2], [1], [1], [1], [1], [1], [2], [1], [2], [3], [1], [1], [2], [2], [1], [3], [1], [1], [3], [1], [1], [1], [1], [1], [1], [1], [1], [4], [1], [2], [3], [2], [2], [1], [1], [2], [2], [1], [2], [1], [1], [2], [3], [2], [2], [3], [2], [2], [3], [1], [2], [2], [4], [1], [2], [2], [2], [1], [2], [1], [1], [3], [2], [2], [1], [1], [1], [1], [1], [1], [1], [1], [1], [1], [1], [1], [1], [1], [1], [1], [1], [1], [1], [1], [1], [3], [1], [1], [1], [2], [1], [1], [1], [2], [2], [1], [1], [1], [2], [2], [1], [1], [1], [1], [1], [1], [1], [1], [1], [1], [1], [1], [1], [1], [1], [1], [2], [2], [1], [1], [1], [1], [1], [1], [1], [1], [3], [1], [1], [1], [1], [2], [1], [1], [3], [1], [1], [1], [1], [1], [1], [1], [1], [1], [1], [1], [1], [1], [1], [1], [1], [1], [1], [1], [1]], \"hoverlabel\": {\"namelength\": 0}, \"hovertemplate\": \"<b>%{hovertext}</b><br><br>tag=clinical outcome<br>publish_time=%{x}<br>phase=%{y}<br>count=%{customdata[0]}\", \"hovertext\": [\"clinical outcome\", \"clinical outcome\", \"clinical outcome\", \"clinical outcome\", \"clinical outcome\", \"clinical outcome\", \"clinical outcome\", \"clinical outcome\", \"clinical outcome\", \"clinical outcome\", \"clinical outcome\", \"clinical outcome\", \"clinical outcome\", \"clinical outcome\", \"clinical outcome\", \"clinical outcome\", \"clinical outcome\", \"clinical outcome\", \"clinical outcome\", \"clinical outcome\", \"clinical outcome\", \"clinical outcome\", \"clinical outcome\", \"clinical outcome\", \"clinical outcome\", \"clinical outcome\", \"clinical outcome\", \"clinical outcome\", \"clinical outcome\", \"clinical outcome\", \"clinical outcome\", \"clinical outcome\", \"clinical outcome\", \"clinical outcome\", \"clinical outcome\", \"clinical outcome\", \"clinical outcome\", \"clinical outcome\", \"clinical outcome\", \"clinical outcome\", \"clinical outcome\", \"clinical outcome\", \"clinical outcome\", \"clinical outcome\", \"clinical outcome\", \"clinical outcome\", \"clinical outcome\", \"clinical outcome\", \"clinical outcome\", \"clinical outcome\", \"clinical outcome\", \"clinical outcome\", \"clinical outcome\", \"clinical outcome\", \"clinical outcome\", \"clinical outcome\", \"clinical outcome\", \"clinical outcome\", \"clinical outcome\", \"clinical outcome\", \"clinical outcome\", \"clinical outcome\", \"clinical outcome\", \"clinical outcome\", \"clinical outcome\", \"clinical outcome\", \"clinical outcome\", \"clinical outcome\", \"clinical outcome\", \"clinical outcome\", \"clinical outcome\", \"clinical outcome\", \"clinical outcome\", \"clinical outcome\", \"clinical outcome\", \"clinical outcome\", \"clinical outcome\", \"clinical outcome\", \"clinical outcome\", \"clinical outcome\", \"clinical outcome\", \"clinical outcome\", \"clinical outcome\", \"clinical outcome\", \"clinical outcome\", \"clinical outcome\", \"clinical outcome\", \"clinical outcome\", \"clinical outcome\", \"clinical outcome\", \"clinical outcome\", \"clinical outcome\", \"clinical outcome\", \"clinical outcome\", \"clinical outcome\", \"clinical outcome\", \"clinical outcome\", \"clinical outcome\", \"clinical outcome\", \"clinical outcome\", \"clinical outcome\", \"clinical outcome\", \"clinical outcome\", \"clinical outcome\", \"clinical outcome\", \"clinical outcome\", \"clinical outcome\", \"clinical outcome\", \"clinical outcome\", \"clinical outcome\", \"clinical outcome\", \"clinical outcome\", \"clinical outcome\", \"clinical outcome\", \"clinical outcome\", \"clinical outcome\", \"clinical outcome\", \"clinical outcome\", \"clinical outcome\", \"clinical outcome\", \"clinical outcome\", \"clinical outcome\", \"clinical outcome\", \"clinical outcome\", \"clinical outcome\", \"clinical outcome\", \"clinical outcome\", \"clinical outcome\", \"clinical outcome\", \"clinical outcome\", \"clinical outcome\", \"clinical outcome\", \"clinical outcome\", \"clinical outcome\", \"clinical outcome\", \"clinical outcome\", \"clinical outcome\", \"clinical outcome\", \"clinical outcome\", \"clinical outcome\", \"clinical outcome\", \"clinical outcome\", \"clinical outcome\", \"clinical outcome\", \"clinical outcome\", \"clinical outcome\", \"clinical outcome\", \"clinical outcome\", \"clinical outcome\", \"clinical outcome\", \"clinical outcome\", \"clinical outcome\", \"clinical outcome\", \"clinical outcome\", \"clinical outcome\", \"clinical outcome\", \"clinical outcome\", \"clinical outcome\", \"clinical outcome\", \"clinical outcome\", \"clinical outcome\", \"clinical outcome\", \"clinical outcome\", \"clinical outcome\", \"clinical outcome\", \"clinical outcome\", \"clinical outcome\", \"clinical outcome\", \"clinical outcome\", \"clinical outcome\", \"clinical outcome\", \"clinical outcome\", \"clinical outcome\", \"clinical outcome\", \"clinical outcome\", \"clinical outcome\", \"clinical outcome\", \"clinical outcome\", \"clinical outcome\", \"clinical outcome\", \"clinical outcome\", \"clinical outcome\", \"clinical outcome\", \"clinical outcome\", \"clinical outcome\", \"clinical outcome\", \"clinical outcome\", \"clinical outcome\", \"clinical outcome\", \"clinical outcome\", \"clinical outcome\", \"clinical outcome\", \"clinical outcome\", \"clinical outcome\", \"clinical outcome\", \"clinical outcome\", \"clinical outcome\", \"clinical outcome\", \"clinical outcome\", \"clinical outcome\", \"clinical outcome\", \"clinical outcome\", \"clinical outcome\", \"clinical outcome\", \"clinical outcome\", \"clinical outcome\", \"clinical outcome\", \"clinical outcome\", \"clinical outcome\", \"clinical outcome\", \"clinical outcome\", \"clinical outcome\", \"clinical outcome\", \"clinical outcome\", \"clinical outcome\", \"clinical outcome\", \"clinical outcome\", \"clinical outcome\", \"clinical outcome\", \"clinical outcome\", \"clinical outcome\", \"clinical outcome\", \"clinical outcome\", \"clinical outcome\", \"clinical outcome\", \"clinical outcome\", \"clinical outcome\", \"clinical outcome\", \"clinical outcome\", \"clinical outcome\", \"clinical outcome\", \"clinical outcome\", \"clinical outcome\", \"clinical outcome\", \"clinical outcome\", \"clinical outcome\", \"clinical outcome\", \"clinical outcome\", \"clinical outcome\", \"clinical outcome\", \"clinical outcome\", \"clinical outcome\", \"clinical outcome\", \"clinical outcome\", \"clinical outcome\", \"clinical outcome\", \"clinical outcome\", \"clinical outcome\", \"clinical outcome\", \"clinical outcome\", \"clinical outcome\", \"clinical outcome\", \"clinical outcome\", \"clinical outcome\", \"clinical outcome\", \"clinical outcome\", \"clinical outcome\", \"clinical outcome\", \"clinical outcome\", \"clinical outcome\", \"clinical outcome\", \"clinical outcome\", \"clinical outcome\", \"clinical outcome\", \"clinical outcome\", \"clinical outcome\", \"clinical outcome\", \"clinical outcome\", \"clinical outcome\", \"clinical outcome\", \"clinical outcome\", \"clinical outcome\", \"clinical outcome\", \"clinical outcome\", \"clinical outcome\", \"clinical outcome\", \"clinical outcome\", \"clinical outcome\", \"clinical outcome\", \"clinical outcome\", \"clinical outcome\", \"clinical outcome\", \"clinical outcome\", \"clinical outcome\", \"clinical outcome\", \"clinical outcome\", \"clinical outcome\", \"clinical outcome\", \"clinical outcome\", \"clinical outcome\", \"clinical outcome\", \"clinical outcome\", \"clinical outcome\", \"clinical outcome\", \"clinical outcome\", \"clinical outcome\", \"clinical outcome\", \"clinical outcome\", \"clinical outcome\", \"clinical outcome\", \"clinical outcome\", \"clinical outcome\", \"clinical outcome\", \"clinical outcome\", \"clinical outcome\", \"clinical outcome\", \"clinical outcome\", \"clinical outcome\", \"clinical outcome\", \"clinical outcome\", \"clinical outcome\", \"clinical outcome\", \"clinical outcome\", \"clinical outcome\", \"clinical outcome\", \"clinical outcome\", \"clinical outcome\", \"clinical outcome\", \"clinical outcome\", \"clinical outcome\", \"clinical outcome\", \"clinical outcome\", \"clinical outcome\", \"clinical outcome\", \"clinical outcome\", \"clinical outcome\", \"clinical outcome\", \"clinical outcome\", \"clinical outcome\", \"clinical outcome\", \"clinical outcome\", \"clinical outcome\", \"clinical outcome\", \"clinical outcome\", \"clinical outcome\", \"clinical outcome\", \"clinical outcome\", \"clinical outcome\", \"clinical outcome\", \"clinical outcome\", \"clinical outcome\", \"clinical outcome\", \"clinical outcome\", \"clinical outcome\", \"clinical outcome\", \"clinical outcome\", \"clinical outcome\", \"clinical outcome\", \"clinical outcome\", \"clinical outcome\", \"clinical outcome\", \"clinical outcome\", \"clinical outcome\", \"clinical outcome\", \"clinical outcome\", \"clinical outcome\", \"clinical outcome\", \"clinical outcome\"], \"legendgroup\": \"clinical outcome\", \"marker\": {\"color\": \"#636efa\", \"size\": [2, 1, 1, 1, 1, 2, 1, 1, 1, 1, 1, 1, 1, 1, 1, 1, 1, 1, 1, 1, 1, 1, 1, 1, 1, 1, 1, 1, 1, 1, 1, 1, 2, 1, 1, 2, 1, 2, 1, 1, 1, 5, 1, 1, 1, 1, 2, 1, 1, 1, 1, 1, 2, 1, 2, 3, 1, 1, 1, 3, 2, 3, 2, 1, 2, 1, 2, 2, 3, 1, 1, 1, 2, 1, 1, 2, 1, 1, 1, 2, 1, 2, 1, 1, 1, 2, 2, 2, 3, 2, 3, 1, 1, 3, 3, 1, 1, 1, 1, 1, 2, 3, 2, 1, 2, 2, 1, 1, 2, 5, 2, 1, 1, 3, 3, 1, 1, 1, 2, 1, 2, 2, 3, 2, 2, 1, 3, 5, 1, 4, 1, 1, 2, 4, 1, 2, 1, 2, 2, 4, 1, 3, 3, 4, 3, 3, 3, 1, 4, 2, 2, 1, 3, 1, 4, 7, 8, 1, 3, 1, 1, 1, 1, 2, 1, 1, 1, 1, 1, 1, 1, 1, 1, 1, 2, 1, 1, 2, 2, 1, 1, 1, 1, 1, 1, 1, 1, 2, 1, 1, 1, 1, 1, 1, 2, 1, 1, 1, 3, 1, 1, 1, 1, 2, 1, 1, 1, 1, 1, 2, 1, 2, 3, 1, 1, 2, 2, 1, 3, 1, 1, 3, 1, 1, 1, 1, 1, 1, 1, 1, 4, 1, 2, 3, 2, 2, 1, 1, 2, 2, 1, 2, 1, 1, 2, 3, 2, 2, 3, 2, 2, 3, 1, 2, 2, 4, 1, 2, 2, 2, 1, 2, 1, 1, 3, 2, 2, 1, 1, 1, 1, 1, 1, 1, 1, 1, 1, 1, 1, 1, 1, 1, 1, 1, 1, 1, 1, 1, 3, 1, 1, 1, 2, 1, 1, 1, 2, 2, 1, 1, 1, 2, 2, 1, 1, 1, 1, 1, 1, 1, 1, 1, 1, 1, 1, 1, 1, 1, 1, 2, 2, 1, 1, 1, 1, 1, 1, 1, 1, 3, 1, 1, 1, 1, 2, 1, 1, 3, 1, 1, 1, 1, 1, 1, 1, 1, 1, 1, 1, 1, 1, 1, 1, 1, 1, 1, 1, 1], \"sizemode\": \"area\", \"sizeref\": 0.02, \"symbol\": \"circle\"}, \"mode\": \"markers\", \"name\": \"clinical outcome\", \"showlegend\": true, \"type\": \"scattergl\", \"x\": [\"1986-12\", \"1988-12\", \"1989-05\", \"1990-07\", \"1990-09\", \"1990-10\", \"1991-01\", \"1991-04\", \"1992-03\", \"1994-03\", \"1994-12\", \"1996-07\", \"1997-02\", \"1997-06\", \"1997-12\", \"1999-02\", \"2000-06\", \"2000-09\", \"2001-07\", \"2001-11\", \"2003-04\", \"2003-06\", \"2003-10\", \"2003-12\", \"2004-01\", \"2004-02\", \"2004-07\", \"2004-09\", \"2004-12\", \"2005-02\", \"2005-03\", \"2005-04\", \"2005-06\", \"2005-08\", \"2005-09\", \"2006-01\", \"2006-04\", \"2006-05\", \"2006-08\", \"2006-10\", \"2006-11\", \"2006-12\", \"2007-01\", \"2007-03\", \"2007-04\", \"2007-10\", \"2007-12\", \"2008-01\", \"2008-02\", \"2008-04\", \"2008-05\", \"2008-08\", \"2008-09\", \"2008-11\", \"2008-12\", \"2009-01\", \"2009-02\", \"2009-05\", \"2009-06\", \"2009-08\", \"2009-10\", \"2009-12\", \"2010-01\", \"2010-02\", \"2010-03\", \"2010-05\", \"2010-07\", \"2010-12\", \"2011-03\", \"2011-06\", \"2011-07\", \"2011-08\", \"2011-09\", \"2011-10\", \"2011-11\", \"2011-12\", \"2012-01\", \"2012-02\", \"2012-03\", \"2012-05\", \"2012-06\", \"2012-07\", \"2012-08\", \"2012-09\", \"2012-11\", \"2012-12\", \"2013-01\", \"2013-02\", \"2013-04\", \"2013-08\", \"2013-10\", \"2013-11\", \"2013-12\", \"2014-01\", \"2014-03\", \"2014-04\", \"2014-06\", \"2014-08\", \"2014-09\", \"2014-10\", \"2014-11\", \"2014-12\", \"2015-01\", \"2015-02\", \"2015-03\", \"2015-04\", \"2015-05\", \"2015-06\", \"2015-07\", \"2015-08\", \"2015-09\", \"2015-10\", \"2015-11\", \"2015-12\", \"2016-01\", \"2016-02\", \"2016-03\", \"2016-04\", \"2016-07\", \"2016-08\", \"2016-09\", \"2016-10\", \"2016-11\", \"2016-12\", \"2017-01\", \"2017-03\", \"2017-04\", \"2017-05\", \"2017-07\", \"2017-08\", \"2017-09\", \"2017-10\", \"2017-11\", \"2017-12\", \"2018-01\", \"2018-02\", \"2018-03\", \"2018-04\", \"2018-05\", \"2018-08\", \"2018-09\", \"2018-10\", \"2018-11\", \"2018-12\", \"2019-01\", \"2019-02\", \"2019-03\", \"2019-04\", \"2019-05\", \"2019-07\", \"2019-08\", \"2019-09\", \"2019-10\", \"2019-11\", \"2019-12\", \"2020-02\", \"2020-03\", \"2020-04\", \"2020-12\", \"1975-10\", \"1984-12\", \"1985-02\", \"1988-10\", \"1988-12\", \"1989-12\", \"1992-09\", \"1995-11\", \"1995-12\", \"1996-03\", \"2000-05\", \"2001-07\", \"2003-11\", \"2004-06\", \"2004-07\", \"2004-12\", \"2005-09\", \"2005-12\", \"2006-01\", \"2006-02\", \"2006-04\", \"2006-06\", \"2006-09\", \"2006-11\", \"2006-12\", \"2007-04\", \"2007-06\", \"2007-07\", \"2007-08\", \"2007-12\", \"2008-01\", \"2008-04\", \"2008-07\", \"2008-09\", \"2008-10\", \"2009-03\", \"2009-04\", \"2009-05\", \"2009-07\", \"2009-12\", \"2010-02\", \"2010-03\", \"2010-07\", \"2010-10\", \"2010-11\", \"2010-12\", \"2011-07\", \"2011-08\", \"2011-11\", \"2011-12\", \"2012-03\", \"2012-04\", \"2012-07\", \"2012-10\", \"2012-11\", \"2012-12\", \"2013-01\", \"2013-09\", \"2013-10\", \"2013-12\", \"2014-03\", \"2014-04\", \"2014-06\", \"2014-09\", \"2014-11\", \"2015-01\", \"2015-02\", \"2015-05\", \"2015-06\", \"2015-07\", \"2015-08\", \"2015-12\", \"2016-01\", \"2016-03\", \"2016-05\", \"2016-06\", \"2016-08\", \"2016-09\", \"2016-10\", \"2016-11\", \"2016-12\", \"2017-01\", \"2017-02\", \"2017-05\", \"2017-06\", \"2017-07\", \"2017-08\", \"2017-09\", \"2018-01\", \"2018-04\", \"2018-05\", \"2018-06\", \"2018-10\", \"2018-11\", \"2018-12\", \"2019-01\", \"2019-03\", \"2019-04\", \"2019-05\", \"2019-06\", \"2019-07\", \"2019-09\", \"2019-10\", \"2019-11\", \"2019-12\", \"2020-01\", \"2020-02\", \"2020-03\", \"2020-04\", \"1991-06\", \"1992-08\", \"2004-06\", \"2005-12\", \"2006-11\", \"2007-01\", \"2007-09\", \"2007-12\", \"2009-03\", \"2009-11\", \"2010-11\", \"2010-12\", \"2011-02\", \"2011-03\", \"2011-05\", \"2011-12\", \"2013-01\", \"2013-02\", \"2014-07\", \"2014-09\", \"2014-12\", \"2015-01\", \"2015-02\", \"2015-04\", \"2015-07\", \"2015-08\", \"2015-12\", \"2017-04\", \"2017-12\", \"2018-01\", \"2018-03\", \"2019-09\", \"2019-10\", \"2019-12\", \"2020-02\", \"1982-04\", \"1992-09\", \"1996-12\", \"2001-05\", \"2004-02\", \"2005-09\", \"2007-12\", \"2008-04\", \"2008-07\", \"2009-02\", \"2009-03\", \"2009-04\", \"2010-01\", \"2010-03\", \"2011-11\", \"2013-03\", \"2013-05\", \"2013-08\", \"2014-01\", \"2014-03\", \"2014-07\", \"2015-01\", \"2015-09\", \"2016-04\", \"2016-06\", \"2016-07\", \"2016-12\", \"2017-04\", \"2017-05\", \"2017-12\", \"2018-01\", \"2018-04\", \"2018-09\", \"2018-11\", \"2018-12\", \"2019-02\", \"2019-05\", \"2019-10\", \"1989-07\", \"1997-03\", \"2008-07\", \"2012-03\", \"2012-04\", \"2013-06\", \"2014-01\", \"2014-07\", \"2015-06\", \"2015-08\", \"2015-09\", \"2017-03\", \"2017-04\", \"2017-12\", \"2018-08\", \"2019-09\", \"2019-11\"], \"xaxis\": \"x\", \"y\": [1, 1, 1, 1, 1, 1, 1, 1, 1, 1, 1, 1, 1, 1, 1, 1, 1, 1, 1, 1, 1, 1, 1, 1, 1, 1, 1, 1, 1, 1, 1, 1, 1, 1, 1, 1, 1, 1, 1, 1, 1, 1, 1, 1, 1, 1, 1, 1, 1, 1, 1, 1, 1, 1, 1, 1, 1, 1, 1, 1, 1, 1, 1, 1, 1, 1, 1, 1, 1, 1, 1, 1, 1, 1, 1, 1, 1, 1, 1, 1, 1, 1, 1, 1, 1, 1, 1, 1, 1, 1, 1, 1, 1, 1, 1, 1, 1, 1, 1, 1, 1, 1, 1, 1, 1, 1, 1, 1, 1, 1, 1, 1, 1, 1, 1, 1, 1, 1, 1, 1, 1, 1, 1, 1, 1, 1, 1, 1, 1, 1, 1, 1, 1, 1, 1, 1, 1, 1, 1, 1, 1, 1, 1, 1, 1, 1, 1, 1, 1, 1, 1, 1, 1, 1, 1, 1, 1, 1, 1, 2, 2, 2, 2, 2, 2, 2, 2, 2, 2, 2, 2, 2, 2, 2, 2, 2, 2, 2, 2, 2, 2, 2, 2, 2, 2, 2, 2, 2, 2, 2, 2, 2, 2, 2, 2, 2, 2, 2, 2, 2, 2, 2, 2, 2, 2, 2, 2, 2, 2, 2, 2, 2, 2, 2, 2, 2, 2, 2, 2, 2, 2, 2, 2, 2, 2, 2, 2, 2, 2, 2, 2, 2, 2, 2, 2, 2, 2, 2, 2, 2, 2, 2, 2, 2, 2, 2, 2, 2, 2, 2, 2, 2, 2, 2, 2, 2, 2, 2, 2, 2, 2, 2, 2, 2, 2, 2, 2, 2, 3, 3, 3, 3, 3, 3, 3, 3, 3, 3, 3, 3, 3, 3, 3, 3, 3, 3, 3, 3, 3, 3, 3, 3, 3, 3, 3, 3, 3, 3, 3, 3, 3, 3, 3, 4, 4, 4, 4, 4, 4, 4, 4, 4, 4, 4, 4, 4, 4, 4, 4, 4, 4, 4, 4, 4, 4, 4, 4, 4, 4, 4, 4, 4, 4, 4, 4, 4, 4, 4, 4, 4, 4, 5, 5, 5, 5, 5, 5, 5, 5, 5, 5, 5, 5, 5, 5, 5, 5, 5], \"yaxis\": \"y\"}, {\"customdata\": [[1], [1], [1], [1], [1], [1], [1], [1], [1], [1], [1], [3], [1], [1], [1], [1], [1], [1], [1], [1], [1], [1], [2], [2], [1], [2], [1], [1], [1], [2], [2], [1], [1], [1], [2], [1], [3], [1], [1], [3], [4], [1], [1], [1], [1], [1], [1], [2], [3], [2], [8], [1], [3], [1], [1], [4], [2], [2], [2], [1], [1], [1], [1], [1], [5], [2], [1], [1], [3], [2], [2], [1], [1], [2], [1], [2], [3], [1], [1], [2], [1], [3], [4], [1], [1], [2], [2], [1], [1], [1], [1], [1], [1], [1], [3], [1], [1], [2], [1], [4], [1], [3], [3], [1], [4], [1], [1], [3], [4], [1], [1], [3], [2], [5], [2], [1], [2], [1], [3], [1], [1], [1], [3], [3], [4], [4], [1], [5], [3], [1], [2], [1], [1], [1], [1], [2], [7], [2], [5], [3], [5], [1], [2], [1], [1], [1], [1], [1], [1], [1], [1], [1], [1], [1], [1], [1], [1], [2], [1], [1], [1], [1], [1], [4], [1], [1], [1], [1], [1], [1], [2], [2], [1], [2], [1], [2], [1], [1], [2], [1], [1], [1], [2], [2], [1], [1], [1], [1], [1], [1], [2], [1], [1], [1], [1], [1], [1], [1], [1], [1], [1], [1], [1], [1], [1], [1], [1], [3], [1], [2], [1], [1], [2], [1], [1], [2], [2], [1], [3], [1], [2], [3], [2], [4], [1], [2], [2], [2], [1], [2], [2], [1], [2], [1], [1], [1], [1], [2], [1], [3], [1], [1], [1], [2], [2], [2], [1], [3], [1], [1], [1], [3], [1], [4], [2], [1], [2], [3], [2], [4], [2], [3], [1], [1], [1], [1], [1], [2], [1], [1], [1], [1], [1], [1], [1], [1], [1], [1], [1], [1], [1], [1], [1], [2], [1], [1], [1], [2], [1], [1], [2], [1], [1], [1], [1], [1], [2], [1], [4], [1], [2], [1], [1], [1], [2], [2], [1], [1], [1], [1], [1], [1], [1], [1], [1], [1], [2], [1], [2], [1], [1], [1], [1], [1], [1], [1], [1], [1], [1], [1], [1], [1], [1], [1], [1], [1], [1], [1], [1], [1], [1], [1], [1], [1], [1], [1], [1], [1], [1], [1], [1], [2], [1], [1], [1], [1], [1], [1], [2], [1], [1], [1], [1], [1], [1], [1], [1], [1], [1], [1], [1], [1]], \"hoverlabel\": {\"namelength\": 0}, \"hovertemplate\": \"<b>%{hovertext}</b><br><br>tag=extracorporeal membrane oxygenation (ECMO)<br>publish_time=%{x}<br>phase=%{y}<br>count=%{customdata[0]}\", \"hovertext\": [\"extracorporeal membrane oxygenation (ECMO)\", \"extracorporeal membrane oxygenation (ECMO)\", \"extracorporeal membrane oxygenation (ECMO)\", \"extracorporeal membrane oxygenation (ECMO)\", \"extracorporeal membrane oxygenation (ECMO)\", \"extracorporeal membrane oxygenation (ECMO)\", \"extracorporeal membrane oxygenation (ECMO)\", \"extracorporeal membrane oxygenation (ECMO)\", \"extracorporeal membrane oxygenation (ECMO)\", \"extracorporeal membrane oxygenation (ECMO)\", \"extracorporeal membrane oxygenation (ECMO)\", \"extracorporeal membrane oxygenation (ECMO)\", \"extracorporeal membrane oxygenation (ECMO)\", \"extracorporeal membrane oxygenation (ECMO)\", \"extracorporeal membrane oxygenation (ECMO)\", \"extracorporeal membrane oxygenation (ECMO)\", \"extracorporeal membrane oxygenation (ECMO)\", \"extracorporeal membrane oxygenation (ECMO)\", \"extracorporeal membrane oxygenation (ECMO)\", \"extracorporeal membrane oxygenation (ECMO)\", \"extracorporeal membrane oxygenation (ECMO)\", \"extracorporeal membrane oxygenation (ECMO)\", \"extracorporeal membrane oxygenation (ECMO)\", \"extracorporeal membrane oxygenation (ECMO)\", \"extracorporeal membrane oxygenation (ECMO)\", \"extracorporeal membrane oxygenation (ECMO)\", \"extracorporeal membrane oxygenation (ECMO)\", \"extracorporeal membrane oxygenation (ECMO)\", \"extracorporeal membrane oxygenation (ECMO)\", \"extracorporeal membrane oxygenation (ECMO)\", \"extracorporeal membrane oxygenation (ECMO)\", \"extracorporeal membrane oxygenation (ECMO)\", \"extracorporeal membrane oxygenation (ECMO)\", \"extracorporeal membrane oxygenation (ECMO)\", \"extracorporeal membrane oxygenation (ECMO)\", \"extracorporeal membrane oxygenation (ECMO)\", \"extracorporeal membrane oxygenation (ECMO)\", \"extracorporeal membrane oxygenation (ECMO)\", \"extracorporeal membrane oxygenation (ECMO)\", \"extracorporeal membrane oxygenation (ECMO)\", \"extracorporeal membrane oxygenation (ECMO)\", \"extracorporeal membrane oxygenation (ECMO)\", \"extracorporeal membrane oxygenation (ECMO)\", \"extracorporeal membrane oxygenation (ECMO)\", \"extracorporeal membrane oxygenation (ECMO)\", \"extracorporeal membrane oxygenation (ECMO)\", \"extracorporeal membrane oxygenation (ECMO)\", \"extracorporeal membrane oxygenation (ECMO)\", \"extracorporeal membrane oxygenation (ECMO)\", \"extracorporeal membrane oxygenation (ECMO)\", \"extracorporeal membrane oxygenation (ECMO)\", \"extracorporeal membrane oxygenation (ECMO)\", \"extracorporeal membrane oxygenation (ECMO)\", \"extracorporeal membrane oxygenation (ECMO)\", \"extracorporeal membrane oxygenation (ECMO)\", \"extracorporeal membrane oxygenation (ECMO)\", \"extracorporeal membrane oxygenation (ECMO)\", \"extracorporeal membrane oxygenation (ECMO)\", \"extracorporeal membrane oxygenation (ECMO)\", \"extracorporeal membrane oxygenation (ECMO)\", \"extracorporeal membrane oxygenation (ECMO)\", \"extracorporeal membrane oxygenation (ECMO)\", \"extracorporeal membrane oxygenation (ECMO)\", \"extracorporeal membrane oxygenation (ECMO)\", \"extracorporeal membrane oxygenation (ECMO)\", \"extracorporeal membrane oxygenation (ECMO)\", \"extracorporeal membrane oxygenation (ECMO)\", \"extracorporeal membrane oxygenation (ECMO)\", \"extracorporeal membrane oxygenation (ECMO)\", \"extracorporeal membrane oxygenation (ECMO)\", \"extracorporeal membrane oxygenation (ECMO)\", \"extracorporeal membrane oxygenation (ECMO)\", \"extracorporeal membrane oxygenation (ECMO)\", \"extracorporeal membrane oxygenation (ECMO)\", \"extracorporeal membrane oxygenation (ECMO)\", \"extracorporeal membrane oxygenation (ECMO)\", \"extracorporeal membrane oxygenation (ECMO)\", \"extracorporeal membrane oxygenation (ECMO)\", \"extracorporeal membrane oxygenation (ECMO)\", \"extracorporeal membrane oxygenation (ECMO)\", \"extracorporeal membrane oxygenation (ECMO)\", \"extracorporeal membrane oxygenation (ECMO)\", \"extracorporeal membrane oxygenation (ECMO)\", \"extracorporeal membrane oxygenation (ECMO)\", \"extracorporeal membrane oxygenation (ECMO)\", \"extracorporeal membrane oxygenation (ECMO)\", \"extracorporeal membrane oxygenation (ECMO)\", \"extracorporeal membrane oxygenation (ECMO)\", \"extracorporeal membrane oxygenation (ECMO)\", \"extracorporeal membrane oxygenation (ECMO)\", \"extracorporeal membrane oxygenation (ECMO)\", \"extracorporeal membrane oxygenation (ECMO)\", \"extracorporeal membrane oxygenation (ECMO)\", \"extracorporeal membrane oxygenation (ECMO)\", \"extracorporeal membrane oxygenation (ECMO)\", \"extracorporeal membrane oxygenation (ECMO)\", \"extracorporeal membrane oxygenation (ECMO)\", \"extracorporeal membrane oxygenation (ECMO)\", \"extracorporeal membrane oxygenation (ECMO)\", \"extracorporeal membrane oxygenation (ECMO)\", \"extracorporeal membrane oxygenation (ECMO)\", \"extracorporeal membrane oxygenation (ECMO)\", \"extracorporeal membrane oxygenation (ECMO)\", \"extracorporeal membrane oxygenation (ECMO)\", \"extracorporeal membrane oxygenation (ECMO)\", \"extracorporeal membrane oxygenation (ECMO)\", \"extracorporeal membrane oxygenation (ECMO)\", \"extracorporeal membrane oxygenation (ECMO)\", \"extracorporeal membrane oxygenation (ECMO)\", \"extracorporeal membrane oxygenation (ECMO)\", \"extracorporeal membrane oxygenation (ECMO)\", \"extracorporeal membrane oxygenation (ECMO)\", \"extracorporeal membrane oxygenation (ECMO)\", \"extracorporeal membrane oxygenation (ECMO)\", \"extracorporeal membrane oxygenation (ECMO)\", \"extracorporeal membrane oxygenation (ECMO)\", \"extracorporeal membrane oxygenation (ECMO)\", \"extracorporeal membrane oxygenation (ECMO)\", \"extracorporeal membrane oxygenation (ECMO)\", \"extracorporeal membrane oxygenation (ECMO)\", \"extracorporeal membrane oxygenation (ECMO)\", \"extracorporeal membrane oxygenation (ECMO)\", \"extracorporeal membrane oxygenation (ECMO)\", \"extracorporeal membrane oxygenation (ECMO)\", \"extracorporeal membrane oxygenation (ECMO)\", \"extracorporeal membrane oxygenation (ECMO)\", \"extracorporeal membrane oxygenation (ECMO)\", \"extracorporeal membrane oxygenation (ECMO)\", \"extracorporeal membrane oxygenation (ECMO)\", \"extracorporeal membrane oxygenation (ECMO)\", \"extracorporeal membrane oxygenation (ECMO)\", \"extracorporeal membrane oxygenation (ECMO)\", \"extracorporeal membrane oxygenation (ECMO)\", \"extracorporeal membrane oxygenation (ECMO)\", \"extracorporeal membrane oxygenation (ECMO)\", \"extracorporeal membrane oxygenation (ECMO)\", \"extracorporeal membrane oxygenation (ECMO)\", \"extracorporeal membrane oxygenation (ECMO)\", \"extracorporeal membrane oxygenation (ECMO)\", \"extracorporeal membrane oxygenation (ECMO)\", \"extracorporeal membrane oxygenation (ECMO)\", \"extracorporeal membrane oxygenation (ECMO)\", \"extracorporeal membrane oxygenation (ECMO)\", \"extracorporeal membrane oxygenation (ECMO)\", \"extracorporeal membrane oxygenation (ECMO)\", \"extracorporeal membrane oxygenation (ECMO)\", \"extracorporeal membrane oxygenation (ECMO)\", \"extracorporeal membrane oxygenation (ECMO)\", \"extracorporeal membrane oxygenation (ECMO)\", \"extracorporeal membrane oxygenation (ECMO)\", \"extracorporeal membrane oxygenation (ECMO)\", \"extracorporeal membrane oxygenation (ECMO)\", \"extracorporeal membrane oxygenation (ECMO)\", \"extracorporeal membrane oxygenation (ECMO)\", \"extracorporeal membrane oxygenation (ECMO)\", \"extracorporeal membrane oxygenation (ECMO)\", \"extracorporeal membrane oxygenation (ECMO)\", \"extracorporeal membrane oxygenation (ECMO)\", \"extracorporeal membrane oxygenation (ECMO)\", \"extracorporeal membrane oxygenation (ECMO)\", \"extracorporeal membrane oxygenation (ECMO)\", \"extracorporeal membrane oxygenation (ECMO)\", \"extracorporeal membrane oxygenation (ECMO)\", \"extracorporeal membrane oxygenation (ECMO)\", \"extracorporeal membrane oxygenation (ECMO)\", \"extracorporeal membrane oxygenation (ECMO)\", \"extracorporeal membrane oxygenation (ECMO)\", \"extracorporeal membrane oxygenation (ECMO)\", \"extracorporeal membrane oxygenation (ECMO)\", \"extracorporeal membrane oxygenation (ECMO)\", \"extracorporeal membrane oxygenation (ECMO)\", \"extracorporeal membrane oxygenation (ECMO)\", \"extracorporeal membrane oxygenation (ECMO)\", \"extracorporeal membrane oxygenation (ECMO)\", \"extracorporeal membrane oxygenation (ECMO)\", \"extracorporeal membrane oxygenation (ECMO)\", \"extracorporeal membrane oxygenation (ECMO)\", \"extracorporeal membrane oxygenation (ECMO)\", \"extracorporeal membrane oxygenation (ECMO)\", \"extracorporeal membrane oxygenation (ECMO)\", \"extracorporeal membrane oxygenation (ECMO)\", \"extracorporeal membrane oxygenation (ECMO)\", \"extracorporeal membrane oxygenation (ECMO)\", \"extracorporeal membrane oxygenation (ECMO)\", \"extracorporeal membrane oxygenation (ECMO)\", \"extracorporeal membrane oxygenation (ECMO)\", \"extracorporeal membrane oxygenation (ECMO)\", \"extracorporeal membrane oxygenation (ECMO)\", \"extracorporeal membrane oxygenation (ECMO)\", \"extracorporeal membrane oxygenation (ECMO)\", \"extracorporeal membrane oxygenation (ECMO)\", \"extracorporeal membrane oxygenation (ECMO)\", \"extracorporeal membrane oxygenation (ECMO)\", \"extracorporeal membrane oxygenation (ECMO)\", \"extracorporeal membrane oxygenation (ECMO)\", \"extracorporeal membrane oxygenation (ECMO)\", \"extracorporeal membrane oxygenation (ECMO)\", \"extracorporeal membrane oxygenation (ECMO)\", \"extracorporeal membrane oxygenation (ECMO)\", \"extracorporeal membrane oxygenation (ECMO)\", \"extracorporeal membrane oxygenation (ECMO)\", \"extracorporeal membrane oxygenation (ECMO)\", \"extracorporeal membrane oxygenation (ECMO)\", \"extracorporeal membrane oxygenation (ECMO)\", \"extracorporeal membrane oxygenation (ECMO)\", \"extracorporeal membrane oxygenation (ECMO)\", \"extracorporeal membrane oxygenation (ECMO)\", \"extracorporeal membrane oxygenation (ECMO)\", \"extracorporeal membrane oxygenation (ECMO)\", \"extracorporeal membrane oxygenation (ECMO)\", \"extracorporeal membrane oxygenation (ECMO)\", \"extracorporeal membrane oxygenation (ECMO)\", \"extracorporeal membrane oxygenation (ECMO)\", \"extracorporeal membrane oxygenation (ECMO)\", \"extracorporeal membrane oxygenation (ECMO)\", \"extracorporeal membrane oxygenation (ECMO)\", \"extracorporeal membrane oxygenation (ECMO)\", \"extracorporeal membrane oxygenation (ECMO)\", \"extracorporeal membrane oxygenation (ECMO)\", \"extracorporeal membrane oxygenation (ECMO)\", \"extracorporeal membrane oxygenation (ECMO)\", \"extracorporeal membrane oxygenation (ECMO)\", \"extracorporeal membrane oxygenation (ECMO)\", \"extracorporeal membrane oxygenation (ECMO)\", \"extracorporeal membrane oxygenation (ECMO)\", \"extracorporeal membrane oxygenation (ECMO)\", \"extracorporeal membrane oxygenation (ECMO)\", \"extracorporeal membrane oxygenation (ECMO)\", \"extracorporeal membrane oxygenation (ECMO)\", \"extracorporeal membrane oxygenation (ECMO)\", \"extracorporeal membrane oxygenation (ECMO)\", \"extracorporeal membrane oxygenation (ECMO)\", \"extracorporeal membrane oxygenation (ECMO)\", \"extracorporeal membrane oxygenation (ECMO)\", \"extracorporeal membrane oxygenation (ECMO)\", \"extracorporeal membrane oxygenation (ECMO)\", \"extracorporeal membrane oxygenation (ECMO)\", \"extracorporeal membrane oxygenation (ECMO)\", \"extracorporeal membrane oxygenation (ECMO)\", \"extracorporeal membrane oxygenation (ECMO)\", \"extracorporeal membrane oxygenation (ECMO)\", \"extracorporeal membrane oxygenation (ECMO)\", \"extracorporeal membrane oxygenation (ECMO)\", \"extracorporeal membrane oxygenation (ECMO)\", \"extracorporeal membrane oxygenation (ECMO)\", \"extracorporeal membrane oxygenation (ECMO)\", \"extracorporeal membrane oxygenation (ECMO)\", \"extracorporeal membrane oxygenation (ECMO)\", \"extracorporeal membrane oxygenation (ECMO)\", \"extracorporeal membrane oxygenation (ECMO)\", \"extracorporeal membrane oxygenation (ECMO)\", \"extracorporeal membrane oxygenation (ECMO)\", \"extracorporeal membrane oxygenation (ECMO)\", \"extracorporeal membrane oxygenation (ECMO)\", \"extracorporeal membrane oxygenation (ECMO)\", \"extracorporeal membrane oxygenation (ECMO)\", \"extracorporeal membrane oxygenation (ECMO)\", \"extracorporeal membrane oxygenation (ECMO)\", \"extracorporeal membrane oxygenation (ECMO)\", \"extracorporeal membrane oxygenation (ECMO)\", \"extracorporeal membrane oxygenation (ECMO)\", \"extracorporeal membrane oxygenation (ECMO)\", \"extracorporeal membrane oxygenation (ECMO)\", \"extracorporeal membrane oxygenation (ECMO)\", \"extracorporeal membrane oxygenation (ECMO)\", \"extracorporeal membrane oxygenation (ECMO)\", \"extracorporeal membrane oxygenation (ECMO)\", \"extracorporeal membrane oxygenation (ECMO)\", \"extracorporeal membrane oxygenation (ECMO)\", \"extracorporeal membrane oxygenation (ECMO)\", \"extracorporeal membrane oxygenation (ECMO)\", \"extracorporeal membrane oxygenation (ECMO)\", \"extracorporeal membrane oxygenation (ECMO)\", \"extracorporeal membrane oxygenation (ECMO)\", \"extracorporeal membrane oxygenation (ECMO)\", \"extracorporeal membrane oxygenation (ECMO)\", \"extracorporeal membrane oxygenation (ECMO)\", \"extracorporeal membrane oxygenation (ECMO)\", \"extracorporeal membrane oxygenation (ECMO)\", \"extracorporeal membrane oxygenation (ECMO)\", \"extracorporeal membrane oxygenation (ECMO)\", \"extracorporeal membrane oxygenation (ECMO)\", \"extracorporeal membrane oxygenation (ECMO)\", \"extracorporeal membrane oxygenation (ECMO)\", \"extracorporeal membrane oxygenation (ECMO)\", \"extracorporeal membrane oxygenation (ECMO)\", \"extracorporeal membrane oxygenation (ECMO)\", \"extracorporeal membrane oxygenation (ECMO)\", \"extracorporeal membrane oxygenation (ECMO)\", \"extracorporeal membrane oxygenation (ECMO)\", \"extracorporeal membrane oxygenation (ECMO)\", \"extracorporeal membrane oxygenation (ECMO)\", \"extracorporeal membrane oxygenation (ECMO)\", \"extracorporeal membrane oxygenation (ECMO)\", \"extracorporeal membrane oxygenation (ECMO)\", \"extracorporeal membrane oxygenation (ECMO)\", \"extracorporeal membrane oxygenation (ECMO)\", \"extracorporeal membrane oxygenation (ECMO)\", \"extracorporeal membrane oxygenation (ECMO)\", \"extracorporeal membrane oxygenation (ECMO)\", \"extracorporeal membrane oxygenation (ECMO)\", \"extracorporeal membrane oxygenation (ECMO)\", \"extracorporeal membrane oxygenation (ECMO)\", \"extracorporeal membrane oxygenation (ECMO)\", \"extracorporeal membrane oxygenation (ECMO)\", \"extracorporeal membrane oxygenation (ECMO)\", \"extracorporeal membrane oxygenation (ECMO)\", \"extracorporeal membrane oxygenation (ECMO)\", \"extracorporeal membrane oxygenation (ECMO)\", \"extracorporeal membrane oxygenation (ECMO)\", \"extracorporeal membrane oxygenation (ECMO)\", \"extracorporeal membrane oxygenation (ECMO)\", \"extracorporeal membrane oxygenation (ECMO)\", \"extracorporeal membrane oxygenation (ECMO)\", \"extracorporeal membrane oxygenation (ECMO)\", \"extracorporeal membrane oxygenation (ECMO)\", \"extracorporeal membrane oxygenation (ECMO)\", \"extracorporeal membrane oxygenation (ECMO)\", \"extracorporeal membrane oxygenation (ECMO)\", \"extracorporeal membrane oxygenation (ECMO)\", \"extracorporeal membrane oxygenation (ECMO)\", \"extracorporeal membrane oxygenation (ECMO)\", \"extracorporeal membrane oxygenation (ECMO)\", \"extracorporeal membrane oxygenation (ECMO)\", \"extracorporeal membrane oxygenation (ECMO)\", \"extracorporeal membrane oxygenation (ECMO)\", \"extracorporeal membrane oxygenation (ECMO)\", \"extracorporeal membrane oxygenation (ECMO)\", \"extracorporeal membrane oxygenation (ECMO)\", \"extracorporeal membrane oxygenation (ECMO)\", \"extracorporeal membrane oxygenation (ECMO)\", \"extracorporeal membrane oxygenation (ECMO)\", \"extracorporeal membrane oxygenation (ECMO)\", \"extracorporeal membrane oxygenation (ECMO)\", \"extracorporeal membrane oxygenation (ECMO)\", \"extracorporeal membrane oxygenation (ECMO)\", \"extracorporeal membrane oxygenation (ECMO)\", \"extracorporeal membrane oxygenation (ECMO)\", \"extracorporeal membrane oxygenation (ECMO)\", \"extracorporeal membrane oxygenation (ECMO)\", \"extracorporeal membrane oxygenation (ECMO)\", \"extracorporeal membrane oxygenation (ECMO)\", \"extracorporeal membrane oxygenation (ECMO)\", \"extracorporeal membrane oxygenation (ECMO)\", \"extracorporeal membrane oxygenation (ECMO)\", \"extracorporeal membrane oxygenation (ECMO)\", \"extracorporeal membrane oxygenation (ECMO)\", \"extracorporeal membrane oxygenation (ECMO)\", \"extracorporeal membrane oxygenation (ECMO)\", \"extracorporeal membrane oxygenation (ECMO)\", \"extracorporeal membrane oxygenation (ECMO)\", \"extracorporeal membrane oxygenation (ECMO)\", \"extracorporeal membrane oxygenation (ECMO)\", \"extracorporeal membrane oxygenation (ECMO)\", \"extracorporeal membrane oxygenation (ECMO)\", \"extracorporeal membrane oxygenation (ECMO)\", \"extracorporeal membrane oxygenation (ECMO)\", \"extracorporeal membrane oxygenation (ECMO)\", \"extracorporeal membrane oxygenation (ECMO)\", \"extracorporeal membrane oxygenation (ECMO)\", \"extracorporeal membrane oxygenation (ECMO)\", \"extracorporeal membrane oxygenation (ECMO)\", \"extracorporeal membrane oxygenation (ECMO)\", \"extracorporeal membrane oxygenation (ECMO)\", \"extracorporeal membrane oxygenation (ECMO)\", \"extracorporeal membrane oxygenation (ECMO)\", \"extracorporeal membrane oxygenation (ECMO)\", \"extracorporeal membrane oxygenation (ECMO)\", \"extracorporeal membrane oxygenation (ECMO)\", \"extracorporeal membrane oxygenation (ECMO)\", \"extracorporeal membrane oxygenation (ECMO)\", \"extracorporeal membrane oxygenation (ECMO)\"], \"legendgroup\": \"extracorporeal membrane oxygenation (ECMO)\", \"marker\": {\"color\": \"#EF553B\", \"size\": [1, 1, 1, 1, 1, 1, 1, 1, 1, 1, 1, 3, 1, 1, 1, 1, 1, 1, 1, 1, 1, 1, 2, 2, 1, 2, 1, 1, 1, 2, 2, 1, 1, 1, 2, 1, 3, 1, 1, 3, 4, 1, 1, 1, 1, 1, 1, 2, 3, 2, 8, 1, 3, 1, 1, 4, 2, 2, 2, 1, 1, 1, 1, 1, 5, 2, 1, 1, 3, 2, 2, 1, 1, 2, 1, 2, 3, 1, 1, 2, 1, 3, 4, 1, 1, 2, 2, 1, 1, 1, 1, 1, 1, 1, 3, 1, 1, 2, 1, 4, 1, 3, 3, 1, 4, 1, 1, 3, 4, 1, 1, 3, 2, 5, 2, 1, 2, 1, 3, 1, 1, 1, 3, 3, 4, 4, 1, 5, 3, 1, 2, 1, 1, 1, 1, 2, 7, 2, 5, 3, 5, 1, 2, 1, 1, 1, 1, 1, 1, 1, 1, 1, 1, 1, 1, 1, 1, 2, 1, 1, 1, 1, 1, 4, 1, 1, 1, 1, 1, 1, 2, 2, 1, 2, 1, 2, 1, 1, 2, 1, 1, 1, 2, 2, 1, 1, 1, 1, 1, 1, 2, 1, 1, 1, 1, 1, 1, 1, 1, 1, 1, 1, 1, 1, 1, 1, 1, 3, 1, 2, 1, 1, 2, 1, 1, 2, 2, 1, 3, 1, 2, 3, 2, 4, 1, 2, 2, 2, 1, 2, 2, 1, 2, 1, 1, 1, 1, 2, 1, 3, 1, 1, 1, 2, 2, 2, 1, 3, 1, 1, 1, 3, 1, 4, 2, 1, 2, 3, 2, 4, 2, 3, 1, 1, 1, 1, 1, 2, 1, 1, 1, 1, 1, 1, 1, 1, 1, 1, 1, 1, 1, 1, 1, 2, 1, 1, 1, 2, 1, 1, 2, 1, 1, 1, 1, 1, 2, 1, 4, 1, 2, 1, 1, 1, 2, 2, 1, 1, 1, 1, 1, 1, 1, 1, 1, 1, 2, 1, 2, 1, 1, 1, 1, 1, 1, 1, 1, 1, 1, 1, 1, 1, 1, 1, 1, 1, 1, 1, 1, 1, 1, 1, 1, 1, 1, 1, 1, 1, 1, 1, 1, 2, 1, 1, 1, 1, 1, 1, 2, 1, 1, 1, 1, 1, 1, 1, 1, 1, 1, 1, 1, 1], \"sizemode\": \"area\", \"sizeref\": 0.02, \"symbol\": \"circle\"}, \"mode\": \"markers\", \"name\": \"extracorporeal membrane oxygenation (ECMO)\", \"showlegend\": true, \"type\": \"scattergl\", \"x\": [\"1977-02\", \"1980-09\", \"1981-11\", \"1984-02\", \"1987-06\", \"1988-11\", \"1989-11\", \"1989-12\", \"1990-10\", \"1990-12\", \"1991-06\", \"1991-12\", \"1997-04\", \"1997-05\", \"1997-07\", \"2000-06\", \"2001-09\", \"2002-01\", \"2002-03\", \"2002-12\", \"2003-03\", \"2003-06\", \"2003-11\", \"2004-02\", \"2004-03\", \"2004-06\", \"2004-08\", \"2004-09\", \"2004-11\", \"2004-12\", \"2005-01\", \"2005-07\", \"2005-09\", \"2005-11\", \"2005-12\", \"2006-01\", \"2006-02\", \"2006-03\", \"2006-05\", \"2006-08\", \"2006-12\", \"2007-05\", \"2007-07\", \"2007-09\", \"2007-11\", \"2007-12\", \"2008-03\", \"2008-07\", \"2008-09\", \"2008-10\", \"2008-12\", \"2009-05\", \"2009-07\", \"2009-09\", \"2009-10\", \"2009-12\", \"2010-01\", \"2010-03\", \"2010-04\", \"2010-05\", \"2010-06\", \"2010-08\", \"2010-10\", \"2010-11\", \"2010-12\", \"2011-02\", \"2011-03\", \"2011-04\", \"2011-07\", \"2011-10\", \"2011-12\", \"2012-02\", \"2012-04\", \"2012-05\", \"2012-07\", \"2012-10\", \"2012-12\", \"2013-04\", \"2013-06\", \"2013-08\", \"2013-09\", \"2013-10\", \"2013-12\", \"2014-01\", \"2014-02\", \"2014-06\", \"2014-07\", \"2014-08\", \"2014-09\", \"2014-10\", \"2014-11\", \"2014-12\", \"2015-01\", \"2015-02\", \"2015-03\", \"2015-04\", \"2015-07\", \"2015-08\", \"2015-10\", \"2015-11\", \"2015-12\", \"2016-01\", \"2016-03\", \"2016-08\", \"2016-10\", \"2016-11\", \"2016-12\", \"2017-01\", \"2017-03\", \"2017-04\", \"2017-05\", \"2017-06\", \"2017-07\", \"2017-08\", \"2017-10\", \"2017-12\", \"2018-01\", \"2018-02\", \"2018-03\", \"2018-06\", \"2018-07\", \"2018-08\", \"2018-09\", \"2018-10\", \"2018-11\", \"2018-12\", \"2019-01\", \"2019-02\", \"2019-03\", \"2019-04\", \"2019-05\", \"2019-06\", \"2019-07\", \"2019-08\", \"2019-09\", \"2019-10\", \"2019-11\", \"2019-12\", \"2020-01\", \"2020-02\", \"2020-03\", \"2020-05\", \"2020-12\", \"1982-06\", \"1984-12\", \"1985-10\", \"1989-08\", \"1994-04\", \"1999-06\", \"1999-10\", \"2000-11\", \"2002-07\", \"2003-09\", \"2003-12\", \"2004-03\", \"2004-11\", \"2005-05\", \"2005-08\", \"2005-12\", \"2006-02\", \"2006-05\", \"2006-06\", \"2006-10\", \"2006-12\", \"2007-02\", \"2007-03\", \"2007-04\", \"2007-07\", \"2007-08\", \"2007-09\", \"2007-10\", \"2007-12\", \"2008-02\", \"2008-07\", \"2008-10\", \"2008-12\", \"2009-03\", \"2009-05\", \"2009-06\", \"2009-08\", \"2009-09\", \"2009-10\", \"2009-11\", \"2010-03\", \"2010-06\", \"2010-12\", \"2011-01\", \"2011-02\", \"2011-03\", \"2011-06\", \"2011-07\", \"2011-08\", \"2011-10\", \"2011-12\", \"2012-03\", \"2012-04\", \"2012-05\", \"2012-07\", \"2012-08\", \"2012-09\", \"2012-10\", \"2012-11\", \"2013-02\", \"2013-03\", \"2013-04\", \"2013-08\", \"2013-09\", \"2013-11\", \"2013-12\", \"2014-01\", \"2014-04\", \"2014-05\", \"2014-08\", \"2014-09\", \"2014-10\", \"2014-11\", \"2014-12\", \"2015-01\", \"2015-04\", \"2015-05\", \"2015-07\", \"2015-09\", \"2015-11\", \"2015-12\", \"2016-01\", \"2016-02\", \"2016-03\", \"2016-07\", \"2016-08\", \"2016-11\", \"2016-12\", \"2017-01\", \"2017-02\", \"2017-03\", \"2017-04\", \"2017-05\", \"2017-08\", \"2017-09\", \"2017-12\", \"2018-01\", \"2018-02\", \"2018-03\", \"2018-04\", \"2018-06\", \"2018-07\", \"2018-08\", \"2018-11\", \"2018-12\", \"2019-01\", \"2019-02\", \"2019-03\", \"2019-05\", \"2019-06\", \"2019-07\", \"2019-08\", \"2019-09\", \"2019-10\", \"2019-12\", \"2020-01\", \"2020-02\", \"2020-03\", \"2020-04\", \"1995-11\", \"1996-06\", \"1996-11\", \"1997-04\", \"1997-08\", \"2001-12\", \"2002-12\", \"2003-09\", \"2004-06\", \"2004-07\", \"2005-04\", \"2005-12\", \"2006-03\", \"2006-12\", \"2007-01\", \"2007-04\", \"2007-05\", \"2007-12\", \"2008-12\", \"2009-03\", \"2009-09\", \"2010-10\", \"2010-12\", \"2011-08\", \"2011-10\", \"2012-02\", \"2012-06\", \"2012-07\", \"2012-09\", \"2013-02\", \"2013-03\", \"2013-05\", \"2013-09\", \"2013-10\", \"2013-11\", \"2013-12\", \"2014-01\", \"2015-03\", \"2015-04\", \"2015-08\", \"2015-09\", \"2015-10\", \"2016-04\", \"2016-11\", \"2016-12\", \"2017-07\", \"2017-09\", \"2017-12\", \"2018-01\", \"2018-04\", \"2018-07\", \"2018-08\", \"2018-09\", \"2018-11\", \"2019-02\", \"2019-03\", \"2019-04\", \"2020-02\", \"1994-01\", \"1995-04\", \"2004-02\", \"2005-01\", \"2006-12\", \"2007-06\", \"2008-08\", \"2008-12\", \"2009-03\", \"2009-04\", \"2010-08\", \"2010-09\", \"2011-10\", \"2012-08\", \"2012-11\", \"2012-12\", \"2013-10\", \"2013-12\", \"2014-10\", \"2015-01\", \"2016-01\", \"2016-06\", \"2016-08\", \"2016-11\", \"2016-12\", \"2017-02\", \"2017-10\", \"2017-11\", \"2018-01\", \"2018-02\", \"2018-05\", \"2019-03\", \"2019-10\", \"2019-11\", \"2019-12\", \"2020-01\", \"2020-02\", \"2020-04\", \"2020-05\", \"1994-12\", \"2006-12\", \"2007-05\", \"2008-12\", \"2009-12\", \"2010-11\", \"2012-10\", \"2014-05\", \"2014-11\", \"2017-03\", \"2018-09\", \"2019-07\", \"2019-10\"], \"xaxis\": \"x\", \"y\": [1, 1, 1, 1, 1, 1, 1, 1, 1, 1, 1, 1, 1, 1, 1, 1, 1, 1, 1, 1, 1, 1, 1, 1, 1, 1, 1, 1, 1, 1, 1, 1, 1, 1, 1, 1, 1, 1, 1, 1, 1, 1, 1, 1, 1, 1, 1, 1, 1, 1, 1, 1, 1, 1, 1, 1, 1, 1, 1, 1, 1, 1, 1, 1, 1, 1, 1, 1, 1, 1, 1, 1, 1, 1, 1, 1, 1, 1, 1, 1, 1, 1, 1, 1, 1, 1, 1, 1, 1, 1, 1, 1, 1, 1, 1, 1, 1, 1, 1, 1, 1, 1, 1, 1, 1, 1, 1, 1, 1, 1, 1, 1, 1, 1, 1, 1, 1, 1, 1, 1, 1, 1, 1, 1, 1, 1, 1, 1, 1, 1, 1, 1, 1, 1, 1, 1, 1, 1, 1, 1, 1, 1, 1, 2, 2, 2, 2, 2, 2, 2, 2, 2, 2, 2, 2, 2, 2, 2, 2, 2, 2, 2, 2, 2, 2, 2, 2, 2, 2, 2, 2, 2, 2, 2, 2, 2, 2, 2, 2, 2, 2, 2, 2, 2, 2, 2, 2, 2, 2, 2, 2, 2, 2, 2, 2, 2, 2, 2, 2, 2, 2, 2, 2, 2, 2, 2, 2, 2, 2, 2, 2, 2, 2, 2, 2, 2, 2, 2, 2, 2, 2, 2, 2, 2, 2, 2, 2, 2, 2, 2, 2, 2, 2, 2, 2, 2, 2, 2, 2, 2, 2, 2, 2, 2, 2, 2, 2, 2, 2, 2, 2, 2, 2, 2, 2, 2, 2, 2, 2, 2, 2, 2, 3, 3, 3, 3, 3, 3, 3, 3, 3, 3, 3, 3, 3, 3, 3, 3, 3, 3, 3, 3, 3, 3, 3, 3, 3, 3, 3, 3, 3, 3, 3, 3, 3, 3, 3, 3, 3, 3, 3, 3, 3, 3, 3, 3, 3, 3, 3, 3, 3, 3, 3, 3, 3, 3, 3, 3, 3, 3, 4, 4, 4, 4, 4, 4, 4, 4, 4, 4, 4, 4, 4, 4, 4, 4, 4, 4, 4, 4, 4, 4, 4, 4, 4, 4, 4, 4, 4, 4, 4, 4, 4, 4, 4, 4, 4, 4, 4, 5, 5, 5, 5, 5, 5, 5, 5, 5, 5, 5, 5, 5], \"yaxis\": \"y\"}, {\"customdata\": [[1], [1], [1], [1], [1], [1], [1], [1], [1], [1], [2], [1], [1], [1], [1], [1], [1], [1], [1], [1], [1], [1], [1], [1], [1], [1], [1], [1], [2], [1], [1], [1], [2], [1], [3], [1], [1], [2], [2], [1], [1], [1], [1], [1], [3], [1], [1], [1], [1], [1], [1], [1], [1], [1], [1], [1], [1], [1], [2], [4], [1], [2], [3], [1], [3], [1], [1], [2], [1], [1], [1], [1], [2], [2], [1], [1], [1], [1], [1], [1], [4], [2], [1], [2], [1], [1], [1], [1], [2], [3], [2], [2], [1], [3], [1], [4], [1], [1], [1], [1], [4], [1], [2], [5], [7], [1], [1], [3], [1], [2], [3], [2], [3], [2], [1], [1], [2], [1], [2], [2], [2], [1], [2], [1], [5], [1], [2], [1], [2], [3], [1], [4], [1], [2], [2], [2], [2], [2], [1], [1], [2], [3], [2], [2], [3], [4], [6], [7], [8], [1], [1], [1], [1], [1], [1], [1], [2], [2], [1], [2], [1], [2], [1], [1], [2], [1], [1], [1], [2], [1], [2], [2], [1], [1], [1], [1], [1], [1], [1], [1], [1], [1], [3], [1], [1], [1], [1], [1], [1], [1], [1], [2], [1], [1], [1], [1], [1], [1], [1], [2], [1], [1], [1], [1], [1], [2], [1], [1], [1], [2], [1], [1], [1], [2], [2], [2], [2], [5], [1], [1], [1], [1], [1], [1], [1], [1], [3], [2], [1], [2], [2], [1], [1], [1], [1], [1], [4], [1], [1], [2], [2], [2], [1], [1], [1], [1], [1], [1], [2], [1], [2], [1], [1], [1], [2], [4], [2], [1], [2], [2], [2], [4], [2], [1], [1], [2], [1], [2], [1], [1], [1], [1], [1], [2], [1], [1], [1], [1], [1], [1], [1], [1], [2], [1], [2], [1], [1], [1], [1], [1], [2], [1], [2], [2], [1], [1], [1], [1], [1], [2], [1], [1], [3], [1], [3], [1], [1], [1], [1], [1], [1], [1], [1], [1], [1], [1], [1], [1], [1], [1], [1], [1], [1], [1], [1], [1], [1], [1], [1], [1], [1], [1], [1], [1], [1], [1], [1], [1], [1], [1], [2], [2], [1], [1], [1], [1], [1], [1], [1], [1], [1], [1], [1], [1], [1], [1], [1], [1], [1], [1], [1], [1], [1], [1], [1], [1], [1], [1], [1], [1], [1], [1]], \"hoverlabel\": {\"namelength\": 0}, \"hovertemplate\": \"<b>%{hovertext}</b><br><br>tag=interventions<br>publish_time=%{x}<br>phase=%{y}<br>count=%{customdata[0]}\", \"hovertext\": [\"interventions\", \"interventions\", \"interventions\", \"interventions\", \"interventions\", \"interventions\", \"interventions\", \"interventions\", \"interventions\", \"interventions\", \"interventions\", \"interventions\", \"interventions\", \"interventions\", \"interventions\", \"interventions\", \"interventions\", \"interventions\", \"interventions\", \"interventions\", \"interventions\", \"interventions\", \"interventions\", \"interventions\", \"interventions\", \"interventions\", \"interventions\", \"interventions\", \"interventions\", \"interventions\", \"interventions\", \"interventions\", \"interventions\", \"interventions\", \"interventions\", \"interventions\", \"interventions\", \"interventions\", \"interventions\", \"interventions\", \"interventions\", \"interventions\", \"interventions\", \"interventions\", \"interventions\", \"interventions\", \"interventions\", \"interventions\", \"interventions\", \"interventions\", \"interventions\", \"interventions\", \"interventions\", \"interventions\", \"interventions\", \"interventions\", \"interventions\", \"interventions\", \"interventions\", \"interventions\", \"interventions\", \"interventions\", \"interventions\", \"interventions\", \"interventions\", \"interventions\", \"interventions\", \"interventions\", \"interventions\", \"interventions\", \"interventions\", \"interventions\", \"interventions\", \"interventions\", \"interventions\", \"interventions\", \"interventions\", \"interventions\", \"interventions\", \"interventions\", \"interventions\", \"interventions\", \"interventions\", \"interventions\", \"interventions\", \"interventions\", \"interventions\", \"interventions\", \"interventions\", \"interventions\", \"interventions\", \"interventions\", \"interventions\", \"interventions\", \"interventions\", \"interventions\", \"interventions\", \"interventions\", \"interventions\", \"interventions\", \"interventions\", \"interventions\", \"interventions\", \"interventions\", \"interventions\", \"interventions\", \"interventions\", \"interventions\", \"interventions\", \"interventions\", \"interventions\", \"interventions\", \"interventions\", \"interventions\", \"interventions\", \"interventions\", \"interventions\", \"interventions\", \"interventions\", \"interventions\", \"interventions\", \"interventions\", \"interventions\", \"interventions\", \"interventions\", \"interventions\", \"interventions\", \"interventions\", \"interventions\", \"interventions\", \"interventions\", \"interventions\", \"interventions\", \"interventions\", \"interventions\", \"interventions\", \"interventions\", \"interventions\", \"interventions\", \"interventions\", \"interventions\", \"interventions\", \"interventions\", \"interventions\", \"interventions\", \"interventions\", \"interventions\", \"interventions\", \"interventions\", \"interventions\", \"interventions\", \"interventions\", \"interventions\", \"interventions\", \"interventions\", \"interventions\", \"interventions\", \"interventions\", \"interventions\", \"interventions\", \"interventions\", \"interventions\", \"interventions\", \"interventions\", \"interventions\", \"interventions\", \"interventions\", \"interventions\", \"interventions\", \"interventions\", \"interventions\", \"interventions\", \"interventions\", \"interventions\", \"interventions\", \"interventions\", \"interventions\", \"interventions\", \"interventions\", \"interventions\", \"interventions\", \"interventions\", \"interventions\", \"interventions\", \"interventions\", \"interventions\", \"interventions\", \"interventions\", \"interventions\", \"interventions\", \"interventions\", \"interventions\", \"interventions\", \"interventions\", \"interventions\", \"interventions\", \"interventions\", \"interventions\", \"interventions\", \"interventions\", \"interventions\", \"interventions\", \"interventions\", \"interventions\", \"interventions\", \"interventions\", \"interventions\", \"interventions\", \"interventions\", \"interventions\", \"interventions\", \"interventions\", \"interventions\", \"interventions\", \"interventions\", \"interventions\", \"interventions\", \"interventions\", \"interventions\", \"interventions\", \"interventions\", \"interventions\", \"interventions\", \"interventions\", \"interventions\", \"interventions\", \"interventions\", \"interventions\", \"interventions\", \"interventions\", \"interventions\", \"interventions\", \"interventions\", \"interventions\", \"interventions\", \"interventions\", \"interventions\", \"interventions\", \"interventions\", \"interventions\", \"interventions\", \"interventions\", \"interventions\", \"interventions\", \"interventions\", \"interventions\", \"interventions\", \"interventions\", \"interventions\", \"interventions\", \"interventions\", \"interventions\", \"interventions\", \"interventions\", \"interventions\", \"interventions\", \"interventions\", \"interventions\", \"interventions\", \"interventions\", \"interventions\", \"interventions\", \"interventions\", \"interventions\", \"interventions\", \"interventions\", \"interventions\", \"interventions\", \"interventions\", \"interventions\", \"interventions\", \"interventions\", \"interventions\", \"interventions\", \"interventions\", \"interventions\", \"interventions\", \"interventions\", \"interventions\", \"interventions\", \"interventions\", \"interventions\", \"interventions\", \"interventions\", \"interventions\", \"interventions\", \"interventions\", \"interventions\", \"interventions\", \"interventions\", \"interventions\", \"interventions\", \"interventions\", \"interventions\", \"interventions\", \"interventions\", \"interventions\", \"interventions\", \"interventions\", \"interventions\", \"interventions\", \"interventions\", \"interventions\", \"interventions\", \"interventions\", \"interventions\", \"interventions\", \"interventions\", \"interventions\", \"interventions\", \"interventions\", \"interventions\", \"interventions\", \"interventions\", \"interventions\", \"interventions\", \"interventions\", \"interventions\", \"interventions\", \"interventions\", \"interventions\", \"interventions\", \"interventions\", \"interventions\", \"interventions\", \"interventions\", \"interventions\", \"interventions\", \"interventions\", \"interventions\", \"interventions\", \"interventions\", \"interventions\", \"interventions\", \"interventions\", \"interventions\", \"interventions\", \"interventions\", \"interventions\", \"interventions\", \"interventions\", \"interventions\", \"interventions\", \"interventions\", \"interventions\", \"interventions\", \"interventions\", \"interventions\", \"interventions\", \"interventions\", \"interventions\", \"interventions\", \"interventions\", \"interventions\", \"interventions\", \"interventions\", \"interventions\", \"interventions\", \"interventions\", \"interventions\", \"interventions\", \"interventions\", \"interventions\", \"interventions\", \"interventions\", \"interventions\", \"interventions\", \"interventions\", \"interventions\", \"interventions\", \"interventions\", \"interventions\"], \"legendgroup\": \"interventions\", \"marker\": {\"color\": \"#00cc96\", \"size\": [1, 1, 1, 1, 1, 1, 1, 1, 1, 1, 2, 1, 1, 1, 1, 1, 1, 1, 1, 1, 1, 1, 1, 1, 1, 1, 1, 1, 2, 1, 1, 1, 2, 1, 3, 1, 1, 2, 2, 1, 1, 1, 1, 1, 3, 1, 1, 1, 1, 1, 1, 1, 1, 1, 1, 1, 1, 1, 2, 4, 1, 2, 3, 1, 3, 1, 1, 2, 1, 1, 1, 1, 2, 2, 1, 1, 1, 1, 1, 1, 4, 2, 1, 2, 1, 1, 1, 1, 2, 3, 2, 2, 1, 3, 1, 4, 1, 1, 1, 1, 4, 1, 2, 5, 7, 1, 1, 3, 1, 2, 3, 2, 3, 2, 1, 1, 2, 1, 2, 2, 2, 1, 2, 1, 5, 1, 2, 1, 2, 3, 1, 4, 1, 2, 2, 2, 2, 2, 1, 1, 2, 3, 2, 2, 3, 4, 6, 7, 8, 1, 1, 1, 1, 1, 1, 1, 2, 2, 1, 2, 1, 2, 1, 1, 2, 1, 1, 1, 2, 1, 2, 2, 1, 1, 1, 1, 1, 1, 1, 1, 1, 1, 3, 1, 1, 1, 1, 1, 1, 1, 1, 2, 1, 1, 1, 1, 1, 1, 1, 2, 1, 1, 1, 1, 1, 2, 1, 1, 1, 2, 1, 1, 1, 2, 2, 2, 2, 5, 1, 1, 1, 1, 1, 1, 1, 1, 3, 2, 1, 2, 2, 1, 1, 1, 1, 1, 4, 1, 1, 2, 2, 2, 1, 1, 1, 1, 1, 1, 2, 1, 2, 1, 1, 1, 2, 4, 2, 1, 2, 2, 2, 4, 2, 1, 1, 2, 1, 2, 1, 1, 1, 1, 1, 2, 1, 1, 1, 1, 1, 1, 1, 1, 2, 1, 2, 1, 1, 1, 1, 1, 2, 1, 2, 2, 1, 1, 1, 1, 1, 2, 1, 1, 3, 1, 3, 1, 1, 1, 1, 1, 1, 1, 1, 1, 1, 1, 1, 1, 1, 1, 1, 1, 1, 1, 1, 1, 1, 1, 1, 1, 1, 1, 1, 1, 1, 1, 1, 1, 1, 1, 2, 2, 1, 1, 1, 1, 1, 1, 1, 1, 1, 1, 1, 1, 1, 1, 1, 1, 1, 1, 1, 1, 1, 1, 1, 1, 1, 1, 1, 1, 1, 1], \"sizemode\": \"area\", \"sizeref\": 0.02, \"symbol\": \"circle\"}, \"mode\": \"markers\", \"name\": \"interventions\", \"showlegend\": true, \"type\": \"scattergl\", \"x\": [\"1979-09\", \"1979-12\", \"1981-09\", \"1982-05\", \"1982-09\", \"1983-12\", \"1985-01\", \"1987-01\", \"1987-02\", \"1987-08\", \"1988-02\", \"1988-05\", \"1989-05\", \"1989-06\", \"1990-12\", \"1991-05\", \"1992-12\", \"1993-07\", \"1993-12\", \"1996-12\", \"1997-12\", \"1999-12\", \"2000-03\", \"2000-09\", \"2001-12\", \"2002-05\", \"2003-04\", \"2003-05\", \"2003-06\", \"2003-08\", \"2004-02\", \"2004-06\", \"2004-07\", \"2004-09\", \"2004-12\", \"2005-01\", \"2005-02\", \"2005-05\", \"2005-06\", \"2005-07\", \"2005-10\", \"2006-04\", \"2006-06\", \"2006-09\", \"2006-12\", \"2007-01\", \"2007-02\", \"2007-03\", \"2007-06\", \"2007-07\", \"2007-09\", \"2007-12\", \"2008-01\", \"2008-02\", \"2008-04\", \"2008-06\", \"2008-09\", \"2008-11\", \"2009-02\", \"2009-03\", \"2009-04\", \"2009-05\", \"2009-07\", \"2009-11\", \"2009-12\", \"2010-02\", \"2010-06\", \"2010-07\", \"2010-09\", \"2010-11\", \"2011-01\", \"2011-06\", \"2011-08\", \"2011-10\", \"2011-12\", \"2012-01\", \"2012-02\", \"2012-08\", \"2012-09\", \"2012-11\", \"2012-12\", \"2013-01\", \"2013-03\", \"2013-05\", \"2013-07\", \"2013-08\", \"2013-09\", \"2013-10\", \"2013-11\", \"2013-12\", \"2014-01\", \"2014-02\", \"2014-03\", \"2014-06\", \"2014-09\", \"2014-12\", \"2015-04\", \"2015-05\", \"2015-06\", \"2015-07\", \"2015-08\", \"2015-09\", \"2015-10\", \"2015-11\", \"2015-12\", \"2016-01\", \"2016-02\", \"2016-05\", \"2016-06\", \"2016-08\", \"2016-09\", \"2016-10\", \"2016-11\", \"2016-12\", \"2017-02\", \"2017-05\", \"2017-07\", \"2017-08\", \"2017-09\", \"2017-10\", \"2017-11\", \"2017-12\", \"2018-01\", \"2018-02\", \"2018-03\", \"2018-04\", \"2018-05\", \"2018-06\", \"2018-07\", \"2018-08\", \"2018-09\", \"2018-10\", \"2018-11\", \"2018-12\", \"2019-01\", \"2019-02\", \"2019-03\", \"2019-04\", \"2019-05\", \"2019-06\", \"2019-07\", \"2019-08\", \"2019-09\", \"2019-10\", \"2019-11\", \"2019-12\", \"2020-01\", \"2020-02\", \"2020-03\", \"1976-03\", \"1982-12\", \"1983-12\", \"1984-06\", \"1988-02\", \"1989-08\", \"1991-06\", \"1995-12\", \"1996-12\", \"1999-12\", \"2000-12\", \"2003-07\", \"2003-10\", \"2004-01\", \"2004-08\", \"2004-10\", \"2004-11\", \"2004-12\", \"2005-02\", \"2005-03\", \"2005-06\", \"2005-07\", \"2006-01\", \"2006-03\", \"2006-04\", \"2006-10\", \"2006-12\", \"2007-03\", \"2007-04\", \"2007-05\", \"2007-06\", \"2007-07\", \"2007-10\", \"2008-02\", \"2008-03\", \"2008-04\", \"2009-03\", \"2009-04\", \"2009-12\", \"2010-01\", \"2010-02\", \"2010-03\", \"2010-06\", \"2010-10\", \"2010-12\", \"2011-02\", \"2011-10\", \"2011-11\", \"2011-12\", \"2012-01\", \"2012-02\", \"2012-04\", \"2012-05\", \"2012-06\", \"2012-11\", \"2012-12\", \"2013-01\", \"2013-02\", \"2013-05\", \"2013-06\", \"2013-10\", \"2013-12\", \"2014-03\", \"2014-04\", \"2014-05\", \"2014-06\", \"2014-08\", \"2014-10\", \"2014-12\", \"2015-01\", \"2015-02\", \"2015-05\", \"2015-06\", \"2015-07\", \"2015-08\", \"2015-09\", \"2015-10\", \"2015-12\", \"2016-02\", \"2016-03\", \"2016-04\", \"2016-05\", \"2016-06\", \"2016-07\", \"2016-09\", \"2016-10\", \"2016-11\", \"2016-12\", \"2017-01\", \"2017-02\", \"2017-03\", \"2017-04\", \"2017-05\", \"2017-07\", \"2017-08\", \"2017-11\", \"2017-12\", \"2018-02\", \"2018-03\", \"2018-04\", \"2018-05\", \"2018-06\", \"2018-07\", \"2018-08\", \"2018-09\", \"2018-10\", \"2018-12\", \"2019-01\", \"2019-03\", \"2019-04\", \"2019-06\", \"2019-07\", \"2019-09\", \"2019-10\", \"2019-11\", \"2019-12\", \"2020-01\", \"2020-02\", \"2020-03\", \"1974-12\", \"1990-05\", \"1994-12\", \"2002-02\", \"2003-09\", \"2004-01\", \"2004-10\", \"2005-12\", \"2006-07\", \"2006-12\", \"2007-03\", \"2007-04\", \"2007-12\", \"2008-04\", \"2008-12\", \"2009-03\", \"2009-06\", \"2009-08\", \"2009-12\", \"2010-05\", \"2010-11\", \"2010-12\", \"2011-03\", \"2011-10\", \"2013-07\", \"2014-03\", \"2014-08\", \"2015-09\", \"2015-12\", \"2016-04\", \"2016-07\", \"2016-08\", \"2017-03\", \"2017-10\", \"2017-12\", \"2018-02\", \"2018-04\", \"2018-09\", \"2018-10\", \"2018-11\", \"2018-12\", \"2019-01\", \"2019-02\", \"2019-04\", \"2019-05\", \"2019-07\", \"2020-01\", \"2020-02\", \"1987-12\", \"1988-09\", \"1991-03\", \"1992-11\", \"1994-04\", \"1999-09\", \"2002-12\", \"2003-12\", \"2004-03\", \"2004-05\", \"2005-08\", \"2006-12\", \"2008-10\", \"2009-03\", \"2009-06\", \"2009-09\", \"2009-10\", \"2009-12\", \"2011-03\", \"2011-12\", \"2012-07\", \"2013-02\", \"2013-04\", \"2013-12\", \"2014-06\", \"2014-09\", \"2014-12\", \"2015-01\", \"2015-06\", \"2015-09\", \"2016-01\", \"2016-06\", \"2016-09\", \"2017-10\", \"2017-12\", \"2018-03\", \"2018-06\", \"2019-02\", \"2019-06\", \"2019-12\", \"2020-01\", \"2020-05\", \"2003-12\", \"2005-09\", \"2007-08\", \"2007-12\", \"2009-01\", \"2014-09\", \"2015-04\", \"2015-12\", \"2016-01\", \"2016-09\", \"2017-05\", \"2017-10\", \"2019-02\", \"2019-11\"], \"xaxis\": \"x\", \"y\": [1, 1, 1, 1, 1, 1, 1, 1, 1, 1, 1, 1, 1, 1, 1, 1, 1, 1, 1, 1, 1, 1, 1, 1, 1, 1, 1, 1, 1, 1, 1, 1, 1, 1, 1, 1, 1, 1, 1, 1, 1, 1, 1, 1, 1, 1, 1, 1, 1, 1, 1, 1, 1, 1, 1, 1, 1, 1, 1, 1, 1, 1, 1, 1, 1, 1, 1, 1, 1, 1, 1, 1, 1, 1, 1, 1, 1, 1, 1, 1, 1, 1, 1, 1, 1, 1, 1, 1, 1, 1, 1, 1, 1, 1, 1, 1, 1, 1, 1, 1, 1, 1, 1, 1, 1, 1, 1, 1, 1, 1, 1, 1, 1, 1, 1, 1, 1, 1, 1, 1, 1, 1, 1, 1, 1, 1, 1, 1, 1, 1, 1, 1, 1, 1, 1, 1, 1, 1, 1, 1, 1, 1, 1, 1, 1, 1, 1, 1, 1, 2, 2, 2, 2, 2, 2, 2, 2, 2, 2, 2, 2, 2, 2, 2, 2, 2, 2, 2, 2, 2, 2, 2, 2, 2, 2, 2, 2, 2, 2, 2, 2, 2, 2, 2, 2, 2, 2, 2, 2, 2, 2, 2, 2, 2, 2, 2, 2, 2, 2, 2, 2, 2, 2, 2, 2, 2, 2, 2, 2, 2, 2, 2, 2, 2, 2, 2, 2, 2, 2, 2, 2, 2, 2, 2, 2, 2, 2, 2, 2, 2, 2, 2, 2, 2, 2, 2, 2, 2, 2, 2, 2, 2, 2, 2, 2, 2, 2, 2, 2, 2, 2, 2, 2, 2, 2, 2, 2, 2, 2, 2, 2, 2, 2, 2, 2, 2, 2, 2, 3, 3, 3, 3, 3, 3, 3, 3, 3, 3, 3, 3, 3, 3, 3, 3, 3, 3, 3, 3, 3, 3, 3, 3, 3, 3, 3, 3, 3, 3, 3, 3, 3, 3, 3, 3, 3, 3, 3, 3, 3, 3, 3, 3, 3, 3, 3, 3, 4, 4, 4, 4, 4, 4, 4, 4, 4, 4, 4, 4, 4, 4, 4, 4, 4, 4, 4, 4, 4, 4, 4, 4, 4, 4, 4, 4, 4, 4, 4, 4, 4, 4, 4, 4, 4, 4, 4, 4, 4, 4, 5, 5, 5, 5, 5, 5, 5, 5, 5, 5, 5, 5, 5, 5], \"yaxis\": \"y\"}, {\"customdata\": [[1], [1], [1], [1], [1], [1], [1], [1], [1], [1], [1], [1], [1], [1], [1], [1], [1], [1], [1], [1], [1], [1], [2], [1], [1], [1], [1], [1], [1], [1], [1], [2], [1], [1], [1], [1], [1], [1], [1], [1], [1], [2], [3], [1], [1], [3], [1], [1], [2], [2], [1], [1], [1], [1], [3], [1], [1], [1], [2], [1], [2], [1], [5], [1], [1], [1], [4], [1], [4], [1], [1], [1], [2], [1], [2], [1], [2], [1], [1], [1], [1], [1], [2], [3], [2], [1], [1], [2], [1], [1], [1], [1], [1], [1], [1], [1], [2], [3], [4], [1], [1], [2], [2], [1], [3], [3], [1], [1], [3], [1], [1], [1], [3], [1], [8], [2], [3], [2], [1], [2], [1], [1], [3], [2], [4], [1], [3], [2], [3], [3], [3], [1], [4], [4], [1], [6], [3], [4], [1], [2], [1], [1], [3], [2], [2], [1], [4], [4], [2], [2], [4], [6], [1], [2], [2], [5], [5], [6], [8], [1], [1], [1], [1], [3], [1], [1], [1], [1], [1], [1], [1], [1], [1], [1], [1], [3], [1], [1], [1], [1], [1], [3], [1], [1], [4], [1], [1], [2], [1], [1], [1], [1], [1], [1], [1], [1], [1], [1], [1], [2], [1], [1], [1], [1], [2], [1], [2], [3], [1], [1], [1], [4], [2], [3], [2], [1], [2], [1], [2], [1], [1], [2], [1], [1], [1], [1], [2], [4], [3], [1], [1], [1], [1], [1], [1], [3], [3], [1], [2], [1], [1], [1], [1], [1], [1], [1], [2], [2], [1], [2], [1], [1], [2], [5], [5], [1], [3], [2], [3], [4], [1], [3], [2], [1], [1], [1], [1], [1], [1], [1], [1], [1], [2], [1], [1], [1], [1], [2], [1], [1], [1], [1], [1], [1], [1], [1], [1], [1], [2], [2], [1], [1], [1], [1], [1], [1], [1], [1], [1], [1], [1], [1], [2], [1], [2], [1], [1], [1], [1], [1], [1], [1], [1], [1], [1], [2], [1], [1], [1], [1], [1], [1], [1], [2], [1], [2], [1], [1], [1], [1], [1], [1], [1], [1], [1], [2], [1], [1], [1], [1], [1], [3], [1], [1], [2], [1], [1], [2], [1], [1], [1], [1], [1], [1], [1], [1], [1], [1]], \"hoverlabel\": {\"namelength\": 0}, \"hovertemplate\": \"<b>%{hovertext}</b><br><br>tag=mortality rate<br>publish_time=%{x}<br>phase=%{y}<br>count=%{customdata[0]}\", \"hovertext\": [\"mortality rate\", \"mortality rate\", \"mortality rate\", \"mortality rate\", \"mortality rate\", \"mortality rate\", \"mortality rate\", \"mortality rate\", \"mortality rate\", \"mortality rate\", \"mortality rate\", \"mortality rate\", \"mortality rate\", \"mortality rate\", \"mortality rate\", \"mortality rate\", \"mortality rate\", \"mortality rate\", \"mortality rate\", \"mortality rate\", \"mortality rate\", \"mortality rate\", \"mortality rate\", \"mortality rate\", \"mortality rate\", \"mortality rate\", \"mortality rate\", \"mortality rate\", \"mortality rate\", \"mortality rate\", \"mortality rate\", \"mortality rate\", \"mortality rate\", \"mortality rate\", \"mortality rate\", \"mortality rate\", \"mortality rate\", \"mortality rate\", \"mortality rate\", \"mortality rate\", \"mortality rate\", \"mortality rate\", \"mortality rate\", \"mortality rate\", \"mortality rate\", \"mortality rate\", \"mortality rate\", \"mortality rate\", \"mortality rate\", \"mortality rate\", \"mortality rate\", \"mortality rate\", \"mortality rate\", \"mortality rate\", \"mortality rate\", \"mortality rate\", \"mortality rate\", \"mortality rate\", \"mortality rate\", \"mortality rate\", \"mortality rate\", \"mortality rate\", \"mortality rate\", \"mortality rate\", \"mortality rate\", \"mortality rate\", \"mortality rate\", \"mortality rate\", \"mortality rate\", \"mortality rate\", \"mortality rate\", \"mortality rate\", \"mortality rate\", \"mortality rate\", \"mortality rate\", \"mortality rate\", \"mortality rate\", \"mortality rate\", \"mortality rate\", \"mortality rate\", \"mortality rate\", \"mortality rate\", \"mortality rate\", \"mortality rate\", \"mortality rate\", \"mortality rate\", \"mortality rate\", \"mortality rate\", \"mortality rate\", \"mortality rate\", \"mortality rate\", \"mortality rate\", \"mortality rate\", \"mortality rate\", \"mortality rate\", \"mortality rate\", \"mortality rate\", \"mortality rate\", \"mortality rate\", \"mortality rate\", \"mortality rate\", \"mortality rate\", \"mortality rate\", \"mortality rate\", \"mortality rate\", \"mortality rate\", \"mortality rate\", \"mortality rate\", \"mortality rate\", \"mortality rate\", \"mortality rate\", \"mortality rate\", \"mortality rate\", \"mortality rate\", \"mortality rate\", \"mortality rate\", \"mortality rate\", \"mortality rate\", \"mortality rate\", \"mortality rate\", \"mortality rate\", \"mortality rate\", \"mortality rate\", \"mortality rate\", \"mortality rate\", \"mortality rate\", \"mortality rate\", \"mortality rate\", \"mortality rate\", \"mortality rate\", \"mortality rate\", \"mortality rate\", \"mortality rate\", \"mortality rate\", \"mortality rate\", \"mortality rate\", \"mortality rate\", \"mortality rate\", \"mortality rate\", \"mortality rate\", \"mortality rate\", \"mortality rate\", \"mortality rate\", \"mortality rate\", \"mortality rate\", \"mortality rate\", \"mortality rate\", \"mortality rate\", \"mortality rate\", \"mortality rate\", \"mortality rate\", \"mortality rate\", \"mortality rate\", \"mortality rate\", \"mortality rate\", \"mortality rate\", \"mortality rate\", \"mortality rate\", \"mortality rate\", \"mortality rate\", \"mortality rate\", \"mortality rate\", \"mortality rate\", \"mortality rate\", \"mortality rate\", \"mortality rate\", \"mortality rate\", \"mortality rate\", \"mortality rate\", \"mortality rate\", \"mortality rate\", \"mortality rate\", \"mortality rate\", \"mortality rate\", \"mortality rate\", \"mortality rate\", \"mortality rate\", \"mortality rate\", \"mortality rate\", \"mortality rate\", \"mortality rate\", \"mortality rate\", \"mortality rate\", \"mortality rate\", \"mortality rate\", \"mortality rate\", \"mortality rate\", \"mortality rate\", \"mortality rate\", \"mortality rate\", \"mortality rate\", \"mortality rate\", \"mortality rate\", \"mortality rate\", \"mortality rate\", \"mortality rate\", \"mortality rate\", \"mortality rate\", \"mortality rate\", \"mortality rate\", \"mortality rate\", \"mortality rate\", \"mortality rate\", \"mortality rate\", \"mortality rate\", \"mortality rate\", \"mortality rate\", \"mortality rate\", \"mortality rate\", \"mortality rate\", \"mortality rate\", \"mortality rate\", \"mortality rate\", \"mortality rate\", \"mortality rate\", \"mortality rate\", \"mortality rate\", \"mortality rate\", \"mortality rate\", \"mortality rate\", \"mortality rate\", \"mortality rate\", \"mortality rate\", \"mortality rate\", \"mortality rate\", \"mortality rate\", \"mortality rate\", \"mortality rate\", \"mortality rate\", \"mortality rate\", \"mortality rate\", \"mortality rate\", \"mortality rate\", \"mortality rate\", \"mortality rate\", \"mortality rate\", \"mortality rate\", \"mortality rate\", \"mortality rate\", \"mortality rate\", \"mortality rate\", \"mortality rate\", \"mortality rate\", \"mortality rate\", \"mortality rate\", \"mortality rate\", \"mortality rate\", \"mortality rate\", \"mortality rate\", \"mortality rate\", \"mortality rate\", \"mortality rate\", \"mortality rate\", \"mortality rate\", \"mortality rate\", \"mortality rate\", \"mortality rate\", \"mortality rate\", \"mortality rate\", \"mortality rate\", \"mortality rate\", \"mortality rate\", \"mortality rate\", \"mortality rate\", \"mortality rate\", \"mortality rate\", \"mortality rate\", \"mortality rate\", \"mortality rate\", \"mortality rate\", \"mortality rate\", \"mortality rate\", \"mortality rate\", \"mortality rate\", \"mortality rate\", \"mortality rate\", \"mortality rate\", \"mortality rate\", \"mortality rate\", \"mortality rate\", \"mortality rate\", \"mortality rate\", \"mortality rate\", \"mortality rate\", \"mortality rate\", \"mortality rate\", \"mortality rate\", \"mortality rate\", \"mortality rate\", \"mortality rate\", \"mortality rate\", \"mortality rate\", \"mortality rate\", \"mortality rate\", \"mortality rate\", \"mortality rate\", \"mortality rate\", \"mortality rate\", \"mortality rate\", \"mortality rate\", \"mortality rate\", \"mortality rate\", \"mortality rate\", \"mortality rate\", \"mortality rate\", \"mortality rate\", \"mortality rate\", \"mortality rate\", \"mortality rate\", \"mortality rate\", \"mortality rate\", \"mortality rate\", \"mortality rate\", \"mortality rate\", \"mortality rate\", \"mortality rate\", \"mortality rate\", \"mortality rate\", \"mortality rate\", \"mortality rate\", \"mortality rate\", \"mortality rate\", \"mortality rate\", \"mortality rate\", \"mortality rate\", \"mortality rate\", \"mortality rate\", \"mortality rate\", \"mortality rate\", \"mortality rate\", \"mortality rate\", \"mortality rate\", \"mortality rate\", \"mortality rate\", \"mortality rate\", \"mortality rate\", \"mortality rate\", \"mortality rate\", \"mortality rate\", \"mortality rate\", \"mortality rate\", \"mortality rate\", \"mortality rate\", \"mortality rate\", \"mortality rate\", \"mortality rate\", \"mortality rate\", \"mortality rate\", \"mortality rate\", \"mortality rate\", \"mortality rate\", \"mortality rate\", \"mortality rate\", \"mortality rate\", \"mortality rate\", \"mortality rate\", \"mortality rate\", \"mortality rate\"], \"legendgroup\": \"mortality rate\", \"marker\": {\"color\": \"#ab63fa\", \"size\": [1, 1, 1, 1, 1, 1, 1, 1, 1, 1, 1, 1, 1, 1, 1, 1, 1, 1, 1, 1, 1, 1, 2, 1, 1, 1, 1, 1, 1, 1, 1, 2, 1, 1, 1, 1, 1, 1, 1, 1, 1, 2, 3, 1, 1, 3, 1, 1, 2, 2, 1, 1, 1, 1, 3, 1, 1, 1, 2, 1, 2, 1, 5, 1, 1, 1, 4, 1, 4, 1, 1, 1, 2, 1, 2, 1, 2, 1, 1, 1, 1, 1, 2, 3, 2, 1, 1, 2, 1, 1, 1, 1, 1, 1, 1, 1, 2, 3, 4, 1, 1, 2, 2, 1, 3, 3, 1, 1, 3, 1, 1, 1, 3, 1, 8, 2, 3, 2, 1, 2, 1, 1, 3, 2, 4, 1, 3, 2, 3, 3, 3, 1, 4, 4, 1, 6, 3, 4, 1, 2, 1, 1, 3, 2, 2, 1, 4, 4, 2, 2, 4, 6, 1, 2, 2, 5, 5, 6, 8, 1, 1, 1, 1, 3, 1, 1, 1, 1, 1, 1, 1, 1, 1, 1, 1, 3, 1, 1, 1, 1, 1, 3, 1, 1, 4, 1, 1, 2, 1, 1, 1, 1, 1, 1, 1, 1, 1, 1, 1, 2, 1, 1, 1, 1, 2, 1, 2, 3, 1, 1, 1, 4, 2, 3, 2, 1, 2, 1, 2, 1, 1, 2, 1, 1, 1, 1, 2, 4, 3, 1, 1, 1, 1, 1, 1, 3, 3, 1, 2, 1, 1, 1, 1, 1, 1, 1, 2, 2, 1, 2, 1, 1, 2, 5, 5, 1, 3, 2, 3, 4, 1, 3, 2, 1, 1, 1, 1, 1, 1, 1, 1, 1, 2, 1, 1, 1, 1, 2, 1, 1, 1, 1, 1, 1, 1, 1, 1, 1, 2, 2, 1, 1, 1, 1, 1, 1, 1, 1, 1, 1, 1, 1, 2, 1, 2, 1, 1, 1, 1, 1, 1, 1, 1, 1, 1, 2, 1, 1, 1, 1, 1, 1, 1, 2, 1, 2, 1, 1, 1, 1, 1, 1, 1, 1, 1, 2, 1, 1, 1, 1, 1, 3, 1, 1, 2, 1, 1, 2, 1, 1, 1, 1, 1, 1, 1, 1, 1, 1], \"sizemode\": \"area\", \"sizeref\": 0.02, \"symbol\": \"circle\"}, \"mode\": \"markers\", \"name\": \"mortality rate\", \"showlegend\": true, \"type\": \"scattergl\", \"x\": [\"1977-06\", \"1980-01\", \"1982-07\", \"1984-12\", \"1986-06\", \"1986-12\", \"1987-07\", \"1987-12\", \"1988-12\", \"1989-06\", \"1989-08\", \"1991-02\", \"1991-05\", \"1991-12\", \"1993-11\", \"1993-12\", \"1994-01\", \"1994-09\", \"1995-11\", \"1996-08\", \"1999-08\", \"2000-03\", \"2000-12\", \"2001-06\", \"2001-07\", \"2001-10\", \"2001-12\", \"2002-12\", \"2003-09\", \"2003-11\", \"2004-01\", \"2004-02\", \"2004-03\", \"2004-04\", \"2004-09\", \"2004-11\", \"2004-12\", \"2005-01\", \"2005-04\", \"2005-06\", \"2005-07\", \"2005-10\", \"2005-12\", \"2006-01\", \"2006-03\", \"2006-07\", \"2006-08\", \"2006-09\", \"2006-10\", \"2006-12\", \"2007-02\", \"2007-05\", \"2007-09\", \"2007-10\", \"2007-12\", \"2008-02\", \"2008-03\", \"2008-05\", \"2008-07\", \"2008-08\", \"2008-09\", \"2008-11\", \"2008-12\", \"2009-03\", \"2009-04\", \"2009-07\", \"2009-09\", \"2009-10\", \"2009-12\", \"2010-01\", \"2010-02\", \"2010-06\", \"2010-07\", \"2010-08\", \"2010-12\", \"2011-01\", \"2011-03\", \"2011-04\", \"2011-07\", \"2011-08\", \"2011-10\", \"2011-11\", \"2011-12\", \"2012-01\", \"2012-02\", \"2012-05\", \"2012-06\", \"2012-08\", \"2012-09\", \"2012-10\", \"2012-11\", \"2012-12\", \"2013-03\", \"2013-05\", \"2013-06\", \"2013-08\", \"2013-09\", \"2013-10\", \"2014-01\", \"2014-02\", \"2014-04\", \"2014-05\", \"2014-06\", \"2014-08\", \"2014-09\", \"2014-10\", \"2014-11\", \"2014-12\", \"2015-03\", \"2015-05\", \"2015-08\", \"2015-09\", \"2015-10\", \"2015-11\", \"2015-12\", \"2016-01\", \"2016-02\", \"2016-04\", \"2016-05\", \"2016-06\", \"2016-08\", \"2016-09\", \"2016-10\", \"2016-11\", \"2016-12\", \"2017-01\", \"2017-02\", \"2017-03\", \"2017-04\", \"2017-05\", \"2017-06\", \"2017-07\", \"2017-08\", \"2017-10\", \"2017-11\", \"2017-12\", \"2018-01\", \"2018-02\", \"2018-03\", \"2018-04\", \"2018-06\", \"2018-07\", \"2018-09\", \"2018-10\", \"2018-11\", \"2018-12\", \"2019-01\", \"2019-03\", \"2019-04\", \"2019-05\", \"2019-06\", \"2019-07\", \"2019-09\", \"2019-10\", \"2019-11\", \"2019-12\", \"2020-01\", \"2020-02\", \"2020-03\", \"2020-10\", \"2020-12\", \"1989-07\", \"1993-05\", \"1994-12\", \"1995-05\", \"1995-09\", \"1999-11\", \"2000-12\", \"2002-12\", \"2003-03\", \"2003-12\", \"2004-01\", \"2004-06\", \"2004-10\", \"2004-11\", \"2005-01\", \"2005-04\", \"2005-09\", \"2005-11\", \"2005-12\", \"2006-03\", \"2006-07\", \"2006-08\", \"2006-10\", \"2006-12\", \"2007-07\", \"2007-09\", \"2007-12\", \"2008-05\", \"2008-09\", \"2008-12\", \"2009-01\", \"2009-05\", \"2009-06\", \"2009-09\", \"2009-10\", \"2009-12\", \"2010-01\", \"2010-09\", \"2010-10\", \"2010-11\", \"2011-01\", \"2011-04\", \"2011-07\", \"2011-12\", \"2012-01\", \"2012-02\", \"2012-03\", \"2012-04\", \"2012-06\", \"2012-07\", \"2012-08\", \"2012-10\", \"2012-11\", \"2012-12\", \"2013-03\", \"2013-05\", \"2013-06\", \"2013-08\", \"2013-09\", \"2013-11\", \"2013-12\", \"2014-02\", \"2014-04\", \"2014-05\", \"2014-08\", \"2014-10\", \"2014-12\", \"2015-01\", \"2015-02\", \"2015-03\", \"2015-08\", \"2015-12\", \"2016-01\", \"2016-02\", \"2016-05\", \"2016-08\", \"2016-11\", \"2016-12\", \"2017-02\", \"2017-03\", \"2017-05\", \"2017-06\", \"2017-11\", \"2017-12\", \"2018-01\", \"2018-06\", \"2018-07\", \"2018-09\", \"2018-10\", \"2018-11\", \"2018-12\", \"2019-01\", \"2019-02\", \"2019-03\", \"2019-04\", \"2019-06\", \"2019-09\", \"2019-11\", \"2019-12\", \"2020-01\", \"2020-02\", \"2020-03\", \"2020-06\", \"1992-11\", \"1995-06\", \"1998-08\", \"2004-12\", \"2005-03\", \"2005-04\", \"2005-07\", \"2006-12\", \"2007-12\", \"2008-05\", \"2008-07\", \"2008-11\", \"2009-02\", \"2009-09\", \"2009-10\", \"2009-12\", \"2011-06\", \"2012-04\", \"2012-05\", \"2013-04\", \"2014-03\", \"2015-07\", \"2016-02\", \"2016-04\", \"2016-06\", \"2016-08\", \"2016-09\", \"2016-12\", \"2017-08\", \"2018-01\", \"2018-02\", \"2018-03\", \"2018-05\", \"2018-06\", \"2018-10\", \"2018-12\", \"2019-02\", \"2019-07\", \"2019-08\", \"2019-12\", \"2020-01\", \"2020-02\", \"2020-03\", \"1992-09\", \"1993-02\", \"1999-12\", \"2000-03\", \"2004-06\", \"2005-08\", \"2006-02\", \"2006-04\", \"2006-08\", \"2006-09\", \"2008-09\", \"2010-06\", \"2010-09\", \"2011-02\", \"2011-08\", \"2012-05\", \"2013-05\", \"2014-03\", \"2014-11\", \"2015-01\", \"2015-07\", \"2015-12\", \"2016-05\", \"2016-12\", \"2017-01\", \"2017-02\", \"2017-03\", \"2017-05\", \"2017-06\", \"2017-10\", \"2018-02\", \"2018-09\", \"2019-01\", \"2019-02\", \"2019-04\", \"2019-06\", \"2019-07\", \"2019-12\", \"2020-01\", \"2020-02\", \"2020-03\", \"2006-01\", \"2006-11\", \"2011-12\", \"2013-08\", \"2013-09\", \"2014-06\", \"2015-11\", \"2016-05\", \"2016-12\", \"2018-04\"], \"xaxis\": \"x\", \"y\": [1, 1, 1, 1, 1, 1, 1, 1, 1, 1, 1, 1, 1, 1, 1, 1, 1, 1, 1, 1, 1, 1, 1, 1, 1, 1, 1, 1, 1, 1, 1, 1, 1, 1, 1, 1, 1, 1, 1, 1, 1, 1, 1, 1, 1, 1, 1, 1, 1, 1, 1, 1, 1, 1, 1, 1, 1, 1, 1, 1, 1, 1, 1, 1, 1, 1, 1, 1, 1, 1, 1, 1, 1, 1, 1, 1, 1, 1, 1, 1, 1, 1, 1, 1, 1, 1, 1, 1, 1, 1, 1, 1, 1, 1, 1, 1, 1, 1, 1, 1, 1, 1, 1, 1, 1, 1, 1, 1, 1, 1, 1, 1, 1, 1, 1, 1, 1, 1, 1, 1, 1, 1, 1, 1, 1, 1, 1, 1, 1, 1, 1, 1, 1, 1, 1, 1, 1, 1, 1, 1, 1, 1, 1, 1, 1, 1, 1, 1, 1, 1, 1, 1, 1, 1, 1, 1, 1, 1, 1, 1, 1, 2, 2, 2, 2, 2, 2, 2, 2, 2, 2, 2, 2, 2, 2, 2, 2, 2, 2, 2, 2, 2, 2, 2, 2, 2, 2, 2, 2, 2, 2, 2, 2, 2, 2, 2, 2, 2, 2, 2, 2, 2, 2, 2, 2, 2, 2, 2, 2, 2, 2, 2, 2, 2, 2, 2, 2, 2, 2, 2, 2, 2, 2, 2, 2, 2, 2, 2, 2, 2, 2, 2, 2, 2, 2, 2, 2, 2, 2, 2, 2, 2, 2, 2, 2, 2, 2, 2, 2, 2, 2, 2, 2, 2, 2, 2, 2, 2, 2, 2, 2, 2, 2, 2, 3, 3, 3, 3, 3, 3, 3, 3, 3, 3, 3, 3, 3, 3, 3, 3, 3, 3, 3, 3, 3, 3, 3, 3, 3, 3, 3, 3, 3, 3, 3, 3, 3, 3, 3, 3, 3, 3, 3, 3, 3, 3, 3, 4, 4, 4, 4, 4, 4, 4, 4, 4, 4, 4, 4, 4, 4, 4, 4, 4, 4, 4, 4, 4, 4, 4, 4, 4, 4, 4, 4, 4, 4, 4, 4, 4, 4, 4, 4, 4, 4, 4, 4, 4, 5, 5, 5, 5, 5, 5, 5, 5, 5, 5], \"yaxis\": \"y\"}, {\"customdata\": [[1], [1], [1], [1], [1], [1], [1], [1], [1], [1], [1], [1], [1], [1], [1], [1], [1], [1], [1], [1], [2], [1], [2], [1], [1], [1], [1], [4], [1], [1], [1], [1], [1], [1], [1], [2], [1], [1], [1], [4], [3], [1], [1], [1], [3], [1], [1], [1], [2], [2], [4], [1], [1], [1], [2], [3], [1], [1], [1], [1], [1], [2], [1], [1], [2], [3], [2], [1], [1], [3], [3], [2], [1], [3], [2], [1], [1], [2], [2], [1], [6], [3], [1], [1], [1], [1], [1], [3], [1], [2], [1], [1], [3], [3], [2], [2], [2], [1], [1], [1], [2], [3], [1], [3], [2], [2], [3], [2], [1], [4], [3], [1], [3], [2], [4], [3], [1], [4], [2], [3], [2], [1], [5], [1], [2], [3], [4], [3], [1], [1], [5], [2], [2], [1], [1], [2], [3], [3], [3], [2], [1], [3], [1], [3], [6], [3], [2], [4], [1], [2], [1], [3], [3], [5], [5], [3], [1], [2], [1], [1], [1], [1], [1], [1], [1], [1], [1], [1], [1], [1], [1], [1], [1], [1], [1], [1], [1], [1], [1], [2], [1], [1], [1], [2], [1], [1], [2], [1], [1], [1], [4], [1], [1], [1], [1], [2], [1], [1], [2], [1], [1], [2], [1], [1], [1], [1], [2], [1], [1], [5], [1], [2], [1], [1], [1], [1], [1], [1], [1], [1], [1], [2], [1], [1], [2], [1], [1], [1], [2], [2], [1], [1], [1], [2], [1], [1], [2], [1], [1], [1], [3], [1], [4], [1], [2], [1], [1], [2], [1], [1], [1], [1], [1], [1], [1], [2], [1], [1], [2], [1], [2], [1], [2], [2], [1], [2], [1], [2], [3], [3], [1], [3], [1], [2], [1], [1], [1], [3], [5], [2], [1], [1], [1], [1], [1], [1], [1], [1], [1], [2], [1], [1], [1], [1], [2], [1], [2], [1], [1], [1], [1], [1], [1], [1], [1], [1], [1], [1], [1], [1], [1], [1], [1], [1], [1], [1], [1], [1], [2], [2], [1], [1], [1], [1], [1], [1], [1], [1], [1], [1], [1], [1], [1], [1], [1], [1], [1], [1], [1], [1], [1], [1], [1], [1], [1], [1], [1], [1], [1], [1], [2], [1], [1], [2], [1], [1], [1], [1], [1], [1], [1], [1], [1], [1], [1], [1], [1], [1], [1], [1], [1], [1]], \"hoverlabel\": {\"namelength\": 0}, \"hovertemplate\": \"<b>%{hovertext}</b><br><br>tag=vaccine<br>publish_time=%{x}<br>phase=%{y}<br>count=%{customdata[0]}\", \"hovertext\": [\"vaccine\", \"vaccine\", \"vaccine\", \"vaccine\", \"vaccine\", \"vaccine\", \"vaccine\", \"vaccine\", \"vaccine\", \"vaccine\", \"vaccine\", \"vaccine\", \"vaccine\", \"vaccine\", \"vaccine\", \"vaccine\", \"vaccine\", \"vaccine\", \"vaccine\", \"vaccine\", \"vaccine\", \"vaccine\", \"vaccine\", \"vaccine\", \"vaccine\", \"vaccine\", \"vaccine\", \"vaccine\", \"vaccine\", \"vaccine\", \"vaccine\", \"vaccine\", \"vaccine\", \"vaccine\", \"vaccine\", \"vaccine\", \"vaccine\", \"vaccine\", \"vaccine\", \"vaccine\", \"vaccine\", \"vaccine\", \"vaccine\", \"vaccine\", \"vaccine\", \"vaccine\", \"vaccine\", \"vaccine\", \"vaccine\", \"vaccine\", \"vaccine\", \"vaccine\", \"vaccine\", \"vaccine\", \"vaccine\", \"vaccine\", \"vaccine\", \"vaccine\", \"vaccine\", \"vaccine\", \"vaccine\", \"vaccine\", \"vaccine\", \"vaccine\", \"vaccine\", \"vaccine\", \"vaccine\", \"vaccine\", \"vaccine\", \"vaccine\", \"vaccine\", \"vaccine\", \"vaccine\", \"vaccine\", \"vaccine\", \"vaccine\", \"vaccine\", \"vaccine\", \"vaccine\", \"vaccine\", \"vaccine\", \"vaccine\", \"vaccine\", \"vaccine\", \"vaccine\", \"vaccine\", \"vaccine\", \"vaccine\", \"vaccine\", \"vaccine\", \"vaccine\", \"vaccine\", \"vaccine\", \"vaccine\", \"vaccine\", \"vaccine\", \"vaccine\", \"vaccine\", \"vaccine\", \"vaccine\", \"vaccine\", \"vaccine\", \"vaccine\", \"vaccine\", \"vaccine\", \"vaccine\", \"vaccine\", \"vaccine\", \"vaccine\", \"vaccine\", \"vaccine\", \"vaccine\", \"vaccine\", \"vaccine\", \"vaccine\", \"vaccine\", \"vaccine\", \"vaccine\", \"vaccine\", \"vaccine\", \"vaccine\", \"vaccine\", \"vaccine\", \"vaccine\", \"vaccine\", \"vaccine\", \"vaccine\", \"vaccine\", \"vaccine\", \"vaccine\", \"vaccine\", \"vaccine\", \"vaccine\", \"vaccine\", \"vaccine\", \"vaccine\", \"vaccine\", \"vaccine\", \"vaccine\", \"vaccine\", \"vaccine\", \"vaccine\", \"vaccine\", \"vaccine\", \"vaccine\", \"vaccine\", \"vaccine\", \"vaccine\", \"vaccine\", \"vaccine\", \"vaccine\", \"vaccine\", \"vaccine\", \"vaccine\", \"vaccine\", \"vaccine\", \"vaccine\", \"vaccine\", \"vaccine\", \"vaccine\", \"vaccine\", \"vaccine\", \"vaccine\", \"vaccine\", \"vaccine\", \"vaccine\", \"vaccine\", \"vaccine\", \"vaccine\", \"vaccine\", \"vaccine\", \"vaccine\", \"vaccine\", \"vaccine\", \"vaccine\", \"vaccine\", \"vaccine\", \"vaccine\", \"vaccine\", \"vaccine\", \"vaccine\", \"vaccine\", \"vaccine\", \"vaccine\", \"vaccine\", \"vaccine\", \"vaccine\", \"vaccine\", \"vaccine\", \"vaccine\", \"vaccine\", \"vaccine\", \"vaccine\", \"vaccine\", \"vaccine\", \"vaccine\", \"vaccine\", \"vaccine\", \"vaccine\", \"vaccine\", \"vaccine\", \"vaccine\", \"vaccine\", \"vaccine\", \"vaccine\", \"vaccine\", \"vaccine\", \"vaccine\", \"vaccine\", \"vaccine\", \"vaccine\", \"vaccine\", \"vaccine\", \"vaccine\", \"vaccine\", \"vaccine\", \"vaccine\", \"vaccine\", \"vaccine\", \"vaccine\", \"vaccine\", \"vaccine\", \"vaccine\", \"vaccine\", \"vaccine\", \"vaccine\", \"vaccine\", \"vaccine\", \"vaccine\", \"vaccine\", \"vaccine\", \"vaccine\", \"vaccine\", \"vaccine\", \"vaccine\", \"vaccine\", \"vaccine\", \"vaccine\", \"vaccine\", \"vaccine\", \"vaccine\", \"vaccine\", \"vaccine\", \"vaccine\", \"vaccine\", \"vaccine\", \"vaccine\", \"vaccine\", \"vaccine\", \"vaccine\", \"vaccine\", \"vaccine\", \"vaccine\", \"vaccine\", \"vaccine\", \"vaccine\", \"vaccine\", \"vaccine\", \"vaccine\", \"vaccine\", \"vaccine\", \"vaccine\", \"vaccine\", \"vaccine\", \"vaccine\", \"vaccine\", \"vaccine\", \"vaccine\", \"vaccine\", \"vaccine\", \"vaccine\", \"vaccine\", \"vaccine\", \"vaccine\", \"vaccine\", \"vaccine\", \"vaccine\", \"vaccine\", \"vaccine\", \"vaccine\", \"vaccine\", \"vaccine\", \"vaccine\", \"vaccine\", \"vaccine\", \"vaccine\", \"vaccine\", \"vaccine\", \"vaccine\", \"vaccine\", \"vaccine\", \"vaccine\", \"vaccine\", \"vaccine\", \"vaccine\", \"vaccine\", \"vaccine\", \"vaccine\", \"vaccine\", \"vaccine\", \"vaccine\", \"vaccine\", \"vaccine\", \"vaccine\", \"vaccine\", \"vaccine\", \"vaccine\", \"vaccine\", \"vaccine\", \"vaccine\", \"vaccine\", \"vaccine\", \"vaccine\", \"vaccine\", \"vaccine\", \"vaccine\", \"vaccine\", \"vaccine\", \"vaccine\", \"vaccine\", \"vaccine\", \"vaccine\", \"vaccine\", \"vaccine\", \"vaccine\", \"vaccine\", \"vaccine\", \"vaccine\", \"vaccine\", \"vaccine\", \"vaccine\", \"vaccine\", \"vaccine\", \"vaccine\", \"vaccine\", \"vaccine\", \"vaccine\", \"vaccine\", \"vaccine\", \"vaccine\", \"vaccine\", \"vaccine\", \"vaccine\", \"vaccine\", \"vaccine\", \"vaccine\", \"vaccine\", \"vaccine\", \"vaccine\", \"vaccine\", \"vaccine\", \"vaccine\", \"vaccine\", \"vaccine\", \"vaccine\", \"vaccine\", \"vaccine\", \"vaccine\", \"vaccine\", \"vaccine\", \"vaccine\", \"vaccine\", \"vaccine\", \"vaccine\", \"vaccine\", \"vaccine\", \"vaccine\", \"vaccine\", \"vaccine\", \"vaccine\", \"vaccine\", \"vaccine\"], \"legendgroup\": \"vaccine\", \"marker\": {\"color\": \"#FFA15A\", \"size\": [1, 1, 1, 1, 1, 1, 1, 1, 1, 1, 1, 1, 1, 1, 1, 1, 1, 1, 1, 1, 2, 1, 2, 1, 1, 1, 1, 4, 1, 1, 1, 1, 1, 1, 1, 2, 1, 1, 1, 4, 3, 1, 1, 1, 3, 1, 1, 1, 2, 2, 4, 1, 1, 1, 2, 3, 1, 1, 1, 1, 1, 2, 1, 1, 2, 3, 2, 1, 1, 3, 3, 2, 1, 3, 2, 1, 1, 2, 2, 1, 6, 3, 1, 1, 1, 1, 1, 3, 1, 2, 1, 1, 3, 3, 2, 2, 2, 1, 1, 1, 2, 3, 1, 3, 2, 2, 3, 2, 1, 4, 3, 1, 3, 2, 4, 3, 1, 4, 2, 3, 2, 1, 5, 1, 2, 3, 4, 3, 1, 1, 5, 2, 2, 1, 1, 2, 3, 3, 3, 2, 1, 3, 1, 3, 6, 3, 2, 4, 1, 2, 1, 3, 3, 5, 5, 3, 1, 2, 1, 1, 1, 1, 1, 1, 1, 1, 1, 1, 1, 1, 1, 1, 1, 1, 1, 1, 1, 1, 1, 2, 1, 1, 1, 2, 1, 1, 2, 1, 1, 1, 4, 1, 1, 1, 1, 2, 1, 1, 2, 1, 1, 2, 1, 1, 1, 1, 2, 1, 1, 5, 1, 2, 1, 1, 1, 1, 1, 1, 1, 1, 1, 2, 1, 1, 2, 1, 1, 1, 2, 2, 1, 1, 1, 2, 1, 1, 2, 1, 1, 1, 3, 1, 4, 1, 2, 1, 1, 2, 1, 1, 1, 1, 1, 1, 1, 2, 1, 1, 2, 1, 2, 1, 2, 2, 1, 2, 1, 2, 3, 3, 1, 3, 1, 2, 1, 1, 1, 3, 5, 2, 1, 1, 1, 1, 1, 1, 1, 1, 1, 2, 1, 1, 1, 1, 2, 1, 2, 1, 1, 1, 1, 1, 1, 1, 1, 1, 1, 1, 1, 1, 1, 1, 1, 1, 1, 1, 1, 1, 2, 2, 1, 1, 1, 1, 1, 1, 1, 1, 1, 1, 1, 1, 1, 1, 1, 1, 1, 1, 1, 1, 1, 1, 1, 1, 1, 1, 1, 1, 1, 1, 2, 1, 1, 2, 1, 1, 1, 1, 1, 1, 1, 1, 1, 1, 1, 1, 1, 1, 1, 1, 1, 1], \"sizemode\": \"area\", \"sizeref\": 0.02, \"symbol\": \"circle\"}, \"mode\": \"markers\", \"name\": \"vaccine\", \"showlegend\": true, \"type\": \"scattergl\", \"x\": [\"1971-05\", \"1976-05\", \"1980-11\", \"1981-12\", \"1984-01\", \"1984-12\", \"1986-09\", \"1986-12\", \"1988-01\", \"1988-10\", \"1989-07\", \"1991-01\", \"1991-11\", \"1992-02\", \"1992-09\", \"1993-12\", \"1997-05\", \"1999-08\", \"2001-01\", \"2001-04\", \"2001-12\", \"2003-11\", \"2003-12\", \"2004-01\", \"2004-02\", \"2004-03\", \"2004-04\", \"2004-07\", \"2004-09\", \"2004-10\", \"2004-11\", \"2004-12\", \"2005-01\", \"2005-02\", \"2005-03\", \"2005-04\", \"2005-08\", \"2005-09\", \"2005-11\", \"2005-12\", \"2006-02\", \"2006-04\", \"2006-05\", \"2006-08\", \"2006-12\", \"2007-03\", \"2007-05\", \"2007-06\", \"2007-10\", \"2007-11\", \"2007-12\", \"2008-02\", \"2008-03\", \"2008-08\", \"2008-09\", \"2008-12\", \"2009-01\", \"2009-03\", \"2009-04\", \"2009-06\", \"2009-07\", \"2009-08\", \"2009-10\", \"2009-11\", \"2009-12\", \"2010-02\", \"2010-03\", \"2010-05\", \"2010-06\", \"2010-07\", \"2010-08\", \"2010-10\", \"2010-11\", \"2010-12\", \"2011-02\", \"2011-04\", \"2011-05\", \"2011-06\", \"2011-08\", \"2011-09\", \"2011-12\", \"2012-03\", \"2012-05\", \"2012-08\", \"2012-09\", \"2012-10\", \"2012-11\", \"2012-12\", \"2013-01\", \"2013-02\", \"2013-05\", \"2013-06\", \"2013-09\", \"2013-11\", \"2013-12\", \"2014-01\", \"2014-04\", \"2014-06\", \"2014-07\", \"2014-08\", \"2014-09\", \"2014-10\", \"2014-11\", \"2014-12\", \"2015-01\", \"2015-02\", \"2015-03\", \"2015-05\", \"2015-08\", \"2015-09\", \"2015-10\", \"2015-11\", \"2015-12\", \"2016-01\", \"2016-02\", \"2016-03\", \"2016-04\", \"2016-05\", \"2016-06\", \"2016-08\", \"2016-09\", \"2016-11\", \"2016-12\", \"2017-01\", \"2017-02\", \"2017-03\", \"2017-04\", \"2017-06\", \"2017-07\", \"2017-09\", \"2017-11\", \"2017-12\", \"2018-01\", \"2018-02\", \"2018-03\", \"2018-05\", \"2018-08\", \"2018-09\", \"2018-11\", \"2018-12\", \"2019-01\", \"2019-02\", \"2019-03\", \"2019-04\", \"2019-05\", \"2019-06\", \"2019-07\", \"2019-08\", \"2019-09\", \"2019-10\", \"2019-11\", \"2019-12\", \"2020-01\", \"2020-02\", \"2020-03\", \"2020-12\", \"1983-12\", \"1986-02\", \"1986-11\", \"1986-12\", \"1989-03\", \"1989-07\", \"1989-12\", \"1990-04\", \"1990-06\", \"1992-06\", \"1994-10\", \"1995-04\", \"1995-08\", \"1996-12\", \"1997-09\", \"1999-06\", \"1999-07\", \"2000-03\", \"2000-09\", \"2000-12\", \"2003-09\", \"2004-01\", \"2004-04\", \"2004-06\", \"2004-09\", \"2004-11\", \"2004-12\", \"2005-01\", \"2005-03\", \"2005-10\", \"2005-12\", \"2006-04\", \"2006-05\", \"2006-09\", \"2006-12\", \"2007-12\", \"2008-02\", \"2008-05\", \"2008-09\", \"2008-12\", \"2009-02\", \"2009-05\", \"2009-12\", \"2010-04\", \"2010-06\", \"2010-07\", \"2010-11\", \"2010-12\", \"2011-01\", \"2011-03\", \"2011-05\", \"2011-06\", \"2011-10\", \"2011-11\", \"2011-12\", \"2012-02\", \"2012-03\", \"2012-05\", \"2012-10\", \"2012-12\", \"2013-01\", \"2013-03\", \"2013-04\", \"2013-05\", \"2013-06\", \"2013-08\", \"2013-09\", \"2013-11\", \"2013-12\", \"2014-02\", \"2014-04\", \"2014-05\", \"2014-07\", \"2014-08\", \"2014-09\", \"2014-10\", \"2014-11\", \"2014-12\", \"2015-02\", \"2015-03\", \"2015-04\", \"2015-05\", \"2015-06\", \"2015-07\", \"2015-08\", \"2015-09\", \"2015-12\", \"2016-01\", \"2016-02\", \"2016-03\", \"2016-04\", \"2016-06\", \"2016-08\", \"2016-09\", \"2016-10\", \"2016-11\", \"2017-01\", \"2017-02\", \"2017-03\", \"2017-04\", \"2017-05\", \"2017-07\", \"2017-09\", \"2017-10\", \"2017-11\", \"2017-12\", \"2018-01\", \"2018-03\", \"2018-04\", \"2018-07\", \"2018-09\", \"2018-10\", \"2018-11\", \"2018-12\", \"2019-01\", \"2019-02\", \"2019-04\", \"2019-06\", \"2019-08\", \"2019-09\", \"2019-11\", \"2019-12\", \"2020-01\", \"2020-02\", \"2020-03\", \"2005-02\", \"2005-04\", \"2006-09\", \"2007-09\", \"2008-11\", \"2008-12\", \"2009-01\", \"2009-03\", \"2009-06\", \"2009-11\", \"2009-12\", \"2010-07\", \"2010-12\", \"2011-01\", \"2011-07\", \"2011-12\", \"2012-01\", \"2012-06\", \"2012-08\", \"2012-12\", \"2013-06\", \"2014-04\", \"2014-09\", \"2014-11\", \"2015-05\", \"2015-09\", \"2015-12\", \"2016-06\", \"2016-09\", \"2017-10\", \"2018-01\", \"2018-03\", \"2018-04\", \"2018-06\", \"2018-09\", \"2018-10\", \"2019-02\", \"2019-04\", \"2019-09\", \"2003-10\", \"2005-12\", \"2006-06\", \"2006-12\", \"2008-04\", \"2008-11\", \"2010-04\", \"2010-07\", \"2010-12\", \"2011-02\", \"2012-02\", \"2012-11\", \"2013-06\", \"2013-07\", \"2013-12\", \"2014-08\", \"2014-12\", \"2015-08\", \"2015-11\", \"2016-03\", \"2016-06\", \"2016-09\", \"2017-05\", \"2017-07\", \"2018-06\", \"2018-09\", \"2018-10\", \"2019-01\", \"2019-05\", \"2019-06\", \"2019-08\", \"2019-11\", \"2019-12\", \"2020-01\", \"2020-02\", \"2004-06\", \"2006-12\", \"2007-05\", \"2008-03\", \"2009-08\", \"2011-08\", \"2014-06\", \"2014-07\", \"2014-08\", \"2014-11\", \"2015-02\", \"2015-03\", \"2016-02\", \"2016-03\", \"2016-06\", \"2016-08\", \"2020-02\"], \"xaxis\": \"x\", \"y\": [1, 1, 1, 1, 1, 1, 1, 1, 1, 1, 1, 1, 1, 1, 1, 1, 1, 1, 1, 1, 1, 1, 1, 1, 1, 1, 1, 1, 1, 1, 1, 1, 1, 1, 1, 1, 1, 1, 1, 1, 1, 1, 1, 1, 1, 1, 1, 1, 1, 1, 1, 1, 1, 1, 1, 1, 1, 1, 1, 1, 1, 1, 1, 1, 1, 1, 1, 1, 1, 1, 1, 1, 1, 1, 1, 1, 1, 1, 1, 1, 1, 1, 1, 1, 1, 1, 1, 1, 1, 1, 1, 1, 1, 1, 1, 1, 1, 1, 1, 1, 1, 1, 1, 1, 1, 1, 1, 1, 1, 1, 1, 1, 1, 1, 1, 1, 1, 1, 1, 1, 1, 1, 1, 1, 1, 1, 1, 1, 1, 1, 1, 1, 1, 1, 1, 1, 1, 1, 1, 1, 1, 1, 1, 1, 1, 1, 1, 1, 1, 1, 1, 1, 1, 1, 1, 1, 2, 2, 2, 2, 2, 2, 2, 2, 2, 2, 2, 2, 2, 2, 2, 2, 2, 2, 2, 2, 2, 2, 2, 2, 2, 2, 2, 2, 2, 2, 2, 2, 2, 2, 2, 2, 2, 2, 2, 2, 2, 2, 2, 2, 2, 2, 2, 2, 2, 2, 2, 2, 2, 2, 2, 2, 2, 2, 2, 2, 2, 2, 2, 2, 2, 2, 2, 2, 2, 2, 2, 2, 2, 2, 2, 2, 2, 2, 2, 2, 2, 2, 2, 2, 2, 2, 2, 2, 2, 2, 2, 2, 2, 2, 2, 2, 2, 2, 2, 2, 2, 2, 2, 2, 2, 2, 2, 2, 2, 2, 2, 2, 2, 2, 2, 2, 2, 2, 2, 2, 2, 2, 2, 2, 2, 3, 3, 3, 3, 3, 3, 3, 3, 3, 3, 3, 3, 3, 3, 3, 3, 3, 3, 3, 3, 3, 3, 3, 3, 3, 3, 3, 3, 3, 3, 3, 3, 3, 3, 3, 3, 3, 3, 3, 4, 4, 4, 4, 4, 4, 4, 4, 4, 4, 4, 4, 4, 4, 4, 4, 4, 4, 4, 4, 4, 4, 4, 4, 4, 4, 4, 4, 4, 4, 4, 4, 4, 4, 4, 5, 5, 5, 5, 5, 5, 5, 5, 5, 5, 5, 5, 5, 5, 5, 5, 5], \"yaxis\": \"y\"}],\n",
       "                        {\"legend\": {\"itemsizing\": \"constant\", \"title\": {\"text\": \"tag\"}, \"tracegroupgap\": 0}, \"template\": {\"data\": {\"bar\": [{\"error_x\": {\"color\": \"#2a3f5f\"}, \"error_y\": {\"color\": \"#2a3f5f\"}, \"marker\": {\"line\": {\"color\": \"#E5ECF6\", \"width\": 0.5}}, \"type\": \"bar\"}], \"barpolar\": [{\"marker\": {\"line\": {\"color\": \"#E5ECF6\", \"width\": 0.5}}, \"type\": \"barpolar\"}], \"carpet\": [{\"aaxis\": {\"endlinecolor\": \"#2a3f5f\", \"gridcolor\": \"white\", \"linecolor\": \"white\", \"minorgridcolor\": \"white\", \"startlinecolor\": \"#2a3f5f\"}, \"baxis\": {\"endlinecolor\": \"#2a3f5f\", \"gridcolor\": \"white\", \"linecolor\": \"white\", \"minorgridcolor\": \"white\", \"startlinecolor\": \"#2a3f5f\"}, \"type\": \"carpet\"}], \"choropleth\": [{\"colorbar\": {\"outlinewidth\": 0, \"ticks\": \"\"}, \"type\": \"choropleth\"}], \"contour\": [{\"colorbar\": {\"outlinewidth\": 0, \"ticks\": \"\"}, \"colorscale\": [[0.0, \"#0d0887\"], [0.1111111111111111, \"#46039f\"], [0.2222222222222222, \"#7201a8\"], [0.3333333333333333, \"#9c179e\"], [0.4444444444444444, \"#bd3786\"], [0.5555555555555556, \"#d8576b\"], [0.6666666666666666, \"#ed7953\"], [0.7777777777777778, \"#fb9f3a\"], [0.8888888888888888, \"#fdca26\"], [1.0, \"#f0f921\"]], \"type\": \"contour\"}], \"contourcarpet\": [{\"colorbar\": {\"outlinewidth\": 0, \"ticks\": \"\"}, \"type\": \"contourcarpet\"}], \"heatmap\": [{\"colorbar\": {\"outlinewidth\": 0, \"ticks\": \"\"}, \"colorscale\": [[0.0, \"#0d0887\"], [0.1111111111111111, \"#46039f\"], [0.2222222222222222, \"#7201a8\"], [0.3333333333333333, \"#9c179e\"], [0.4444444444444444, \"#bd3786\"], [0.5555555555555556, \"#d8576b\"], [0.6666666666666666, \"#ed7953\"], [0.7777777777777778, \"#fb9f3a\"], [0.8888888888888888, \"#fdca26\"], [1.0, \"#f0f921\"]], \"type\": \"heatmap\"}], \"heatmapgl\": [{\"colorbar\": {\"outlinewidth\": 0, \"ticks\": \"\"}, \"colorscale\": [[0.0, \"#0d0887\"], [0.1111111111111111, \"#46039f\"], [0.2222222222222222, \"#7201a8\"], [0.3333333333333333, \"#9c179e\"], [0.4444444444444444, \"#bd3786\"], [0.5555555555555556, \"#d8576b\"], [0.6666666666666666, \"#ed7953\"], [0.7777777777777778, \"#fb9f3a\"], [0.8888888888888888, \"#fdca26\"], [1.0, \"#f0f921\"]], \"type\": \"heatmapgl\"}], \"histogram\": [{\"marker\": {\"colorbar\": {\"outlinewidth\": 0, \"ticks\": \"\"}}, \"type\": \"histogram\"}], \"histogram2d\": [{\"colorbar\": {\"outlinewidth\": 0, \"ticks\": \"\"}, \"colorscale\": [[0.0, \"#0d0887\"], [0.1111111111111111, \"#46039f\"], [0.2222222222222222, \"#7201a8\"], [0.3333333333333333, \"#9c179e\"], [0.4444444444444444, \"#bd3786\"], [0.5555555555555556, \"#d8576b\"], [0.6666666666666666, \"#ed7953\"], [0.7777777777777778, \"#fb9f3a\"], [0.8888888888888888, \"#fdca26\"], [1.0, \"#f0f921\"]], \"type\": \"histogram2d\"}], \"histogram2dcontour\": [{\"colorbar\": {\"outlinewidth\": 0, \"ticks\": \"\"}, \"colorscale\": [[0.0, \"#0d0887\"], [0.1111111111111111, \"#46039f\"], [0.2222222222222222, \"#7201a8\"], [0.3333333333333333, \"#9c179e\"], [0.4444444444444444, \"#bd3786\"], [0.5555555555555556, \"#d8576b\"], [0.6666666666666666, \"#ed7953\"], [0.7777777777777778, \"#fb9f3a\"], [0.8888888888888888, \"#fdca26\"], [1.0, \"#f0f921\"]], \"type\": \"histogram2dcontour\"}], \"mesh3d\": [{\"colorbar\": {\"outlinewidth\": 0, \"ticks\": \"\"}, \"type\": \"mesh3d\"}], \"parcoords\": [{\"line\": {\"colorbar\": {\"outlinewidth\": 0, \"ticks\": \"\"}}, \"type\": \"parcoords\"}], \"pie\": [{\"automargin\": true, \"type\": \"pie\"}], \"scatter\": [{\"marker\": {\"colorbar\": {\"outlinewidth\": 0, \"ticks\": \"\"}}, \"type\": \"scatter\"}], \"scatter3d\": [{\"line\": {\"colorbar\": {\"outlinewidth\": 0, \"ticks\": \"\"}}, \"marker\": {\"colorbar\": {\"outlinewidth\": 0, \"ticks\": \"\"}}, \"type\": \"scatter3d\"}], \"scattercarpet\": [{\"marker\": {\"colorbar\": {\"outlinewidth\": 0, \"ticks\": \"\"}}, \"type\": \"scattercarpet\"}], \"scattergeo\": [{\"marker\": {\"colorbar\": {\"outlinewidth\": 0, \"ticks\": \"\"}}, \"type\": \"scattergeo\"}], \"scattergl\": [{\"marker\": {\"colorbar\": {\"outlinewidth\": 0, \"ticks\": \"\"}}, \"type\": \"scattergl\"}], \"scattermapbox\": [{\"marker\": {\"colorbar\": {\"outlinewidth\": 0, \"ticks\": \"\"}}, \"type\": \"scattermapbox\"}], \"scatterpolar\": [{\"marker\": {\"colorbar\": {\"outlinewidth\": 0, \"ticks\": \"\"}}, \"type\": \"scatterpolar\"}], \"scatterpolargl\": [{\"marker\": {\"colorbar\": {\"outlinewidth\": 0, \"ticks\": \"\"}}, \"type\": \"scatterpolargl\"}], \"scatterternary\": [{\"marker\": {\"colorbar\": {\"outlinewidth\": 0, \"ticks\": \"\"}}, \"type\": \"scatterternary\"}], \"surface\": [{\"colorbar\": {\"outlinewidth\": 0, \"ticks\": \"\"}, \"colorscale\": [[0.0, \"#0d0887\"], [0.1111111111111111, \"#46039f\"], [0.2222222222222222, \"#7201a8\"], [0.3333333333333333, \"#9c179e\"], [0.4444444444444444, \"#bd3786\"], [0.5555555555555556, \"#d8576b\"], [0.6666666666666666, \"#ed7953\"], [0.7777777777777778, \"#fb9f3a\"], [0.8888888888888888, \"#fdca26\"], [1.0, \"#f0f921\"]], \"type\": \"surface\"}], \"table\": [{\"cells\": {\"fill\": {\"color\": \"#EBF0F8\"}, \"line\": {\"color\": \"white\"}}, \"header\": {\"fill\": {\"color\": \"#C8D4E3\"}, \"line\": {\"color\": \"white\"}}, \"type\": \"table\"}]}, \"layout\": {\"annotationdefaults\": {\"arrowcolor\": \"#2a3f5f\", \"arrowhead\": 0, \"arrowwidth\": 1}, \"coloraxis\": {\"colorbar\": {\"outlinewidth\": 0, \"ticks\": \"\"}}, \"colorscale\": {\"diverging\": [[0, \"#8e0152\"], [0.1, \"#c51b7d\"], [0.2, \"#de77ae\"], [0.3, \"#f1b6da\"], [0.4, \"#fde0ef\"], [0.5, \"#f7f7f7\"], [0.6, \"#e6f5d0\"], [0.7, \"#b8e186\"], [0.8, \"#7fbc41\"], [0.9, \"#4d9221\"], [1, \"#276419\"]], \"sequential\": [[0.0, \"#0d0887\"], [0.1111111111111111, \"#46039f\"], [0.2222222222222222, \"#7201a8\"], [0.3333333333333333, \"#9c179e\"], [0.4444444444444444, \"#bd3786\"], [0.5555555555555556, \"#d8576b\"], [0.6666666666666666, \"#ed7953\"], [0.7777777777777778, \"#fb9f3a\"], [0.8888888888888888, \"#fdca26\"], [1.0, \"#f0f921\"]], \"sequentialminus\": [[0.0, \"#0d0887\"], [0.1111111111111111, \"#46039f\"], [0.2222222222222222, \"#7201a8\"], [0.3333333333333333, \"#9c179e\"], [0.4444444444444444, \"#bd3786\"], [0.5555555555555556, \"#d8576b\"], [0.6666666666666666, \"#ed7953\"], [0.7777777777777778, \"#fb9f3a\"], [0.8888888888888888, \"#fdca26\"], [1.0, \"#f0f921\"]]}, \"colorway\": [\"#636efa\", \"#EF553B\", \"#00cc96\", \"#ab63fa\", \"#FFA15A\", \"#19d3f3\", \"#FF6692\", \"#B6E880\", \"#FF97FF\", \"#FECB52\"], \"font\": {\"color\": \"#2a3f5f\"}, \"geo\": {\"bgcolor\": \"white\", \"lakecolor\": \"white\", \"landcolor\": \"#E5ECF6\", \"showlakes\": true, \"showland\": true, \"subunitcolor\": \"white\"}, \"hoverlabel\": {\"align\": \"left\"}, \"hovermode\": \"closest\", \"mapbox\": {\"style\": \"light\"}, \"paper_bgcolor\": \"white\", \"plot_bgcolor\": \"#E5ECF6\", \"polar\": {\"angularaxis\": {\"gridcolor\": \"white\", \"linecolor\": \"white\", \"ticks\": \"\"}, \"bgcolor\": \"#E5ECF6\", \"radialaxis\": {\"gridcolor\": \"white\", \"linecolor\": \"white\", \"ticks\": \"\"}}, \"scene\": {\"xaxis\": {\"backgroundcolor\": \"#E5ECF6\", \"gridcolor\": \"white\", \"gridwidth\": 2, \"linecolor\": \"white\", \"showbackground\": true, \"ticks\": \"\", \"zerolinecolor\": \"white\"}, \"yaxis\": {\"backgroundcolor\": \"#E5ECF6\", \"gridcolor\": \"white\", \"gridwidth\": 2, \"linecolor\": \"white\", \"showbackground\": true, \"ticks\": \"\", \"zerolinecolor\": \"white\"}, \"zaxis\": {\"backgroundcolor\": \"#E5ECF6\", \"gridcolor\": \"white\", \"gridwidth\": 2, \"linecolor\": \"white\", \"showbackground\": true, \"ticks\": \"\", \"zerolinecolor\": \"white\"}}, \"shapedefaults\": {\"line\": {\"color\": \"#2a3f5f\"}}, \"ternary\": {\"aaxis\": {\"gridcolor\": \"white\", \"linecolor\": \"white\", \"ticks\": \"\"}, \"baxis\": {\"gridcolor\": \"white\", \"linecolor\": \"white\", \"ticks\": \"\"}, \"bgcolor\": \"#E5ECF6\", \"caxis\": {\"gridcolor\": \"white\", \"linecolor\": \"white\", \"ticks\": \"\"}}, \"title\": {\"x\": 0.05}, \"xaxis\": {\"automargin\": true, \"gridcolor\": \"white\", \"linecolor\": \"white\", \"ticks\": \"\", \"title\": {\"standoff\": 15}, \"zerolinecolor\": \"white\", \"zerolinewidth\": 2}, \"yaxis\": {\"automargin\": true, \"gridcolor\": \"white\", \"linecolor\": \"white\", \"ticks\": \"\", \"title\": {\"standoff\": 15}, \"zerolinecolor\": \"white\", \"zerolinewidth\": 2}}}, \"title\": {\"text\": \"Occurance of research tag per month per phase sized by #Occurances\"}, \"xaxis\": {\"anchor\": \"y\", \"domain\": [0.0, 1.0], \"title\": {\"text\": \"publish_time\"}}, \"yaxis\": {\"anchor\": \"x\", \"domain\": [0.0, 1.0], \"title\": {\"text\": \"phase\"}}},\n",
       "                        {\"responsive\": true}\n",
       "                    ).then(function(){\n",
       "                            \n",
       "var gd = document.getElementById('5384e677-384b-43b7-ada8-4690a8e615fa');\n",
       "var x = new MutationObserver(function (mutations, observer) {{\n",
       "        var display = window.getComputedStyle(gd).display;\n",
       "        if (!display || display === 'none') {{\n",
       "            console.log([gd, 'removed!']);\n",
       "            Plotly.purge(gd);\n",
       "            observer.disconnect();\n",
       "        }}\n",
       "}});\n",
       "\n",
       "// Listen for the removal of the full notebook cells\n",
       "var notebookContainer = gd.closest('#notebook-container');\n",
       "if (notebookContainer) {{\n",
       "    x.observe(notebookContainer, {childList: true});\n",
       "}}\n",
       "\n",
       "// Listen for the clearing of the current output cell\n",
       "var outputEl = gd.closest('.output');\n",
       "if (outputEl) {{\n",
       "    x.observe(outputEl, {childList: true});\n",
       "}}\n",
       "\n",
       "                        })\n",
       "                };\n",
       "                });\n",
       "            </script>\n",
       "        </div>"
      ]
     },
     "metadata": {},
     "output_type": "display_data"
    }
   ],
   "source": [
    "fig = px.scatter(dummyDataHandler().get_pivot(), x=\"publish_time\", y=\"phase\",\n",
    "         size=\"count\", color=\"tag\",\n",
    "                 hover_name=\"tag\", hover_data=['count'], title='Occurance of research tag per month per phase sized by #Occurances')\n",
    "fig.show()"
   ]
  },
  {
   "cell_type": "code",
   "execution_count": null,
   "metadata": {},
   "outputs": [],
   "source": []
  }
 ],
 "metadata": {
  "kernelspec": {
   "display_name": "Python 3",
   "language": "python",
   "name": "python3"
  },
  "language_info": {
   "codemirror_mode": {
    "name": "ipython",
    "version": 3
   },
   "file_extension": ".py",
   "mimetype": "text/x-python",
   "name": "python",
   "nbconvert_exporter": "python",
   "pygments_lexer": "ipython3",
   "version": "3.8.1"
  }
 },
 "nbformat": 4,
 "nbformat_minor": 4
}
