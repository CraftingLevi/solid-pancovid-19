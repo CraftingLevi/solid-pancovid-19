{
 "cells": [
  {
   "cell_type": "markdown",
   "metadata": {
    "colab_type": "text",
    "id": "G2dH2XwjYLQf"
   },
   "source": [
    "# COVID19 Search Engine\n",
    "\n",
    "Our goal is to create a search engine that can aid people in finding information from all the papers available.\n",
    "\n",
    "## Preprocessing\n",
    "- remove stop words (\"the\", \"and\", \"a\", etc.)\n",
    "- stemming and lemmatization (remove \"-s\", \"-es\", \"-ing\", \"-ed\") \n",
    "- Manual pattern matching --> slow, but we can use it for exploring/validation\n",
    "\n",
    "## fast pattern matching a.\n",
    "1. represent all papers as bow with words + freq counts\n",
    "2. do pattern matching by looking for word in bow representations\n",
    "3. Once relevant papers are found --> use context (let go of bow) to get better results and extract sentences.\n",
    "\n",
    "## fast pattern matching b.\n",
    "1. express paper, abstract, paragraphs, sentences in word embeddings. (and save somewhere)\n",
    "2. express user input ass word embedding\n",
    "3. comute cosine similarity of user input and paper (sentences, paragraphs, full text (whatever works best))\n",
    "\n",
    "\n",
    "--> TF-IDF --> retreive pattern matches\n",
    "\n",
    "--> pattern matching is slow. Maybe we can make a cache somehow?\n",
    "\n",
    "--> we can use manual pattern matching as validation method\n"
   ]
  },
  {
   "cell_type": "code",
   "execution_count": 1,
   "metadata": {
    "colab": {},
    "colab_type": "code",
    "id": "PcgSvUJ8Ww1h"
   },
   "outputs": [],
   "source": [
    "# unpack data\n",
    "import os\n",
    "\n",
    "import zipfile\n",
    "#with zipfile.ZipFile('CORD-19-research-challenge.zip', 'r') as zip_ref:\n",
    "#    zip_ref.extractall('.')"
   ]
  },
  {
   "cell_type": "code",
   "execution_count": 2,
   "metadata": {
    "colab": {},
    "colab_type": "code",
    "id": "eRw57BYPU114"
   },
   "outputs": [],
   "source": [
    "# This Python 3 environment comes with many helpful analytics libraries installed\n",
    "# It is defined by the kaggle/python docker image: https://github.com/kaggle/docker-python\n",
    "# For example, here's several helpful packages to load in \n",
    "\n",
    "%matplotlib inline\n",
    "\n",
    "import matplotlib.pyplot as plt\n",
    "import spacy\n",
    "\n",
    "import glob, json, os\n",
    "\n",
    "import numpy as np # linear algebra\n",
    "import pandas as pd # data processing, CSV file I/O (e.g. pd.read_csv)\n",
    "\n",
    "# Input data files are available in the \"../input/\" directory.\n",
    "# For example, running this (by clicking run or pressing Shift+Enter) will list all files under the input directory\n",
    "\n",
    "# Any results you write to the current directory are saved as output."
   ]
  },
  {
   "cell_type": "code",
   "execution_count": 4,
   "metadata": {
    "colab": {
     "base_uri": "https://localhost:8080/",
     "height": 635
    },
    "colab_type": "code",
    "id": "NXykj7oGVgwG",
    "outputId": "8105f5ed-3ef0-42de-bd2d-65209c7b7d28"
   },
   "outputs": [
    {
     "data": {
      "text/html": [
       "<div>\n",
       "<style scoped>\n",
       "    .dataframe tbody tr th:only-of-type {\n",
       "        vertical-align: middle;\n",
       "    }\n",
       "\n",
       "    .dataframe tbody tr th {\n",
       "        vertical-align: top;\n",
       "    }\n",
       "\n",
       "    .dataframe thead th {\n",
       "        text-align: right;\n",
       "    }\n",
       "</style>\n",
       "<table border=\"1\" class=\"dataframe\">\n",
       "  <thead>\n",
       "    <tr style=\"text-align: right;\">\n",
       "      <th></th>\n",
       "      <th>sha</th>\n",
       "      <th>source_x</th>\n",
       "      <th>title</th>\n",
       "      <th>doi</th>\n",
       "      <th>pmcid</th>\n",
       "      <th>pubmed_id</th>\n",
       "      <th>license</th>\n",
       "      <th>abstract</th>\n",
       "      <th>publish_time</th>\n",
       "      <th>authors</th>\n",
       "      <th>journal</th>\n",
       "      <th>Microsoft Academic Paper ID</th>\n",
       "      <th>WHO #Covidence</th>\n",
       "      <th>has_full_text</th>\n",
       "      <th>full_text_file</th>\n",
       "    </tr>\n",
       "  </thead>\n",
       "  <tbody>\n",
       "    <tr>\n",
       "      <th>0</th>\n",
       "      <td>NaN</td>\n",
       "      <td>Elsevier</td>\n",
       "      <td>Intrauterine virus infections and congenital h...</td>\n",
       "      <td>10.1016/0002-8703(72)90077-4</td>\n",
       "      <td>NaN</td>\n",
       "      <td>4361535</td>\n",
       "      <td>els-covid</td>\n",
       "      <td>Abstract The etiologic basis for the vast majo...</td>\n",
       "      <td>1972-12-31</td>\n",
       "      <td>Overall, James C.</td>\n",
       "      <td>American Heart Journal</td>\n",
       "      <td>NaN</td>\n",
       "      <td>NaN</td>\n",
       "      <td>False</td>\n",
       "      <td>custom_license</td>\n",
       "    </tr>\n",
       "    <tr>\n",
       "      <th>1</th>\n",
       "      <td>NaN</td>\n",
       "      <td>Elsevier</td>\n",
       "      <td>Coronaviruses in Balkan nephritis</td>\n",
       "      <td>10.1016/0002-8703(80)90355-5</td>\n",
       "      <td>NaN</td>\n",
       "      <td>6243850</td>\n",
       "      <td>els-covid</td>\n",
       "      <td>NaN</td>\n",
       "      <td>1980-03-31</td>\n",
       "      <td>Georgescu, Leonida; Diosi, Peter; Buţiu, Ioan;...</td>\n",
       "      <td>American Heart Journal</td>\n",
       "      <td>NaN</td>\n",
       "      <td>NaN</td>\n",
       "      <td>False</td>\n",
       "      <td>custom_license</td>\n",
       "    </tr>\n",
       "    <tr>\n",
       "      <th>2</th>\n",
       "      <td>NaN</td>\n",
       "      <td>Elsevier</td>\n",
       "      <td>Cigarette smoking and coronary heart disease: ...</td>\n",
       "      <td>10.1016/0002-8703(80)90356-7</td>\n",
       "      <td>NaN</td>\n",
       "      <td>7355701</td>\n",
       "      <td>els-covid</td>\n",
       "      <td>NaN</td>\n",
       "      <td>1980-03-31</td>\n",
       "      <td>Friedman, Gary D</td>\n",
       "      <td>American Heart Journal</td>\n",
       "      <td>NaN</td>\n",
       "      <td>NaN</td>\n",
       "      <td>False</td>\n",
       "      <td>custom_license</td>\n",
       "    </tr>\n",
       "    <tr>\n",
       "      <th>3</th>\n",
       "      <td>aecbc613ebdab36753235197ffb4f35734b5ca63</td>\n",
       "      <td>Elsevier</td>\n",
       "      <td>Clinical and immunologic studies in identical ...</td>\n",
       "      <td>10.1016/0002-9343(73)90176-9</td>\n",
       "      <td>NaN</td>\n",
       "      <td>4579077</td>\n",
       "      <td>els-covid</td>\n",
       "      <td>Abstract Middle-aged female identical twins, o...</td>\n",
       "      <td>1973-08-31</td>\n",
       "      <td>Brunner, Carolyn M.; Horwitz, David A.; Shann,...</td>\n",
       "      <td>The American Journal of Medicine</td>\n",
       "      <td>NaN</td>\n",
       "      <td>NaN</td>\n",
       "      <td>True</td>\n",
       "      <td>custom_license</td>\n",
       "    </tr>\n",
       "    <tr>\n",
       "      <th>4</th>\n",
       "      <td>NaN</td>\n",
       "      <td>Elsevier</td>\n",
       "      <td>Epidemiology of community-acquired respiratory...</td>\n",
       "      <td>10.1016/0002-9343(85)90361-4</td>\n",
       "      <td>NaN</td>\n",
       "      <td>4014285</td>\n",
       "      <td>els-covid</td>\n",
       "      <td>Abstract Upper respiratory tract infections ar...</td>\n",
       "      <td>1985-06-28</td>\n",
       "      <td>Garibaldi, Richard A.</td>\n",
       "      <td>The American Journal of Medicine</td>\n",
       "      <td>NaN</td>\n",
       "      <td>NaN</td>\n",
       "      <td>False</td>\n",
       "      <td>custom_license</td>\n",
       "    </tr>\n",
       "  </tbody>\n",
       "</table>\n",
       "</div>"
      ],
      "text/plain": [
       "                                        sha  source_x  \\\n",
       "0                                       NaN  Elsevier   \n",
       "1                                       NaN  Elsevier   \n",
       "2                                       NaN  Elsevier   \n",
       "3  aecbc613ebdab36753235197ffb4f35734b5ca63  Elsevier   \n",
       "4                                       NaN  Elsevier   \n",
       "\n",
       "                                               title  \\\n",
       "0  Intrauterine virus infections and congenital h...   \n",
       "1                  Coronaviruses in Balkan nephritis   \n",
       "2  Cigarette smoking and coronary heart disease: ...   \n",
       "3  Clinical and immunologic studies in identical ...   \n",
       "4  Epidemiology of community-acquired respiratory...   \n",
       "\n",
       "                            doi pmcid pubmed_id    license  \\\n",
       "0  10.1016/0002-8703(72)90077-4   NaN   4361535  els-covid   \n",
       "1  10.1016/0002-8703(80)90355-5   NaN   6243850  els-covid   \n",
       "2  10.1016/0002-8703(80)90356-7   NaN   7355701  els-covid   \n",
       "3  10.1016/0002-9343(73)90176-9   NaN   4579077  els-covid   \n",
       "4  10.1016/0002-9343(85)90361-4   NaN   4014285  els-covid   \n",
       "\n",
       "                                            abstract publish_time  \\\n",
       "0  Abstract The etiologic basis for the vast majo...   1972-12-31   \n",
       "1                                                NaN   1980-03-31   \n",
       "2                                                NaN   1980-03-31   \n",
       "3  Abstract Middle-aged female identical twins, o...   1973-08-31   \n",
       "4  Abstract Upper respiratory tract infections ar...   1985-06-28   \n",
       "\n",
       "                                             authors  \\\n",
       "0                                  Overall, James C.   \n",
       "1  Georgescu, Leonida; Diosi, Peter; Buţiu, Ioan;...   \n",
       "2                                   Friedman, Gary D   \n",
       "3  Brunner, Carolyn M.; Horwitz, David A.; Shann,...   \n",
       "4                              Garibaldi, Richard A.   \n",
       "\n",
       "                            journal Microsoft Academic Paper ID  \\\n",
       "0            American Heart Journal                         NaN   \n",
       "1            American Heart Journal                         NaN   \n",
       "2            American Heart Journal                         NaN   \n",
       "3  The American Journal of Medicine                         NaN   \n",
       "4  The American Journal of Medicine                         NaN   \n",
       "\n",
       "  WHO #Covidence  has_full_text  full_text_file  \n",
       "0            NaN          False  custom_license  \n",
       "1            NaN          False  custom_license  \n",
       "2            NaN          False  custom_license  \n",
       "3            NaN           True  custom_license  \n",
       "4            NaN          False  custom_license  "
      ]
     },
     "execution_count": 4,
     "metadata": {},
     "output_type": "execute_result"
    }
   ],
   "source": [
    "root_path = '../../src/'\n",
    "metadata_path = f'{root_path}/metadata.csv'\n",
    "meta_df = pd.read_csv(metadata_path, dtype={\n",
    "    'pubmed_id': str,\n",
    "    'Microsoft Academic Paper ID': str, \n",
    "    'doi': str\n",
    "})\n",
    "meta_df.head()"
   ]
  },
  {
   "cell_type": "code",
   "execution_count": 5,
   "metadata": {
    "colab": {
     "base_uri": "https://localhost:8080/",
     "height": 34
    },
    "colab_type": "code",
    "id": "g75pbMhCVlHM",
    "outputId": "8ed76c50-d89e-4120-e435-da1733bb1ba8"
   },
   "outputs": [
    {
     "data": {
      "text/plain": [
       "29315"
      ]
     },
     "execution_count": 5,
     "metadata": {},
     "output_type": "execute_result"
    }
   ],
   "source": [
    "all_json = glob.glob(f'{root_path}/**/*.json', recursive=True)\n",
    "len(all_json)"
   ]
  },
  {
   "cell_type": "code",
   "execution_count": 6,
   "metadata": {
    "colab": {},
    "colab_type": "code",
    "id": "kl0LllIzVqUD"
   },
   "outputs": [],
   "source": [
    "class FileReader:\n",
    "    def __init__(self, file_path):\n",
    "        with open(file_path) as file:\n",
    "            content = json.load(file)\n",
    "            self.paper_id = content['paper_id']\n",
    "            self.abstract = []\n",
    "            self.body_text = []\n",
    "            # Abstract\n",
    "            for entry in content['abstract']:\n",
    "                self.abstract.append(entry['text'])\n",
    "            # Body text\n",
    "            for entry in content['body_text']:\n",
    "                self.body_text.append(entry['text'])\n",
    "            self.abstract = '\\n'.join(self.abstract)\n",
    "            self.body_text = '\\n'.join(self.body_text)\n",
    "    def __repr__(self):\n",
    "        return f'{self.paper_id}: {self.abstract[:200]}... {self.body_text[:200]}...'\n",
    "first_row = FileReader(all_json[0])"
   ]
  },
  {
   "cell_type": "code",
   "execution_count": 12,
   "metadata": {
    "colab": {
     "base_uri": "https://localhost:8080/",
     "height": 1000
    },
    "colab_type": "code",
    "id": "mEpXpUXkVwBT",
    "outputId": "8f394da2-c6da-4fa8-f34a-38f36c419faa"
   },
   "outputs": [
    {
     "name": "stderr",
     "output_type": "stream",
     "text": [
      " 34%|████████████▌                        | 9996/29315 [01:47<03:20, 96.46it/s]"
     ]
    },
    {
     "data": {
      "text/html": [
       "<div>\n",
       "<style scoped>\n",
       "    .dataframe tbody tr th:only-of-type {\n",
       "        vertical-align: middle;\n",
       "    }\n",
       "\n",
       "    .dataframe tbody tr th {\n",
       "        vertical-align: top;\n",
       "    }\n",
       "\n",
       "    .dataframe thead th {\n",
       "        text-align: right;\n",
       "    }\n",
       "</style>\n",
       "<table border=\"1\" class=\"dataframe\">\n",
       "  <thead>\n",
       "    <tr style=\"text-align: right;\">\n",
       "      <th></th>\n",
       "      <th>paper_id</th>\n",
       "      <th>abstract</th>\n",
       "      <th>body_text</th>\n",
       "      <th>authors</th>\n",
       "      <th>title</th>\n",
       "      <th>journal</th>\n",
       "    </tr>\n",
       "  </thead>\n",
       "  <tbody>\n",
       "    <tr>\n",
       "      <th>0</th>\n",
       "      <td>0015023cc06b5362d332b3baf348d11567ca2fbb</td>\n",
       "      <td>word count: 194 22 Text word count: 5168 23 24...</td>\n",
       "      <td>VP3, and VP0 (which is further processed to VP...</td>\n",
       "      <td>Ward, J. C. J.; Lasecka-Dykes, L.; Neil, C.; A...</td>\n",
       "      <td>The RNA pseudoknots in foot-and-mouth disease ...</td>\n",
       "      <td>NaN</td>\n",
       "    </tr>\n",
       "    <tr>\n",
       "      <th>1</th>\n",
       "      <td>004f0f8bb66cf446678dc13cf2701feec4f36d76</td>\n",
       "      <td></td>\n",
       "      <td>The 2019-nCoV epidemic has spread across China...</td>\n",
       "      <td>Hanchu Zhou; Jianan Yang; Kaichen Tang; Qingpe...</td>\n",
       "      <td>Healthcare-resource-adjusted vulnerabilities t...</td>\n",
       "      <td>NaN</td>\n",
       "    </tr>\n",
       "    <tr>\n",
       "      <th>2</th>\n",
       "      <td>00d16927588fb04d4be0e6b269fc02f0d3c2aa7b</td>\n",
       "      <td>Infectious bronchitis (IB) causes significant ...</td>\n",
       "      <td>Infectious bronchitis (IB), which is caused by...</td>\n",
       "      <td>Butt, S. L.; Erwood, E. C.; Zhang, J.; Sellers...</td>\n",
       "      <td>Real-time, MinION-based, amplicon sequencing f...</td>\n",
       "      <td>NaN</td>\n",
       "    </tr>\n",
       "    <tr>\n",
       "      <th>3</th>\n",
       "      <td>0139ea4ca580af99b602c6435368e7fdbefacb03</td>\n",
       "      <td>Nipah Virus (NiV) came into limelight recently...</td>\n",
       "      <td>Nipah is an infectious negative-sense single-s...</td>\n",
       "      <td>Nishi Kumari; Ayush Upadhyay; Kishan Kalia; Ra...</td>\n",
       "      <td>A Combined Evidence Approach to Prioritize Nip...</td>\n",
       "      <td>NaN</td>\n",
       "    </tr>\n",
       "    <tr>\n",
       "      <th>4</th>\n",
       "      <td>013d9d1cba8a54d5d3718c229b812d7cf91b6c89</td>\n",
       "      <td>Background: A novel coronavirus (2019-nCoV) em...</td>\n",
       "      <td>In December 2019, a cluster of patients with p...</td>\n",
       "      <td>Shengjie Lai; Isaac Bogoch; Nick Ruktanonchai;...</td>\n",
       "      <td>Assessing spread risk of Wuhan novel coronavir...</td>\n",
       "      <td>NaN</td>\n",
       "    </tr>\n",
       "  </tbody>\n",
       "</table>\n",
       "</div>"
      ],
      "text/plain": [
       "                                   paper_id  \\\n",
       "0  0015023cc06b5362d332b3baf348d11567ca2fbb   \n",
       "1  004f0f8bb66cf446678dc13cf2701feec4f36d76   \n",
       "2  00d16927588fb04d4be0e6b269fc02f0d3c2aa7b   \n",
       "3  0139ea4ca580af99b602c6435368e7fdbefacb03   \n",
       "4  013d9d1cba8a54d5d3718c229b812d7cf91b6c89   \n",
       "\n",
       "                                            abstract  \\\n",
       "0  word count: 194 22 Text word count: 5168 23 24...   \n",
       "1                                                      \n",
       "2  Infectious bronchitis (IB) causes significant ...   \n",
       "3  Nipah Virus (NiV) came into limelight recently...   \n",
       "4  Background: A novel coronavirus (2019-nCoV) em...   \n",
       "\n",
       "                                           body_text  \\\n",
       "0  VP3, and VP0 (which is further processed to VP...   \n",
       "1  The 2019-nCoV epidemic has spread across China...   \n",
       "2  Infectious bronchitis (IB), which is caused by...   \n",
       "3  Nipah is an infectious negative-sense single-s...   \n",
       "4  In December 2019, a cluster of patients with p...   \n",
       "\n",
       "                                             authors  \\\n",
       "0  Ward, J. C. J.; Lasecka-Dykes, L.; Neil, C.; A...   \n",
       "1  Hanchu Zhou; Jianan Yang; Kaichen Tang; Qingpe...   \n",
       "2  Butt, S. L.; Erwood, E. C.; Zhang, J.; Sellers...   \n",
       "3  Nishi Kumari; Ayush Upadhyay; Kishan Kalia; Ra...   \n",
       "4  Shengjie Lai; Isaac Bogoch; Nick Ruktanonchai;...   \n",
       "\n",
       "                                               title journal  \n",
       "0  The RNA pseudoknots in foot-and-mouth disease ...     NaN  \n",
       "1  Healthcare-resource-adjusted vulnerabilities t...     NaN  \n",
       "2  Real-time, MinION-based, amplicon sequencing f...     NaN  \n",
       "3  A Combined Evidence Approach to Prioritize Nip...     NaN  \n",
       "4  Assessing spread risk of Wuhan novel coronavir...     NaN  "
      ]
     },
     "execution_count": 12,
     "metadata": {},
     "output_type": "execute_result"
    },
    {
     "name": "stderr",
     "output_type": "stream",
     "text": [
      "\r",
      " 34%|████████████▌                        | 9996/29315 [02:00<03:20, 96.46it/s]"
     ]
    }
   ],
   "source": [
    "from tqdm import tqdm\n",
    "dict_ = {'paper_id': [], 'abstract': [], 'body_text': [], 'authors': [], 'title': [], 'journal': []}\n",
    "for idx, entry in tqdm(enumerate(all_json), total=len(all_json)):\n",
    "    if idx == 10000:\n",
    "        break\n",
    "    \n",
    "    content = FileReader(entry)\n",
    "    \n",
    "    # get metadata information\n",
    "    meta_data = meta_df.loc[meta_df['sha'] == content.paper_id]\n",
    "    # no metadata, skip this paper\n",
    "    if len(meta_data) == 0:\n",
    "        continue\n",
    "    \n",
    "    dict_['paper_id'].append(content.paper_id)\n",
    "    dict_['abstract'].append(content.abstract)\n",
    "    dict_['body_text'].append(content.body_text)\n",
    "        \n",
    "    # get metadata information\n",
    "    meta_data = meta_df.loc[meta_df['sha'] == content.paper_id]\n",
    "\n",
    "    # if only one author - or Null valie\n",
    "    dict_['authors'].append(meta_data['authors'].values[0])\n",
    "    \n",
    "    dict_['title'].append(str(meta_data['title'])[9:-27])\n",
    "    \n",
    "    # add the journal information\n",
    "    dict_['journal'].append(meta_data['journal'].values[0])\n",
    "    \n",
    "df_covid = pd.DataFrame(dict_, columns=['paper_id', 'abstract', 'body_text', 'authors', 'title', 'journal'])\n",
    "df_covid.head()"
   ]
  },
  {
   "cell_type": "markdown",
   "metadata": {
    "colab_type": "text",
    "id": "gpdw7pA1miNe"
   },
   "source": [
    "# Pattern matching\n",
    "Print papers that contain the word transmission, incubation or covid-19."
   ]
  },
  {
   "cell_type": "code",
   "execution_count": 14,
   "metadata": {},
   "outputs": [
    {
     "ename": "AttributeError",
     "evalue": "'DataFrame' object has no attribute 'str'",
     "output_type": "error",
     "traceback": [
      "\u001b[1;31m---------------------------------------------------------------------------\u001b[0m",
      "\u001b[1;31mAttributeError\u001b[0m                            Traceback (most recent call last)",
      "\u001b[1;32m<ipython-input-14-c75f907e4f9a>\u001b[0m in \u001b[0;36m<module>\u001b[1;34m\u001b[0m\n\u001b[0;32m      1\u001b[0m \u001b[1;32mimport\u001b[0m \u001b[0mre\u001b[0m\u001b[1;33m\u001b[0m\u001b[1;33m\u001b[0m\u001b[0m\n\u001b[0;32m      2\u001b[0m \u001b[0mterms\u001b[0m \u001b[1;33m=\u001b[0m \u001b[1;33m[\u001b[0m\u001b[1;34m'transmission'\u001b[0m\u001b[1;33m,\u001b[0m \u001b[1;34m'incubation'\u001b[0m\u001b[1;33m,\u001b[0m \u001b[1;34m'covid-19'\u001b[0m\u001b[1;33m]\u001b[0m\u001b[1;33m\u001b[0m\u001b[1;33m\u001b[0m\u001b[0m\n\u001b[1;32m----> 3\u001b[1;33m \u001b[0mdf_covid\u001b[0m\u001b[1;33m[\u001b[0m\u001b[0mdf_covid\u001b[0m\u001b[1;33m.\u001b[0m\u001b[0mstr\u001b[0m\u001b[1;33m.\u001b[0m\u001b[0mcontains\u001b[0m\u001b[1;33m(\u001b[0m\u001b[0mterms\u001b[0m\u001b[1;33m)\u001b[0m\u001b[1;33m]\u001b[0m\u001b[1;33m\u001b[0m\u001b[1;33m\u001b[0m\u001b[0m\n\u001b[0m",
      "\u001b[1;32mc:\\python_envs\\covid19\\lib\\site-packages\\pandas\\core\\generic.py\u001b[0m in \u001b[0;36m__getattr__\u001b[1;34m(self, name)\u001b[0m\n\u001b[0;32m   5272\u001b[0m             \u001b[1;32mif\u001b[0m \u001b[0mself\u001b[0m\u001b[1;33m.\u001b[0m\u001b[0m_info_axis\u001b[0m\u001b[1;33m.\u001b[0m\u001b[0m_can_hold_identifiers_and_holds_name\u001b[0m\u001b[1;33m(\u001b[0m\u001b[0mname\u001b[0m\u001b[1;33m)\u001b[0m\u001b[1;33m:\u001b[0m\u001b[1;33m\u001b[0m\u001b[1;33m\u001b[0m\u001b[0m\n\u001b[0;32m   5273\u001b[0m                 \u001b[1;32mreturn\u001b[0m \u001b[0mself\u001b[0m\u001b[1;33m[\u001b[0m\u001b[0mname\u001b[0m\u001b[1;33m]\u001b[0m\u001b[1;33m\u001b[0m\u001b[1;33m\u001b[0m\u001b[0m\n\u001b[1;32m-> 5274\u001b[1;33m             \u001b[1;32mreturn\u001b[0m \u001b[0mobject\u001b[0m\u001b[1;33m.\u001b[0m\u001b[0m__getattribute__\u001b[0m\u001b[1;33m(\u001b[0m\u001b[0mself\u001b[0m\u001b[1;33m,\u001b[0m \u001b[0mname\u001b[0m\u001b[1;33m)\u001b[0m\u001b[1;33m\u001b[0m\u001b[1;33m\u001b[0m\u001b[0m\n\u001b[0m\u001b[0;32m   5275\u001b[0m \u001b[1;33m\u001b[0m\u001b[0m\n\u001b[0;32m   5276\u001b[0m     \u001b[1;32mdef\u001b[0m \u001b[0m__setattr__\u001b[0m\u001b[1;33m(\u001b[0m\u001b[0mself\u001b[0m\u001b[1;33m,\u001b[0m \u001b[0mname\u001b[0m\u001b[1;33m:\u001b[0m \u001b[0mstr\u001b[0m\u001b[1;33m,\u001b[0m \u001b[0mvalue\u001b[0m\u001b[1;33m)\u001b[0m \u001b[1;33m->\u001b[0m \u001b[1;32mNone\u001b[0m\u001b[1;33m:\u001b[0m\u001b[1;33m\u001b[0m\u001b[1;33m\u001b[0m\u001b[0m\n",
      "\u001b[1;31mAttributeError\u001b[0m: 'DataFrame' object has no attribute 'str'"
     ]
    }
   ],
   "source": [
    "import re\n",
    "terms = ['transmission', 'incubation', 'covid-19']\n",
    "df_covid[df_covid.str.contains(terms)]"
   ]
  },
  {
   "cell_type": "raw",
   "metadata": {
    "colab": {},
    "colab_type": "code",
    "id": "D4WTQ-WcVzSh"
   },
   "source": [
    "terms = ['transmission','incubation','covid-19']\n",
    "\n",
    "t_found = np.zeros((len(df_covid),len(terms)))\n",
    "\n",
    "nlp = spacy.load('en')\n",
    "nlp.max_length = 1000000\n",
    "\n",
    "patterns = [nlp(text) for text in terms]\n",
    "\n",
    "for i,text in enumerate(df_covid['abstract']):\n",
    "    doc = nlp(text)\n",
    "    matcher = PhraseMatcher(nlp.vocab, attr='LOWER')\n",
    "    matcher.add(\"TerminologyList\", None, *patterns)\n",
    "    matches = matcher(doc)\n",
    "    if len(matches)>0:\n",
    "        for match in matches:\n",
    "            word = str(doc[match[1]:match[2]]).lower()\n",
    "            t_found[i,terms.index(word)] = 1"
   ]
  },
  {
   "cell_type": "code",
   "execution_count": 0,
   "metadata": {
    "colab": {
     "base_uri": "https://localhost:8080/",
     "height": 570
    },
    "colab_type": "code",
    "id": "gK8shTnRV3FJ",
    "outputId": "d9af560e-d584-4305-e592-b7ccbc20b2aa"
   },
   "outputs": [
    {
     "data": {
      "text/html": [
       "<div>\n",
       "<style scoped>\n",
       "    .dataframe tbody tr th:only-of-type {\n",
       "        vertical-align: middle;\n",
       "    }\n",
       "\n",
       "    .dataframe tbody tr th {\n",
       "        vertical-align: top;\n",
       "    }\n",
       "\n",
       "    .dataframe thead th {\n",
       "        text-align: right;\n",
       "    }\n",
       "</style>\n",
       "<table border=\"1\" class=\"dataframe\">\n",
       "  <thead>\n",
       "    <tr style=\"text-align: right;\">\n",
       "      <th></th>\n",
       "      <th>title</th>\n",
       "      <th>authors</th>\n",
       "    </tr>\n",
       "  </thead>\n",
       "  <tbody>\n",
       "    <tr>\n",
       "      <th>2</th>\n",
       "      <td>Caution: The clinical characteristics of COVID...</td>\n",
       "      <td>Zhaowei Chen; Jijia Hu; Zongwei Zhang; Shan Jiang; Tao Wang; Zhengli Shi; Zhan Zhang</td>\n",
       "    </tr>\n",
       "    <tr>\n",
       "      <th>5</th>\n",
       "      <td>Imaging Striatal Dopamine Release Using a Non-...</td>\n",
       "      <td>Beyene, A. G.; Delevich, K.; Del Bonis ODonnell, J. T.; Piekarski, D. J.; Lin, W. C.; Thomas, A. W.; Yang, S. J.; Kosillo, P.; Yang, D.; Wilbrecht, L.; Landry, M. P.</td>\n",
       "    </tr>\n",
       "    <tr>\n",
       "      <th>6</th>\n",
       "      <td>Quantifying transmission of emerging zoonoses:...</td>\n",
       "      <td>Ambrose, M.; Kucharski, A. J.; Formenty, P.; Muyembe-Tamfum, J.-J.; Rimoin, A. W.; Lloyd-Smith, J. O.</td>\n",
       "    </tr>\n",
       "    <tr>\n",
       "      <th>9</th>\n",
       "      <td>Risk estimation and prediction by modeling the...</td>\n",
       "      <td>Hui Wan; Jing-an Cui; Guo-Jing Yang</td>\n",
       "    </tr>\n",
       "    <tr>\n",
       "      <th>10</th>\n",
       "      <td>DEN-IM: Dengue Virus identification from shotg...</td>\n",
       "      <td>Mendes, C. I.; Lizarazo, E.; Machado, M. P.; Silva, D. N.; Tami, A.; Ramirez, M.; Couto, N.; Rossen, J. W. A.; Carrico, J. A.</td>\n",
       "    </tr>\n",
       "    <tr>\n",
       "      <th>...</th>\n",
       "      <td>...</td>\n",
       "      <td>...</td>\n",
       "    </tr>\n",
       "    <tr>\n",
       "      <th>9715</th>\n",
       "      <td>Probable Secondary Infections in Households of...</td>\n",
       "      <td>Lau, Joseph T.F.; Lau, Mason; Kim, Jean H.; Wong, Eric; Tsui, Hi-Yi; Tsang, Thomas; Wong, Tze Wai</td>\n",
       "    </tr>\n",
       "    <tr>\n",
       "      <th>9721</th>\n",
       "      <td>Assessing hospital emergency management plans:...</td>\n",
       "      <td>Rebmann, Terri</td>\n",
       "    </tr>\n",
       "    <tr>\n",
       "      <th>9753</th>\n",
       "      <td>Detecting a trend change in cross-border epide...</td>\n",
       "      <td>Maeno, Yoshiharu</td>\n",
       "    </tr>\n",
       "    <tr>\n",
       "      <th>9776</th>\n",
       "      <td>Evaluation of Ultra-Microscopic Changes and Pr...</td>\n",
       "      <td>Ali-Saeed, Rola; Alabsi, Aied M; Ideris, Aini; Omar, Abdul Rahman; Yusoff, Khatijah; Ali, Abdul Manaf</td>\n",
       "    </tr>\n",
       "    <tr>\n",
       "      <th>9781</th>\n",
       "      <td>Need for integrative thinking to fight against...</td>\n",
       "      <td>Burdet, C.; Guégan, J.-F.; Duval, X.; Le Tyrant, M.; Bergeron, H.; Manuguerra, J.-C.; Raude, J.; Leport, C.; Zylberman, P.</td>\n",
       "    </tr>\n",
       "  </tbody>\n",
       "</table>\n",
       "<p>542 rows × 2 columns</p>\n",
       "</div>"
      ],
      "text/plain": [
       "                                                  title                                                                                                                                                                authors\n",
       "2     Caution: The clinical characteristics of COVID...                                                                                   Zhaowei Chen; Jijia Hu; Zongwei Zhang; Shan Jiang; Tao Wang; Zhengli Shi; Zhan Zhang\n",
       "5     Imaging Striatal Dopamine Release Using a Non-...  Beyene, A. G.; Delevich, K.; Del Bonis ODonnell, J. T.; Piekarski, D. J.; Lin, W. C.; Thomas, A. W.; Yang, S. J.; Kosillo, P.; Yang, D.; Wilbrecht, L.; Landry, M. P.\n",
       "6     Quantifying transmission of emerging zoonoses:...                                                                  Ambrose, M.; Kucharski, A. J.; Formenty, P.; Muyembe-Tamfum, J.-J.; Rimoin, A. W.; Lloyd-Smith, J. O.\n",
       "9     Risk estimation and prediction by modeling the...                                                                                                                                    Hui Wan; Jing-an Cui; Guo-Jing Yang\n",
       "10    DEN-IM: Dengue Virus identification from shotg...                                          Mendes, C. I.; Lizarazo, E.; Machado, M. P.; Silva, D. N.; Tami, A.; Ramirez, M.; Couto, N.; Rossen, J. W. A.; Carrico, J. A.\n",
       "...                                                 ...                                                                                                                                                                    ...\n",
       "9715  Probable Secondary Infections in Households of...                                                                      Lau, Joseph T.F.; Lau, Mason; Kim, Jean H.; Wong, Eric; Tsui, Hi-Yi; Tsang, Thomas; Wong, Tze Wai\n",
       "9721  Assessing hospital emergency management plans:...                                                                                                                                                         Rebmann, Terri\n",
       "9753  Detecting a trend change in cross-border epide...                                                                                                                                                       Maeno, Yoshiharu\n",
       "9776  Evaluation of Ultra-Microscopic Changes and Pr...                                                                  Ali-Saeed, Rola; Alabsi, Aied M; Ideris, Aini; Omar, Abdul Rahman; Yusoff, Khatijah; Ali, Abdul Manaf\n",
       "9781  Need for integrative thinking to fight against...                                             Burdet, C.; Guégan, J.-F.; Duval, X.; Le Tyrant, M.; Bergeron, H.; Manuguerra, J.-C.; Raude, J.; Leport, C.; Zylberman, P.\n",
       "\n",
       "[542 rows x 2 columns]"
      ]
     },
     "execution_count": 21,
     "metadata": {
      "tags": []
     },
     "output_type": "execute_result"
    }
   ],
   "source": [
    "pd.options.display.max_colwidth = 300\n",
    "\n",
    "print('papers containing ')\n",
    "df_covid[(t_found[:,0]==1)][['title','authors']]"
   ]
  },
  {
   "cell_type": "code",
   "execution_count": 0,
   "metadata": {
    "colab": {
     "base_uri": "https://localhost:8080/",
     "height": 754
    },
    "colab_type": "code",
    "id": "ZNNeOrHyV5SU",
    "outputId": "c1287d88-b3c4-48c9-a289-bfda0881c51c"
   },
   "outputs": [
    {
     "data": {
      "text/html": [
       "<div>\n",
       "<style scoped>\n",
       "    .dataframe tbody tr th:only-of-type {\n",
       "        vertical-align: middle;\n",
       "    }\n",
       "\n",
       "    .dataframe tbody tr th {\n",
       "        vertical-align: top;\n",
       "    }\n",
       "\n",
       "    .dataframe thead th {\n",
       "        text-align: right;\n",
       "    }\n",
       "</style>\n",
       "<table border=\"1\" class=\"dataframe\">\n",
       "  <thead>\n",
       "    <tr style=\"text-align: right;\">\n",
       "      <th></th>\n",
       "      <th>title</th>\n",
       "      <th>authors</th>\n",
       "    </tr>\n",
       "  </thead>\n",
       "  <tbody>\n",
       "    <tr>\n",
       "      <th>31</th>\n",
       "      <td>Transmission interval estimates suggest pre-sy...</td>\n",
       "      <td>Lauren Tindale; Michelle Coombe; Jessica E Stockdale; Emma Garlock; Wing Yin Venus Lau; Manu Saraswat; Yen-Hsiang Brian Lee; Louxin Zhang; Dongxuan Chen; Jacco Wallinga; Caroline Colijn</td>\n",
       "    </tr>\n",
       "    <tr>\n",
       "      <th>49</th>\n",
       "      <td>Mapping a viral phylogeny onto outbreak trees ...</td>\n",
       "      <td>Stephen P Velsko;Jonathan E Allen;</td>\n",
       "    </tr>\n",
       "    <tr>\n",
       "      <th>61</th>\n",
       "      <td>A Generalized Discrete Dynamic Model for Human...</td>\n",
       "      <td>Zhang, W.; Chen, Z.; Lu, Y.; Guo, Z.; Qi, Y.; Wang, G.; Lu, J.</td>\n",
       "    </tr>\n",
       "    <tr>\n",
       "      <th>63</th>\n",
       "      <td>The Viral Protein Corona Directs Viral Pathoge...</td>\n",
       "      <td>Ezzat, K.; Pernemalm, M.; Palsson, S.; Roberts, T. C.; Jarver, P.; Dondalska, A.; Bestas, B.; Sobkowiak, M. J.; Levanen, B.; Skold, M.; Thompson, E. A.; Saher, O.; Kari, O. K.; Lajunen, T.; Sverremark Ekstrom, E.; Nilsson, C.; Ishchenko, Y.; Malm, T.; Wood, M. J. A.; Power, U. F.; Masich, S.; Li...</td>\n",
       "    </tr>\n",
       "    <tr>\n",
       "      <th>67</th>\n",
       "      <td>Epidemiological and clinical features of COVID...</td>\n",
       "      <td>Penghui Yang; Yibo Ding; Zhe Xu; Rui Pu; Ping Li; Jin Yan; Jiluo Liu; Fanping Meng; Lei Huang; Lei Shi; Tianjun Jiang; Enqiang Qin; Min Zhao; Dawei Zhang; Peng Zhao; Lingxiang Yu; Zhaohai Wang; Zhixian Hong; Zhaohui Xiao; Qing Xi; Dexi Zhao; Peng Yu; Caizhong Zhu; Zhu Chen; Shaogeng Zhang; Junsh...</td>\n",
       "    </tr>\n",
       "    <tr>\n",
       "      <th>...</th>\n",
       "      <td>...</td>\n",
       "      <td>...</td>\n",
       "    </tr>\n",
       "    <tr>\n",
       "      <th>8688</th>\n",
       "      <td>DGHM 2011</td>\n",
       "      <td>NaN</td>\n",
       "    </tr>\n",
       "    <tr>\n",
       "      <th>8781</th>\n",
       "      <td>election of staphylococcal enterotoxin B (SEB...</td>\n",
       "      <td>Soykut, Esra Acar; Dudak, Fahriye Ceyda; Boyacı, İsmail Hakkı</td>\n",
       "    </tr>\n",
       "    <tr>\n",
       "      <th>8807</th>\n",
       "      <td>lapsing subacute demyelinating encephalomyel...</td>\n",
       "      <td>Wege, Helmut; Watanabe, Rihito; ter Meulen, Volker</td>\n",
       "    </tr>\n",
       "    <tr>\n",
       "      <th>9135</th>\n",
       "      <td>High fatality rates and associated factors in ...</td>\n",
       "      <td>Nam, Hae-Sung; Park, Jung Wan; Ki, Moran; Yeon, Mi-Yeon; Kim, Jin; Kim, Seung Woo</td>\n",
       "    </tr>\n",
       "    <tr>\n",
       "      <th>9405</th>\n",
       "      <td>Clinical implication of radiographic scores in...</td>\n",
       "      <td>Cha, Min Jae; Chung, Myung Jin; Kim, Kyunga; Lee, Kyung Soo; Kim, Tae Jung; Kim, Tae Sung</td>\n",
       "    </tr>\n",
       "  </tbody>\n",
       "</table>\n",
       "<p>85 rows × 2 columns</p>\n",
       "</div>"
      ],
      "text/plain": [
       "                                                  title                                                                                                                                                                                                                                                                                                      authors\n",
       "31    Transmission interval estimates suggest pre-sy...                                                                                                                    Lauren Tindale; Michelle Coombe; Jessica E Stockdale; Emma Garlock; Wing Yin Venus Lau; Manu Saraswat; Yen-Hsiang Brian Lee; Louxin Zhang; Dongxuan Chen; Jacco Wallinga; Caroline Colijn\n",
       "49    Mapping a viral phylogeny onto outbreak trees ...                                                                                                                                                                                                                                                                           Stephen P Velsko;Jonathan E Allen;\n",
       "61    A Generalized Discrete Dynamic Model for Human...                                                                                                                                                                                                                                               Zhang, W.; Chen, Z.; Lu, Y.; Guo, Z.; Qi, Y.; Wang, G.; Lu, J.\n",
       "63    The Viral Protein Corona Directs Viral Pathoge...  Ezzat, K.; Pernemalm, M.; Palsson, S.; Roberts, T. C.; Jarver, P.; Dondalska, A.; Bestas, B.; Sobkowiak, M. J.; Levanen, B.; Skold, M.; Thompson, E. A.; Saher, O.; Kari, O. K.; Lajunen, T.; Sverremark Ekstrom, E.; Nilsson, C.; Ishchenko, Y.; Malm, T.; Wood, M. J. A.; Power, U. F.; Masich, S.; Li...\n",
       "67    Epidemiological and clinical features of COVID...  Penghui Yang; Yibo Ding; Zhe Xu; Rui Pu; Ping Li; Jin Yan; Jiluo Liu; Fanping Meng; Lei Huang; Lei Shi; Tianjun Jiang; Enqiang Qin; Min Zhao; Dawei Zhang; Peng Zhao; Lingxiang Yu; Zhaohai Wang; Zhixian Hong; Zhaohui Xiao; Qing Xi; Dexi Zhao; Peng Yu; Caizhong Zhu; Zhu Chen; Shaogeng Zhang; Junsh...\n",
       "...                                                 ...                                                                                                                                                                                                                                                                                                          ...\n",
       "8688                                          DGHM 2011                                                                                                                                                                                                                                                                                                          NaN\n",
       "8781   election of staphylococcal enterotoxin B (SEB...                                                                                                                                                                                                                                                Soykut, Esra Acar; Dudak, Fahriye Ceyda; Boyacı, İsmail Hakkı\n",
       "8807    lapsing subacute demyelinating encephalomyel...                                                                                                                                                                                                                                                           Wege, Helmut; Watanabe, Rihito; ter Meulen, Volker\n",
       "9135  High fatality rates and associated factors in ...                                                                                                                                                                                                                            Nam, Hae-Sung; Park, Jung Wan; Ki, Moran; Yeon, Mi-Yeon; Kim, Jin; Kim, Seung Woo\n",
       "9405  Clinical implication of radiographic scores in...                                                                                                                                                                                                                    Cha, Min Jae; Chung, Myung Jin; Kim, Kyunga; Lee, Kyung Soo; Kim, Tae Jung; Kim, Tae Sung\n",
       "\n",
       "[85 rows x 2 columns]"
      ]
     },
     "execution_count": 22,
     "metadata": {
      "tags": []
     },
     "output_type": "execute_result"
    }
   ],
   "source": [
    "df_covid[(t_found[:,1]==1)][['title','authors']]"
   ]
  },
  {
   "cell_type": "code",
   "execution_count": 0,
   "metadata": {
    "colab": {
     "base_uri": "https://localhost:8080/",
     "height": 855
    },
    "colab_type": "code",
    "id": "OxOJy1e8V7JL",
    "outputId": "db9a8749-5fa8-40e1-ad98-eb67036e8e91"
   },
   "outputs": [
    {
     "data": {
      "text/html": [
       "<div>\n",
       "<style scoped>\n",
       "    .dataframe tbody tr th:only-of-type {\n",
       "        vertical-align: middle;\n",
       "    }\n",
       "\n",
       "    .dataframe tbody tr th {\n",
       "        vertical-align: top;\n",
       "    }\n",
       "\n",
       "    .dataframe thead th {\n",
       "        text-align: right;\n",
       "    }\n",
       "</style>\n",
       "<table border=\"1\" class=\"dataframe\">\n",
       "  <thead>\n",
       "    <tr style=\"text-align: right;\">\n",
       "      <th></th>\n",
       "      <th>title</th>\n",
       "      <th>authors</th>\n",
       "    </tr>\n",
       "  </thead>\n",
       "  <tbody>\n",
       "    <tr>\n",
       "      <th>2</th>\n",
       "      <td>Caution: The clinical characteristics of COVID...</td>\n",
       "      <td>Zhaowei Chen; Jijia Hu; Zongwei Zhang; Shan Jiang; Tao Wang; Zhengli Shi; Zhan Zhang</td>\n",
       "    </tr>\n",
       "    <tr>\n",
       "      <th>9</th>\n",
       "      <td>Risk estimation and prediction by modeling the...</td>\n",
       "      <td>Hui Wan; Jing-an Cui; Guo-Jing Yang</td>\n",
       "    </tr>\n",
       "    <tr>\n",
       "      <th>22</th>\n",
       "      <td>Prediction of the COVID-19 outbreak based on a...</td>\n",
       "      <td>Yuan Zhang; Chong You; Zhenghao Cai; Jiarui Sun; Wenjie Hu; Xiao-Hua Zhou</td>\n",
       "    </tr>\n",
       "    <tr>\n",
       "      <th>31</th>\n",
       "      <td>Transmission interval estimates suggest pre-sy...</td>\n",
       "      <td>Lauren Tindale; Michelle Coombe; Jessica E Stockdale; Emma Garlock; Wing Yin Venus Lau; Manu Saraswat; Yen-Hsiang Brian Lee; Louxin Zhang; Dongxuan Chen; Jacco Wallinga; Caroline Colijn</td>\n",
       "    </tr>\n",
       "    <tr>\n",
       "      <th>70</th>\n",
       "      <td>A spatial model of CoVID-19 transmission in En...</td>\n",
       "      <td>Leon Danon; Ellen Brooks-Pollock; Mick Bailey; Matt J Keeling</td>\n",
       "    </tr>\n",
       "    <tr>\n",
       "      <th>...</th>\n",
       "      <td>...</td>\n",
       "      <td>...</td>\n",
       "    </tr>\n",
       "    <tr>\n",
       "      <th>7067</th>\n",
       "      <td>écanismes d’émergence virale et transmission ...</td>\n",
       "      <td>Gessain, Antoine</td>\n",
       "    </tr>\n",
       "    <tr>\n",
       "      <th>7686</th>\n",
       "      <td>Can we contain the COVID-19 outbreak with the ...</td>\n",
       "      <td>Wilder-Smith, Annelies; Chiew, Calvin J; Lee, Vernon J</td>\n",
       "    </tr>\n",
       "    <tr>\n",
       "      <th>7725</th>\n",
       "      <td>Inactivation photochimique des pathogènes des ...</td>\n",
       "      <td>Cazenave, J.-P.</td>\n",
       "    </tr>\n",
       "    <tr>\n",
       "      <th>9301</th>\n",
       "      <td>Early dynamics of transmission and control of ...</td>\n",
       "      <td>Kucharski, Adam J; Russell, Timothy W; Diamond, Charlie; Liu, Yang; Edmunds, John; Funk, Sebastian; Eggo, Rosalind M; Sun, Fiona; Jit, Mark; Munday, James D; Davies, Nicholas; Gimma, Amy; van Zandvoort, Kevin; Gibbs, Hamish; Hellewell, Joel; Jarvis, Christopher I; Clifford, Sam; Quilty, Billy J;...</td>\n",
       "    </tr>\n",
       "    <tr>\n",
       "      <th>9781</th>\n",
       "      <td>Need for integrative thinking to fight against...</td>\n",
       "      <td>Burdet, C.; Guégan, J.-F.; Duval, X.; Le Tyrant, M.; Bergeron, H.; Manuguerra, J.-C.; Raude, J.; Leport, C.; Zylberman, P.</td>\n",
       "    </tr>\n",
       "  </tbody>\n",
       "</table>\n",
       "<p>64 rows × 2 columns</p>\n",
       "</div>"
      ],
      "text/plain": [
       "                                                  title                                                                                                                                                                                                                                                                                                      authors\n",
       "2     Caution: The clinical characteristics of COVID...                                                                                                                                                                                                                         Zhaowei Chen; Jijia Hu; Zongwei Zhang; Shan Jiang; Tao Wang; Zhengli Shi; Zhan Zhang\n",
       "9     Risk estimation and prediction by modeling the...                                                                                                                                                                                                                                                                          Hui Wan; Jing-an Cui; Guo-Jing Yang\n",
       "22    Prediction of the COVID-19 outbreak based on a...                                                                                                                                                                                                                                    Yuan Zhang; Chong You; Zhenghao Cai; Jiarui Sun; Wenjie Hu; Xiao-Hua Zhou\n",
       "31    Transmission interval estimates suggest pre-sy...                                                                                                                    Lauren Tindale; Michelle Coombe; Jessica E Stockdale; Emma Garlock; Wing Yin Venus Lau; Manu Saraswat; Yen-Hsiang Brian Lee; Louxin Zhang; Dongxuan Chen; Jacco Wallinga; Caroline Colijn\n",
       "70    A spatial model of CoVID-19 transmission in En...                                                                                                                                                                                                                                                Leon Danon; Ellen Brooks-Pollock; Mick Bailey; Matt J Keeling\n",
       "...                                                 ...                                                                                                                                                                                                                                                                                                          ...\n",
       "7067   écanismes d’émergence virale et transmission ...                                                                                                                                                                                                                                                                                             Gessain, Antoine\n",
       "7686  Can we contain the COVID-19 outbreak with the ...                                                                                                                                                                                                                                                       Wilder-Smith, Annelies; Chiew, Calvin J; Lee, Vernon J\n",
       "7725  Inactivation photochimique des pathogènes des ...                                                                                                                                                                                                                                                                                              Cazenave, J.-P.\n",
       "9301  Early dynamics of transmission and control of ...  Kucharski, Adam J; Russell, Timothy W; Diamond, Charlie; Liu, Yang; Edmunds, John; Funk, Sebastian; Eggo, Rosalind M; Sun, Fiona; Jit, Mark; Munday, James D; Davies, Nicholas; Gimma, Amy; van Zandvoort, Kevin; Gibbs, Hamish; Hellewell, Joel; Jarvis, Christopher I; Clifford, Sam; Quilty, Billy J;...\n",
       "9781  Need for integrative thinking to fight against...                                                                                                                                                                                   Burdet, C.; Guégan, J.-F.; Duval, X.; Le Tyrant, M.; Bergeron, H.; Manuguerra, J.-C.; Raude, J.; Leport, C.; Zylberman, P.\n",
       "\n",
       "[64 rows x 2 columns]"
      ]
     },
     "execution_count": 23,
     "metadata": {
      "tags": []
     },
     "output_type": "execute_result"
    }
   ],
   "source": [
    "df_covid[(t_found[:,2]==1)&(t_found[:,0]==1)][['title','authors']]"
   ]
  },
  {
   "cell_type": "markdown",
   "metadata": {
    "colab_type": "text",
    "id": "fReRngiNmub1"
   },
   "source": [
    "# Word Embedding\n",
    "Compute cosine similarity between questions and paper abstracts"
   ]
  },
  {
   "cell_type": "code",
   "execution_count": 0,
   "metadata": {
    "colab": {
     "base_uri": "https://localhost:8080/",
     "height": 323
    },
    "colab_type": "code",
    "id": "RaLOuLoqV9k-",
    "outputId": "3df5242a-62ff-46d8-ba21-29290524de98"
   },
   "outputs": [
    {
     "ename": "OSError",
     "evalue": "ignored",
     "output_type": "error",
     "traceback": [
      "\u001b[0;31m---------------------------------------------------------------------------\u001b[0m",
      "\u001b[0;31mOSError\u001b[0m                                   Traceback (most recent call last)",
      "\u001b[0;32m<ipython-input-30-ceb8f64bba80>\u001b[0m in \u001b[0;36m<module>\u001b[0;34m()\u001b[0m\n\u001b[0;32m----> 1\u001b[0;31m \u001b[0mnlp\u001b[0m \u001b[0;34m=\u001b[0m \u001b[0mspacy\u001b[0m\u001b[0;34m.\u001b[0m\u001b[0mload\u001b[0m\u001b[0;34m(\u001b[0m\u001b[0;34m'en_core_web_lg'\u001b[0m\u001b[0;34m)\u001b[0m\u001b[0;34m\u001b[0m\u001b[0;34m\u001b[0m\u001b[0m\n\u001b[0m",
      "\u001b[0;32m/usr/local/lib/python3.6/dist-packages/spacy/__init__.py\u001b[0m in \u001b[0;36mload\u001b[0;34m(name, **overrides)\u001b[0m\n\u001b[1;32m     28\u001b[0m     \u001b[0;32mif\u001b[0m \u001b[0mdepr_path\u001b[0m \u001b[0;32mnot\u001b[0m \u001b[0;32min\u001b[0m \u001b[0;34m(\u001b[0m\u001b[0;32mTrue\u001b[0m\u001b[0;34m,\u001b[0m \u001b[0;32mFalse\u001b[0m\u001b[0;34m,\u001b[0m \u001b[0;32mNone\u001b[0m\u001b[0;34m)\u001b[0m\u001b[0;34m:\u001b[0m\u001b[0;34m\u001b[0m\u001b[0;34m\u001b[0m\u001b[0m\n\u001b[1;32m     29\u001b[0m         \u001b[0mdeprecation_warning\u001b[0m\u001b[0;34m(\u001b[0m\u001b[0mWarnings\u001b[0m\u001b[0;34m.\u001b[0m\u001b[0mW001\u001b[0m\u001b[0;34m.\u001b[0m\u001b[0mformat\u001b[0m\u001b[0;34m(\u001b[0m\u001b[0mpath\u001b[0m\u001b[0;34m=\u001b[0m\u001b[0mdepr_path\u001b[0m\u001b[0;34m)\u001b[0m\u001b[0;34m)\u001b[0m\u001b[0;34m\u001b[0m\u001b[0;34m\u001b[0m\u001b[0m\n\u001b[0;32m---> 30\u001b[0;31m     \u001b[0;32mreturn\u001b[0m \u001b[0mutil\u001b[0m\u001b[0;34m.\u001b[0m\u001b[0mload_model\u001b[0m\u001b[0;34m(\u001b[0m\u001b[0mname\u001b[0m\u001b[0;34m,\u001b[0m \u001b[0;34m**\u001b[0m\u001b[0moverrides\u001b[0m\u001b[0;34m)\u001b[0m\u001b[0;34m\u001b[0m\u001b[0;34m\u001b[0m\u001b[0m\n\u001b[0m\u001b[1;32m     31\u001b[0m \u001b[0;34m\u001b[0m\u001b[0m\n\u001b[1;32m     32\u001b[0m \u001b[0;34m\u001b[0m\u001b[0m\n",
      "\u001b[0;32m/usr/local/lib/python3.6/dist-packages/spacy/util.py\u001b[0m in \u001b[0;36mload_model\u001b[0;34m(name, **overrides)\u001b[0m\n\u001b[1;32m    167\u001b[0m     \u001b[0;32melif\u001b[0m \u001b[0mhasattr\u001b[0m\u001b[0;34m(\u001b[0m\u001b[0mname\u001b[0m\u001b[0;34m,\u001b[0m \u001b[0;34m\"exists\"\u001b[0m\u001b[0;34m)\u001b[0m\u001b[0;34m:\u001b[0m  \u001b[0;31m# Path or Path-like to model data\u001b[0m\u001b[0;34m\u001b[0m\u001b[0;34m\u001b[0m\u001b[0m\n\u001b[1;32m    168\u001b[0m         \u001b[0;32mreturn\u001b[0m \u001b[0mload_model_from_path\u001b[0m\u001b[0;34m(\u001b[0m\u001b[0mname\u001b[0m\u001b[0;34m,\u001b[0m \u001b[0;34m**\u001b[0m\u001b[0moverrides\u001b[0m\u001b[0;34m)\u001b[0m\u001b[0;34m\u001b[0m\u001b[0;34m\u001b[0m\u001b[0m\n\u001b[0;32m--> 169\u001b[0;31m     \u001b[0;32mraise\u001b[0m \u001b[0mIOError\u001b[0m\u001b[0;34m(\u001b[0m\u001b[0mErrors\u001b[0m\u001b[0;34m.\u001b[0m\u001b[0mE050\u001b[0m\u001b[0;34m.\u001b[0m\u001b[0mformat\u001b[0m\u001b[0;34m(\u001b[0m\u001b[0mname\u001b[0m\u001b[0;34m=\u001b[0m\u001b[0mname\u001b[0m\u001b[0;34m)\u001b[0m\u001b[0;34m)\u001b[0m\u001b[0;34m\u001b[0m\u001b[0;34m\u001b[0m\u001b[0m\n\u001b[0m\u001b[1;32m    170\u001b[0m \u001b[0;34m\u001b[0m\u001b[0m\n\u001b[1;32m    171\u001b[0m \u001b[0;34m\u001b[0m\u001b[0m\n",
      "\u001b[0;31mOSError\u001b[0m: [E050] Can't find model 'en_core_web_lg'. It doesn't seem to be a shortcut link, a Python package or a valid path to a data directory."
     ]
    }
   ],
   "source": [
    "nlp = spacy.load('en_core_web_lg')"
   ]
  },
  {
   "cell_type": "code",
   "execution_count": 0,
   "metadata": {
    "colab": {},
    "colab_type": "code",
    "id": "fCab0dq0WAAu"
   },
   "outputs": [],
   "source": [
    "with nlp.disable_pipes():\n",
    "    vectors = np.array([nlp(text).vector for text in df_covid['abstract']])\n",
    "v_mean = np.mean(vectors,axis=0)"
   ]
  },
  {
   "cell_type": "code",
   "execution_count": 0,
   "metadata": {
    "colab": {},
    "colab_type": "code",
    "id": "VcW6w-aYWCTV"
   },
   "outputs": [],
   "source": [
    "from sklearn.metrics.pairwise import cosine_similarity"
   ]
  },
  {
   "cell_type": "code",
   "execution_count": 0,
   "metadata": {
    "colab": {},
    "colab_type": "code",
    "id": "3wCBrOlfm3s3"
   },
   "outputs": [],
   "source": [
    "q1 = 'What is known about transmission, incubation, and environmental stability?'\n",
    "\n",
    "'Range of incubation periods for the disease in humans (and how this varies across age and health status) and how long individuals are contagious, even after recovery.'\n",
    "'Prevalence of asymptomatic shedding and transmission (e.g., particularly children).''\n",
    "'Seasonality of transmission.''\n",
    "'Physical science of the coronavirus (e.g., charge distribution, adhesion to hydrophilic/phobic surfaces, environmental survival to inform decontamination efforts for affected areas and provide information about viral shedding).'\n",
    "'Persistence and stability on a multitude of substrates and sources (e.g., nasal discharge, sputum, urine, fecal matter, blood).'\n",
    "'Persistence of virus on surfaces of different materials (e,g., copper, stainless steel, plastic).'\n",
    "'Natural history of the virus and shedding of it from an infected person'\n",
    "'Implementation of diagnostics and products to improve clinical processes'\n",
    "'Disease models, including animal models for infection, disease and transmission'\n",
    "'Tools and studies to monitor phenotypic change and potential adaptation of the virus'\n",
    "'Immune response and immunity'\n",
    "'Effectiveness of movement control strategies to prevent secondary transmission in health care and community settings'\n",
    "'Effectiveness of personal protective equipment (PPE) and its usefulness to reduce risk of transmission in health care and community settings'\n",
    "'Role of the environment in transmission'"
   ]
  },
  {
   "cell_type": "code",
   "execution_count": 0,
   "metadata": {
    "colab": {},
    "colab_type": "code",
    "id": "EiO0DbbUWEPN"
   },
   "outputs": [],
   "source": [
    "qv = nlp(q1).vector\n",
    "cs = cosine_similarity(vectors-v_mean,qv.reshape(1,-1)-v_mean)\n",
    "cs.argmax()"
   ]
  },
  {
   "cell_type": "code",
   "execution_count": 0,
   "metadata": {
    "colab": {},
    "colab_type": "code",
    "id": "XgJDoz4xWR_H"
   },
   "outputs": [],
   "source": [
    "df_covid['abstract'][cs.argmax()]"
   ]
  },
  {
   "cell_type": "code",
   "execution_count": 0,
   "metadata": {
    "colab": {},
    "colab_type": "code",
    "id": "LIP-dEl0mVYX"
   },
   "outputs": [],
   "source": []
  }
 ],
 "metadata": {
  "colab": {
   "collapsed_sections": [],
   "name": "COVID19_Kaggle_Liz&Kwan.ipynb",
   "provenance": [],
   "toc_visible": true
  },
  "kernelspec": {
   "display_name": "Python 3",
   "language": "python",
   "name": "python3"
  },
  "language_info": {
   "codemirror_mode": {
    "name": "ipython",
    "version": 3
   },
   "file_extension": ".py",
   "mimetype": "text/x-python",
   "name": "python",
   "nbconvert_exporter": "python",
   "pygments_lexer": "ipython3",
   "version": "3.8.1"
  }
 },
 "nbformat": 4,
 "nbformat_minor": 1
}
