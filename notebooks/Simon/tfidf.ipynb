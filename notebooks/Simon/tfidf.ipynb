{
 "cells": [
  {
   "cell_type": "code",
   "execution_count": 8,
   "metadata": {},
   "outputs": [],
   "source": [
    "# Parameters\n",
    "numPapers = 100   # Number of papers to be loaded"
   ]
  },
  {
   "cell_type": "code",
   "execution_count": 9,
   "metadata": {},
   "outputs": [],
   "source": [
    "import pandas as pd\n",
    "import os\n",
    "\n",
    "# Git root directory (adjust to your directory)\n",
    "rootDir = \"C:/Users/Simon/Git/solid-pancovid-19\""
   ]
  },
  {
   "cell_type": "code",
   "execution_count": 10,
   "metadata": {},
   "outputs": [],
   "source": [
    "# Load metadata file into pandas dataframe\n",
    "df = pd.read_csv(os.path.join(rootDir, \"src\", \"metadata.csv\"))\n",
    "# Append keyword column to df\n",
    "df[\"fullText\"] = \"\"\n",
    "df[\"tfidfKeywords\"] = \"No tf-idf keywords available\""
   ]
  },
  {
   "cell_type": "code",
   "execution_count": 11,
   "metadata": {},
   "outputs": [],
   "source": [
    "# Cache sha keys and dictionary names for the requested number of papers\n",
    "# (iterate through dataframe, pick up all entries that have a sha key set)\n",
    "listShaKeys = []\n",
    "listDirectory = []\n",
    "listIlocIdx = []\n",
    "idx = 0\n",
    "for i in range(0, numPapers):\n",
    "    while type(df.iloc[idx][\"sha\"]) == float:\n",
    "        idx += 1\n",
    "    #print(df.iloc[idx][\"sha\"])\n",
    "    listShaKeys.append(df.iloc[idx][\"sha\"])\n",
    "    listDirectory.append(df.iloc[idx][\"full_text_file\"])\n",
    "    listIlocIdx.append(idx)\n",
    "    idx += 1"
   ]
  },
  {
   "cell_type": "code",
   "execution_count": 12,
   "metadata": {},
   "outputs": [],
   "source": [
    "# Load full texts for the requested number of papers\n",
    "import json\n",
    "\n",
    "listFullText = []\n",
    "# Loop through the papers\n",
    "for idx, shaKey in enumerate(listShaKeys):\n",
    "    # Identify json file\n",
    "    json_file = os.path.join(rootDir, \"src\", listDirectory[idx], listDirectory[idx], shaKey + \".json\")\n",
    "\n",
    "    # Load json to python dict\n",
    "    with open(json_file) as json_data:\n",
    "        data = json.load(json_data)\n",
    "\n",
    "    # Load body text to python string\n",
    "    string = \"\"\n",
    "    for entry in data[\"body_text\"]:\n",
    "        string = string + \"\\n\" + entry[\"text\"]\n",
    "    \n",
    "    # Add full text to list\n",
    "    listFullText.append(string)\n",
    "\n",
    "    df.iloc[listIlocIdx[idx], df.columns.get_loc('fullText')] = string\n",
    "\n",
    "    #print(\"Full-text added. Length=\" + str(len(string)))"
   ]
  },
  {
   "cell_type": "code",
   "execution_count": 13,
   "metadata": {
    "tags": [
     "outputPrepend",
     "outputPrepend",
     "outputPrepend",
     "outputPrepend",
     "outputPrepend",
     "outputPrepend",
     "outputPrepend",
     "outputPrepend",
     "outputPrepend",
     "outputPrepend",
     "outputPrepend",
     "outputPrepend",
     "outputPrepend",
     "outputPrepend",
     "outputPrepend",
     "outputPrepend",
     "outputPrepend",
     "outputPrepend"
    ]
   },
   "outputs": [
    {
     "output_type": "execute_result",
     "data": {
      "text/plain": "                                        sha  source_x  \\\n0                                       NaN  Elsevier   \n1                                       NaN  Elsevier   \n2                                       NaN  Elsevier   \n3  aecbc613ebdab36753235197ffb4f35734b5ca63  Elsevier   \n4                                       NaN  Elsevier   \n\n                                               title  \\\n0  Intrauterine virus infections and congenital h...   \n1                  Coronaviruses in Balkan nephritis   \n2  Cigarette smoking and coronary heart disease: ...   \n3  Clinical and immunologic studies in identical ...   \n4  Epidemiology of community-acquired respiratory...   \n\n                            doi pmcid  pubmed_id    license  \\\n0  10.1016/0002-8703(72)90077-4   NaN  4361535.0  els-covid   \n1  10.1016/0002-8703(80)90355-5   NaN  6243850.0  els-covid   \n2  10.1016/0002-8703(80)90356-7   NaN  7355701.0  els-covid   \n3  10.1016/0002-9343(73)90176-9   NaN  4579077.0  els-covid   \n4  10.1016/0002-9343(85)90361-4   NaN  4014285.0  els-covid   \n\n                                            abstract publish_time  \\\n0  Abstract The etiologic basis for the vast majo...   1972-12-31   \n1                                                NaN   1980-03-31   \n2                                                NaN   1980-03-31   \n3  Abstract Middle-aged female identical twins, o...   1973-08-31   \n4  Abstract Upper respiratory tract infections ar...   1985-06-28   \n\n                                             authors  \\\n0                                  Overall, James C.   \n1  Georgescu, Leonida; Diosi, Peter; Buţiu, Ioan;...   \n2                                   Friedman, Gary D   \n3  Brunner, Carolyn M.; Horwitz, David A.; Shann,...   \n4                              Garibaldi, Richard A.   \n\n                            journal  Microsoft Academic Paper ID  \\\n0            American Heart Journal                          NaN   \n1            American Heart Journal                          NaN   \n2            American Heart Journal                          NaN   \n3  The American Journal of Medicine                          NaN   \n4  The American Journal of Medicine                          NaN   \n\n  WHO #Covidence  has_full_text  full_text_file  \\\n0            NaN          False  custom_license   \n1            NaN          False  custom_license   \n2            NaN          False  custom_license   \n3            NaN           True  custom_license   \n4            NaN          False  custom_license   \n\n                                            fullText  \\\n0                                                      \n1                                                      \n2                                                      \n3  \\nThe patient (Fo, ) was a 58 year old mentall...   \n4                                                      \n\n                           tfidfKeywords  \n0           No tf-idf keywords available  \n1           No tf-idf keywords available  \n2           No tf-idf keywords available  \n3   klh twin sle ml patient blood loo mg  \n4           No tf-idf keywords available  ",
      "text/html": "<div>\n<style scoped>\n    .dataframe tbody tr th:only-of-type {\n        vertical-align: middle;\n    }\n\n    .dataframe tbody tr th {\n        vertical-align: top;\n    }\n\n    .dataframe thead th {\n        text-align: right;\n    }\n</style>\n<table border=\"1\" class=\"dataframe\">\n  <thead>\n    <tr style=\"text-align: right;\">\n      <th></th>\n      <th>sha</th>\n      <th>source_x</th>\n      <th>title</th>\n      <th>doi</th>\n      <th>pmcid</th>\n      <th>pubmed_id</th>\n      <th>license</th>\n      <th>abstract</th>\n      <th>publish_time</th>\n      <th>authors</th>\n      <th>journal</th>\n      <th>Microsoft Academic Paper ID</th>\n      <th>WHO #Covidence</th>\n      <th>has_full_text</th>\n      <th>full_text_file</th>\n      <th>fullText</th>\n      <th>tfidfKeywords</th>\n    </tr>\n  </thead>\n  <tbody>\n    <tr>\n      <th>0</th>\n      <td>NaN</td>\n      <td>Elsevier</td>\n      <td>Intrauterine virus infections and congenital h...</td>\n      <td>10.1016/0002-8703(72)90077-4</td>\n      <td>NaN</td>\n      <td>4361535.0</td>\n      <td>els-covid</td>\n      <td>Abstract The etiologic basis for the vast majo...</td>\n      <td>1972-12-31</td>\n      <td>Overall, James C.</td>\n      <td>American Heart Journal</td>\n      <td>NaN</td>\n      <td>NaN</td>\n      <td>False</td>\n      <td>custom_license</td>\n      <td></td>\n      <td>No tf-idf keywords available</td>\n    </tr>\n    <tr>\n      <th>1</th>\n      <td>NaN</td>\n      <td>Elsevier</td>\n      <td>Coronaviruses in Balkan nephritis</td>\n      <td>10.1016/0002-8703(80)90355-5</td>\n      <td>NaN</td>\n      <td>6243850.0</td>\n      <td>els-covid</td>\n      <td>NaN</td>\n      <td>1980-03-31</td>\n      <td>Georgescu, Leonida; Diosi, Peter; Buţiu, Ioan;...</td>\n      <td>American Heart Journal</td>\n      <td>NaN</td>\n      <td>NaN</td>\n      <td>False</td>\n      <td>custom_license</td>\n      <td></td>\n      <td>No tf-idf keywords available</td>\n    </tr>\n    <tr>\n      <th>2</th>\n      <td>NaN</td>\n      <td>Elsevier</td>\n      <td>Cigarette smoking and coronary heart disease: ...</td>\n      <td>10.1016/0002-8703(80)90356-7</td>\n      <td>NaN</td>\n      <td>7355701.0</td>\n      <td>els-covid</td>\n      <td>NaN</td>\n      <td>1980-03-31</td>\n      <td>Friedman, Gary D</td>\n      <td>American Heart Journal</td>\n      <td>NaN</td>\n      <td>NaN</td>\n      <td>False</td>\n      <td>custom_license</td>\n      <td></td>\n      <td>No tf-idf keywords available</td>\n    </tr>\n    <tr>\n      <th>3</th>\n      <td>aecbc613ebdab36753235197ffb4f35734b5ca63</td>\n      <td>Elsevier</td>\n      <td>Clinical and immunologic studies in identical ...</td>\n      <td>10.1016/0002-9343(73)90176-9</td>\n      <td>NaN</td>\n      <td>4579077.0</td>\n      <td>els-covid</td>\n      <td>Abstract Middle-aged female identical twins, o...</td>\n      <td>1973-08-31</td>\n      <td>Brunner, Carolyn M.; Horwitz, David A.; Shann,...</td>\n      <td>The American Journal of Medicine</td>\n      <td>NaN</td>\n      <td>NaN</td>\n      <td>True</td>\n      <td>custom_license</td>\n      <td>\\nThe patient (Fo, ) was a 58 year old mentall...</td>\n      <td>klh twin sle ml patient blood loo mg</td>\n    </tr>\n    <tr>\n      <th>4</th>\n      <td>NaN</td>\n      <td>Elsevier</td>\n      <td>Epidemiology of community-acquired respiratory...</td>\n      <td>10.1016/0002-9343(85)90361-4</td>\n      <td>NaN</td>\n      <td>4014285.0</td>\n      <td>els-covid</td>\n      <td>Abstract Upper respiratory tract infections ar...</td>\n      <td>1985-06-28</td>\n      <td>Garibaldi, Richard A.</td>\n      <td>The American Journal of Medicine</td>\n      <td>NaN</td>\n      <td>NaN</td>\n      <td>False</td>\n      <td>custom_license</td>\n      <td></td>\n      <td>No tf-idf keywords available</td>\n    </tr>\n  </tbody>\n</table>\n</div>"
     },
     "metadata": {},
     "execution_count": 13
    }
   ],
   "source": [
    "\"\"\"\n",
    "Extract keywords with tfidf\n",
    "\n",
    "Step 1: Build corpus from all available fullTexts\n",
    "Step 2: Extract keywords iteratively for each paper\n",
    "\"\"\"\n",
    "\n",
    "# PARAMETERS\n",
    "numKeywords = 8 # Number of keywords to be extracted\n",
    "\n",
    "# Create corpus from all available fullTexts\n",
    "corpus = []\n",
    "# Loop through all papers\n",
    "for idx in range(0, numPapers):\n",
    "    # Skip papers without fullText\n",
    "    if df.iloc[idx][\"fullText\"] != \"\":\n",
    "        # Append fulltext to corpus\n",
    "        corpus.append(df.iloc[idx][\"fullText\"])\n",
    "\n",
    "import numpy as np\n",
    "from sklearn.feature_extraction.text import TfidfVectorizer\n",
    "\n",
    "# Initialize tfidf transformer\n",
    "vectorizer = TfidfVectorizer(stop_words=\"english\", max_df=0.85, max_features=20000)\n",
    "\n",
    "# Apply tfidf to corpus\n",
    "X = vectorizer.fit_transform(corpus)\n",
    "\n",
    "# Extract keywords for each paper\n",
    "paperCounter = 0  # count only papers with available fulltext\n",
    "for i in range(0, numPapers):\n",
    "    tfidfKeywords = \"\"\n",
    "    if df.iloc[i][\"fullText\"] != \"\":\n",
    "        # Extract row from tfidf matrix\n",
    "        arr = np.squeeze(X[paperCounter].toarray())\n",
    "        paperCounter += 1\n",
    "\n",
    "        # Sort entried (descending)\n",
    "        maxArgs = np.argsort(-arr)\n",
    "\n",
    "        # Output Keywords\n",
    "        for j in maxArgs[:numKeywords]:\n",
    "            tfidfKeywords = tfidfKeywords + \" \" + vectorizer.get_feature_names()[j]\n",
    "            #print(\"Keyword: \", vectorizer.get_feature_names()[j], \"   Score: \", arr[j])\n",
    "\n",
    "        # Write keywords to dataframe\n",
    "        df.iloc[i, df.columns.get_loc('tfidfKeywords')] = tfidfKeywords\n",
    "\n",
    "df.head()"
   ]
  },
  {
   "cell_type": "code",
   "execution_count": null,
   "metadata": {},
   "outputs": [],
   "source": []
  }
 ],
 "metadata": {
  "file_extension": ".py",
  "kernelspec": {
   "display_name": "Python 3",
   "language": "python",
   "name": "python3"
  },
  "language_info": {
   "codemirror_mode": {
    "name": "ipython",
    "version": 3
   },
   "file_extension": ".py",
   "mimetype": "text/x-python",
   "name": "python",
   "nbconvert_exporter": "python",
   "pygments_lexer": "ipython3",
   "version": "3.7.6-final"
  },
  "mimetype": "text/x-python",
  "name": "python",
  "npconvert_exporter": "python",
  "pygments_lexer": "ipython3",
  "version": 3
 },
 "nbformat": 4,
 "nbformat_minor": 2
}